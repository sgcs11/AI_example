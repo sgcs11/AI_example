{
  "cells": [
    {
      "cell_type": "code",
      "execution_count": 1,
      "metadata": {
        "colab": {
          "base_uri": "https://localhost:8080/"
        },
        "id": "89YysxjHlM-w",
        "outputId": "813e6e6e-a614-4dcc-cf37-e573418e5176"
      },
      "outputs": [
        {
          "output_type": "stream",
          "name": "stdout",
          "text": [
            "Mounted at /content/drive\n"
          ]
        }
      ],
      "source": [
        "# !pip install pandas\n",
        "# !pip install numpy\n",
        "# !pip install seaborn\n",
        "# !pip install matplotlib\n",
        "# !pip install xgboost\n",
        "# !pip install lightgbm\n",
        "# !pip install sklearn\n",
        "\n",
        "# 라이브러리 임포트\n",
        "import pandas as pd\n",
        "import numpy as np\n",
        "\n",
        "import seaborn as sns\n",
        "import matplotlib\n",
        "import matplotlib.pyplot as plt\n",
        "%matplotlib inline\n",
        "\n",
        "import xgboost\n",
        "from xgboost import XGBClassifier\n",
        "from lightgbm import LGBMClassifier\n",
        "\n",
        "from sklearn.svm import SVC\n",
        "from sklearn.tree import DecisionTreeClassifier\n",
        "from sklearn.neighbors import KNeighborsClassifier\n",
        "from sklearn.ensemble import RandomForestClassifier, AdaBoostClassifier, ExtraTreesClassifier, BaggingClassifier, GradientBoostingClassifier, VotingClassifier, StackingClassifier\n",
        "from sklearn.linear_model import LogisticRegression, LinearRegression, Ridge, RidgeCV, RidgeClassifier\n",
        "from sklearn.model_selection import train_test_split, RepeatedStratifiedKFold, GridSearchCV, RandomizedSearchCV\n",
        "\n",
        "import sklearn.metrics as metrics\n",
        "from sklearn.metrics import accuracy_score, precision_score, recall_score, f1_score, roc_auc_score, roc_curve, auc, confusion_matrix\n",
        "\n",
        "import warnings\n",
        "warnings.filterwarnings('ignore')\n",
        "\n",
        "from google.colab import drive\n",
        "drive.mount('/content/drive')"
      ]
    },
    {
      "cell_type": "markdown",
      "metadata": {
        "id": "8IUXKgjWG-rB"
      },
      "source": [
        "# EDA"
      ]
    },
    {
      "cell_type": "markdown",
      "metadata": {
        "id": "gETbIfKttNXq"
      },
      "source": [
        "## 변수 설명\n",
        "  - **int_rate** : 대출자에 부여된 이자율 (Interest rate of the loan the applicant received)\n",
        "  - **annual_inc** : 연 소득 (annual income)\n",
        "  - **dti** : 소득 대비 부채 비율 (Debt-to-income ratio)\n",
        "  - **delinq_2yrs** : 지난 2년 간 체납 발생 횟수 (Delinquencies on lines of credit in the last 2 years)\n",
        "  - **inq_last_6mths** : 지난 6개월 간 신용 조회 수 (Inquiries into the applicant's credit during the last 6 months)\n",
        "  - **pub_rec** : 파산 횟수 (Number of bankruptcies listed in the public record)\n",
        "  - **revol_bal** : 리볼빙 잔액 (Total credit revolving balance)\n",
        "  - **total_acc** : 지금까지 소유했던 신용카드 개수 (num_total_cc_accounts : Total number of credit card accounts in the applicant's history)\n",
        "  - **collections_12_mths_ex_med** : 의료부문을 제외한 지난 12개월 간 추심 발생 횟수 (num_collections_last_12m : Number of collections in the last 12 months. This excludes medical collections)\n",
        "  - **acc_now_delinq** : 대출자가 체납 상태에 있지 않은 계좌의 수 (The number of accounts on which the borrower is now delinquent)\n",
        "  - **tot_coll_amt** : 대출자에 대한 현재까지의 총 추심액 (total_collection_amount_ever : The total amount that the applicant has had against them in collections)\n",
        "  - **tot_cur_bal** : 전 계좌의 현재 통합 잔고 (Total current balance of all accounts)\n",
        "  - **chargeoff_within_12_mths** : 대출 부 신청인의 대출 신청 직전 12개월 간 세금 공제 횟수 (Number of charge-offs within last 12 months at time of application for the secondary applicant)\n",
        "  - **delinq_amnt** : 체납 금액 (delinquency amount)\n",
        "  - **tax_liens** : 세금 저당권의 수 (Number of tax liens)\n",
        "  - **emp_length1 ~ 12** : 고용 연수 (Number of years in the job)\n",
        "  - **home_ownership1 ~ 6** : 대출 신청자의 주거 소유 형태 (The ownership status of the applicant's residence)\n",
        "  - **verification_status1 ~ 3** : 공동 소득 발생 여부 및 형태 (verification_income_joint : Type of verification of the joint income)\n",
        "  - **purpose1 ~ 14** : 대출 목적 (The purpose of the loan)\n",
        "  - **initial_list_status1 ~ 2** : 최초 대출 상태 (Initial listing status of the loan)\n",
        "  - **mths_since_last_delinq1 ~ 11** : 마지막 체납이 지금으로부터 몇개월 전에 있었는지를 나타내는 변수 (Months since the last delinquency)\n",
        "  \n",
        "  - **funded_amnt** : 대출액 (Funded amount)\n",
        "  - **funded_amnt_inv** : 사채 대출액 (Funded amount by investors)\n",
        "  - **total_rec_late_fee** : 총 연체료 중 납부액 (Late fees received to date)\n",
        "  - **term1** : 상환 기간 (The number of payments on the loan. Values are in months and can be either 36 or 60)\n",
        "  - **open_acc** : 개설 개좌 수 (The number of open credit lines in the borrower's credit file)\n",
        "  - **installment** : 대출 발생 시 월 상환액 (The monthly payment owed by the borrower if the loan originates)\n",
        "  - **revol_util** : 리볼빙 한도 대비 리볼빙 사용 비율 (Revolving line utilization rate, or the amount of credit the borrower is using relative to all available revolving credit)\n",
        "  - **out_prncp** : 대출액 중 원리금 잔액 (Remaining outstanding principal for total amount funded)\n",
        "  - **out_prncp_inv** : 사채 대출액 중 원리금 잔액 (Remaining outstanding principal for total amount funded by investors)\n",
        "  - **total_rec_int** : 이자 상환액 (Interest received to date)\n",
        "  - **fico_range_low** : FICO(일종의 신용점수) 최저값 (The lower boundary range the borrower’s FICO at loan origination belongs to)\n",
        "  - **fico_range_high** : FICO(일종의 신용점수) 최고값 (The upper boundary range the borrower’s FICO at loan origination belongs to)\n",
        "  \n",
        "  - **depvar** : 고객의 부도 여부 (dependent variable)"
      ]
    },
    {
      "cell_type": "code",
      "execution_count": 2,
      "metadata": {
        "colab": {
          "base_uri": "https://localhost:8080/",
          "height": 270
        },
        "id": "d99i4isHtNXr",
        "outputId": "0d26948e-15d1-43ae-9c40-b3eefe7d9699"
      },
      "outputs": [
        {
          "output_type": "execute_result",
          "data": {
            "text/html": [
              "\n",
              "  <div id=\"df-c063c3fb-6f70-4b76-be1a-3ddf7cc65996\">\n",
              "    <div class=\"colab-df-container\">\n",
              "      <div>\n",
              "<style scoped>\n",
              "    .dataframe tbody tr th:only-of-type {\n",
              "        vertical-align: middle;\n",
              "    }\n",
              "\n",
              "    .dataframe tbody tr th {\n",
              "        vertical-align: top;\n",
              "    }\n",
              "\n",
              "    .dataframe thead th {\n",
              "        text-align: right;\n",
              "    }\n",
              "</style>\n",
              "<table border=\"1\" class=\"dataframe\">\n",
              "  <thead>\n",
              "    <tr style=\"text-align: right;\">\n",
              "      <th></th>\n",
              "      <th>int_rate</th>\n",
              "      <th>annual_inc</th>\n",
              "      <th>dti</th>\n",
              "      <th>delinq_2yrs</th>\n",
              "      <th>inq_last_6mths</th>\n",
              "      <th>pub_rec</th>\n",
              "      <th>revol_bal</th>\n",
              "      <th>total_acc</th>\n",
              "      <th>collections_12_mths_ex_med</th>\n",
              "      <th>acc_now_delinq</th>\n",
              "      <th>tot_coll_amt</th>\n",
              "      <th>tot_cur_bal</th>\n",
              "      <th>chargeoff_within_12_mths</th>\n",
              "      <th>delinq_amnt</th>\n",
              "      <th>tax_liens</th>\n",
              "      <th>emp_length1</th>\n",
              "      <th>emp_length2</th>\n",
              "      <th>emp_length3</th>\n",
              "      <th>emp_length4</th>\n",
              "      <th>emp_length5</th>\n",
              "      <th>emp_length6</th>\n",
              "      <th>emp_length7</th>\n",
              "      <th>emp_length8</th>\n",
              "      <th>emp_length9</th>\n",
              "      <th>emp_length10</th>\n",
              "      <th>emp_length11</th>\n",
              "      <th>emp_length12</th>\n",
              "      <th>home_ownership1</th>\n",
              "      <th>home_ownership2</th>\n",
              "      <th>home_ownership3</th>\n",
              "      <th>home_ownership4</th>\n",
              "      <th>home_ownership5</th>\n",
              "      <th>home_ownership6</th>\n",
              "      <th>verification_status1</th>\n",
              "      <th>verification_status2</th>\n",
              "      <th>verification_status3</th>\n",
              "      <th>purpose1</th>\n",
              "      <th>purpose2</th>\n",
              "      <th>purpose3</th>\n",
              "      <th>purpose4</th>\n",
              "      <th>purpose5</th>\n",
              "      <th>purpose6</th>\n",
              "      <th>purpose7</th>\n",
              "      <th>purpose8</th>\n",
              "      <th>purpose9</th>\n",
              "      <th>purpose10</th>\n",
              "      <th>purpose11</th>\n",
              "      <th>purpose12</th>\n",
              "      <th>purpose13</th>\n",
              "      <th>purpose14</th>\n",
              "      <th>initial_list_status1</th>\n",
              "      <th>initial_list_status2</th>\n",
              "      <th>mths_since_last_delinq1</th>\n",
              "      <th>mths_since_last_delinq2</th>\n",
              "      <th>mths_since_last_delinq3</th>\n",
              "      <th>mths_since_last_delinq4</th>\n",
              "      <th>mths_since_last_delinq5</th>\n",
              "      <th>mths_since_last_delinq6</th>\n",
              "      <th>mths_since_last_delinq7</th>\n",
              "      <th>mths_since_last_delinq8</th>\n",
              "      <th>mths_since_last_delinq9</th>\n",
              "      <th>mths_since_last_delinq10</th>\n",
              "      <th>mths_since_last_delinq11</th>\n",
              "      <th>funded_amnt</th>\n",
              "      <th>funded_amnt_inv</th>\n",
              "      <th>total_rec_late_fee</th>\n",
              "      <th>term1</th>\n",
              "      <th>open_acc</th>\n",
              "      <th>installment</th>\n",
              "      <th>revol_util</th>\n",
              "      <th>out_prncp</th>\n",
              "      <th>out_prncp_inv</th>\n",
              "      <th>total_rec_int</th>\n",
              "      <th>fico_range_low</th>\n",
              "      <th>fico_range_high</th>\n",
              "      <th>depvar</th>\n",
              "    </tr>\n",
              "  </thead>\n",
              "  <tbody>\n",
              "    <tr>\n",
              "      <th>0</th>\n",
              "      <td>0.0824</td>\n",
              "      <td>21000.0</td>\n",
              "      <td>29.19</td>\n",
              "      <td>0</td>\n",
              "      <td>1</td>\n",
              "      <td>0</td>\n",
              "      <td>3016</td>\n",
              "      <td>26</td>\n",
              "      <td>0</td>\n",
              "      <td>0</td>\n",
              "      <td>0</td>\n",
              "      <td>11773</td>\n",
              "      <td>0</td>\n",
              "      <td>0</td>\n",
              "      <td>0</td>\n",
              "      <td>1</td>\n",
              "      <td>0</td>\n",
              "      <td>0</td>\n",
              "      <td>0</td>\n",
              "      <td>0</td>\n",
              "      <td>0</td>\n",
              "      <td>0</td>\n",
              "      <td>0</td>\n",
              "      <td>0</td>\n",
              "      <td>0</td>\n",
              "      <td>0</td>\n",
              "      <td>0</td>\n",
              "      <td>0</td>\n",
              "      <td>0</td>\n",
              "      <td>0</td>\n",
              "      <td>0</td>\n",
              "      <td>0</td>\n",
              "      <td>1</td>\n",
              "      <td>0</td>\n",
              "      <td>1</td>\n",
              "      <td>0</td>\n",
              "      <td>0</td>\n",
              "      <td>1</td>\n",
              "      <td>0</td>\n",
              "      <td>0</td>\n",
              "      <td>0</td>\n",
              "      <td>0</td>\n",
              "      <td>0</td>\n",
              "      <td>0</td>\n",
              "      <td>0</td>\n",
              "      <td>0</td>\n",
              "      <td>0</td>\n",
              "      <td>0</td>\n",
              "      <td>0</td>\n",
              "      <td>0</td>\n",
              "      <td>0</td>\n",
              "      <td>1</td>\n",
              "      <td>1</td>\n",
              "      <td>0</td>\n",
              "      <td>0</td>\n",
              "      <td>0</td>\n",
              "      <td>0</td>\n",
              "      <td>0</td>\n",
              "      <td>0</td>\n",
              "      <td>0</td>\n",
              "      <td>0</td>\n",
              "      <td>0</td>\n",
              "      <td>0</td>\n",
              "      <td>1200</td>\n",
              "      <td>1200.0</td>\n",
              "      <td>0.0</td>\n",
              "      <td>1</td>\n",
              "      <td>18</td>\n",
              "      <td>37.74</td>\n",
              "      <td>0.076</td>\n",
              "      <td>0.0</td>\n",
              "      <td>0.0</td>\n",
              "      <td>157.94</td>\n",
              "      <td>765</td>\n",
              "      <td>769</td>\n",
              "      <td>0</td>\n",
              "    </tr>\n",
              "    <tr>\n",
              "      <th>1</th>\n",
              "      <td>0.1299</td>\n",
              "      <td>80000.0</td>\n",
              "      <td>4.82</td>\n",
              "      <td>0</td>\n",
              "      <td>1</td>\n",
              "      <td>1</td>\n",
              "      <td>5722</td>\n",
              "      <td>24</td>\n",
              "      <td>0</td>\n",
              "      <td>0</td>\n",
              "      <td>0</td>\n",
              "      <td>21875</td>\n",
              "      <td>0</td>\n",
              "      <td>0</td>\n",
              "      <td>0</td>\n",
              "      <td>0</td>\n",
              "      <td>1</td>\n",
              "      <td>0</td>\n",
              "      <td>0</td>\n",
              "      <td>0</td>\n",
              "      <td>0</td>\n",
              "      <td>0</td>\n",
              "      <td>0</td>\n",
              "      <td>0</td>\n",
              "      <td>0</td>\n",
              "      <td>0</td>\n",
              "      <td>0</td>\n",
              "      <td>0</td>\n",
              "      <td>0</td>\n",
              "      <td>0</td>\n",
              "      <td>0</td>\n",
              "      <td>0</td>\n",
              "      <td>1</td>\n",
              "      <td>0</td>\n",
              "      <td>0</td>\n",
              "      <td>1</td>\n",
              "      <td>0</td>\n",
              "      <td>0</td>\n",
              "      <td>1</td>\n",
              "      <td>0</td>\n",
              "      <td>0</td>\n",
              "      <td>0</td>\n",
              "      <td>0</td>\n",
              "      <td>0</td>\n",
              "      <td>0</td>\n",
              "      <td>0</td>\n",
              "      <td>0</td>\n",
              "      <td>0</td>\n",
              "      <td>0</td>\n",
              "      <td>0</td>\n",
              "      <td>0</td>\n",
              "      <td>1</td>\n",
              "      <td>1</td>\n",
              "      <td>0</td>\n",
              "      <td>0</td>\n",
              "      <td>0</td>\n",
              "      <td>0</td>\n",
              "      <td>0</td>\n",
              "      <td>0</td>\n",
              "      <td>0</td>\n",
              "      <td>0</td>\n",
              "      <td>0</td>\n",
              "      <td>0</td>\n",
              "      <td>8000</td>\n",
              "      <td>8000.0</td>\n",
              "      <td>0.0</td>\n",
              "      <td>1</td>\n",
              "      <td>8</td>\n",
              "      <td>269.52</td>\n",
              "      <td>0.447</td>\n",
              "      <td>0.0</td>\n",
              "      <td>0.0</td>\n",
              "      <td>1702.42</td>\n",
              "      <td>665</td>\n",
              "      <td>669</td>\n",
              "      <td>0</td>\n",
              "    </tr>\n",
              "    <tr>\n",
              "      <th>2</th>\n",
              "      <td>0.1299</td>\n",
              "      <td>38000.0</td>\n",
              "      <td>23.66</td>\n",
              "      <td>0</td>\n",
              "      <td>3</td>\n",
              "      <td>0</td>\n",
              "      <td>6511</td>\n",
              "      <td>18</td>\n",
              "      <td>0</td>\n",
              "      <td>0</td>\n",
              "      <td>0</td>\n",
              "      <td>31868</td>\n",
              "      <td>0</td>\n",
              "      <td>0</td>\n",
              "      <td>0</td>\n",
              "      <td>0</td>\n",
              "      <td>0</td>\n",
              "      <td>0</td>\n",
              "      <td>1</td>\n",
              "      <td>0</td>\n",
              "      <td>0</td>\n",
              "      <td>0</td>\n",
              "      <td>0</td>\n",
              "      <td>0</td>\n",
              "      <td>0</td>\n",
              "      <td>0</td>\n",
              "      <td>0</td>\n",
              "      <td>0</td>\n",
              "      <td>0</td>\n",
              "      <td>0</td>\n",
              "      <td>0</td>\n",
              "      <td>0</td>\n",
              "      <td>1</td>\n",
              "      <td>0</td>\n",
              "      <td>1</td>\n",
              "      <td>0</td>\n",
              "      <td>0</td>\n",
              "      <td>0</td>\n",
              "      <td>1</td>\n",
              "      <td>0</td>\n",
              "      <td>0</td>\n",
              "      <td>0</td>\n",
              "      <td>0</td>\n",
              "      <td>0</td>\n",
              "      <td>0</td>\n",
              "      <td>0</td>\n",
              "      <td>0</td>\n",
              "      <td>0</td>\n",
              "      <td>0</td>\n",
              "      <td>0</td>\n",
              "      <td>0</td>\n",
              "      <td>1</td>\n",
              "      <td>0</td>\n",
              "      <td>0</td>\n",
              "      <td>0</td>\n",
              "      <td>0</td>\n",
              "      <td>0</td>\n",
              "      <td>0</td>\n",
              "      <td>0</td>\n",
              "      <td>0</td>\n",
              "      <td>0</td>\n",
              "      <td>0</td>\n",
              "      <td>1</td>\n",
              "      <td>5000</td>\n",
              "      <td>5000.0</td>\n",
              "      <td>0.0</td>\n",
              "      <td>1</td>\n",
              "      <td>7</td>\n",
              "      <td>168.45</td>\n",
              "      <td>0.880</td>\n",
              "      <td>0.0</td>\n",
              "      <td>0.0</td>\n",
              "      <td>1066.64</td>\n",
              "      <td>670</td>\n",
              "      <td>674</td>\n",
              "      <td>0</td>\n",
              "    </tr>\n",
              "    <tr>\n",
              "      <th>3</th>\n",
              "      <td>0.1367</td>\n",
              "      <td>100000.0</td>\n",
              "      <td>16.27</td>\n",
              "      <td>4</td>\n",
              "      <td>2</td>\n",
              "      <td>0</td>\n",
              "      <td>6849</td>\n",
              "      <td>30</td>\n",
              "      <td>0</td>\n",
              "      <td>0</td>\n",
              "      <td>0</td>\n",
              "      <td>326049</td>\n",
              "      <td>0</td>\n",
              "      <td>0</td>\n",
              "      <td>0</td>\n",
              "      <td>0</td>\n",
              "      <td>0</td>\n",
              "      <td>1</td>\n",
              "      <td>0</td>\n",
              "      <td>0</td>\n",
              "      <td>0</td>\n",
              "      <td>0</td>\n",
              "      <td>0</td>\n",
              "      <td>0</td>\n",
              "      <td>0</td>\n",
              "      <td>0</td>\n",
              "      <td>0</td>\n",
              "      <td>0</td>\n",
              "      <td>1</td>\n",
              "      <td>0</td>\n",
              "      <td>0</td>\n",
              "      <td>0</td>\n",
              "      <td>0</td>\n",
              "      <td>0</td>\n",
              "      <td>0</td>\n",
              "      <td>1</td>\n",
              "      <td>0</td>\n",
              "      <td>0</td>\n",
              "      <td>1</td>\n",
              "      <td>0</td>\n",
              "      <td>0</td>\n",
              "      <td>0</td>\n",
              "      <td>0</td>\n",
              "      <td>0</td>\n",
              "      <td>0</td>\n",
              "      <td>0</td>\n",
              "      <td>0</td>\n",
              "      <td>0</td>\n",
              "      <td>0</td>\n",
              "      <td>0</td>\n",
              "      <td>0</td>\n",
              "      <td>1</td>\n",
              "      <td>0</td>\n",
              "      <td>0</td>\n",
              "      <td>0</td>\n",
              "      <td>0</td>\n",
              "      <td>1</td>\n",
              "      <td>0</td>\n",
              "      <td>0</td>\n",
              "      <td>0</td>\n",
              "      <td>0</td>\n",
              "      <td>0</td>\n",
              "      <td>0</td>\n",
              "      <td>15000</td>\n",
              "      <td>15000.0</td>\n",
              "      <td>0.0</td>\n",
              "      <td>1</td>\n",
              "      <td>12</td>\n",
              "      <td>510.27</td>\n",
              "      <td>0.457</td>\n",
              "      <td>0.0</td>\n",
              "      <td>0.0</td>\n",
              "      <td>1256.24</td>\n",
              "      <td>680</td>\n",
              "      <td>684</td>\n",
              "      <td>1</td>\n",
              "    </tr>\n",
              "    <tr>\n",
              "      <th>4</th>\n",
              "      <td>0.1269</td>\n",
              "      <td>30000.0</td>\n",
              "      <td>25.28</td>\n",
              "      <td>0</td>\n",
              "      <td>1</td>\n",
              "      <td>2</td>\n",
              "      <td>8197</td>\n",
              "      <td>12</td>\n",
              "      <td>0</td>\n",
              "      <td>0</td>\n",
              "      <td>2506</td>\n",
              "      <td>8840</td>\n",
              "      <td>0</td>\n",
              "      <td>0</td>\n",
              "      <td>0</td>\n",
              "      <td>0</td>\n",
              "      <td>0</td>\n",
              "      <td>0</td>\n",
              "      <td>1</td>\n",
              "      <td>0</td>\n",
              "      <td>0</td>\n",
              "      <td>0</td>\n",
              "      <td>0</td>\n",
              "      <td>0</td>\n",
              "      <td>0</td>\n",
              "      <td>0</td>\n",
              "      <td>0</td>\n",
              "      <td>0</td>\n",
              "      <td>0</td>\n",
              "      <td>0</td>\n",
              "      <td>0</td>\n",
              "      <td>0</td>\n",
              "      <td>1</td>\n",
              "      <td>0</td>\n",
              "      <td>1</td>\n",
              "      <td>0</td>\n",
              "      <td>0</td>\n",
              "      <td>0</td>\n",
              "      <td>1</td>\n",
              "      <td>0</td>\n",
              "      <td>0</td>\n",
              "      <td>0</td>\n",
              "      <td>0</td>\n",
              "      <td>0</td>\n",
              "      <td>0</td>\n",
              "      <td>0</td>\n",
              "      <td>0</td>\n",
              "      <td>0</td>\n",
              "      <td>0</td>\n",
              "      <td>0</td>\n",
              "      <td>0</td>\n",
              "      <td>1</td>\n",
              "      <td>1</td>\n",
              "      <td>0</td>\n",
              "      <td>0</td>\n",
              "      <td>0</td>\n",
              "      <td>0</td>\n",
              "      <td>0</td>\n",
              "      <td>0</td>\n",
              "      <td>0</td>\n",
              "      <td>0</td>\n",
              "      <td>0</td>\n",
              "      <td>0</td>\n",
              "      <td>10000</td>\n",
              "      <td>10000.0</td>\n",
              "      <td>0.0</td>\n",
              "      <td>1</td>\n",
              "      <td>8</td>\n",
              "      <td>335.45</td>\n",
              "      <td>0.416</td>\n",
              "      <td>0.0</td>\n",
              "      <td>0.0</td>\n",
              "      <td>871.04</td>\n",
              "      <td>660</td>\n",
              "      <td>664</td>\n",
              "      <td>1</td>\n",
              "    </tr>\n",
              "  </tbody>\n",
              "</table>\n",
              "</div>\n",
              "      <button class=\"colab-df-convert\" onclick=\"convertToInteractive('df-c063c3fb-6f70-4b76-be1a-3ddf7cc65996')\"\n",
              "              title=\"Convert this dataframe to an interactive table.\"\n",
              "              style=\"display:none;\">\n",
              "        \n",
              "  <svg xmlns=\"http://www.w3.org/2000/svg\" height=\"24px\"viewBox=\"0 0 24 24\"\n",
              "       width=\"24px\">\n",
              "    <path d=\"M0 0h24v24H0V0z\" fill=\"none\"/>\n",
              "    <path d=\"M18.56 5.44l.94 2.06.94-2.06 2.06-.94-2.06-.94-.94-2.06-.94 2.06-2.06.94zm-11 1L8.5 8.5l.94-2.06 2.06-.94-2.06-.94L8.5 2.5l-.94 2.06-2.06.94zm10 10l.94 2.06.94-2.06 2.06-.94-2.06-.94-.94-2.06-.94 2.06-2.06.94z\"/><path d=\"M17.41 7.96l-1.37-1.37c-.4-.4-.92-.59-1.43-.59-.52 0-1.04.2-1.43.59L10.3 9.45l-7.72 7.72c-.78.78-.78 2.05 0 2.83L4 21.41c.39.39.9.59 1.41.59.51 0 1.02-.2 1.41-.59l7.78-7.78 2.81-2.81c.8-.78.8-2.07 0-2.86zM5.41 20L4 18.59l7.72-7.72 1.47 1.35L5.41 20z\"/>\n",
              "  </svg>\n",
              "      </button>\n",
              "      \n",
              "  <style>\n",
              "    .colab-df-container {\n",
              "      display:flex;\n",
              "      flex-wrap:wrap;\n",
              "      gap: 12px;\n",
              "    }\n",
              "\n",
              "    .colab-df-convert {\n",
              "      background-color: #E8F0FE;\n",
              "      border: none;\n",
              "      border-radius: 50%;\n",
              "      cursor: pointer;\n",
              "      display: none;\n",
              "      fill: #1967D2;\n",
              "      height: 32px;\n",
              "      padding: 0 0 0 0;\n",
              "      width: 32px;\n",
              "    }\n",
              "\n",
              "    .colab-df-convert:hover {\n",
              "      background-color: #E2EBFA;\n",
              "      box-shadow: 0px 1px 2px rgba(60, 64, 67, 0.3), 0px 1px 3px 1px rgba(60, 64, 67, 0.15);\n",
              "      fill: #174EA6;\n",
              "    }\n",
              "\n",
              "    [theme=dark] .colab-df-convert {\n",
              "      background-color: #3B4455;\n",
              "      fill: #D2E3FC;\n",
              "    }\n",
              "\n",
              "    [theme=dark] .colab-df-convert:hover {\n",
              "      background-color: #434B5C;\n",
              "      box-shadow: 0px 1px 3px 1px rgba(0, 0, 0, 0.15);\n",
              "      filter: drop-shadow(0px 1px 2px rgba(0, 0, 0, 0.3));\n",
              "      fill: #FFFFFF;\n",
              "    }\n",
              "  </style>\n",
              "\n",
              "      <script>\n",
              "        const buttonEl =\n",
              "          document.querySelector('#df-c063c3fb-6f70-4b76-be1a-3ddf7cc65996 button.colab-df-convert');\n",
              "        buttonEl.style.display =\n",
              "          google.colab.kernel.accessAllowed ? 'block' : 'none';\n",
              "\n",
              "        async function convertToInteractive(key) {\n",
              "          const element = document.querySelector('#df-c063c3fb-6f70-4b76-be1a-3ddf7cc65996');\n",
              "          const dataTable =\n",
              "            await google.colab.kernel.invokeFunction('convertToInteractive',\n",
              "                                                     [key], {});\n",
              "          if (!dataTable) return;\n",
              "\n",
              "          const docLinkHtml = 'Like what you see? Visit the ' +\n",
              "            '<a target=\"_blank\" href=https://colab.research.google.com/notebooks/data_table.ipynb>data table notebook</a>'\n",
              "            + ' to learn more about interactive tables.';\n",
              "          element.innerHTML = '';\n",
              "          dataTable['output_type'] = 'display_data';\n",
              "          await google.colab.output.renderOutput(dataTable, element);\n",
              "          const docLink = document.createElement('div');\n",
              "          docLink.innerHTML = docLinkHtml;\n",
              "          element.appendChild(docLink);\n",
              "        }\n",
              "      </script>\n",
              "    </div>\n",
              "  </div>\n",
              "  "
            ],
            "text/plain": [
              "   int_rate  annual_inc    dti  ...  fico_range_low  fico_range_high  depvar\n",
              "0    0.0824     21000.0  29.19  ...             765              769       0\n",
              "1    0.1299     80000.0   4.82  ...             665              669       0\n",
              "2    0.1299     38000.0  23.66  ...             670              674       0\n",
              "3    0.1367    100000.0  16.27  ...             680              684       1\n",
              "4    0.1269     30000.0  25.28  ...             660              664       1\n",
              "\n",
              "[5 rows x 76 columns]"
            ]
          },
          "metadata": {},
          "execution_count": 2
        }
      ],
      "source": [
        "df = pd.read_csv('/content/drive/MyDrive/Colab Notebooks/220126/data/train.csv')\n",
        "df.head()"
      ]
    },
    {
      "cell_type": "markdown",
      "metadata": {
        "id": "nxjpkcYVyJ7p"
      },
      "source": [
        "### 컬럼 합쳐주기"
      ]
    },
    {
      "cell_type": "code",
      "execution_count": null,
      "metadata": {
        "id": "MbYv-wXr5Ina"
      },
      "outputs": [],
      "source": [
        "df['emp_length'] = 0\n",
        "\n",
        "for i, column in enumerate(df.loc[:,'emp_length1':'emp_length12'].columns,1):\n",
        "    for j, data in enumerate(df[column]):\n",
        "        if data == 1:\n",
        "            df['emp_length'][j] = i\n",
        "\n",
        "sum(df['emp_length'] > 0)"
      ]
    },
    {
      "cell_type": "code",
      "execution_count": null,
      "metadata": {
        "id": "iaUrJ1Mp19rf"
      },
      "outputs": [],
      "source": [
        "df = df.drop(df.loc[:,'emp_length1':'emp_length12'].columns, axis=1)"
      ]
    },
    {
      "cell_type": "code",
      "execution_count": null,
      "metadata": {
        "id": "ZHgDJ0AF609d"
      },
      "outputs": [],
      "source": [
        "df['home_ownership'] = 0\n",
        "\n",
        "for i, column in enumerate(df.loc[:,'home_ownership1':'home_ownership6'].columns,1):\n",
        "    for j, data in enumerate(df[column]):\n",
        "        if data == 1:\n",
        "            df['home_ownership'][j] = i\n",
        "\n",
        "sum(df['home_ownership'] > 0)"
      ]
    },
    {
      "cell_type": "code",
      "execution_count": null,
      "metadata": {
        "id": "VLfHFONw69Ev"
      },
      "outputs": [],
      "source": [
        "df = df.drop(df.loc[:,'home_ownership1':'home_ownership6'].columns, axis=1)"
      ]
    },
    {
      "cell_type": "code",
      "execution_count": null,
      "metadata": {
        "id": "JFwOdW7A7M11"
      },
      "outputs": [],
      "source": [
        "df['verification_status'] = 0\n",
        "\n",
        "for i, column in enumerate(df.loc[:,'verification_status1':'verification_status3'].columns,1):\n",
        "    for j, data in enumerate(df[column]):\n",
        "        if data == 1:\n",
        "            df['verification_status'][j] = i\n",
        "\n",
        "sum(df['verification_status'] > 0)"
      ]
    },
    {
      "cell_type": "code",
      "execution_count": null,
      "metadata": {
        "id": "jz5E5csO7iv9"
      },
      "outputs": [],
      "source": [
        "df = df.drop(df.loc[:,'verification_status1':'verification_status3'].columns, axis=1)"
      ]
    },
    {
      "cell_type": "code",
      "execution_count": null,
      "metadata": {
        "id": "mFJq8JoG7nPe"
      },
      "outputs": [],
      "source": [
        "df['purpose'] = 0\n",
        "\n",
        "for i, column in enumerate(df.loc[:,'purpose1':'purpose14'].columns,1):\n",
        "    for j, data in enumerate(df[column]):\n",
        "        if data == 1:\n",
        "            df['purpose'][j] = i\n",
        "\n",
        "sum(df['purpose'] > 0)"
      ]
    },
    {
      "cell_type": "code",
      "execution_count": null,
      "metadata": {
        "id": "JzIaFL1S7xFp"
      },
      "outputs": [],
      "source": [
        "df = df.drop(df.loc[:,'purpose1':'purpose14'].columns, axis=1)"
      ]
    },
    {
      "cell_type": "code",
      "execution_count": null,
      "metadata": {
        "id": "azRBjtt070MR"
      },
      "outputs": [],
      "source": [
        "df['initial_list_status'] = 0\n",
        "\n",
        "for i, column in enumerate(df.loc[:,'initial_list_status1':'initial_list_status2'].columns,1):\n",
        "    for j, data in enumerate(df[column]):\n",
        "        if data == 1:\n",
        "            df['initial_list_status'][j] = i\n",
        "\n",
        "sum(df['initial_list_status'] > 0)"
      ]
    },
    {
      "cell_type": "code",
      "execution_count": null,
      "metadata": {
        "id": "Jcy9_I8l7--k"
      },
      "outputs": [],
      "source": [
        "df = df.drop(df.loc[:,'initial_list_status1':'initial_list_status2'].columns, axis=1)"
      ]
    },
    {
      "cell_type": "code",
      "execution_count": null,
      "metadata": {
        "id": "xgqw4JzC8BLu"
      },
      "outputs": [],
      "source": [
        "df['mths_since_last_delinq'] = 0\n",
        "\n",
        "for i, column in enumerate(df.loc[:,'mths_since_last_delinq1':'mths_since_last_delinq11'].columns,1):\n",
        "    for j, data in enumerate(df[column]):\n",
        "        if data == 1:\n",
        "            df['mths_since_last_delinq'][j] = i\n",
        "\n",
        "sum(df['mths_since_last_delinq'] > 0)"
      ]
    },
    {
      "cell_type": "code",
      "execution_count": null,
      "metadata": {
        "id": "jTbdMeeV8I0v"
      },
      "outputs": [],
      "source": [
        "df = df.drop(df.loc[:,'mths_since_last_delinq1':'mths_since_last_delinq11'].columns, axis=1)"
      ]
    },
    {
      "cell_type": "code",
      "execution_count": null,
      "metadata": {
        "id": "Dqr8fhCA0zPH"
      },
      "outputs": [],
      "source": [
        "df.head()"
      ]
    },
    {
      "cell_type": "code",
      "execution_count": null,
      "metadata": {
        "id": "eiimcNADlPRg"
      },
      "outputs": [],
      "source": [
        "df.info()"
      ]
    },
    {
      "cell_type": "code",
      "execution_count": null,
      "metadata": {
        "id": "nnVGUuUElPUA"
      },
      "outputs": [],
      "source": [
        "df.describe()"
      ]
    },
    {
      "cell_type": "code",
      "execution_count": null,
      "metadata": {
        "id": "Pxj9WeWvKFnf"
      },
      "outputs": [],
      "source": [
        "# 결측치 확인\n",
        "pd.DataFrame(df.isnull().sum()).rename(columns={0:'Non-Null Count'}).T"
      ]
    },
    {
      "cell_type": "markdown",
      "metadata": {
        "id": "l167Qx7FqAKK"
      },
      "source": [
        "### 다중공선성 제거 시도"
      ]
    },
    {
      "cell_type": "code",
      "execution_count": null,
      "metadata": {
        "id": "TYXV8e78cDWr"
      },
      "outputs": [],
      "source": [
        "plt.figure(figsize = (40,40))\n",
        "sns.heatmap(df.corr(), annot=True, cmap='Blues')\n",
        "plt.show()"
      ]
    },
    {
      "cell_type": "code",
      "execution_count": null,
      "metadata": {
        "id": "QR0YQK5NlCE-"
      },
      "outputs": [],
      "source": [
        "plt.figure(figsize = (10,10))"
      ]
    },
    {
      "cell_type": "code",
      "execution_count": null,
      "metadata": {
        "id": "i6-umQ_q1pZn"
      },
      "outputs": [],
      "source": [
        "# open_acc 추가\n",
        "df = df.drop(['out_prncp_inv','funded_amnt_inv','fico_range_high','funded_amnt'],axis=1)"
      ]
    },
    {
      "cell_type": "code",
      "execution_count": null,
      "metadata": {
        "id": "IeW-h3iIg-E-"
      },
      "outputs": [],
      "source": [
        "from statsmodels.stats.outliers_influence import variance_inflation_factor\n",
        "\n",
        "vif = pd.DataFrame()\n",
        "vif[\"VIF Factor\"] = [variance_inflation_factor(\n",
        "    df.values, i) for i in range(df.shape[1])]\n",
        "vif[\"features\"] = df.columns\n",
        "vif"
      ]
    },
    {
      "cell_type": "code",
      "execution_count": null,
      "metadata": {
        "id": "M9SfmJULhXEI"
      },
      "outputs": [],
      "source": [
        "vif[vif[\"VIF Factor\"] > 10].sort_values('VIF Factor',ascending=False)"
      ]
    },
    {
      "cell_type": "code",
      "execution_count": null,
      "metadata": {
        "id": "ye4MxNgThkAw"
      },
      "outputs": [],
      "source": [
        "for column in vif[vif[\"VIF Factor\"] > 10]['features']:\n",
        "    print(column, df[column].corr(df['depvar']))"
      ]
    },
    {
      "cell_type": "code",
      "execution_count": null,
      "metadata": {
        "id": "OgE0JYkytNXw"
      },
      "outputs": [],
      "source": [
        "# 라벨(depvar) 비율 확인\n",
        "print('y=1 ratio :', df.depvar.sum()/len(df))"
      ]
    },
    {
      "cell_type": "code",
      "execution_count": null,
      "metadata": {
        "id": "o3n8rlBFtNXy"
      },
      "outputs": [],
      "source": [
        "X = df.drop('depvar', axis=1)\n",
        "y = df['depvar']"
      ]
    },
    {
      "cell_type": "markdown",
      "metadata": {
        "id": "U9jw-pcptNXy"
      },
      "source": [
        "# Train Valid Split"
      ]
    },
    {
      "cell_type": "code",
      "execution_count": null,
      "metadata": {
        "id": "j0yMaESktNXz"
      },
      "outputs": [],
      "source": [
        "# data를 training set과 validation set으로 나누기\n",
        "X_train, X_valid, y_train, y_valid = train_test_split(X, y, test_size=0.2)"
      ]
    },
    {
      "cell_type": "code",
      "execution_count": null,
      "metadata": {
        "id": "cfEJdRgHtNXz"
      },
      "outputs": [],
      "source": [
        "# training set과 validation set의 데이터 수 확인\n",
        "print('training set length :', len(X_train))\n",
        "print('validation set length :', len(X_valid))"
      ]
    },
    {
      "cell_type": "code",
      "execution_count": null,
      "metadata": {
        "id": "OFeX02z6tNXz"
      },
      "outputs": [],
      "source": [
        "# validation set의 라벨 비율 확인\n",
        "y_valid.sum()/len(y_valid)"
      ]
    },
    {
      "cell_type": "markdown",
      "metadata": {
        "id": "619L5g_G1uax"
      },
      "source": [
        "### Robust scaler(median & IQR) -> StandardScaler로 변경"
      ]
    },
    {
      "cell_type": "code",
      "execution_count": null,
      "metadata": {
        "id": "7MtAM3y9yyE8"
      },
      "outputs": [],
      "source": [
        "from sklearn.preprocessing import RobustScaler\n",
        "sc = RobustScaler()\n",
        "print(sc.fit(X_train))\n",
        "X_train_scaled = sc.transform(X_train)\n",
        "X_valid_scaled = sc.transform(X_valid)\n",
        "\n",
        "X_train = pd.DataFrame(X_train_scaled, index=X_train.index, columns=X_train.columns)\n",
        "X_valid = pd.DataFrame(X_valid_scaled, index=X_valid.index, columns=X_valid.columns)"
      ]
    },
    {
      "cell_type": "markdown",
      "metadata": {
        "id": "EKUGjaLDzHLS"
      },
      "source": [
        "### Oversampling Undersampling"
      ]
    },
    {
      "cell_type": "code",
      "execution_count": null,
      "metadata": {
        "id": "5DXvTkMBNy32"
      },
      "outputs": [],
      "source": [
        "from imblearn.under_sampling import TomekLinks\n",
        "from imblearn.over_sampling import SMOTE"
      ]
    },
    {
      "cell_type": "code",
      "execution_count": null,
      "metadata": {
        "id": "2RdQjLdhN031"
      },
      "outputs": [],
      "source": [
        "X_train_tomek, y_train_tomek = TomekLinks().fit_resample(X_train, y_train)"
      ]
    },
    {
      "cell_type": "code",
      "execution_count": null,
      "metadata": {
        "id": "IaF7jYEV3dJz"
      },
      "outputs": [],
      "source": [
        "X_train_smote, y_train_smote = SMOTE().fit_resample(X_train, y_train)"
      ]
    },
    {
      "cell_type": "markdown",
      "metadata": {
        "id": "i4qJsie7tNX0"
      },
      "source": [
        "# Single Model(XGBoost)\n",
        "## XGBClassifier의 하이퍼 파라미터 설명\n",
        "- **LINK** : https://xgboost.readthedocs.io/en/stable/python/python_api.html#xgboost.XGBClassifier\n",
        "- **max_depth=3** : 디시전 트리의 최대 깊이\n",
        "- **learning_rate=0.1** : 0과 1 사이의 값을 가지는 부스팅에 대한 학습률(eta). 매 부스팅 단계 이후 새로이 추가된 가중치는 이 파라미터로 조정된다. 이 값이 낮을수록 보수적이며, 수렴에 필요한 더 많은 디시전 트리가 필요하다.\n",
        "- **n_estimators=100** : 라운드의 횟수 또는 부스팅된 디시전 트리의 개수\n",
        "- **silent=True** : 부스팅의 수행 동안 메시지를 출력할지에 대한 여부\n",
        "- **objective=\"reg:linear\"** : 모델이 학습할 작업의 분류, 미리 정의된 작업은 문자열로 지정이 가능하지만, 그렇지 않은 경우 콜러블callable을 만들어서 지정할 수도 있다.\n",
        "- **booster=\"gbtree\"** : 'gbtree', 'gblinear', 'dart'일 수 있다. 'dart'는 드롭아웃(dropout)이라는 특성을 추가한다(과적합 방지를 위해 무작위로 디시전 트리를 선택해 제거(드롭)한다). 'gblinear'는 정규화된 선형 모델을 만든다(디시전 트리가 아니라 라소 회귀와 유사하다).\n",
        "- **nthread=None** : 더 이상 사용되지 않는다.\n",
        "- **n_jobs** : 사용할 스레드의 개수\n",
        "- **gamma=0** : 노드 분할에 필요한 최소 손실 감소\n",
        "- **min_child_weight=1** : 자식 노드 생성에 필요한 헤시안(hessian) 합의 최솟값\n",
        "- **max_delta_step=0** : 보다 보수적으로 갱신을 수행하도록 만드는 값. 불균형 범주의 데이터셋에 대해서는 1부터 10까지의 값으로 설정한다.\n",
        "- **subsample=1** : 부스팅에 사용할 샘플의 비율\n",
        "- **colsample_bytree=1** : 부스팅에 사용할 특징 열의 비율\n",
        "- **colsample_bylevel=1** : 각 디시전 트리의 수준별 사용할 특징 열의 비율\n",
        "- **colsample_bynode=1** : 각 디시전 트리의 노드별 사용할 특징 열의 비율\n",
        "- **reg_alpha=0** : L1 정규화(가중치의 평균). 이 값이 클수록 보수적이게 된다.\n",
        "- **reg_lambda=1** : L2 정규화(가중치의 제곱근). 이 값이 클수록 보수적이게 된다.\n",
        "- **base_score=.5** : 초기 편향치(bias)\n",
        "- **seed=None** : 더 이상 사용되지 않는다.\n",
        "- **random_state=0** : 난수 생성 시드\n",
        "- **missing=None** : 누락된 데이터가 해석될 값. None은 np.nan을 의미한다.\n",
        "- **importance_type='gain'** : 특징 중요도의 유형. 'gain', 'weight', 'cover', 'total_gain', 'total_cover'로 설정될 수 있다."
      ]
    },
    {
      "cell_type": "code",
      "execution_count": null,
      "metadata": {
        "id": "W4jFuDdZG9mX"
      },
      "outputs": [],
      "source": [
        "# # 하이퍼 파라미터 튜닝\n",
        "# xgb_clf = xgboost.XGBClassifier()\n",
        "\n",
        "# param_grid = {'max_depth':[10], # 20 < 15 < 10\n",
        "#               'n_estimators':[300, 400], # 100 < 150 < 160 < 170 < 180 < 200 < 300\n",
        "#               #learning rate는 0.1이 0.001보다 높음\n",
        "#               }\n",
        "\n",
        "# cv=RepeatedStratifiedKFold(n_splits=10, n_repeats=3) #n_repeats=2\n",
        "\n",
        "# # grid_search = GridSearchCV(estimator=xgb_clf,\n",
        "# #                            param_grid=param_grid, \n",
        "# #                            n_jobs=-1,\n",
        "# #                            cv=cv,\n",
        "# #                            scoring='f1_macro', \n",
        "# #                            error_score=0) \n",
        "\n",
        "# n_estimators = [int(x) for x in range(300, 400, 5)]\n",
        "# max_features = ['log2','sqrt']\n",
        "# max_depth = [int(x) for x in range(5, 15)]\n",
        "# min_samples_split = [2, 5, 10]\n",
        "# min_samples_leaf = [1, 2, 4]\n",
        "# bootstrap = [True, False]\n",
        "\n",
        "# random_grid = {'n_estimators': n_estimators,\n",
        "#                'max_features': max_features,\n",
        "#                'max_depth': max_depth,\n",
        "#                'min_samples_split': min_samples_split,\n",
        "#                'min_samples_leaf':min_samples_leaf,\n",
        "#                'bootstrap':bootstrap}\n",
        "\n",
        "# rnd_search = RandomizedSearchCV(estimator=xgb_clf,\n",
        "#                            param_distributions=random_grid,\n",
        "#                            n_iter=50,\n",
        "#                            n_jobs=-1,\n",
        "#                            cv=cv,\n",
        "#                            scoring='f1_macro', \n",
        "#                            verbose=3,\n",
        "#                            error_score=0,\n",
        "#                            random_state=42)\n",
        "\n",
        "# results=rnd_search.fit(X_train, y_train)\n",
        "\n",
        "# results.best_params_"
      ]
    },
    {
      "cell_type": "code",
      "execution_count": null,
      "metadata": {
        "id": "7JcFCUqpG9o2"
      },
      "outputs": [],
      "source": [
        "# best parameter를 사용하여 prediction 수행\n",
        "xgb_clf_tomek = xgboost.XGBClassifier(max_depth = 10,\n",
        "                                n_estimators = 300\n",
        "                                  )\n",
        "\n",
        "xgb_clf_smote = xgboost.XGBClassifier(max_depth = 10,\n",
        "                                n_estimators = 300\n",
        "                                  )\n",
        "\n",
        "# xgb_clf_tomek = xgboost.XGBClassifier(max_depth = results.best_params_['max_depth'],\n",
        "#                                 n_estimators = results.best_params_['n_estimators'],\n",
        "#                                 max_features = results.best_params_['max_features'],\n",
        "#                                 min_samples_split = results.best_params_['min_samples_split'],\n",
        "#                                 min_samples_leaf = results.best_params_['min_samples_leaf'],\n",
        "#                                 bootstrap = results.best_params_['bootstrap'],\n",
        "#                                 eval_metric='mlogloss',\n",
        "#                                 # tree_method='gpu_hist',\n",
        "#                                 # predictor='gpu_predictor'\n",
        "#                                 )\n",
        "\n",
        "# xgb_clf_smote = xgboost.XGBClassifier(max_depth = results.best_params_['max_depth'],\n",
        "#                                 n_estimators = results.best_params_['n_estimators'],\n",
        "#                                 max_features = results.best_params_['max_features'],\n",
        "#                                 min_samples_split = results.best_params_['min_samples_split'],\n",
        "#                                 min_samples_leaf = results.best_params_['min_samples_leaf'],\n",
        "#                                 bootstrap = results.best_params_['bootstrap'],\n",
        "#                                 eval_metric='mlogloss',\n",
        "#                                 # tree_method='gpu_hist',\n",
        "#                                 # predictor='gpu_predictor'\n",
        "#                                 )\n",
        "\n",
        "xgb_clf_tomek.fit(X_train_tomek, y_train_tomek)\n",
        "xgb_clf_smote.fit(X_train_smote, y_train_smote)\n",
        "\n",
        "y_pred_xgb_tomek = xgb_clf_tomek.predict(X_valid)\n",
        "y_pred_xgb_smote = xgb_clf_smote.predict(X_valid)"
      ]
    },
    {
      "cell_type": "code",
      "execution_count": null,
      "metadata": {
        "id": "BChLR6koG9q_"
      },
      "outputs": [],
      "source": [
        "# y_valid가 0 또는 1일 확률 출력\n",
        "y_pred_prob_tomek = xgb_clf_tomek.predict_proba(X_valid)\n",
        "\n",
        "print(len(y_pred_prob_tomek))\n",
        "y_pred_prob_tomek"
      ]
    },
    {
      "cell_type": "code",
      "execution_count": null,
      "metadata": {
        "id": "r2CRychAVqgc"
      },
      "outputs": [],
      "source": [
        "y_pred_prob_smote = xgb_clf_smote.predict_proba(X_valid)\n",
        "\n",
        "print(len(y_pred_prob_smote))\n",
        "y_pred_prob_smote"
      ]
    },
    {
      "cell_type": "code",
      "execution_count": null,
      "metadata": {
        "id": "P0j21hQ5tNX2"
      },
      "outputs": [],
      "source": [
        "# y_valid가 1일 확률 출력\n",
        "y_pred_prob_smote[:,1]"
      ]
    },
    {
      "cell_type": "code",
      "execution_count": null,
      "metadata": {
        "id": "pJWFqpnQWU3W"
      },
      "outputs": [],
      "source": [
        "# y_valid가 1일 확률 출력\n",
        "y_pred_prob_tomek[:,1]"
      ]
    },
    {
      "cell_type": "code",
      "execution_count": null,
      "metadata": {
        "id": "0sN4rLY5tNX2"
      },
      "outputs": [],
      "source": [
        "# y_valid 예측값 출력\n",
        "# y_pred_prob[:,1]이 0.5(threshold)보다 큰 경우 1의 예측값을 return한다\n",
        "\n",
        "print(len(y_pred_xgb_smote))\n",
        "print(len(y_pred_xgb_tomek))\n",
        "y_pred_xgb_smote"
      ]
    },
    {
      "cell_type": "code",
      "execution_count": null,
      "metadata": {
        "id": "rOnMetARXpcH"
      },
      "outputs": [],
      "source": [
        "y_pred_xgb_tomek"
      ]
    },
    {
      "cell_type": "code",
      "execution_count": null,
      "metadata": {
        "id": "3RNfnU-RtNX2"
      },
      "outputs": [],
      "source": [
        "# 1로 예측된 y_valid 갯수 및 비율 출력\n",
        "print(y_pred_xgb_smote.sum())\n",
        "print(y_pred_xgb_smote.sum()/len(y_pred_xgb_smote))"
      ]
    },
    {
      "cell_type": "code",
      "execution_count": null,
      "metadata": {
        "id": "5GjFqNu6Xxr7"
      },
      "outputs": [],
      "source": [
        "# 1로 예측된 y_valid 갯수 및 비율 출력\n",
        "print(y_pred_xgb_tomek.sum())\n",
        "print(y_pred_xgb_tomek.sum()/len(y_pred_xgb_tomek))"
      ]
    },
    {
      "cell_type": "code",
      "execution_count": null,
      "metadata": {
        "id": "3mIAhdCstNX3"
      },
      "outputs": [],
      "source": [
        "# 평가 함수 정의\n",
        "def get_clf_eval(y_actual, y_pred):\n",
        "    accuracy = accuracy_score(y_actual, y_pred)\n",
        "    precision = precision_score(y_actual, y_pred)\n",
        "    recall = recall_score(y_actual, y_pred)\n",
        "    AUC = roc_auc_score(y_actual, y_pred)\n",
        "    F1 = f1_score(y_actual, y_pred)\n",
        "    print('\\n정확도: {:.4f}'.format(accuracy))\n",
        "    print('정밀도: {:.4f}'.format(precision))\n",
        "    print('재현율: {:.4f}'.format(recall))\n",
        "    print('AUC: {:.4f}'.format(AUC))\n",
        "    print('F1: {:.4f}'.format(F1))\n",
        "    \n",
        "    sns.heatmap(confusion_matrix(y_actual, y_pred), annot=True, fmt='d', cmap='YlGnBu')"
      ]
    },
    {
      "cell_type": "code",
      "execution_count": null,
      "metadata": {
        "id": "0JYjY0cBtNX3"
      },
      "outputs": [],
      "source": [
        "# xgboost 성능 확인\n",
        "get_clf_eval(y_valid, y_pred_xgb_smote)\n",
        "# 정확도 0.7488, 정밀도: 0.6404 재현율: 0.5105 AUC: 0.6866 F1: 0.5681"
      ]
    },
    {
      "cell_type": "code",
      "execution_count": null,
      "metadata": {
        "id": "u1POPBn5X94y"
      },
      "outputs": [],
      "source": [
        "# xgboost 성능 확인\n",
        "get_clf_eval(y_valid, y_pred_xgb_tomek)\n",
        "# 정확도: 0.7515 정밀도: 0.6324 재현율: 0.5548 AUC: 0.7002 F1: 0.5911"
      ]
    },
    {
      "cell_type": "code",
      "execution_count": null,
      "metadata": {
        "id": "kaLgKgwctNX3"
      },
      "outputs": [],
      "source": [
        "# threshold 변경 및 성능 확인\n",
        "get_clf_eval(y_valid, y_pred_prob_smote[:,1]>0.38)\n",
        "# 정확도: 0.7135 정밀도: 0.5409 재현율: 0.7592 AUC: 0.7254 F1: 0.6317"
      ]
    },
    {
      "cell_type": "code",
      "execution_count": null,
      "metadata": {
        "id": "iCJWyYhrYNjr"
      },
      "outputs": [],
      "source": [
        "# threshold 변경 및 성능 확인\n",
        "get_clf_eval(y_valid, y_pred_prob_tomek[:,1]>0.38)\n",
        "# 정확도: 0.7433 정밀도: 0.5925 재현율: 0.6636 AUC: 0.7226 F1: 0.6260"
      ]
    },
    {
      "cell_type": "markdown",
      "metadata": {
        "id": "boCb4z6Uh2TQ"
      },
      "source": [
        "### RandomForest"
      ]
    },
    {
      "cell_type": "code",
      "execution_count": null,
      "metadata": {
        "id": "IeiHpFIgiAUk"
      },
      "outputs": [],
      "source": [
        "# rnd_clf = RandomForestClassifier()\n",
        "\n",
        "# rnd_clf.fit(X_train, y_train)\n",
        "\n",
        "# y_pred = rnd_clf.predict(X_valid)\n",
        "\n",
        "# get_clf_eval(y_valid, y_pred)\n",
        "\n",
        "# param_grid = {'max_depth':[30, 32], # 10 < 20 < 25, 40, 35 < 30 < 32\n",
        "#               'n_estimators':[300, 350] # 100 < 150 < 200 < 250, 400, 350 < 300\n",
        "#               }\n",
        "\n",
        "\n",
        "# cv=RepeatedStratifiedKFold(n_splits=5, n_repeats=2) #n_repeats=2\n",
        "\n",
        "# grid_search = GridSearchCV(estimator=rnd_clf,\n",
        "#                            param_grid=param_grid, \n",
        "#                            n_jobs=-1,\n",
        "#                            cv=cv,\n",
        "#                            scoring='f1_macro', \n",
        "#                            error_score=0) \n",
        "\n",
        "# results=grid_search.fit(X_train, y_train)\n",
        "\n",
        "# results.best_params_"
      ]
    },
    {
      "cell_type": "code",
      "execution_count": null,
      "metadata": {
        "id": "S-sXyPBn-pB0"
      },
      "outputs": [],
      "source": [
        "# best parameter를 사용하여 prediction 수행\n",
        "# rnd_clf = RandomForestClassifier(max_depth = results.best_params_['max_depth'],\n",
        "#                                 n_estimators = results.best_params_['n_estimators'],\n",
        "#                                 )\n",
        "\n",
        "# rnd_clf = RandomForestClassifier(max_depth = 32,\n",
        "#                                 n_estimators = 300,\n",
        "#                                 )\n",
        "\n",
        "# rnd_clf.fit(X_train, y_train)"
      ]
    },
    {
      "cell_type": "markdown",
      "metadata": {
        "id": "kW1Mq5ZciBok"
      },
      "source": [
        "###LGBM"
      ]
    },
    {
      "cell_type": "code",
      "execution_count": null,
      "metadata": {
        "id": "TilEpODliJF-"
      },
      "outputs": [],
      "source": [
        "# lgbm_clf = LGBMClassifier()\n",
        "\n",
        "# # param_grid = {'max_depth':[15], #10, 20 < 15\n",
        "# #               'n_estimators':[400, 450] # 100 < 150 < 200 < 250 < 300, 500, 450 < 400\n",
        "# #               }\n",
        "\n",
        "\n",
        "# cv=RepeatedStratifiedKFold(n_splits=10, n_repeats=3) #n_repeats=2\n",
        "\n",
        "# # lgbm_clf = GridSearchCV(estimator=lgbm_clf,\n",
        "# #                            param_grid=param_grid, \n",
        "# #                            n_jobs=-1,\n",
        "# #                            cv=cv,\n",
        "# #                            scoring='f1_macro', \n",
        "# #                            error_score=0) \n",
        "\n",
        "# n_estimators = [int(x) for x in range(100, 450, 5)]\n",
        "# max_features = ['log2','sqrt']\n",
        "# max_depth = [int(x) for x in range(10, 20)]\n",
        "# min_samples_split = [2, 5, 10]\n",
        "# min_samples_leaf = [1, 2, 4]\n",
        "# bootstrap = [True, False]\n",
        "\n",
        "# random_grid = {'n_estimators': n_estimators,\n",
        "#                'max_features': max_features,\n",
        "#                'max_depth': max_depth,\n",
        "#                'min_samples_split': min_samples_split,\n",
        "#                'min_samples_leaf':min_samples_leaf,\n",
        "#                'bootstrap':bootstrap}\n",
        "\n",
        "# rnd_search = RandomizedSearchCV(estimator=xgb_clf,\n",
        "#                            param_distributions=random_grid,\n",
        "#                            n_iter=50,\n",
        "#                            n_jobs=-1,\n",
        "#                            cv=cv,\n",
        "#                            scoring='f1_macro', \n",
        "#                            verbose=2,\n",
        "#                            error_score=0,\n",
        "#                            random_state=42)\n",
        "\n",
        "# results=rnd_search.fit(X_train, y_train)\n",
        "\n",
        "# results.best_params_"
      ]
    },
    {
      "cell_type": "code",
      "execution_count": null,
      "metadata": {
        "id": "HLYgU4S5-rSl"
      },
      "outputs": [],
      "source": [
        "lgbm_clf_tomek = LGBMClassifier(max_depth = 15,\n",
        "                          n_estimators = 400\n",
        "                          )\n",
        "\n",
        "lgbm_clf_smote = LGBMClassifier(max_depth = 15,\n",
        "                          n_estimators = 400\n",
        "                          )\n",
        "\n",
        "# lgbm_clf_tomek = LGBMClassifier(max_depth = results.best_params_['max_depth'],\n",
        "#                                 n_estimators = results.best_params_['n_estimators'],\n",
        "#                                 max_features = results.best_params_['max_features'],\n",
        "#                                 min_samples_split = results.best_params_['min_samples_split'],\n",
        "#                                 min_samples_leaf = results.best_params_['min_samples_leaf'],\n",
        "#                                 bootstrap = results.best_params_['bootstrap']\n",
        "#                           )\n",
        "\n",
        "# lgbm_clf_smote = LGBMClassifier(max_depth = results.best_params_['max_depth'],\n",
        "#                                 n_estimators = results.best_params_['n_estimators'],\n",
        "#                                 max_features = results.best_params_['max_features'],\n",
        "#                                 min_samples_split = results.best_params_['min_samples_split'],\n",
        "#                                 min_samples_leaf = results.best_params_['min_samples_leaf'],\n",
        "#                                 bootstrap = results.best_params_['bootstrap']\n",
        "#                           )\n",
        "\n",
        "lgbm_clf_tomek.fit(X_train_tomek, y_train_tomek)\n",
        "lgbm_clf_smote.fit(X_train_smote, y_train_smote)"
      ]
    },
    {
      "cell_type": "code",
      "execution_count": null,
      "metadata": {
        "id": "nNoOy3dlY6k5"
      },
      "outputs": [],
      "source": [
        "y_pred_tomek = lgbm_clf_tomek.predict(X_valid)\n",
        "y_pred_smote = lgbm_clf_smote.predict(X_valid)\n",
        "\n",
        "get_clf_eval(y_valid, y_pred_tomek)\n",
        "get_clf_eval(y_valid, y_pred_smote)"
      ]
    },
    {
      "cell_type": "code",
      "execution_count": null,
      "metadata": {
        "id": "0hJOUXyjZMh1"
      },
      "outputs": [],
      "source": [
        "y_pred_prob_tomek = lgbm_clf_tomek.predict_proba(X_valid)\n",
        "y_pred_prob_smote = lgbm_clf_smote.predict_proba(X_valid)\n",
        "\n",
        "get_clf_eval(y_valid, y_pred_prob_tomek[:,1] > 0.38)\n",
        "get_clf_eval(y_valid, y_pred_prob_smote[:,1] > 0.38)"
      ]
    },
    {
      "cell_type": "markdown",
      "metadata": {
        "id": "-0GmMJ3stNX4"
      },
      "source": [
        "# Ensemble(Voting)"
      ]
    },
    {
      "cell_type": "code",
      "execution_count": null,
      "metadata": {
        "id": "h7gnZcNntNX4"
      },
      "outputs": [],
      "source": [
        "# rnd_clf = RandomForestClassifier()\n",
        "# lgbm_clf = LGBMClassifier()\n",
        "# rid_clf = RidgeClassifier()\n",
        "# dtc_clf = DecisionTreeClassifier()\n",
        "# svm_clf = SVC()\n",
        "# ada_clf = AdaBoostClassifier()\n",
        "# gbc_clf = GradientBoostingClassifier()\n",
        "# bag_clf = BaggingClassifier()\n",
        "# ext_clf = ExtraTreesClassifier()\n",
        "# knn_clf = KNeighborsClassifier()\n",
        "# svc_clf = SVC()\n",
        "\n",
        "# voting_clf = VotingClassifier(estimators=[('rnd', rnd_clf), ('lgbm', lgbm_clf), ('xgb', xgb_clf)], voting='soft')"
      ]
    },
    {
      "cell_type": "code",
      "execution_count": null,
      "metadata": {
        "id": "nCnVIn1ktNX4"
      },
      "outputs": [],
      "source": [
        "# for clf in (rnd_clf, lgbm_clf, xgb_clf, voting_clf):\n",
        "#     clf.fit(X_train, y_train)\n",
        "#     y_pred_vote = clf.predict(X_valid)\n",
        "\n",
        "# # ensemble(voting) 성능 확인\n",
        "# get_clf_eval(y_valid, y_pred_vote)"
      ]
    },
    {
      "cell_type": "markdown",
      "metadata": {
        "id": "k8spNdkMtNX4"
      },
      "source": [
        "# Ensemble(Stacking)"
      ]
    },
    {
      "cell_type": "code",
      "execution_count": null,
      "metadata": {
        "id": "VQsGhnt2tNX5"
      },
      "outputs": [],
      "source": [
        "stacking_clf = StackingClassifier(estimators=[('lgbm1', lgbm_clf_tomek), ('lgbm2', lgbm_clf_smote), ('xgb1', xgb_clf_tomek), ('xgb2', xgb_clf_smote)], final_estimator = LGBMClassifier())\n",
        "stacking_clf.fit(X_train, y_train)"
      ]
    },
    {
      "cell_type": "code",
      "execution_count": null,
      "metadata": {
        "id": "SiKxptFRga95"
      },
      "outputs": [],
      "source": [
        "y_pred_stack = stacking_clf.predict_proba(X_valid)\n",
        "y_pred_stack"
      ]
    },
    {
      "cell_type": "code",
      "execution_count": null,
      "metadata": {
        "id": "SmnCEDaagnqz"
      },
      "outputs": [],
      "source": [
        "y_pred_stack = y_pred_stack[:,1] > 0.41\n",
        "# ensemble(stacking) 성능 확인\n",
        "get_clf_eval(y_valid, y_pred_stack)\n",
        "#정확도: 0.7564, F1: 0.6095 -> random forest, lgbm, xgb\n",
        "#정확도: 0.7550, F1: 0.6074 -> lgbm, xgb\n",
        "#정확도: 0.7511, F1: 0.6058 -> rnd, lgbm, xgb 파라미터 튜닝\n",
        "#정확도: 0.7337, F1: 0.6357 -> rnd, lgbm, xgb threshold 0.4 적용 -> 실제 테스트에서 점수 낮아짐\n",
        "#정확도: 0.7548, F1: 0.6216 -> rnd, lgbm, xgb\n",
        "#정확도: 0.7322 정밀도: 0.5695 재현율: 0.7042 AUC: 0.7249 F1: 0.6297 -> smote, tomek로 각각 lgbm, xgb 총 4개 모델 stack으로 학습 후 threshold 0.38일 경우\n",
        "# smote만 학습한 lgbm, xgb 모델로 데이터도 smote 적용된 데이터셋으로 다시 학습했더니 성능 저하\n",
        "\n",
        "# 정확도: 0.7477 정밀도: 0.6005 재현율: 0.6591 AUC: 0.7246 F1: 0.6284 -> 동일 조건에 데이터 합쳤을 경우 테스트에서도 0.713으로 떨어짐\n",
        "# 정확도: 0.7407 정밀도: 0.5849 재현율: 0.6927 AUC: 0.7282 F1: 0.6343 -> StandardScaler로 변경 성능 저하\n",
        "# 정확도: 0.7431 정밀도: 0.5934 재현율: 0.6863 AUC: 0.7285 F1: 0.6345 -> 0.7198775585 threshold 0.41일때가 가장 높음"
      ]
    },
    {
      "cell_type": "markdown",
      "metadata": {
        "id": "8RWI78FKtNX5"
      },
      "source": [
        "# Submission"
      ]
    },
    {
      "cell_type": "code",
      "execution_count": null,
      "metadata": {
        "id": "8pTC3C6xtNX5"
      },
      "outputs": [],
      "source": [
        "# 제출 양식 다운로드\n",
        "submit = pd.read_csv('/content/drive/MyDrive/Colab Notebooks/220126//data/sample_submission.csv')\n",
        "\n",
        "# prediction 수행\n",
        "df_test = pd.read_csv('/content/drive/MyDrive/Colab Notebooks/220126//data/test.csv')\n",
        "\n",
        "df_test = df_test.drop(columns=['ID'])\n"
      ]
    },
    {
      "cell_type": "markdown",
      "metadata": {
        "id": "5dBTvbZ0AlcO"
      },
      "source": [
        "### 컬럼 합쳐주기"
      ]
    },
    {
      "cell_type": "code",
      "execution_count": null,
      "metadata": {
        "id": "xRPjaBXkAlcP"
      },
      "outputs": [],
      "source": [
        "df_test['emp_length'] = 0\n",
        "\n",
        "for i, column in enumerate(df_test.loc[:,'emp_length1':'emp_length12'].columns,1):\n",
        "    for j, data in enumerate(df_test[column]):\n",
        "        if data == 1:\n",
        "            df_test['emp_length'][j] = i\n",
        "\n",
        "df_test = df_test.drop(df_test.loc[:,'emp_length1':'emp_length12'].columns, axis=1)"
      ]
    },
    {
      "cell_type": "code",
      "execution_count": null,
      "metadata": {
        "id": "BuuuJ9ZVAlcP"
      },
      "outputs": [],
      "source": [
        "df_test['home_ownership'] = 0\n",
        "\n",
        "for i, column in enumerate(df_test.loc[:,'home_ownership1':'home_ownership6'].columns,1):\n",
        "    for j, data in enumerate(df_test[column]):\n",
        "        if data == 1:\n",
        "            df_test['home_ownership'][j] = i\n",
        "\n",
        "df_test = df_test.drop(df_test.loc[:,'home_ownership1':'home_ownership6'].columns, axis=1)"
      ]
    },
    {
      "cell_type": "code",
      "execution_count": null,
      "metadata": {
        "id": "dpbHNeEqAlcP"
      },
      "outputs": [],
      "source": [
        "df_test['verification_status'] = 0\n",
        "\n",
        "for i, column in enumerate(df_test.loc[:,'verification_status1':'verification_status3'].columns,1):\n",
        "    for j, data in enumerate(df_test[column]):\n",
        "        if data == 1:\n",
        "            df_test['verification_status'][j] = i\n",
        "\n",
        "df_test = df_test.drop(df_test.loc[:,'verification_status1':'verification_status3'].columns, axis=1)"
      ]
    },
    {
      "cell_type": "code",
      "execution_count": null,
      "metadata": {
        "id": "BZUWVrryAlcQ"
      },
      "outputs": [],
      "source": [
        "df_test['purpose'] = 0\n",
        "\n",
        "for i, column in enumerate(df_test.loc[:,'purpose1':'purpose14'].columns,1):\n",
        "    for j, data in enumerate(df_test[column]):\n",
        "        if data == 1:\n",
        "            df_test['purpose'][j] = i\n",
        "\n",
        "df_test = df_test.drop(df_test.loc[:,'purpose1':'purpose14'].columns, axis=1)"
      ]
    },
    {
      "cell_type": "code",
      "execution_count": null,
      "metadata": {
        "id": "WbY_PzdTAlcQ"
      },
      "outputs": [],
      "source": [
        "df_test['initial_list_status'] = 0\n",
        "\n",
        "for i, column in enumerate(df_test.loc[:,'initial_list_status1':'initial_list_status2'].columns,1):\n",
        "    for j, data in enumerate(df_test[column]):\n",
        "        if data == 1:\n",
        "            df_test['initial_list_status'][j] = i\n",
        "\n",
        "df_test = df_test.drop(df_test.loc[:,'initial_list_status1':'initial_list_status2'].columns, axis=1)"
      ]
    },
    {
      "cell_type": "code",
      "execution_count": null,
      "metadata": {
        "id": "vrSK0-_MAlcQ"
      },
      "outputs": [],
      "source": [
        "df_test['mths_since_last_delinq'] = 0\n",
        "\n",
        "for i, column in enumerate(df_test.loc[:,'mths_since_last_delinq1':'mths_since_last_delinq11'].columns,1):\n",
        "    for j, data in enumerate(df_test[column]):\n",
        "        if data == 1:\n",
        "            df_test['mths_since_last_delinq'][j] = i\n",
        "\n",
        "df_test = df_test.drop(df_test.loc[:,'mths_since_last_delinq1':'mths_since_last_delinq11'].columns, axis=1)"
      ]
    },
    {
      "cell_type": "code",
      "execution_count": null,
      "metadata": {
        "id": "zJAXMlpAJNBh"
      },
      "outputs": [],
      "source": [
        "df_test = df_test.drop(['out_prncp_inv','funded_amnt_inv','fico_range_high','funded_amnt'],axis=1)"
      ]
    },
    {
      "cell_type": "markdown",
      "metadata": {
        "id": "gR1qrKRSBCCS"
      },
      "source": [
        "### 스케일링 및 학습"
      ]
    },
    {
      "cell_type": "code",
      "execution_count": null,
      "metadata": {
        "id": "LFkFOIGrBFNh"
      },
      "outputs": [],
      "source": [
        "df_test_scaled = sc.transform(df_test)\n",
        "df_test = pd.DataFrame(df_test_scaled, index=df_test.index, columns=df_test.columns)\n",
        "\n",
        "y_predict_test = stacking_clf.predict_proba(df_test)\n",
        "y_predict_test"
      ]
    },
    {
      "cell_type": "markdown",
      "metadata": {
        "id": "j0YWf0xQA5OZ"
      },
      "source": [
        "### 결과\n",
        "\n"
      ]
    },
    {
      "cell_type": "code",
      "execution_count": null,
      "metadata": {
        "id": "cAPdICLvmPiv"
      },
      "outputs": [],
      "source": [
        "y_predict_test.shape"
      ]
    },
    {
      "cell_type": "code",
      "execution_count": null,
      "metadata": {
        "id": "2YJmFRzBmWaQ"
      },
      "outputs": [],
      "source": [
        "y_predict_test[:,1] > 0.41"
      ]
    },
    {
      "cell_type": "code",
      "execution_count": null,
      "metadata": {
        "id": "sNyH4kyklEgv"
      },
      "outputs": [],
      "source": [
        "submit['answer'] = (y_predict_test[:,1] > 0.41).astype(int)\n",
        "\n",
        "sum(submit['answer'])/len(submit['answer'])"
      ]
    },
    {
      "cell_type": "code",
      "execution_count": null,
      "metadata": {
        "id": "vrsqWR4MmYnD"
      },
      "outputs": [],
      "source": [
        "# 제출 파일 저장\n",
        "submit.to_csv('/content/drive/MyDrive/Colab Notebooks/220126//data/prediction.csv', index=False)"
      ]
    },
    {
      "cell_type": "code",
      "execution_count": null,
      "metadata": {
        "id": "gCsdaIgE3UEg"
      },
      "outputs": [],
      "source": [
        ""
      ]
    }
  ],
  "metadata": {
    "accelerator": "GPU",
    "colab": {
      "collapsed_sections": [],
      "name": "tabular_bankrupt.ipynb",
      "provenance": []
    },
    "kernelspec": {
      "display_name": "Python 3 (ipykernel)",
      "language": "python",
      "name": "python3"
    },
    "language_info": {
      "codemirror_mode": {
        "name": "ipython",
        "version": 3
      },
      "file_extension": ".py",
      "mimetype": "text/x-python",
      "name": "python",
      "nbconvert_exporter": "python",
      "pygments_lexer": "ipython3",
      "version": "3.8.5"
    }
  },
  "nbformat": 4,
  "nbformat_minor": 0
}