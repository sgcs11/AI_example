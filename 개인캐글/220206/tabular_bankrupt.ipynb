{
  "cells": [
    {
      "cell_type": "code",
      "execution_count": 1,
      "metadata": {
        "colab": {
          "base_uri": "https://localhost:8080/"
        },
        "id": "89YysxjHlM-w",
        "outputId": "74bf1a73-1f36-481a-80bb-bffa610501b5"
      },
      "outputs": [
        {
          "output_type": "stream",
          "name": "stdout",
          "text": [
            "Collecting catboost\n",
            "  Downloading catboost-1.0.4-cp37-none-manylinux1_x86_64.whl (76.1 MB)\n",
            "\u001b[K     |████████████████████████████████| 76.1 MB 48 kB/s \n",
            "\u001b[?25hRequirement already satisfied: plotly in /usr/local/lib/python3.7/dist-packages (from catboost) (5.5.0)\n",
            "Requirement already satisfied: graphviz in /usr/local/lib/python3.7/dist-packages (from catboost) (0.10.1)\n",
            "Requirement already satisfied: scipy in /usr/local/lib/python3.7/dist-packages (from catboost) (1.4.1)\n",
            "Requirement already satisfied: matplotlib in /usr/local/lib/python3.7/dist-packages (from catboost) (3.2.2)\n",
            "Requirement already satisfied: pandas>=0.24.0 in /usr/local/lib/python3.7/dist-packages (from catboost) (1.3.5)\n",
            "Requirement already satisfied: numpy>=1.16.0 in /usr/local/lib/python3.7/dist-packages (from catboost) (1.19.5)\n",
            "Requirement already satisfied: six in /usr/local/lib/python3.7/dist-packages (from catboost) (1.15.0)\n",
            "Requirement already satisfied: python-dateutil>=2.7.3 in /usr/local/lib/python3.7/dist-packages (from pandas>=0.24.0->catboost) (2.8.2)\n",
            "Requirement already satisfied: pytz>=2017.3 in /usr/local/lib/python3.7/dist-packages (from pandas>=0.24.0->catboost) (2018.9)\n",
            "Requirement already satisfied: pyparsing!=2.0.4,!=2.1.2,!=2.1.6,>=2.0.1 in /usr/local/lib/python3.7/dist-packages (from matplotlib->catboost) (3.0.7)\n",
            "Requirement already satisfied: kiwisolver>=1.0.1 in /usr/local/lib/python3.7/dist-packages (from matplotlib->catboost) (1.3.2)\n",
            "Requirement already satisfied: cycler>=0.10 in /usr/local/lib/python3.7/dist-packages (from matplotlib->catboost) (0.11.0)\n",
            "Requirement already satisfied: tenacity>=6.2.0 in /usr/local/lib/python3.7/dist-packages (from plotly->catboost) (8.0.1)\n",
            "Installing collected packages: catboost\n",
            "Successfully installed catboost-1.0.4\n",
            "Mounted at /content/drive\n"
          ]
        }
      ],
      "source": [
        "# !pip install pandas\n",
        "# !pip install numpy\n",
        "# !pip install seaborn\n",
        "# !pip install matplotlib\n",
        "# !pip install xgboost\n",
        "# !pip install lightgbm\n",
        "# !pip install sklearn\n",
        "!pip install catboost\n",
        "\n",
        "# 라이브러리 임포트\n",
        "import pandas as pd\n",
        "import numpy as np\n",
        "\n",
        "import seaborn as sns\n",
        "import matplotlib\n",
        "import matplotlib.pyplot as plt\n",
        "%matplotlib inline\n",
        "\n",
        "import xgboost\n",
        "from xgboost import XGBClassifier\n",
        "from lightgbm import LGBMClassifier\n",
        "#cat boost추가\n",
        "import catboost\n",
        "from catboost import CatBoostClassifier\n",
        "\n",
        "from sklearn.svm import SVC\n",
        "from sklearn.tree import DecisionTreeClassifier\n",
        "from sklearn.neighbors import KNeighborsClassifier\n",
        "from sklearn.ensemble import RandomForestClassifier, AdaBoostClassifier, ExtraTreesClassifier, BaggingClassifier, GradientBoostingClassifier, VotingClassifier, StackingClassifier\n",
        "from sklearn.linear_model import LogisticRegression, LinearRegression, Ridge, RidgeCV, RidgeClassifier\n",
        "from sklearn.model_selection import train_test_split, RepeatedStratifiedKFold, GridSearchCV, RandomizedSearchCV, KFold, StratifiedKFold\n",
        "\n",
        "import sklearn.metrics as metrics\n",
        "from sklearn.metrics import accuracy_score, precision_score, recall_score, f1_score, roc_auc_score, roc_curve, auc, confusion_matrix\n",
        "\n",
        "import warnings\n",
        "warnings.filterwarnings('ignore')\n",
        "\n",
        "from google.colab import drive\n",
        "drive.mount('/content/drive')\n",
        "\n",
        "# oversampling, undersampling\n",
        "from imblearn.under_sampling import TomekLinks\n",
        "from imblearn.over_sampling import SMOTE\n",
        "from imblearn.combine import SMOTETomek"
      ]
    },
    {
      "cell_type": "code",
      "execution_count": 2,
      "metadata": {
        "id": "3mIAhdCstNX3"
      },
      "outputs": [],
      "source": [
        "# 평가 함수 정의\n",
        "def get_clf_eval(y_actual, y_pred):\n",
        "    accuracy = accuracy_score(y_actual, y_pred)\n",
        "    precision = precision_score(y_actual, y_pred)\n",
        "    recall = recall_score(y_actual, y_pred)\n",
        "    AUC = roc_auc_score(y_actual, y_pred)\n",
        "    F1 = f1_score(y_actual, y_pred)\n",
        "    print('\\n정확도: {:.4f}'.format(accuracy))\n",
        "    print('정밀도: {:.4f}'.format(precision))\n",
        "    print('재현율: {:.4f}'.format(recall))\n",
        "    print('AUC: {:.4f}'.format(AUC))\n",
        "    print('F1: {:.4f}'.format(F1))\n",
        "    \n",
        "    sns.heatmap(confusion_matrix(y_actual, y_pred), annot=True, fmt='d', cmap='YlGnBu')"
      ]
    },
    {
      "cell_type": "markdown",
      "metadata": {
        "id": "8IUXKgjWG-rB"
      },
      "source": [
        "# EDA"
      ]
    },
    {
      "cell_type": "markdown",
      "metadata": {
        "id": "gETbIfKttNXq"
      },
      "source": [
        "## 변수 설명\n",
        "  - **int_rate** : 대출자에 부여된 이자율 (Interest rate of the loan the applicant received)\n",
        "  - **annual_inc** : 연 소득 (annual income)\n",
        "  - **dti** : 소득 대비 부채 비율 (Debt-to-income ratio)\n",
        "  - **delinq_2yrs** : 지난 2년 간 체납 발생 횟수 (Delinquencies on lines of credit in the last 2 years)\n",
        "  - **inq_last_6mths** : 지난 6개월 간 신용 조회 수 (Inquiries into the applicant's credit during the last 6 months)\n",
        "  - **pub_rec** : 파산 횟수 (Number of bankruptcies listed in the public record)\n",
        "  - **revol_bal** : 리볼빙 잔액 (Total credit revolving balance)\n",
        "  - **total_acc** : 지금까지 소유했던 신용카드 개수 (num_total_cc_accounts : Total number of credit card accounts in the applicant's history)\n",
        "  - **collections_12_mths_ex_med** : 의료부문을 제외한 지난 12개월 간 추심 발생 횟수 (num_collections_last_12m : Number of collections in the last 12 months. This excludes medical collections)\n",
        "  - **acc_now_delinq** : 대출자가 체납 상태에 있지 않은 계좌의 수 (The number of accounts on which the borrower is now delinquent)\n",
        "  - **tot_coll_amt** : 대출자에 대한 현재까지의 총 추심액 (total_collection_amount_ever : The total amount that the applicant has had against them in collections)\n",
        "  - **tot_cur_bal** : 전 계좌의 현재 통합 잔고 (Total current balance of all accounts)\n",
        "  - **chargeoff_within_12_mths** : 대출 부 신청인의 대출 신청 직전 12개월 간 세금 공제 횟수 (Number of charge-offs within last 12 months at time of application for the secondary applicant)\n",
        "  - **delinq_amnt** : 체납 금액 (delinquency amount)\n",
        "  - **tax_liens** : 세금 저당권의 수 (Number of tax liens)\n",
        "  - **emp_length1 ~ 12** : 고용 연수 (Number of years in the job)\n",
        "  - **home_ownership1 ~ 6** : 대출 신청자의 주거 소유 형태 (The ownership status of the applicant's residence)\n",
        "  - **verification_status1 ~ 3** : 공동 소득 발생 여부 및 형태 (verification_income_joint : Type of verification of the joint income)\n",
        "  - **purpose1 ~ 14** : 대출 목적 (The purpose of the loan)\n",
        "  - **initial_list_status1 ~ 2** : 최초 대출 상태 (Initial listing status of the loan)\n",
        "  - **mths_since_last_delinq1 ~ 11** : 마지막 체납이 지금으로부터 몇개월 전에 있었는지를 나타내는 변수 (Months since the last delinquency)\n",
        "  \n",
        "  - **funded_amnt** : 대출액 (Funded amount)\n",
        "  - **funded_amnt_inv** : 사채 대출액 (Funded amount by investors)\n",
        "  - **total_rec_late_fee** : 총 연체료 중 납부액 (Late fees received to date)\n",
        "  - **term1** : 상환 기간 (The number of payments on the loan. Values are in months and can be either 36 or 60)\n",
        "  - **open_acc** : 개설 개좌 수 (The number of open credit lines in the borrower's credit file)\n",
        "  - **installment** : 대출 발생 시 월 상환액 (The monthly payment owed by the borrower if the loan originates)\n",
        "  - **revol_util** : 리볼빙 한도 대비 리볼빙 사용 비율 (Revolving line utilization rate, or the amount of credit the borrower is using relative to all available revolving credit)\n",
        "  - **out_prncp** : 대출액 중 원리금 잔액 (Remaining outstanding principal for total amount funded)\n",
        "  - **out_prncp_inv** : 사채 대출액 중 원리금 잔액 (Remaining outstanding principal for total amount funded by investors)\n",
        "  - **total_rec_int** : 이자 상환액 (Interest received to date)\n",
        "  - **fico_range_low** : FICO(일종의 신용점수) 최저값 (The lower boundary range the borrower’s FICO at loan origination belongs to)\n",
        "  - **fico_range_high** : FICO(일종의 신용점수) 최고값 (The upper boundary range the borrower’s FICO at loan origination belongs to)\n",
        "  \n",
        "  - **depvar** : 고객의 부도 여부 (dependent variable)"
      ]
    },
    {
      "cell_type": "code",
      "execution_count": 3,
      "metadata": {
        "colab": {
          "base_uri": "https://localhost:8080/",
          "height": 0
        },
        "id": "d99i4isHtNXr",
        "outputId": "2268deb2-2526-4bd6-8aef-f46140e791b7"
      },
      "outputs": [
        {
          "output_type": "execute_result",
          "data": {
            "text/html": [
              "\n",
              "  <div id=\"df-d651f17d-0891-4a44-8d22-5a23461070c2\">\n",
              "    <div class=\"colab-df-container\">\n",
              "      <div>\n",
              "<style scoped>\n",
              "    .dataframe tbody tr th:only-of-type {\n",
              "        vertical-align: middle;\n",
              "    }\n",
              "\n",
              "    .dataframe tbody tr th {\n",
              "        vertical-align: top;\n",
              "    }\n",
              "\n",
              "    .dataframe thead th {\n",
              "        text-align: right;\n",
              "    }\n",
              "</style>\n",
              "<table border=\"1\" class=\"dataframe\">\n",
              "  <thead>\n",
              "    <tr style=\"text-align: right;\">\n",
              "      <th></th>\n",
              "      <th>int_rate</th>\n",
              "      <th>annual_inc</th>\n",
              "      <th>dti</th>\n",
              "      <th>delinq_2yrs</th>\n",
              "      <th>inq_last_6mths</th>\n",
              "      <th>pub_rec</th>\n",
              "      <th>revol_bal</th>\n",
              "      <th>total_acc</th>\n",
              "      <th>collections_12_mths_ex_med</th>\n",
              "      <th>acc_now_delinq</th>\n",
              "      <th>tot_coll_amt</th>\n",
              "      <th>tot_cur_bal</th>\n",
              "      <th>chargeoff_within_12_mths</th>\n",
              "      <th>delinq_amnt</th>\n",
              "      <th>tax_liens</th>\n",
              "      <th>emp_length1</th>\n",
              "      <th>emp_length2</th>\n",
              "      <th>emp_length3</th>\n",
              "      <th>emp_length4</th>\n",
              "      <th>emp_length5</th>\n",
              "      <th>emp_length6</th>\n",
              "      <th>emp_length7</th>\n",
              "      <th>emp_length8</th>\n",
              "      <th>emp_length9</th>\n",
              "      <th>emp_length10</th>\n",
              "      <th>emp_length11</th>\n",
              "      <th>emp_length12</th>\n",
              "      <th>home_ownership1</th>\n",
              "      <th>home_ownership2</th>\n",
              "      <th>home_ownership3</th>\n",
              "      <th>home_ownership4</th>\n",
              "      <th>home_ownership5</th>\n",
              "      <th>home_ownership6</th>\n",
              "      <th>verification_status1</th>\n",
              "      <th>verification_status2</th>\n",
              "      <th>verification_status3</th>\n",
              "      <th>purpose1</th>\n",
              "      <th>purpose2</th>\n",
              "      <th>purpose3</th>\n",
              "      <th>purpose4</th>\n",
              "      <th>purpose5</th>\n",
              "      <th>purpose6</th>\n",
              "      <th>purpose7</th>\n",
              "      <th>purpose8</th>\n",
              "      <th>purpose9</th>\n",
              "      <th>purpose10</th>\n",
              "      <th>purpose11</th>\n",
              "      <th>purpose12</th>\n",
              "      <th>purpose13</th>\n",
              "      <th>purpose14</th>\n",
              "      <th>initial_list_status1</th>\n",
              "      <th>initial_list_status2</th>\n",
              "      <th>mths_since_last_delinq1</th>\n",
              "      <th>mths_since_last_delinq2</th>\n",
              "      <th>mths_since_last_delinq3</th>\n",
              "      <th>mths_since_last_delinq4</th>\n",
              "      <th>mths_since_last_delinq5</th>\n",
              "      <th>mths_since_last_delinq6</th>\n",
              "      <th>mths_since_last_delinq7</th>\n",
              "      <th>mths_since_last_delinq8</th>\n",
              "      <th>mths_since_last_delinq9</th>\n",
              "      <th>mths_since_last_delinq10</th>\n",
              "      <th>mths_since_last_delinq11</th>\n",
              "      <th>funded_amnt</th>\n",
              "      <th>funded_amnt_inv</th>\n",
              "      <th>total_rec_late_fee</th>\n",
              "      <th>term1</th>\n",
              "      <th>open_acc</th>\n",
              "      <th>installment</th>\n",
              "      <th>revol_util</th>\n",
              "      <th>out_prncp</th>\n",
              "      <th>out_prncp_inv</th>\n",
              "      <th>total_rec_int</th>\n",
              "      <th>fico_range_low</th>\n",
              "      <th>fico_range_high</th>\n",
              "      <th>depvar</th>\n",
              "    </tr>\n",
              "  </thead>\n",
              "  <tbody>\n",
              "    <tr>\n",
              "      <th>0</th>\n",
              "      <td>0.0824</td>\n",
              "      <td>21000.0</td>\n",
              "      <td>29.19</td>\n",
              "      <td>0</td>\n",
              "      <td>1</td>\n",
              "      <td>0</td>\n",
              "      <td>3016</td>\n",
              "      <td>26</td>\n",
              "      <td>0</td>\n",
              "      <td>0</td>\n",
              "      <td>0</td>\n",
              "      <td>11773</td>\n",
              "      <td>0</td>\n",
              "      <td>0</td>\n",
              "      <td>0</td>\n",
              "      <td>1</td>\n",
              "      <td>0</td>\n",
              "      <td>0</td>\n",
              "      <td>0</td>\n",
              "      <td>0</td>\n",
              "      <td>0</td>\n",
              "      <td>0</td>\n",
              "      <td>0</td>\n",
              "      <td>0</td>\n",
              "      <td>0</td>\n",
              "      <td>0</td>\n",
              "      <td>0</td>\n",
              "      <td>0</td>\n",
              "      <td>0</td>\n",
              "      <td>0</td>\n",
              "      <td>0</td>\n",
              "      <td>0</td>\n",
              "      <td>1</td>\n",
              "      <td>0</td>\n",
              "      <td>1</td>\n",
              "      <td>0</td>\n",
              "      <td>0</td>\n",
              "      <td>1</td>\n",
              "      <td>0</td>\n",
              "      <td>0</td>\n",
              "      <td>0</td>\n",
              "      <td>0</td>\n",
              "      <td>0</td>\n",
              "      <td>0</td>\n",
              "      <td>0</td>\n",
              "      <td>0</td>\n",
              "      <td>0</td>\n",
              "      <td>0</td>\n",
              "      <td>0</td>\n",
              "      <td>0</td>\n",
              "      <td>0</td>\n",
              "      <td>1</td>\n",
              "      <td>1</td>\n",
              "      <td>0</td>\n",
              "      <td>0</td>\n",
              "      <td>0</td>\n",
              "      <td>0</td>\n",
              "      <td>0</td>\n",
              "      <td>0</td>\n",
              "      <td>0</td>\n",
              "      <td>0</td>\n",
              "      <td>0</td>\n",
              "      <td>0</td>\n",
              "      <td>1200</td>\n",
              "      <td>1200.0</td>\n",
              "      <td>0.0</td>\n",
              "      <td>1</td>\n",
              "      <td>18</td>\n",
              "      <td>37.74</td>\n",
              "      <td>0.076</td>\n",
              "      <td>0.0</td>\n",
              "      <td>0.0</td>\n",
              "      <td>157.94</td>\n",
              "      <td>765</td>\n",
              "      <td>769</td>\n",
              "      <td>0</td>\n",
              "    </tr>\n",
              "    <tr>\n",
              "      <th>1</th>\n",
              "      <td>0.1299</td>\n",
              "      <td>80000.0</td>\n",
              "      <td>4.82</td>\n",
              "      <td>0</td>\n",
              "      <td>1</td>\n",
              "      <td>1</td>\n",
              "      <td>5722</td>\n",
              "      <td>24</td>\n",
              "      <td>0</td>\n",
              "      <td>0</td>\n",
              "      <td>0</td>\n",
              "      <td>21875</td>\n",
              "      <td>0</td>\n",
              "      <td>0</td>\n",
              "      <td>0</td>\n",
              "      <td>0</td>\n",
              "      <td>1</td>\n",
              "      <td>0</td>\n",
              "      <td>0</td>\n",
              "      <td>0</td>\n",
              "      <td>0</td>\n",
              "      <td>0</td>\n",
              "      <td>0</td>\n",
              "      <td>0</td>\n",
              "      <td>0</td>\n",
              "      <td>0</td>\n",
              "      <td>0</td>\n",
              "      <td>0</td>\n",
              "      <td>0</td>\n",
              "      <td>0</td>\n",
              "      <td>0</td>\n",
              "      <td>0</td>\n",
              "      <td>1</td>\n",
              "      <td>0</td>\n",
              "      <td>0</td>\n",
              "      <td>1</td>\n",
              "      <td>0</td>\n",
              "      <td>0</td>\n",
              "      <td>1</td>\n",
              "      <td>0</td>\n",
              "      <td>0</td>\n",
              "      <td>0</td>\n",
              "      <td>0</td>\n",
              "      <td>0</td>\n",
              "      <td>0</td>\n",
              "      <td>0</td>\n",
              "      <td>0</td>\n",
              "      <td>0</td>\n",
              "      <td>0</td>\n",
              "      <td>0</td>\n",
              "      <td>0</td>\n",
              "      <td>1</td>\n",
              "      <td>1</td>\n",
              "      <td>0</td>\n",
              "      <td>0</td>\n",
              "      <td>0</td>\n",
              "      <td>0</td>\n",
              "      <td>0</td>\n",
              "      <td>0</td>\n",
              "      <td>0</td>\n",
              "      <td>0</td>\n",
              "      <td>0</td>\n",
              "      <td>0</td>\n",
              "      <td>8000</td>\n",
              "      <td>8000.0</td>\n",
              "      <td>0.0</td>\n",
              "      <td>1</td>\n",
              "      <td>8</td>\n",
              "      <td>269.52</td>\n",
              "      <td>0.447</td>\n",
              "      <td>0.0</td>\n",
              "      <td>0.0</td>\n",
              "      <td>1702.42</td>\n",
              "      <td>665</td>\n",
              "      <td>669</td>\n",
              "      <td>0</td>\n",
              "    </tr>\n",
              "    <tr>\n",
              "      <th>2</th>\n",
              "      <td>0.1299</td>\n",
              "      <td>38000.0</td>\n",
              "      <td>23.66</td>\n",
              "      <td>0</td>\n",
              "      <td>3</td>\n",
              "      <td>0</td>\n",
              "      <td>6511</td>\n",
              "      <td>18</td>\n",
              "      <td>0</td>\n",
              "      <td>0</td>\n",
              "      <td>0</td>\n",
              "      <td>31868</td>\n",
              "      <td>0</td>\n",
              "      <td>0</td>\n",
              "      <td>0</td>\n",
              "      <td>0</td>\n",
              "      <td>0</td>\n",
              "      <td>0</td>\n",
              "      <td>1</td>\n",
              "      <td>0</td>\n",
              "      <td>0</td>\n",
              "      <td>0</td>\n",
              "      <td>0</td>\n",
              "      <td>0</td>\n",
              "      <td>0</td>\n",
              "      <td>0</td>\n",
              "      <td>0</td>\n",
              "      <td>0</td>\n",
              "      <td>0</td>\n",
              "      <td>0</td>\n",
              "      <td>0</td>\n",
              "      <td>0</td>\n",
              "      <td>1</td>\n",
              "      <td>0</td>\n",
              "      <td>1</td>\n",
              "      <td>0</td>\n",
              "      <td>0</td>\n",
              "      <td>0</td>\n",
              "      <td>1</td>\n",
              "      <td>0</td>\n",
              "      <td>0</td>\n",
              "      <td>0</td>\n",
              "      <td>0</td>\n",
              "      <td>0</td>\n",
              "      <td>0</td>\n",
              "      <td>0</td>\n",
              "      <td>0</td>\n",
              "      <td>0</td>\n",
              "      <td>0</td>\n",
              "      <td>0</td>\n",
              "      <td>0</td>\n",
              "      <td>1</td>\n",
              "      <td>0</td>\n",
              "      <td>0</td>\n",
              "      <td>0</td>\n",
              "      <td>0</td>\n",
              "      <td>0</td>\n",
              "      <td>0</td>\n",
              "      <td>0</td>\n",
              "      <td>0</td>\n",
              "      <td>0</td>\n",
              "      <td>0</td>\n",
              "      <td>1</td>\n",
              "      <td>5000</td>\n",
              "      <td>5000.0</td>\n",
              "      <td>0.0</td>\n",
              "      <td>1</td>\n",
              "      <td>7</td>\n",
              "      <td>168.45</td>\n",
              "      <td>0.880</td>\n",
              "      <td>0.0</td>\n",
              "      <td>0.0</td>\n",
              "      <td>1066.64</td>\n",
              "      <td>670</td>\n",
              "      <td>674</td>\n",
              "      <td>0</td>\n",
              "    </tr>\n",
              "    <tr>\n",
              "      <th>3</th>\n",
              "      <td>0.1367</td>\n",
              "      <td>100000.0</td>\n",
              "      <td>16.27</td>\n",
              "      <td>4</td>\n",
              "      <td>2</td>\n",
              "      <td>0</td>\n",
              "      <td>6849</td>\n",
              "      <td>30</td>\n",
              "      <td>0</td>\n",
              "      <td>0</td>\n",
              "      <td>0</td>\n",
              "      <td>326049</td>\n",
              "      <td>0</td>\n",
              "      <td>0</td>\n",
              "      <td>0</td>\n",
              "      <td>0</td>\n",
              "      <td>0</td>\n",
              "      <td>1</td>\n",
              "      <td>0</td>\n",
              "      <td>0</td>\n",
              "      <td>0</td>\n",
              "      <td>0</td>\n",
              "      <td>0</td>\n",
              "      <td>0</td>\n",
              "      <td>0</td>\n",
              "      <td>0</td>\n",
              "      <td>0</td>\n",
              "      <td>0</td>\n",
              "      <td>1</td>\n",
              "      <td>0</td>\n",
              "      <td>0</td>\n",
              "      <td>0</td>\n",
              "      <td>0</td>\n",
              "      <td>0</td>\n",
              "      <td>0</td>\n",
              "      <td>1</td>\n",
              "      <td>0</td>\n",
              "      <td>0</td>\n",
              "      <td>1</td>\n",
              "      <td>0</td>\n",
              "      <td>0</td>\n",
              "      <td>0</td>\n",
              "      <td>0</td>\n",
              "      <td>0</td>\n",
              "      <td>0</td>\n",
              "      <td>0</td>\n",
              "      <td>0</td>\n",
              "      <td>0</td>\n",
              "      <td>0</td>\n",
              "      <td>0</td>\n",
              "      <td>0</td>\n",
              "      <td>1</td>\n",
              "      <td>0</td>\n",
              "      <td>0</td>\n",
              "      <td>0</td>\n",
              "      <td>0</td>\n",
              "      <td>1</td>\n",
              "      <td>0</td>\n",
              "      <td>0</td>\n",
              "      <td>0</td>\n",
              "      <td>0</td>\n",
              "      <td>0</td>\n",
              "      <td>0</td>\n",
              "      <td>15000</td>\n",
              "      <td>15000.0</td>\n",
              "      <td>0.0</td>\n",
              "      <td>1</td>\n",
              "      <td>12</td>\n",
              "      <td>510.27</td>\n",
              "      <td>0.457</td>\n",
              "      <td>0.0</td>\n",
              "      <td>0.0</td>\n",
              "      <td>1256.24</td>\n",
              "      <td>680</td>\n",
              "      <td>684</td>\n",
              "      <td>1</td>\n",
              "    </tr>\n",
              "    <tr>\n",
              "      <th>4</th>\n",
              "      <td>0.1269</td>\n",
              "      <td>30000.0</td>\n",
              "      <td>25.28</td>\n",
              "      <td>0</td>\n",
              "      <td>1</td>\n",
              "      <td>2</td>\n",
              "      <td>8197</td>\n",
              "      <td>12</td>\n",
              "      <td>0</td>\n",
              "      <td>0</td>\n",
              "      <td>2506</td>\n",
              "      <td>8840</td>\n",
              "      <td>0</td>\n",
              "      <td>0</td>\n",
              "      <td>0</td>\n",
              "      <td>0</td>\n",
              "      <td>0</td>\n",
              "      <td>0</td>\n",
              "      <td>1</td>\n",
              "      <td>0</td>\n",
              "      <td>0</td>\n",
              "      <td>0</td>\n",
              "      <td>0</td>\n",
              "      <td>0</td>\n",
              "      <td>0</td>\n",
              "      <td>0</td>\n",
              "      <td>0</td>\n",
              "      <td>0</td>\n",
              "      <td>0</td>\n",
              "      <td>0</td>\n",
              "      <td>0</td>\n",
              "      <td>0</td>\n",
              "      <td>1</td>\n",
              "      <td>0</td>\n",
              "      <td>1</td>\n",
              "      <td>0</td>\n",
              "      <td>0</td>\n",
              "      <td>0</td>\n",
              "      <td>1</td>\n",
              "      <td>0</td>\n",
              "      <td>0</td>\n",
              "      <td>0</td>\n",
              "      <td>0</td>\n",
              "      <td>0</td>\n",
              "      <td>0</td>\n",
              "      <td>0</td>\n",
              "      <td>0</td>\n",
              "      <td>0</td>\n",
              "      <td>0</td>\n",
              "      <td>0</td>\n",
              "      <td>0</td>\n",
              "      <td>1</td>\n",
              "      <td>1</td>\n",
              "      <td>0</td>\n",
              "      <td>0</td>\n",
              "      <td>0</td>\n",
              "      <td>0</td>\n",
              "      <td>0</td>\n",
              "      <td>0</td>\n",
              "      <td>0</td>\n",
              "      <td>0</td>\n",
              "      <td>0</td>\n",
              "      <td>0</td>\n",
              "      <td>10000</td>\n",
              "      <td>10000.0</td>\n",
              "      <td>0.0</td>\n",
              "      <td>1</td>\n",
              "      <td>8</td>\n",
              "      <td>335.45</td>\n",
              "      <td>0.416</td>\n",
              "      <td>0.0</td>\n",
              "      <td>0.0</td>\n",
              "      <td>871.04</td>\n",
              "      <td>660</td>\n",
              "      <td>664</td>\n",
              "      <td>1</td>\n",
              "    </tr>\n",
              "  </tbody>\n",
              "</table>\n",
              "</div>\n",
              "      <button class=\"colab-df-convert\" onclick=\"convertToInteractive('df-d651f17d-0891-4a44-8d22-5a23461070c2')\"\n",
              "              title=\"Convert this dataframe to an interactive table.\"\n",
              "              style=\"display:none;\">\n",
              "        \n",
              "  <svg xmlns=\"http://www.w3.org/2000/svg\" height=\"24px\"viewBox=\"0 0 24 24\"\n",
              "       width=\"24px\">\n",
              "    <path d=\"M0 0h24v24H0V0z\" fill=\"none\"/>\n",
              "    <path d=\"M18.56 5.44l.94 2.06.94-2.06 2.06-.94-2.06-.94-.94-2.06-.94 2.06-2.06.94zm-11 1L8.5 8.5l.94-2.06 2.06-.94-2.06-.94L8.5 2.5l-.94 2.06-2.06.94zm10 10l.94 2.06.94-2.06 2.06-.94-2.06-.94-.94-2.06-.94 2.06-2.06.94z\"/><path d=\"M17.41 7.96l-1.37-1.37c-.4-.4-.92-.59-1.43-.59-.52 0-1.04.2-1.43.59L10.3 9.45l-7.72 7.72c-.78.78-.78 2.05 0 2.83L4 21.41c.39.39.9.59 1.41.59.51 0 1.02-.2 1.41-.59l7.78-7.78 2.81-2.81c.8-.78.8-2.07 0-2.86zM5.41 20L4 18.59l7.72-7.72 1.47 1.35L5.41 20z\"/>\n",
              "  </svg>\n",
              "      </button>\n",
              "      \n",
              "  <style>\n",
              "    .colab-df-container {\n",
              "      display:flex;\n",
              "      flex-wrap:wrap;\n",
              "      gap: 12px;\n",
              "    }\n",
              "\n",
              "    .colab-df-convert {\n",
              "      background-color: #E8F0FE;\n",
              "      border: none;\n",
              "      border-radius: 50%;\n",
              "      cursor: pointer;\n",
              "      display: none;\n",
              "      fill: #1967D2;\n",
              "      height: 32px;\n",
              "      padding: 0 0 0 0;\n",
              "      width: 32px;\n",
              "    }\n",
              "\n",
              "    .colab-df-convert:hover {\n",
              "      background-color: #E2EBFA;\n",
              "      box-shadow: 0px 1px 2px rgba(60, 64, 67, 0.3), 0px 1px 3px 1px rgba(60, 64, 67, 0.15);\n",
              "      fill: #174EA6;\n",
              "    }\n",
              "\n",
              "    [theme=dark] .colab-df-convert {\n",
              "      background-color: #3B4455;\n",
              "      fill: #D2E3FC;\n",
              "    }\n",
              "\n",
              "    [theme=dark] .colab-df-convert:hover {\n",
              "      background-color: #434B5C;\n",
              "      box-shadow: 0px 1px 3px 1px rgba(0, 0, 0, 0.15);\n",
              "      filter: drop-shadow(0px 1px 2px rgba(0, 0, 0, 0.3));\n",
              "      fill: #FFFFFF;\n",
              "    }\n",
              "  </style>\n",
              "\n",
              "      <script>\n",
              "        const buttonEl =\n",
              "          document.querySelector('#df-d651f17d-0891-4a44-8d22-5a23461070c2 button.colab-df-convert');\n",
              "        buttonEl.style.display =\n",
              "          google.colab.kernel.accessAllowed ? 'block' : 'none';\n",
              "\n",
              "        async function convertToInteractive(key) {\n",
              "          const element = document.querySelector('#df-d651f17d-0891-4a44-8d22-5a23461070c2');\n",
              "          const dataTable =\n",
              "            await google.colab.kernel.invokeFunction('convertToInteractive',\n",
              "                                                     [key], {});\n",
              "          if (!dataTable) return;\n",
              "\n",
              "          const docLinkHtml = 'Like what you see? Visit the ' +\n",
              "            '<a target=\"_blank\" href=https://colab.research.google.com/notebooks/data_table.ipynb>data table notebook</a>'\n",
              "            + ' to learn more about interactive tables.';\n",
              "          element.innerHTML = '';\n",
              "          dataTable['output_type'] = 'display_data';\n",
              "          await google.colab.output.renderOutput(dataTable, element);\n",
              "          const docLink = document.createElement('div');\n",
              "          docLink.innerHTML = docLinkHtml;\n",
              "          element.appendChild(docLink);\n",
              "        }\n",
              "      </script>\n",
              "    </div>\n",
              "  </div>\n",
              "  "
            ],
            "text/plain": [
              "   int_rate  annual_inc    dti  ...  fico_range_low  fico_range_high  depvar\n",
              "0    0.0824     21000.0  29.19  ...             765              769       0\n",
              "1    0.1299     80000.0   4.82  ...             665              669       0\n",
              "2    0.1299     38000.0  23.66  ...             670              674       0\n",
              "3    0.1367    100000.0  16.27  ...             680              684       1\n",
              "4    0.1269     30000.0  25.28  ...             660              664       1\n",
              "\n",
              "[5 rows x 76 columns]"
            ]
          },
          "metadata": {},
          "execution_count": 3
        }
      ],
      "source": [
        "df = pd.read_csv('/content/drive/MyDrive/Colab Notebooks/220126/data/train.csv')\n",
        "df.head()"
      ]
    },
    {
      "cell_type": "code",
      "execution_count": 4,
      "metadata": {
        "id": "8pTC3C6xtNX5"
      },
      "outputs": [],
      "source": [
        "# 제출 양식 다운로드\n",
        "submit = pd.read_csv('/content/drive/MyDrive/Colab Notebooks/220126//data/sample_submission.csv')\n",
        "\n",
        "# prediction 수행\n",
        "df_test = pd.read_csv('/content/drive/MyDrive/Colab Notebooks/220126//data/test.csv')\n",
        "\n",
        "df_test = df_test.drop(columns=['ID'])\n"
      ]
    },
    {
      "cell_type": "markdown",
      "metadata": {
        "id": "nxjpkcYVyJ7p"
      },
      "source": [
        "## 컬럼 합쳐주기"
      ]
    },
    {
      "cell_type": "code",
      "execution_count": 5,
      "metadata": {
        "id": "jxVC5uUTmis4"
      },
      "outputs": [],
      "source": [
        "def concat_column(dataframe, feature_name, start_idx, end_idx):\n",
        "    dataframe[feature_name] = 0\n",
        "\n",
        "    for i, column in enumerate(dataframe.loc[:,f'{feature_name}{start_idx}':f'{feature_name}{end_idx}'].columns,1):\n",
        "        for j, data in enumerate(dataframe[column]):\n",
        "            if data == 1:\n",
        "                dataframe[feature_name][j] = i\n",
        "\n",
        "    dataframe = dataframe.drop(dataframe.loc[:,f'{feature_name}{start_idx}':f'{feature_name}{end_idx}'].columns, axis=1)\n",
        "    return dataframe"
      ]
    },
    {
      "cell_type": "code",
      "execution_count": 6,
      "metadata": {
        "id": "Mxw2_VZFnweI"
      },
      "outputs": [],
      "source": [
        "df = concat_column(df, 'emp_length', 1, 12)"
      ]
    },
    {
      "cell_type": "code",
      "execution_count": 7,
      "metadata": {
        "id": "ufcsM9sWn6pa"
      },
      "outputs": [],
      "source": [
        "df = concat_column(df, 'home_ownership', 1, 6)"
      ]
    },
    {
      "cell_type": "code",
      "execution_count": 8,
      "metadata": {
        "id": "o_b8yAE4oMKQ"
      },
      "outputs": [],
      "source": [
        "df = concat_column(df, 'verification_status', 1, 3)"
      ]
    },
    {
      "cell_type": "code",
      "execution_count": 9,
      "metadata": {
        "id": "pLg6mxbDoRUZ"
      },
      "outputs": [],
      "source": [
        "df = concat_column(df, 'purpose', 1, 14)"
      ]
    },
    {
      "cell_type": "code",
      "execution_count": 10,
      "metadata": {
        "id": "3UI34SAkoT8I"
      },
      "outputs": [],
      "source": [
        "df = concat_column(df, 'initial_list_status', 1, 2)"
      ]
    },
    {
      "cell_type": "code",
      "execution_count": 11,
      "metadata": {
        "id": "D9AUKmK2oYxI"
      },
      "outputs": [],
      "source": [
        "df = concat_column(df, 'mths_since_last_delinq', 1, 11)"
      ]
    },
    {
      "cell_type": "code",
      "execution_count": 12,
      "metadata": {
        "colab": {
          "base_uri": "https://localhost:8080/"
        },
        "id": "eiimcNADlPRg",
        "outputId": "21a4e546-8ac9-4fbd-9855-61ae0ff78fc5"
      },
      "outputs": [
        {
          "output_type": "stream",
          "name": "stdout",
          "text": [
            "<class 'pandas.core.frame.DataFrame'>\n",
            "RangeIndex: 100000 entries, 0 to 99999\n",
            "Data columns (total 34 columns):\n",
            " #   Column                      Non-Null Count   Dtype  \n",
            "---  ------                      --------------   -----  \n",
            " 0   int_rate                    100000 non-null  float64\n",
            " 1   annual_inc                  100000 non-null  float64\n",
            " 2   dti                         100000 non-null  float64\n",
            " 3   delinq_2yrs                 100000 non-null  int64  \n",
            " 4   inq_last_6mths              100000 non-null  int64  \n",
            " 5   pub_rec                     100000 non-null  int64  \n",
            " 6   revol_bal                   100000 non-null  int64  \n",
            " 7   total_acc                   100000 non-null  int64  \n",
            " 8   collections_12_mths_ex_med  100000 non-null  int64  \n",
            " 9   acc_now_delinq              100000 non-null  int64  \n",
            " 10  tot_coll_amt                100000 non-null  int64  \n",
            " 11  tot_cur_bal                 100000 non-null  int64  \n",
            " 12  chargeoff_within_12_mths    100000 non-null  int64  \n",
            " 13  delinq_amnt                 100000 non-null  int64  \n",
            " 14  tax_liens                   100000 non-null  int64  \n",
            " 15  funded_amnt                 100000 non-null  int64  \n",
            " 16  funded_amnt_inv             100000 non-null  float64\n",
            " 17  total_rec_late_fee          100000 non-null  float64\n",
            " 18  term1                       100000 non-null  int64  \n",
            " 19  open_acc                    100000 non-null  int64  \n",
            " 20  installment                 100000 non-null  float64\n",
            " 21  revol_util                  100000 non-null  float64\n",
            " 22  out_prncp                   100000 non-null  float64\n",
            " 23  out_prncp_inv               100000 non-null  float64\n",
            " 24  total_rec_int               100000 non-null  float64\n",
            " 25  fico_range_low              100000 non-null  int64  \n",
            " 26  fico_range_high             100000 non-null  int64  \n",
            " 27  depvar                      100000 non-null  int64  \n",
            " 28  emp_length                  100000 non-null  int64  \n",
            " 29  home_ownership              100000 non-null  int64  \n",
            " 30  verification_status         100000 non-null  int64  \n",
            " 31  purpose                     100000 non-null  int64  \n",
            " 32  initial_list_status         100000 non-null  int64  \n",
            " 33  mths_since_last_delinq      100000 non-null  int64  \n",
            "dtypes: float64(10), int64(24)\n",
            "memory usage: 25.9 MB\n"
          ]
        }
      ],
      "source": [
        "df.info()"
      ]
    },
    {
      "cell_type": "code",
      "execution_count": 13,
      "metadata": {
        "colab": {
          "base_uri": "https://localhost:8080/",
          "height": 364
        },
        "id": "nnVGUuUElPUA",
        "outputId": "a26dbd30-bc3e-423a-c418-aaafb83cd316"
      },
      "outputs": [
        {
          "output_type": "execute_result",
          "data": {
            "text/html": [
              "\n",
              "  <div id=\"df-ff16872a-cd4b-40e0-a886-c1b569248f74\">\n",
              "    <div class=\"colab-df-container\">\n",
              "      <div>\n",
              "<style scoped>\n",
              "    .dataframe tbody tr th:only-of-type {\n",
              "        vertical-align: middle;\n",
              "    }\n",
              "\n",
              "    .dataframe tbody tr th {\n",
              "        vertical-align: top;\n",
              "    }\n",
              "\n",
              "    .dataframe thead th {\n",
              "        text-align: right;\n",
              "    }\n",
              "</style>\n",
              "<table border=\"1\" class=\"dataframe\">\n",
              "  <thead>\n",
              "    <tr style=\"text-align: right;\">\n",
              "      <th></th>\n",
              "      <th>int_rate</th>\n",
              "      <th>annual_inc</th>\n",
              "      <th>dti</th>\n",
              "      <th>delinq_2yrs</th>\n",
              "      <th>inq_last_6mths</th>\n",
              "      <th>pub_rec</th>\n",
              "      <th>revol_bal</th>\n",
              "      <th>total_acc</th>\n",
              "      <th>collections_12_mths_ex_med</th>\n",
              "      <th>acc_now_delinq</th>\n",
              "      <th>tot_coll_amt</th>\n",
              "      <th>tot_cur_bal</th>\n",
              "      <th>chargeoff_within_12_mths</th>\n",
              "      <th>delinq_amnt</th>\n",
              "      <th>tax_liens</th>\n",
              "      <th>funded_amnt</th>\n",
              "      <th>funded_amnt_inv</th>\n",
              "      <th>total_rec_late_fee</th>\n",
              "      <th>term1</th>\n",
              "      <th>open_acc</th>\n",
              "      <th>installment</th>\n",
              "      <th>revol_util</th>\n",
              "      <th>out_prncp</th>\n",
              "      <th>out_prncp_inv</th>\n",
              "      <th>total_rec_int</th>\n",
              "      <th>fico_range_low</th>\n",
              "      <th>fico_range_high</th>\n",
              "      <th>depvar</th>\n",
              "      <th>emp_length</th>\n",
              "      <th>home_ownership</th>\n",
              "      <th>verification_status</th>\n",
              "      <th>purpose</th>\n",
              "      <th>initial_list_status</th>\n",
              "      <th>mths_since_last_delinq</th>\n",
              "    </tr>\n",
              "  </thead>\n",
              "  <tbody>\n",
              "    <tr>\n",
              "      <th>count</th>\n",
              "      <td>100000.000000</td>\n",
              "      <td>1.000000e+05</td>\n",
              "      <td>100000.000000</td>\n",
              "      <td>100000.000000</td>\n",
              "      <td>100000.000000</td>\n",
              "      <td>100000.000000</td>\n",
              "      <td>100000.000000</td>\n",
              "      <td>100000.000000</td>\n",
              "      <td>100000.000000</td>\n",
              "      <td>100000.000000</td>\n",
              "      <td>100000.000000</td>\n",
              "      <td>1.000000e+05</td>\n",
              "      <td>100000.000000</td>\n",
              "      <td>100000.000000</td>\n",
              "      <td>100000.000000</td>\n",
              "      <td>100000.000000</td>\n",
              "      <td>100000.000000</td>\n",
              "      <td>1.000000e+05</td>\n",
              "      <td>100000.000000</td>\n",
              "      <td>100000.000000</td>\n",
              "      <td>100000.000000</td>\n",
              "      <td>100000.000000</td>\n",
              "      <td>100000.000000</td>\n",
              "      <td>100000.000000</td>\n",
              "      <td>100000.000000</td>\n",
              "      <td>100000.000000</td>\n",
              "      <td>100000.000000</td>\n",
              "      <td>100000.000000</td>\n",
              "      <td>100000.000000</td>\n",
              "      <td>100000.000000</td>\n",
              "      <td>100000.000000</td>\n",
              "      <td>100000.000000</td>\n",
              "      <td>100000.000000</td>\n",
              "      <td>100000.000000</td>\n",
              "    </tr>\n",
              "    <tr>\n",
              "      <th>mean</th>\n",
              "      <td>0.130833</td>\n",
              "      <td>7.436061e+04</td>\n",
              "      <td>18.514508</td>\n",
              "      <td>0.343700</td>\n",
              "      <td>0.668880</td>\n",
              "      <td>0.235720</td>\n",
              "      <td>16090.202820</td>\n",
              "      <td>24.675910</td>\n",
              "      <td>0.018810</td>\n",
              "      <td>0.005800</td>\n",
              "      <td>250.588120</td>\n",
              "      <td>1.305281e+05</td>\n",
              "      <td>0.009630</td>\n",
              "      <td>19.288330</td>\n",
              "      <td>0.063820</td>\n",
              "      <td>13735.317750</td>\n",
              "      <td>13729.341073</td>\n",
              "      <td>2.448885e+00</td>\n",
              "      <td>0.855920</td>\n",
              "      <td>11.620700</td>\n",
              "      <td>434.077648</td>\n",
              "      <td>0.537233</td>\n",
              "      <td>0.253327</td>\n",
              "      <td>0.253259</td>\n",
              "      <td>2491.282802</td>\n",
              "      <td>692.630550</td>\n",
              "      <td>696.630660</td>\n",
              "      <td>0.325690</td>\n",
              "      <td>5.084010</td>\n",
              "      <td>4.022680</td>\n",
              "      <td>1.966200</td>\n",
              "      <td>3.660050</td>\n",
              "      <td>1.565570</td>\n",
              "      <td>3.774040</td>\n",
              "    </tr>\n",
              "    <tr>\n",
              "      <th>std</th>\n",
              "      <td>0.044773</td>\n",
              "      <td>7.467409e+04</td>\n",
              "      <td>8.413049</td>\n",
              "      <td>0.905007</td>\n",
              "      <td>0.952044</td>\n",
              "      <td>0.661468</td>\n",
              "      <td>21569.939271</td>\n",
              "      <td>11.883834</td>\n",
              "      <td>0.150321</td>\n",
              "      <td>0.083585</td>\n",
              "      <td>2042.770881</td>\n",
              "      <td>1.503326e+05</td>\n",
              "      <td>0.110079</td>\n",
              "      <td>893.304366</td>\n",
              "      <td>0.468027</td>\n",
              "      <td>8464.825314</td>\n",
              "      <td>8461.694483</td>\n",
              "      <td>1.489496e+01</td>\n",
              "      <td>0.351173</td>\n",
              "      <td>5.458774</td>\n",
              "      <td>265.921746</td>\n",
              "      <td>0.239373</td>\n",
              "      <td>18.053290</td>\n",
              "      <td>18.051746</td>\n",
              "      <td>2706.262200</td>\n",
              "      <td>29.668017</td>\n",
              "      <td>29.668584</td>\n",
              "      <td>0.468634</td>\n",
              "      <td>3.569059</td>\n",
              "      <td>1.915234</td>\n",
              "      <td>0.780169</td>\n",
              "      <td>2.362892</td>\n",
              "      <td>0.495684</td>\n",
              "      <td>3.410721</td>\n",
              "    </tr>\n",
              "    <tr>\n",
              "      <th>min</th>\n",
              "      <td>0.053200</td>\n",
              "      <td>5.360000e+03</td>\n",
              "      <td>0.000000</td>\n",
              "      <td>0.000000</td>\n",
              "      <td>0.000000</td>\n",
              "      <td>0.000000</td>\n",
              "      <td>0.000000</td>\n",
              "      <td>2.000000</td>\n",
              "      <td>0.000000</td>\n",
              "      <td>0.000000</td>\n",
              "      <td>0.000000</td>\n",
              "      <td>0.000000e+00</td>\n",
              "      <td>0.000000</td>\n",
              "      <td>0.000000</td>\n",
              "      <td>0.000000</td>\n",
              "      <td>1000.000000</td>\n",
              "      <td>800.000000</td>\n",
              "      <td>-2.000000e-09</td>\n",
              "      <td>0.000000</td>\n",
              "      <td>1.000000</td>\n",
              "      <td>23.360000</td>\n",
              "      <td>0.000000</td>\n",
              "      <td>0.000000</td>\n",
              "      <td>0.000000</td>\n",
              "      <td>0.000000</td>\n",
              "      <td>660.000000</td>\n",
              "      <td>664.000000</td>\n",
              "      <td>0.000000</td>\n",
              "      <td>1.000000</td>\n",
              "      <td>1.000000</td>\n",
              "      <td>1.000000</td>\n",
              "      <td>1.000000</td>\n",
              "      <td>1.000000</td>\n",
              "      <td>1.000000</td>\n",
              "    </tr>\n",
              "    <tr>\n",
              "      <th>25%</th>\n",
              "      <td>0.097500</td>\n",
              "      <td>4.500000e+04</td>\n",
              "      <td>12.200000</td>\n",
              "      <td>0.000000</td>\n",
              "      <td>0.000000</td>\n",
              "      <td>0.000000</td>\n",
              "      <td>6009.000000</td>\n",
              "      <td>16.000000</td>\n",
              "      <td>0.000000</td>\n",
              "      <td>0.000000</td>\n",
              "      <td>0.000000</td>\n",
              "      <td>2.698900e+04</td>\n",
              "      <td>0.000000</td>\n",
              "      <td>0.000000</td>\n",
              "      <td>0.000000</td>\n",
              "      <td>7200.000000</td>\n",
              "      <td>7200.000000</td>\n",
              "      <td>0.000000e+00</td>\n",
              "      <td>1.000000</td>\n",
              "      <td>8.000000</td>\n",
              "      <td>240.292500</td>\n",
              "      <td>0.361000</td>\n",
              "      <td>0.000000</td>\n",
              "      <td>0.000000</td>\n",
              "      <td>857.292500</td>\n",
              "      <td>670.000000</td>\n",
              "      <td>674.000000</td>\n",
              "      <td>0.000000</td>\n",
              "      <td>2.000000</td>\n",
              "      <td>2.000000</td>\n",
              "      <td>1.000000</td>\n",
              "      <td>3.000000</td>\n",
              "      <td>1.000000</td>\n",
              "      <td>1.000000</td>\n",
              "    </tr>\n",
              "    <tr>\n",
              "      <th>50%</th>\n",
              "      <td>0.127400</td>\n",
              "      <td>6.200000e+04</td>\n",
              "      <td>18.060000</td>\n",
              "      <td>0.000000</td>\n",
              "      <td>0.000000</td>\n",
              "      <td>0.000000</td>\n",
              "      <td>11030.500000</td>\n",
              "      <td>23.000000</td>\n",
              "      <td>0.000000</td>\n",
              "      <td>0.000000</td>\n",
              "      <td>0.000000</td>\n",
              "      <td>6.802350e+04</td>\n",
              "      <td>0.000000</td>\n",
              "      <td>0.000000</td>\n",
              "      <td>0.000000</td>\n",
              "      <td>12000.000000</td>\n",
              "      <td>12000.000000</td>\n",
              "      <td>0.000000e+00</td>\n",
              "      <td>1.000000</td>\n",
              "      <td>11.000000</td>\n",
              "      <td>366.370000</td>\n",
              "      <td>0.541000</td>\n",
              "      <td>0.000000</td>\n",
              "      <td>0.000000</td>\n",
              "      <td>1615.160000</td>\n",
              "      <td>685.000000</td>\n",
              "      <td>689.000000</td>\n",
              "      <td>0.000000</td>\n",
              "      <td>4.000000</td>\n",
              "      <td>5.000000</td>\n",
              "      <td>2.000000</td>\n",
              "      <td>3.000000</td>\n",
              "      <td>2.000000</td>\n",
              "      <td>2.000000</td>\n",
              "    </tr>\n",
              "    <tr>\n",
              "      <th>75%</th>\n",
              "      <td>0.158000</td>\n",
              "      <td>9.000000e+04</td>\n",
              "      <td>24.530000</td>\n",
              "      <td>0.000000</td>\n",
              "      <td>1.000000</td>\n",
              "      <td>0.000000</td>\n",
              "      <td>19540.000000</td>\n",
              "      <td>31.000000</td>\n",
              "      <td>0.000000</td>\n",
              "      <td>0.000000</td>\n",
              "      <td>0.000000</td>\n",
              "      <td>1.943098e+05</td>\n",
              "      <td>0.000000</td>\n",
              "      <td>0.000000</td>\n",
              "      <td>0.000000</td>\n",
              "      <td>19200.000000</td>\n",
              "      <td>19200.000000</td>\n",
              "      <td>0.000000e+00</td>\n",
              "      <td>1.000000</td>\n",
              "      <td>14.000000</td>\n",
              "      <td>575.860000</td>\n",
              "      <td>0.720000</td>\n",
              "      <td>0.000000</td>\n",
              "      <td>0.000000</td>\n",
              "      <td>3039.115000</td>\n",
              "      <td>705.000000</td>\n",
              "      <td>709.000000</td>\n",
              "      <td>1.000000</td>\n",
              "      <td>8.000000</td>\n",
              "      <td>6.000000</td>\n",
              "      <td>3.000000</td>\n",
              "      <td>3.000000</td>\n",
              "      <td>2.000000</td>\n",
              "      <td>7.000000</td>\n",
              "    </tr>\n",
              "    <tr>\n",
              "      <th>max</th>\n",
              "      <td>0.309900</td>\n",
              "      <td>8.300000e+06</td>\n",
              "      <td>49.930000</td>\n",
              "      <td>20.000000</td>\n",
              "      <td>6.000000</td>\n",
              "      <td>63.000000</td>\n",
              "      <td>971736.000000</td>\n",
              "      <td>176.000000</td>\n",
              "      <td>5.000000</td>\n",
              "      <td>6.000000</td>\n",
              "      <td>197765.000000</td>\n",
              "      <td>3.164353e+06</td>\n",
              "      <td>7.000000</td>\n",
              "      <td>94521.000000</td>\n",
              "      <td>63.000000</td>\n",
              "      <td>40000.000000</td>\n",
              "      <td>40000.000000</td>\n",
              "      <td>8.741700e+02</td>\n",
              "      <td>1.000000</td>\n",
              "      <td>82.000000</td>\n",
              "      <td>1584.900000</td>\n",
              "      <td>8.923000</td>\n",
              "      <td>2330.970000</td>\n",
              "      <td>2330.970000</td>\n",
              "      <td>28005.960000</td>\n",
              "      <td>845.000000</td>\n",
              "      <td>850.000000</td>\n",
              "      <td>1.000000</td>\n",
              "      <td>12.000000</td>\n",
              "      <td>6.000000</td>\n",
              "      <td>3.000000</td>\n",
              "      <td>14.000000</td>\n",
              "      <td>2.000000</td>\n",
              "      <td>11.000000</td>\n",
              "    </tr>\n",
              "  </tbody>\n",
              "</table>\n",
              "</div>\n",
              "      <button class=\"colab-df-convert\" onclick=\"convertToInteractive('df-ff16872a-cd4b-40e0-a886-c1b569248f74')\"\n",
              "              title=\"Convert this dataframe to an interactive table.\"\n",
              "              style=\"display:none;\">\n",
              "        \n",
              "  <svg xmlns=\"http://www.w3.org/2000/svg\" height=\"24px\"viewBox=\"0 0 24 24\"\n",
              "       width=\"24px\">\n",
              "    <path d=\"M0 0h24v24H0V0z\" fill=\"none\"/>\n",
              "    <path d=\"M18.56 5.44l.94 2.06.94-2.06 2.06-.94-2.06-.94-.94-2.06-.94 2.06-2.06.94zm-11 1L8.5 8.5l.94-2.06 2.06-.94-2.06-.94L8.5 2.5l-.94 2.06-2.06.94zm10 10l.94 2.06.94-2.06 2.06-.94-2.06-.94-.94-2.06-.94 2.06-2.06.94z\"/><path d=\"M17.41 7.96l-1.37-1.37c-.4-.4-.92-.59-1.43-.59-.52 0-1.04.2-1.43.59L10.3 9.45l-7.72 7.72c-.78.78-.78 2.05 0 2.83L4 21.41c.39.39.9.59 1.41.59.51 0 1.02-.2 1.41-.59l7.78-7.78 2.81-2.81c.8-.78.8-2.07 0-2.86zM5.41 20L4 18.59l7.72-7.72 1.47 1.35L5.41 20z\"/>\n",
              "  </svg>\n",
              "      </button>\n",
              "      \n",
              "  <style>\n",
              "    .colab-df-container {\n",
              "      display:flex;\n",
              "      flex-wrap:wrap;\n",
              "      gap: 12px;\n",
              "    }\n",
              "\n",
              "    .colab-df-convert {\n",
              "      background-color: #E8F0FE;\n",
              "      border: none;\n",
              "      border-radius: 50%;\n",
              "      cursor: pointer;\n",
              "      display: none;\n",
              "      fill: #1967D2;\n",
              "      height: 32px;\n",
              "      padding: 0 0 0 0;\n",
              "      width: 32px;\n",
              "    }\n",
              "\n",
              "    .colab-df-convert:hover {\n",
              "      background-color: #E2EBFA;\n",
              "      box-shadow: 0px 1px 2px rgba(60, 64, 67, 0.3), 0px 1px 3px 1px rgba(60, 64, 67, 0.15);\n",
              "      fill: #174EA6;\n",
              "    }\n",
              "\n",
              "    [theme=dark] .colab-df-convert {\n",
              "      background-color: #3B4455;\n",
              "      fill: #D2E3FC;\n",
              "    }\n",
              "\n",
              "    [theme=dark] .colab-df-convert:hover {\n",
              "      background-color: #434B5C;\n",
              "      box-shadow: 0px 1px 3px 1px rgba(0, 0, 0, 0.15);\n",
              "      filter: drop-shadow(0px 1px 2px rgba(0, 0, 0, 0.3));\n",
              "      fill: #FFFFFF;\n",
              "    }\n",
              "  </style>\n",
              "\n",
              "      <script>\n",
              "        const buttonEl =\n",
              "          document.querySelector('#df-ff16872a-cd4b-40e0-a886-c1b569248f74 button.colab-df-convert');\n",
              "        buttonEl.style.display =\n",
              "          google.colab.kernel.accessAllowed ? 'block' : 'none';\n",
              "\n",
              "        async function convertToInteractive(key) {\n",
              "          const element = document.querySelector('#df-ff16872a-cd4b-40e0-a886-c1b569248f74');\n",
              "          const dataTable =\n",
              "            await google.colab.kernel.invokeFunction('convertToInteractive',\n",
              "                                                     [key], {});\n",
              "          if (!dataTable) return;\n",
              "\n",
              "          const docLinkHtml = 'Like what you see? Visit the ' +\n",
              "            '<a target=\"_blank\" href=https://colab.research.google.com/notebooks/data_table.ipynb>data table notebook</a>'\n",
              "            + ' to learn more about interactive tables.';\n",
              "          element.innerHTML = '';\n",
              "          dataTable['output_type'] = 'display_data';\n",
              "          await google.colab.output.renderOutput(dataTable, element);\n",
              "          const docLink = document.createElement('div');\n",
              "          docLink.innerHTML = docLinkHtml;\n",
              "          element.appendChild(docLink);\n",
              "        }\n",
              "      </script>\n",
              "    </div>\n",
              "  </div>\n",
              "  "
            ],
            "text/plain": [
              "            int_rate    annual_inc  ...  initial_list_status  mths_since_last_delinq\n",
              "count  100000.000000  1.000000e+05  ...        100000.000000           100000.000000\n",
              "mean        0.130833  7.436061e+04  ...             1.565570                3.774040\n",
              "std         0.044773  7.467409e+04  ...             0.495684                3.410721\n",
              "min         0.053200  5.360000e+03  ...             1.000000                1.000000\n",
              "25%         0.097500  4.500000e+04  ...             1.000000                1.000000\n",
              "50%         0.127400  6.200000e+04  ...             2.000000                2.000000\n",
              "75%         0.158000  9.000000e+04  ...             2.000000                7.000000\n",
              "max         0.309900  8.300000e+06  ...             2.000000               11.000000\n",
              "\n",
              "[8 rows x 34 columns]"
            ]
          },
          "metadata": {},
          "execution_count": 13
        }
      ],
      "source": [
        "df.describe()"
      ]
    },
    {
      "cell_type": "code",
      "execution_count": 14,
      "metadata": {
        "colab": {
          "base_uri": "https://localhost:8080/",
          "height": 179
        },
        "id": "Pxj9WeWvKFnf",
        "outputId": "ddcc7b2a-f529-43bb-c60f-b9f398375992"
      },
      "outputs": [
        {
          "output_type": "execute_result",
          "data": {
            "text/html": [
              "\n",
              "  <div id=\"df-8b5b664f-b8bb-4d58-aae3-112987072be5\">\n",
              "    <div class=\"colab-df-container\">\n",
              "      <div>\n",
              "<style scoped>\n",
              "    .dataframe tbody tr th:only-of-type {\n",
              "        vertical-align: middle;\n",
              "    }\n",
              "\n",
              "    .dataframe tbody tr th {\n",
              "        vertical-align: top;\n",
              "    }\n",
              "\n",
              "    .dataframe thead th {\n",
              "        text-align: right;\n",
              "    }\n",
              "</style>\n",
              "<table border=\"1\" class=\"dataframe\">\n",
              "  <thead>\n",
              "    <tr style=\"text-align: right;\">\n",
              "      <th></th>\n",
              "      <th>int_rate</th>\n",
              "      <th>annual_inc</th>\n",
              "      <th>dti</th>\n",
              "      <th>delinq_2yrs</th>\n",
              "      <th>inq_last_6mths</th>\n",
              "      <th>pub_rec</th>\n",
              "      <th>revol_bal</th>\n",
              "      <th>total_acc</th>\n",
              "      <th>collections_12_mths_ex_med</th>\n",
              "      <th>acc_now_delinq</th>\n",
              "      <th>tot_coll_amt</th>\n",
              "      <th>tot_cur_bal</th>\n",
              "      <th>chargeoff_within_12_mths</th>\n",
              "      <th>delinq_amnt</th>\n",
              "      <th>tax_liens</th>\n",
              "      <th>funded_amnt</th>\n",
              "      <th>funded_amnt_inv</th>\n",
              "      <th>total_rec_late_fee</th>\n",
              "      <th>term1</th>\n",
              "      <th>open_acc</th>\n",
              "      <th>installment</th>\n",
              "      <th>revol_util</th>\n",
              "      <th>out_prncp</th>\n",
              "      <th>out_prncp_inv</th>\n",
              "      <th>total_rec_int</th>\n",
              "      <th>fico_range_low</th>\n",
              "      <th>fico_range_high</th>\n",
              "      <th>depvar</th>\n",
              "      <th>emp_length</th>\n",
              "      <th>home_ownership</th>\n",
              "      <th>verification_status</th>\n",
              "      <th>purpose</th>\n",
              "      <th>initial_list_status</th>\n",
              "      <th>mths_since_last_delinq</th>\n",
              "    </tr>\n",
              "  </thead>\n",
              "  <tbody>\n",
              "    <tr>\n",
              "      <th>Non-Null Count</th>\n",
              "      <td>0</td>\n",
              "      <td>0</td>\n",
              "      <td>0</td>\n",
              "      <td>0</td>\n",
              "      <td>0</td>\n",
              "      <td>0</td>\n",
              "      <td>0</td>\n",
              "      <td>0</td>\n",
              "      <td>0</td>\n",
              "      <td>0</td>\n",
              "      <td>0</td>\n",
              "      <td>0</td>\n",
              "      <td>0</td>\n",
              "      <td>0</td>\n",
              "      <td>0</td>\n",
              "      <td>0</td>\n",
              "      <td>0</td>\n",
              "      <td>0</td>\n",
              "      <td>0</td>\n",
              "      <td>0</td>\n",
              "      <td>0</td>\n",
              "      <td>0</td>\n",
              "      <td>0</td>\n",
              "      <td>0</td>\n",
              "      <td>0</td>\n",
              "      <td>0</td>\n",
              "      <td>0</td>\n",
              "      <td>0</td>\n",
              "      <td>0</td>\n",
              "      <td>0</td>\n",
              "      <td>0</td>\n",
              "      <td>0</td>\n",
              "      <td>0</td>\n",
              "      <td>0</td>\n",
              "    </tr>\n",
              "  </tbody>\n",
              "</table>\n",
              "</div>\n",
              "      <button class=\"colab-df-convert\" onclick=\"convertToInteractive('df-8b5b664f-b8bb-4d58-aae3-112987072be5')\"\n",
              "              title=\"Convert this dataframe to an interactive table.\"\n",
              "              style=\"display:none;\">\n",
              "        \n",
              "  <svg xmlns=\"http://www.w3.org/2000/svg\" height=\"24px\"viewBox=\"0 0 24 24\"\n",
              "       width=\"24px\">\n",
              "    <path d=\"M0 0h24v24H0V0z\" fill=\"none\"/>\n",
              "    <path d=\"M18.56 5.44l.94 2.06.94-2.06 2.06-.94-2.06-.94-.94-2.06-.94 2.06-2.06.94zm-11 1L8.5 8.5l.94-2.06 2.06-.94-2.06-.94L8.5 2.5l-.94 2.06-2.06.94zm10 10l.94 2.06.94-2.06 2.06-.94-2.06-.94-.94-2.06-.94 2.06-2.06.94z\"/><path d=\"M17.41 7.96l-1.37-1.37c-.4-.4-.92-.59-1.43-.59-.52 0-1.04.2-1.43.59L10.3 9.45l-7.72 7.72c-.78.78-.78 2.05 0 2.83L4 21.41c.39.39.9.59 1.41.59.51 0 1.02-.2 1.41-.59l7.78-7.78 2.81-2.81c.8-.78.8-2.07 0-2.86zM5.41 20L4 18.59l7.72-7.72 1.47 1.35L5.41 20z\"/>\n",
              "  </svg>\n",
              "      </button>\n",
              "      \n",
              "  <style>\n",
              "    .colab-df-container {\n",
              "      display:flex;\n",
              "      flex-wrap:wrap;\n",
              "      gap: 12px;\n",
              "    }\n",
              "\n",
              "    .colab-df-convert {\n",
              "      background-color: #E8F0FE;\n",
              "      border: none;\n",
              "      border-radius: 50%;\n",
              "      cursor: pointer;\n",
              "      display: none;\n",
              "      fill: #1967D2;\n",
              "      height: 32px;\n",
              "      padding: 0 0 0 0;\n",
              "      width: 32px;\n",
              "    }\n",
              "\n",
              "    .colab-df-convert:hover {\n",
              "      background-color: #E2EBFA;\n",
              "      box-shadow: 0px 1px 2px rgba(60, 64, 67, 0.3), 0px 1px 3px 1px rgba(60, 64, 67, 0.15);\n",
              "      fill: #174EA6;\n",
              "    }\n",
              "\n",
              "    [theme=dark] .colab-df-convert {\n",
              "      background-color: #3B4455;\n",
              "      fill: #D2E3FC;\n",
              "    }\n",
              "\n",
              "    [theme=dark] .colab-df-convert:hover {\n",
              "      background-color: #434B5C;\n",
              "      box-shadow: 0px 1px 3px 1px rgba(0, 0, 0, 0.15);\n",
              "      filter: drop-shadow(0px 1px 2px rgba(0, 0, 0, 0.3));\n",
              "      fill: #FFFFFF;\n",
              "    }\n",
              "  </style>\n",
              "\n",
              "      <script>\n",
              "        const buttonEl =\n",
              "          document.querySelector('#df-8b5b664f-b8bb-4d58-aae3-112987072be5 button.colab-df-convert');\n",
              "        buttonEl.style.display =\n",
              "          google.colab.kernel.accessAllowed ? 'block' : 'none';\n",
              "\n",
              "        async function convertToInteractive(key) {\n",
              "          const element = document.querySelector('#df-8b5b664f-b8bb-4d58-aae3-112987072be5');\n",
              "          const dataTable =\n",
              "            await google.colab.kernel.invokeFunction('convertToInteractive',\n",
              "                                                     [key], {});\n",
              "          if (!dataTable) return;\n",
              "\n",
              "          const docLinkHtml = 'Like what you see? Visit the ' +\n",
              "            '<a target=\"_blank\" href=https://colab.research.google.com/notebooks/data_table.ipynb>data table notebook</a>'\n",
              "            + ' to learn more about interactive tables.';\n",
              "          element.innerHTML = '';\n",
              "          dataTable['output_type'] = 'display_data';\n",
              "          await google.colab.output.renderOutput(dataTable, element);\n",
              "          const docLink = document.createElement('div');\n",
              "          docLink.innerHTML = docLinkHtml;\n",
              "          element.appendChild(docLink);\n",
              "        }\n",
              "      </script>\n",
              "    </div>\n",
              "  </div>\n",
              "  "
            ],
            "text/plain": [
              "                int_rate  ...  mths_since_last_delinq\n",
              "Non-Null Count         0  ...                       0\n",
              "\n",
              "[1 rows x 34 columns]"
            ]
          },
          "metadata": {},
          "execution_count": 14
        }
      ],
      "source": [
        "# 결측치 확인\n",
        "pd.DataFrame(df.isnull().sum()).rename(columns={0:'Non-Null Count'}).T"
      ]
    },
    {
      "cell_type": "markdown",
      "metadata": {
        "id": "5dBTvbZ0AlcO"
      },
      "source": [
        "## Test데이터 컬럼 합쳐주기"
      ]
    },
    {
      "cell_type": "code",
      "execution_count": 15,
      "metadata": {
        "id": "xRPjaBXkAlcP"
      },
      "outputs": [],
      "source": [
        "df_test = concat_column(df_test, 'emp_length', 1, 12)"
      ]
    },
    {
      "cell_type": "code",
      "execution_count": 16,
      "metadata": {
        "id": "BuuuJ9ZVAlcP"
      },
      "outputs": [],
      "source": [
        "df_test = concat_column(df_test, 'home_ownership', 1, 6)"
      ]
    },
    {
      "cell_type": "code",
      "execution_count": 17,
      "metadata": {
        "id": "dpbHNeEqAlcP"
      },
      "outputs": [],
      "source": [
        "df_test = concat_column(df_test, 'verification_status', 1, 3)"
      ]
    },
    {
      "cell_type": "code",
      "execution_count": 18,
      "metadata": {
        "id": "BZUWVrryAlcQ"
      },
      "outputs": [],
      "source": [
        "df_test = concat_column(df_test, 'purpose', 1, 14)"
      ]
    },
    {
      "cell_type": "code",
      "execution_count": 19,
      "metadata": {
        "id": "WbY_PzdTAlcQ"
      },
      "outputs": [],
      "source": [
        "df_test = concat_column(df_test, 'initial_list_status', 1, 2)"
      ]
    },
    {
      "cell_type": "code",
      "execution_count": null,
      "metadata": {
        "id": "vrSK0-_MAlcQ"
      },
      "outputs": [],
      "source": [
        "df_test = concat_column(df_test, 'mths_since_last_delinq', 1, 11)"
      ]
    },
    {
      "cell_type": "markdown",
      "metadata": {
        "id": "l167Qx7FqAKK"
      },
      "source": [
        "## 다중공선성 제거"
      ]
    },
    {
      "cell_type": "code",
      "execution_count": null,
      "metadata": {
        "id": "TYXV8e78cDWr"
      },
      "outputs": [],
      "source": [
        "plt.figure(figsize = (40,40))\n",
        "sns.heatmap(df.corr(), annot=True, cmap='Blues')\n",
        "plt.show()"
      ]
    },
    {
      "cell_type": "code",
      "execution_count": null,
      "metadata": {
        "id": "QR0YQK5NlCE-"
      },
      "outputs": [],
      "source": [
        "plt.figure(figsize = (10,10))"
      ]
    },
    {
      "cell_type": "code",
      "execution_count": null,
      "metadata": {
        "id": "i6-umQ_q1pZn"
      },
      "outputs": [],
      "source": [
        "# 다중 공선성 제거\n",
        "# df = df.drop(['out_prncp_inv','funded_amnt','fico_range_high'],axis=1)"
      ]
    },
    {
      "cell_type": "code",
      "execution_count": null,
      "metadata": {
        "id": "IeW-h3iIg-E-"
      },
      "outputs": [],
      "source": [
        "from statsmodels.stats.outliers_influence import variance_inflation_factor\n",
        "\n",
        "vif = pd.DataFrame()\n",
        "vif[\"VIF Factor\"] = [variance_inflation_factor(\n",
        "    df.values, i) for i in range(df.shape[1])]\n",
        "vif[\"features\"] = df.columns\n",
        "vif"
      ]
    },
    {
      "cell_type": "code",
      "execution_count": null,
      "metadata": {
        "id": "M9SfmJULhXEI"
      },
      "outputs": [],
      "source": [
        "vif[vif[\"VIF Factor\"] > 10].sort_values('VIF Factor',ascending=False)"
      ]
    },
    {
      "cell_type": "code",
      "execution_count": null,
      "metadata": {
        "id": "ye4MxNgThkAw"
      },
      "outputs": [],
      "source": [
        "for column in vif[vif[\"VIF Factor\"] > 10]['features']:\n",
        "    print(column, df[column].corr(df['depvar']))"
      ]
    },
    {
      "cell_type": "code",
      "execution_count": null,
      "metadata": {
        "id": "OgE0JYkytNXw"
      },
      "outputs": [],
      "source": [
        "# 라벨(depvar) 비율 확인\n",
        "print('y=1 ratio :', df.depvar.sum()/len(df))"
      ]
    },
    {
      "cell_type": "code",
      "execution_count": null,
      "metadata": {
        "id": "qJwEqagJJV3Y"
      },
      "outputs": [],
      "source": [
        "# rfe로 feature selection train에 과적합 되는 것을 방지\n",
        "# df = df.drop(['fico_range_high','out_prncp_inv'],axis=1)"
      ]
    },
    {
      "cell_type": "code",
      "execution_count": null,
      "metadata": {
        "id": "K-HLJM87i7nW"
      },
      "outputs": [],
      "source": [
        "# df_test = df_test.drop(['fico_range_high','out_prncp_inv'],axis=1)"
      ]
    },
    {
      "cell_type": "markdown",
      "metadata": {
        "id": "JMTYTI6cxlNn"
      },
      "source": [
        "## 이상치 확인(제거는 아래)"
      ]
    },
    {
      "cell_type": "code",
      "execution_count": null,
      "metadata": {
        "id": "zKp3gRKAx6dI"
      },
      "outputs": [],
      "source": [
        "def outliers_iqr(data):\n",
        "    q1, q3 = np.percentile(data, [25, 75])\n",
        "    iqr = q3 - q1\n",
        "    lower_bound = q1 - (iqr * 1.5)\n",
        "    upper_bound = q3 + (iqr * 1.5)\n",
        "    \n",
        "    return np.where((data <= upper_bound)&(data >= lower_bound)) #조건에 해당하는 인덱스를 반환"
      ]
    },
    {
      "cell_type": "code",
      "execution_count": null,
      "metadata": {
        "id": "SmJhyV3oxj6b"
      },
      "outputs": [],
      "source": [
        "for column in df.columns:\n",
        "    print(column)\n",
        "    plt.figure(figsize=(5,5))\n",
        "    sns.boxplot(x=\"depvar\", y=column, data=df)\n",
        "    plt.show()"
      ]
    },
    {
      "cell_type": "code",
      "execution_count": null,
      "metadata": {
        "id": "o3n8rlBFtNXy"
      },
      "outputs": [],
      "source": [
        "X = df.drop('depvar', axis=1)\n",
        "y = df['depvar']"
      ]
    },
    {
      "cell_type": "markdown",
      "metadata": {
        "id": "Dm1KDHC9kfD6"
      },
      "source": [
        "## 결정계수 확인"
      ]
    },
    {
      "cell_type": "code",
      "execution_count": null,
      "metadata": {
        "id": "sKcjEuzrkhUZ"
      },
      "outputs": [],
      "source": [
        "import statsmodels.api as sm\n",
        "from numpy.linalg import svd\n",
        "X = sm.add_constant(X)\n",
        "model = sm.Logit(y,X)\n",
        "results = model.fit()"
      ]
    },
    {
      "cell_type": "code",
      "execution_count": null,
      "metadata": {
        "id": "SbsbQSChlEUP"
      },
      "outputs": [],
      "source": [
        "print( results.summary() )\n",
        "# Pseudo R-squ.: 0.1251, 제거한 feature: ['fico_range_high','out_prncp_inv']\n",
        "# Pseudo R-squ.: 0.1251, 제거한 feature: ['fico_range_high','out_prncp_inv','funded_amnt']\n",
        "# Pseudo R-squ.: 0.1251, 제거한 feature: ['fico_range_high','out_prncp_inv','out_prncp','funded_amnt']"
      ]
    },
    {
      "cell_type": "markdown",
      "metadata": {
        "id": "2vGYNjjc5rW9"
      },
      "source": [
        "## RFECV(Feature selection)"
      ]
    },
    {
      "cell_type": "code",
      "execution_count": null,
      "metadata": {
        "id": "pwCJpqI7BJLi"
      },
      "outputs": [],
      "source": [
        "from sklearn.feature_selection import RFECV\n",
        "rfe = RFECV(estimator=DecisionTreeClassifier(),cv=5)\n",
        "rfe = rfe.fit(X, y.values.ravel())\n",
        "print(rfe.support_)\n",
        "for tf, column in zip(rfe.support_,X.columns):\n",
        "    print(f'{column} : {tf}')\n",
        "print(rfe.ranking_)"
      ]
    },
    {
      "cell_type": "markdown",
      "metadata": {
        "id": "GWvXymNUlWot"
      },
      "source": [
        "## Train Valid Split"
      ]
    },
    {
      "cell_type": "code",
      "execution_count": null,
      "metadata": {
        "id": "x0M1uzOwlT-E"
      },
      "outputs": [],
      "source": [
        "# data를 training set과 validation set으로 나누기\n",
        "X_train, X_valid, y_train, y_valid = train_test_split(X, y, test_size=0.2)"
      ]
    },
    {
      "cell_type": "code",
      "execution_count": null,
      "metadata": {
        "id": "DiI2XyFe6Ad8"
      },
      "outputs": [],
      "source": [
        "# # 이상치 제거\n",
        "# idx_list = outliers_iqr(X_train['int_rate'])[0]\n",
        "# X_train = X_train.iloc[idx_list]\n",
        "# y_train = y_train.iloc[idx_list]"
      ]
    },
    {
      "cell_type": "code",
      "execution_count": null,
      "metadata": {
        "id": "oJV6A5PI6mIF"
      },
      "outputs": [],
      "source": [
        "print(len(X_train), len(y_train))"
      ]
    },
    {
      "cell_type": "markdown",
      "metadata": {
        "id": "S71VRFytlv5T"
      },
      "source": [
        "# valid로 테스트"
      ]
    },
    {
      "cell_type": "markdown",
      "metadata": {
        "id": "N973cQKelSDJ"
      },
      "source": [
        "# Single Model(XGBoost)\n",
        "## XGBClassifier의 하이퍼 파라미터 설명\n",
        "- **LINK** : https://xgboost.readthedocs.io/en/stable/python/python_api.html#xgboost.XGBClassifier\n",
        "- **max_depth=3** : 디시전 트리의 최대 깊이\n",
        "- **learning_rate=0.1** : 0과 1 사이의 값을 가지는 부스팅에 대한 학습률(eta). 매 부스팅 단계 이후 새로이 추가된 가중치는 이 파라미터로 조정된다. 이 값이 낮을수록 보수적이며, 수렴에 필요한 더 많은 디시전 트리가 필요하다.\n",
        "- **n_estimators=100** : 라운드의 횟수 또는 부스팅된 디시전 트리의 개수\n",
        "- **silent=True** : 부스팅의 수행 동안 메시지를 출력할지에 대한 여부\n",
        "- **objective=\"reg:linear\"** : 모델이 학습할 작업의 분류, 미리 정의된 작업은 문자열로 지정이 가능하지만, 그렇지 않은 경우 콜러블callable을 만들어서 지정할 수도 있다.\n",
        "- **booster=\"gbtree\"** : 'gbtree', 'gblinear', 'dart'일 수 있다. 'dart'는 드롭아웃(dropout)이라는 특성을 추가한다(과적합 방지를 위해 무작위로 디시전 트리를 선택해 제거(드롭)한다). 'gblinear'는 정규화된 선형 모델을 만든다(디시전 트리가 아니라 라소 회귀와 유사하다).\n",
        "- **nthread=None** : 더 이상 사용되지 않는다.\n",
        "- **n_jobs** : 사용할 스레드의 개수\n",
        "- **gamma=0** : 노드 분할에 필요한 최소 손실 감소\n",
        "- **min_child_weight=1** : 자식 노드 생성에 필요한 헤시안(hessian) 합의 최솟값\n",
        "- **max_delta_step=0** : 보다 보수적으로 갱신을 수행하도록 만드는 값. 불균형 범주의 데이터셋에 대해서는 1부터 10까지의 값으로 설정한다.\n",
        "- **subsample=1** : 부스팅에 사용할 샘플의 비율\n",
        "- **colsample_bytree=1** : 부스팅에 사용할 특징 열의 비율\n",
        "- **colsample_bylevel=1** : 각 디시전 트리의 수준별 사용할 특징 열의 비율\n",
        "- **colsample_bynode=1** : 각 디시전 트리의 노드별 사용할 특징 열의 비율\n",
        "- **reg_alpha=0** : L1 정규화(가중치의 평균). 이 값이 클수록 보수적이게 된다.\n",
        "- **reg_lambda=1** : L2 정규화(가중치의 제곱근). 이 값이 클수록 보수적이게 된다.\n",
        "- **base_score=.5** : 초기 편향치(bias)\n",
        "- **seed=None** : 더 이상 사용되지 않는다.\n",
        "- **random_state=0** : 난수 생성 시드\n",
        "- **missing=None** : 누락된 데이터가 해석될 값. None은 np.nan을 의미한다.\n",
        "- **importance_type='gain'** : 특징 중요도의 유형. 'gain', 'weight', 'cover', 'total_gain', 'total_cover'로 설정될 수 있다."
      ]
    },
    {
      "cell_type": "code",
      "execution_count": null,
      "metadata": {
        "id": "yYcim_AKlSDS"
      },
      "outputs": [],
      "source": [
        "# best parameter를 사용하여 prediction 수행\n",
        "xgb_clf = xgboost.XGBClassifier(max_depth = 10,\n",
        "                                n_estimators = 300\n",
        "                                  )"
      ]
    },
    {
      "cell_type": "code",
      "execution_count": null,
      "metadata": {
        "id": "moU6kDiklSDS"
      },
      "outputs": [],
      "source": [
        "#CV기반 스태킹 모델별 학습 부분\n",
        "def get_stacking_data(model, X_train, y_train, X_test, n_folds=5, n_repeats=1, random_state=36851234, resample_type='SMOTETomek'):\n",
        "    acc_list = []\n",
        "    pre_list = []\n",
        "    re_list = []\n",
        "    auc_list = []\n",
        "    f1_list = []\n",
        "\n",
        "    cv = RepeatedStratifiedKFold(n_splits=n_folds, n_repeats=n_repeats, random_state=random_state)\n",
        "\n",
        "    # (X_shape크기,1)의 크기를 갖는다.\n",
        "    new_X_train = np.zeros((X_train.shape[0], 1))\n",
        "\n",
        "    new_X_test = np.zeros((X_test.shape[0], n_folds  * n_repeats))\n",
        "\n",
        "    for cnt, (train_index, valid_index) in enumerate(cv.split(X_train, y_train)):\n",
        "        print(\"TRAIN:\", train_index, \"TEST:\", valid_index)\n",
        "        X_train_, X_valid_ = X_train.iloc[train_index], X_train.iloc[valid_index]\n",
        "        y_train_, y_valid_ = y_train.iloc[train_index], y_train.iloc[valid_index]\n",
        "\n",
        "        # 데이터 oversampling, undersampling\n",
        "        if resample_type == 'SMOTETomek':\n",
        "            X_train_, y_train_ = SMOTETomek().fit_resample(X_train_, y_train_)\n",
        "        elif resample_type == 'SMOTE':\n",
        "            X_train_, y_train_ = SMOTETomek().fit_resample(X_train_, y_train_)\n",
        "        elif resample_type == 'TomekLinks':\n",
        "            X_train_, y_train_ = TomekLinks().fit_resample(X_train_, y_train_)\n",
        "\n",
        "        # 학습\n",
        "        model.fit(X_train_,y_train_)\n",
        "\n",
        "        # 검증 예측 결과 데이터로 새로운 트레인 데이터 생성\n",
        "        y_pred_ = model.predict(X_valid_)\n",
        "        new_X_train[valid_index, :] = y_pred_.reshape(-1, 1)\n",
        "\n",
        "        #fold별 성능 list에 추가\n",
        "        acc_list.append(accuracy_score(y_pred_, y_valid_))\n",
        "        pre_list.append(precision_score(y_pred_, y_valid_))\n",
        "        re_list.append(recall_score(y_pred_, y_valid_))\n",
        "        auc_list.append(roc_auc_score(y_pred_, y_valid_))\n",
        "        f1_list.append(f1_score(y_pred_, y_valid_))\n",
        "\n",
        "        # 테스트 예측 결과 데이터로 새로운 테스트 데이터 생성\n",
        "        new_X_test[:, cnt] = model.predict(X_test)\n",
        "\n",
        "    new_X_test_mean = np.mean(new_X_test, axis=1).reshape(-1, 1)\n",
        "\n",
        "    # 모델별 성능 평가\n",
        "    print('\\n정확도: {:.4f}'.format(np.mean(acc_list)))\n",
        "    print('정밀도: {:.4f}'.format(np.mean(pre_list)))\n",
        "    print('재현율: {:.4f}'.format(np.mean(re_list)))\n",
        "    print('AUC: {:.4f}'.format(np.mean(auc_list)))\n",
        "    print('F1: {:.4f}'.format(np.mean(f1_list)))\n",
        "\n",
        "    return new_X_train, new_X_test_mean"
      ]
    },
    {
      "cell_type": "code",
      "execution_count": null,
      "metadata": {
        "id": "OwDHSdQ2lSDT"
      },
      "outputs": [],
      "source": [
        "# xgb cv stacking 데이터 생성\n",
        "xgb_tomek_train, xgb_tomek_test = get_stacking_data(xgb_clf, X_train, y_train, X_valid, n_folds=5, n_repeats=1, random_state=36851234, resample_type='SMOTETomek')\n",
        "\n",
        "# 정확도: 0.7496\n",
        "# 정밀도: 0.5413\n",
        "# 재현율: 0.6372\n",
        "# AUC: 0.7150\n",
        "# F1: 0.5854"
      ]
    },
    {
      "cell_type": "code",
      "execution_count": null,
      "metadata": {
        "id": "289jggNXlSDT"
      },
      "outputs": [],
      "source": [
        "xgb_smote_train, xgb_smote_test = get_stacking_data(xgb_clf, X_train, y_train, X_valid, n_folds=5, n_repeats=1, random_state=36851234, resample_type='SMOTE')\n",
        "\n",
        "# 정확도: 0.7504\n",
        "# 정밀도: 0.5435\n",
        "# 재현율: 0.6385\n",
        "# AUC: 0.7160\n",
        "# F1: 0.5872"
      ]
    },
    {
      "cell_type": "markdown",
      "metadata": {
        "id": "MLK9lFVDlSDT"
      },
      "source": [
        "##LGBM"
      ]
    },
    {
      "cell_type": "code",
      "execution_count": null,
      "metadata": {
        "id": "SpORNVXglSDT"
      },
      "outputs": [],
      "source": [
        "# lgbm cv stacking 데이터 생성\n",
        "lgbm_clf = LGBMClassifier(max_depth = 15,\n",
        "                          n_estimators = 400\n",
        "                          )"
      ]
    },
    {
      "cell_type": "code",
      "execution_count": null,
      "metadata": {
        "id": "G1Sf9V37lSDT"
      },
      "outputs": [],
      "source": [
        "lgbm_tomek_train, lgbm_tomek_test = get_stacking_data(lgbm_clf, X_train, y_train, X_valid, n_folds=5, n_repeats=1, random_state=36851234, resample_type='SMOTETomek')\n",
        "\n",
        "# 정확도: 0.7517\n",
        "# 정밀도: 0.5469\n",
        "# 재현율: 0.6402\n",
        "# AUC: 0.7175\n",
        "# F1: 0.5899"
      ]
    },
    {
      "cell_type": "code",
      "execution_count": null,
      "metadata": {
        "id": "7QpfnU6GlSDT"
      },
      "outputs": [],
      "source": [
        "lgbm_smote_train, lgbm_smote_test = get_stacking_data(lgbm_clf, X_train, y_train, X_valid, n_folds=5, n_repeats=1, random_state=36851234, resample_type='SMOTE')\n",
        "\n",
        "# 정확도: 0.7529\n",
        "# 정밀도: 0.5478\n",
        "# 재현율: 0.6427\n",
        "# AUC: 0.7191\n",
        "# F1: 0.5915"
      ]
    },
    {
      "cell_type": "markdown",
      "metadata": {
        "id": "246Obw9VlSDT"
      },
      "source": [
        "##Final classification"
      ]
    },
    {
      "cell_type": "code",
      "execution_count": null,
      "metadata": {
        "id": "9CsfjmtplSDT"
      },
      "outputs": [],
      "source": [
        "new_X_train = np.concatenate((xgb_tomek_train, xgb_smote_train, lgbm_tomek_train, lgbm_smote_train), axis = 1)\n",
        "new_X_valid = np.concatenate((xgb_tomek_test, xgb_smote_test, lgbm_tomek_test, lgbm_smote_test), axis = 1)\n",
        "\n",
        "final_lgbm_clf = LGBMClassifier(max_depth = 15,\n",
        "                      n_estimators = 400\n",
        "                      )\n",
        "  \n",
        "final_lgbm_clf.fit(new_X_train, y_train)"
      ]
    },
    {
      "cell_type": "code",
      "execution_count": null,
      "metadata": {
        "id": "L6R50gHtkM8U"
      },
      "outputs": [],
      "source": [
        "logit_roc_auc = roc_auc_score(y_valid, final_lgbm_clf.predict(new_X_valid))\n",
        "fpr, tpr, thresholds = roc_curve(y_valid, final_lgbm_clf.predict_proba(new_X_valid)[:,1])\n",
        "J = tpr - fpr\n",
        "ix = np.argmax(J)\n",
        "best_thresh = thresholds[ix]\n",
        "print(best_thresh)\n",
        "plt.figure()\n",
        "plt.plot(fpr, tpr, label='Logistic Regression (area = %0.2f)' % logit_roc_auc)\n",
        "plt.plot([0, 1], [0, 1],'r--')\n",
        "plt.xlim([0.0, 1.0])\n",
        "plt.ylim([0.0, 1.05])\n",
        "plt.xlabel('False Positive Rate')\n",
        "plt.ylabel('True Positive Rate')\n",
        "sens, spec = tpr[ix], 1-fpr[ix]\n",
        "plt.scatter(fpr[ix], tpr[ix], marker='+', s=100, color='r', \n",
        "            label='Best threshold = %.3f, \\nSensitivity = %.3f, \\nSpecificity = %.3f' % (best_thresh, sens, spec))\n",
        "plt.title('Receiver operating characteristic')\n",
        "plt.legend(loc=\"lower right\")\n",
        "plt.savefig('Log_ROC')\n",
        "plt.show()"
      ]
    },
    {
      "cell_type": "code",
      "execution_count": null,
      "metadata": {
        "id": "ZFloPmPo4BMv"
      },
      "outputs": [],
      "source": [
        "y_predict_valid = final_lgbm_clf.predict_proba(new_X_valid)\n",
        "#threshold 조정\n",
        "y_predict_valid = (y_predict_valid[:,1] > best_thresh).astype(int)"
      ]
    },
    {
      "cell_type": "code",
      "execution_count": null,
      "metadata": {
        "id": "7CDTGiseKawC"
      },
      "outputs": [],
      "source": [
        "sum(y_predict_valid)/len(y_predict_valid)"
      ]
    },
    {
      "cell_type": "code",
      "execution_count": null,
      "metadata": {
        "id": "O8APikoQmq57"
      },
      "outputs": [],
      "source": [
        "get_clf_eval(y_valid, y_predict_valid)\n",
        "# 제거한 feature: 'out_prncp','out_prncp_inv'\n",
        "# 정확도: 0.7306\n",
        "# 정밀도: 0.5673\n",
        "# 재현율: 0.7212\n",
        "# AUC: 0.7281\n",
        "# F1: 0.6351"
      ]
    },
    {
      "cell_type": "markdown",
      "metadata": {
        "id": "sbDLjNBzlq6w"
      },
      "source": [
        "# TEST에 적용"
      ]
    },
    {
      "cell_type": "markdown",
      "metadata": {
        "id": "i4qJsie7tNX0"
      },
      "source": [
        "# Single Model(XGBoost)\n",
        "## XGBClassifier의 하이퍼 파라미터 설명\n",
        "- **LINK** : https://xgboost.readthedocs.io/en/stable/python/python_api.html#xgboost.XGBClassifier\n",
        "- **max_depth=3** : 디시전 트리의 최대 깊이\n",
        "- **learning_rate=0.1** : 0과 1 사이의 값을 가지는 부스팅에 대한 학습률(eta). 매 부스팅 단계 이후 새로이 추가된 가중치는 이 파라미터로 조정된다. 이 값이 낮을수록 보수적이며, 수렴에 필요한 더 많은 디시전 트리가 필요하다.\n",
        "- **n_estimators=100** : 라운드의 횟수 또는 부스팅된 디시전 트리의 개수\n",
        "- **silent=True** : 부스팅의 수행 동안 메시지를 출력할지에 대한 여부\n",
        "- **objective=\"reg:linear\"** : 모델이 학습할 작업의 분류, 미리 정의된 작업은 문자열로 지정이 가능하지만, 그렇지 않은 경우 콜러블callable을 만들어서 지정할 수도 있다.\n",
        "- **booster=\"gbtree\"** : 'gbtree', 'gblinear', 'dart'일 수 있다. 'dart'는 드롭아웃(dropout)이라는 특성을 추가한다(과적합 방지를 위해 무작위로 디시전 트리를 선택해 제거(드롭)한다). 'gblinear'는 정규화된 선형 모델을 만든다(디시전 트리가 아니라 라소 회귀와 유사하다).\n",
        "- **nthread=None** : 더 이상 사용되지 않는다.\n",
        "- **n_jobs** : 사용할 스레드의 개수\n",
        "- **gamma=0** : 노드 분할에 필요한 최소 손실 감소\n",
        "- **min_child_weight=1** : 자식 노드 생성에 필요한 헤시안(hessian) 합의 최솟값\n",
        "- **max_delta_step=0** : 보다 보수적으로 갱신을 수행하도록 만드는 값. 불균형 범주의 데이터셋에 대해서는 1부터 10까지의 값으로 설정한다.\n",
        "- **subsample=1** : 부스팅에 사용할 샘플의 비율\n",
        "- **colsample_bytree=1** : 부스팅에 사용할 특징 열의 비율\n",
        "- **colsample_bylevel=1** : 각 디시전 트리의 수준별 사용할 특징 열의 비율\n",
        "- **colsample_bynode=1** : 각 디시전 트리의 노드별 사용할 특징 열의 비율\n",
        "- **reg_alpha=0** : L1 정규화(가중치의 평균). 이 값이 클수록 보수적이게 된다.\n",
        "- **reg_lambda=1** : L2 정규화(가중치의 제곱근). 이 값이 클수록 보수적이게 된다.\n",
        "- **base_score=.5** : 초기 편향치(bias)\n",
        "- **seed=None** : 더 이상 사용되지 않는다.\n",
        "- **random_state=0** : 난수 생성 시드\n",
        "- **missing=None** : 누락된 데이터가 해석될 값. None은 np.nan을 의미한다.\n",
        "- **importance_type='gain'** : 특징 중요도의 유형. 'gain', 'weight', 'cover', 'total_gain', 'total_cover'로 설정될 수 있다."
      ]
    },
    {
      "cell_type": "code",
      "execution_count": null,
      "metadata": {
        "id": "P_DHTWoQNPYT"
      },
      "outputs": [],
      "source": [
        "# best parameter를 사용하여 prediction 수행\n",
        "xgb_clf = xgboost.XGBClassifier(max_depth = 10,\n",
        "                                n_estimators = 300\n",
        "                                  )"
      ]
    },
    {
      "cell_type": "code",
      "execution_count": null,
      "metadata": {
        "id": "qbKAnwybwM2a"
      },
      "outputs": [],
      "source": [
        "len(df.columns)"
      ]
    },
    {
      "cell_type": "code",
      "execution_count": null,
      "metadata": {
        "id": "gB1Y6EwTwOZN"
      },
      "outputs": [],
      "source": [
        "len(df_test.columns)"
      ]
    },
    {
      "cell_type": "code",
      "source": [
        "X = X.drop(['const'],axis=1)"
      ],
      "metadata": {
        "id": "Ve2cjNU6z0FZ"
      },
      "execution_count": null,
      "outputs": []
    },
    {
      "cell_type": "code",
      "execution_count": null,
      "metadata": {
        "id": "zbFmkmZRN-uI"
      },
      "outputs": [],
      "source": [
        "# xgb cv stacking 데이터 생성\n",
        "xgb_tomek_train, xgb_tomek_test = get_stacking_data(xgb_clf, X, y, df_test, n_folds=5, n_repeats=1, random_state=36851234, resample_type='SMOTETomek')\n",
        "# 정확도: 0.7482\n",
        "# 정밀도: 0.5409\n",
        "# 재현율: 0.6328\n",
        "# AUC: 0.7128\n",
        "# F1: 0.5832"
      ]
    },
    {
      "cell_type": "code",
      "execution_count": null,
      "metadata": {
        "id": "gLGJGtMIOXrv"
      },
      "outputs": [],
      "source": [
        "xgb_smote_train, xgb_smote_test = get_stacking_data(xgb_clf, X, y, df_test, n_folds=5, n_repeats=1, random_state=36851234, resample_type='SMOTE')\n",
        "# 정확도: 0.7494\n",
        "# 정밀도: 0.5387\n",
        "# 재현율: 0.6361\n",
        "# AUC: 0.7143\n",
        "# F1: 0.5833"
      ]
    },
    {
      "cell_type": "markdown",
      "metadata": {
        "id": "kW1Mq5ZciBok"
      },
      "source": [
        "##LGBM"
      ]
    },
    {
      "cell_type": "code",
      "execution_count": null,
      "metadata": {
        "id": "HLYgU4S5-rSl"
      },
      "outputs": [],
      "source": [
        "# lgbm cv stacking 데이터 생성\n",
        "lgbm_clf = LGBMClassifier(max_depth = 15,\n",
        "                          n_estimators = 400\n",
        "                          )\n",
        "# 정확도: 0.7523\n",
        "# 정밀도: 0.5419\n",
        "# 재현율: 0.6418\n",
        "# AUC: 0.7180\n",
        "# F1: 0.5876"
      ]
    },
    {
      "cell_type": "code",
      "execution_count": null,
      "metadata": {
        "id": "sAfJVEY2ucfj"
      },
      "outputs": [],
      "source": [
        "lgbm_tomek_train, lgbm_tomek_test = get_stacking_data(lgbm_clf, X, y, df_test, n_folds=5, n_repeats=1, random_state=36851234, resample_type='SMOTETomek')"
      ]
    },
    {
      "cell_type": "code",
      "execution_count": null,
      "metadata": {
        "id": "-QbQTeMTudvf"
      },
      "outputs": [],
      "source": [
        "lgbm_smote_train, lgbm_smote_test = get_stacking_data(lgbm_clf, X, y, df_test, n_folds=5, n_repeats=1, random_state=36851234, resample_type='SMOTE')"
      ]
    },
    {
      "cell_type": "markdown",
      "metadata": {
        "id": "N0HXy_-BvALT"
      },
      "source": [
        "##Final classification"
      ]
    },
    {
      "cell_type": "code",
      "execution_count": null,
      "metadata": {
        "id": "7vpZGWM2vDtc"
      },
      "outputs": [],
      "source": [
        "new_X_train = np.concatenate((xgb_tomek_train, xgb_smote_train, lgbm_tomek_train, lgbm_smote_train), axis = 1)\n",
        "new_X_test= np.concatenate((xgb_tomek_test, xgb_smote_test, lgbm_tomek_test, lgbm_smote_test), axis = 1)\n",
        "\n",
        "final_lgbm_clf = LGBMClassifier(max_depth = 15,\n",
        "                      n_estimators = 400\n",
        "                      )\n",
        "  \n",
        "final_lgbm_clf.fit(new_X_train, y)\n",
        "y_predict_test = final_lgbm_clf.predict_proba(new_X_test)\n"
      ]
    },
    {
      "cell_type": "markdown",
      "metadata": {
        "id": "8RWI78FKtNX5"
      },
      "source": [
        "# Submission"
      ]
    },
    {
      "cell_type": "markdown",
      "metadata": {
        "id": "j0YWf0xQA5OZ"
      },
      "source": [
        "### 결과\n",
        "\n"
      ]
    },
    {
      "cell_type": "code",
      "execution_count": null,
      "metadata": {
        "id": "sNyH4kyklEgv"
      },
      "outputs": [],
      "source": [
        "submit['answer'] = (y_predict_test[:,1] > best_thresh).astype(int)\n",
        "print(best_thresh)\n",
        "\n",
        "sum(submit['answer'])/len(submit['answer'])\n",
        "# best answer: 0.3760051373687737"
      ]
    },
    {
      "cell_type": "code",
      "execution_count": null,
      "metadata": {
        "id": "vrsqWR4MmYnD"
      },
      "outputs": [],
      "source": [
        "# 제출 파일 저장\n",
        "submit.to_csv('/content/drive/MyDrive/Colab Notebooks/220126//data/prediction.csv', index=False)"
      ]
    },
    {
      "cell_type": "code",
      "execution_count": null,
      "metadata": {
        "id": "EC69ONIVCy-d"
      },
      "outputs": [],
      "source": [
        "best_df = pd.read_csv('/content/drive/MyDrive/Colab Notebooks/220126//data/best_answer.csv')"
      ]
    },
    {
      "cell_type": "code",
      "execution_count": null,
      "metadata": {
        "id": "EKHcGBpeC-zI"
      },
      "outputs": [],
      "source": [
        "idx = []\n",
        "for i, (ans1, ans2) in enumerate(zip(submit[\"answer\"],best_df[\"answer\"])):\n",
        "    if ans1 != ans2:\n",
        "        idx.append(i)"
      ]
    },
    {
      "cell_type": "code",
      "execution_count": null,
      "metadata": {
        "id": "fpUfLC9_ENFh"
      },
      "outputs": [],
      "source": [
        "len(idx)"
      ]
    },
    {
      "cell_type": "markdown",
      "metadata": {
        "id": "kdIGLeJZGsYM"
      },
      "source": [
        "### 이번에 한 일"
      ]
    },
    {
      "cell_type": "markdown",
      "metadata": {
        "id": "QCcJ6KBzGua5"
      },
      "source": [
        "1. TOMEK를 TOMKESMOTE로 변경하여 테스트해봄\n",
        "2. CV stacking 모델로 성능 평가"
      ]
    },
    {
      "cell_type": "markdown",
      "metadata": {
        "id": "gCsdaIgE3UEg"
      },
      "source": [
        "### 다음으로 해볼 일\n"
      ]
    },
    {
      "cell_type": "markdown",
      "metadata": {
        "id": "JbXfaP7yGM-T"
      },
      "source": [
        "1. 트레인 predict 데이터와 label, valid predict 데이터와 label을 그래프로 나타내서 양상이 어떤지 확인해보기\n",
        "\n",
        "2. Parameter 튜닝 특히 min_leaves에 대해 튜닝하는 것을 위주로 해야 성능이 잘 나온다고 함\n",
        "\n",
        "4. 다중공선성 결정계수 낮아지지 않게 해보기\n",
        "\n",
        "5. 이상치 제거\n",
        "\n",
        "6. Ridge, Lasso regularization"
      ]
    },
    {
      "cell_type": "markdown",
      "metadata": {
        "id": "9V0QygYeo2xl"
      },
      "source": [
        "## 현재 돌고 있는 모델"
      ]
    },
    {
      "cell_type": "markdown",
      "metadata": {
        "id": "b_AC3nOSzdVm"
      },
      "source": [
        "CV stacking 적용된 xgb, lgbm에 tomek, smotetomek feature 2개만 제거"
      ]
    },
    {
      "cell_type": "code",
      "execution_count": null,
      "metadata": {
        "id": "CssUTRufzlhQ"
      },
      "outputs": [],
      "source": [
        ""
      ]
    }
  ],
  "metadata": {
    "accelerator": "GPU",
    "colab": {
      "collapsed_sections": [
        "gETbIfKttNXq",
        "JMTYTI6cxlNn",
        "kdIGLeJZGsYM"
      ],
      "name": "tabular_bankrupt.ipynb",
      "provenance": []
    },
    "kernelspec": {
      "display_name": "Python 3 (ipykernel)",
      "language": "python",
      "name": "python3"
    },
    "language_info": {
      "codemirror_mode": {
        "name": "ipython",
        "version": 3
      },
      "file_extension": ".py",
      "mimetype": "text/x-python",
      "name": "python",
      "nbconvert_exporter": "python",
      "pygments_lexer": "ipython3",
      "version": "3.8.5"
    }
  },
  "nbformat": 4,
  "nbformat_minor": 0
}