{
  "cells": [
    {
      "cell_type": "markdown",
      "metadata": {
        "id": "view-in-github",
        "colab_type": "text"
      },
      "source": [
        "<a href=\"https://colab.research.google.com/github/sgcs11/Yeardream_AI/blob/master/%EB%8D%B0%EC%9D%B4%EC%BD%98/hand_gesture/220310_cnn.ipynb\" target=\"_parent\"><img src=\"https://colab.research.google.com/assets/colab-badge.svg\" alt=\"Open In Colab\"/></a>"
      ]
    },
    {
      "cell_type": "markdown",
      "id": "3e61abfb-622a-462f-9ecd-5581532c998d",
      "metadata": {
        "id": "3e61abfb-622a-462f-9ecd-5581532c998d"
      },
      "source": [
        "# 손동작 분류 경진대회 베이스라인\n",
        "이번 대회는 주어진 센서 데이터를 통해 손동작을 분류하는 경진대회입니다. \n",
        "\n",
        "언뜻보면 간단해 보이지만 처음 데이터 분석을 접하시는 분들에게는 어디부터 어떻게 시작해야 하는지 막막하실 겁니다.\n",
        "\n",
        "# 누구나 할 수 있는 데이터 분석\n",
        "딥러닝, 머신러닝, 모델, 학습, 회귀분석 .... 다 몰라도 괜찮습니다!\n",
        "\n",
        "누구나 할 수 있는 방식으로 간단하게 데이터 분석 & 예측을 진행해보겠습니다.\n",
        "\n",
        "# 데이터 불러오기\n",
        "먼저 분석하려는 데이터를 작업장으로 가져오는 작업이 필요합니다.\n",
        "\n",
        "이를 위해서 파이썬 라이브러리 중 하나인 Pandas를 이용합니다.\n",
        "\n",
        "pandas 라이브러리는 엑셀과 같은 행과 열로 이루어진 테이블(table) 형식의 데이터를 편하게 다루도록 해주는 라이브러리입니다.\n",
        "\n",
        "데이터 분석에는 반드시 사용된다고 해도 과언이 아닌 라이브러리이니, 시간이 날때마다 공부해둡시다."
      ]
    },
    {
      "cell_type": "code",
      "source": [
        "data_dir='/content/drive/MyDrive/Colab Notebooks/Dacon_contest/hand_gesture/data'"
      ],
      "metadata": {
        "id": "khqxbnpH7l7P"
      },
      "id": "khqxbnpH7l7P",
      "execution_count": 8,
      "outputs": []
    },
    {
      "cell_type": "code",
      "source": [
        "# 코랩 드라이브를 마운트합니다.\n",
        "from google.colab import drive\n",
        "drive.mount('/content/drive')"
      ],
      "metadata": {
        "colab": {
          "base_uri": "https://localhost:8080/"
        },
        "id": "GUKjNJEpr4vo",
        "outputId": "88fc4dba-b3fc-428a-d780-c00f5013320e"
      },
      "id": "GUKjNJEpr4vo",
      "execution_count": 82,
      "outputs": [
        {
          "output_type": "stream",
          "name": "stdout",
          "text": [
            "Drive already mounted at /content/drive; to attempt to forcibly remount, call drive.mount(\"/content/drive\", force_remount=True).\n"
          ]
        }
      ]
    },
    {
      "cell_type": "code",
      "source": [
        "import pandas as pd\n",
        "import numpy as np\n",
        "import matplotlib.pyplot as plt\n",
        "import os\n",
        "\n",
        "%matplotlib inline\n",
        "import warnings\n",
        "warnings.filterwarnings('ignore')\n",
        "\n",
        "from sklearn.preprocessing import OneHotEncoder\n",
        "from sklearn.model_selection import StratifiedKFold\n",
        "from sklearn.model_selection import train_test_split\n",
        "import torch.nn as nn\n",
        "import torch.nn.functional as F\n",
        "import torch.optim as optim"
      ],
      "metadata": {
        "id": "EpvXoHjWsZnE"
      },
      "id": "EpvXoHjWsZnE",
      "execution_count": 83,
      "outputs": []
    },
    {
      "cell_type": "code",
      "execution_count": 84,
      "id": "3534ff64-82da-4d98-9b19-32fbed51dc37",
      "metadata": {
        "colab": {
          "base_uri": "https://localhost:8080/",
          "height": 299
        },
        "id": "3534ff64-82da-4d98-9b19-32fbed51dc37",
        "outputId": "1a0ee479-ad60-4428-f358-2be34c4d3032"
      },
      "outputs": [
        {
          "output_type": "execute_result",
          "data": {
            "text/html": [
              "\n",
              "  <div id=\"df-091bf791-1804-4de7-ba0c-678cc5848851\">\n",
              "    <div class=\"colab-df-container\">\n",
              "      <div>\n",
              "<style scoped>\n",
              "    .dataframe tbody tr th:only-of-type {\n",
              "        vertical-align: middle;\n",
              "    }\n",
              "\n",
              "    .dataframe tbody tr th {\n",
              "        vertical-align: top;\n",
              "    }\n",
              "\n",
              "    .dataframe thead th {\n",
              "        text-align: right;\n",
              "    }\n",
              "</style>\n",
              "<table border=\"1\" class=\"dataframe\">\n",
              "  <thead>\n",
              "    <tr style=\"text-align: right;\">\n",
              "      <th></th>\n",
              "      <th>id</th>\n",
              "      <th>sensor_1</th>\n",
              "      <th>sensor_2</th>\n",
              "      <th>sensor_3</th>\n",
              "      <th>sensor_4</th>\n",
              "      <th>sensor_5</th>\n",
              "      <th>sensor_6</th>\n",
              "      <th>sensor_7</th>\n",
              "      <th>sensor_8</th>\n",
              "      <th>sensor_9</th>\n",
              "      <th>...</th>\n",
              "      <th>sensor_24</th>\n",
              "      <th>sensor_25</th>\n",
              "      <th>sensor_26</th>\n",
              "      <th>sensor_27</th>\n",
              "      <th>sensor_28</th>\n",
              "      <th>sensor_29</th>\n",
              "      <th>sensor_30</th>\n",
              "      <th>sensor_31</th>\n",
              "      <th>sensor_32</th>\n",
              "      <th>target</th>\n",
              "    </tr>\n",
              "  </thead>\n",
              "  <tbody>\n",
              "    <tr>\n",
              "      <th>0</th>\n",
              "      <td>1</td>\n",
              "      <td>-6.149463</td>\n",
              "      <td>-0.929714</td>\n",
              "      <td>9.058368</td>\n",
              "      <td>-7.017854</td>\n",
              "      <td>-2.958471</td>\n",
              "      <td>0.179233</td>\n",
              "      <td>-0.956591</td>\n",
              "      <td>-0.972401</td>\n",
              "      <td>5.956213</td>\n",
              "      <td>...</td>\n",
              "      <td>-7.026436</td>\n",
              "      <td>-6.006282</td>\n",
              "      <td>-6.005836</td>\n",
              "      <td>7.043084</td>\n",
              "      <td>21.884650</td>\n",
              "      <td>-3.064152</td>\n",
              "      <td>-5.247552</td>\n",
              "      <td>-6.026107</td>\n",
              "      <td>-11.990822</td>\n",
              "      <td>1</td>\n",
              "    </tr>\n",
              "    <tr>\n",
              "      <th>1</th>\n",
              "      <td>2</td>\n",
              "      <td>-2.238836</td>\n",
              "      <td>-1.003511</td>\n",
              "      <td>5.098079</td>\n",
              "      <td>-10.880357</td>\n",
              "      <td>-0.804562</td>\n",
              "      <td>-2.992123</td>\n",
              "      <td>26.972724</td>\n",
              "      <td>-8.900861</td>\n",
              "      <td>-5.968298</td>\n",
              "      <td>...</td>\n",
              "      <td>-1.996714</td>\n",
              "      <td>-7.933806</td>\n",
              "      <td>-3.136773</td>\n",
              "      <td>8.774211</td>\n",
              "      <td>10.944759</td>\n",
              "      <td>9.858186</td>\n",
              "      <td>-0.969241</td>\n",
              "      <td>-3.935553</td>\n",
              "      <td>-15.892421</td>\n",
              "      <td>1</td>\n",
              "    </tr>\n",
              "    <tr>\n",
              "      <th>2</th>\n",
              "      <td>3</td>\n",
              "      <td>19.087934</td>\n",
              "      <td>-2.092514</td>\n",
              "      <td>0.946750</td>\n",
              "      <td>-21.831788</td>\n",
              "      <td>9.119235</td>\n",
              "      <td>17.853587</td>\n",
              "      <td>-21.069954</td>\n",
              "      <td>-15.933212</td>\n",
              "      <td>-9.016039</td>\n",
              "      <td>...</td>\n",
              "      <td>-6.889685</td>\n",
              "      <td>54.052330</td>\n",
              "      <td>-6.109238</td>\n",
              "      <td>12.154595</td>\n",
              "      <td>6.095989</td>\n",
              "      <td>-40.195088</td>\n",
              "      <td>-3.958124</td>\n",
              "      <td>-8.079537</td>\n",
              "      <td>-5.160090</td>\n",
              "      <td>0</td>\n",
              "    </tr>\n",
              "    <tr>\n",
              "      <th>3</th>\n",
              "      <td>4</td>\n",
              "      <td>-2.211629</td>\n",
              "      <td>-1.930904</td>\n",
              "      <td>21.888406</td>\n",
              "      <td>-3.067560</td>\n",
              "      <td>-0.240634</td>\n",
              "      <td>2.985056</td>\n",
              "      <td>-29.073369</td>\n",
              "      <td>0.200774</td>\n",
              "      <td>-1.043742</td>\n",
              "      <td>...</td>\n",
              "      <td>-2.126170</td>\n",
              "      <td>-1.035526</td>\n",
              "      <td>2.178769</td>\n",
              "      <td>10.032723</td>\n",
              "      <td>-1.010897</td>\n",
              "      <td>-3.912848</td>\n",
              "      <td>-2.980338</td>\n",
              "      <td>-12.983597</td>\n",
              "      <td>-3.001077</td>\n",
              "      <td>1</td>\n",
              "    </tr>\n",
              "    <tr>\n",
              "      <th>4</th>\n",
              "      <td>5</td>\n",
              "      <td>3.953852</td>\n",
              "      <td>2.964892</td>\n",
              "      <td>-36.044802</td>\n",
              "      <td>0.899838</td>\n",
              "      <td>26.930210</td>\n",
              "      <td>11.004409</td>\n",
              "      <td>-21.962423</td>\n",
              "      <td>-11.950189</td>\n",
              "      <td>-20.933785</td>\n",
              "      <td>...</td>\n",
              "      <td>-2.051761</td>\n",
              "      <td>10.917567</td>\n",
              "      <td>1.905335</td>\n",
              "      <td>-13.004707</td>\n",
              "      <td>17.169552</td>\n",
              "      <td>2.105194</td>\n",
              "      <td>3.967986</td>\n",
              "      <td>11.861657</td>\n",
              "      <td>-27.088846</td>\n",
              "      <td>2</td>\n",
              "    </tr>\n",
              "  </tbody>\n",
              "</table>\n",
              "<p>5 rows × 34 columns</p>\n",
              "</div>\n",
              "      <button class=\"colab-df-convert\" onclick=\"convertToInteractive('df-091bf791-1804-4de7-ba0c-678cc5848851')\"\n",
              "              title=\"Convert this dataframe to an interactive table.\"\n",
              "              style=\"display:none;\">\n",
              "        \n",
              "  <svg xmlns=\"http://www.w3.org/2000/svg\" height=\"24px\"viewBox=\"0 0 24 24\"\n",
              "       width=\"24px\">\n",
              "    <path d=\"M0 0h24v24H0V0z\" fill=\"none\"/>\n",
              "    <path d=\"M18.56 5.44l.94 2.06.94-2.06 2.06-.94-2.06-.94-.94-2.06-.94 2.06-2.06.94zm-11 1L8.5 8.5l.94-2.06 2.06-.94-2.06-.94L8.5 2.5l-.94 2.06-2.06.94zm10 10l.94 2.06.94-2.06 2.06-.94-2.06-.94-.94-2.06-.94 2.06-2.06.94z\"/><path d=\"M17.41 7.96l-1.37-1.37c-.4-.4-.92-.59-1.43-.59-.52 0-1.04.2-1.43.59L10.3 9.45l-7.72 7.72c-.78.78-.78 2.05 0 2.83L4 21.41c.39.39.9.59 1.41.59.51 0 1.02-.2 1.41-.59l7.78-7.78 2.81-2.81c.8-.78.8-2.07 0-2.86zM5.41 20L4 18.59l7.72-7.72 1.47 1.35L5.41 20z\"/>\n",
              "  </svg>\n",
              "      </button>\n",
              "      \n",
              "  <style>\n",
              "    .colab-df-container {\n",
              "      display:flex;\n",
              "      flex-wrap:wrap;\n",
              "      gap: 12px;\n",
              "    }\n",
              "\n",
              "    .colab-df-convert {\n",
              "      background-color: #E8F0FE;\n",
              "      border: none;\n",
              "      border-radius: 50%;\n",
              "      cursor: pointer;\n",
              "      display: none;\n",
              "      fill: #1967D2;\n",
              "      height: 32px;\n",
              "      padding: 0 0 0 0;\n",
              "      width: 32px;\n",
              "    }\n",
              "\n",
              "    .colab-df-convert:hover {\n",
              "      background-color: #E2EBFA;\n",
              "      box-shadow: 0px 1px 2px rgba(60, 64, 67, 0.3), 0px 1px 3px 1px rgba(60, 64, 67, 0.15);\n",
              "      fill: #174EA6;\n",
              "    }\n",
              "\n",
              "    [theme=dark] .colab-df-convert {\n",
              "      background-color: #3B4455;\n",
              "      fill: #D2E3FC;\n",
              "    }\n",
              "\n",
              "    [theme=dark] .colab-df-convert:hover {\n",
              "      background-color: #434B5C;\n",
              "      box-shadow: 0px 1px 3px 1px rgba(0, 0, 0, 0.15);\n",
              "      filter: drop-shadow(0px 1px 2px rgba(0, 0, 0, 0.3));\n",
              "      fill: #FFFFFF;\n",
              "    }\n",
              "  </style>\n",
              "\n",
              "      <script>\n",
              "        const buttonEl =\n",
              "          document.querySelector('#df-091bf791-1804-4de7-ba0c-678cc5848851 button.colab-df-convert');\n",
              "        buttonEl.style.display =\n",
              "          google.colab.kernel.accessAllowed ? 'block' : 'none';\n",
              "\n",
              "        async function convertToInteractive(key) {\n",
              "          const element = document.querySelector('#df-091bf791-1804-4de7-ba0c-678cc5848851');\n",
              "          const dataTable =\n",
              "            await google.colab.kernel.invokeFunction('convertToInteractive',\n",
              "                                                     [key], {});\n",
              "          if (!dataTable) return;\n",
              "\n",
              "          const docLinkHtml = 'Like what you see? Visit the ' +\n",
              "            '<a target=\"_blank\" href=https://colab.research.google.com/notebooks/data_table.ipynb>data table notebook</a>'\n",
              "            + ' to learn more about interactive tables.';\n",
              "          element.innerHTML = '';\n",
              "          dataTable['output_type'] = 'display_data';\n",
              "          await google.colab.output.renderOutput(dataTable, element);\n",
              "          const docLink = document.createElement('div');\n",
              "          docLink.innerHTML = docLinkHtml;\n",
              "          element.appendChild(docLink);\n",
              "        }\n",
              "      </script>\n",
              "    </div>\n",
              "  </div>\n",
              "  "
            ],
            "text/plain": [
              "   id   sensor_1  sensor_2   sensor_3   sensor_4   sensor_5   sensor_6  \\\n",
              "0   1  -6.149463 -0.929714   9.058368  -7.017854  -2.958471   0.179233   \n",
              "1   2  -2.238836 -1.003511   5.098079 -10.880357  -0.804562  -2.992123   \n",
              "2   3  19.087934 -2.092514   0.946750 -21.831788   9.119235  17.853587   \n",
              "3   4  -2.211629 -1.930904  21.888406  -3.067560  -0.240634   2.985056   \n",
              "4   5   3.953852  2.964892 -36.044802   0.899838  26.930210  11.004409   \n",
              "\n",
              "    sensor_7   sensor_8   sensor_9  ...  sensor_24  sensor_25  sensor_26  \\\n",
              "0  -0.956591  -0.972401   5.956213  ...  -7.026436  -6.006282  -6.005836   \n",
              "1  26.972724  -8.900861  -5.968298  ...  -1.996714  -7.933806  -3.136773   \n",
              "2 -21.069954 -15.933212  -9.016039  ...  -6.889685  54.052330  -6.109238   \n",
              "3 -29.073369   0.200774  -1.043742  ...  -2.126170  -1.035526   2.178769   \n",
              "4 -21.962423 -11.950189 -20.933785  ...  -2.051761  10.917567   1.905335   \n",
              "\n",
              "   sensor_27  sensor_28  sensor_29  sensor_30  sensor_31  sensor_32  target  \n",
              "0   7.043084  21.884650  -3.064152  -5.247552  -6.026107 -11.990822       1  \n",
              "1   8.774211  10.944759   9.858186  -0.969241  -3.935553 -15.892421       1  \n",
              "2  12.154595   6.095989 -40.195088  -3.958124  -8.079537  -5.160090       0  \n",
              "3  10.032723  -1.010897  -3.912848  -2.980338 -12.983597  -3.001077       1  \n",
              "4 -13.004707  17.169552   2.105194   3.967986  11.861657 -27.088846       2  \n",
              "\n",
              "[5 rows x 34 columns]"
            ]
          },
          "metadata": {},
          "execution_count": 84
        }
      ],
      "source": [
        "# csv 형식으로 된 데이터 파일을 읽어옵니다. \n",
        "train = pd.read_csv(os.path.join(data_dir,'train.csv'))\n",
        "\n",
        "# 데이터의 최상단 5줄을 표시합니다. \n",
        "train.head()"
      ]
    },
    {
      "cell_type": "code",
      "source": [
        "#target은 0, 1, 2, 3이 존잰"
      ],
      "metadata": {
        "id": "wj-HPZChwpAe"
      },
      "id": "wj-HPZChwpAe",
      "execution_count": 85,
      "outputs": []
    },
    {
      "cell_type": "markdown",
      "id": "13419a2b-7642-442f-bb49-3a80201e24f2",
      "metadata": {
        "id": "13419a2b-7642-442f-bb49-3a80201e24f2"
      },
      "source": [
        "출력된 데이터의 모양을 살펴보면 총 34개의 열(column)이 존재하는 것을 확인할 수 있습니다.\n",
        "\n",
        "데이터를 자세히 살펴보는 것은 EDA 글을 통해 더 자세히 배워봅시다.\n",
        "\n",
        "여기에서는 분석 방법에 초점을 맞추겠습니다."
      ]
    },
    {
      "cell_type": "markdown",
      "id": "7a117f21-9ab5-4b2d-a188-c118af694f97",
      "metadata": {
        "id": "7a117f21-9ab5-4b2d-a188-c118af694f97"
      },
      "source": [
        "# 결측치 확인\n",
        "결측치(NA: Not Available)란 값이 누락된 데이터를 말합니다.\n",
        "\n",
        "보다 정확한 분석을 하기 위해서는 데이터의 결측치를 확인하고 적절히 처리해주어야 합니다.\n",
        "\n",
        "이번 데이터에 결측치가 있나 확인해볼까요?"
      ]
    },
    {
      "cell_type": "code",
      "execution_count": 86,
      "id": "af7f29d1-df7c-479a-a12d-4d346591e317",
      "metadata": {
        "id": "af7f29d1-df7c-479a-a12d-4d346591e317",
        "outputId": "15c227f4-a927-4226-a39f-d2d6ccb10355",
        "colab": {
          "base_uri": "https://localhost:8080/"
        }
      },
      "outputs": [
        {
          "output_type": "stream",
          "name": "stdout",
          "text": [
            "결측치가 존재하지 않습니다\n"
          ]
        }
      ],
      "source": [
        "def check_missing_col(dataframe):\n",
        "    missing_col = []\n",
        "    counted_missing_col = 0\n",
        "    for i, col in enumerate(dataframe.columns):\n",
        "        missing_values = sum(dataframe[col].isna())\n",
        "        is_missing = True if missing_values >= 1 else False\n",
        "        if is_missing:\n",
        "            counted_missing_col += 1\n",
        "            print(f'결측치가 있는 컬럼은: {col}입니다')\n",
        "            print(f'해당 컬럼에 총 {missing_values}개의 결측치가 존재합니다.')\n",
        "            missing_col.append([col, dataframe[col].dtype])\n",
        "    if counted_missing_col == 0:\n",
        "        print('결측치가 존재하지 않습니다')\n",
        "    return missing_col\n",
        "\n",
        "missing_col = check_missing_col(train)"
      ]
    },
    {
      "cell_type": "markdown",
      "id": "a474b621-7228-4b45-8aca-54d6c0ce603e",
      "metadata": {
        "id": "a474b621-7228-4b45-8aca-54d6c0ce603e"
      },
      "source": [
        "결측치 처리\n",
        "\n",
        "이번 데이터에는 결측치가 존재하지 않습니다. "
      ]
    },
    {
      "cell_type": "markdown",
      "id": "5231579f-b0af-47d6-8fc0-07e1b9162af4",
      "metadata": {
        "id": "5231579f-b0af-47d6-8fc0-07e1b9162af4"
      },
      "source": [
        "# 데이터 분리\n",
        "\n",
        "학습 데이터에서 target 데이터를 분리합니다."
      ]
    },
    {
      "cell_type": "code",
      "execution_count": 87,
      "id": "d46b00f4-5b41-4c1e-b0ab-fc138dfd023a",
      "metadata": {
        "id": "d46b00f4-5b41-4c1e-b0ab-fc138dfd023a"
      },
      "outputs": [],
      "source": [
        "train_X = train.drop(['id','target'],axis=1)\n",
        "train_y = train.target"
      ]
    },
    {
      "cell_type": "code",
      "source": [
        "f, a = plt.subplots(1, 4, figsize = (12, 6))\n",
        "for i in range(4) :\n",
        "    a[i].set_title(f'target {i} Image')\n",
        "    a[i].imshow(np.array(train_X.iloc[i]).reshape(8, 4))"
      ],
      "metadata": {
        "colab": {
          "base_uri": "https://localhost:8080/",
          "height": 355
        },
        "id": "ovarMgDArzgb",
        "outputId": "9395fab4-7b10-4c3c-d80a-0d4f4014763b"
      },
      "id": "ovarMgDArzgb",
      "execution_count": 88,
      "outputs": [
        {
          "output_type": "display_data",
          "data": {
            "image/png": "[encoded data removed]",
            "text/plain": [
              "<Figure size 864x432 with 4 Axes>"
            ]
          },
          "metadata": {
            "needs_background": "light"
          }
        }
      ]
    },
    {
      "cell_type": "code",
      "source": [
        "train_X, valid_X, train_y, valid_y = train_test_split(train_X, train_y, test_size=0.2, random_state=42)"
      ],
      "metadata": {
        "id": "W0qB0RzFhj5E"
      },
      "id": "W0qB0RzFhj5E",
      "execution_count": 89,
      "outputs": []
    },
    {
      "cell_type": "markdown",
      "source": [
        "## EDA"
      ],
      "metadata": {
        "id": "xNldM3sbtw_F"
      },
      "id": "xNldM3sbtw_F"
    },
    {
      "cell_type": "markdown",
      "source": [
        "### CNN에서 활용할 수 있게 데이터 차원 변경"
      ],
      "metadata": {
        "id": "chAFSCJguWix"
      },
      "id": "chAFSCJguWix"
    },
    {
      "cell_type": "code",
      "source": [
        "train_X = torch.tensor(np.array(train_X).reshape(-1,1,8,4), dtype=torch.float32)\n",
        "valid_X = torch.tensor(np.array(valid_X).reshape(-1,1,8,4), dtype=torch.float32)"
      ],
      "metadata": {
        "id": "jO4CgJzvt3VM"
      },
      "id": "jO4CgJzvt3VM",
      "execution_count": 90,
      "outputs": []
    },
    {
      "cell_type": "markdown",
      "source": [
        "### Multiclass를 위한 one hot encoding"
      ],
      "metadata": {
        "id": "NeQzzjiQuzJ-"
      },
      "id": "NeQzzjiQuzJ-"
    },
    {
      "cell_type": "code",
      "source": [
        "ohe = OneHotEncoder(sparse = False)"
      ],
      "metadata": {
        "id": "oEtM-YdguVJB"
      },
      "id": "oEtM-YdguVJB",
      "execution_count": 91,
      "outputs": []
    },
    {
      "cell_type": "code",
      "source": [
        "train_y = ohe.fit_transform(np.array(train_y).reshape(-1,1))\n",
        "valid_y = ohe.fit_transform(np.array(valid_y).reshape(-1,1))"
      ],
      "metadata": {
        "id": "oXCPZqWLu49O"
      },
      "id": "oXCPZqWLu49O",
      "execution_count": 92,
      "outputs": []
    },
    {
      "cell_type": "markdown",
      "source": [
        "## DataSet"
      ],
      "metadata": {
        "id": "jwemI6osLtyJ"
      },
      "id": "jwemI6osLtyJ"
    },
    {
      "cell_type": "code",
      "source": [
        "import torch\n",
        "import torch.utils.data as data\n",
        "\n",
        "class BasicDataset(data.Dataset):\n",
        "    def __init__(self, x_tensor, y_tensor):\n",
        "        super(BasicDataset, self).__init__()\n",
        "\n",
        "        self.x = x_tensor\n",
        "        self.y = y_tensor\n",
        "        \n",
        "    def __getitem__(self, index):\n",
        "        return self.x[index], self.y[index]\n",
        "\n",
        "    def __len__(self):\n",
        "        return len(self.x)"
      ],
      "metadata": {
        "id": "OfOvNmecLvvy"
      },
      "id": "OfOvNmecLvvy",
      "execution_count": 93,
      "outputs": []
    },
    {
      "cell_type": "markdown",
      "source": [
        "## DataLoader"
      ],
      "metadata": {
        "id": "RAjD-Y0HLB9k"
      },
      "id": "RAjD-Y0HLB9k"
    },
    {
      "cell_type": "code",
      "source": [
        "train_dataset = BasicDataset(train_X, train_y)\n",
        "train_loader = data.DataLoader(dataset=train_dataset, batch_size=32, num_workers=8, shuffle=True)"
      ],
      "metadata": {
        "id": "3xkEQqZ-LEao"
      },
      "id": "3xkEQqZ-LEao",
      "execution_count": 94,
      "outputs": []
    },
    {
      "cell_type": "code",
      "source": [
        "valid_dataset = BasicDataset(valid_X, valid_y)\n",
        "valid_loader = data.DataLoader(dataset=valid_dataset, batch_size=32, num_workers=8, shuffle=True)"
      ],
      "metadata": {
        "id": "vk3AkMAOhA7c"
      },
      "id": "vk3AkMAOhA7c",
      "execution_count": 95,
      "outputs": []
    },
    {
      "cell_type": "markdown",
      "source": [
        "## Train"
      ],
      "metadata": {
        "id": "h18IeSbMw1GA"
      },
      "id": "h18IeSbMw1GA"
    },
    {
      "cell_type": "code",
      "source": [
        "skf = StratifiedKFold(n_splits = 10, random_state = 42, shuffle = True)"
      ],
      "metadata": {
        "id": "1yTDkQekw8BQ"
      },
      "id": "1yTDkQekw8BQ",
      "execution_count": 96,
      "outputs": []
    },
    {
      "cell_type": "code",
      "source": [
        "import torch\n",
        "import torch.nn as nn\n",
        "import torch.nn.functional as F\n",
        "\n",
        "class CNN(nn.Module):\n",
        "  def __init__(self):\n",
        "    super(CNN, self).__init__()\n",
        "    self.conv1 = nn.Sequential(\n",
        "              nn.Conv2d(in_channels=1, out_channels=8, kernel_size=2, padding=1),\n",
        "              nn.BatchNorm2d(8),\n",
        "              nn.ELU(),\n",
        "              nn.Conv2d(in_channels=8, out_channels=16, kernel_size=2, padding=1),\n",
        "              nn.MaxPool2d(2),\n",
        "              nn.ELU(),\n",
        "              nn.Conv2d(in_channels=16, out_channels=32, kernel_size=3, padding=1),\n",
        "              nn.BatchNorm2d(32),\n",
        "              nn.ELU(),\n",
        "              nn.Conv2d(in_channels=32, out_channels=32, kernel_size=3, padding=1),\n",
        "              nn.BatchNorm2d(32),\n",
        "              nn.ELU(),\n",
        "              nn.AdaptiveAvgPool2d((1,1)),\n",
        "          )\n",
        "\n",
        "    self.fc1 = nn.Sequential(\n",
        "        nn.Linear(8 * 4, 16),\n",
        "        nn.ReLU(),\n",
        "        nn.Linear(16, 4),\n",
        "        # nn.Softmax(dim=1)\n",
        "    )\n",
        "  \n",
        "  def forward(self, x):\n",
        "    # print(\"연산 전\", x.size())\n",
        "    x = self.conv1(x)\n",
        "    # print(\"conv1 연산 후\",x.size())\n",
        "    x = x.view(-1, 8 * 4)\n",
        "    # print(\"차원 감소 후\", x.size())\n",
        "    x = self.fc1(x)\n",
        "    # print(\"fc1 연산 후\", x.size())\n",
        "    return F.softmax(x)\n",
        "  \n",
        "  def predict(self, x):\n",
        "    output = self.forward(x)\n",
        "    return output.argmax(dim=1, keepdim=True)\n",
        "\n",
        "cnn = CNN()\n",
        "output = cnn(torch.randn(32, 1, 8, 4))  # Input Size: (10, 1, 8, 4)"
      ],
      "metadata": {
        "id": "Q3p8ATS35Umt"
      },
      "id": "Q3p8ATS35Umt",
      "execution_count": 97,
      "outputs": []
    },
    {
      "cell_type": "code",
      "source": [
        "model = CNN()\n",
        "print(model)"
      ],
      "metadata": {
        "colab": {
          "base_uri": "https://localhost:8080/"
        },
        "id": "lWcp0uyKI6i1",
        "outputId": "3f88ce43-92f4-438a-eb27-ab36d3ea328b"
      },
      "id": "lWcp0uyKI6i1",
      "execution_count": 98,
      "outputs": [
        {
          "output_type": "stream",
          "name": "stdout",
          "text": [
            "CNN(\n",
            "  (conv1): Sequential(\n",
            "    (0): Conv2d(1, 8, kernel_size=(2, 2), stride=(1, 1), padding=(1, 1))\n",
            "    (1): BatchNorm2d(8, eps=1e-05, momentum=0.1, affine=True, track_running_stats=True)\n",
            "    (2): ELU(alpha=1.0)\n",
            "    (3): Conv2d(8, 16, kernel_size=(2, 2), stride=(1, 1), padding=(1, 1))\n",
            "    (4): MaxPool2d(kernel_size=2, stride=2, padding=0, dilation=1, ceil_mode=False)\n",
            "    (5): ELU(alpha=1.0)\n",
            "    (6): Conv2d(16, 32, kernel_size=(3, 3), stride=(1, 1), padding=(1, 1))\n",
            "    (7): BatchNorm2d(32, eps=1e-05, momentum=0.1, affine=True, track_running_stats=True)\n",
            "    (8): ELU(alpha=1.0)\n",
            "    (9): Conv2d(32, 32, kernel_size=(3, 3), stride=(1, 1), padding=(1, 1))\n",
            "    (10): BatchNorm2d(32, eps=1e-05, momentum=0.1, affine=True, track_running_stats=True)\n",
            "    (11): ELU(alpha=1.0)\n",
            "    (12): AdaptiveAvgPool2d(output_size=(1, 1))\n",
            "  )\n",
            "  (fc1): Sequential(\n",
            "    (0): Linear(in_features=32, out_features=16, bias=True)\n",
            "    (1): ReLU()\n",
            "    (2): Linear(in_features=16, out_features=4, bias=True)\n",
            "  )\n",
            ")\n"
          ]
        }
      ]
    },
    {
      "cell_type": "code",
      "source": [
        "criterion = nn.CrossEntropyLoss()\n",
        "optimizer = optim.RMSprop(model.parameters(), lr=0.0001)"
      ],
      "metadata": {
        "id": "5p_J9aZMJfN-"
      },
      "id": "5p_J9aZMJfN-",
      "execution_count": 99,
      "outputs": []
    },
    {
      "cell_type": "code",
      "source": [
        "train_y.shape"
      ],
      "metadata": {
        "colab": {
          "base_uri": "https://localhost:8080/"
        },
        "id": "vOVIt-QVs2fE",
        "outputId": "0ae5d9e3-da39-4a3b-f71b-57bf4e06890b"
      },
      "id": "vOVIt-QVs2fE",
      "execution_count": 100,
      "outputs": [
        {
          "output_type": "execute_result",
          "data": {
            "text/plain": [
              "(1868, 4)"
            ]
          },
          "metadata": {},
          "execution_count": 100
        }
      ]
    },
    {
      "cell_type": "code",
      "source": [
        "model.train()  # 학습을 위함\n",
        "\n",
        "for epoch in range(100):\n",
        "  correct = 0\n",
        "  for index, (data, target) in enumerate(train_loader):\n",
        "    optimizer.zero_grad()  # 기울기 초기화\n",
        "    output = model(data)\n",
        "    pred = output.argmax(dim=1, keepdim=True) # get the index of the max log-probability\n",
        "    gt = np.argmax(target, axis=1)\n",
        "    correct += pred.eq(gt.view_as(pred)).sum().item()\n",
        "    loss = criterion(output, target)\n",
        "    loss.backward()  # 역전파\n",
        "    optimizer.step()\n",
        "\n",
        "    if index % 100 == 0:\n",
        "      print(\"loss of {} epoch: {}\".format(epoch, loss.item()))\n",
        "\n",
        "  print(\"train Accuracy : \", 100. * correct/len(train_loader.dataset))"
      ],
      "metadata": {
        "colab": {
          "base_uri": "https://localhost:8080/"
        },
        "id": "MzcfJn8GJ36d",
        "outputId": "ddb95b28-edf7-49ba-e27a-0d7b48eb3fcf"
      },
      "id": "MzcfJn8GJ36d",
      "execution_count": 102,
      "outputs": [
        {
          "output_type": "stream",
          "name": "stdout",
          "text": [
            "loss of 0 epoch: 0.9737563785165548\n",
            "train Accuracy :  81.63811563169165\n",
            "loss of 1 epoch: 1.0518886428326368\n",
            "train Accuracy :  81.69164882226981\n",
            "loss of 2 epoch: 0.9482188690453768\n",
            "train Accuracy :  82.92291220556746\n",
            "loss of 3 epoch: 0.9295967109501362\n",
            "train Accuracy :  83.02997858672377\n",
            "loss of 4 epoch: 1.1128506194800138\n",
            "train Accuracy :  83.02997858672377\n",
            "loss of 5 epoch: 1.021449964493513\n",
            "train Accuracy :  82.86937901498929\n",
            "loss of 6 epoch: 1.0309418961405754\n",
            "train Accuracy :  84.20770877944325\n",
            "loss of 7 epoch: 0.8951628636568785\n",
            "train Accuracy :  84.85010706638116\n",
            "loss of 8 epoch: 0.9113015625625849\n",
            "train Accuracy :  84.42184154175588\n",
            "loss of 9 epoch: 0.9499757811427116\n",
            "train Accuracy :  85.33190578158458\n",
            "loss of 10 epoch: 0.9322354458272457\n",
            "train Accuracy :  84.95717344753747\n",
            "loss of 11 epoch: 0.927167309448123\n",
            "train Accuracy :  84.74304068522484\n",
            "loss of 12 epoch: 0.9055701028555632\n",
            "train Accuracy :  84.90364025695932\n",
            "loss of 13 epoch: 0.8704783916473389\n",
            "train Accuracy :  85.11777301927195\n",
            "loss of 14 epoch: 0.9002620503306389\n",
            "train Accuracy :  85.38543897216275\n",
            "loss of 15 epoch: 0.8847064170986414\n",
            "train Accuracy :  84.79657387580299\n",
            "loss of 16 epoch: 0.88901680521667\n",
            "train Accuracy :  86.13490364025697\n",
            "loss of 17 epoch: 0.9052084293216467\n",
            "train Accuracy :  85.22483940042827\n",
            "loss of 18 epoch: 0.8596020322293043\n",
            "train Accuracy :  86.40256959314775\n",
            "loss of 19 epoch: 0.8304156195372343\n",
            "train Accuracy :  85.70663811563169\n",
            "loss of 20 epoch: 0.9490819536149502\n",
            "train Accuracy :  86.50963597430408\n",
            "loss of 21 epoch: 0.8773121070116758\n",
            "train Accuracy :  86.24197002141328\n",
            "loss of 22 epoch: 0.9472863674163818\n",
            "train Accuracy :  86.02783725910064\n",
            "loss of 23 epoch: 0.8603382091969252\n",
            "train Accuracy :  86.83083511777302\n",
            "loss of 24 epoch: 0.928346436470747\n",
            "train Accuracy :  86.83083511777302\n",
            "loss of 25 epoch: 0.9136766158044338\n",
            "train Accuracy :  87.25910064239828\n",
            "loss of 26 epoch: 0.87361666187644\n",
            "train Accuracy :  86.9914346895075\n",
            "loss of 27 epoch: 0.8325593117624521\n",
            "train Accuracy :  87.04496788008565\n",
            "loss of 28 epoch: 0.8467319812625647\n",
            "train Accuracy :  86.7237687366167\n",
            "loss of 29 epoch: 0.8716653157025576\n",
            "train Accuracy :  86.9914346895075\n",
            "loss of 30 epoch: 0.8954445216804743\n",
            "train Accuracy :  86.56316916488223\n",
            "loss of 31 epoch: 0.910242784768343\n",
            "train Accuracy :  87.74089935760172\n",
            "loss of 32 epoch: 0.8257146682590246\n",
            "train Accuracy :  86.77730192719486\n",
            "loss of 33 epoch: 0.8934287838637829\n",
            "train Accuracy :  87.74089935760172\n",
            "loss of 34 epoch: 0.9102187883108854\n",
            "train Accuracy :  86.93790149892934\n",
            "loss of 35 epoch: 0.9195427298545837\n",
            "train Accuracy :  87.41970021413276\n",
            "loss of 36 epoch: 0.8938585203140974\n",
            "train Accuracy :  88.0085653104925\n",
            "loss of 37 epoch: 0.8167064357548952\n",
            "train Accuracy :  87.68736616702355\n",
            "loss of 38 epoch: 0.8423356246203184\n",
            "train Accuracy :  87.63383297644539\n",
            "loss of 39 epoch: 0.8965628072619438\n",
            "train Accuracy :  88.11563169164883\n",
            "loss of 40 epoch: 0.928827591240406\n",
            "train Accuracy :  87.47323340471092\n",
            "loss of 41 epoch: 0.8607711866497993\n",
            "train Accuracy :  87.95503211991435\n",
            "loss of 42 epoch: 0.8859218470752239\n",
            "train Accuracy :  88.16916488222698\n",
            "loss of 43 epoch: 0.7874038498848677\n",
            "train Accuracy :  87.09850107066381\n",
            "loss of 44 epoch: 0.8784535247832537\n",
            "train Accuracy :  88.6509635974304\n",
            "loss of 45 epoch: 0.8059086222201586\n",
            "train Accuracy :  88.43683083511777\n",
            "loss of 46 epoch: 0.9214789550751448\n",
            "train Accuracy :  88.2762312633833\n",
            "loss of 47 epoch: 0.8603244479745626\n",
            "train Accuracy :  88.75802997858672\n",
            "loss of 48 epoch: 0.9409703053534031\n",
            "train Accuracy :  87.79443254817987\n",
            "loss of 49 epoch: 0.8066700827330351\n",
            "train Accuracy :  88.22269807280514\n",
            "loss of 50 epoch: 0.845196234062314\n",
            "train Accuracy :  88.32976445396146\n",
            "loss of 51 epoch: 0.8692880049347878\n",
            "train Accuracy :  88.75802997858672\n",
            "loss of 52 epoch: 0.7780856862664223\n",
            "train Accuracy :  88.59743040685225\n",
            "loss of 53 epoch: 0.8761112578213215\n",
            "train Accuracy :  88.81156316916488\n",
            "loss of 54 epoch: 0.8610938042402267\n",
            "train Accuracy :  89.29336188436831\n",
            "loss of 55 epoch: 0.8373817205429077\n",
            "train Accuracy :  88.54389721627409\n",
            "loss of 56 epoch: 0.9605597220361233\n",
            "train Accuracy :  88.49036402569592\n",
            "loss of 57 epoch: 0.9154918063431978\n",
            "train Accuracy :  89.50749464668094\n",
            "loss of 58 epoch: 0.8502323720604181\n",
            "train Accuracy :  89.23982869379014\n",
            "loss of 59 epoch: 0.7816395033150911\n",
            "train Accuracy :  89.07922912205568\n",
            "loss of 60 epoch: 0.8601069636642933\n",
            "train Accuracy :  89.45396145610279\n",
            "loss of 61 epoch: 0.8050153702497482\n",
            "train Accuracy :  88.70449678800857\n",
            "loss of 62 epoch: 0.9512757416814566\n",
            "train Accuracy :  89.66809421841542\n",
            "loss of 63 epoch: 0.8447191119194031\n",
            "train Accuracy :  89.02569593147751\n",
            "loss of 64 epoch: 0.8273486085236073\n",
            "train Accuracy :  89.07922912205568\n",
            "loss of 65 epoch: 0.8711161948740482\n",
            "train Accuracy :  89.50749464668094\n",
            "loss of 66 epoch: 0.816453805193305\n",
            "train Accuracy :  89.50749464668094\n",
            "loss of 67 epoch: 0.8615166302770376\n",
            "train Accuracy :  88.54389721627409\n",
            "loss of 68 epoch: 0.8533314019441605\n",
            "train Accuracy :  89.8286937901499\n",
            "loss of 69 epoch: 0.8103345800191164\n",
            "train Accuracy :  89.66809421841542\n",
            "loss of 70 epoch: 0.78397361561656\n",
            "train Accuracy :  89.66809421841542\n",
            "loss of 71 epoch: 0.8844203110784292\n",
            "train Accuracy :  89.77516059957173\n",
            "loss of 72 epoch: 0.8052601031959057\n",
            "train Accuracy :  89.61456102783725\n",
            "loss of 73 epoch: 0.8698463346809149\n",
            "train Accuracy :  89.93576017130621\n",
            "loss of 74 epoch: 0.8233485370874405\n",
            "train Accuracy :  89.02569593147751\n",
            "loss of 75 epoch: 0.8028188049793243\n",
            "train Accuracy :  89.61456102783725\n",
            "loss of 76 epoch: 0.8662200216203928\n",
            "train Accuracy :  89.34689507494647\n",
            "loss of 77 epoch: 0.8567511234432459\n",
            "train Accuracy :  89.77516059957173\n",
            "loss of 78 epoch: 0.8319595586508512\n",
            "train Accuracy :  89.02569593147751\n",
            "loss of 79 epoch: 0.8308402635157108\n",
            "train Accuracy :  90.31049250535332\n",
            "loss of 80 epoch: 0.9205877427011728\n",
            "train Accuracy :  90.36402569593147\n",
            "loss of 81 epoch: 0.8069161791354418\n",
            "train Accuracy :  90.57815845824412\n",
            "loss of 82 epoch: 0.8682018015533686\n",
            "train Accuracy :  89.8286937901499\n",
            "loss of 83 epoch: 0.9911053366959095\n",
            "train Accuracy :  89.40042826552462\n",
            "loss of 84 epoch: 0.8702132254838943\n",
            "train Accuracy :  89.50749464668094\n",
            "loss of 85 epoch: 0.9166817534714937\n",
            "train Accuracy :  89.66809421841542\n",
            "loss of 86 epoch: 0.8404663130640984\n",
            "train Accuracy :  89.72162740899357\n",
            "loss of 87 epoch: 0.8243612442165613\n",
            "train Accuracy :  91.27408993576017\n",
            "loss of 88 epoch: 0.8120869975537062\n",
            "train Accuracy :  91.05995717344754\n",
            "loss of 89 epoch: 0.8931799400597811\n",
            "train Accuracy :  90.47109207708779\n",
            "loss of 90 epoch: 0.8620792273432016\n",
            "train Accuracy :  90.41755888650964\n",
            "loss of 91 epoch: 0.8749409131705761\n",
            "train Accuracy :  90.20342612419701\n",
            "loss of 92 epoch: 0.9310447946190834\n",
            "train Accuracy :  90.68522483940043\n",
            "loss of 93 epoch: 0.8288955446332693\n",
            "train Accuracy :  90.25695931477516\n",
            "loss of 94 epoch: 0.8461915850639343\n",
            "train Accuracy :  90.47109207708779\n",
            "loss of 95 epoch: 0.8443291839212179\n",
            "train Accuracy :  90.47109207708779\n",
            "loss of 96 epoch: 0.7769071534276009\n",
            "train Accuracy :  90.47109207708779\n",
            "loss of 97 epoch: 0.7893339414149523\n",
            "train Accuracy :  90.95289079229121\n",
            "loss of 98 epoch: 0.8622857518494129\n",
            "train Accuracy :  90.25695931477516\n",
            "loss of 99 epoch: 0.8633586745709181\n",
            "train Accuracy :  90.47109207708779\n"
          ]
        }
      ]
    },
    {
      "cell_type": "code",
      "source": [
        "model.eval()  # test case 학습 방지를 위함\n",
        "test_loss = 0\n",
        "correct = 0\n",
        "with torch.no_grad():\n",
        "  for data, target in valid_loader:\n",
        "    output = model(data)\n",
        "    test_loss += criterion(output, target).item() # sum up batch loss\n",
        "    pred = output.argmax(dim=1, keepdim=True) # get the index of the max log-probability\n",
        "    target = np.argmax(target, axis=1).reshape(-1,1)\n",
        "    correct += pred.eq(target.view_as(pred)).sum().item()\n",
        "print('\\nTest set: Average loss: {:.4f}, Accuracy: {}/{} ({:.0f}%)\\n'.format(\n",
        "        test_loss, correct, len(valid_loader.dataset),\n",
        "        100. * correct / len(valid_loader.dataset)))"
      ],
      "metadata": {
        "colab": {
          "base_uri": "https://localhost:8080/"
        },
        "id": "rcbGAkVpg82h",
        "outputId": "95ff688a-2837-4a43-9924-227a0a13fed5"
      },
      "id": "rcbGAkVpg82h",
      "execution_count": 103,
      "outputs": [
        {
          "output_type": "stream",
          "name": "stdout",
          "text": [
            "\n",
            "Test set: Average loss: 13.2031, Accuracy: 404/467 (87%)\n",
            "\n"
          ]
        }
      ]
    },
    {
      "cell_type": "markdown",
      "id": "3f250b14-41d5-46b4-b63d-5969923f28e5",
      "metadata": {
        "id": "3f250b14-41d5-46b4-b63d-5969923f28e5"
      },
      "source": [
        "# 추론 \n",
        "\n",
        "모델 학습이 완료 되었습니다! \n",
        "\n",
        "이제 test 데이터를 예측 해보아요!"
      ]
    },
    {
      "cell_type": "code",
      "execution_count": 104,
      "id": "53d976fb-ba3d-4001-b496-4236bb007293",
      "metadata": {
        "id": "53d976fb-ba3d-4001-b496-4236bb007293",
        "outputId": "586b2eae-7818-4ce0-8060-8707d0cf9273",
        "colab": {
          "base_uri": "https://localhost:8080/",
          "height": 299
        }
      },
      "outputs": [
        {
          "output_type": "execute_result",
          "data": {
            "text/html": [
              "\n",
              "  <div id=\"df-0b69b860-af38-4308-ad84-4915d9463c29\">\n",
              "    <div class=\"colab-df-container\">\n",
              "      <div>\n",
              "<style scoped>\n",
              "    .dataframe tbody tr th:only-of-type {\n",
              "        vertical-align: middle;\n",
              "    }\n",
              "\n",
              "    .dataframe tbody tr th {\n",
              "        vertical-align: top;\n",
              "    }\n",
              "\n",
              "    .dataframe thead th {\n",
              "        text-align: right;\n",
              "    }\n",
              "</style>\n",
              "<table border=\"1\" class=\"dataframe\">\n",
              "  <thead>\n",
              "    <tr style=\"text-align: right;\">\n",
              "      <th></th>\n",
              "      <th>id</th>\n",
              "      <th>sensor_1</th>\n",
              "      <th>sensor_2</th>\n",
              "      <th>sensor_3</th>\n",
              "      <th>sensor_4</th>\n",
              "      <th>sensor_5</th>\n",
              "      <th>sensor_6</th>\n",
              "      <th>sensor_7</th>\n",
              "      <th>sensor_8</th>\n",
              "      <th>sensor_9</th>\n",
              "      <th>...</th>\n",
              "      <th>sensor_23</th>\n",
              "      <th>sensor_24</th>\n",
              "      <th>sensor_25</th>\n",
              "      <th>sensor_26</th>\n",
              "      <th>sensor_27</th>\n",
              "      <th>sensor_28</th>\n",
              "      <th>sensor_29</th>\n",
              "      <th>sensor_30</th>\n",
              "      <th>sensor_31</th>\n",
              "      <th>sensor_32</th>\n",
              "    </tr>\n",
              "  </thead>\n",
              "  <tbody>\n",
              "    <tr>\n",
              "      <th>0</th>\n",
              "      <td>1</td>\n",
              "      <td>0.067135</td>\n",
              "      <td>5.040383</td>\n",
              "      <td>-2.965405</td>\n",
              "      <td>-12.952880</td>\n",
              "      <td>-1.938465</td>\n",
              "      <td>-10.997802</td>\n",
              "      <td>1.853669</td>\n",
              "      <td>21.077862</td>\n",
              "      <td>7.963131</td>\n",
              "      <td>...</td>\n",
              "      <td>8.128448</td>\n",
              "      <td>5.871833</td>\n",
              "      <td>1.889536</td>\n",
              "      <td>-3.926719</td>\n",
              "      <td>0.929041</td>\n",
              "      <td>4.999071</td>\n",
              "      <td>-7.963270</td>\n",
              "      <td>4.044370</td>\n",
              "      <td>-1.993315</td>\n",
              "      <td>10.855771</td>\n",
              "    </tr>\n",
              "    <tr>\n",
              "      <th>1</th>\n",
              "      <td>2</td>\n",
              "      <td>6.890655</td>\n",
              "      <td>-12.010728</td>\n",
              "      <td>24.881907</td>\n",
              "      <td>38.943245</td>\n",
              "      <td>-4.757496</td>\n",
              "      <td>5.926453</td>\n",
              "      <td>7.923851</td>\n",
              "      <td>3.925545</td>\n",
              "      <td>4.012127</td>\n",
              "      <td>...</td>\n",
              "      <td>-7.941582</td>\n",
              "      <td>-27.106928</td>\n",
              "      <td>-16.940167</td>\n",
              "      <td>-11.169073</td>\n",
              "      <td>0.202975</td>\n",
              "      <td>6.846631</td>\n",
              "      <td>7.911875</td>\n",
              "      <td>-2.852819</td>\n",
              "      <td>56.028042</td>\n",
              "      <td>52.967175</td>\n",
              "    </tr>\n",
              "    <tr>\n",
              "      <th>2</th>\n",
              "      <td>3</td>\n",
              "      <td>-4.809695</td>\n",
              "      <td>0.962863</td>\n",
              "      <td>-1.893647</td>\n",
              "      <td>-6.168084</td>\n",
              "      <td>-3.948282</td>\n",
              "      <td>0.977219</td>\n",
              "      <td>12.960620</td>\n",
              "      <td>-9.048958</td>\n",
              "      <td>5.969053</td>\n",
              "      <td>...</td>\n",
              "      <td>-0.895094</td>\n",
              "      <td>-7.984137</td>\n",
              "      <td>-0.025761</td>\n",
              "      <td>2.981749</td>\n",
              "      <td>4.948704</td>\n",
              "      <td>-10.841968</td>\n",
              "      <td>-4.860024</td>\n",
              "      <td>-6.917495</td>\n",
              "      <td>2.842422</td>\n",
              "      <td>-3.081374</td>\n",
              "    </tr>\n",
              "    <tr>\n",
              "      <th>3</th>\n",
              "      <td>4</td>\n",
              "      <td>0.018158</td>\n",
              "      <td>-3.993114</td>\n",
              "      <td>12.001667</td>\n",
              "      <td>22.960746</td>\n",
              "      <td>-2.121793</td>\n",
              "      <td>-6.002385</td>\n",
              "      <td>2.173744</td>\n",
              "      <td>1.045248</td>\n",
              "      <td>1.073869</td>\n",
              "      <td>...</td>\n",
              "      <td>-10.084452</td>\n",
              "      <td>2.828070</td>\n",
              "      <td>0.903349</td>\n",
              "      <td>5.156367</td>\n",
              "      <td>40.827713</td>\n",
              "      <td>-1.160840</td>\n",
              "      <td>-1.215552</td>\n",
              "      <td>0.037914</td>\n",
              "      <td>-24.968873</td>\n",
              "      <td>-7.148603</td>\n",
              "    </tr>\n",
              "    <tr>\n",
              "      <th>4</th>\n",
              "      <td>5</td>\n",
              "      <td>-7.841592</td>\n",
              "      <td>-2.129997</td>\n",
              "      <td>7.872448</td>\n",
              "      <td>-8.953428</td>\n",
              "      <td>28.080007</td>\n",
              "      <td>-5.019895</td>\n",
              "      <td>-10.922551</td>\n",
              "      <td>-15.045833</td>\n",
              "      <td>-56.981894</td>\n",
              "      <td>...</td>\n",
              "      <td>-2.000975</td>\n",
              "      <td>-23.942689</td>\n",
              "      <td>-6.741350</td>\n",
              "      <td>0.831967</td>\n",
              "      <td>11.905613</td>\n",
              "      <td>3.106004</td>\n",
              "      <td>46.899363</td>\n",
              "      <td>3.001353</td>\n",
              "      <td>-17.881074</td>\n",
              "      <td>-6.882390</td>\n",
              "    </tr>\n",
              "  </tbody>\n",
              "</table>\n",
              "<p>5 rows × 33 columns</p>\n",
              "</div>\n",
              "      <button class=\"colab-df-convert\" onclick=\"convertToInteractive('df-0b69b860-af38-4308-ad84-4915d9463c29')\"\n",
              "              title=\"Convert this dataframe to an interactive table.\"\n",
              "              style=\"display:none;\">\n",
              "        \n",
              "  <svg xmlns=\"http://www.w3.org/2000/svg\" height=\"24px\"viewBox=\"0 0 24 24\"\n",
              "       width=\"24px\">\n",
              "    <path d=\"M0 0h24v24H0V0z\" fill=\"none\"/>\n",
              "    <path d=\"M18.56 5.44l.94 2.06.94-2.06 2.06-.94-2.06-.94-.94-2.06-.94 2.06-2.06.94zm-11 1L8.5 8.5l.94-2.06 2.06-.94-2.06-.94L8.5 2.5l-.94 2.06-2.06.94zm10 10l.94 2.06.94-2.06 2.06-.94-2.06-.94-.94-2.06-.94 2.06-2.06.94z\"/><path d=\"M17.41 7.96l-1.37-1.37c-.4-.4-.92-.59-1.43-.59-.52 0-1.04.2-1.43.59L10.3 9.45l-7.72 7.72c-.78.78-.78 2.05 0 2.83L4 21.41c.39.39.9.59 1.41.59.51 0 1.02-.2 1.41-.59l7.78-7.78 2.81-2.81c.8-.78.8-2.07 0-2.86zM5.41 20L4 18.59l7.72-7.72 1.47 1.35L5.41 20z\"/>\n",
              "  </svg>\n",
              "      </button>\n",
              "      \n",
              "  <style>\n",
              "    .colab-df-container {\n",
              "      display:flex;\n",
              "      flex-wrap:wrap;\n",
              "      gap: 12px;\n",
              "    }\n",
              "\n",
              "    .colab-df-convert {\n",
              "      background-color: #E8F0FE;\n",
              "      border: none;\n",
              "      border-radius: 50%;\n",
              "      cursor: pointer;\n",
              "      display: none;\n",
              "      fill: #1967D2;\n",
              "      height: 32px;\n",
              "      padding: 0 0 0 0;\n",
              "      width: 32px;\n",
              "    }\n",
              "\n",
              "    .colab-df-convert:hover {\n",
              "      background-color: #E2EBFA;\n",
              "      box-shadow: 0px 1px 2px rgba(60, 64, 67, 0.3), 0px 1px 3px 1px rgba(60, 64, 67, 0.15);\n",
              "      fill: #174EA6;\n",
              "    }\n",
              "\n",
              "    [theme=dark] .colab-df-convert {\n",
              "      background-color: #3B4455;\n",
              "      fill: #D2E3FC;\n",
              "    }\n",
              "\n",
              "    [theme=dark] .colab-df-convert:hover {\n",
              "      background-color: #434B5C;\n",
              "      box-shadow: 0px 1px 3px 1px rgba(0, 0, 0, 0.15);\n",
              "      filter: drop-shadow(0px 1px 2px rgba(0, 0, 0, 0.3));\n",
              "      fill: #FFFFFF;\n",
              "    }\n",
              "  </style>\n",
              "\n",
              "      <script>\n",
              "        const buttonEl =\n",
              "          document.querySelector('#df-0b69b860-af38-4308-ad84-4915d9463c29 button.colab-df-convert');\n",
              "        buttonEl.style.display =\n",
              "          google.colab.kernel.accessAllowed ? 'block' : 'none';\n",
              "\n",
              "        async function convertToInteractive(key) {\n",
              "          const element = document.querySelector('#df-0b69b860-af38-4308-ad84-4915d9463c29');\n",
              "          const dataTable =\n",
              "            await google.colab.kernel.invokeFunction('convertToInteractive',\n",
              "                                                     [key], {});\n",
              "          if (!dataTable) return;\n",
              "\n",
              "          const docLinkHtml = 'Like what you see? Visit the ' +\n",
              "            '<a target=\"_blank\" href=https://colab.research.google.com/notebooks/data_table.ipynb>data table notebook</a>'\n",
              "            + ' to learn more about interactive tables.';\n",
              "          element.innerHTML = '';\n",
              "          dataTable['output_type'] = 'display_data';\n",
              "          await google.colab.output.renderOutput(dataTable, element);\n",
              "          const docLink = document.createElement('div');\n",
              "          docLink.innerHTML = docLinkHtml;\n",
              "          element.appendChild(docLink);\n",
              "        }\n",
              "      </script>\n",
              "    </div>\n",
              "  </div>\n",
              "  "
            ],
            "text/plain": [
              "   id  sensor_1   sensor_2   sensor_3   sensor_4   sensor_5   sensor_6  \\\n",
              "0   1  0.067135   5.040383  -2.965405 -12.952880  -1.938465 -10.997802   \n",
              "1   2  6.890655 -12.010728  24.881907  38.943245  -4.757496   5.926453   \n",
              "2   3 -4.809695   0.962863  -1.893647  -6.168084  -3.948282   0.977219   \n",
              "3   4  0.018158  -3.993114  12.001667  22.960746  -2.121793  -6.002385   \n",
              "4   5 -7.841592  -2.129997   7.872448  -8.953428  28.080007  -5.019895   \n",
              "\n",
              "    sensor_7   sensor_8   sensor_9  ...  sensor_23  sensor_24  sensor_25  \\\n",
              "0   1.853669  21.077862   7.963131  ...   8.128448   5.871833   1.889536   \n",
              "1   7.923851   3.925545   4.012127  ...  -7.941582 -27.106928 -16.940167   \n",
              "2  12.960620  -9.048958   5.969053  ...  -0.895094  -7.984137  -0.025761   \n",
              "3   2.173744   1.045248   1.073869  ... -10.084452   2.828070   0.903349   \n",
              "4 -10.922551 -15.045833 -56.981894  ...  -2.000975 -23.942689  -6.741350   \n",
              "\n",
              "   sensor_26  sensor_27  sensor_28  sensor_29  sensor_30  sensor_31  sensor_32  \n",
              "0  -3.926719   0.929041   4.999071  -7.963270   4.044370  -1.993315  10.855771  \n",
              "1 -11.169073   0.202975   6.846631   7.911875  -2.852819  56.028042  52.967175  \n",
              "2   2.981749   4.948704 -10.841968  -4.860024  -6.917495   2.842422  -3.081374  \n",
              "3   5.156367  40.827713  -1.160840  -1.215552   0.037914 -24.968873  -7.148603  \n",
              "4   0.831967  11.905613   3.106004  46.899363   3.001353 -17.881074  -6.882390  \n",
              "\n",
              "[5 rows x 33 columns]"
            ]
          },
          "metadata": {},
          "execution_count": 104
        }
      ],
      "source": [
        "test = pd.read_csv(os.path.join(data_dir,'test.csv'))\n",
        "test.head()"
      ]
    },
    {
      "cell_type": "code",
      "execution_count": 105,
      "id": "699e13e3-bc8c-4c72-96d6-e53d9394200e",
      "metadata": {
        "id": "699e13e3-bc8c-4c72-96d6-e53d9394200e"
      },
      "outputs": [],
      "source": [
        "test_X = test.drop(['id'],axis=1)"
      ]
    },
    {
      "cell_type": "code",
      "source": [
        "test_X = torch.tensor(np.array(test_X).reshape(-1,1,8,4), dtype=torch.float32)"
      ],
      "metadata": {
        "id": "udz3joj80rmm"
      },
      "id": "udz3joj80rmm",
      "execution_count": 106,
      "outputs": []
    },
    {
      "cell_type": "code",
      "execution_count": 107,
      "id": "69a6a328-b54e-4ead-ac0a-919f5da44e3d",
      "metadata": {
        "id": "69a6a328-b54e-4ead-ac0a-919f5da44e3d"
      },
      "outputs": [],
      "source": [
        "pred = model.predict(test_X)"
      ]
    },
    {
      "cell_type": "code",
      "source": [
        "pred"
      ],
      "metadata": {
        "colab": {
          "base_uri": "https://localhost:8080/"
        },
        "id": "CFkc-Lgb12w9",
        "outputId": "93bc809f-8e2a-4fcd-cb30-761768f0231e"
      },
      "id": "CFkc-Lgb12w9",
      "execution_count": 108,
      "outputs": [
        {
          "output_type": "execute_result",
          "data": {
            "text/plain": [
              "tensor([[0],\n",
              "        [0],\n",
              "        [1],\n",
              "        ...,\n",
              "        [2],\n",
              "        [0],\n",
              "        [3]])"
            ]
          },
          "metadata": {},
          "execution_count": 108
        }
      ]
    },
    {
      "cell_type": "markdown",
      "id": "6ff70758-e3f7-4db5-8781-1987cbe7e99b",
      "metadata": {
        "id": "6ff70758-e3f7-4db5-8781-1987cbe7e99b"
      },
      "source": [
        "# dacon 대회에 제출하기\n",
        "이제 이 예측 결과를 submission.csv 파일로 만들어서 대회 페이지에 제출해보도록 합시다.\n",
        "\n",
        "제출한 뒤 리더보드를 통해 결과를 확인합시다."
      ]
    },
    {
      "cell_type": "code",
      "execution_count": 109,
      "id": "c2d7d7a9-694d-47be-9d34-48c9234ae526",
      "metadata": {
        "id": "c2d7d7a9-694d-47be-9d34-48c9234ae526",
        "outputId": "75bf1bec-4ca6-4bef-b256-0bc792faf627",
        "colab": {
          "base_uri": "https://localhost:8080/",
          "height": 206
        }
      },
      "outputs": [
        {
          "output_type": "execute_result",
          "data": {
            "text/html": [
              "\n",
              "  <div id=\"df-a02b713e-5df1-4178-9630-44cd994e697a\">\n",
              "    <div class=\"colab-df-container\">\n",
              "      <div>\n",
              "<style scoped>\n",
              "    .dataframe tbody tr th:only-of-type {\n",
              "        vertical-align: middle;\n",
              "    }\n",
              "\n",
              "    .dataframe tbody tr th {\n",
              "        vertical-align: top;\n",
              "    }\n",
              "\n",
              "    .dataframe thead th {\n",
              "        text-align: right;\n",
              "    }\n",
              "</style>\n",
              "<table border=\"1\" class=\"dataframe\">\n",
              "  <thead>\n",
              "    <tr style=\"text-align: right;\">\n",
              "      <th></th>\n",
              "      <th>id</th>\n",
              "      <th>target</th>\n",
              "    </tr>\n",
              "  </thead>\n",
              "  <tbody>\n",
              "    <tr>\n",
              "      <th>0</th>\n",
              "      <td>1</td>\n",
              "      <td>0</td>\n",
              "    </tr>\n",
              "    <tr>\n",
              "      <th>1</th>\n",
              "      <td>2</td>\n",
              "      <td>0</td>\n",
              "    </tr>\n",
              "    <tr>\n",
              "      <th>2</th>\n",
              "      <td>3</td>\n",
              "      <td>0</td>\n",
              "    </tr>\n",
              "    <tr>\n",
              "      <th>3</th>\n",
              "      <td>4</td>\n",
              "      <td>0</td>\n",
              "    </tr>\n",
              "    <tr>\n",
              "      <th>4</th>\n",
              "      <td>5</td>\n",
              "      <td>0</td>\n",
              "    </tr>\n",
              "  </tbody>\n",
              "</table>\n",
              "</div>\n",
              "      <button class=\"colab-df-convert\" onclick=\"convertToInteractive('df-a02b713e-5df1-4178-9630-44cd994e697a')\"\n",
              "              title=\"Convert this dataframe to an interactive table.\"\n",
              "              style=\"display:none;\">\n",
              "        \n",
              "  <svg xmlns=\"http://www.w3.org/2000/svg\" height=\"24px\"viewBox=\"0 0 24 24\"\n",
              "       width=\"24px\">\n",
              "    <path d=\"M0 0h24v24H0V0z\" fill=\"none\"/>\n",
              "    <path d=\"M18.56 5.44l.94 2.06.94-2.06 2.06-.94-2.06-.94-.94-2.06-.94 2.06-2.06.94zm-11 1L8.5 8.5l.94-2.06 2.06-.94-2.06-.94L8.5 2.5l-.94 2.06-2.06.94zm10 10l.94 2.06.94-2.06 2.06-.94-2.06-.94-.94-2.06-.94 2.06-2.06.94z\"/><path d=\"M17.41 7.96l-1.37-1.37c-.4-.4-.92-.59-1.43-.59-.52 0-1.04.2-1.43.59L10.3 9.45l-7.72 7.72c-.78.78-.78 2.05 0 2.83L4 21.41c.39.39.9.59 1.41.59.51 0 1.02-.2 1.41-.59l7.78-7.78 2.81-2.81c.8-.78.8-2.07 0-2.86zM5.41 20L4 18.59l7.72-7.72 1.47 1.35L5.41 20z\"/>\n",
              "  </svg>\n",
              "      </button>\n",
              "      \n",
              "  <style>\n",
              "    .colab-df-container {\n",
              "      display:flex;\n",
              "      flex-wrap:wrap;\n",
              "      gap: 12px;\n",
              "    }\n",
              "\n",
              "    .colab-df-convert {\n",
              "      background-color: #E8F0FE;\n",
              "      border: none;\n",
              "      border-radius: 50%;\n",
              "      cursor: pointer;\n",
              "      display: none;\n",
              "      fill: #1967D2;\n",
              "      height: 32px;\n",
              "      padding: 0 0 0 0;\n",
              "      width: 32px;\n",
              "    }\n",
              "\n",
              "    .colab-df-convert:hover {\n",
              "      background-color: #E2EBFA;\n",
              "      box-shadow: 0px 1px 2px rgba(60, 64, 67, 0.3), 0px 1px 3px 1px rgba(60, 64, 67, 0.15);\n",
              "      fill: #174EA6;\n",
              "    }\n",
              "\n",
              "    [theme=dark] .colab-df-convert {\n",
              "      background-color: #3B4455;\n",
              "      fill: #D2E3FC;\n",
              "    }\n",
              "\n",
              "    [theme=dark] .colab-df-convert:hover {\n",
              "      background-color: #434B5C;\n",
              "      box-shadow: 0px 1px 3px 1px rgba(0, 0, 0, 0.15);\n",
              "      filter: drop-shadow(0px 1px 2px rgba(0, 0, 0, 0.3));\n",
              "      fill: #FFFFFF;\n",
              "    }\n",
              "  </style>\n",
              "\n",
              "      <script>\n",
              "        const buttonEl =\n",
              "          document.querySelector('#df-a02b713e-5df1-4178-9630-44cd994e697a button.colab-df-convert');\n",
              "        buttonEl.style.display =\n",
              "          google.colab.kernel.accessAllowed ? 'block' : 'none';\n",
              "\n",
              "        async function convertToInteractive(key) {\n",
              "          const element = document.querySelector('#df-a02b713e-5df1-4178-9630-44cd994e697a');\n",
              "          const dataTable =\n",
              "            await google.colab.kernel.invokeFunction('convertToInteractive',\n",
              "                                                     [key], {});\n",
              "          if (!dataTable) return;\n",
              "\n",
              "          const docLinkHtml = 'Like what you see? Visit the ' +\n",
              "            '<a target=\"_blank\" href=https://colab.research.google.com/notebooks/data_table.ipynb>data table notebook</a>'\n",
              "            + ' to learn more about interactive tables.';\n",
              "          element.innerHTML = '';\n",
              "          dataTable['output_type'] = 'display_data';\n",
              "          await google.colab.output.renderOutput(dataTable, element);\n",
              "          const docLink = document.createElement('div');\n",
              "          docLink.innerHTML = docLinkHtml;\n",
              "          element.appendChild(docLink);\n",
              "        }\n",
              "      </script>\n",
              "    </div>\n",
              "  </div>\n",
              "  "
            ],
            "text/plain": [
              "   id  target\n",
              "0   1       0\n",
              "1   2       0\n",
              "2   3       0\n",
              "3   4       0\n",
              "4   5       0"
            ]
          },
          "metadata": {},
          "execution_count": 109
        }
      ],
      "source": [
        "# 제출용 sample 파일을 불러옵니다.\n",
        "submission = pd.read_csv(os.path.join(data_dir,'sample_submission.csv'))\n",
        "submission.head()"
      ]
    },
    {
      "cell_type": "code",
      "execution_count": 110,
      "id": "6a098dcd-93e0-430a-b4e9-2749f1ab00b0",
      "metadata": {
        "id": "6a098dcd-93e0-430a-b4e9-2749f1ab00b0",
        "outputId": "9a75f339-92a6-4893-83a2-89acf3e1d9db",
        "colab": {
          "base_uri": "https://localhost:8080/",
          "height": 423
        }
      },
      "outputs": [
        {
          "output_type": "execute_result",
          "data": {
            "text/html": [
              "\n",
              "  <div id=\"df-38d5f7a6-3547-4f1e-97aa-1f4847b71402\">\n",
              "    <div class=\"colab-df-container\">\n",
              "      <div>\n",
              "<style scoped>\n",
              "    .dataframe tbody tr th:only-of-type {\n",
              "        vertical-align: middle;\n",
              "    }\n",
              "\n",
              "    .dataframe tbody tr th {\n",
              "        vertical-align: top;\n",
              "    }\n",
              "\n",
              "    .dataframe thead th {\n",
              "        text-align: right;\n",
              "    }\n",
              "</style>\n",
              "<table border=\"1\" class=\"dataframe\">\n",
              "  <thead>\n",
              "    <tr style=\"text-align: right;\">\n",
              "      <th></th>\n",
              "      <th>id</th>\n",
              "      <th>target</th>\n",
              "    </tr>\n",
              "  </thead>\n",
              "  <tbody>\n",
              "    <tr>\n",
              "      <th>0</th>\n",
              "      <td>1</td>\n",
              "      <td>0</td>\n",
              "    </tr>\n",
              "    <tr>\n",
              "      <th>1</th>\n",
              "      <td>2</td>\n",
              "      <td>0</td>\n",
              "    </tr>\n",
              "    <tr>\n",
              "      <th>2</th>\n",
              "      <td>3</td>\n",
              "      <td>1</td>\n",
              "    </tr>\n",
              "    <tr>\n",
              "      <th>3</th>\n",
              "      <td>4</td>\n",
              "      <td>3</td>\n",
              "    </tr>\n",
              "    <tr>\n",
              "      <th>4</th>\n",
              "      <td>5</td>\n",
              "      <td>2</td>\n",
              "    </tr>\n",
              "    <tr>\n",
              "      <th>...</th>\n",
              "      <td>...</td>\n",
              "      <td>...</td>\n",
              "    </tr>\n",
              "    <tr>\n",
              "      <th>9338</th>\n",
              "      <td>9339</td>\n",
              "      <td>3</td>\n",
              "    </tr>\n",
              "    <tr>\n",
              "      <th>9339</th>\n",
              "      <td>9340</td>\n",
              "      <td>1</td>\n",
              "    </tr>\n",
              "    <tr>\n",
              "      <th>9340</th>\n",
              "      <td>9341</td>\n",
              "      <td>2</td>\n",
              "    </tr>\n",
              "    <tr>\n",
              "      <th>9341</th>\n",
              "      <td>9342</td>\n",
              "      <td>0</td>\n",
              "    </tr>\n",
              "    <tr>\n",
              "      <th>9342</th>\n",
              "      <td>9343</td>\n",
              "      <td>3</td>\n",
              "    </tr>\n",
              "  </tbody>\n",
              "</table>\n",
              "<p>9343 rows × 2 columns</p>\n",
              "</div>\n",
              "      <button class=\"colab-df-convert\" onclick=\"convertToInteractive('df-38d5f7a6-3547-4f1e-97aa-1f4847b71402')\"\n",
              "              title=\"Convert this dataframe to an interactive table.\"\n",
              "              style=\"display:none;\">\n",
              "        \n",
              "  <svg xmlns=\"http://www.w3.org/2000/svg\" height=\"24px\"viewBox=\"0 0 24 24\"\n",
              "       width=\"24px\">\n",
              "    <path d=\"M0 0h24v24H0V0z\" fill=\"none\"/>\n",
              "    <path d=\"M18.56 5.44l.94 2.06.94-2.06 2.06-.94-2.06-.94-.94-2.06-.94 2.06-2.06.94zm-11 1L8.5 8.5l.94-2.06 2.06-.94-2.06-.94L8.5 2.5l-.94 2.06-2.06.94zm10 10l.94 2.06.94-2.06 2.06-.94-2.06-.94-.94-2.06-.94 2.06-2.06.94z\"/><path d=\"M17.41 7.96l-1.37-1.37c-.4-.4-.92-.59-1.43-.59-.52 0-1.04.2-1.43.59L10.3 9.45l-7.72 7.72c-.78.78-.78 2.05 0 2.83L4 21.41c.39.39.9.59 1.41.59.51 0 1.02-.2 1.41-.59l7.78-7.78 2.81-2.81c.8-.78.8-2.07 0-2.86zM5.41 20L4 18.59l7.72-7.72 1.47 1.35L5.41 20z\"/>\n",
              "  </svg>\n",
              "      </button>\n",
              "      \n",
              "  <style>\n",
              "    .colab-df-container {\n",
              "      display:flex;\n",
              "      flex-wrap:wrap;\n",
              "      gap: 12px;\n",
              "    }\n",
              "\n",
              "    .colab-df-convert {\n",
              "      background-color: #E8F0FE;\n",
              "      border: none;\n",
              "      border-radius: 50%;\n",
              "      cursor: pointer;\n",
              "      display: none;\n",
              "      fill: #1967D2;\n",
              "      height: 32px;\n",
              "      padding: 0 0 0 0;\n",
              "      width: 32px;\n",
              "    }\n",
              "\n",
              "    .colab-df-convert:hover {\n",
              "      background-color: #E2EBFA;\n",
              "      box-shadow: 0px 1px 2px rgba(60, 64, 67, 0.3), 0px 1px 3px 1px rgba(60, 64, 67, 0.15);\n",
              "      fill: #174EA6;\n",
              "    }\n",
              "\n",
              "    [theme=dark] .colab-df-convert {\n",
              "      background-color: #3B4455;\n",
              "      fill: #D2E3FC;\n",
              "    }\n",
              "\n",
              "    [theme=dark] .colab-df-convert:hover {\n",
              "      background-color: #434B5C;\n",
              "      box-shadow: 0px 1px 3px 1px rgba(0, 0, 0, 0.15);\n",
              "      filter: drop-shadow(0px 1px 2px rgba(0, 0, 0, 0.3));\n",
              "      fill: #FFFFFF;\n",
              "    }\n",
              "  </style>\n",
              "\n",
              "      <script>\n",
              "        const buttonEl =\n",
              "          document.querySelector('#df-38d5f7a6-3547-4f1e-97aa-1f4847b71402 button.colab-df-convert');\n",
              "        buttonEl.style.display =\n",
              "          google.colab.kernel.accessAllowed ? 'block' : 'none';\n",
              "\n",
              "        async function convertToInteractive(key) {\n",
              "          const element = document.querySelector('#df-38d5f7a6-3547-4f1e-97aa-1f4847b71402');\n",
              "          const dataTable =\n",
              "            await google.colab.kernel.invokeFunction('convertToInteractive',\n",
              "                                                     [key], {});\n",
              "          if (!dataTable) return;\n",
              "\n",
              "          const docLinkHtml = 'Like what you see? Visit the ' +\n",
              "            '<a target=\"_blank\" href=https://colab.research.google.com/notebooks/data_table.ipynb>data table notebook</a>'\n",
              "            + ' to learn more about interactive tables.';\n",
              "          element.innerHTML = '';\n",
              "          dataTable['output_type'] = 'display_data';\n",
              "          await google.colab.output.renderOutput(dataTable, element);\n",
              "          const docLink = document.createElement('div');\n",
              "          docLink.innerHTML = docLinkHtml;\n",
              "          element.appendChild(docLink);\n",
              "        }\n",
              "      </script>\n",
              "    </div>\n",
              "  </div>\n",
              "  "
            ],
            "text/plain": [
              "        id  target\n",
              "0        1       0\n",
              "1        2       0\n",
              "2        3       1\n",
              "3        4       3\n",
              "4        5       2\n",
              "...    ...     ...\n",
              "9338  9339       3\n",
              "9339  9340       1\n",
              "9340  9341       2\n",
              "9341  9342       0\n",
              "9342  9343       3\n",
              "\n",
              "[9343 rows x 2 columns]"
            ]
          },
          "metadata": {},
          "execution_count": 110
        }
      ],
      "source": [
        "submission['target'] = pred\n",
        "\n",
        "# 데이터가 잘 들어갔는지 확인합니다.\n",
        "submission"
      ]
    },
    {
      "cell_type": "code",
      "execution_count": 111,
      "id": "7bff75fd-d743-4a34-8739-f5faa3c028a8",
      "metadata": {
        "id": "7bff75fd-d743-4a34-8739-f5faa3c028a8"
      },
      "outputs": [],
      "source": [
        "submission.to_csv(os.path.join(data_dir,'submit.csv'),index=False)"
      ]
    },
    {
      "cell_type": "code",
      "source": [
        ""
      ],
      "metadata": {
        "id": "i2u81qZR781_"
      },
      "id": "i2u81qZR781_",
      "execution_count": null,
      "outputs": []
    }
  ],
  "metadata": {
    "kernelspec": {
      "display_name": "soobin",
      "language": "python",
      "name": ".env"
    },
    "language_info": {
      "codemirror_mode": {
        "name": "ipython",
        "version": 3
      },
      "file_extension": ".py",
      "mimetype": "text/x-python",
      "name": "python",
      "nbconvert_exporter": "python",
      "pygments_lexer": "ipython3",
      "version": "3.8.3"
    },
    "colab": {
      "name": "[Baseline]_1. RandomForest 를 이용한 정형 데이터 분류.ipynb",
      "provenance": [],
      "collapsed_sections": [],
      "include_colab_link": true
    }
  },
  "nbformat": 4,
  "nbformat_minor": 5
}