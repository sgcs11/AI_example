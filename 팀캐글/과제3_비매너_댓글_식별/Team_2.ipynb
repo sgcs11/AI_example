{
  "cells": [
    {
      "cell_type": "markdown",
      "id": "68696f7d-99f7-4a1b-97b1-882d0c5565e9",
      "metadata": {
        "id": "68696f7d-99f7-4a1b-97b1-882d0c5565e9"
      },
      "source": [
        "# [모의 캐글 - 게임] 비매너 댓글 식별 \n",
        "\n",
        "- 자연어 multi label classification 과제\n",
        "- 작성자 : MNC Sukyung Kim (skkim@mnc.ai)\n",
        "\n",
        "참고 논문 : \n",
        "- [BERT: Pre-training of Deep Bidirectional Transformers for\n",
        "Language Understanding](https://arxiv.org/pdf/1810.04805.pdf)\n",
        "- [Attention Is All You Need](https://arxiv.org/pdf/1706.03762.pdf)"
      ]
    },
    {
      "cell_type": "markdown",
      "id": "0bfa42a1-848b-4d3b-b13e-b65cf0972404",
      "metadata": {
        "id": "0bfa42a1-848b-4d3b-b13e-b65cf0972404"
      },
      "source": [
        "# 1. 환경 설정 및 라이브러리 불러오기"
      ]
    },
    {
      "cell_type": "code",
      "source": [
        "from google.colab import drive\n",
        "drive.mount('/content/drive')"
      ],
      "metadata": {
        "colab": {
          "base_uri": "https://localhost:8080/"
        },
        "id": "oskvIEqoc8uL",
        "outputId": "21eef334-acc2-4185-8b24-30c2b50d958e"
      },
      "id": "oskvIEqoc8uL",
      "execution_count": 2,
      "outputs": [
        {
          "output_type": "stream",
          "name": "stdout",
          "text": [
            "Mounted at /content/drive\n"
          ]
        }
      ]
    },
    {
      "cell_type": "code",
      "source": [
        "cd drive/MyDrive/Colab_Notebooks/nlp/comment_baseline"
      ],
      "metadata": {
        "colab": {
          "base_uri": "https://localhost:8080/"
        },
        "id": "dN_vYQB1c_CQ",
        "outputId": "55805a61-c4cc-41ba-958c-bccedddab484"
      },
      "id": "dN_vYQB1c_CQ",
      "execution_count": 3,
      "outputs": [
        {
          "output_type": "stream",
          "name": "stdout",
          "text": [
            "/content/drive/MyDrive/Colab_Notebooks/nlp/comment_baseline\n"
          ]
        }
      ]
    },
    {
      "cell_type": "code",
      "execution_count": 4,
      "id": "e6c0e90b-6f4c-45fd-b83c-140dcde11d2b",
      "metadata": {
        "tags": [],
        "colab": {
          "base_uri": "https://localhost:8080/"
        },
        "id": "e6c0e90b-6f4c-45fd-b83c-140dcde11d2b",
        "outputId": "959768e2-7647-45bd-df16-76bbaf6b865a"
      },
      "outputs": [
        {
          "output_type": "stream",
          "name": "stdout",
          "text": [
            "Collecting attrdict\n",
            "  Downloading attrdict-2.0.1-py2.py3-none-any.whl (9.9 kB)\n",
            "Requirement already satisfied: fastprogress in /usr/local/lib/python3.7/dist-packages (from -r requirements_v2.txt (line 2)) (1.0.2)\n",
            "Requirement already satisfied: pandas in /usr/local/lib/python3.7/dist-packages (from -r requirements_v2.txt (line 3)) (1.3.5)\n",
            "Requirement already satisfied: scikit-learn in /usr/local/lib/python3.7/dist-packages (from -r requirements_v2.txt (line 4)) (1.0.2)\n",
            "Requirement already satisfied: matplotlib in /usr/local/lib/python3.7/dist-packages (from -r requirements_v2.txt (line 5)) (3.2.2)\n",
            "Collecting transformers\n",
            "  Downloading transformers-4.17.0-py3-none-any.whl (3.8 MB)\n",
            "\u001b[K     |████████████████████████████████| 3.8 MB 5.3 MB/s \n",
            "\u001b[?25hRequirement already satisfied: ipywidgets in /usr/local/lib/python3.7/dist-packages (from -r requirements_v2.txt (line 7)) (7.6.5)\n",
            "Requirement already satisfied: six in /usr/local/lib/python3.7/dist-packages (from attrdict->-r requirements_v2.txt (line 1)) (1.15.0)\n",
            "Requirement already satisfied: python-dateutil>=2.7.3 in /usr/local/lib/python3.7/dist-packages (from pandas->-r requirements_v2.txt (line 3)) (2.8.2)\n",
            "Requirement already satisfied: numpy>=1.17.3 in /usr/local/lib/python3.7/dist-packages (from pandas->-r requirements_v2.txt (line 3)) (1.21.5)\n",
            "Requirement already satisfied: pytz>=2017.3 in /usr/local/lib/python3.7/dist-packages (from pandas->-r requirements_v2.txt (line 3)) (2018.9)\n",
            "Requirement already satisfied: scipy>=1.1.0 in /usr/local/lib/python3.7/dist-packages (from scikit-learn->-r requirements_v2.txt (line 4)) (1.4.1)\n",
            "Requirement already satisfied: threadpoolctl>=2.0.0 in /usr/local/lib/python3.7/dist-packages (from scikit-learn->-r requirements_v2.txt (line 4)) (3.1.0)\n",
            "Requirement already satisfied: joblib>=0.11 in /usr/local/lib/python3.7/dist-packages (from scikit-learn->-r requirements_v2.txt (line 4)) (1.1.0)\n",
            "Requirement already satisfied: cycler>=0.10 in /usr/local/lib/python3.7/dist-packages (from matplotlib->-r requirements_v2.txt (line 5)) (0.11.0)\n",
            "Requirement already satisfied: kiwisolver>=1.0.1 in /usr/local/lib/python3.7/dist-packages (from matplotlib->-r requirements_v2.txt (line 5)) (1.3.2)\n",
            "Requirement already satisfied: pyparsing!=2.0.4,!=2.1.2,!=2.1.6,>=2.0.1 in /usr/local/lib/python3.7/dist-packages (from matplotlib->-r requirements_v2.txt (line 5)) (3.0.7)\n",
            "Collecting tokenizers!=0.11.3,>=0.11.1\n",
            "  Downloading tokenizers-0.11.6-cp37-cp37m-manylinux_2_12_x86_64.manylinux2010_x86_64.whl (6.5 MB)\n",
            "\u001b[K     |████████████████████████████████| 6.5 MB 35.7 MB/s \n",
            "\u001b[?25hCollecting pyyaml>=5.1\n",
            "  Downloading PyYAML-6.0-cp37-cp37m-manylinux_2_5_x86_64.manylinux1_x86_64.manylinux_2_12_x86_64.manylinux2010_x86_64.whl (596 kB)\n",
            "\u001b[K     |████████████████████████████████| 596 kB 50.3 MB/s \n",
            "\u001b[?25hRequirement already satisfied: requests in /usr/local/lib/python3.7/dist-packages (from transformers->-r requirements_v2.txt (line 6)) (2.23.0)\n",
            "Collecting sacremoses\n",
            "  Downloading sacremoses-0.0.47-py2.py3-none-any.whl (895 kB)\n",
            "\u001b[K     |████████████████████████████████| 895 kB 47.2 MB/s \n",
            "\u001b[?25hRequirement already satisfied: regex!=2019.12.17 in /usr/local/lib/python3.7/dist-packages (from transformers->-r requirements_v2.txt (line 6)) (2019.12.20)\n",
            "Requirement already satisfied: tqdm>=4.27 in /usr/local/lib/python3.7/dist-packages (from transformers->-r requirements_v2.txt (line 6)) (4.63.0)\n",
            "Requirement already satisfied: importlib-metadata in /usr/local/lib/python3.7/dist-packages (from transformers->-r requirements_v2.txt (line 6)) (4.11.2)\n",
            "Requirement already satisfied: filelock in /usr/local/lib/python3.7/dist-packages (from transformers->-r requirements_v2.txt (line 6)) (3.6.0)\n",
            "Requirement already satisfied: packaging>=20.0 in /usr/local/lib/python3.7/dist-packages (from transformers->-r requirements_v2.txt (line 6)) (21.3)\n",
            "Collecting huggingface-hub<1.0,>=0.1.0\n",
            "  Downloading huggingface_hub-0.4.0-py3-none-any.whl (67 kB)\n",
            "\u001b[K     |████████████████████████████████| 67 kB 5.3 MB/s \n",
            "\u001b[?25hRequirement already satisfied: typing-extensions>=3.7.4.3 in /usr/local/lib/python3.7/dist-packages (from huggingface-hub<1.0,>=0.1.0->transformers->-r requirements_v2.txt (line 6)) (3.10.0.2)\n",
            "Requirement already satisfied: widgetsnbextension~=3.5.0 in /usr/local/lib/python3.7/dist-packages (from ipywidgets->-r requirements_v2.txt (line 7)) (3.5.2)\n",
            "Requirement already satisfied: jupyterlab-widgets>=1.0.0 in /usr/local/lib/python3.7/dist-packages (from ipywidgets->-r requirements_v2.txt (line 7)) (1.0.2)\n",
            "Requirement already satisfied: ipython-genutils~=0.2.0 in /usr/local/lib/python3.7/dist-packages (from ipywidgets->-r requirements_v2.txt (line 7)) (0.2.0)\n",
            "Requirement already satisfied: nbformat>=4.2.0 in /usr/local/lib/python3.7/dist-packages (from ipywidgets->-r requirements_v2.txt (line 7)) (5.1.3)\n",
            "Requirement already satisfied: traitlets>=4.3.1 in /usr/local/lib/python3.7/dist-packages (from ipywidgets->-r requirements_v2.txt (line 7)) (5.1.1)\n",
            "Requirement already satisfied: ipython>=4.0.0 in /usr/local/lib/python3.7/dist-packages (from ipywidgets->-r requirements_v2.txt (line 7)) (5.5.0)\n",
            "Requirement already satisfied: ipykernel>=4.5.1 in /usr/local/lib/python3.7/dist-packages (from ipywidgets->-r requirements_v2.txt (line 7)) (4.10.1)\n",
            "Requirement already satisfied: jupyter-client in /usr/local/lib/python3.7/dist-packages (from ipykernel>=4.5.1->ipywidgets->-r requirements_v2.txt (line 7)) (5.3.5)\n",
            "Requirement already satisfied: tornado>=4.0 in /usr/local/lib/python3.7/dist-packages (from ipykernel>=4.5.1->ipywidgets->-r requirements_v2.txt (line 7)) (5.1.1)\n",
            "Requirement already satisfied: setuptools>=18.5 in /usr/local/lib/python3.7/dist-packages (from ipython>=4.0.0->ipywidgets->-r requirements_v2.txt (line 7)) (57.4.0)\n",
            "Requirement already satisfied: pygments in /usr/local/lib/python3.7/dist-packages (from ipython>=4.0.0->ipywidgets->-r requirements_v2.txt (line 7)) (2.6.1)\n",
            "Requirement already satisfied: pickleshare in /usr/local/lib/python3.7/dist-packages (from ipython>=4.0.0->ipywidgets->-r requirements_v2.txt (line 7)) (0.7.5)\n",
            "Requirement already satisfied: prompt-toolkit<2.0.0,>=1.0.4 in /usr/local/lib/python3.7/dist-packages (from ipython>=4.0.0->ipywidgets->-r requirements_v2.txt (line 7)) (1.0.18)\n",
            "Requirement already satisfied: pexpect in /usr/local/lib/python3.7/dist-packages (from ipython>=4.0.0->ipywidgets->-r requirements_v2.txt (line 7)) (4.8.0)\n",
            "Requirement already satisfied: simplegeneric>0.8 in /usr/local/lib/python3.7/dist-packages (from ipython>=4.0.0->ipywidgets->-r requirements_v2.txt (line 7)) (0.8.1)\n",
            "Requirement already satisfied: decorator in /usr/local/lib/python3.7/dist-packages (from ipython>=4.0.0->ipywidgets->-r requirements_v2.txt (line 7)) (4.4.2)\n",
            "Requirement already satisfied: jsonschema!=2.5.0,>=2.4 in /usr/local/lib/python3.7/dist-packages (from nbformat>=4.2.0->ipywidgets->-r requirements_v2.txt (line 7)) (4.3.3)\n",
            "Requirement already satisfied: jupyter-core in /usr/local/lib/python3.7/dist-packages (from nbformat>=4.2.0->ipywidgets->-r requirements_v2.txt (line 7)) (4.9.2)\n",
            "Requirement already satisfied: pyrsistent!=0.17.0,!=0.17.1,!=0.17.2,>=0.14.0 in /usr/local/lib/python3.7/dist-packages (from jsonschema!=2.5.0,>=2.4->nbformat>=4.2.0->ipywidgets->-r requirements_v2.txt (line 7)) (0.18.1)\n",
            "Requirement already satisfied: attrs>=17.4.0 in /usr/local/lib/python3.7/dist-packages (from jsonschema!=2.5.0,>=2.4->nbformat>=4.2.0->ipywidgets->-r requirements_v2.txt (line 7)) (21.4.0)\n",
            "Requirement already satisfied: importlib-resources>=1.4.0 in /usr/local/lib/python3.7/dist-packages (from jsonschema!=2.5.0,>=2.4->nbformat>=4.2.0->ipywidgets->-r requirements_v2.txt (line 7)) (5.4.0)\n",
            "Requirement already satisfied: zipp>=3.1.0 in /usr/local/lib/python3.7/dist-packages (from importlib-resources>=1.4.0->jsonschema!=2.5.0,>=2.4->nbformat>=4.2.0->ipywidgets->-r requirements_v2.txt (line 7)) (3.7.0)\n",
            "Requirement already satisfied: wcwidth in /usr/local/lib/python3.7/dist-packages (from prompt-toolkit<2.0.0,>=1.0.4->ipython>=4.0.0->ipywidgets->-r requirements_v2.txt (line 7)) (0.2.5)\n",
            "Requirement already satisfied: notebook>=4.4.1 in /usr/local/lib/python3.7/dist-packages (from widgetsnbextension~=3.5.0->ipywidgets->-r requirements_v2.txt (line 7)) (5.3.1)\n",
            "Requirement already satisfied: jinja2 in /usr/local/lib/python3.7/dist-packages (from notebook>=4.4.1->widgetsnbextension~=3.5.0->ipywidgets->-r requirements_v2.txt (line 7)) (2.11.3)\n",
            "Requirement already satisfied: nbconvert in /usr/local/lib/python3.7/dist-packages (from notebook>=4.4.1->widgetsnbextension~=3.5.0->ipywidgets->-r requirements_v2.txt (line 7)) (5.6.1)\n",
            "Requirement already satisfied: Send2Trash in /usr/local/lib/python3.7/dist-packages (from notebook>=4.4.1->widgetsnbextension~=3.5.0->ipywidgets->-r requirements_v2.txt (line 7)) (1.8.0)\n",
            "Requirement already satisfied: terminado>=0.8.1 in /usr/local/lib/python3.7/dist-packages (from notebook>=4.4.1->widgetsnbextension~=3.5.0->ipywidgets->-r requirements_v2.txt (line 7)) (0.13.1)\n",
            "Requirement already satisfied: pyzmq>=13 in /usr/local/lib/python3.7/dist-packages (from jupyter-client->ipykernel>=4.5.1->ipywidgets->-r requirements_v2.txt (line 7)) (22.3.0)\n",
            "Requirement already satisfied: ptyprocess in /usr/local/lib/python3.7/dist-packages (from terminado>=0.8.1->notebook>=4.4.1->widgetsnbextension~=3.5.0->ipywidgets->-r requirements_v2.txt (line 7)) (0.7.0)\n",
            "Requirement already satisfied: MarkupSafe>=0.23 in /usr/local/lib/python3.7/dist-packages (from jinja2->notebook>=4.4.1->widgetsnbextension~=3.5.0->ipywidgets->-r requirements_v2.txt (line 7)) (2.0.1)\n",
            "Requirement already satisfied: pandocfilters>=1.4.1 in /usr/local/lib/python3.7/dist-packages (from nbconvert->notebook>=4.4.1->widgetsnbextension~=3.5.0->ipywidgets->-r requirements_v2.txt (line 7)) (1.5.0)\n",
            "Requirement already satisfied: defusedxml in /usr/local/lib/python3.7/dist-packages (from nbconvert->notebook>=4.4.1->widgetsnbextension~=3.5.0->ipywidgets->-r requirements_v2.txt (line 7)) (0.7.1)\n",
            "Requirement already satisfied: mistune<2,>=0.8.1 in /usr/local/lib/python3.7/dist-packages (from nbconvert->notebook>=4.4.1->widgetsnbextension~=3.5.0->ipywidgets->-r requirements_v2.txt (line 7)) (0.8.4)\n",
            "Requirement already satisfied: testpath in /usr/local/lib/python3.7/dist-packages (from nbconvert->notebook>=4.4.1->widgetsnbextension~=3.5.0->ipywidgets->-r requirements_v2.txt (line 7)) (0.6.0)\n",
            "Requirement already satisfied: entrypoints>=0.2.2 in /usr/local/lib/python3.7/dist-packages (from nbconvert->notebook>=4.4.1->widgetsnbextension~=3.5.0->ipywidgets->-r requirements_v2.txt (line 7)) (0.4)\n",
            "Requirement already satisfied: bleach in /usr/local/lib/python3.7/dist-packages (from nbconvert->notebook>=4.4.1->widgetsnbextension~=3.5.0->ipywidgets->-r requirements_v2.txt (line 7)) (4.1.0)\n",
            "Requirement already satisfied: webencodings in /usr/local/lib/python3.7/dist-packages (from bleach->nbconvert->notebook>=4.4.1->widgetsnbextension~=3.5.0->ipywidgets->-r requirements_v2.txt (line 7)) (0.5.1)\n",
            "Requirement already satisfied: urllib3!=1.25.0,!=1.25.1,<1.26,>=1.21.1 in /usr/local/lib/python3.7/dist-packages (from requests->transformers->-r requirements_v2.txt (line 6)) (1.24.3)\n",
            "Requirement already satisfied: chardet<4,>=3.0.2 in /usr/local/lib/python3.7/dist-packages (from requests->transformers->-r requirements_v2.txt (line 6)) (3.0.4)\n",
            "Requirement already satisfied: idna<3,>=2.5 in /usr/local/lib/python3.7/dist-packages (from requests->transformers->-r requirements_v2.txt (line 6)) (2.10)\n",
            "Requirement already satisfied: certifi>=2017.4.17 in /usr/local/lib/python3.7/dist-packages (from requests->transformers->-r requirements_v2.txt (line 6)) (2021.10.8)\n",
            "Requirement already satisfied: click in /usr/local/lib/python3.7/dist-packages (from sacremoses->transformers->-r requirements_v2.txt (line 6)) (7.1.2)\n",
            "Installing collected packages: pyyaml, tokenizers, sacremoses, huggingface-hub, transformers, attrdict\n",
            "  Attempting uninstall: pyyaml\n",
            "    Found existing installation: PyYAML 3.13\n",
            "    Uninstalling PyYAML-3.13:\n",
            "      Successfully uninstalled PyYAML-3.13\n",
            "Successfully installed attrdict-2.0.1 huggingface-hub-0.4.0 pyyaml-6.0 sacremoses-0.0.47 tokenizers-0.11.6 transformers-4.17.0\n"
          ]
        }
      ],
      "source": [
        "!pip install -r requirements_v2.txt"
      ]
    },
    {
      "cell_type": "code",
      "execution_count": 5,
      "id": "ff15bef2-c669-4cb1-bf76-256154c4858b",
      "metadata": {
        "id": "ff15bef2-c669-4cb1-bf76-256154c4858b"
      },
      "outputs": [],
      "source": [
        "import pandas as pd\n",
        "import os\n",
        "import json\n",
        "import numpy as np\n",
        "import shutil\n",
        "\n",
        "from sklearn.metrics import f1_score\n",
        "from datetime import datetime, timezone, timedelta\n",
        "import random\n",
        "from tqdm import tqdm\n",
        "\n",
        "\n",
        "from attrdict import AttrDict\n",
        "import matplotlib.pyplot as plt\n",
        "\n",
        "import torch\n",
        "import torch.nn as nn\n",
        "from torch.utils import *\n",
        "from torch.optim import Adam, AdamW\n",
        "\n",
        "from transformers import logging, get_linear_schedule_with_warmup\n",
        "\n",
        "\n",
        "from transformers import ( \n",
        "    BertConfig,\n",
        "    ElectraConfig\n",
        ")\n",
        "\n",
        "### v2 에서 라이브러리 추가됨\n",
        "# 실험에 사용하실 모델 라이브러리를 추가하시는 걸 잊지 마세요!\n",
        "\n",
        "from transformers import (\n",
        "    BertTokenizer,  \n",
        "    AutoTokenizer,\n",
        "    ElectraTokenizer,\n",
        "    AlbertTokenizer\n",
        ")\n",
        "\n",
        "from transformers import (\n",
        "    BertModel,\n",
        "    AutoModel, \n",
        "    ElectraForSequenceClassification,\n",
        "    BertForSequenceClassification,\n",
        "    AlbertForSequenceClassification\n",
        ")\n"
      ]
    },
    {
      "cell_type": "code",
      "execution_count": 6,
      "id": "5c95b317-b37f-4c59-8eaf-25ce048eb753",
      "metadata": {
        "colab": {
          "base_uri": "https://localhost:8080/"
        },
        "id": "5c95b317-b37f-4c59-8eaf-25ce048eb753",
        "outputId": "c9d5144c-1a34-4583-c626-9e48c6dfed6a"
      },
      "outputs": [
        {
          "output_type": "stream",
          "name": "stdout",
          "text": [
            "number of GPUs:  1\n",
            "Does GPU exist? :  True\n"
          ]
        }
      ],
      "source": [
        "# 사용할 GPU 지정\n",
        "print(\"number of GPUs: \", torch.cuda.device_count())\n",
        "os.environ[\"CUDA_VISIBLE_DEVICES\"] = \"0\"\n",
        "use_cuda = torch.cuda.is_available()\n",
        "print(\"Does GPU exist? : \", use_cuda)\n",
        "DEVICE = torch.device(\"cuda\" if use_cuda else \"cpu\")"
      ]
    },
    {
      "cell_type": "code",
      "execution_count": 7,
      "id": "3ffbcad1-d170-462f-807d-41760e65f4a0",
      "metadata": {
        "id": "3ffbcad1-d170-462f-807d-41760e65f4a0"
      },
      "outputs": [],
      "source": [
        "# True 일 때 코드를 실행하면 example 등을 보여줌\n",
        "DEBUG = True"
      ]
    },
    {
      "cell_type": "code",
      "execution_count": 8,
      "id": "a7484847-924d-4f99-8b41-190ae4f192e8",
      "metadata": {
        "colab": {
          "base_uri": "https://localhost:8080/"
        },
        "id": "a7484847-924d-4f99-8b41-190ae4f192e8",
        "outputId": "5bd36995-dc0d-4459-b3f9-c540bd95d484"
      },
      "outputs": [
        {
          "output_type": "stream",
          "name": "stdout",
          "text": [
            "config file loaded.\n",
            "beomi/kcbert-base\n"
          ]
        }
      ],
      "source": [
        "# config 파일 불러오기\n",
        "config_path = os.path.join('config.json')\n",
        "\n",
        "def set_config(config_path):\n",
        "    if os.path.lexists(config_path):\n",
        "        with open(config_path) as f:\n",
        "            args = AttrDict(json.load(f))\n",
        "            print(\"config file loaded.\")\n",
        "            print(args.pretrained_model)\n",
        "    else:\n",
        "        assert False, 'config json file cannot be found.. please check the path again.'\n",
        "    \n",
        "    return args\n",
        "\n",
        "\n",
        "# 코드 중간중간에 끼워넣어 리셋 가능\n",
        "args = set_config(config_path)\n",
        "\n",
        "# 결과 저장 폴더 미리 생성\n",
        "os.makedirs(args.result_dir, exist_ok=True)\n",
        "os.makedirs(args.config_dir, exist_ok=True)"
      ]
    },
    {
      "cell_type": "code",
      "source": [
        "args = AttrDict({'data_dir': '/content/drive/MyDrive/Colab_Notebooks/nlp/data', \n",
        "                 'result_dir': '/content/drive/MyDrive/Colab_Notebooks/nlp/data', \n",
        "                 'config_dir': '/content/drive/MyDrive/Colab_Notebooks/nlp/comment_baseline', \n",
        "                 'pretrained_model': 'beomi/KcELECTRA-base', \n",
        "                 'architecture': 'ElectraForSequenceClassification', \n",
        "                 'tokenizer_class': 'ElectraTokenizer',\n",
        "                 'num_classes': 6, \n",
        "                 'max_seq_len': 128, \n",
        "                 'train_epochs': 30, \n",
        "                 'adam_epsilon': 1e-08, \n",
        "                 'seed': 42, \n",
        "                 'train_batch_size': 32, \n",
        "                 'eval_batch_size': 32, \n",
        "                 'learning_rate': 1e-06, \n",
        "                 'warmup_proportion': 0.1, \n",
        "                 'run': 'demo0', \n",
        "                 'patience': 5})"
      ],
      "metadata": {
        "id": "H_TDYWQgLtqe"
      },
      "id": "H_TDYWQgLtqe",
      "execution_count": 20,
      "outputs": []
    },
    {
      "cell_type": "markdown",
      "id": "7a04c99c-208b-46a1-82cd-a7c9c776c8ad",
      "metadata": {
        "id": "7a04c99c-208b-46a1-82cd-a7c9c776c8ad"
      },
      "source": [
        "# 2. EDA 및 데이터 전처리"
      ]
    },
    {
      "cell_type": "code",
      "execution_count": 11,
      "id": "87df6631-40e2-4c33-bacc-6548f9459d05",
      "metadata": {
        "colab": {
          "base_uri": "https://localhost:8080/"
        },
        "id": "87df6631-40e2-4c33-bacc-6548f9459d05",
        "outputId": "afe7fa27-4ecf-48f5-eca0-7832403ade11"
      },
      "outputs": [
        {
          "output_type": "stream",
          "name": "stdout",
          "text": [
            "train 데이터 경로가 올바른가요? :  True\n"
          ]
        }
      ],
      "source": [
        "# data 경로 설정  \n",
        "train_path = os.path.join(args.data_dir,'train.csv')\n",
        "\n",
        "print(\"train 데이터 경로가 올바른가요? : \", os.path.lexists(train_path))"
      ]
    },
    {
      "cell_type": "markdown",
      "id": "c3123598-d707-467a-a380-99644a9a3637",
      "metadata": {
        "id": "c3123598-d707-467a-a380-99644a9a3637"
      },
      "source": [
        "### 2-1. Train 데이터 확인"
      ]
    },
    {
      "cell_type": "code",
      "execution_count": 12,
      "id": "d3d5cb19-0e61-4358-9a9b-c690cbe8c6cd",
      "metadata": {
        "colab": {
          "base_uri": "https://localhost:8080/",
          "height": 206
        },
        "id": "d3d5cb19-0e61-4358-9a9b-c690cbe8c6cd",
        "outputId": "37518733-a497-4d58-92f7-85e8db2ddeb2"
      },
      "outputs": [
        {
          "output_type": "execute_result",
          "data": {
            "text/html": [
              "\n",
              "  <div id=\"df-0b225c39-3f65-439f-9ef2-b6140fb61569\">\n",
              "    <div class=\"colab-df-container\">\n",
              "      <div>\n",
              "<style scoped>\n",
              "    .dataframe tbody tr th:only-of-type {\n",
              "        vertical-align: middle;\n",
              "    }\n",
              "\n",
              "    .dataframe tbody tr th {\n",
              "        vertical-align: top;\n",
              "    }\n",
              "\n",
              "    .dataframe thead th {\n",
              "        text-align: right;\n",
              "    }\n",
              "</style>\n",
              "<table border=\"1\" class=\"dataframe\">\n",
              "  <thead>\n",
              "    <tr style=\"text-align: right;\">\n",
              "      <th></th>\n",
              "      <th>title</th>\n",
              "      <th>comment</th>\n",
              "      <th>bias</th>\n",
              "      <th>hate</th>\n",
              "    </tr>\n",
              "  </thead>\n",
              "  <tbody>\n",
              "    <tr>\n",
              "      <th>0</th>\n",
              "      <td>\"'미스터 션샤인' 변요한, 김태리와 같은 양복 입고 학당 방문! 이유는?\"</td>\n",
              "      <td>김태리 정말 연기잘해 진짜</td>\n",
              "      <td>none</td>\n",
              "      <td>none</td>\n",
              "    </tr>\n",
              "    <tr>\n",
              "      <th>1</th>\n",
              "      <td>\"[SC현장]\"\"극사실주의 현실♥\"\"…'가장 보통의 연애' 김래원X공효진, 16년만...</td>\n",
              "      <td>공효진 발연기나이질생각이읍던데 왜계속주연일까</td>\n",
              "      <td>none</td>\n",
              "      <td>hate</td>\n",
              "    </tr>\n",
              "    <tr>\n",
              "      <th>2</th>\n",
              "      <td>\"손연재, 리듬체조 학원 선생님 \"\"하고 싶은 일 해서 행복하다\"\"\"</td>\n",
              "      <td>누구처럼 돈만 밝히는 저급인생은 살아가지마시길~~ 행복은 머니순이 아니니깐 작은거에...</td>\n",
              "      <td>others</td>\n",
              "      <td>hate</td>\n",
              "    </tr>\n",
              "    <tr>\n",
              "      <th>3</th>\n",
              "      <td>\"'섹션TV' 김해숙 \"\"'허스토리' 촬영 후 우울증 얻었다\"\"\"</td>\n",
              "      <td>일본 축구 져라</td>\n",
              "      <td>none</td>\n",
              "      <td>none</td>\n",
              "    </tr>\n",
              "    <tr>\n",
              "      <th>4</th>\n",
              "      <td>\"[단독] 임현주 아나운서 “‘노브라 챌린지’ 방송 덕에 낸 용기, 자연스런 논의의...</td>\n",
              "      <td>난 절대로 임현주 욕하는인간이랑은 안논다 @.@</td>\n",
              "      <td>none</td>\n",
              "      <td>none</td>\n",
              "    </tr>\n",
              "  </tbody>\n",
              "</table>\n",
              "</div>\n",
              "      <button class=\"colab-df-convert\" onclick=\"convertToInteractive('df-0b225c39-3f65-439f-9ef2-b6140fb61569')\"\n",
              "              title=\"Convert this dataframe to an interactive table.\"\n",
              "              style=\"display:none;\">\n",
              "        \n",
              "  <svg xmlns=\"http://www.w3.org/2000/svg\" height=\"24px\"viewBox=\"0 0 24 24\"\n",
              "       width=\"24px\">\n",
              "    <path d=\"M0 0h24v24H0V0z\" fill=\"none\"/>\n",
              "    <path d=\"M18.56 5.44l.94 2.06.94-2.06 2.06-.94-2.06-.94-.94-2.06-.94 2.06-2.06.94zm-11 1L8.5 8.5l.94-2.06 2.06-.94-2.06-.94L8.5 2.5l-.94 2.06-2.06.94zm10 10l.94 2.06.94-2.06 2.06-.94-2.06-.94-.94-2.06-.94 2.06-2.06.94z\"/><path d=\"M17.41 7.96l-1.37-1.37c-.4-.4-.92-.59-1.43-.59-.52 0-1.04.2-1.43.59L10.3 9.45l-7.72 7.72c-.78.78-.78 2.05 0 2.83L4 21.41c.39.39.9.59 1.41.59.51 0 1.02-.2 1.41-.59l7.78-7.78 2.81-2.81c.8-.78.8-2.07 0-2.86zM5.41 20L4 18.59l7.72-7.72 1.47 1.35L5.41 20z\"/>\n",
              "  </svg>\n",
              "      </button>\n",
              "      \n",
              "  <style>\n",
              "    .colab-df-container {\n",
              "      display:flex;\n",
              "      flex-wrap:wrap;\n",
              "      gap: 12px;\n",
              "    }\n",
              "\n",
              "    .colab-df-convert {\n",
              "      background-color: #E8F0FE;\n",
              "      border: none;\n",
              "      border-radius: 50%;\n",
              "      cursor: pointer;\n",
              "      display: none;\n",
              "      fill: #1967D2;\n",
              "      height: 32px;\n",
              "      padding: 0 0 0 0;\n",
              "      width: 32px;\n",
              "    }\n",
              "\n",
              "    .colab-df-convert:hover {\n",
              "      background-color: #E2EBFA;\n",
              "      box-shadow: 0px 1px 2px rgba(60, 64, 67, 0.3), 0px 1px 3px 1px rgba(60, 64, 67, 0.15);\n",
              "      fill: #174EA6;\n",
              "    }\n",
              "\n",
              "    [theme=dark] .colab-df-convert {\n",
              "      background-color: #3B4455;\n",
              "      fill: #D2E3FC;\n",
              "    }\n",
              "\n",
              "    [theme=dark] .colab-df-convert:hover {\n",
              "      background-color: #434B5C;\n",
              "      box-shadow: 0px 1px 3px 1px rgba(0, 0, 0, 0.15);\n",
              "      filter: drop-shadow(0px 1px 2px rgba(0, 0, 0, 0.3));\n",
              "      fill: #FFFFFF;\n",
              "    }\n",
              "  </style>\n",
              "\n",
              "      <script>\n",
              "        const buttonEl =\n",
              "          document.querySelector('#df-0b225c39-3f65-439f-9ef2-b6140fb61569 button.colab-df-convert');\n",
              "        buttonEl.style.display =\n",
              "          google.colab.kernel.accessAllowed ? 'block' : 'none';\n",
              "\n",
              "        async function convertToInteractive(key) {\n",
              "          const element = document.querySelector('#df-0b225c39-3f65-439f-9ef2-b6140fb61569');\n",
              "          const dataTable =\n",
              "            await google.colab.kernel.invokeFunction('convertToInteractive',\n",
              "                                                     [key], {});\n",
              "          if (!dataTable) return;\n",
              "\n",
              "          const docLinkHtml = 'Like what you see? Visit the ' +\n",
              "            '<a target=\"_blank\" href=https://colab.research.google.com/notebooks/data_table.ipynb>data table notebook</a>'\n",
              "            + ' to learn more about interactive tables.';\n",
              "          element.innerHTML = '';\n",
              "          dataTable['output_type'] = 'display_data';\n",
              "          await google.colab.output.renderOutput(dataTable, element);\n",
              "          const docLink = document.createElement('div');\n",
              "          docLink.innerHTML = docLinkHtml;\n",
              "          element.appendChild(docLink);\n",
              "        }\n",
              "      </script>\n",
              "    </div>\n",
              "  </div>\n",
              "  "
            ],
            "text/plain": [
              "                                               title  \\\n",
              "0         \"'미스터 션샤인' 변요한, 김태리와 같은 양복 입고 학당 방문! 이유는?\"   \n",
              "1  \"[SC현장]\"\"극사실주의 현실♥\"\"…'가장 보통의 연애' 김래원X공효진, 16년만...   \n",
              "2             \"손연재, 리듬체조 학원 선생님 \"\"하고 싶은 일 해서 행복하다\"\"\"   \n",
              "3               \"'섹션TV' 김해숙 \"\"'허스토리' 촬영 후 우울증 얻었다\"\"\"   \n",
              "4  \"[단독] 임현주 아나운서 “‘노브라 챌린지’ 방송 덕에 낸 용기, 자연스런 논의의...   \n",
              "\n",
              "                                             comment    bias  hate  \n",
              "0                                     김태리 정말 연기잘해 진짜    none  none  \n",
              "1                           공효진 발연기나이질생각이읍던데 왜계속주연일까    none  hate  \n",
              "2  누구처럼 돈만 밝히는 저급인생은 살아가지마시길~~ 행복은 머니순이 아니니깐 작은거에...  others  hate  \n",
              "3                                           일본 축구 져라    none  none  \n",
              "4                         난 절대로 임현주 욕하는인간이랑은 안논다 @.@    none  none  "
            ]
          },
          "metadata": {},
          "execution_count": 12
        }
      ],
      "source": [
        "train_df = pd.read_csv(train_path, encoding = 'UTF-8-SIG')\n",
        "\n",
        "train_df.head()"
      ]
    },
    {
      "cell_type": "code",
      "source": [
        "!pip install git+https://github.com/ssut/py-hanspell.git"
      ],
      "metadata": {
        "colab": {
          "base_uri": "https://localhost:8080/"
        },
        "id": "UBi4qPOH_6DP",
        "outputId": "a6812173-3aa2-48fb-93de-1541eb0442d0"
      },
      "id": "UBi4qPOH_6DP",
      "execution_count": null,
      "outputs": [
        {
          "output_type": "stream",
          "name": "stdout",
          "text": [
            "Collecting git+https://github.com/ssut/py-hanspell.git\n",
            "  Cloning https://github.com/ssut/py-hanspell.git to /tmp/pip-req-build-ywlq_6v9\n",
            "  Running command git clone -q https://github.com/ssut/py-hanspell.git /tmp/pip-req-build-ywlq_6v9\n",
            "Requirement already satisfied: requests in /usr/local/lib/python3.7/dist-packages (from py-hanspell==1.1) (2.23.0)\n",
            "Requirement already satisfied: certifi>=2017.4.17 in /usr/local/lib/python3.7/dist-packages (from requests->py-hanspell==1.1) (2021.10.8)\n",
            "Requirement already satisfied: idna<3,>=2.5 in /usr/local/lib/python3.7/dist-packages (from requests->py-hanspell==1.1) (2.10)\n",
            "Requirement already satisfied: chardet<4,>=3.0.2 in /usr/local/lib/python3.7/dist-packages (from requests->py-hanspell==1.1) (3.0.4)\n",
            "Requirement already satisfied: urllib3!=1.25.0,!=1.25.1,<1.26,>=1.21.1 in /usr/local/lib/python3.7/dist-packages (from requests->py-hanspell==1.1) (1.24.3)\n",
            "Building wheels for collected packages: py-hanspell\n",
            "  Building wheel for py-hanspell (setup.py) ... \u001b[?25l\u001b[?25hdone\n",
            "  Created wheel for py-hanspell: filename=py_hanspell-1.1-py3-none-any.whl size=4868 sha256=542d974d3c6c70885b07e0121941ba4aceac4296f46a405ba06460ba89eb17cc\n",
            "  Stored in directory: /tmp/pip-ephem-wheel-cache-8mazqqum/wheels/ab/f5/7b/d4124bb329c905301baed80e2ae45aa14e824f62ebc3ec2cc4\n",
            "Successfully built py-hanspell\n",
            "Installing collected packages: py-hanspell\n",
            "Successfully installed py-hanspell-1.1\n"
          ]
        }
      ]
    },
    {
      "cell_type": "code",
      "source": [
        "# 특수문자 같은거 제거\n",
        "import re\n",
        "\n",
        "def clean_text(text):\n",
        "    pattern = '([ㄱ-ㅎㅏ-ㅣ]+)'  # 한글 자음, 모음 제거\n",
        "    text = re.sub(pattern=pattern, repl='', string=text)\n",
        "    pattern = '[^\\w\\s]'         # 특수기호제거\n",
        "    text = re.sub(pattern=pattern, repl='', string=text)\n",
        "    return text "
      ],
      "metadata": {
        "id": "fuRIaCrrFl4P"
      },
      "id": "fuRIaCrrFl4P",
      "execution_count": null,
      "outputs": []
    },
    {
      "cell_type": "code",
      "source": [
        "# 맞춤법 교정\n",
        "from hanspell import spell_checker\n",
        "\n",
        "def correct_text(text):\n",
        "  spelled = spell_checker.check(text)\n",
        "  corrected = spelled.checked\n",
        "  return corrected"
      ],
      "metadata": {
        "id": "T9h-CjA1KtGD"
      },
      "id": "T9h-CjA1KtGD",
      "execution_count": null,
      "outputs": []
    },
    {
      "cell_type": "code",
      "source": [
        "correct_title = []\n",
        "correct_comment = []\n",
        "\n",
        "for i in range(len(train_df)):\n",
        "  raw_title = train_df['title'][i]\n",
        "  raw_comment = train_df['comment'][i]\n",
        "\n",
        "  # 특수문자 제거\n",
        "  clean_title = clean_text(raw_title)\n",
        "  clean_comment = clean_text(raw_comment)\n",
        "\n",
        "  # 맞춤법 교정\n",
        "  correct_title.append(correct_text(clean_title))\n",
        "  correct_comment.append(correct_text(clean_comment))"
      ],
      "metadata": {
        "id": "51pLesHgAAaf"
      },
      "id": "51pLesHgAAaf",
      "execution_count": null,
      "outputs": []
    },
    {
      "cell_type": "code",
      "source": [
        "for i in range(len(train_df)):\n",
        "  train_df['title'][i] = correct_title[i]\n",
        "  train_df['comment'][i] = correct_comment[i]"
      ],
      "metadata": {
        "id": "QUhk22p3NAdg"
      },
      "id": "QUhk22p3NAdg",
      "execution_count": null,
      "outputs": []
    },
    {
      "cell_type": "code",
      "source": [
        "train_df"
      ],
      "metadata": {
        "colab": {
          "base_uri": "https://localhost:8080/",
          "height": 423
        },
        "id": "pp4OfiZncwcD",
        "outputId": "28fcf8cf-fe0e-424d-8099-4b5704fda81d"
      },
      "id": "pp4OfiZncwcD",
      "execution_count": null,
      "outputs": [
        {
          "output_type": "execute_result",
          "data": {
            "text/html": [
              "\n",
              "  <div id=\"df-d86b7c98-01f8-483d-bfac-54122ecd7129\">\n",
              "    <div class=\"colab-df-container\">\n",
              "      <div>\n",
              "<style scoped>\n",
              "    .dataframe tbody tr th:only-of-type {\n",
              "        vertical-align: middle;\n",
              "    }\n",
              "\n",
              "    .dataframe tbody tr th {\n",
              "        vertical-align: top;\n",
              "    }\n",
              "\n",
              "    .dataframe thead th {\n",
              "        text-align: right;\n",
              "    }\n",
              "</style>\n",
              "<table border=\"1\" class=\"dataframe\">\n",
              "  <thead>\n",
              "    <tr style=\"text-align: right;\">\n",
              "      <th></th>\n",
              "      <th>title</th>\n",
              "      <th>comment</th>\n",
              "      <th>bias</th>\n",
              "      <th>hate</th>\n",
              "    </tr>\n",
              "  </thead>\n",
              "  <tbody>\n",
              "    <tr>\n",
              "      <th>0</th>\n",
              "      <td>미스터 선샤인 변요한 김태리와 같은 양복 입고 학당 방문 이유는</td>\n",
              "      <td>김태리 정말 연기 잘해 진짜</td>\n",
              "      <td>none</td>\n",
              "      <td>none</td>\n",
              "    </tr>\n",
              "    <tr>\n",
              "      <th>1</th>\n",
              "      <td>SC 현장 극 사실주의 현실 가장 보통의 연애 김래원 X 공효진 16년 만의 랑데부 종합</td>\n",
              "      <td>공효진 발 연기나 이질 생각이 없던데 왜 계속 주연일까</td>\n",
              "      <td>none</td>\n",
              "      <td>hate</td>\n",
              "    </tr>\n",
              "    <tr>\n",
              "      <th>2</th>\n",
              "      <td>손연재 리듬체조 학원 선생님 하고 싶은 일 해서 행복하다</td>\n",
              "      <td>누구처럼 돈만 밝히는 저급 인생은 살아가지 마시길 행복은 머니 순이 아니니깐 작은 ...</td>\n",
              "      <td>others</td>\n",
              "      <td>hate</td>\n",
              "    </tr>\n",
              "    <tr>\n",
              "      <th>3</th>\n",
              "      <td>섹션TV 김해숙 허스토리 촬영 후 우울증 얻었다</td>\n",
              "      <td>일본 축구 져라</td>\n",
              "      <td>none</td>\n",
              "      <td>none</td>\n",
              "    </tr>\n",
              "    <tr>\n",
              "      <th>4</th>\n",
              "      <td>단독 임현주 아나운서 노브라 챌린지 방송 덕에 낸 용기 자연스러운 논의의 창 됐으면...</td>\n",
              "      <td>난 절대로 임현주 욕하는 인간이랑은 안 논다</td>\n",
              "      <td>none</td>\n",
              "      <td>none</td>\n",
              "    </tr>\n",
              "    <tr>\n",
              "      <th>...</th>\n",
              "      <td>...</td>\n",
              "      <td>...</td>\n",
              "      <td>...</td>\n",
              "      <td>...</td>\n",
              "    </tr>\n",
              "    <tr>\n",
              "      <th>8362</th>\n",
              "      <td>배우 이필립 SNS 스타 연인에게 초호화 프러포즈 눈길</td>\n",
              "      <td>아니 근데 튜닝한 사람은 프러포즈받지도결혼도못함지들은 돈 없어서 못하는 것들이 아이...</td>\n",
              "      <td>others</td>\n",
              "      <td>hate</td>\n",
              "    </tr>\n",
              "    <tr>\n",
              "      <th>8363</th>\n",
              "      <td>SC이 슈마 약 백 스텝 김새롬 탓 실형 피한 이찬오 이미지는 치명상 종합</td>\n",
              "      <td>그러니깐 여자를 잘 만나야 돼 징글징글한 것들 만나면 인생 끝가지 돌아가게 되는 듯...</td>\n",
              "      <td>gender</td>\n",
              "      <td>hate</td>\n",
              "    </tr>\n",
              "    <tr>\n",
              "      <th>8364</th>\n",
              "      <td>POP 이슈 그들만의 세상 홍상수 김민희 새해 데이트에 반응 싸늘</td>\n",
              "      <td>참으로 아름다운 커플입니다 늘 행복하시고 새해에도 늘 꽃길만 걸으시길 축원합니다</td>\n",
              "      <td>none</td>\n",
              "      <td>none</td>\n",
              "    </tr>\n",
              "    <tr>\n",
              "      <th>8365</th>\n",
              "      <td>종합 시크릿 마더 김소연 누가 죽였나 송윤아와 갈등</td>\n",
              "      <td>재미가 없어요</td>\n",
              "      <td>none</td>\n",
              "      <td>none</td>\n",
              "    </tr>\n",
              "    <tr>\n",
              "      <th>8366</th>\n",
              "      <td>허지웅 소속사 악성림프종 진단 치료 전념 공식</td>\n",
              "      <td>쭉 쉬세요</td>\n",
              "      <td>none</td>\n",
              "      <td>hate</td>\n",
              "    </tr>\n",
              "  </tbody>\n",
              "</table>\n",
              "<p>8367 rows × 4 columns</p>\n",
              "</div>\n",
              "      <button class=\"colab-df-convert\" onclick=\"convertToInteractive('df-d86b7c98-01f8-483d-bfac-54122ecd7129')\"\n",
              "              title=\"Convert this dataframe to an interactive table.\"\n",
              "              style=\"display:none;\">\n",
              "        \n",
              "  <svg xmlns=\"http://www.w3.org/2000/svg\" height=\"24px\"viewBox=\"0 0 24 24\"\n",
              "       width=\"24px\">\n",
              "    <path d=\"M0 0h24v24H0V0z\" fill=\"none\"/>\n",
              "    <path d=\"M18.56 5.44l.94 2.06.94-2.06 2.06-.94-2.06-.94-.94-2.06-.94 2.06-2.06.94zm-11 1L8.5 8.5l.94-2.06 2.06-.94-2.06-.94L8.5 2.5l-.94 2.06-2.06.94zm10 10l.94 2.06.94-2.06 2.06-.94-2.06-.94-.94-2.06-.94 2.06-2.06.94z\"/><path d=\"M17.41 7.96l-1.37-1.37c-.4-.4-.92-.59-1.43-.59-.52 0-1.04.2-1.43.59L10.3 9.45l-7.72 7.72c-.78.78-.78 2.05 0 2.83L4 21.41c.39.39.9.59 1.41.59.51 0 1.02-.2 1.41-.59l7.78-7.78 2.81-2.81c.8-.78.8-2.07 0-2.86zM5.41 20L4 18.59l7.72-7.72 1.47 1.35L5.41 20z\"/>\n",
              "  </svg>\n",
              "      </button>\n",
              "      \n",
              "  <style>\n",
              "    .colab-df-container {\n",
              "      display:flex;\n",
              "      flex-wrap:wrap;\n",
              "      gap: 12px;\n",
              "    }\n",
              "\n",
              "    .colab-df-convert {\n",
              "      background-color: #E8F0FE;\n",
              "      border: none;\n",
              "      border-radius: 50%;\n",
              "      cursor: pointer;\n",
              "      display: none;\n",
              "      fill: #1967D2;\n",
              "      height: 32px;\n",
              "      padding: 0 0 0 0;\n",
              "      width: 32px;\n",
              "    }\n",
              "\n",
              "    .colab-df-convert:hover {\n",
              "      background-color: #E2EBFA;\n",
              "      box-shadow: 0px 1px 2px rgba(60, 64, 67, 0.3), 0px 1px 3px 1px rgba(60, 64, 67, 0.15);\n",
              "      fill: #174EA6;\n",
              "    }\n",
              "\n",
              "    [theme=dark] .colab-df-convert {\n",
              "      background-color: #3B4455;\n",
              "      fill: #D2E3FC;\n",
              "    }\n",
              "\n",
              "    [theme=dark] .colab-df-convert:hover {\n",
              "      background-color: #434B5C;\n",
              "      box-shadow: 0px 1px 3px 1px rgba(0, 0, 0, 0.15);\n",
              "      filter: drop-shadow(0px 1px 2px rgba(0, 0, 0, 0.3));\n",
              "      fill: #FFFFFF;\n",
              "    }\n",
              "  </style>\n",
              "\n",
              "      <script>\n",
              "        const buttonEl =\n",
              "          document.querySelector('#df-d86b7c98-01f8-483d-bfac-54122ecd7129 button.colab-df-convert');\n",
              "        buttonEl.style.display =\n",
              "          google.colab.kernel.accessAllowed ? 'block' : 'none';\n",
              "\n",
              "        async function convertToInteractive(key) {\n",
              "          const element = document.querySelector('#df-d86b7c98-01f8-483d-bfac-54122ecd7129');\n",
              "          const dataTable =\n",
              "            await google.colab.kernel.invokeFunction('convertToInteractive',\n",
              "                                                     [key], {});\n",
              "          if (!dataTable) return;\n",
              "\n",
              "          const docLinkHtml = 'Like what you see? Visit the ' +\n",
              "            '<a target=\"_blank\" href=https://colab.research.google.com/notebooks/data_table.ipynb>data table notebook</a>'\n",
              "            + ' to learn more about interactive tables.';\n",
              "          element.innerHTML = '';\n",
              "          dataTable['output_type'] = 'display_data';\n",
              "          await google.colab.output.renderOutput(dataTable, element);\n",
              "          const docLink = document.createElement('div');\n",
              "          docLink.innerHTML = docLinkHtml;\n",
              "          element.appendChild(docLink);\n",
              "        }\n",
              "      </script>\n",
              "    </div>\n",
              "  </div>\n",
              "  "
            ],
            "text/plain": [
              "                                                  title  ...  hate\n",
              "0                   미스터 선샤인 변요한 김태리와 같은 양복 입고 학당 방문 이유는  ...  none\n",
              "1     SC 현장 극 사실주의 현실 가장 보통의 연애 김래원 X 공효진 16년 만의 랑데부 종합  ...  hate\n",
              "2                       손연재 리듬체조 학원 선생님 하고 싶은 일 해서 행복하다  ...  hate\n",
              "3                            섹션TV 김해숙 허스토리 촬영 후 우울증 얻었다  ...  none\n",
              "4     단독 임현주 아나운서 노브라 챌린지 방송 덕에 낸 용기 자연스러운 논의의 창 됐으면...  ...  none\n",
              "...                                                 ...  ...   ...\n",
              "8362                     배우 이필립 SNS 스타 연인에게 초호화 프러포즈 눈길  ...  hate\n",
              "8363          SC이 슈마 약 백 스텝 김새롬 탓 실형 피한 이찬오 이미지는 치명상 종합  ...  hate\n",
              "8364               POP 이슈 그들만의 세상 홍상수 김민희 새해 데이트에 반응 싸늘  ...  none\n",
              "8365                       종합 시크릿 마더 김소연 누가 죽였나 송윤아와 갈등  ...  none\n",
              "8366                          허지웅 소속사 악성림프종 진단 치료 전념 공식  ...  hate\n",
              "\n",
              "[8367 rows x 4 columns]"
            ]
          },
          "metadata": {},
          "execution_count": 16
        }
      ]
    },
    {
      "cell_type": "code",
      "execution_count": null,
      "id": "dce65d19-028f-4dc6-96e2-a9ac0949b5df",
      "metadata": {
        "colab": {
          "base_uri": "https://localhost:8080/"
        },
        "id": "dce65d19-028f-4dc6-96e2-a9ac0949b5df",
        "outputId": "6e8a1081-c8f8-4240-e0d6-caf206d2ebef"
      },
      "outputs": [
        {
          "output_type": "execute_result",
          "data": {
            "text/plain": [
              "52"
            ]
          },
          "metadata": {},
          "execution_count": 17
        }
      ],
      "source": [
        "### v2 에서 추가됨\n",
        "\n",
        "# title 중 가장 긴 타이틀 길이\n",
        "max_len_title = np.max(train_df['title'].str.len())\n",
        "max_len_title"
      ]
    },
    {
      "cell_type": "code",
      "execution_count": null,
      "id": "3b449c22-6103-4cb9-9900-a2c3f7a7a109",
      "metadata": {
        "colab": {
          "base_uri": "https://localhost:8080/"
        },
        "id": "3b449c22-6103-4cb9-9900-a2c3f7a7a109",
        "outputId": "d022dd9d-e439-4904-ff98-60d6d61afb2e"
      },
      "outputs": [
        {
          "output_type": "execute_result",
          "data": {
            "text/plain": [
              "136"
            ]
          },
          "metadata": {},
          "execution_count": 18
        }
      ],
      "source": [
        "# comment 중 가장 긴 타이틀 길이\n",
        "max_len_comment=np.max(train_df['comment'].str.len())\n",
        "max_len_comment"
      ]
    },
    {
      "cell_type": "code",
      "execution_count": null,
      "id": "56f674ee-0184-4635-b353-d9975649fb4f",
      "metadata": {
        "colab": {
          "base_uri": "https://localhost:8080/"
        },
        "id": "56f674ee-0184-4635-b353-d9975649fb4f",
        "outputId": "d015b3ae-979f-4999-8c6d-8e99a3424615"
      },
      "outputs": [
        {
          "output_type": "execute_result",
          "data": {
            "text/plain": [
              "136     진짜 연기 못하는 애들만 모아뒀네 월화 드라마가 시청률 똥 마이라 드라마 잠정 폐지...\n",
              "256     남자 지갑 꺼내 어쩌네 말 많은데 쟤 갤러리아퍼레사는데 한국에서 10위권 안에 드는...\n",
              "424     쿵쾅 잎들아 너네가 알아야 할 게 눈코입 윤곽 다해도 겨우 중 마치든가 다해도 했나...\n",
              "657     수아가 불쌍하다 납치돼서 20년을 힘들게 살고 남자 놈은 수아 버리고 민채린한테 가...\n",
              "1609    역시 힙합은 마약과 떨어질 수 없는 자르지 그만큼 한국 오버 힙합은 YG가 책임지고...\n",
              "2066    솔직히 남자들 사이에서 저런 거 올리면 욕하기도 그렇고 좀 가만있게 될 거 같다 로...\n",
              "2702    사장들 긴장해서 인터뷰 장소에서 지적당하는 화면 보며 더 우울해하는데 옆에 조보아 ...\n",
              "3068    솔까 마다 욕하는 인간들 치고 돈 안 떼인 인간 없지 싶다 안 그러고는 불구대천 원...\n",
              "3627    고현정 비 되지가 불러서 그런 행동하는 거지 돈이 아쉬워서 하는 것도 아니니 제 맘...\n",
              "4043    작품 준비하면서 호르몬제나 얼굴형 관리 엄청 받았을 거예요 그렇지 않고서는 안 그랬...\n",
              "4777    근데 왜 이렇게 댓글에 안티가 많나요 진심 몰라서 물어요 이혼하고 재혼할 수도 있는...\n",
              "5407    어디가 폭발적인 화제를 몰고 다녔는데 나만 몰랐나 봄 기자들은 제발 연예인들이 자기...\n",
              "5541    김태호도 감이 떨어진 게 유재석은 패널들에 얹혀가는 자가발전 안되는 식 거품인데 또...\n",
              "5581    악플 쓰는 아가들아 너희들도 똑같은 범죄자다 꼴보기 싫으면 제발 관심 말고 무관심 ...\n",
              "5979    안재현 망할 놈 얼마나 개망나니같이 행동했으면 구혜선이 하나를 품을까 구혜선 인기 ...\n",
              "6070    네놈이 실력이 있냐 외모가 출중하냐 호감형이길 하냐 키라도 크냐 천운으로 이름 좀 ...\n",
              "6469    근데 왜 팩트가 지금 조사 중이고 아직 확정 아니고 확정해봐야 성폭행했으면 셰프가 ...\n",
              "6501    자막 똑바로 쓰지 하나도 안 귀엽고 그런 발음 아닌데 일부러 쓰고 했어라고 하는데 ...\n",
              "6547    이거 손혜원 등 좌파 사건 덮으려고 현 정부가 묵혀 두고 있던 거 이제 터트린 거 ...\n",
              "8133    방송 출연해서 이런 말 막 해도 되나 김학래는 가정 없이 혼자 사는 분인가 그리고 ...\n",
              "Name: comment, dtype: object"
            ]
          },
          "metadata": {},
          "execution_count": 19
        }
      ],
      "source": [
        "# 길이가 128이 넘는 코멘트 확인\n",
        "train_df['comment'][train_df['comment'].str.len()>128]"
      ]
    },
    {
      "cell_type": "code",
      "execution_count": null,
      "id": "f10dee23-db6d-4fce-8b06-054c3457adaf",
      "metadata": {
        "colab": {
          "base_uri": "https://localhost:8080/"
        },
        "id": "f10dee23-db6d-4fce-8b06-054c3457adaf",
        "outputId": "b137b02b-b6eb-4c33-a874-39268cd8d853"
      },
      "outputs": [
        {
          "output_type": "execute_result",
          "data": {
            "text/plain": [
              "8367"
            ]
          },
          "metadata": {},
          "execution_count": 20
        }
      ],
      "source": [
        "len(train_df)"
      ]
    },
    {
      "cell_type": "code",
      "execution_count": null,
      "id": "5ecb32ed-e7f9-4640-89c2-87005a9aed31",
      "metadata": {
        "colab": {
          "base_uri": "https://localhost:8080/"
        },
        "id": "5ecb32ed-e7f9-4640-89c2-87005a9aed31",
        "outputId": "5e39cd06-3cf9-4a9a-9c7d-3d33ba7b6d53"
      },
      "outputs": [
        {
          "output_type": "stream",
          "name": "stdout",
          "text": [
            "bias classes:  ['none' 'others' 'gender']\n",
            "hate classes:  ['none' 'hate']\n"
          ]
        }
      ],
      "source": [
        "print(\"bias classes: \", train_df.bias.unique())\n",
        "print(\"hate classes: \", train_df.hate.unique())"
      ]
    },
    {
      "cell_type": "code",
      "execution_count": null,
      "id": "faecbd1a-82ee-40ed-b81a-2984674b669f",
      "metadata": {
        "colab": {
          "base_uri": "https://localhost:8080/",
          "height": 206
        },
        "id": "faecbd1a-82ee-40ed-b81a-2984674b669f",
        "outputId": "47b3a78c-2528-41b4-f318-e56749e1bd42"
      },
      "outputs": [
        {
          "output_type": "execute_result",
          "data": {
            "text/html": [
              "\n",
              "  <div id=\"df-56a190e3-8871-46b5-9494-8b4b9964e630\">\n",
              "    <div class=\"colab-df-container\">\n",
              "      <div>\n",
              "<style scoped>\n",
              "    .dataframe tbody tr th:only-of-type {\n",
              "        vertical-align: middle;\n",
              "    }\n",
              "\n",
              "    .dataframe tbody tr th {\n",
              "        vertical-align: top;\n",
              "    }\n",
              "\n",
              "    .dataframe thead th {\n",
              "        text-align: right;\n",
              "    }\n",
              "</style>\n",
              "<table border=\"1\" class=\"dataframe\">\n",
              "  <thead>\n",
              "    <tr style=\"text-align: right;\">\n",
              "      <th>hate</th>\n",
              "      <th>hate</th>\n",
              "      <th>none</th>\n",
              "      <th>All</th>\n",
              "    </tr>\n",
              "    <tr>\n",
              "      <th>bias</th>\n",
              "      <th></th>\n",
              "      <th></th>\n",
              "      <th></th>\n",
              "    </tr>\n",
              "  </thead>\n",
              "  <tbody>\n",
              "    <tr>\n",
              "      <th>gender</th>\n",
              "      <td>1216</td>\n",
              "      <td>83</td>\n",
              "      <td>1299</td>\n",
              "    </tr>\n",
              "    <tr>\n",
              "      <th>none</th>\n",
              "      <td>2068</td>\n",
              "      <td>3422</td>\n",
              "      <td>5490</td>\n",
              "    </tr>\n",
              "    <tr>\n",
              "      <th>others</th>\n",
              "      <td>1437</td>\n",
              "      <td>141</td>\n",
              "      <td>1578</td>\n",
              "    </tr>\n",
              "    <tr>\n",
              "      <th>All</th>\n",
              "      <td>4721</td>\n",
              "      <td>3646</td>\n",
              "      <td>8367</td>\n",
              "    </tr>\n",
              "  </tbody>\n",
              "</table>\n",
              "</div>\n",
              "      <button class=\"colab-df-convert\" onclick=\"convertToInteractive('df-56a190e3-8871-46b5-9494-8b4b9964e630')\"\n",
              "              title=\"Convert this dataframe to an interactive table.\"\n",
              "              style=\"display:none;\">\n",
              "        \n",
              "  <svg xmlns=\"http://www.w3.org/2000/svg\" height=\"24px\"viewBox=\"0 0 24 24\"\n",
              "       width=\"24px\">\n",
              "    <path d=\"M0 0h24v24H0V0z\" fill=\"none\"/>\n",
              "    <path d=\"M18.56 5.44l.94 2.06.94-2.06 2.06-.94-2.06-.94-.94-2.06-.94 2.06-2.06.94zm-11 1L8.5 8.5l.94-2.06 2.06-.94-2.06-.94L8.5 2.5l-.94 2.06-2.06.94zm10 10l.94 2.06.94-2.06 2.06-.94-2.06-.94-.94-2.06-.94 2.06-2.06.94z\"/><path d=\"M17.41 7.96l-1.37-1.37c-.4-.4-.92-.59-1.43-.59-.52 0-1.04.2-1.43.59L10.3 9.45l-7.72 7.72c-.78.78-.78 2.05 0 2.83L4 21.41c.39.39.9.59 1.41.59.51 0 1.02-.2 1.41-.59l7.78-7.78 2.81-2.81c.8-.78.8-2.07 0-2.86zM5.41 20L4 18.59l7.72-7.72 1.47 1.35L5.41 20z\"/>\n",
              "  </svg>\n",
              "      </button>\n",
              "      \n",
              "  <style>\n",
              "    .colab-df-container {\n",
              "      display:flex;\n",
              "      flex-wrap:wrap;\n",
              "      gap: 12px;\n",
              "    }\n",
              "\n",
              "    .colab-df-convert {\n",
              "      background-color: #E8F0FE;\n",
              "      border: none;\n",
              "      border-radius: 50%;\n",
              "      cursor: pointer;\n",
              "      display: none;\n",
              "      fill: #1967D2;\n",
              "      height: 32px;\n",
              "      padding: 0 0 0 0;\n",
              "      width: 32px;\n",
              "    }\n",
              "\n",
              "    .colab-df-convert:hover {\n",
              "      background-color: #E2EBFA;\n",
              "      box-shadow: 0px 1px 2px rgba(60, 64, 67, 0.3), 0px 1px 3px 1px rgba(60, 64, 67, 0.15);\n",
              "      fill: #174EA6;\n",
              "    }\n",
              "\n",
              "    [theme=dark] .colab-df-convert {\n",
              "      background-color: #3B4455;\n",
              "      fill: #D2E3FC;\n",
              "    }\n",
              "\n",
              "    [theme=dark] .colab-df-convert:hover {\n",
              "      background-color: #434B5C;\n",
              "      box-shadow: 0px 1px 3px 1px rgba(0, 0, 0, 0.15);\n",
              "      filter: drop-shadow(0px 1px 2px rgba(0, 0, 0, 0.3));\n",
              "      fill: #FFFFFF;\n",
              "    }\n",
              "  </style>\n",
              "\n",
              "      <script>\n",
              "        const buttonEl =\n",
              "          document.querySelector('#df-56a190e3-8871-46b5-9494-8b4b9964e630 button.colab-df-convert');\n",
              "        buttonEl.style.display =\n",
              "          google.colab.kernel.accessAllowed ? 'block' : 'none';\n",
              "\n",
              "        async function convertToInteractive(key) {\n",
              "          const element = document.querySelector('#df-56a190e3-8871-46b5-9494-8b4b9964e630');\n",
              "          const dataTable =\n",
              "            await google.colab.kernel.invokeFunction('convertToInteractive',\n",
              "                                                     [key], {});\n",
              "          if (!dataTable) return;\n",
              "\n",
              "          const docLinkHtml = 'Like what you see? Visit the ' +\n",
              "            '<a target=\"_blank\" href=https://colab.research.google.com/notebooks/data_table.ipynb>data table notebook</a>'\n",
              "            + ' to learn more about interactive tables.';\n",
              "          element.innerHTML = '';\n",
              "          dataTable['output_type'] = 'display_data';\n",
              "          await google.colab.output.renderOutput(dataTable, element);\n",
              "          const docLink = document.createElement('div');\n",
              "          docLink.innerHTML = docLinkHtml;\n",
              "          element.appendChild(docLink);\n",
              "        }\n",
              "      </script>\n",
              "    </div>\n",
              "  </div>\n",
              "  "
            ],
            "text/plain": [
              "hate    hate  none   All\n",
              "bias                    \n",
              "gender  1216    83  1299\n",
              "none    2068  3422  5490\n",
              "others  1437   141  1578\n",
              "All     4721  3646  8367"
            ]
          },
          "metadata": {},
          "execution_count": 22
        }
      ],
      "source": [
        "pd.crosstab(train_df.bias, train_df.hate, margins=True)"
      ]
    },
    {
      "cell_type": "markdown",
      "id": "40d3802b-a501-4adc-9f9a-6968df7684d3",
      "metadata": {
        "id": "40d3802b-a501-4adc-9f9a-6968df7684d3"
      },
      "source": [
        "### 2-2. Test 데이터 확인"
      ]
    },
    {
      "cell_type": "code",
      "execution_count": 13,
      "id": "86211318-bfaa-47c7-9653-63a13905dc51",
      "metadata": {
        "colab": {
          "base_uri": "https://localhost:8080/"
        },
        "id": "86211318-bfaa-47c7-9653-63a13905dc51",
        "outputId": "a85532b7-8ebe-4cfe-ab89-336a4817aeb5"
      },
      "outputs": [
        {
          "output_type": "stream",
          "name": "stdout",
          "text": [
            "test 데이터 경로가 올바른가요? :  True\n"
          ]
        }
      ],
      "source": [
        "test_path = os.path.join(args.data_dir,'test.csv')\n",
        "print(\"test 데이터 경로가 올바른가요? : \", os.path.lexists(test_path))"
      ]
    },
    {
      "cell_type": "code",
      "execution_count": 14,
      "id": "a713f829-09c9-468a-8266-4bd555e29906",
      "metadata": {
        "colab": {
          "base_uri": "https://localhost:8080/",
          "height": 206
        },
        "id": "a713f829-09c9-468a-8266-4bd555e29906",
        "outputId": "60f197f1-e30f-4e56-97f2-321e99db7662"
      },
      "outputs": [
        {
          "output_type": "execute_result",
          "data": {
            "text/html": [
              "\n",
              "  <div id=\"df-d70ebd5d-560d-41c2-9f73-41802c6a21f3\">\n",
              "    <div class=\"colab-df-container\">\n",
              "      <div>\n",
              "<style scoped>\n",
              "    .dataframe tbody tr th:only-of-type {\n",
              "        vertical-align: middle;\n",
              "    }\n",
              "\n",
              "    .dataframe tbody tr th {\n",
              "        vertical-align: top;\n",
              "    }\n",
              "\n",
              "    .dataframe thead th {\n",
              "        text-align: right;\n",
              "    }\n",
              "</style>\n",
              "<table border=\"1\" class=\"dataframe\">\n",
              "  <thead>\n",
              "    <tr style=\"text-align: right;\">\n",
              "      <th></th>\n",
              "      <th>ID</th>\n",
              "      <th>title</th>\n",
              "      <th>comment</th>\n",
              "    </tr>\n",
              "  </thead>\n",
              "  <tbody>\n",
              "    <tr>\n",
              "      <th>0</th>\n",
              "      <td>0</td>\n",
              "      <td>류현경♥︎박성훈, 공개연애 4년차 애정전선 이상無..\"의지 많이 된다\"[종합]</td>\n",
              "      <td>둘다 넘 좋다~행복하세요</td>\n",
              "    </tr>\n",
              "    <tr>\n",
              "      <th>1</th>\n",
              "      <td>1</td>\n",
              "      <td>\"현금 유도+1인 1라면?\"…'골목식당' 백종원, 초심 잃은 도시락집에 '경악' [종합]</td>\n",
              "      <td>근데 만원이하는 현금결제만 하라고 써놓은집 우리나라에 엄청 많은데</td>\n",
              "    </tr>\n",
              "    <tr>\n",
              "      <th>2</th>\n",
              "      <td>2</td>\n",
              "      <td>입대 D-11' 서은광의 슬픈 멜로디..비투비, 눈물의 첫 체조경기장[콘서트 종합]</td>\n",
              "      <td>누군데 얘네?</td>\n",
              "    </tr>\n",
              "    <tr>\n",
              "      <th>3</th>\n",
              "      <td>3</td>\n",
              "      <td>아이콘택트' 리쌍 길, 3년 전 결혼설 부인한 이유 공개…\"결혼,출산 숨겼다\"</td>\n",
              "      <td>쑈 하지마라 짜식아!음주 1번은 실수, 2번은 고의, 3번은 인간쓰레기다.슬금슬금 ...</td>\n",
              "    </tr>\n",
              "    <tr>\n",
              "      <th>4</th>\n",
              "      <td>4</td>\n",
              "      <td>구하라, 안검하수 반박 해프닝...\"당당하다\"vs\"그렇게까지\" 설전 [종합]</td>\n",
              "      <td>안검하수 가지고 있는 분께 희망을 주고 싶은건가요? 수술하면 이렇게 자연스러워진다고...</td>\n",
              "    </tr>\n",
              "  </tbody>\n",
              "</table>\n",
              "</div>\n",
              "      <button class=\"colab-df-convert\" onclick=\"convertToInteractive('df-d70ebd5d-560d-41c2-9f73-41802c6a21f3')\"\n",
              "              title=\"Convert this dataframe to an interactive table.\"\n",
              "              style=\"display:none;\">\n",
              "        \n",
              "  <svg xmlns=\"http://www.w3.org/2000/svg\" height=\"24px\"viewBox=\"0 0 24 24\"\n",
              "       width=\"24px\">\n",
              "    <path d=\"M0 0h24v24H0V0z\" fill=\"none\"/>\n",
              "    <path d=\"M18.56 5.44l.94 2.06.94-2.06 2.06-.94-2.06-.94-.94-2.06-.94 2.06-2.06.94zm-11 1L8.5 8.5l.94-2.06 2.06-.94-2.06-.94L8.5 2.5l-.94 2.06-2.06.94zm10 10l.94 2.06.94-2.06 2.06-.94-2.06-.94-.94-2.06-.94 2.06-2.06.94z\"/><path d=\"M17.41 7.96l-1.37-1.37c-.4-.4-.92-.59-1.43-.59-.52 0-1.04.2-1.43.59L10.3 9.45l-7.72 7.72c-.78.78-.78 2.05 0 2.83L4 21.41c.39.39.9.59 1.41.59.51 0 1.02-.2 1.41-.59l7.78-7.78 2.81-2.81c.8-.78.8-2.07 0-2.86zM5.41 20L4 18.59l7.72-7.72 1.47 1.35L5.41 20z\"/>\n",
              "  </svg>\n",
              "      </button>\n",
              "      \n",
              "  <style>\n",
              "    .colab-df-container {\n",
              "      display:flex;\n",
              "      flex-wrap:wrap;\n",
              "      gap: 12px;\n",
              "    }\n",
              "\n",
              "    .colab-df-convert {\n",
              "      background-color: #E8F0FE;\n",
              "      border: none;\n",
              "      border-radius: 50%;\n",
              "      cursor: pointer;\n",
              "      display: none;\n",
              "      fill: #1967D2;\n",
              "      height: 32px;\n",
              "      padding: 0 0 0 0;\n",
              "      width: 32px;\n",
              "    }\n",
              "\n",
              "    .colab-df-convert:hover {\n",
              "      background-color: #E2EBFA;\n",
              "      box-shadow: 0px 1px 2px rgba(60, 64, 67, 0.3), 0px 1px 3px 1px rgba(60, 64, 67, 0.15);\n",
              "      fill: #174EA6;\n",
              "    }\n",
              "\n",
              "    [theme=dark] .colab-df-convert {\n",
              "      background-color: #3B4455;\n",
              "      fill: #D2E3FC;\n",
              "    }\n",
              "\n",
              "    [theme=dark] .colab-df-convert:hover {\n",
              "      background-color: #434B5C;\n",
              "      box-shadow: 0px 1px 3px 1px rgba(0, 0, 0, 0.15);\n",
              "      filter: drop-shadow(0px 1px 2px rgba(0, 0, 0, 0.3));\n",
              "      fill: #FFFFFF;\n",
              "    }\n",
              "  </style>\n",
              "\n",
              "      <script>\n",
              "        const buttonEl =\n",
              "          document.querySelector('#df-d70ebd5d-560d-41c2-9f73-41802c6a21f3 button.colab-df-convert');\n",
              "        buttonEl.style.display =\n",
              "          google.colab.kernel.accessAllowed ? 'block' : 'none';\n",
              "\n",
              "        async function convertToInteractive(key) {\n",
              "          const element = document.querySelector('#df-d70ebd5d-560d-41c2-9f73-41802c6a21f3');\n",
              "          const dataTable =\n",
              "            await google.colab.kernel.invokeFunction('convertToInteractive',\n",
              "                                                     [key], {});\n",
              "          if (!dataTable) return;\n",
              "\n",
              "          const docLinkHtml = 'Like what you see? Visit the ' +\n",
              "            '<a target=\"_blank\" href=https://colab.research.google.com/notebooks/data_table.ipynb>data table notebook</a>'\n",
              "            + ' to learn more about interactive tables.';\n",
              "          element.innerHTML = '';\n",
              "          dataTable['output_type'] = 'display_data';\n",
              "          await google.colab.output.renderOutput(dataTable, element);\n",
              "          const docLink = document.createElement('div');\n",
              "          docLink.innerHTML = docLinkHtml;\n",
              "          element.appendChild(docLink);\n",
              "        }\n",
              "      </script>\n",
              "    </div>\n",
              "  </div>\n",
              "  "
            ],
            "text/plain": [
              "   ID                                              title  \\\n",
              "0   0        류현경♥︎박성훈, 공개연애 4년차 애정전선 이상無..\"의지 많이 된다\"[종합]   \n",
              "1   1  \"현금 유도+1인 1라면?\"…'골목식당' 백종원, 초심 잃은 도시락집에 '경악' [종합]   \n",
              "2   2     입대 D-11' 서은광의 슬픈 멜로디..비투비, 눈물의 첫 체조경기장[콘서트 종합]   \n",
              "3   3        아이콘택트' 리쌍 길, 3년 전 결혼설 부인한 이유 공개…\"결혼,출산 숨겼다\"   \n",
              "4   4         구하라, 안검하수 반박 해프닝...\"당당하다\"vs\"그렇게까지\" 설전 [종합]   \n",
              "\n",
              "                                             comment  \n",
              "0                                      둘다 넘 좋다~행복하세요  \n",
              "1               근데 만원이하는 현금결제만 하라고 써놓은집 우리나라에 엄청 많은데  \n",
              "2                                            누군데 얘네?  \n",
              "3  쑈 하지마라 짜식아!음주 1번은 실수, 2번은 고의, 3번은 인간쓰레기다.슬금슬금 ...  \n",
              "4  안검하수 가지고 있는 분께 희망을 주고 싶은건가요? 수술하면 이렇게 자연스러워진다고...  "
            ]
          },
          "metadata": {},
          "execution_count": 14
        }
      ],
      "source": [
        "test_df = pd.read_csv(test_path)\n",
        "test_df.head()"
      ]
    },
    {
      "cell_type": "code",
      "execution_count": null,
      "id": "6ad5fbb7-acb5-47cb-b0f3-b220bf78ab67",
      "metadata": {
        "colab": {
          "base_uri": "https://localhost:8080/"
        },
        "id": "6ad5fbb7-acb5-47cb-b0f3-b220bf78ab67",
        "outputId": "3e524d3d-274e-4163-b1d2-9dba73c6bf28"
      },
      "outputs": [
        {
          "output_type": "execute_result",
          "data": {
            "text/plain": [
              "511"
            ]
          },
          "metadata": {},
          "execution_count": 25
        }
      ],
      "source": [
        "len(test_df)"
      ]
    },
    {
      "cell_type": "code",
      "source": [
        "correct_title_test = []\n",
        "correct_comment_test = []\n",
        "\n",
        "for i in range(len(test_df)):\n",
        "  raw_title = test_df['title'][i]\n",
        "  raw_comment = test_df['comment'][i]\n",
        "\n",
        "  # 특수문자 제거\n",
        "  clean_title = clean_text(raw_title)\n",
        "  clean_comment = clean_text(raw_comment)\n",
        "\n",
        "  # 맞춤법 교정\n",
        "  correct_title_test.append(correct_text(clean_title))\n",
        "  correct_comment_test.append(correct_text(clean_comment))"
      ],
      "metadata": {
        "id": "fnV61e5Bdhy2"
      },
      "id": "fnV61e5Bdhy2",
      "execution_count": null,
      "outputs": []
    },
    {
      "cell_type": "code",
      "source": [
        "for i in range(len(test_df)):\n",
        "  test_df['title'][i] = correct_title_test[i]\n",
        "  test_df['comment'][i] = correct_comment_test[i]"
      ],
      "metadata": {
        "colab": {
          "base_uri": "https://localhost:8080/"
        },
        "id": "tjSryNjLeGcR",
        "outputId": "6e54036d-fc3f-4d32-f7b7-ba61088b7cc2"
      },
      "id": "tjSryNjLeGcR",
      "execution_count": null,
      "outputs": [
        {
          "output_type": "stream",
          "name": "stderr",
          "text": [
            "/usr/local/lib/python3.7/dist-packages/ipykernel_launcher.py:2: SettingWithCopyWarning: \n",
            "A value is trying to be set on a copy of a slice from a DataFrame\n",
            "\n",
            "See the caveats in the documentation: https://pandas.pydata.org/pandas-docs/stable/user_guide/indexing.html#returning-a-view-versus-a-copy\n",
            "  \n",
            "/usr/local/lib/python3.7/dist-packages/ipykernel_launcher.py:3: SettingWithCopyWarning: \n",
            "A value is trying to be set on a copy of a slice from a DataFrame\n",
            "\n",
            "See the caveats in the documentation: https://pandas.pydata.org/pandas-docs/stable/user_guide/indexing.html#returning-a-view-versus-a-copy\n",
            "  This is separate from the ipykernel package so we can avoid doing imports until\n"
          ]
        }
      ]
    },
    {
      "cell_type": "markdown",
      "id": "44bb5aa8-6284-4066-a69d-a1539c5287a5",
      "metadata": {
        "id": "44bb5aa8-6284-4066-a69d-a1539c5287a5"
      },
      "source": [
        "### 2-3. 데이터 전처리 (Label Encoding)\n",
        "bias, hate 라벨들의 class를 정수로 변경하여 라벨 인코딩을 하기 위한 딕셔너리입니다."
      ]
    },
    {
      "cell_type": "markdown",
      "id": "11018420-84da-40ac-b892-4e47f20dd83f",
      "metadata": {
        "id": "11018420-84da-40ac-b892-4e47f20dd83f"
      },
      "source": [
        "- bias, hate 컬럼을 합쳐서 하나의 라벨로 만들기 "
      ]
    },
    {
      "cell_type": "code",
      "execution_count": 15,
      "id": "38c61bc4-da4a-4fc3-9cff-62079051ed82",
      "metadata": {
        "colab": {
          "base_uri": "https://localhost:8080/"
        },
        "id": "38c61bc4-da4a-4fc3-9cff-62079051ed82",
        "outputId": "b064e480-d763-49ae-f765-3078f5d6aed8"
      },
      "outputs": [
        {
          "output_type": "stream",
          "name": "stdout",
          "text": [
            "[['none' 'none']\n",
            " ['none' 'hate']\n",
            " ['others' 'none']\n",
            " ['others' 'hate']\n",
            " ['gender' 'none']\n",
            " ['gender' 'hate']]\n"
          ]
        }
      ],
      "source": [
        "# 두 라벨의 가능한 모든 조합 만들기\n",
        "combinations = np.array(np.meshgrid(train_df.bias.unique(), train_df.hate.unique())).T.reshape(-1,2)\n",
        "\n",
        "if DEBUG==True:\n",
        "    print(combinations)"
      ]
    },
    {
      "cell_type": "code",
      "execution_count": 16,
      "id": "3c1f00cb-8009-460f-8903-ca876d647ff5",
      "metadata": {
        "colab": {
          "base_uri": "https://localhost:8080/"
        },
        "id": "3c1f00cb-8009-460f-8903-ca876d647ff5",
        "outputId": "5c2ac4e7-297d-4b81-efe6-a4e80848e757"
      },
      "outputs": [
        {
          "output_type": "stream",
          "name": "stdout",
          "text": [
            "[array(['none', 'none'], dtype=object), array(['none', 'hate'], dtype=object), array(['others', 'hate'], dtype=object), array(['none', 'none'], dtype=object), array(['none', 'none'], dtype=object)]\n"
          ]
        }
      ],
      "source": [
        "# bias, hate 컬럼을 합친 것\n",
        "bias_hate = list(np.array([train_df['bias'].values, train_df['hate'].values]).T.reshape(-1,2))\n",
        "\n",
        "if DEBUG==True:\n",
        "    print(bias_hate[:5])\n"
      ]
    },
    {
      "cell_type": "code",
      "execution_count": 17,
      "id": "26376de0-2a54-44c2-a8af-f20025b9798b",
      "metadata": {
        "colab": {
          "base_uri": "https://localhost:8080/",
          "height": 206
        },
        "id": "26376de0-2a54-44c2-a8af-f20025b9798b",
        "outputId": "e2715d1b-5bfe-4de1-8021-455390fe349f"
      },
      "outputs": [
        {
          "output_type": "execute_result",
          "data": {
            "text/html": [
              "\n",
              "  <div id=\"df-3ef4510b-15aa-4e6e-95a2-1bcd8d9448c4\">\n",
              "    <div class=\"colab-df-container\">\n",
              "      <div>\n",
              "<style scoped>\n",
              "    .dataframe tbody tr th:only-of-type {\n",
              "        vertical-align: middle;\n",
              "    }\n",
              "\n",
              "    .dataframe tbody tr th {\n",
              "        vertical-align: top;\n",
              "    }\n",
              "\n",
              "    .dataframe thead th {\n",
              "        text-align: right;\n",
              "    }\n",
              "</style>\n",
              "<table border=\"1\" class=\"dataframe\">\n",
              "  <thead>\n",
              "    <tr style=\"text-align: right;\">\n",
              "      <th></th>\n",
              "      <th>title</th>\n",
              "      <th>comment</th>\n",
              "      <th>bias</th>\n",
              "      <th>hate</th>\n",
              "      <th>label</th>\n",
              "    </tr>\n",
              "  </thead>\n",
              "  <tbody>\n",
              "    <tr>\n",
              "      <th>0</th>\n",
              "      <td>\"'미스터 션샤인' 변요한, 김태리와 같은 양복 입고 학당 방문! 이유는?\"</td>\n",
              "      <td>김태리 정말 연기잘해 진짜</td>\n",
              "      <td>none</td>\n",
              "      <td>none</td>\n",
              "      <td>0</td>\n",
              "    </tr>\n",
              "    <tr>\n",
              "      <th>1</th>\n",
              "      <td>\"[SC현장]\"\"극사실주의 현실♥\"\"…'가장 보통의 연애' 김래원X공효진, 16년만...</td>\n",
              "      <td>공효진 발연기나이질생각이읍던데 왜계속주연일까</td>\n",
              "      <td>none</td>\n",
              "      <td>hate</td>\n",
              "      <td>1</td>\n",
              "    </tr>\n",
              "    <tr>\n",
              "      <th>2</th>\n",
              "      <td>\"손연재, 리듬체조 학원 선생님 \"\"하고 싶은 일 해서 행복하다\"\"\"</td>\n",
              "      <td>누구처럼 돈만 밝히는 저급인생은 살아가지마시길~~ 행복은 머니순이 아니니깐 작은거에...</td>\n",
              "      <td>others</td>\n",
              "      <td>hate</td>\n",
              "      <td>3</td>\n",
              "    </tr>\n",
              "    <tr>\n",
              "      <th>3</th>\n",
              "      <td>\"'섹션TV' 김해숙 \"\"'허스토리' 촬영 후 우울증 얻었다\"\"\"</td>\n",
              "      <td>일본 축구 져라</td>\n",
              "      <td>none</td>\n",
              "      <td>none</td>\n",
              "      <td>0</td>\n",
              "    </tr>\n",
              "    <tr>\n",
              "      <th>4</th>\n",
              "      <td>\"[단독] 임현주 아나운서 “‘노브라 챌린지’ 방송 덕에 낸 용기, 자연스런 논의의...</td>\n",
              "      <td>난 절대로 임현주 욕하는인간이랑은 안논다 @.@</td>\n",
              "      <td>none</td>\n",
              "      <td>none</td>\n",
              "      <td>0</td>\n",
              "    </tr>\n",
              "  </tbody>\n",
              "</table>\n",
              "</div>\n",
              "      <button class=\"colab-df-convert\" onclick=\"convertToInteractive('df-3ef4510b-15aa-4e6e-95a2-1bcd8d9448c4')\"\n",
              "              title=\"Convert this dataframe to an interactive table.\"\n",
              "              style=\"display:none;\">\n",
              "        \n",
              "  <svg xmlns=\"http://www.w3.org/2000/svg\" height=\"24px\"viewBox=\"0 0 24 24\"\n",
              "       width=\"24px\">\n",
              "    <path d=\"M0 0h24v24H0V0z\" fill=\"none\"/>\n",
              "    <path d=\"M18.56 5.44l.94 2.06.94-2.06 2.06-.94-2.06-.94-.94-2.06-.94 2.06-2.06.94zm-11 1L8.5 8.5l.94-2.06 2.06-.94-2.06-.94L8.5 2.5l-.94 2.06-2.06.94zm10 10l.94 2.06.94-2.06 2.06-.94-2.06-.94-.94-2.06-.94 2.06-2.06.94z\"/><path d=\"M17.41 7.96l-1.37-1.37c-.4-.4-.92-.59-1.43-.59-.52 0-1.04.2-1.43.59L10.3 9.45l-7.72 7.72c-.78.78-.78 2.05 0 2.83L4 21.41c.39.39.9.59 1.41.59.51 0 1.02-.2 1.41-.59l7.78-7.78 2.81-2.81c.8-.78.8-2.07 0-2.86zM5.41 20L4 18.59l7.72-7.72 1.47 1.35L5.41 20z\"/>\n",
              "  </svg>\n",
              "      </button>\n",
              "      \n",
              "  <style>\n",
              "    .colab-df-container {\n",
              "      display:flex;\n",
              "      flex-wrap:wrap;\n",
              "      gap: 12px;\n",
              "    }\n",
              "\n",
              "    .colab-df-convert {\n",
              "      background-color: #E8F0FE;\n",
              "      border: none;\n",
              "      border-radius: 50%;\n",
              "      cursor: pointer;\n",
              "      display: none;\n",
              "      fill: #1967D2;\n",
              "      height: 32px;\n",
              "      padding: 0 0 0 0;\n",
              "      width: 32px;\n",
              "    }\n",
              "\n",
              "    .colab-df-convert:hover {\n",
              "      background-color: #E2EBFA;\n",
              "      box-shadow: 0px 1px 2px rgba(60, 64, 67, 0.3), 0px 1px 3px 1px rgba(60, 64, 67, 0.15);\n",
              "      fill: #174EA6;\n",
              "    }\n",
              "\n",
              "    [theme=dark] .colab-df-convert {\n",
              "      background-color: #3B4455;\n",
              "      fill: #D2E3FC;\n",
              "    }\n",
              "\n",
              "    [theme=dark] .colab-df-convert:hover {\n",
              "      background-color: #434B5C;\n",
              "      box-shadow: 0px 1px 3px 1px rgba(0, 0, 0, 0.15);\n",
              "      filter: drop-shadow(0px 1px 2px rgba(0, 0, 0, 0.3));\n",
              "      fill: #FFFFFF;\n",
              "    }\n",
              "  </style>\n",
              "\n",
              "      <script>\n",
              "        const buttonEl =\n",
              "          document.querySelector('#df-3ef4510b-15aa-4e6e-95a2-1bcd8d9448c4 button.colab-df-convert');\n",
              "        buttonEl.style.display =\n",
              "          google.colab.kernel.accessAllowed ? 'block' : 'none';\n",
              "\n",
              "        async function convertToInteractive(key) {\n",
              "          const element = document.querySelector('#df-3ef4510b-15aa-4e6e-95a2-1bcd8d9448c4');\n",
              "          const dataTable =\n",
              "            await google.colab.kernel.invokeFunction('convertToInteractive',\n",
              "                                                     [key], {});\n",
              "          if (!dataTable) return;\n",
              "\n",
              "          const docLinkHtml = 'Like what you see? Visit the ' +\n",
              "            '<a target=\"_blank\" href=https://colab.research.google.com/notebooks/data_table.ipynb>data table notebook</a>'\n",
              "            + ' to learn more about interactive tables.';\n",
              "          element.innerHTML = '';\n",
              "          dataTable['output_type'] = 'display_data';\n",
              "          await google.colab.output.renderOutput(dataTable, element);\n",
              "          const docLink = document.createElement('div');\n",
              "          docLink.innerHTML = docLinkHtml;\n",
              "          element.appendChild(docLink);\n",
              "        }\n",
              "      </script>\n",
              "    </div>\n",
              "  </div>\n",
              "  "
            ],
            "text/plain": [
              "                                               title  \\\n",
              "0         \"'미스터 션샤인' 변요한, 김태리와 같은 양복 입고 학당 방문! 이유는?\"   \n",
              "1  \"[SC현장]\"\"극사실주의 현실♥\"\"…'가장 보통의 연애' 김래원X공효진, 16년만...   \n",
              "2             \"손연재, 리듬체조 학원 선생님 \"\"하고 싶은 일 해서 행복하다\"\"\"   \n",
              "3               \"'섹션TV' 김해숙 \"\"'허스토리' 촬영 후 우울증 얻었다\"\"\"   \n",
              "4  \"[단독] 임현주 아나운서 “‘노브라 챌린지’ 방송 덕에 낸 용기, 자연스런 논의의...   \n",
              "\n",
              "                                             comment    bias  hate  label  \n",
              "0                                     김태리 정말 연기잘해 진짜    none  none      0  \n",
              "1                           공효진 발연기나이질생각이읍던데 왜계속주연일까    none  hate      1  \n",
              "2  누구처럼 돈만 밝히는 저급인생은 살아가지마시길~~ 행복은 머니순이 아니니깐 작은거에...  others  hate      3  \n",
              "3                                           일본 축구 져라    none  none      0  \n",
              "4                         난 절대로 임현주 욕하는인간이랑은 안논다 @.@    none  none      0  "
            ]
          },
          "metadata": {},
          "execution_count": 17
        }
      ],
      "source": [
        "labels = []\n",
        "for i, arr in enumerate(bias_hate):\n",
        "    for idx, elem in enumerate(combinations):\n",
        "        if np.array_equal(elem, arr):\n",
        "            labels.append(idx)\n",
        "\n",
        "train_df['label'] = labels\n",
        "train_df.head()"
      ]
    },
    {
      "cell_type": "markdown",
      "id": "add80824-55c5-4ca3-9858-5aeee3ede98d",
      "metadata": {
        "id": "add80824-55c5-4ca3-9858-5aeee3ede98d"
      },
      "source": [
        "## 3. Dataset 로드"
      ]
    },
    {
      "cell_type": "markdown",
      "id": "e9956c57-af6a-4330-a531-a338be9da9c4",
      "metadata": {
        "tags": [],
        "id": "e9956c57-af6a-4330-a531-a338be9da9c4"
      },
      "source": [
        "### 3-0. Pre-trained tokenizer 탐색"
      ]
    },
    {
      "cell_type": "code",
      "execution_count": 21,
      "id": "bd6f75f4-cdf7-4998-8b78-3aa716b7045b",
      "metadata": {
        "id": "bd6f75f4-cdf7-4998-8b78-3aa716b7045b"
      },
      "outputs": [],
      "source": [
        "# config.json 에서 지정 이름별로 가져올 라이브러리 지정\n",
        "\n",
        "TOKENIZER_CLASSES = {\n",
        "    \"BertTokenizer\": BertTokenizer,\n",
        "    \"AutoTokenizer\": AutoTokenizer,\n",
        "    \"ElectraTokenizer\": ElectraTokenizer,\n",
        "    \"AlbertTokenizer\": AlbertTokenizer\n",
        "}"
      ]
    },
    {
      "cell_type": "markdown",
      "id": "9a285fec-0b39-4dce-8dc0-6faa6b027c34",
      "metadata": {
        "tags": [],
        "id": "9a285fec-0b39-4dce-8dc0-6faa6b027c34"
      },
      "source": [
        "- Tokenizer 사용 예시"
      ]
    },
    {
      "cell_type": "code",
      "execution_count": 22,
      "id": "7d0f1e57-caf8-4d67-a2a9-61284a793f77",
      "metadata": {
        "colab": {
          "base_uri": "https://localhost:8080/",
          "height": 234,
          "referenced_widgets": [
            "1d1016fee95c4d1a8c525b195163f870",
            "770e2d4702314b979977a4d4c9479d92",
            "f5b85caa9f2042dfa9f3b1503fafa11f",
            "9bdcd3033bf6403b843232e2ed0ff749",
            "549962fd5ed1448182478a7b9b75bc9c",
            "ecb9053b74de42869ee30c82eb48d2b3",
            "440558cdac72445aaf9fc25a20871f1e",
            "9dbb929561bf4292b96ac5494011bf8f",
            "86683982a7ba45b1b51410c62435e1d0",
            "8a3f402fd8e243b4ba54ee0159f27067",
            "925cc2c7c4e94cb783e07ab19a1b83fa",
            "8a6b16f83c4849df90165c5367652f59",
            "f9ac1f472f394527abc4b8a803cb26d3",
            "b44fcc1a1dd84a7099fbfe6c14e60002",
            "0839a63f0087477caef1d1c554b317e7",
            "e803d261ddc94cea9511b9a966241c3c",
            "fa12f13ae67d48fa99a094f8b7b92d45",
            "b754de28e977440cb8296ed672499a62",
            "965dec1042054ba5984a6fe940215625",
            "505cec3a019e4739bce8d9ba3a1388b5",
            "f3b98611f5a04e078691ec459a94ccb7",
            "acf3f22d14704dee917a7b99eea425cd",
            "0c36ec4af76a4c3f9f225e069f43d526",
            "0c7d88b76b0246929512607c87ef5e2e",
            "b363e32218df4ac5abcea6afafa347f7",
            "20a02015ff3e4efcb22069666f9c9d4e",
            "8a302a4afb8b4135862fa021b78cdc65",
            "bed128299496438d97f5948aeccbf447",
            "afde3f561bb94b38a795d0aaf569daf2",
            "d8e4d42dda4c4b5ba8360cf72102ae5d",
            "6960bd0833ef47e183599a168ce21385",
            "67db1b0e1a054c0d90e7aad2268ac5ce",
            "cdc336c00894447aae97012da17a0ec6",
            "08990f4df4184590b3be9ffdad1ebe57",
            "3a57b0e362d343e2819558adbe6a7896",
            "e5168f686c5d472c82575e938b8cd085",
            "3ec6a45763f14ff0bd83968335b28c04",
            "7ae5c21f6e034d96ab573163f8d99790",
            "7511d61071e04a779532813408a9a0b6",
            "66e80fa1c83643699cfd2ca168011506",
            "0db93e13ae054aba8dcebd3af0d2b9ea",
            "bc2f5bd8cdf24f98afbd9caf9d415230",
            "843e0ff99637440aae456947e70e3db2",
            "fd576b4358514c2b9f441efbe76115c7"
          ]
        },
        "id": "7d0f1e57-caf8-4d67-a2a9-61284a793f77",
        "outputId": "13294467-379c-4637-ded8-b2e3daecbdf0"
      },
      "outputs": [
        {
          "output_type": "display_data",
          "data": {
            "application/vnd.jupyter.widget-view+json": {
              "model_id": "1d1016fee95c4d1a8c525b195163f870",
              "version_minor": 0,
              "version_major": 2
            },
            "text/plain": [
              "Downloading:   0%|          | 0.00/387k [00:00<?, ?B/s]"
            ]
          },
          "metadata": {}
        },
        {
          "output_type": "display_data",
          "data": {
            "application/vnd.jupyter.widget-view+json": {
              "model_id": "8a6b16f83c4849df90165c5367652f59",
              "version_minor": 0,
              "version_major": 2
            },
            "text/plain": [
              "Downloading:   0%|          | 0.00/124 [00:00<?, ?B/s]"
            ]
          },
          "metadata": {}
        },
        {
          "output_type": "display_data",
          "data": {
            "application/vnd.jupyter.widget-view+json": {
              "model_id": "0c36ec4af76a4c3f9f225e069f43d526",
              "version_minor": 0,
              "version_major": 2
            },
            "text/plain": [
              "Downloading:   0%|          | 0.00/288 [00:00<?, ?B/s]"
            ]
          },
          "metadata": {}
        },
        {
          "output_type": "display_data",
          "data": {
            "application/vnd.jupyter.widget-view+json": {
              "model_id": "08990f4df4184590b3be9ffdad1ebe57",
              "version_minor": 0,
              "version_major": 2
            },
            "text/plain": [
              "Downloading:   0%|          | 0.00/504 [00:00<?, ?B/s]"
            ]
          },
          "metadata": {}
        },
        {
          "output_type": "stream",
          "name": "stderr",
          "text": [
            "The tokenizer class you load from this checkpoint is not the same type as the class this function is called from. It may result in unexpected tokenization. \n",
            "The tokenizer class you load from this checkpoint is 'BertTokenizer'. \n",
            "The class this function is called from is 'ElectraTokenizer'.\n"
          ]
        },
        {
          "output_type": "stream",
          "name": "stdout",
          "text": [
            "PreTrainedTokenizer(name_or_path='beomi/KcELECTRA-base', vocab_size=50135, model_max_len=512, is_fast=False, padding_side='right', truncation_side='right', special_tokens={'unk_token': '[UNK]', 'sep_token': '[SEP]', 'pad_token': '[PAD]', 'cls_token': '[CLS]', 'mask_token': '[MASK]'})\n"
          ]
        }
      ],
      "source": [
        "TOKENIZER = TOKENIZER_CLASSES[args.tokenizer_class].from_pretrained(args.pretrained_model)\n",
        "if DEBUG==True:\n",
        "    print(TOKENIZER)"
      ]
    },
    {
      "cell_type": "code",
      "execution_count": 23,
      "id": "1e8cdb8e-41a8-4d51-8aa0-f305782416ef",
      "metadata": {
        "colab": {
          "base_uri": "https://localhost:8080/"
        },
        "id": "1e8cdb8e-41a8-4d51-8aa0-f305782416ef",
        "outputId": "39ec5233-67bf-4ccc-a10e-333c57704bf6"
      },
      "outputs": [
        {
          "output_type": "stream",
          "name": "stdout",
          "text": [
            "{'input_ids': [2, 6, 11, 24787, 2089, 5146, 4028, 11, 1709, 4071, 4069, 16, 20778, 4177, 4331, 8069, 35054, 12634, 47185, 13182, 5, 10491, 33, 6, 3, 20778, 4177, 8057, 11061, 4479, 4025, 7997, 3], 'token_type_ids': [0, 0, 0, 0, 0, 0, 0, 0, 0, 0, 0, 0, 0, 0, 0, 0, 0, 0, 0, 0, 0, 0, 0, 0, 0, 1, 1, 1, 1, 1, 1, 1, 1], 'attention_mask': [1, 1, 1, 1, 1, 1, 1, 1, 1, 1, 1, 1, 1, 1, 1, 1, 1, 1, 1, 1, 1, 1, 1, 1, 1, 1, 1, 1, 1, 1, 1, 1, 1]}\n"
          ]
        }
      ],
      "source": [
        "if DEBUG == True:\n",
        "    example = train_df['title'][0]\n",
        "    comment_ex = train_df['comment'][0]\n",
        "    print(TOKENIZER(example, comment_ex))"
      ]
    },
    {
      "cell_type": "code",
      "execution_count": null,
      "id": "f174365c-90da-4c32-b6b4-5d66525a0687",
      "metadata": {
        "tags": [],
        "colab": {
          "base_uri": "https://localhost:8080/"
        },
        "id": "f174365c-90da-4c32-b6b4-5d66525a0687",
        "outputId": "90130577-f5d2-41c6-e47f-e9829a5b63a3"
      },
      "outputs": [
        {
          "output_type": "stream",
          "name": "stdout",
          "text": [
            "[2, 26176, 1846, 5250, 4118, 1557, 4040, 4047, 26217, 4038, 4196, 8066, 2219, 4232, 12841, 3353, 4081, 12669, 10461, 3] \n",
            "\n",
            "['미스터', '선', '##샤', '##인', '변', '##요', '##한', '김태', '##리', '##와', '같은', '양', '##복', '입고', '학', '##당', '방문', '이유는'] \n",
            "\n",
            "[26176, 1846, 5250, 4118, 1557, 4040, 4047, 26217, 4038, 4196, 8066, 2219, 4232, 12841, 3353, 4081, 12669, 10461]\n"
          ]
        }
      ],
      "source": [
        "if DEBUG==True:\n",
        "    print(TOKENIZER.encode(example),\"\\n\")\n",
        "    \n",
        "    # 토큰으로 나누기\n",
        "    print(TOKENIZER.tokenize(example),\"\\n\")\n",
        "    \n",
        "    # 토큰 id로 매핑하기\n",
        "    print(TOKENIZER.convert_tokens_to_ids(TOKENIZER.tokenize(example)))"
      ]
    },
    {
      "cell_type": "markdown",
      "id": "cbf1708e-aedb-402f-a9c3-20ebdbe537eb",
      "metadata": {
        "id": "cbf1708e-aedb-402f-a9c3-20ebdbe537eb"
      },
      "source": [
        "### 3-1. Dataset 만드는 함수 정의"
      ]
    },
    {
      "cell_type": "code",
      "execution_count": null,
      "id": "85e6f065-671c-435c-8e73-8cad3c1496a3",
      "metadata": {
        "id": "85e6f065-671c-435c-8e73-8cad3c1496a3",
        "colab": {
          "base_uri": "https://localhost:8080/"
        },
        "outputId": "cfcef128-cc04-460d-9525-a6f162c6ab5b"
      },
      "outputs": [
        {
          "output_type": "stream",
          "name": "stdout",
          "text": [
            "train dataset loaded.\n"
          ]
        }
      ],
      "source": [
        "class CustomDataset(torch.utils.data.Dataset):\n",
        "\n",
        "    def __init__(self, df, tokenizer, max_len, mode = 'train'):\n",
        "\n",
        "        self.data = df\n",
        "        self.tokenizer = tokenizer\n",
        "        self.max_len = max_len\n",
        "        self.mode = mode\n",
        "        \n",
        "        if self.mode!='test':\n",
        "            try: \n",
        "                self.labels = df['label'].tolist()\n",
        "            except:\n",
        "                assert False, 'CustomDataset Error : \\'label\\' column does not exist in the dataframe'\n",
        "     \n",
        "    def __len__(self):\n",
        "        return len(self.data)\n",
        "                \n",
        "\n",
        "    def __getitem__(self, idx):\n",
        "        \"\"\"\n",
        "        전체 데이터에서 특정 인덱스 (idx)에 해당하는 기사제목과 댓글 내용을 \n",
        "        토크나이즈한 data('input_ids', 'attention_mask','token_type_ids')의 딕셔너리 형태로 불러옴\n",
        "        \"\"\"\n",
        "        title = self.data.title.iloc[idx]\n",
        "        comment = self.data.comment.iloc[idx]\n",
        "        \n",
        "        tokenized_text = self.tokenizer(title, comment,\n",
        "                             padding= 'max_length',\n",
        "                             max_length=self.max_len,\n",
        "                             truncation=True,\n",
        "                             return_token_type_ids=True,\n",
        "                             return_attention_mask=True,\n",
        "                             return_tensors = \"pt\")\n",
        "        \n",
        "        data = {'input_ids': tokenized_text['input_ids'].clone().detach().long(),\n",
        "               'attention_mask': tokenized_text['attention_mask'].clone().detach().long(),\n",
        "               'token_type_ids': tokenized_text['token_type_ids'].clone().detach().long(),\n",
        "               }\n",
        "        \n",
        "        if self.mode != 'test':\n",
        "            label = self.data.label.iloc[idx]\n",
        "            return data, label\n",
        "        else:\n",
        "            return data\n",
        "        \n",
        "\n",
        "    \n",
        "train_dataset = CustomDataset(train_df, TOKENIZER, args.max_seq_len, mode ='train')\n",
        "print(\"train dataset loaded.\")"
      ]
    },
    {
      "cell_type": "code",
      "execution_count": null,
      "id": "7d27241c-4c3b-498e-9456-871dc3cc2e61",
      "metadata": {
        "id": "7d27241c-4c3b-498e-9456-871dc3cc2e61",
        "colab": {
          "base_uri": "https://localhost:8080/"
        },
        "outputId": "30d79e07-6151-49dd-ff67-b8e1b245b4ed"
      },
      "outputs": [
        {
          "output_type": "stream",
          "name": "stdout",
          "text": [
            "dataset sample : \n",
            "({'input_ids': tensor([[    2, 26176,  1846,  5250,  4118,  1557,  4040,  4047, 26217,  4038,\n",
            "          4196,  8066,  2219,  4232, 12841,  3353,  4081, 12669, 10461,     3,\n",
            "         26217,  4038,  8050, 11219, 12610,  7992,     3,     0,     0,     0,\n",
            "             0,     0,     0,     0,     0,     0,     0,     0,     0,     0,\n",
            "             0,     0,     0,     0,     0,     0,     0,     0,     0,     0,\n",
            "             0,     0,     0,     0,     0,     0,     0,     0,     0,     0,\n",
            "             0,     0,     0,     0,     0,     0,     0,     0,     0,     0,\n",
            "             0,     0,     0,     0,     0,     0,     0,     0,     0,     0,\n",
            "             0,     0,     0,     0,     0,     0,     0,     0,     0,     0,\n",
            "             0,     0,     0,     0,     0,     0,     0,     0,     0,     0,\n",
            "             0,     0,     0,     0,     0,     0,     0,     0,     0,     0,\n",
            "             0,     0,     0,     0,     0,     0,     0,     0,     0,     0,\n",
            "             0,     0,     0,     0,     0,     0,     0,     0,     0,     0,\n",
            "             0,     0,     0,     0,     0,     0,     0,     0,     0,     0,\n",
            "             0,     0,     0,     0,     0,     0,     0,     0,     0,     0,\n",
            "             0,     0,     0,     0,     0,     0,     0,     0,     0,     0,\n",
            "             0,     0,     0,     0,     0,     0,     0,     0,     0,     0,\n",
            "             0,     0,     0,     0,     0,     0,     0,     0,     0,     0,\n",
            "             0,     0,     0,     0,     0,     0,     0,     0,     0,     0,\n",
            "             0,     0,     0,     0,     0,     0,     0,     0,     0,     0,\n",
            "             0,     0,     0,     0,     0,     0,     0,     0,     0,     0,\n",
            "             0,     0,     0,     0,     0,     0,     0,     0,     0,     0,\n",
            "             0,     0,     0,     0,     0,     0,     0,     0,     0,     0,\n",
            "             0,     0,     0,     0,     0,     0,     0,     0,     0,     0,\n",
            "             0,     0,     0,     0,     0,     0,     0,     0,     0,     0,\n",
            "             0,     0,     0,     0,     0,     0]]), 'attention_mask': tensor([[1, 1, 1, 1, 1, 1, 1, 1, 1, 1, 1, 1, 1, 1, 1, 1, 1, 1, 1, 1, 1, 1, 1, 1,\n",
            "         1, 1, 1, 0, 0, 0, 0, 0, 0, 0, 0, 0, 0, 0, 0, 0, 0, 0, 0, 0, 0, 0, 0, 0,\n",
            "         0, 0, 0, 0, 0, 0, 0, 0, 0, 0, 0, 0, 0, 0, 0, 0, 0, 0, 0, 0, 0, 0, 0, 0,\n",
            "         0, 0, 0, 0, 0, 0, 0, 0, 0, 0, 0, 0, 0, 0, 0, 0, 0, 0, 0, 0, 0, 0, 0, 0,\n",
            "         0, 0, 0, 0, 0, 0, 0, 0, 0, 0, 0, 0, 0, 0, 0, 0, 0, 0, 0, 0, 0, 0, 0, 0,\n",
            "         0, 0, 0, 0, 0, 0, 0, 0, 0, 0, 0, 0, 0, 0, 0, 0, 0, 0, 0, 0, 0, 0, 0, 0,\n",
            "         0, 0, 0, 0, 0, 0, 0, 0, 0, 0, 0, 0, 0, 0, 0, 0, 0, 0, 0, 0, 0, 0, 0, 0,\n",
            "         0, 0, 0, 0, 0, 0, 0, 0, 0, 0, 0, 0, 0, 0, 0, 0, 0, 0, 0, 0, 0, 0, 0, 0,\n",
            "         0, 0, 0, 0, 0, 0, 0, 0, 0, 0, 0, 0, 0, 0, 0, 0, 0, 0, 0, 0, 0, 0, 0, 0,\n",
            "         0, 0, 0, 0, 0, 0, 0, 0, 0, 0, 0, 0, 0, 0, 0, 0, 0, 0, 0, 0, 0, 0, 0, 0,\n",
            "         0, 0, 0, 0, 0, 0, 0, 0, 0, 0, 0, 0, 0, 0, 0, 0]]), 'token_type_ids': tensor([[0, 0, 0, 0, 0, 0, 0, 0, 0, 0, 0, 0, 0, 0, 0, 0, 0, 0, 0, 0, 1, 1, 1, 1,\n",
            "         1, 1, 1, 0, 0, 0, 0, 0, 0, 0, 0, 0, 0, 0, 0, 0, 0, 0, 0, 0, 0, 0, 0, 0,\n",
            "         0, 0, 0, 0, 0, 0, 0, 0, 0, 0, 0, 0, 0, 0, 0, 0, 0, 0, 0, 0, 0, 0, 0, 0,\n",
            "         0, 0, 0, 0, 0, 0, 0, 0, 0, 0, 0, 0, 0, 0, 0, 0, 0, 0, 0, 0, 0, 0, 0, 0,\n",
            "         0, 0, 0, 0, 0, 0, 0, 0, 0, 0, 0, 0, 0, 0, 0, 0, 0, 0, 0, 0, 0, 0, 0, 0,\n",
            "         0, 0, 0, 0, 0, 0, 0, 0, 0, 0, 0, 0, 0, 0, 0, 0, 0, 0, 0, 0, 0, 0, 0, 0,\n",
            "         0, 0, 0, 0, 0, 0, 0, 0, 0, 0, 0, 0, 0, 0, 0, 0, 0, 0, 0, 0, 0, 0, 0, 0,\n",
            "         0, 0, 0, 0, 0, 0, 0, 0, 0, 0, 0, 0, 0, 0, 0, 0, 0, 0, 0, 0, 0, 0, 0, 0,\n",
            "         0, 0, 0, 0, 0, 0, 0, 0, 0, 0, 0, 0, 0, 0, 0, 0, 0, 0, 0, 0, 0, 0, 0, 0,\n",
            "         0, 0, 0, 0, 0, 0, 0, 0, 0, 0, 0, 0, 0, 0, 0, 0, 0, 0, 0, 0, 0, 0, 0, 0,\n",
            "         0, 0, 0, 0, 0, 0, 0, 0, 0, 0, 0, 0, 0, 0, 0, 0]])}, 0)\n"
          ]
        }
      ],
      "source": [
        "if DEBUG ==True :\n",
        "    print(\"dataset sample : \")\n",
        "    print(train_dataset[0])"
      ]
    },
    {
      "cell_type": "code",
      "execution_count": null,
      "id": "bbadd376-0df2-455c-89f1-9236ba9d32a0",
      "metadata": {
        "id": "bbadd376-0df2-455c-89f1-9236ba9d32a0"
      },
      "outputs": [],
      "source": [
        "# encoded_plus = tokenizer.encode_plus(\n",
        "#                     sentence,                      # Sentence to encode.\n",
        "#                     add_special_tokens = True, # Add '[CLS]' and '[SEP]'\n",
        "#                     max_length = 128,           # Pad & truncate all sentences.\n",
        "#                     pad_to_max_length = True,\n",
        "#                     return_attention_mask = True,   # Construct attention masks.\n",
        "#                     return_tensors = 'pt',     # Return pytorch tensors.\n",
        "#                )"
      ]
    },
    {
      "cell_type": "markdown",
      "id": "e92d12dd-7a1e-423f-8b3d-00bae3c17375",
      "metadata": {
        "id": "e92d12dd-7a1e-423f-8b3d-00bae3c17375"
      },
      "source": [
        "### 3-2. Train, Validation set 나누기"
      ]
    },
    {
      "cell_type": "code",
      "execution_count": null,
      "id": "e6fb9525-861d-48ba-b495-828b8a08b9c1",
      "metadata": {
        "id": "e6fb9525-861d-48ba-b495-828b8a08b9c1",
        "colab": {
          "base_uri": "https://localhost:8080/"
        },
        "outputId": "f79e684f-6b4e-4558-e09f-1368f8a40512"
      },
      "outputs": [
        {
          "output_type": "stream",
          "name": "stdout",
          "text": [
            "Train dataset:  7530\n",
            "Validation dataset:  837\n"
          ]
        }
      ],
      "source": [
        "from sklearn.model_selection import train_test_split\n",
        "                                                         \n",
        "train_data, val_data = train_test_split(train_df, test_size=0.1, random_state=args.seed)\n",
        "\n",
        "train_dataset = CustomDataset(train_data, TOKENIZER, args.max_seq_len, 'train')\n",
        "val_dataset = CustomDataset(val_data, TOKENIZER, args.max_seq_len, 'validation')\n",
        "\n",
        "print(\"Train dataset: \", len(train_dataset))\n",
        "print(\"Validation dataset: \", len(val_dataset))"
      ]
    },
    {
      "cell_type": "markdown",
      "id": "ed493727-edd8-43ba-924f-195837306952",
      "metadata": {
        "id": "ed493727-edd8-43ba-924f-195837306952"
      },
      "source": [
        "## 4. 분류 모델 학습을 위한 세팅"
      ]
    },
    {
      "cell_type": "markdown",
      "id": "81c0817a-8b51-4d22-9f31-eb8bd22640cb",
      "metadata": {
        "id": "81c0817a-8b51-4d22-9f31-eb8bd22640cb"
      },
      "source": [
        "### 4-1. 아키텍쳐 설정"
      ]
    },
    {
      "cell_type": "markdown",
      "id": "5a250764-25aa-43e4-a383-f464dc54bc25",
      "metadata": {
        "id": "5a250764-25aa-43e4-a383-f464dc54bc25"
      },
      "source": [
        "\n",
        "\n",
        "\n",
        "- [PretrainedConfig](https://huggingface.co/docs/transformers/v4.16.2/en/main_classes/configuration#transformers.PretrainedConfig.from_pretrained)\n",
        "-[KcELECTRA 사전학습 모델](https://github.com/Beomi/KcELECTRA)"
      ]
    },
    {
      "cell_type": "code",
      "execution_count": 24,
      "id": "554c0acd-d158-4d36-bfd1-abb47fb618f8",
      "metadata": {
        "tags": [],
        "id": "554c0acd-d158-4d36-bfd1-abb47fb618f8",
        "colab": {
          "base_uri": "https://localhost:8080/",
          "height": 1000,
          "referenced_widgets": [
            "8bb21dd4fa524216b0c4927cb19825f2",
            "68265ad2466b4ba6b059f65063b7e120",
            "b810e0d1148b4a9cb7f3f3d46a4b28a7",
            "a125806a1e2c445b8c393f124de07d13",
            "3b3a4731bb8f4666ada4d3812af0d26b",
            "fd1e4a0a7e2d40e994a594307d9cebd9",
            "1b218bf4a2b8438b835b0bade5e43786",
            "79964a7750f349e8a4460f7552266f7a",
            "f66b9cd6889a44af87a06055e3ceaa90",
            "22ad505729174a29b557290a5357905e",
            "8a001fcfe3a64ed394401937d0247aa7"
          ]
        },
        "outputId": "943910ea-356d-4d2e-be84-26b655ff81f6"
      },
      "outputs": [
        {
          "output_type": "display_data",
          "data": {
            "application/vnd.jupyter.widget-view+json": {
              "model_id": "8bb21dd4fa524216b0c4927cb19825f2",
              "version_minor": 0,
              "version_major": 2
            },
            "text/plain": [
              "Downloading:   0%|          | 0.00/475M [00:00<?, ?B/s]"
            ]
          },
          "metadata": {}
        },
        {
          "output_type": "stream",
          "name": "stdout",
          "text": [
            "ElectraForSequenceClassification(\n",
            "  (electra): ElectraModel(\n",
            "    (embeddings): ElectraEmbeddings(\n",
            "      (word_embeddings): Embedding(50135, 768, padding_idx=0)\n",
            "      (position_embeddings): Embedding(512, 768)\n",
            "      (token_type_embeddings): Embedding(2, 768)\n",
            "      (LayerNorm): LayerNorm((768,), eps=1e-12, elementwise_affine=True)\n",
            "      (dropout): Dropout(p=0.1, inplace=False)\n",
            "    )\n",
            "    (encoder): ElectraEncoder(\n",
            "      (layer): ModuleList(\n",
            "        (0): ElectraLayer(\n",
            "          (attention): ElectraAttention(\n",
            "            (self): ElectraSelfAttention(\n",
            "              (query): Linear(in_features=768, out_features=768, bias=True)\n",
            "              (key): Linear(in_features=768, out_features=768, bias=True)\n",
            "              (value): Linear(in_features=768, out_features=768, bias=True)\n",
            "              (dropout): Dropout(p=0.1, inplace=False)\n",
            "            )\n",
            "            (output): ElectraSelfOutput(\n",
            "              (dense): Linear(in_features=768, out_features=768, bias=True)\n",
            "              (LayerNorm): LayerNorm((768,), eps=1e-12, elementwise_affine=True)\n",
            "              (dropout): Dropout(p=0.1, inplace=False)\n",
            "            )\n",
            "          )\n",
            "          (intermediate): ElectraIntermediate(\n",
            "            (dense): Linear(in_features=768, out_features=3072, bias=True)\n",
            "            (intermediate_act_fn): GELUActivation()\n",
            "          )\n",
            "          (output): ElectraOutput(\n",
            "            (dense): Linear(in_features=3072, out_features=768, bias=True)\n",
            "            (LayerNorm): LayerNorm((768,), eps=1e-12, elementwise_affine=True)\n",
            "            (dropout): Dropout(p=0.1, inplace=False)\n",
            "          )\n",
            "        )\n",
            "        (1): ElectraLayer(\n",
            "          (attention): ElectraAttention(\n",
            "            (self): ElectraSelfAttention(\n",
            "              (query): Linear(in_features=768, out_features=768, bias=True)\n",
            "              (key): Linear(in_features=768, out_features=768, bias=True)\n",
            "              (value): Linear(in_features=768, out_features=768, bias=True)\n",
            "              (dropout): Dropout(p=0.1, inplace=False)\n",
            "            )\n",
            "            (output): ElectraSelfOutput(\n",
            "              (dense): Linear(in_features=768, out_features=768, bias=True)\n",
            "              (LayerNorm): LayerNorm((768,), eps=1e-12, elementwise_affine=True)\n",
            "              (dropout): Dropout(p=0.1, inplace=False)\n",
            "            )\n",
            "          )\n",
            "          (intermediate): ElectraIntermediate(\n",
            "            (dense): Linear(in_features=768, out_features=3072, bias=True)\n",
            "            (intermediate_act_fn): GELUActivation()\n",
            "          )\n",
            "          (output): ElectraOutput(\n",
            "            (dense): Linear(in_features=3072, out_features=768, bias=True)\n",
            "            (LayerNorm): LayerNorm((768,), eps=1e-12, elementwise_affine=True)\n",
            "            (dropout): Dropout(p=0.1, inplace=False)\n",
            "          )\n",
            "        )\n",
            "        (2): ElectraLayer(\n",
            "          (attention): ElectraAttention(\n",
            "            (self): ElectraSelfAttention(\n",
            "              (query): Linear(in_features=768, out_features=768, bias=True)\n",
            "              (key): Linear(in_features=768, out_features=768, bias=True)\n",
            "              (value): Linear(in_features=768, out_features=768, bias=True)\n",
            "              (dropout): Dropout(p=0.1, inplace=False)\n",
            "            )\n",
            "            (output): ElectraSelfOutput(\n",
            "              (dense): Linear(in_features=768, out_features=768, bias=True)\n",
            "              (LayerNorm): LayerNorm((768,), eps=1e-12, elementwise_affine=True)\n",
            "              (dropout): Dropout(p=0.1, inplace=False)\n",
            "            )\n",
            "          )\n",
            "          (intermediate): ElectraIntermediate(\n",
            "            (dense): Linear(in_features=768, out_features=3072, bias=True)\n",
            "            (intermediate_act_fn): GELUActivation()\n",
            "          )\n",
            "          (output): ElectraOutput(\n",
            "            (dense): Linear(in_features=3072, out_features=768, bias=True)\n",
            "            (LayerNorm): LayerNorm((768,), eps=1e-12, elementwise_affine=True)\n",
            "            (dropout): Dropout(p=0.1, inplace=False)\n",
            "          )\n",
            "        )\n",
            "        (3): ElectraLayer(\n",
            "          (attention): ElectraAttention(\n",
            "            (self): ElectraSelfAttention(\n",
            "              (query): Linear(in_features=768, out_features=768, bias=True)\n",
            "              (key): Linear(in_features=768, out_features=768, bias=True)\n",
            "              (value): Linear(in_features=768, out_features=768, bias=True)\n",
            "              (dropout): Dropout(p=0.1, inplace=False)\n",
            "            )\n",
            "            (output): ElectraSelfOutput(\n",
            "              (dense): Linear(in_features=768, out_features=768, bias=True)\n",
            "              (LayerNorm): LayerNorm((768,), eps=1e-12, elementwise_affine=True)\n",
            "              (dropout): Dropout(p=0.1, inplace=False)\n",
            "            )\n",
            "          )\n",
            "          (intermediate): ElectraIntermediate(\n",
            "            (dense): Linear(in_features=768, out_features=3072, bias=True)\n",
            "            (intermediate_act_fn): GELUActivation()\n",
            "          )\n",
            "          (output): ElectraOutput(\n",
            "            (dense): Linear(in_features=3072, out_features=768, bias=True)\n",
            "            (LayerNorm): LayerNorm((768,), eps=1e-12, elementwise_affine=True)\n",
            "            (dropout): Dropout(p=0.1, inplace=False)\n",
            "          )\n",
            "        )\n",
            "        (4): ElectraLayer(\n",
            "          (attention): ElectraAttention(\n",
            "            (self): ElectraSelfAttention(\n",
            "              (query): Linear(in_features=768, out_features=768, bias=True)\n",
            "              (key): Linear(in_features=768, out_features=768, bias=True)\n",
            "              (value): Linear(in_features=768, out_features=768, bias=True)\n",
            "              (dropout): Dropout(p=0.1, inplace=False)\n",
            "            )\n",
            "            (output): ElectraSelfOutput(\n",
            "              (dense): Linear(in_features=768, out_features=768, bias=True)\n",
            "              (LayerNorm): LayerNorm((768,), eps=1e-12, elementwise_affine=True)\n",
            "              (dropout): Dropout(p=0.1, inplace=False)\n",
            "            )\n",
            "          )\n",
            "          (intermediate): ElectraIntermediate(\n",
            "            (dense): Linear(in_features=768, out_features=3072, bias=True)\n",
            "            (intermediate_act_fn): GELUActivation()\n",
            "          )\n",
            "          (output): ElectraOutput(\n",
            "            (dense): Linear(in_features=3072, out_features=768, bias=True)\n",
            "            (LayerNorm): LayerNorm((768,), eps=1e-12, elementwise_affine=True)\n",
            "            (dropout): Dropout(p=0.1, inplace=False)\n",
            "          )\n",
            "        )\n",
            "        (5): ElectraLayer(\n",
            "          (attention): ElectraAttention(\n",
            "            (self): ElectraSelfAttention(\n",
            "              (query): Linear(in_features=768, out_features=768, bias=True)\n",
            "              (key): Linear(in_features=768, out_features=768, bias=True)\n",
            "              (value): Linear(in_features=768, out_features=768, bias=True)\n",
            "              (dropout): Dropout(p=0.1, inplace=False)\n",
            "            )\n",
            "            (output): ElectraSelfOutput(\n",
            "              (dense): Linear(in_features=768, out_features=768, bias=True)\n",
            "              (LayerNorm): LayerNorm((768,), eps=1e-12, elementwise_affine=True)\n",
            "              (dropout): Dropout(p=0.1, inplace=False)\n",
            "            )\n",
            "          )\n",
            "          (intermediate): ElectraIntermediate(\n",
            "            (dense): Linear(in_features=768, out_features=3072, bias=True)\n",
            "            (intermediate_act_fn): GELUActivation()\n",
            "          )\n",
            "          (output): ElectraOutput(\n",
            "            (dense): Linear(in_features=3072, out_features=768, bias=True)\n",
            "            (LayerNorm): LayerNorm((768,), eps=1e-12, elementwise_affine=True)\n",
            "            (dropout): Dropout(p=0.1, inplace=False)\n",
            "          )\n",
            "        )\n",
            "        (6): ElectraLayer(\n",
            "          (attention): ElectraAttention(\n",
            "            (self): ElectraSelfAttention(\n",
            "              (query): Linear(in_features=768, out_features=768, bias=True)\n",
            "              (key): Linear(in_features=768, out_features=768, bias=True)\n",
            "              (value): Linear(in_features=768, out_features=768, bias=True)\n",
            "              (dropout): Dropout(p=0.1, inplace=False)\n",
            "            )\n",
            "            (output): ElectraSelfOutput(\n",
            "              (dense): Linear(in_features=768, out_features=768, bias=True)\n",
            "              (LayerNorm): LayerNorm((768,), eps=1e-12, elementwise_affine=True)\n",
            "              (dropout): Dropout(p=0.1, inplace=False)\n",
            "            )\n",
            "          )\n",
            "          (intermediate): ElectraIntermediate(\n",
            "            (dense): Linear(in_features=768, out_features=3072, bias=True)\n",
            "            (intermediate_act_fn): GELUActivation()\n",
            "          )\n",
            "          (output): ElectraOutput(\n",
            "            (dense): Linear(in_features=3072, out_features=768, bias=True)\n",
            "            (LayerNorm): LayerNorm((768,), eps=1e-12, elementwise_affine=True)\n",
            "            (dropout): Dropout(p=0.1, inplace=False)\n",
            "          )\n",
            "        )\n",
            "        (7): ElectraLayer(\n",
            "          (attention): ElectraAttention(\n",
            "            (self): ElectraSelfAttention(\n",
            "              (query): Linear(in_features=768, out_features=768, bias=True)\n",
            "              (key): Linear(in_features=768, out_features=768, bias=True)\n",
            "              (value): Linear(in_features=768, out_features=768, bias=True)\n",
            "              (dropout): Dropout(p=0.1, inplace=False)\n",
            "            )\n",
            "            (output): ElectraSelfOutput(\n",
            "              (dense): Linear(in_features=768, out_features=768, bias=True)\n",
            "              (LayerNorm): LayerNorm((768,), eps=1e-12, elementwise_affine=True)\n",
            "              (dropout): Dropout(p=0.1, inplace=False)\n",
            "            )\n",
            "          )\n",
            "          (intermediate): ElectraIntermediate(\n",
            "            (dense): Linear(in_features=768, out_features=3072, bias=True)\n",
            "            (intermediate_act_fn): GELUActivation()\n",
            "          )\n",
            "          (output): ElectraOutput(\n",
            "            (dense): Linear(in_features=3072, out_features=768, bias=True)\n",
            "            (LayerNorm): LayerNorm((768,), eps=1e-12, elementwise_affine=True)\n",
            "            (dropout): Dropout(p=0.1, inplace=False)\n",
            "          )\n",
            "        )\n",
            "        (8): ElectraLayer(\n",
            "          (attention): ElectraAttention(\n",
            "            (self): ElectraSelfAttention(\n",
            "              (query): Linear(in_features=768, out_features=768, bias=True)\n",
            "              (key): Linear(in_features=768, out_features=768, bias=True)\n",
            "              (value): Linear(in_features=768, out_features=768, bias=True)\n",
            "              (dropout): Dropout(p=0.1, inplace=False)\n",
            "            )\n",
            "            (output): ElectraSelfOutput(\n",
            "              (dense): Linear(in_features=768, out_features=768, bias=True)\n",
            "              (LayerNorm): LayerNorm((768,), eps=1e-12, elementwise_affine=True)\n",
            "              (dropout): Dropout(p=0.1, inplace=False)\n",
            "            )\n",
            "          )\n",
            "          (intermediate): ElectraIntermediate(\n",
            "            (dense): Linear(in_features=768, out_features=3072, bias=True)\n",
            "            (intermediate_act_fn): GELUActivation()\n",
            "          )\n",
            "          (output): ElectraOutput(\n",
            "            (dense): Linear(in_features=3072, out_features=768, bias=True)\n",
            "            (LayerNorm): LayerNorm((768,), eps=1e-12, elementwise_affine=True)\n",
            "            (dropout): Dropout(p=0.1, inplace=False)\n",
            "          )\n",
            "        )\n",
            "        (9): ElectraLayer(\n",
            "          (attention): ElectraAttention(\n",
            "            (self): ElectraSelfAttention(\n",
            "              (query): Linear(in_features=768, out_features=768, bias=True)\n",
            "              (key): Linear(in_features=768, out_features=768, bias=True)\n",
            "              (value): Linear(in_features=768, out_features=768, bias=True)\n",
            "              (dropout): Dropout(p=0.1, inplace=False)\n",
            "            )\n",
            "            (output): ElectraSelfOutput(\n",
            "              (dense): Linear(in_features=768, out_features=768, bias=True)\n",
            "              (LayerNorm): LayerNorm((768,), eps=1e-12, elementwise_affine=True)\n",
            "              (dropout): Dropout(p=0.1, inplace=False)\n",
            "            )\n",
            "          )\n",
            "          (intermediate): ElectraIntermediate(\n",
            "            (dense): Linear(in_features=768, out_features=3072, bias=True)\n",
            "            (intermediate_act_fn): GELUActivation()\n",
            "          )\n",
            "          (output): ElectraOutput(\n",
            "            (dense): Linear(in_features=3072, out_features=768, bias=True)\n",
            "            (LayerNorm): LayerNorm((768,), eps=1e-12, elementwise_affine=True)\n",
            "            (dropout): Dropout(p=0.1, inplace=False)\n",
            "          )\n",
            "        )\n",
            "        (10): ElectraLayer(\n",
            "          (attention): ElectraAttention(\n",
            "            (self): ElectraSelfAttention(\n",
            "              (query): Linear(in_features=768, out_features=768, bias=True)\n",
            "              (key): Linear(in_features=768, out_features=768, bias=True)\n",
            "              (value): Linear(in_features=768, out_features=768, bias=True)\n",
            "              (dropout): Dropout(p=0.1, inplace=False)\n",
            "            )\n",
            "            (output): ElectraSelfOutput(\n",
            "              (dense): Linear(in_features=768, out_features=768, bias=True)\n",
            "              (LayerNorm): LayerNorm((768,), eps=1e-12, elementwise_affine=True)\n",
            "              (dropout): Dropout(p=0.1, inplace=False)\n",
            "            )\n",
            "          )\n",
            "          (intermediate): ElectraIntermediate(\n",
            "            (dense): Linear(in_features=768, out_features=3072, bias=True)\n",
            "            (intermediate_act_fn): GELUActivation()\n",
            "          )\n",
            "          (output): ElectraOutput(\n",
            "            (dense): Linear(in_features=3072, out_features=768, bias=True)\n",
            "            (LayerNorm): LayerNorm((768,), eps=1e-12, elementwise_affine=True)\n",
            "            (dropout): Dropout(p=0.1, inplace=False)\n",
            "          )\n",
            "        )\n",
            "        (11): ElectraLayer(\n",
            "          (attention): ElectraAttention(\n",
            "            (self): ElectraSelfAttention(\n",
            "              (query): Linear(in_features=768, out_features=768, bias=True)\n",
            "              (key): Linear(in_features=768, out_features=768, bias=True)\n",
            "              (value): Linear(in_features=768, out_features=768, bias=True)\n",
            "              (dropout): Dropout(p=0.1, inplace=False)\n",
            "            )\n",
            "            (output): ElectraSelfOutput(\n",
            "              (dense): Linear(in_features=768, out_features=768, bias=True)\n",
            "              (LayerNorm): LayerNorm((768,), eps=1e-12, elementwise_affine=True)\n",
            "              (dropout): Dropout(p=0.1, inplace=False)\n",
            "            )\n",
            "          )\n",
            "          (intermediate): ElectraIntermediate(\n",
            "            (dense): Linear(in_features=768, out_features=3072, bias=True)\n",
            "            (intermediate_act_fn): GELUActivation()\n",
            "          )\n",
            "          (output): ElectraOutput(\n",
            "            (dense): Linear(in_features=3072, out_features=768, bias=True)\n",
            "            (LayerNorm): LayerNorm((768,), eps=1e-12, elementwise_affine=True)\n",
            "            (dropout): Dropout(p=0.1, inplace=False)\n",
            "          )\n",
            "        )\n",
            "      )\n",
            "    )\n",
            "  )\n",
            "  (classifier): ElectraClassificationHead(\n",
            "    (dense): Linear(in_features=768, out_features=768, bias=True)\n",
            "    (dropout): Dropout(p=0.1, inplace=False)\n",
            "    (out_proj): Linear(in_features=768, out_features=6, bias=True)\n",
            "  )\n",
            ")\n"
          ]
        }
      ],
      "source": [
        "from transformers import logging\n",
        "logging.set_verbosity_error()\n",
        "\n",
        "# config.json 에 입력된 architecture 에 따라 베이스 모델 설정\n",
        "BASE_MODELS = {\n",
        "    \"BertForSequenceClassification\": BertForSequenceClassification,\n",
        "    \"AutoModel\": AutoModel,\n",
        "    \"ElectraForSequenceClassification\": ElectraForSequenceClassification,\n",
        "    \"AlbertForSequenceClassification\": AlbertForSequenceClassification,\n",
        "\n",
        "}\n",
        "\n",
        "\n",
        "myModel = BASE_MODELS[args.architecture].from_pretrained(args.pretrained_model, \n",
        "                                                         num_labels = args.num_classes, \n",
        "                                                         output_attentions = False, # Whether the model returns attentions weights.\n",
        "                                                         output_hidden_states = True # Whether the model returns all hidden-states.\n",
        "                                                        )\n",
        "if DEBUG==True:\n",
        "    # 모델 구조 확인\n",
        "    print(myModel)"
      ]
    },
    {
      "cell_type": "code",
      "execution_count": null,
      "id": "c5f90f3c-51f6-4b44-a426-a0b36ccfa852",
      "metadata": {
        "tags": [],
        "id": "c5f90f3c-51f6-4b44-a426-a0b36ccfa852"
      },
      "outputs": [],
      "source": [
        "# !pip install git+https://git@github.com/SKTBrain/KoBERT.git@master"
      ]
    },
    {
      "cell_type": "markdown",
      "id": "c022a093-130f-40ac-b8e5-8decc5c63a6d",
      "metadata": {
        "id": "c022a093-130f-40ac-b8e5-8decc5c63a6d"
      },
      "source": [
        "### 4-2. 모델 설정"
      ]
    },
    {
      "cell_type": "markdown",
      "id": "69d37b1b-d491-4d3c-8551-980f78a78337",
      "metadata": {
        "id": "69d37b1b-d491-4d3c-8551-980f78a78337"
      },
      "source": [
        "\n",
        "- BertForSequenceClassifier (line 1232부터 참고) [source code](https://github.com/huggingface/transformers/blob/a39dfe4fb122c11be98a563fb8ca43b322e01036/src/transformers/modeling_bert.py#L1284-L1287)\n",
        "\n",
        "- ElectraForSequenceClassifier [source code](https://huggingface.co/transformers/v3.0.2/_modules/transformers/modeling_electra.html#ElectraForSequenceClassification)\n",
        "\n",
        "- SequenceClassier output 형태 : tuple(torch.FloatTensor)\n",
        "    - loss (torch.FloatTensor of shape (1,), optional, returned when label is provided):\n",
        "    Classification (or regression if config.num_labels==1) loss.\n",
        "\n",
        "   - logits (torch.FloatTensor of shape (batch_size, config.num_labels)):\n",
        "    Classification (or regression if config.num_labels==1) scores (before SoftMax).\n",
        "\n",
        "    - hidden_states (tuple(torch.FloatTensor), optional, returned when output_hidden_states=True is passed or when config.output_hidden_states=True):\n",
        "    Tuple of torch.FloatTensor (one for the output of the embeddings + one for the output of each layer) of shape (batch_size, sequence_length, hidden_size).\n",
        "\n",
        "    - Hidden-states of the model at the output of each layer plus the initial embedding outputs.\n",
        "\n",
        "    - attentions (tuple(torch.FloatTensor), optional, returned when output_attentions=True is passed or when config.output_attentions=True):\n",
        "Tuple of torch.FloatTensor (one for each layer) of shape (batch_size, num_heads, sequence_length, sequence_length).\n",
        "\n",
        "    Attentions weights after the attention softmax, used to compute the weighted average in the self-attention heads.\n",
        "    \n",
        "    \n",
        "- v2 에서 수정 및 추가 된 부분 많음\n",
        "\n"
      ]
    },
    {
      "cell_type": "code",
      "execution_count": 25,
      "id": "1685ce12-7238-4e2a-a20d-11969b568807",
      "metadata": {
        "id": "1685ce12-7238-4e2a-a20d-11969b568807"
      },
      "outputs": [],
      "source": [
        "### v2 에서 일부 수정됨\n",
        "class myClassifier(nn.Module):\n",
        "    def __init__(self, model, hidden_size = 768, num_classes=args.num_classes, selected_layers=False, params=None):\n",
        "        super(myClassifier, self).__init__()\n",
        "        self.model = model\n",
        "        self.softmax = nn.Softmax(dim=1) \n",
        "        self.selected_layers = selected_layers\n",
        "        \n",
        "        # 사실 dr rate은 model config 에서 hidden_dropout_prob로 가져와야 하는데 bert에선 0.1이 쓰였음\n",
        "        self.dropout = nn.Dropout(0.1)\n",
        "\n",
        "\n",
        "    def forward(self, token_ids, attention_mask, segment_ids):      \n",
        "        outputs = self.model(input_ids = token_ids, \n",
        "                             token_type_ids = segment_ids.long(), \n",
        "                             attention_mask = attention_mask.float().to(token_ids.device))\n",
        "        \n",
        "        # hidden state에서 마지막 4개 레이어를 뽑아 합쳐 새로운 pooled output 을 만드는 시도\n",
        "        if self.selected_layers == True:\n",
        "            hidden_states = outputs.hidden_states\n",
        "            pooled_output = torch.cat(tuple([hidden_states[i] for i in [-4, -3, -2, -1]]), dim=-1)\n",
        "            # print(\"concatenated output shape: \", pooled_output.shape)\n",
        "            ## dim(batch_size, max_seq_len, hidden_dim) 에서 가운데를 0이라 지정함으로, [cls] 토큰의 임베딩을 가져온다. \n",
        "            ## (text classification 구조 참고)\n",
        "            pooled_output = pooled_output[:, 0, :]\n",
        "            # print(pooled_output)\n",
        "\n",
        "            pooled_output = self.dropout(pooled_output)\n",
        "\n",
        "            ## 3개의 레이어를 합치므로 classifier의 차원은 (hidden_dim, 6)이다\n",
        "            classifier = nn.Linear(pooled_output.shape[1], args.num_classes).to(token_ids.device)\n",
        "            logits = classifier(pooled_output)\n",
        "        \n",
        "        else:\n",
        "            logits=outputs.logits\n",
        "        \n",
        "    \n",
        "        # 각 클래스별 확률\n",
        "        prob= self.softmax(logits)\n",
        "        # print(prob)\n",
        "        # logits2 = outputs.logits\n",
        "        # print(self.softmax(logits2))\n",
        "\n",
        "\n",
        "        return logits, prob\n",
        "        \n",
        "# 마지막 4 hidden layers concat 하는 방법을 쓰신다면 True로 변경        \n",
        "model = myClassifier(myModel, selected_layers=False)\n",
        "\n",
        "# if DEBUG ==True :\n",
        "#     print(model)"
      ]
    },
    {
      "cell_type": "markdown",
      "id": "99386a8c-7795-454c-9a32-eaf447c6fc4c",
      "metadata": {
        "id": "99386a8c-7795-454c-9a32-eaf447c6fc4c"
      },
      "source": [
        "### 4-3. 모델 구성 확인"
      ]
    },
    {
      "cell_type": "code",
      "execution_count": 26,
      "id": "e3b6bc6f-1df3-46fb-a607-5de3e3cef571",
      "metadata": {
        "id": "e3b6bc6f-1df3-46fb-a607-5de3e3cef571",
        "colab": {
          "base_uri": "https://localhost:8080/"
        },
        "outputId": "8487f163-6236-4f7c-9d16-22aadaee9482"
      },
      "outputs": [
        {
          "output_type": "stream",
          "name": "stdout",
          "text": [
            "The BERT model has 201 different named parameters.\n",
            "\n",
            "==== Embedding Layer ====\n",
            "\n",
            "model.electra.embeddings.word_embeddings.weight         (50135, 768)\n",
            "model.electra.embeddings.position_embeddings.weight       (512, 768)\n",
            "model.electra.embeddings.token_type_embeddings.weight       (2, 768)\n",
            "model.electra.embeddings.LayerNorm.weight                     (768,)\n",
            "model.electra.embeddings.LayerNorm.bias                       (768,)\n",
            "\n",
            "==== First Transformer ====\n",
            "\n",
            "model.electra.encoder.layer.0.attention.self.query.weight   (768, 768)\n",
            "model.electra.encoder.layer.0.attention.self.query.bias       (768,)\n",
            "model.electra.encoder.layer.0.attention.self.key.weight   (768, 768)\n",
            "model.electra.encoder.layer.0.attention.self.key.bias         (768,)\n",
            "model.electra.encoder.layer.0.attention.self.value.weight   (768, 768)\n",
            "model.electra.encoder.layer.0.attention.self.value.bias       (768,)\n",
            "model.electra.encoder.layer.0.attention.output.dense.weight   (768, 768)\n",
            "model.electra.encoder.layer.0.attention.output.dense.bias       (768,)\n",
            "model.electra.encoder.layer.0.attention.output.LayerNorm.weight       (768,)\n",
            "model.electra.encoder.layer.0.attention.output.LayerNorm.bias       (768,)\n",
            "model.electra.encoder.layer.0.intermediate.dense.weight  (3072, 768)\n",
            "model.electra.encoder.layer.0.intermediate.dense.bias        (3072,)\n",
            "model.electra.encoder.layer.0.output.dense.weight        (768, 3072)\n",
            "model.electra.encoder.layer.0.output.dense.bias               (768,)\n",
            "model.electra.encoder.layer.0.output.LayerNorm.weight         (768,)\n",
            "model.electra.encoder.layer.0.output.LayerNorm.bias           (768,)\n",
            "\n",
            "==== Output Layer ====\n",
            "\n",
            "model.classifier.dense.weight                             (768, 768)\n",
            "model.classifier.dense.bias                                   (768,)\n",
            "model.classifier.out_proj.weight                            (6, 768)\n",
            "model.classifier.out_proj.bias                                  (6,)\n"
          ]
        }
      ],
      "source": [
        "if DEBUG==True:\n",
        "    params = list(model.named_parameters())\n",
        "\n",
        "    print('The BERT model has {:} different named parameters.\\n'.format(len(params)))\n",
        "\n",
        "    print('==== Embedding Layer ====\\n')\n",
        "\n",
        "    for p in params[0:5]:\n",
        "        print(\"{:<55} {:>12}\".format(p[0], str(tuple(p[1].size()))))\n",
        "\n",
        "    print('\\n==== First Transformer ====\\n')\n",
        "\n",
        "    for p in params[5:21]:\n",
        "        print(\"{:<55} {:>12}\".format(p[0], str(tuple(p[1].size()))))\n",
        "\n",
        "    print('\\n==== Output Layer ====\\n')\n",
        "\n",
        "    for p in params[-4:]:\n",
        "        print(\"{:<55} {:>12}\".format(p[0], str(tuple(p[1].size()))))"
      ]
    },
    {
      "cell_type": "markdown",
      "id": "96c441a1-2ce3-46b2-b52d-c0cce7f76873",
      "metadata": {
        "id": "96c441a1-2ce3-46b2-b52d-c0cce7f76873"
      },
      "source": [
        "## 5. 학습 진행"
      ]
    },
    {
      "cell_type": "markdown",
      "id": "d4643714-c372-463a-8f7e-2955b2d4376a",
      "metadata": {
        "id": "d4643714-c372-463a-8f7e-2955b2d4376a"
      },
      "source": [
        "### 5-0. Early Stopper 함수 정의\n",
        "\n",
        "- v2에서 코드 일부 삭제"
      ]
    },
    {
      "cell_type": "code",
      "execution_count": null,
      "id": "c205350d-ce58-42e7-9558-2b405f142ff4",
      "metadata": {
        "id": "c205350d-ce58-42e7-9558-2b405f142ff4"
      },
      "outputs": [],
      "source": [
        "class LossEarlyStopper():\n",
        "    \"\"\"Early stopper\n",
        "\n",
        "        patience (int): loss가 줄어들지 않아도 학습할 epoch 수\n",
        "        patience_counter (int): loss 가 줄어들지 않을 때 마다 1씩 증가\n",
        "        min_loss (float): 최소 loss\n",
        "        stop (bool): True 일 때 학습 중단\n",
        "\n",
        "    \"\"\"\n",
        "\n",
        "    def __init__(self, patience: int)-> None:\n",
        "        \"\"\" 초기화\n",
        "\n",
        "        Args:\n",
        "            patience (int): loss가 줄어들지 않아도 학습할 epoch 수\n",
        "            weight_path (str): weight 저장경로\n",
        "            verbose (bool): 로그 출력 여부, True 일 때 로그 출력\n",
        "        \"\"\"\n",
        "        self.patience = patience\n",
        "        self.patience_counter = 0\n",
        "        self.min_loss = np.Inf\n",
        "        self.stop = False\n",
        "\n",
        "    def check_early_stopping(self, loss: float)-> None:\n",
        "        # 첫 에폭\n",
        "        if self.min_loss == np.Inf:\n",
        "            self.min_loss = loss\n",
        "           \n",
        "        # loss가 줄지 않는다면 -> patience_counter 1 증가\n",
        "        elif loss > self.min_loss:\n",
        "            self.patience_counter += 1\n",
        "            msg = f\"Early stopping counter {self.patience_counter}/{self.patience}\"\n",
        "\n",
        "            # patience 만큼 loss가 줄지 않았다면 학습을 중단합니다.\n",
        "            if self.patience_counter == self.patience:\n",
        "                self.stop = True\n",
        "            print(msg)\n",
        "        # loss가 줄어듬 -> min_loss 갱신, patience_counter 초기화\n",
        "        elif loss <= self.min_loss:\n",
        "            self.patience_counter = 0\n",
        "            ### v2 에서 수정됨\n",
        "            ### self.save_model = True -> 삭제 (사용하지 않음)\n",
        "            msg = f\"Validation loss decreased {self.min_loss} -> {loss}\"\n",
        "            self.min_loss = loss\n",
        "\n",
        "            print(msg)"
      ]
    },
    {
      "cell_type": "markdown",
      "id": "27d11163-6def-448a-9095-19231e9efe64",
      "metadata": {
        "id": "27d11163-6def-448a-9095-19231e9efe64"
      },
      "source": [
        "### 5-1. Epoch 별 학습 및 검증"
      ]
    },
    {
      "cell_type": "markdown",
      "id": "c06ed2a1-c2e3-43cb-9967-05d85b8546ee",
      "metadata": {
        "id": "c06ed2a1-c2e3-43cb-9967-05d85b8546ee"
      },
      "source": [
        "- [Transformers optimization documentation](https://huggingface.co/docs/transformers/main_classes/optimizer_schedules)\n",
        "- [스케줄러 documentation](https://huggingface.co/docs/transformers/main_classes/optimizer_schedules#schedules)\n",
        "- Adam optimizer의 epsilon 파라미터 eps = 1e-8 는 \"계산 중 0으로 나눔을 방지 하기 위한 아주 작은 숫자 \" 입니다. ([출처](https://machinelearningmastery.com/adam-optimization-algorithm-for-deep-learning/))\n",
        "- 스케줄러 파라미터\n",
        "    - `warmup_ratio` : \n",
        "      - 학습이 진행되면서 학습률을 그 상황에 맞게 가변적으로 적당하게 변경되게 하기 위해 Scheduler를 사용합니다.\n",
        "      - 처음 학습률(Learning rate)를 warm up하기 위한 비율을 설정하는 warmup_ratio을 설정합니다.\n",
        "  "
      ]
    },
    {
      "cell_type": "code",
      "execution_count": null,
      "id": "d151484e-978d-4bf3-b7b3-fe2c5ba5eda5",
      "metadata": {
        "tags": [],
        "id": "d151484e-978d-4bf3-b7b3-fe2c5ba5eda5",
        "colab": {
          "base_uri": "https://localhost:8080/"
        },
        "outputId": "0968f026-016a-4681-fc94-90f210710da7"
      },
      "outputs": [
        {
          "output_type": "stream",
          "name": "stdout",
          "text": [
            "RUN :  demo0\n",
            "batch size :  32\n",
            "The first batch looks like ..\n",
            " {'input_ids': tensor([[[    2, 13621,  4046,  ...,     0,     0,     0]],\n",
            "\n",
            "        [[    2,    52,  4881,  ...,     0,     0,     0]],\n",
            "\n",
            "        [[    2, 17985,  4183,  ...,     0,     0,     0]],\n",
            "\n",
            "        ...,\n",
            "\n",
            "        [[    2,  9618, 10256,  ...,     0,     0,     0]],\n",
            "\n",
            "        [[    2, 15455, 26217,  ...,     0,     0,     0]],\n",
            "\n",
            "        [[    2, 11779,  4136,  ...,     0,     0,     0]]]), 'attention_mask': tensor([[[1, 1, 1,  ..., 0, 0, 0]],\n",
            "\n",
            "        [[1, 1, 1,  ..., 0, 0, 0]],\n",
            "\n",
            "        [[1, 1, 1,  ..., 0, 0, 0]],\n",
            "\n",
            "        ...,\n",
            "\n",
            "        [[1, 1, 1,  ..., 0, 0, 0]],\n",
            "\n",
            "        [[1, 1, 1,  ..., 0, 0, 0]],\n",
            "\n",
            "        [[1, 1, 1,  ..., 0, 0, 0]]]), 'token_type_ids': tensor([[[0, 0, 0,  ..., 0, 0, 0]],\n",
            "\n",
            "        [[0, 0, 0,  ..., 0, 0, 0]],\n",
            "\n",
            "        [[0, 0, 0,  ..., 0, 0, 0]],\n",
            "\n",
            "        ...,\n",
            "\n",
            "        [[0, 0, 0,  ..., 0, 0, 0]],\n",
            "\n",
            "        [[0, 0, 0,  ..., 0, 0, 0]],\n",
            "\n",
            "        [[0, 0, 0,  ..., 0, 0, 0]]])}\n"
          ]
        },
        {
          "output_type": "stream",
          "name": "stderr",
          "text": [
            "100%|██████████| 236/236 [05:16<00:00,  1.34s/it]\n"
          ]
        },
        {
          "output_type": "stream",
          "name": "stdout",
          "text": [
            "Epoch: 1                 | Train Loss:  0.055                 | Train Accuracy:  0.234                 | Val Loss:  0.052                 | Val Accuracy:  0.318\n"
          ]
        },
        {
          "output_type": "stream",
          "name": "stderr",
          "text": [
            "100%|██████████| 236/236 [05:22<00:00,  1.37s/it]\n"
          ]
        },
        {
          "output_type": "stream",
          "name": "stdout",
          "text": [
            "Epoch: 2                 | Train Loss:  0.047                 | Train Accuracy:  0.390                 | Val Loss:  0.044                 | Val Accuracy:  0.422\n",
            "Validation loss decreased 0.05244605430138154 -> 0.044359782334581786\n"
          ]
        },
        {
          "output_type": "stream",
          "name": "stderr",
          "text": [
            "100%|██████████| 236/236 [05:23<00:00,  1.37s/it]\n"
          ]
        },
        {
          "output_type": "stream",
          "name": "stdout",
          "text": [
            "Epoch: 3                 | Train Loss:  0.042                 | Train Accuracy:  0.433                 | Val Loss:  0.040                 | Val Accuracy:  0.484\n",
            "Validation loss decreased 0.044359782334581786 -> 0.039997481388288014\n"
          ]
        },
        {
          "output_type": "stream",
          "name": "stderr",
          "text": [
            "100%|██████████| 236/236 [05:23<00:00,  1.37s/it]\n"
          ]
        },
        {
          "output_type": "stream",
          "name": "stdout",
          "text": [
            "Epoch: 4                 | Train Loss:  0.037                 | Train Accuracy:  0.543                 | Val Loss:  0.035                 | Val Accuracy:  0.568\n",
            "Validation loss decreased 0.039997481388288014 -> 0.03456701806511645\n"
          ]
        },
        {
          "output_type": "stream",
          "name": "stderr",
          "text": [
            "100%|██████████| 236/236 [05:23<00:00,  1.37s/it]\n"
          ]
        },
        {
          "output_type": "stream",
          "name": "stdout",
          "text": [
            "Epoch: 5                 | Train Loss:  0.033                 | Train Accuracy:  0.599                 | Val Loss:  0.032                 | Val Accuracy:  0.603\n",
            "Validation loss decreased 0.03456701806511645 -> 0.03187015880535723\n"
          ]
        },
        {
          "output_type": "stream",
          "name": "stderr",
          "text": [
            "100%|██████████| 236/236 [05:23<00:00,  1.37s/it]\n"
          ]
        },
        {
          "output_type": "stream",
          "name": "stdout",
          "text": [
            "Epoch: 6                 | Train Loss:  0.030                 | Train Accuracy:  0.632                 | Val Loss:  0.031                 | Val Accuracy:  0.616\n",
            "Validation loss decreased 0.03187015880535723 -> 0.03074784557309487\n"
          ]
        },
        {
          "output_type": "stream",
          "name": "stderr",
          "text": [
            "100%|██████████| 236/236 [05:23<00:00,  1.37s/it]\n"
          ]
        },
        {
          "output_type": "stream",
          "name": "stdout",
          "text": [
            "Epoch: 7                 | Train Loss:  0.028                 | Train Accuracy:  0.663                 | Val Loss:  0.030                 | Val Accuracy:  0.620\n",
            "Validation loss decreased 0.03074784557309487 -> 0.030208055513021907\n"
          ]
        },
        {
          "output_type": "stream",
          "name": "stderr",
          "text": [
            "100%|██████████| 236/236 [05:22<00:00,  1.37s/it]\n"
          ]
        },
        {
          "output_type": "stream",
          "name": "stdout",
          "text": [
            "Epoch: 8                 | Train Loss:  0.027                 | Train Accuracy:  0.686                 | Val Loss:  0.030                 | Val Accuracy:  0.620\n",
            "Validation loss decreased 0.030208055513021907 -> 0.029989607908107615\n"
          ]
        },
        {
          "output_type": "stream",
          "name": "stderr",
          "text": [
            "100%|██████████| 236/236 [05:23<00:00,  1.37s/it]\n"
          ]
        },
        {
          "output_type": "stream",
          "name": "stdout",
          "text": [
            "Epoch: 9                 | Train Loss:  0.025                 | Train Accuracy:  0.709                 | Val Loss:  0.030                 | Val Accuracy:  0.626\n",
            "Validation loss decreased 0.029989607908107615 -> 0.029889326867521736\n"
          ]
        },
        {
          "output_type": "stream",
          "name": "stderr",
          "text": [
            "100%|██████████| 236/236 [05:22<00:00,  1.37s/it]\n"
          ]
        },
        {
          "output_type": "stream",
          "name": "stdout",
          "text": [
            "Epoch: 10                 | Train Loss:  0.023                 | Train Accuracy:  0.731                 | Val Loss:  0.030                 | Val Accuracy:  0.624\n",
            "Early stopping counter 1/5\n"
          ]
        },
        {
          "output_type": "stream",
          "name": "stderr",
          "text": [
            "100%|██████████| 236/236 [05:22<00:00,  1.37s/it]\n"
          ]
        },
        {
          "output_type": "stream",
          "name": "stdout",
          "text": [
            "Epoch: 11                 | Train Loss:  0.022                 | Train Accuracy:  0.756                 | Val Loss:  0.030                 | Val Accuracy:  0.619\n",
            "Early stopping counter 2/5\n"
          ]
        },
        {
          "output_type": "stream",
          "name": "stderr",
          "text": [
            "100%|██████████| 236/236 [05:22<00:00,  1.37s/it]\n"
          ]
        },
        {
          "output_type": "stream",
          "name": "stdout",
          "text": [
            "Epoch: 12                 | Train Loss:  0.020                 | Train Accuracy:  0.776                 | Val Loss:  0.031                 | Val Accuracy:  0.618\n",
            "Early stopping counter 3/5\n"
          ]
        },
        {
          "output_type": "stream",
          "name": "stderr",
          "text": [
            "100%|██████████| 236/236 [05:22<00:00,  1.37s/it]\n"
          ]
        },
        {
          "output_type": "stream",
          "name": "stdout",
          "text": [
            "Epoch: 13                 | Train Loss:  0.019                 | Train Accuracy:  0.795                 | Val Loss:  0.031                 | Val Accuracy:  0.621\n",
            "Early stopping counter 4/5\n"
          ]
        },
        {
          "output_type": "stream",
          "name": "stderr",
          "text": [
            "100%|██████████| 236/236 [05:23<00:00,  1.37s/it]\n"
          ]
        },
        {
          "output_type": "stream",
          "name": "stdout",
          "text": [
            "Epoch: 14                 | Train Loss:  0.018                 | Train Accuracy:  0.818                 | Val Loss:  0.032                 | Val Accuracy:  0.625\n",
            "Early stopping counter 5/5\n",
            "Early stopped, Best score :  0.6260454002389486\n",
            "train finished\n"
          ]
        }
      ],
      "source": [
        "# args = set_config(config_path)\n",
        "\n",
        "logging.set_verbosity_warning()\n",
        "\n",
        "# 재현을 위해 모든 곳의 시드 고정\n",
        "seed_val = args.seed\n",
        "random.seed(seed_val)\n",
        "np.random.seed(seed_val)\n",
        "torch.manual_seed(seed_val)\n",
        "torch.cuda.manual_seed_all(seed_val)\n",
        "\n",
        "def train(model, train_data, val_data, args, mode = 'train'):\n",
        "    \n",
        "    # args.run은 실험 이름 (어디까지나 팀원들간의 버전 관리 및 공유 편의를 위한 것으로, 자유롭게 수정 가능합니다.)\n",
        "    print(\"RUN : \", args.run)\n",
        "    shutil.copyfile(\"config.json\", os.path.join(args.config_dir, f\"config_{args.run}.json\"))\n",
        "\n",
        "    early_stopper = LossEarlyStopper(patience=args.patience)\n",
        "    \n",
        "    train_dataloader = torch.utils.data.DataLoader(train_data, batch_size=args.train_batch_size, shuffle=True)\n",
        "    val_dataloader = torch.utils.data.DataLoader(val_data, batch_size=args.train_batch_size)\n",
        "\n",
        "    \n",
        "    if DEBUG == True:\n",
        "        # 데이터로더가 성공적으로 로드 되었는지 확인\n",
        "        for idx, data in enumerate(train_dataloader):\n",
        "            if idx==0:\n",
        "                print(\"batch size : \", len(data[0]['input_ids']))\n",
        "                print(\"The first batch looks like ..\\n\", data[0])\n",
        "    \n",
        "    \n",
        "    criterion = nn.CrossEntropyLoss()\n",
        "    \n",
        "    total_steps = len(train_dataloader) * args.train_epochs\n",
        "\n",
        "    ### v2에서 수정됨 (Adam -> AdamW)\n",
        "    optimizer = AdamW(model.parameters(), lr=args.learning_rate, eps=args.adam_epsilon)\n",
        "    scheduler = get_linear_schedule_with_warmup(optimizer, num_warmup_steps=int(total_steps * args.warmup_proportion), \n",
        "                                                num_training_steps=total_steps)\n",
        "\n",
        "    \n",
        "    if use_cuda:\n",
        "        model = model.to(DEVICE)\n",
        "        criterion = criterion.to(DEVICE)\n",
        "        \n",
        "\n",
        "    tr_loss = 0.0\n",
        "    val_loss = 0.0\n",
        "    best_score = 0.0\n",
        "    best_loss = np.inf\n",
        "      \n",
        "\n",
        "    for epoch_num in range(args.train_epochs):\n",
        "\n",
        "            total_acc_train = 0\n",
        "            total_loss_train = 0\n",
        "            \n",
        "            assert mode in ['train', 'val'], 'your mode should be either \\'train\\' or \\'val\\''\n",
        "            \n",
        "            if mode =='train':\n",
        "                for train_input, train_label in tqdm(train_dataloader):\n",
        "                    \n",
        "                    \n",
        "                    mask = train_input['attention_mask'].to(DEVICE)\n",
        "                    input_id = train_input['input_ids'].squeeze(1).to(DEVICE)\n",
        "                    segment_ids = train_input['token_type_ids'].squeeze(1).to(DEVICE)\n",
        "                    train_label = train_label.long().to(DEVICE)  \n",
        "                    \n",
        "                    ### v2에 수정됨\n",
        "                    optimizer.zero_grad()\n",
        " \n",
        "                    output = model(input_id, mask, segment_ids)\n",
        "                    batch_loss = criterion(output[0].view(-1,6), train_label.view(-1))\n",
        "                    total_loss_train += batch_loss.item()\n",
        "\n",
        "                    acc = (output[0].argmax(dim=1) == train_label).sum().item()\n",
        "                    total_acc_train += acc\n",
        "                    \n",
        "                    ### v2에 수정됨\n",
        "                    optimizer.zero_grad()\n",
        "                    \n",
        "                    batch_loss.backward()\n",
        "                    optimizer.step()\n",
        "                    \n",
        "                    ### v2 에 수정됨\n",
        "                    scheduler.step()\n",
        "                    \n",
        "\n",
        "            total_acc_val = 0\n",
        "            total_loss_val = 0\n",
        "            \n",
        "            # validation을 위해 이걸 넣으면 이 evaluation 프로세스 중엔 dropout 레이어가 다르가 동작한다.\n",
        "            model.eval()\n",
        "            \n",
        "            with torch.no_grad():\n",
        "\n",
        "                for val_input, val_label in val_dataloader:\n",
        "\n",
        "                    mask = val_input['attention_mask'].to(DEVICE)\n",
        "                    input_id = val_input['input_ids'].squeeze(1).to(DEVICE)\n",
        "                    segment_ids = val_input['token_type_ids'].squeeze(1).to(DEVICE)\n",
        "                    val_label = val_label.long().to(DEVICE)\n",
        "\n",
        "                    output = model(input_id, mask, segment_ids)\n",
        "                    ### v2 에서 일부 수정 (output -> output[0]로 myClassifier 모델에 정의된대로 logits 가져옴)\n",
        "                    batch_loss = criterion(output[0].view(-1,6), val_label.view(-1))\n",
        "                    total_loss_val += batch_loss.item()\n",
        "                    \n",
        "                    ### v2 에서 일부 수정 (output -> output[0]로 myClassifier 모델에 정의된대로 logits 가져옴)\n",
        "                    acc = (output[0].argmax(dim=1) == val_label).sum().item()\n",
        "                    total_acc_val += acc\n",
        "            \n",
        "            \n",
        "            train_loss = total_loss_train / len(train_data)\n",
        "            train_accuracy = total_acc_train / len(train_data)\n",
        "            val_loss = total_loss_val / len(val_data)\n",
        "            val_accuracy = total_acc_val / len(val_data)\n",
        "            \n",
        "            # 한 Epoch 학습 후 학습/검증에 대해 loss와 평가지표 (여기서는 accuracy로 임의로 설정) 출력\n",
        "            print(\n",
        "                f'Epoch: {epoch_num + 1} \\\n",
        "                | Train Loss: {train_loss: .3f} \\\n",
        "                | Train Accuracy: {train_accuracy: .3f} \\\n",
        "                | Val Loss: {val_loss: .3f} \\\n",
        "                | Val Accuracy: {val_accuracy: .3f}')\n",
        "          \n",
        "            # early_stopping check\n",
        "            early_stopper.check_early_stopping(loss=val_loss)\n",
        "\n",
        "            if early_stopper.stop:\n",
        "                print('Early stopped, Best score : ', best_score)\n",
        "                break\n",
        "\n",
        "            ### v2 에 수정됨\n",
        "            ### loss와 accuracy가 꼭 correlate하진 않습니다.\n",
        "            ### \n",
        "            ### 원본 (필요하다면 다시 해제 후 사용)\n",
        "            # if val_accuracy > best_score : \n",
        "            if val_loss < best_loss :\n",
        "            # 모델이 개선됨 -> 검증 점수와 베스트 loss, weight 갱신\n",
        "                best_score = val_accuracy \n",
        "                \n",
        "                ### v2에서 추가\n",
        "                best_loss =val_loss\n",
        "                # 학습된 모델을 저장할 디렉토리 및 모델 이름 지정\n",
        "                SAVED_MODEL =  os.path.join(args.result_dir, f'best_{args.run}.pt')\n",
        "            \n",
        "                check_point = {\n",
        "                    'model': model.state_dict(),\n",
        "                    'optimizer': optimizer.state_dict(),\n",
        "                    'scheduler': scheduler.state_dict()\n",
        "                }\n",
        "                torch.save(check_point, SAVED_MODEL)  \n",
        "              \n",
        "            # print(\"scheduler : \", scheduler.state_dict())\n",
        "\n",
        "\n",
        "    print(\"train finished\")\n",
        "\n",
        "\n",
        "train(model, train_dataset, val_dataset, args, mode = 'train')"
      ]
    },
    {
      "cell_type": "markdown",
      "id": "6301514c-7d9e-4f37-9e8c-db85e3819b8b",
      "metadata": {
        "id": "6301514c-7d9e-4f37-9e8c-db85e3819b8b"
      },
      "source": [
        "## 6. Test dataset으로 추론 (Prediction)\n",
        "\n",
        "\n",
        "- v2 에서 수정된 부분\n",
        "    - output -> output[0]"
      ]
    },
    {
      "cell_type": "code",
      "execution_count": null,
      "id": "32696c34-b5e6-43b3-a1e7-ed8c2847baa9",
      "metadata": {
        "id": "32696c34-b5e6-43b3-a1e7-ed8c2847baa9"
      },
      "outputs": [],
      "source": [
        "from torch.utils.data import DataLoader\n",
        "\n",
        "# 테스트 데이터셋 불러오기\n",
        "test_data = CustomDataset(test_df, tokenizer = TOKENIZER, max_len= args.max_seq_len, mode='test')\n",
        "\n",
        "def test(model, SAVED_MODEL, test_data, args, mode = 'test'):\n",
        "\n",
        "\n",
        "    test_dataloader = torch.utils.data.DataLoader(test_data, batch_size=args.eval_batch_size)\n",
        "\n",
        "\n",
        "    if use_cuda:\n",
        "\n",
        "        model = model.to(DEVICE)\n",
        "        model.load_state_dict(torch.load(SAVED_MODEL)['model'])\n",
        "\n",
        "\n",
        "    model.eval()\n",
        "\n",
        "    pred = []\n",
        "\n",
        "    with torch.no_grad():\n",
        "        for test_input in test_dataloader:\n",
        "\n",
        "            mask = test_input['attention_mask'].to(DEVICE)\n",
        "            input_id = test_input['input_ids'].squeeze(1).to(DEVICE)\n",
        "            segment_ids = test_input['token_type_ids'].squeeze(1).to(DEVICE)\n",
        "\n",
        "            output = model(input_id, mask, segment_ids)\n",
        "\n",
        "            output = output[0].argmax(dim=1).cpu().tolist()\n",
        "\n",
        "            for label in output:\n",
        "                pred.append(label)\n",
        "                \n",
        "    return pred\n",
        "\n",
        "SAVED_MODEL =  os.path.join(args.result_dir, f'best_{args.run}.pt')\n",
        "\n",
        "pred = test(model, SAVED_MODEL, test_data, args)"
      ]
    },
    {
      "cell_type": "code",
      "execution_count": null,
      "id": "29432647-7a5d-4dda-99af-ad6f151fd2eb",
      "metadata": {
        "id": "29432647-7a5d-4dda-99af-ad6f151fd2eb",
        "colab": {
          "base_uri": "https://localhost:8080/"
        },
        "outputId": "ffc04d11-4f69-4087-c5a3-ceea08f7265a"
      },
      "outputs": [
        {
          "output_type": "stream",
          "name": "stdout",
          "text": [
            "prediction completed for  511 comments\n"
          ]
        }
      ],
      "source": [
        "print(\"prediction completed for \", len(pred), \"comments\")"
      ]
    },
    {
      "cell_type": "markdown",
      "id": "fe8aaf8d-93c6-4998-b005-f32ec5986f46",
      "metadata": {
        "id": "fe8aaf8d-93c6-4998-b005-f32ec5986f46"
      },
      "source": [
        "### "
      ]
    },
    {
      "cell_type": "code",
      "execution_count": null,
      "id": "5ccc3c34-e3a8-4172-8b16-f1c2a5bb5a3e",
      "metadata": {
        "id": "5ccc3c34-e3a8-4172-8b16-f1c2a5bb5a3e",
        "colab": {
          "base_uri": "https://localhost:8080/"
        },
        "outputId": "9b06655d-5484-4a2c-d72c-cbcd388f300e"
      },
      "outputs": [
        {
          "output_type": "stream",
          "name": "stdout",
          "text": [
            "decode Completed!\n"
          ]
        }
      ],
      "source": [
        "# 0-5 사이의 라벨 값 별로 bias, hate로 디코딩 하기 위한 딕셔너리\n",
        "bias_dict = {0: 'none', 1: 'none', 2: 'others', 3:'others', 4:'gender', 5:'gender'}\n",
        "hate_dict = {0: 'none', 1: 'hate', 2: 'none', 3:'hate', 4:'none', 5:'hate'}\n",
        "\n",
        "# 인코딩 값으로 나온 타겟 변수를 디코딩\n",
        "pred_bias = ['' for i in range(len(pred))]\n",
        "pred_hate = ['' for i in range(len(pred))]\n",
        "\n",
        "for idx, label in enumerate(pred):\n",
        "    pred_bias[idx]=(str(bias_dict[label]))\n",
        "    pred_hate[idx]=(str(hate_dict[label]))\n",
        "print('decode Completed!')"
      ]
    },
    {
      "cell_type": "code",
      "execution_count": null,
      "id": "75e6cdb3-8245-468e-aaf0-4e6f328e98c9",
      "metadata": {
        "id": "75e6cdb3-8245-468e-aaf0-4e6f328e98c9",
        "colab": {
          "base_uri": "https://localhost:8080/"
        },
        "outputId": "5e921950-b101-4f93-a677-1c5b55715aad"
      },
      "outputs": [
        {
          "output_type": "execute_result",
          "data": {
            "text/html": [
              "\n",
              "  <div id=\"df-ab2645fc-001b-4dd1-ab35-08838d9c9f53\">\n",
              "    <div class=\"colab-df-container\">\n",
              "      <div>\n",
              "<style scoped>\n",
              "    .dataframe tbody tr th:only-of-type {\n",
              "        vertical-align: middle;\n",
              "    }\n",
              "\n",
              "    .dataframe tbody tr th {\n",
              "        vertical-align: top;\n",
              "    }\n",
              "\n",
              "    .dataframe thead th {\n",
              "        text-align: right;\n",
              "    }\n",
              "</style>\n",
              "<table border=\"1\" class=\"dataframe\">\n",
              "  <thead>\n",
              "    <tr style=\"text-align: right;\">\n",
              "      <th></th>\n",
              "      <th>ID</th>\n",
              "      <th>bias</th>\n",
              "      <th>hate</th>\n",
              "    </tr>\n",
              "  </thead>\n",
              "  <tbody>\n",
              "    <tr>\n",
              "      <th>0</th>\n",
              "      <td>0</td>\n",
              "      <td>none</td>\n",
              "      <td>none</td>\n",
              "    </tr>\n",
              "    <tr>\n",
              "      <th>1</th>\n",
              "      <td>1</td>\n",
              "      <td>none</td>\n",
              "      <td>none</td>\n",
              "    </tr>\n",
              "    <tr>\n",
              "      <th>2</th>\n",
              "      <td>2</td>\n",
              "      <td>none</td>\n",
              "      <td>none</td>\n",
              "    </tr>\n",
              "    <tr>\n",
              "      <th>3</th>\n",
              "      <td>3</td>\n",
              "      <td>none</td>\n",
              "      <td>none</td>\n",
              "    </tr>\n",
              "    <tr>\n",
              "      <th>4</th>\n",
              "      <td>4</td>\n",
              "      <td>none</td>\n",
              "      <td>none</td>\n",
              "    </tr>\n",
              "    <tr>\n",
              "      <th>...</th>\n",
              "      <td>...</td>\n",
              "      <td>...</td>\n",
              "      <td>...</td>\n",
              "    </tr>\n",
              "    <tr>\n",
              "      <th>506</th>\n",
              "      <td>506</td>\n",
              "      <td>none</td>\n",
              "      <td>none</td>\n",
              "    </tr>\n",
              "    <tr>\n",
              "      <th>507</th>\n",
              "      <td>507</td>\n",
              "      <td>none</td>\n",
              "      <td>none</td>\n",
              "    </tr>\n",
              "    <tr>\n",
              "      <th>508</th>\n",
              "      <td>508</td>\n",
              "      <td>none</td>\n",
              "      <td>none</td>\n",
              "    </tr>\n",
              "    <tr>\n",
              "      <th>509</th>\n",
              "      <td>509</td>\n",
              "      <td>none</td>\n",
              "      <td>none</td>\n",
              "    </tr>\n",
              "    <tr>\n",
              "      <th>510</th>\n",
              "      <td>510</td>\n",
              "      <td>none</td>\n",
              "      <td>none</td>\n",
              "    </tr>\n",
              "  </tbody>\n",
              "</table>\n",
              "<p>511 rows × 3 columns</p>\n",
              "</div>\n",
              "      <button class=\"colab-df-convert\" onclick=\"convertToInteractive('df-ab2645fc-001b-4dd1-ab35-08838d9c9f53')\"\n",
              "              title=\"Convert this dataframe to an interactive table.\"\n",
              "              style=\"display:none;\">\n",
              "        \n",
              "  <svg xmlns=\"http://www.w3.org/2000/svg\" height=\"24px\"viewBox=\"0 0 24 24\"\n",
              "       width=\"24px\">\n",
              "    <path d=\"M0 0h24v24H0V0z\" fill=\"none\"/>\n",
              "    <path d=\"M18.56 5.44l.94 2.06.94-2.06 2.06-.94-2.06-.94-.94-2.06-.94 2.06-2.06.94zm-11 1L8.5 8.5l.94-2.06 2.06-.94-2.06-.94L8.5 2.5l-.94 2.06-2.06.94zm10 10l.94 2.06.94-2.06 2.06-.94-2.06-.94-.94-2.06-.94 2.06-2.06.94z\"/><path d=\"M17.41 7.96l-1.37-1.37c-.4-.4-.92-.59-1.43-.59-.52 0-1.04.2-1.43.59L10.3 9.45l-7.72 7.72c-.78.78-.78 2.05 0 2.83L4 21.41c.39.39.9.59 1.41.59.51 0 1.02-.2 1.41-.59l7.78-7.78 2.81-2.81c.8-.78.8-2.07 0-2.86zM5.41 20L4 18.59l7.72-7.72 1.47 1.35L5.41 20z\"/>\n",
              "  </svg>\n",
              "      </button>\n",
              "      \n",
              "  <style>\n",
              "    .colab-df-container {\n",
              "      display:flex;\n",
              "      flex-wrap:wrap;\n",
              "      gap: 12px;\n",
              "    }\n",
              "\n",
              "    .colab-df-convert {\n",
              "      background-color: #E8F0FE;\n",
              "      border: none;\n",
              "      border-radius: 50%;\n",
              "      cursor: pointer;\n",
              "      display: none;\n",
              "      fill: #1967D2;\n",
              "      height: 32px;\n",
              "      padding: 0 0 0 0;\n",
              "      width: 32px;\n",
              "    }\n",
              "\n",
              "    .colab-df-convert:hover {\n",
              "      background-color: #E2EBFA;\n",
              "      box-shadow: 0px 1px 2px rgba(60, 64, 67, 0.3), 0px 1px 3px 1px rgba(60, 64, 67, 0.15);\n",
              "      fill: #174EA6;\n",
              "    }\n",
              "\n",
              "    [theme=dark] .colab-df-convert {\n",
              "      background-color: #3B4455;\n",
              "      fill: #D2E3FC;\n",
              "    }\n",
              "\n",
              "    [theme=dark] .colab-df-convert:hover {\n",
              "      background-color: #434B5C;\n",
              "      box-shadow: 0px 1px 3px 1px rgba(0, 0, 0, 0.15);\n",
              "      filter: drop-shadow(0px 1px 2px rgba(0, 0, 0, 0.3));\n",
              "      fill: #FFFFFF;\n",
              "    }\n",
              "  </style>\n",
              "\n",
              "      <script>\n",
              "        const buttonEl =\n",
              "          document.querySelector('#df-ab2645fc-001b-4dd1-ab35-08838d9c9f53 button.colab-df-convert');\n",
              "        buttonEl.style.display =\n",
              "          google.colab.kernel.accessAllowed ? 'block' : 'none';\n",
              "\n",
              "        async function convertToInteractive(key) {\n",
              "          const element = document.querySelector('#df-ab2645fc-001b-4dd1-ab35-08838d9c9f53');\n",
              "          const dataTable =\n",
              "            await google.colab.kernel.invokeFunction('convertToInteractive',\n",
              "                                                     [key], {});\n",
              "          if (!dataTable) return;\n",
              "\n",
              "          const docLinkHtml = 'Like what you see? Visit the ' +\n",
              "            '<a target=\"_blank\" href=https://colab.research.google.com/notebooks/data_table.ipynb>data table notebook</a>'\n",
              "            + ' to learn more about interactive tables.';\n",
              "          element.innerHTML = '';\n",
              "          dataTable['output_type'] = 'display_data';\n",
              "          await google.colab.output.renderOutput(dataTable, element);\n",
              "          const docLink = document.createElement('div');\n",
              "          docLink.innerHTML = docLinkHtml;\n",
              "          element.appendChild(docLink);\n",
              "        }\n",
              "      </script>\n",
              "    </div>\n",
              "  </div>\n",
              "  "
            ],
            "text/plain": [
              "      ID  bias  hate\n",
              "0      0  none  none\n",
              "1      1  none  none\n",
              "2      2  none  none\n",
              "3      3  none  none\n",
              "4      4  none  none\n",
              "..   ...   ...   ...\n",
              "506  506  none  none\n",
              "507  507  none  none\n",
              "508  508  none  none\n",
              "509  509  none  none\n",
              "510  510  none  none\n",
              "\n",
              "[511 rows x 3 columns]"
            ]
          },
          "metadata": {},
          "execution_count": 61
        }
      ],
      "source": [
        "submit = pd.read_csv(os.path.join(args.data_dir,'sample_submission.csv'))\n",
        "submit"
      ]
    },
    {
      "cell_type": "code",
      "execution_count": null,
      "id": "9265e1ac-0b0b-46eb-a892-307545f8fb33",
      "metadata": {
        "id": "9265e1ac-0b0b-46eb-a892-307545f8fb33",
        "colab": {
          "base_uri": "https://localhost:8080/"
        },
        "outputId": "f5eb68f7-2d17-4086-8363-0836f23610a0"
      },
      "outputs": [
        {
          "output_type": "execute_result",
          "data": {
            "text/html": [
              "\n",
              "  <div id=\"df-ada65cd8-d646-4d98-b255-fab76ccc3ee6\">\n",
              "    <div class=\"colab-df-container\">\n",
              "      <div>\n",
              "<style scoped>\n",
              "    .dataframe tbody tr th:only-of-type {\n",
              "        vertical-align: middle;\n",
              "    }\n",
              "\n",
              "    .dataframe tbody tr th {\n",
              "        vertical-align: top;\n",
              "    }\n",
              "\n",
              "    .dataframe thead th {\n",
              "        text-align: right;\n",
              "    }\n",
              "</style>\n",
              "<table border=\"1\" class=\"dataframe\">\n",
              "  <thead>\n",
              "    <tr style=\"text-align: right;\">\n",
              "      <th></th>\n",
              "      <th>ID</th>\n",
              "      <th>bias</th>\n",
              "      <th>hate</th>\n",
              "    </tr>\n",
              "  </thead>\n",
              "  <tbody>\n",
              "    <tr>\n",
              "      <th>0</th>\n",
              "      <td>0</td>\n",
              "      <td>none</td>\n",
              "      <td>none</td>\n",
              "    </tr>\n",
              "    <tr>\n",
              "      <th>1</th>\n",
              "      <td>1</td>\n",
              "      <td>none</td>\n",
              "      <td>none</td>\n",
              "    </tr>\n",
              "    <tr>\n",
              "      <th>2</th>\n",
              "      <td>2</td>\n",
              "      <td>none</td>\n",
              "      <td>hate</td>\n",
              "    </tr>\n",
              "    <tr>\n",
              "      <th>3</th>\n",
              "      <td>3</td>\n",
              "      <td>others</td>\n",
              "      <td>hate</td>\n",
              "    </tr>\n",
              "    <tr>\n",
              "      <th>4</th>\n",
              "      <td>4</td>\n",
              "      <td>none</td>\n",
              "      <td>none</td>\n",
              "    </tr>\n",
              "    <tr>\n",
              "      <th>...</th>\n",
              "      <td>...</td>\n",
              "      <td>...</td>\n",
              "      <td>...</td>\n",
              "    </tr>\n",
              "    <tr>\n",
              "      <th>506</th>\n",
              "      <td>506</td>\n",
              "      <td>none</td>\n",
              "      <td>hate</td>\n",
              "    </tr>\n",
              "    <tr>\n",
              "      <th>507</th>\n",
              "      <td>507</td>\n",
              "      <td>none</td>\n",
              "      <td>none</td>\n",
              "    </tr>\n",
              "    <tr>\n",
              "      <th>508</th>\n",
              "      <td>508</td>\n",
              "      <td>others</td>\n",
              "      <td>hate</td>\n",
              "    </tr>\n",
              "    <tr>\n",
              "      <th>509</th>\n",
              "      <td>509</td>\n",
              "      <td>none</td>\n",
              "      <td>none</td>\n",
              "    </tr>\n",
              "    <tr>\n",
              "      <th>510</th>\n",
              "      <td>510</td>\n",
              "      <td>none</td>\n",
              "      <td>hate</td>\n",
              "    </tr>\n",
              "  </tbody>\n",
              "</table>\n",
              "<p>511 rows × 3 columns</p>\n",
              "</div>\n",
              "      <button class=\"colab-df-convert\" onclick=\"convertToInteractive('df-ada65cd8-d646-4d98-b255-fab76ccc3ee6')\"\n",
              "              title=\"Convert this dataframe to an interactive table.\"\n",
              "              style=\"display:none;\">\n",
              "        \n",
              "  <svg xmlns=\"http://www.w3.org/2000/svg\" height=\"24px\"viewBox=\"0 0 24 24\"\n",
              "       width=\"24px\">\n",
              "    <path d=\"M0 0h24v24H0V0z\" fill=\"none\"/>\n",
              "    <path d=\"M18.56 5.44l.94 2.06.94-2.06 2.06-.94-2.06-.94-.94-2.06-.94 2.06-2.06.94zm-11 1L8.5 8.5l.94-2.06 2.06-.94-2.06-.94L8.5 2.5l-.94 2.06-2.06.94zm10 10l.94 2.06.94-2.06 2.06-.94-2.06-.94-.94-2.06-.94 2.06-2.06.94z\"/><path d=\"M17.41 7.96l-1.37-1.37c-.4-.4-.92-.59-1.43-.59-.52 0-1.04.2-1.43.59L10.3 9.45l-7.72 7.72c-.78.78-.78 2.05 0 2.83L4 21.41c.39.39.9.59 1.41.59.51 0 1.02-.2 1.41-.59l7.78-7.78 2.81-2.81c.8-.78.8-2.07 0-2.86zM5.41 20L4 18.59l7.72-7.72 1.47 1.35L5.41 20z\"/>\n",
              "  </svg>\n",
              "      </button>\n",
              "      \n",
              "  <style>\n",
              "    .colab-df-container {\n",
              "      display:flex;\n",
              "      flex-wrap:wrap;\n",
              "      gap: 12px;\n",
              "    }\n",
              "\n",
              "    .colab-df-convert {\n",
              "      background-color: #E8F0FE;\n",
              "      border: none;\n",
              "      border-radius: 50%;\n",
              "      cursor: pointer;\n",
              "      display: none;\n",
              "      fill: #1967D2;\n",
              "      height: 32px;\n",
              "      padding: 0 0 0 0;\n",
              "      width: 32px;\n",
              "    }\n",
              "\n",
              "    .colab-df-convert:hover {\n",
              "      background-color: #E2EBFA;\n",
              "      box-shadow: 0px 1px 2px rgba(60, 64, 67, 0.3), 0px 1px 3px 1px rgba(60, 64, 67, 0.15);\n",
              "      fill: #174EA6;\n",
              "    }\n",
              "\n",
              "    [theme=dark] .colab-df-convert {\n",
              "      background-color: #3B4455;\n",
              "      fill: #D2E3FC;\n",
              "    }\n",
              "\n",
              "    [theme=dark] .colab-df-convert:hover {\n",
              "      background-color: #434B5C;\n",
              "      box-shadow: 0px 1px 3px 1px rgba(0, 0, 0, 0.15);\n",
              "      filter: drop-shadow(0px 1px 2px rgba(0, 0, 0, 0.3));\n",
              "      fill: #FFFFFF;\n",
              "    }\n",
              "  </style>\n",
              "\n",
              "      <script>\n",
              "        const buttonEl =\n",
              "          document.querySelector('#df-ada65cd8-d646-4d98-b255-fab76ccc3ee6 button.colab-df-convert');\n",
              "        buttonEl.style.display =\n",
              "          google.colab.kernel.accessAllowed ? 'block' : 'none';\n",
              "\n",
              "        async function convertToInteractive(key) {\n",
              "          const element = document.querySelector('#df-ada65cd8-d646-4d98-b255-fab76ccc3ee6');\n",
              "          const dataTable =\n",
              "            await google.colab.kernel.invokeFunction('convertToInteractive',\n",
              "                                                     [key], {});\n",
              "          if (!dataTable) return;\n",
              "\n",
              "          const docLinkHtml = 'Like what you see? Visit the ' +\n",
              "            '<a target=\"_blank\" href=https://colab.research.google.com/notebooks/data_table.ipynb>data table notebook</a>'\n",
              "            + ' to learn more about interactive tables.';\n",
              "          element.innerHTML = '';\n",
              "          dataTable['output_type'] = 'display_data';\n",
              "          await google.colab.output.renderOutput(dataTable, element);\n",
              "          const docLink = document.createElement('div');\n",
              "          docLink.innerHTML = docLinkHtml;\n",
              "          element.appendChild(docLink);\n",
              "        }\n",
              "      </script>\n",
              "    </div>\n",
              "  </div>\n",
              "  "
            ],
            "text/plain": [
              "      ID    bias  hate\n",
              "0      0    none  none\n",
              "1      1    none  none\n",
              "2      2    none  hate\n",
              "3      3  others  hate\n",
              "4      4    none  none\n",
              "..   ...     ...   ...\n",
              "506  506    none  hate\n",
              "507  507    none  none\n",
              "508  508  others  hate\n",
              "509  509    none  none\n",
              "510  510    none  hate\n",
              "\n",
              "[511 rows x 3 columns]"
            ]
          },
          "metadata": {},
          "execution_count": 62
        }
      ],
      "source": [
        "submit['bias'] = pred_bias\n",
        "submit['hate'] = pred_hate\n",
        "submit"
      ]
    },
    {
      "cell_type": "code",
      "execution_count": null,
      "id": "964b5159-8ffe-4cc2-833b-3c4b0c857022",
      "metadata": {
        "id": "964b5159-8ffe-4cc2-833b-3c4b0c857022"
      },
      "outputs": [],
      "source": [
        "submit.to_csv(os.path.join(args.data_dir, 'sub.csv'), index=False)"
      ]
    }
  ],
  "metadata": {
    "kernelspec": {
      "display_name": "Python 3 (ipykernel)",
      "language": "python",
      "name": "python3"
    },
    "language_info": {
      "codemirror_mode": {
        "name": "ipython",
        "version": 3
      },
      "file_extension": ".py",
      "mimetype": "text/x-python",
      "name": "python",
      "nbconvert_exporter": "python",
      "pygments_lexer": "ipython3",
      "version": "3.8.5"
    },
    "colab": {
      "name": "team2.ipynb",
      "provenance": [],
      "collapsed_sections": []
    },
    "widgets": {
      "application/vnd.jupyter.widget-state+json": {
        "1d1016fee95c4d1a8c525b195163f870": {
          "model_module": "@jupyter-widgets/controls",
          "model_name": "HBoxModel",
          "model_module_version": "1.5.0",
          "state": {
            "_view_name": "HBoxView",
            "_dom_classes": [],
            "_model_name": "HBoxModel",
            "_view_module": "@jupyter-widgets/controls",
            "_model_module_version": "1.5.0",
            "_view_count": null,
            "_view_module_version": "1.5.0",
            "box_style": "",
            "layout": "IPY_MODEL_770e2d4702314b979977a4d4c9479d92",
            "_model_module": "@jupyter-widgets/controls",
            "children": [
              "IPY_MODEL_f5b85caa9f2042dfa9f3b1503fafa11f",
              "IPY_MODEL_9bdcd3033bf6403b843232e2ed0ff749",
              "IPY_MODEL_549962fd5ed1448182478a7b9b75bc9c"
            ]
          }
        },
        "770e2d4702314b979977a4d4c9479d92": {
          "model_module": "@jupyter-widgets/base",
          "model_name": "LayoutModel",
          "model_module_version": "1.2.0",
          "state": {
            "_view_name": "LayoutView",
            "grid_template_rows": null,
            "right": null,
            "justify_content": null,
            "_view_module": "@jupyter-widgets/base",
            "overflow": null,
            "_model_module_version": "1.2.0",
            "_view_count": null,
            "flex_flow": null,
            "width": null,
            "min_width": null,
            "border": null,
            "align_items": null,
            "bottom": null,
            "_model_module": "@jupyter-widgets/base",
            "top": null,
            "grid_column": null,
            "overflow_y": null,
            "overflow_x": null,
            "grid_auto_flow": null,
            "grid_area": null,
            "grid_template_columns": null,
            "flex": null,
            "_model_name": "LayoutModel",
            "justify_items": null,
            "grid_row": null,
            "max_height": null,
            "align_content": null,
            "visibility": null,
            "align_self": null,
            "height": null,
            "min_height": null,
            "padding": null,
            "grid_auto_rows": null,
            "grid_gap": null,
            "max_width": null,
            "order": null,
            "_view_module_version": "1.2.0",
            "grid_template_areas": null,
            "object_position": null,
            "object_fit": null,
            "grid_auto_columns": null,
            "margin": null,
            "display": null,
            "left": null
          }
        },
        "f5b85caa9f2042dfa9f3b1503fafa11f": {
          "model_module": "@jupyter-widgets/controls",
          "model_name": "HTMLModel",
          "model_module_version": "1.5.0",
          "state": {
            "_view_name": "HTMLView",
            "style": "IPY_MODEL_ecb9053b74de42869ee30c82eb48d2b3",
            "_dom_classes": [],
            "description": "",
            "_model_name": "HTMLModel",
            "placeholder": "​",
            "_view_module": "@jupyter-widgets/controls",
            "_model_module_version": "1.5.0",
            "value": "Downloading: 100%",
            "_view_count": null,
            "_view_module_version": "1.5.0",
            "description_tooltip": null,
            "_model_module": "@jupyter-widgets/controls",
            "layout": "IPY_MODEL_440558cdac72445aaf9fc25a20871f1e"
          }
        },
        "9bdcd3033bf6403b843232e2ed0ff749": {
          "model_module": "@jupyter-widgets/controls",
          "model_name": "FloatProgressModel",
          "model_module_version": "1.5.0",
          "state": {
            "_view_name": "ProgressView",
            "style": "IPY_MODEL_9dbb929561bf4292b96ac5494011bf8f",
            "_dom_classes": [],
            "description": "",
            "_model_name": "FloatProgressModel",
            "bar_style": "success",
            "max": 396417,
            "_view_module": "@jupyter-widgets/controls",
            "_model_module_version": "1.5.0",
            "value": 396417,
            "_view_count": null,
            "_view_module_version": "1.5.0",
            "orientation": "horizontal",
            "min": 0,
            "description_tooltip": null,
            "_model_module": "@jupyter-widgets/controls",
            "layout": "IPY_MODEL_86683982a7ba45b1b51410c62435e1d0"
          }
        },
        "549962fd5ed1448182478a7b9b75bc9c": {
          "model_module": "@jupyter-widgets/controls",
          "model_name": "HTMLModel",
          "model_module_version": "1.5.0",
          "state": {
            "_view_name": "HTMLView",
            "style": "IPY_MODEL_8a3f402fd8e243b4ba54ee0159f27067",
            "_dom_classes": [],
            "description": "",
            "_model_name": "HTMLModel",
            "placeholder": "​",
            "_view_module": "@jupyter-widgets/controls",
            "_model_module_version": "1.5.0",
            "value": " 387k/387k [00:00&lt;00:00, 1.13MB/s]",
            "_view_count": null,
            "_view_module_version": "1.5.0",
            "description_tooltip": null,
            "_model_module": "@jupyter-widgets/controls",
            "layout": "IPY_MODEL_925cc2c7c4e94cb783e07ab19a1b83fa"
          }
        },
        "ecb9053b74de42869ee30c82eb48d2b3": {
          "model_module": "@jupyter-widgets/controls",
          "model_name": "DescriptionStyleModel",
          "model_module_version": "1.5.0",
          "state": {
            "_view_name": "StyleView",
            "_model_name": "DescriptionStyleModel",
            "description_width": "",
            "_view_module": "@jupyter-widgets/base",
            "_model_module_version": "1.5.0",
            "_view_count": null,
            "_view_module_version": "1.2.0",
            "_model_module": "@jupyter-widgets/controls"
          }
        },
        "440558cdac72445aaf9fc25a20871f1e": {
          "model_module": "@jupyter-widgets/base",
          "model_name": "LayoutModel",
          "model_module_version": "1.2.0",
          "state": {
            "_view_name": "LayoutView",
            "grid_template_rows": null,
            "right": null,
            "justify_content": null,
            "_view_module": "@jupyter-widgets/base",
            "overflow": null,
            "_model_module_version": "1.2.0",
            "_view_count": null,
            "flex_flow": null,
            "width": null,
            "min_width": null,
            "border": null,
            "align_items": null,
            "bottom": null,
            "_model_module": "@jupyter-widgets/base",
            "top": null,
            "grid_column": null,
            "overflow_y": null,
            "overflow_x": null,
            "grid_auto_flow": null,
            "grid_area": null,
            "grid_template_columns": null,
            "flex": null,
            "_model_name": "LayoutModel",
            "justify_items": null,
            "grid_row": null,
            "max_height": null,
            "align_content": null,
            "visibility": null,
            "align_self": null,
            "height": null,
            "min_height": null,
            "padding": null,
            "grid_auto_rows": null,
            "grid_gap": null,
            "max_width": null,
            "order": null,
            "_view_module_version": "1.2.0",
            "grid_template_areas": null,
            "object_position": null,
            "object_fit": null,
            "grid_auto_columns": null,
            "margin": null,
            "display": null,
            "left": null
          }
        },
        "9dbb929561bf4292b96ac5494011bf8f": {
          "model_module": "@jupyter-widgets/controls",
          "model_name": "ProgressStyleModel",
          "model_module_version": "1.5.0",
          "state": {
            "_view_name": "StyleView",
            "_model_name": "ProgressStyleModel",
            "description_width": "",
            "_view_module": "@jupyter-widgets/base",
            "_model_module_version": "1.5.0",
            "_view_count": null,
            "_view_module_version": "1.2.0",
            "bar_color": null,
            "_model_module": "@jupyter-widgets/controls"
          }
        },
        "86683982a7ba45b1b51410c62435e1d0": {
          "model_module": "@jupyter-widgets/base",
          "model_name": "LayoutModel",
          "model_module_version": "1.2.0",
          "state": {
            "_view_name": "LayoutView",
            "grid_template_rows": null,
            "right": null,
            "justify_content": null,
            "_view_module": "@jupyter-widgets/base",
            "overflow": null,
            "_model_module_version": "1.2.0",
            "_view_count": null,
            "flex_flow": null,
            "width": null,
            "min_width": null,
            "border": null,
            "align_items": null,
            "bottom": null,
            "_model_module": "@jupyter-widgets/base",
            "top": null,
            "grid_column": null,
            "overflow_y": null,
            "overflow_x": null,
            "grid_auto_flow": null,
            "grid_area": null,
            "grid_template_columns": null,
            "flex": null,
            "_model_name": "LayoutModel",
            "justify_items": null,
            "grid_row": null,
            "max_height": null,
            "align_content": null,
            "visibility": null,
            "align_self": null,
            "height": null,
            "min_height": null,
            "padding": null,
            "grid_auto_rows": null,
            "grid_gap": null,
            "max_width": null,
            "order": null,
            "_view_module_version": "1.2.0",
            "grid_template_areas": null,
            "object_position": null,
            "object_fit": null,
            "grid_auto_columns": null,
            "margin": null,
            "display": null,
            "left": null
          }
        },
        "8a3f402fd8e243b4ba54ee0159f27067": {
          "model_module": "@jupyter-widgets/controls",
          "model_name": "DescriptionStyleModel",
          "model_module_version": "1.5.0",
          "state": {
            "_view_name": "StyleView",
            "_model_name": "DescriptionStyleModel",
            "description_width": "",
            "_view_module": "@jupyter-widgets/base",
            "_model_module_version": "1.5.0",
            "_view_count": null,
            "_view_module_version": "1.2.0",
            "_model_module": "@jupyter-widgets/controls"
          }
        },
        "925cc2c7c4e94cb783e07ab19a1b83fa": {
          "model_module": "@jupyter-widgets/base",
          "model_name": "LayoutModel",
          "model_module_version": "1.2.0",
          "state": {
            "_view_name": "LayoutView",
            "grid_template_rows": null,
            "right": null,
            "justify_content": null,
            "_view_module": "@jupyter-widgets/base",
            "overflow": null,
            "_model_module_version": "1.2.0",
            "_view_count": null,
            "flex_flow": null,
            "width": null,
            "min_width": null,
            "border": null,
            "align_items": null,
            "bottom": null,
            "_model_module": "@jupyter-widgets/base",
            "top": null,
            "grid_column": null,
            "overflow_y": null,
            "overflow_x": null,
            "grid_auto_flow": null,
            "grid_area": null,
            "grid_template_columns": null,
            "flex": null,
            "_model_name": "LayoutModel",
            "justify_items": null,
            "grid_row": null,
            "max_height": null,
            "align_content": null,
            "visibility": null,
            "align_self": null,
            "height": null,
            "min_height": null,
            "padding": null,
            "grid_auto_rows": null,
            "grid_gap": null,
            "max_width": null,
            "order": null,
            "_view_module_version": "1.2.0",
            "grid_template_areas": null,
            "object_position": null,
            "object_fit": null,
            "grid_auto_columns": null,
            "margin": null,
            "display": null,
            "left": null
          }
        },
        "8a6b16f83c4849df90165c5367652f59": {
          "model_module": "@jupyter-widgets/controls",
          "model_name": "HBoxModel",
          "model_module_version": "1.5.0",
          "state": {
            "_view_name": "HBoxView",
            "_dom_classes": [],
            "_model_name": "HBoxModel",
            "_view_module": "@jupyter-widgets/controls",
            "_model_module_version": "1.5.0",
            "_view_count": null,
            "_view_module_version": "1.5.0",
            "box_style": "",
            "layout": "IPY_MODEL_f9ac1f472f394527abc4b8a803cb26d3",
            "_model_module": "@jupyter-widgets/controls",
            "children": [
              "IPY_MODEL_b44fcc1a1dd84a7099fbfe6c14e60002",
              "IPY_MODEL_0839a63f0087477caef1d1c554b317e7",
              "IPY_MODEL_e803d261ddc94cea9511b9a966241c3c"
            ]
          }
        },
        "f9ac1f472f394527abc4b8a803cb26d3": {
          "model_module": "@jupyter-widgets/base",
          "model_name": "LayoutModel",
          "model_module_version": "1.2.0",
          "state": {
            "_view_name": "LayoutView",
            "grid_template_rows": null,
            "right": null,
            "justify_content": null,
            "_view_module": "@jupyter-widgets/base",
            "overflow": null,
            "_model_module_version": "1.2.0",
            "_view_count": null,
            "flex_flow": null,
            "width": null,
            "min_width": null,
            "border": null,
            "align_items": null,
            "bottom": null,
            "_model_module": "@jupyter-widgets/base",
            "top": null,
            "grid_column": null,
            "overflow_y": null,
            "overflow_x": null,
            "grid_auto_flow": null,
            "grid_area": null,
            "grid_template_columns": null,
            "flex": null,
            "_model_name": "LayoutModel",
            "justify_items": null,
            "grid_row": null,
            "max_height": null,
            "align_content": null,
            "visibility": null,
            "align_self": null,
            "height": null,
            "min_height": null,
            "padding": null,
            "grid_auto_rows": null,
            "grid_gap": null,
            "max_width": null,
            "order": null,
            "_view_module_version": "1.2.0",
            "grid_template_areas": null,
            "object_position": null,
            "object_fit": null,
            "grid_auto_columns": null,
            "margin": null,
            "display": null,
            "left": null
          }
        },
        "b44fcc1a1dd84a7099fbfe6c14e60002": {
          "model_module": "@jupyter-widgets/controls",
          "model_name": "HTMLModel",
          "model_module_version": "1.5.0",
          "state": {
            "_view_name": "HTMLView",
            "style": "IPY_MODEL_fa12f13ae67d48fa99a094f8b7b92d45",
            "_dom_classes": [],
            "description": "",
            "_model_name": "HTMLModel",
            "placeholder": "​",
            "_view_module": "@jupyter-widgets/controls",
            "_model_module_version": "1.5.0",
            "value": "Downloading: 100%",
            "_view_count": null,
            "_view_module_version": "1.5.0",
            "description_tooltip": null,
            "_model_module": "@jupyter-widgets/controls",
            "layout": "IPY_MODEL_b754de28e977440cb8296ed672499a62"
          }
        },
        "0839a63f0087477caef1d1c554b317e7": {
          "model_module": "@jupyter-widgets/controls",
          "model_name": "FloatProgressModel",
          "model_module_version": "1.5.0",
          "state": {
            "_view_name": "ProgressView",
            "style": "IPY_MODEL_965dec1042054ba5984a6fe940215625",
            "_dom_classes": [],
            "description": "",
            "_model_name": "FloatProgressModel",
            "bar_style": "success",
            "max": 124,
            "_view_module": "@jupyter-widgets/controls",
            "_model_module_version": "1.5.0",
            "value": 124,
            "_view_count": null,
            "_view_module_version": "1.5.0",
            "orientation": "horizontal",
            "min": 0,
            "description_tooltip": null,
            "_model_module": "@jupyter-widgets/controls",
            "layout": "IPY_MODEL_505cec3a019e4739bce8d9ba3a1388b5"
          }
        },
        "e803d261ddc94cea9511b9a966241c3c": {
          "model_module": "@jupyter-widgets/controls",
          "model_name": "HTMLModel",
          "model_module_version": "1.5.0",
          "state": {
            "_view_name": "HTMLView",
            "style": "IPY_MODEL_f3b98611f5a04e078691ec459a94ccb7",
            "_dom_classes": [],
            "description": "",
            "_model_name": "HTMLModel",
            "placeholder": "​",
            "_view_module": "@jupyter-widgets/controls",
            "_model_module_version": "1.5.0",
            "value": " 124/124 [00:00&lt;00:00, 3.08kB/s]",
            "_view_count": null,
            "_view_module_version": "1.5.0",
            "description_tooltip": null,
            "_model_module": "@jupyter-widgets/controls",
            "layout": "IPY_MODEL_acf3f22d14704dee917a7b99eea425cd"
          }
        },
        "fa12f13ae67d48fa99a094f8b7b92d45": {
          "model_module": "@jupyter-widgets/controls",
          "model_name": "DescriptionStyleModel",
          "model_module_version": "1.5.0",
          "state": {
            "_view_name": "StyleView",
            "_model_name": "DescriptionStyleModel",
            "description_width": "",
            "_view_module": "@jupyter-widgets/base",
            "_model_module_version": "1.5.0",
            "_view_count": null,
            "_view_module_version": "1.2.0",
            "_model_module": "@jupyter-widgets/controls"
          }
        },
        "b754de28e977440cb8296ed672499a62": {
          "model_module": "@jupyter-widgets/base",
          "model_name": "LayoutModel",
          "model_module_version": "1.2.0",
          "state": {
            "_view_name": "LayoutView",
            "grid_template_rows": null,
            "right": null,
            "justify_content": null,
            "_view_module": "@jupyter-widgets/base",
            "overflow": null,
            "_model_module_version": "1.2.0",
            "_view_count": null,
            "flex_flow": null,
            "width": null,
            "min_width": null,
            "border": null,
            "align_items": null,
            "bottom": null,
            "_model_module": "@jupyter-widgets/base",
            "top": null,
            "grid_column": null,
            "overflow_y": null,
            "overflow_x": null,
            "grid_auto_flow": null,
            "grid_area": null,
            "grid_template_columns": null,
            "flex": null,
            "_model_name": "LayoutModel",
            "justify_items": null,
            "grid_row": null,
            "max_height": null,
            "align_content": null,
            "visibility": null,
            "align_self": null,
            "height": null,
            "min_height": null,
            "padding": null,
            "grid_auto_rows": null,
            "grid_gap": null,
            "max_width": null,
            "order": null,
            "_view_module_version": "1.2.0",
            "grid_template_areas": null,
            "object_position": null,
            "object_fit": null,
            "grid_auto_columns": null,
            "margin": null,
            "display": null,
            "left": null
          }
        },
        "965dec1042054ba5984a6fe940215625": {
          "model_module": "@jupyter-widgets/controls",
          "model_name": "ProgressStyleModel",
          "model_module_version": "1.5.0",
          "state": {
            "_view_name": "StyleView",
            "_model_name": "ProgressStyleModel",
            "description_width": "",
            "_view_module": "@jupyter-widgets/base",
            "_model_module_version": "1.5.0",
            "_view_count": null,
            "_view_module_version": "1.2.0",
            "bar_color": null,
            "_model_module": "@jupyter-widgets/controls"
          }
        },
        "505cec3a019e4739bce8d9ba3a1388b5": {
          "model_module": "@jupyter-widgets/base",
          "model_name": "LayoutModel",
          "model_module_version": "1.2.0",
          "state": {
            "_view_name": "LayoutView",
            "grid_template_rows": null,
            "right": null,
            "justify_content": null,
            "_view_module": "@jupyter-widgets/base",
            "overflow": null,
            "_model_module_version": "1.2.0",
            "_view_count": null,
            "flex_flow": null,
            "width": null,
            "min_width": null,
            "border": null,
            "align_items": null,
            "bottom": null,
            "_model_module": "@jupyter-widgets/base",
            "top": null,
            "grid_column": null,
            "overflow_y": null,
            "overflow_x": null,
            "grid_auto_flow": null,
            "grid_area": null,
            "grid_template_columns": null,
            "flex": null,
            "_model_name": "LayoutModel",
            "justify_items": null,
            "grid_row": null,
            "max_height": null,
            "align_content": null,
            "visibility": null,
            "align_self": null,
            "height": null,
            "min_height": null,
            "padding": null,
            "grid_auto_rows": null,
            "grid_gap": null,
            "max_width": null,
            "order": null,
            "_view_module_version": "1.2.0",
            "grid_template_areas": null,
            "object_position": null,
            "object_fit": null,
            "grid_auto_columns": null,
            "margin": null,
            "display": null,
            "left": null
          }
        },
        "f3b98611f5a04e078691ec459a94ccb7": {
          "model_module": "@jupyter-widgets/controls",
          "model_name": "DescriptionStyleModel",
          "model_module_version": "1.5.0",
          "state": {
            "_view_name": "StyleView",
            "_model_name": "DescriptionStyleModel",
            "description_width": "",
            "_view_module": "@jupyter-widgets/base",
            "_model_module_version": "1.5.0",
            "_view_count": null,
            "_view_module_version": "1.2.0",
            "_model_module": "@jupyter-widgets/controls"
          }
        },
        "acf3f22d14704dee917a7b99eea425cd": {
          "model_module": "@jupyter-widgets/base",
          "model_name": "LayoutModel",
          "model_module_version": "1.2.0",
          "state": {
            "_view_name": "LayoutView",
            "grid_template_rows": null,
            "right": null,
            "justify_content": null,
            "_view_module": "@jupyter-widgets/base",
            "overflow": null,
            "_model_module_version": "1.2.0",
            "_view_count": null,
            "flex_flow": null,
            "width": null,
            "min_width": null,
            "border": null,
            "align_items": null,
            "bottom": null,
            "_model_module": "@jupyter-widgets/base",
            "top": null,
            "grid_column": null,
            "overflow_y": null,
            "overflow_x": null,
            "grid_auto_flow": null,
            "grid_area": null,
            "grid_template_columns": null,
            "flex": null,
            "_model_name": "LayoutModel",
            "justify_items": null,
            "grid_row": null,
            "max_height": null,
            "align_content": null,
            "visibility": null,
            "align_self": null,
            "height": null,
            "min_height": null,
            "padding": null,
            "grid_auto_rows": null,
            "grid_gap": null,
            "max_width": null,
            "order": null,
            "_view_module_version": "1.2.0",
            "grid_template_areas": null,
            "object_position": null,
            "object_fit": null,
            "grid_auto_columns": null,
            "margin": null,
            "display": null,
            "left": null
          }
        },
        "0c36ec4af76a4c3f9f225e069f43d526": {
          "model_module": "@jupyter-widgets/controls",
          "model_name": "HBoxModel",
          "model_module_version": "1.5.0",
          "state": {
            "_view_name": "HBoxView",
            "_dom_classes": [],
            "_model_name": "HBoxModel",
            "_view_module": "@jupyter-widgets/controls",
            "_model_module_version": "1.5.0",
            "_view_count": null,
            "_view_module_version": "1.5.0",
            "box_style": "",
            "layout": "IPY_MODEL_0c7d88b76b0246929512607c87ef5e2e",
            "_model_module": "@jupyter-widgets/controls",
            "children": [
              "IPY_MODEL_b363e32218df4ac5abcea6afafa347f7",
              "IPY_MODEL_20a02015ff3e4efcb22069666f9c9d4e",
              "IPY_MODEL_8a302a4afb8b4135862fa021b78cdc65"
            ]
          }
        },
        "0c7d88b76b0246929512607c87ef5e2e": {
          "model_module": "@jupyter-widgets/base",
          "model_name": "LayoutModel",
          "model_module_version": "1.2.0",
          "state": {
            "_view_name": "LayoutView",
            "grid_template_rows": null,
            "right": null,
            "justify_content": null,
            "_view_module": "@jupyter-widgets/base",
            "overflow": null,
            "_model_module_version": "1.2.0",
            "_view_count": null,
            "flex_flow": null,
            "width": null,
            "min_width": null,
            "border": null,
            "align_items": null,
            "bottom": null,
            "_model_module": "@jupyter-widgets/base",
            "top": null,
            "grid_column": null,
            "overflow_y": null,
            "overflow_x": null,
            "grid_auto_flow": null,
            "grid_area": null,
            "grid_template_columns": null,
            "flex": null,
            "_model_name": "LayoutModel",
            "justify_items": null,
            "grid_row": null,
            "max_height": null,
            "align_content": null,
            "visibility": null,
            "align_self": null,
            "height": null,
            "min_height": null,
            "padding": null,
            "grid_auto_rows": null,
            "grid_gap": null,
            "max_width": null,
            "order": null,
            "_view_module_version": "1.2.0",
            "grid_template_areas": null,
            "object_position": null,
            "object_fit": null,
            "grid_auto_columns": null,
            "margin": null,
            "display": null,
            "left": null
          }
        },
        "b363e32218df4ac5abcea6afafa347f7": {
          "model_module": "@jupyter-widgets/controls",
          "model_name": "HTMLModel",
          "model_module_version": "1.5.0",
          "state": {
            "_view_name": "HTMLView",
            "style": "IPY_MODEL_bed128299496438d97f5948aeccbf447",
            "_dom_classes": [],
            "description": "",
            "_model_name": "HTMLModel",
            "placeholder": "​",
            "_view_module": "@jupyter-widgets/controls",
            "_model_module_version": "1.5.0",
            "value": "Downloading: 100%",
            "_view_count": null,
            "_view_module_version": "1.5.0",
            "description_tooltip": null,
            "_model_module": "@jupyter-widgets/controls",
            "layout": "IPY_MODEL_afde3f561bb94b38a795d0aaf569daf2"
          }
        },
        "20a02015ff3e4efcb22069666f9c9d4e": {
          "model_module": "@jupyter-widgets/controls",
          "model_name": "FloatProgressModel",
          "model_module_version": "1.5.0",
          "state": {
            "_view_name": "ProgressView",
            "style": "IPY_MODEL_d8e4d42dda4c4b5ba8360cf72102ae5d",
            "_dom_classes": [],
            "description": "",
            "_model_name": "FloatProgressModel",
            "bar_style": "success",
            "max": 288,
            "_view_module": "@jupyter-widgets/controls",
            "_model_module_version": "1.5.0",
            "value": 288,
            "_view_count": null,
            "_view_module_version": "1.5.0",
            "orientation": "horizontal",
            "min": 0,
            "description_tooltip": null,
            "_model_module": "@jupyter-widgets/controls",
            "layout": "IPY_MODEL_6960bd0833ef47e183599a168ce21385"
          }
        },
        "8a302a4afb8b4135862fa021b78cdc65": {
          "model_module": "@jupyter-widgets/controls",
          "model_name": "HTMLModel",
          "model_module_version": "1.5.0",
          "state": {
            "_view_name": "HTMLView",
            "style": "IPY_MODEL_67db1b0e1a054c0d90e7aad2268ac5ce",
            "_dom_classes": [],
            "description": "",
            "_model_name": "HTMLModel",
            "placeholder": "​",
            "_view_module": "@jupyter-widgets/controls",
            "_model_module_version": "1.5.0",
            "value": " 288/288 [00:00&lt;00:00, 7.81kB/s]",
            "_view_count": null,
            "_view_module_version": "1.5.0",
            "description_tooltip": null,
            "_model_module": "@jupyter-widgets/controls",
            "layout": "IPY_MODEL_cdc336c00894447aae97012da17a0ec6"
          }
        },
        "bed128299496438d97f5948aeccbf447": {
          "model_module": "@jupyter-widgets/controls",
          "model_name": "DescriptionStyleModel",
          "model_module_version": "1.5.0",
          "state": {
            "_view_name": "StyleView",
            "_model_name": "DescriptionStyleModel",
            "description_width": "",
            "_view_module": "@jupyter-widgets/base",
            "_model_module_version": "1.5.0",
            "_view_count": null,
            "_view_module_version": "1.2.0",
            "_model_module": "@jupyter-widgets/controls"
          }
        },
        "afde3f561bb94b38a795d0aaf569daf2": {
          "model_module": "@jupyter-widgets/base",
          "model_name": "LayoutModel",
          "model_module_version": "1.2.0",
          "state": {
            "_view_name": "LayoutView",
            "grid_template_rows": null,
            "right": null,
            "justify_content": null,
            "_view_module": "@jupyter-widgets/base",
            "overflow": null,
            "_model_module_version": "1.2.0",
            "_view_count": null,
            "flex_flow": null,
            "width": null,
            "min_width": null,
            "border": null,
            "align_items": null,
            "bottom": null,
            "_model_module": "@jupyter-widgets/base",
            "top": null,
            "grid_column": null,
            "overflow_y": null,
            "overflow_x": null,
            "grid_auto_flow": null,
            "grid_area": null,
            "grid_template_columns": null,
            "flex": null,
            "_model_name": "LayoutModel",
            "justify_items": null,
            "grid_row": null,
            "max_height": null,
            "align_content": null,
            "visibility": null,
            "align_self": null,
            "height": null,
            "min_height": null,
            "padding": null,
            "grid_auto_rows": null,
            "grid_gap": null,
            "max_width": null,
            "order": null,
            "_view_module_version": "1.2.0",
            "grid_template_areas": null,
            "object_position": null,
            "object_fit": null,
            "grid_auto_columns": null,
            "margin": null,
            "display": null,
            "left": null
          }
        },
        "d8e4d42dda4c4b5ba8360cf72102ae5d": {
          "model_module": "@jupyter-widgets/controls",
          "model_name": "ProgressStyleModel",
          "model_module_version": "1.5.0",
          "state": {
            "_view_name": "StyleView",
            "_model_name": "ProgressStyleModel",
            "description_width": "",
            "_view_module": "@jupyter-widgets/base",
            "_model_module_version": "1.5.0",
            "_view_count": null,
            "_view_module_version": "1.2.0",
            "bar_color": null,
            "_model_module": "@jupyter-widgets/controls"
          }
        },
        "6960bd0833ef47e183599a168ce21385": {
          "model_module": "@jupyter-widgets/base",
          "model_name": "LayoutModel",
          "model_module_version": "1.2.0",
          "state": {
            "_view_name": "LayoutView",
            "grid_template_rows": null,
            "right": null,
            "justify_content": null,
            "_view_module": "@jupyter-widgets/base",
            "overflow": null,
            "_model_module_version": "1.2.0",
            "_view_count": null,
            "flex_flow": null,
            "width": null,
            "min_width": null,
            "border": null,
            "align_items": null,
            "bottom": null,
            "_model_module": "@jupyter-widgets/base",
            "top": null,
            "grid_column": null,
            "overflow_y": null,
            "overflow_x": null,
            "grid_auto_flow": null,
            "grid_area": null,
            "grid_template_columns": null,
            "flex": null,
            "_model_name": "LayoutModel",
            "justify_items": null,
            "grid_row": null,
            "max_height": null,
            "align_content": null,
            "visibility": null,
            "align_self": null,
            "height": null,
            "min_height": null,
            "padding": null,
            "grid_auto_rows": null,
            "grid_gap": null,
            "max_width": null,
            "order": null,
            "_view_module_version": "1.2.0",
            "grid_template_areas": null,
            "object_position": null,
            "object_fit": null,
            "grid_auto_columns": null,
            "margin": null,
            "display": null,
            "left": null
          }
        },
        "67db1b0e1a054c0d90e7aad2268ac5ce": {
          "model_module": "@jupyter-widgets/controls",
          "model_name": "DescriptionStyleModel",
          "model_module_version": "1.5.0",
          "state": {
            "_view_name": "StyleView",
            "_model_name": "DescriptionStyleModel",
            "description_width": "",
            "_view_module": "@jupyter-widgets/base",
            "_model_module_version": "1.5.0",
            "_view_count": null,
            "_view_module_version": "1.2.0",
            "_model_module": "@jupyter-widgets/controls"
          }
        },
        "cdc336c00894447aae97012da17a0ec6": {
          "model_module": "@jupyter-widgets/base",
          "model_name": "LayoutModel",
          "model_module_version": "1.2.0",
          "state": {
            "_view_name": "LayoutView",
            "grid_template_rows": null,
            "right": null,
            "justify_content": null,
            "_view_module": "@jupyter-widgets/base",
            "overflow": null,
            "_model_module_version": "1.2.0",
            "_view_count": null,
            "flex_flow": null,
            "width": null,
            "min_width": null,
            "border": null,
            "align_items": null,
            "bottom": null,
            "_model_module": "@jupyter-widgets/base",
            "top": null,
            "grid_column": null,
            "overflow_y": null,
            "overflow_x": null,
            "grid_auto_flow": null,
            "grid_area": null,
            "grid_template_columns": null,
            "flex": null,
            "_model_name": "LayoutModel",
            "justify_items": null,
            "grid_row": null,
            "max_height": null,
            "align_content": null,
            "visibility": null,
            "align_self": null,
            "height": null,
            "min_height": null,
            "padding": null,
            "grid_auto_rows": null,
            "grid_gap": null,
            "max_width": null,
            "order": null,
            "_view_module_version": "1.2.0",
            "grid_template_areas": null,
            "object_position": null,
            "object_fit": null,
            "grid_auto_columns": null,
            "margin": null,
            "display": null,
            "left": null
          }
        },
        "08990f4df4184590b3be9ffdad1ebe57": {
          "model_module": "@jupyter-widgets/controls",
          "model_name": "HBoxModel",
          "model_module_version": "1.5.0",
          "state": {
            "_view_name": "HBoxView",
            "_dom_classes": [],
            "_model_name": "HBoxModel",
            "_view_module": "@jupyter-widgets/controls",
            "_model_module_version": "1.5.0",
            "_view_count": null,
            "_view_module_version": "1.5.0",
            "box_style": "",
            "layout": "IPY_MODEL_3a57b0e362d343e2819558adbe6a7896",
            "_model_module": "@jupyter-widgets/controls",
            "children": [
              "IPY_MODEL_e5168f686c5d472c82575e938b8cd085",
              "IPY_MODEL_3ec6a45763f14ff0bd83968335b28c04",
              "IPY_MODEL_7ae5c21f6e034d96ab573163f8d99790"
            ]
          }
        },
        "3a57b0e362d343e2819558adbe6a7896": {
          "model_module": "@jupyter-widgets/base",
          "model_name": "LayoutModel",
          "model_module_version": "1.2.0",
          "state": {
            "_view_name": "LayoutView",
            "grid_template_rows": null,
            "right": null,
            "justify_content": null,
            "_view_module": "@jupyter-widgets/base",
            "overflow": null,
            "_model_module_version": "1.2.0",
            "_view_count": null,
            "flex_flow": null,
            "width": null,
            "min_width": null,
            "border": null,
            "align_items": null,
            "bottom": null,
            "_model_module": "@jupyter-widgets/base",
            "top": null,
            "grid_column": null,
            "overflow_y": null,
            "overflow_x": null,
            "grid_auto_flow": null,
            "grid_area": null,
            "grid_template_columns": null,
            "flex": null,
            "_model_name": "LayoutModel",
            "justify_items": null,
            "grid_row": null,
            "max_height": null,
            "align_content": null,
            "visibility": null,
            "align_self": null,
            "height": null,
            "min_height": null,
            "padding": null,
            "grid_auto_rows": null,
            "grid_gap": null,
            "max_width": null,
            "order": null,
            "_view_module_version": "1.2.0",
            "grid_template_areas": null,
            "object_position": null,
            "object_fit": null,
            "grid_auto_columns": null,
            "margin": null,
            "display": null,
            "left": null
          }
        },
        "e5168f686c5d472c82575e938b8cd085": {
          "model_module": "@jupyter-widgets/controls",
          "model_name": "HTMLModel",
          "model_module_version": "1.5.0",
          "state": {
            "_view_name": "HTMLView",
            "style": "IPY_MODEL_7511d61071e04a779532813408a9a0b6",
            "_dom_classes": [],
            "description": "",
            "_model_name": "HTMLModel",
            "placeholder": "​",
            "_view_module": "@jupyter-widgets/controls",
            "_model_module_version": "1.5.0",
            "value": "Downloading: 100%",
            "_view_count": null,
            "_view_module_version": "1.5.0",
            "description_tooltip": null,
            "_model_module": "@jupyter-widgets/controls",
            "layout": "IPY_MODEL_66e80fa1c83643699cfd2ca168011506"
          }
        },
        "3ec6a45763f14ff0bd83968335b28c04": {
          "model_module": "@jupyter-widgets/controls",
          "model_name": "FloatProgressModel",
          "model_module_version": "1.5.0",
          "state": {
            "_view_name": "ProgressView",
            "style": "IPY_MODEL_0db93e13ae054aba8dcebd3af0d2b9ea",
            "_dom_classes": [],
            "description": "",
            "_model_name": "FloatProgressModel",
            "bar_style": "success",
            "max": 504,
            "_view_module": "@jupyter-widgets/controls",
            "_model_module_version": "1.5.0",
            "value": 504,
            "_view_count": null,
            "_view_module_version": "1.5.0",
            "orientation": "horizontal",
            "min": 0,
            "description_tooltip": null,
            "_model_module": "@jupyter-widgets/controls",
            "layout": "IPY_MODEL_bc2f5bd8cdf24f98afbd9caf9d415230"
          }
        },
        "7ae5c21f6e034d96ab573163f8d99790": {
          "model_module": "@jupyter-widgets/controls",
          "model_name": "HTMLModel",
          "model_module_version": "1.5.0",
          "state": {
            "_view_name": "HTMLView",
            "style": "IPY_MODEL_843e0ff99637440aae456947e70e3db2",
            "_dom_classes": [],
            "description": "",
            "_model_name": "HTMLModel",
            "placeholder": "​",
            "_view_module": "@jupyter-widgets/controls",
            "_model_module_version": "1.5.0",
            "value": " 504/504 [00:00&lt;00:00, 11.3kB/s]",
            "_view_count": null,
            "_view_module_version": "1.5.0",
            "description_tooltip": null,
            "_model_module": "@jupyter-widgets/controls",
            "layout": "IPY_MODEL_fd576b4358514c2b9f441efbe76115c7"
          }
        },
        "7511d61071e04a779532813408a9a0b6": {
          "model_module": "@jupyter-widgets/controls",
          "model_name": "DescriptionStyleModel",
          "model_module_version": "1.5.0",
          "state": {
            "_view_name": "StyleView",
            "_model_name": "DescriptionStyleModel",
            "description_width": "",
            "_view_module": "@jupyter-widgets/base",
            "_model_module_version": "1.5.0",
            "_view_count": null,
            "_view_module_version": "1.2.0",
            "_model_module": "@jupyter-widgets/controls"
          }
        },
        "66e80fa1c83643699cfd2ca168011506": {
          "model_module": "@jupyter-widgets/base",
          "model_name": "LayoutModel",
          "model_module_version": "1.2.0",
          "state": {
            "_view_name": "LayoutView",
            "grid_template_rows": null,
            "right": null,
            "justify_content": null,
            "_view_module": "@jupyter-widgets/base",
            "overflow": null,
            "_model_module_version": "1.2.0",
            "_view_count": null,
            "flex_flow": null,
            "width": null,
            "min_width": null,
            "border": null,
            "align_items": null,
            "bottom": null,
            "_model_module": "@jupyter-widgets/base",
            "top": null,
            "grid_column": null,
            "overflow_y": null,
            "overflow_x": null,
            "grid_auto_flow": null,
            "grid_area": null,
            "grid_template_columns": null,
            "flex": null,
            "_model_name": "LayoutModel",
            "justify_items": null,
            "grid_row": null,
            "max_height": null,
            "align_content": null,
            "visibility": null,
            "align_self": null,
            "height": null,
            "min_height": null,
            "padding": null,
            "grid_auto_rows": null,
            "grid_gap": null,
            "max_width": null,
            "order": null,
            "_view_module_version": "1.2.0",
            "grid_template_areas": null,
            "object_position": null,
            "object_fit": null,
            "grid_auto_columns": null,
            "margin": null,
            "display": null,
            "left": null
          }
        },
        "0db93e13ae054aba8dcebd3af0d2b9ea": {
          "model_module": "@jupyter-widgets/controls",
          "model_name": "ProgressStyleModel",
          "model_module_version": "1.5.0",
          "state": {
            "_view_name": "StyleView",
            "_model_name": "ProgressStyleModel",
            "description_width": "",
            "_view_module": "@jupyter-widgets/base",
            "_model_module_version": "1.5.0",
            "_view_count": null,
            "_view_module_version": "1.2.0",
            "bar_color": null,
            "_model_module": "@jupyter-widgets/controls"
          }
        },
        "bc2f5bd8cdf24f98afbd9caf9d415230": {
          "model_module": "@jupyter-widgets/base",
          "model_name": "LayoutModel",
          "model_module_version": "1.2.0",
          "state": {
            "_view_name": "LayoutView",
            "grid_template_rows": null,
            "right": null,
            "justify_content": null,
            "_view_module": "@jupyter-widgets/base",
            "overflow": null,
            "_model_module_version": "1.2.0",
            "_view_count": null,
            "flex_flow": null,
            "width": null,
            "min_width": null,
            "border": null,
            "align_items": null,
            "bottom": null,
            "_model_module": "@jupyter-widgets/base",
            "top": null,
            "grid_column": null,
            "overflow_y": null,
            "overflow_x": null,
            "grid_auto_flow": null,
            "grid_area": null,
            "grid_template_columns": null,
            "flex": null,
            "_model_name": "LayoutModel",
            "justify_items": null,
            "grid_row": null,
            "max_height": null,
            "align_content": null,
            "visibility": null,
            "align_self": null,
            "height": null,
            "min_height": null,
            "padding": null,
            "grid_auto_rows": null,
            "grid_gap": null,
            "max_width": null,
            "order": null,
            "_view_module_version": "1.2.0",
            "grid_template_areas": null,
            "object_position": null,
            "object_fit": null,
            "grid_auto_columns": null,
            "margin": null,
            "display": null,
            "left": null
          }
        },
        "843e0ff99637440aae456947e70e3db2": {
          "model_module": "@jupyter-widgets/controls",
          "model_name": "DescriptionStyleModel",
          "model_module_version": "1.5.0",
          "state": {
            "_view_name": "StyleView",
            "_model_name": "DescriptionStyleModel",
            "description_width": "",
            "_view_module": "@jupyter-widgets/base",
            "_model_module_version": "1.5.0",
            "_view_count": null,
            "_view_module_version": "1.2.0",
            "_model_module": "@jupyter-widgets/controls"
          }
        },
        "fd576b4358514c2b9f441efbe76115c7": {
          "model_module": "@jupyter-widgets/base",
          "model_name": "LayoutModel",
          "model_module_version": "1.2.0",
          "state": {
            "_view_name": "LayoutView",
            "grid_template_rows": null,
            "right": null,
            "justify_content": null,
            "_view_module": "@jupyter-widgets/base",
            "overflow": null,
            "_model_module_version": "1.2.0",
            "_view_count": null,
            "flex_flow": null,
            "width": null,
            "min_width": null,
            "border": null,
            "align_items": null,
            "bottom": null,
            "_model_module": "@jupyter-widgets/base",
            "top": null,
            "grid_column": null,
            "overflow_y": null,
            "overflow_x": null,
            "grid_auto_flow": null,
            "grid_area": null,
            "grid_template_columns": null,
            "flex": null,
            "_model_name": "LayoutModel",
            "justify_items": null,
            "grid_row": null,
            "max_height": null,
            "align_content": null,
            "visibility": null,
            "align_self": null,
            "height": null,
            "min_height": null,
            "padding": null,
            "grid_auto_rows": null,
            "grid_gap": null,
            "max_width": null,
            "order": null,
            "_view_module_version": "1.2.0",
            "grid_template_areas": null,
            "object_position": null,
            "object_fit": null,
            "grid_auto_columns": null,
            "margin": null,
            "display": null,
            "left": null
          }
        },
        "8bb21dd4fa524216b0c4927cb19825f2": {
          "model_module": "@jupyter-widgets/controls",
          "model_name": "HBoxModel",
          "model_module_version": "1.5.0",
          "state": {
            "_view_name": "HBoxView",
            "_dom_classes": [],
            "_model_name": "HBoxModel",
            "_view_module": "@jupyter-widgets/controls",
            "_model_module_version": "1.5.0",
            "_view_count": null,
            "_view_module_version": "1.5.0",
            "box_style": "",
            "layout": "IPY_MODEL_68265ad2466b4ba6b059f65063b7e120",
            "_model_module": "@jupyter-widgets/controls",
            "children": [
              "IPY_MODEL_b810e0d1148b4a9cb7f3f3d46a4b28a7",
              "IPY_MODEL_a125806a1e2c445b8c393f124de07d13",
              "IPY_MODEL_3b3a4731bb8f4666ada4d3812af0d26b"
            ]
          }
        },
        "68265ad2466b4ba6b059f65063b7e120": {
          "model_module": "@jupyter-widgets/base",
          "model_name": "LayoutModel",
          "model_module_version": "1.2.0",
          "state": {
            "_view_name": "LayoutView",
            "grid_template_rows": null,
            "right": null,
            "justify_content": null,
            "_view_module": "@jupyter-widgets/base",
            "overflow": null,
            "_model_module_version": "1.2.0",
            "_view_count": null,
            "flex_flow": null,
            "width": null,
            "min_width": null,
            "border": null,
            "align_items": null,
            "bottom": null,
            "_model_module": "@jupyter-widgets/base",
            "top": null,
            "grid_column": null,
            "overflow_y": null,
            "overflow_x": null,
            "grid_auto_flow": null,
            "grid_area": null,
            "grid_template_columns": null,
            "flex": null,
            "_model_name": "LayoutModel",
            "justify_items": null,
            "grid_row": null,
            "max_height": null,
            "align_content": null,
            "visibility": null,
            "align_self": null,
            "height": null,
            "min_height": null,
            "padding": null,
            "grid_auto_rows": null,
            "grid_gap": null,
            "max_width": null,
            "order": null,
            "_view_module_version": "1.2.0",
            "grid_template_areas": null,
            "object_position": null,
            "object_fit": null,
            "grid_auto_columns": null,
            "margin": null,
            "display": null,
            "left": null
          }
        },
        "b810e0d1148b4a9cb7f3f3d46a4b28a7": {
          "model_module": "@jupyter-widgets/controls",
          "model_name": "HTMLModel",
          "model_module_version": "1.5.0",
          "state": {
            "_view_name": "HTMLView",
            "style": "IPY_MODEL_fd1e4a0a7e2d40e994a594307d9cebd9",
            "_dom_classes": [],
            "description": "",
            "_model_name": "HTMLModel",
            "placeholder": "​",
            "_view_module": "@jupyter-widgets/controls",
            "_model_module_version": "1.5.0",
            "value": "Downloading: 100%",
            "_view_count": null,
            "_view_module_version": "1.5.0",
            "description_tooltip": null,
            "_model_module": "@jupyter-widgets/controls",
            "layout": "IPY_MODEL_1b218bf4a2b8438b835b0bade5e43786"
          }
        },
        "a125806a1e2c445b8c393f124de07d13": {
          "model_module": "@jupyter-widgets/controls",
          "model_name": "FloatProgressModel",
          "model_module_version": "1.5.0",
          "state": {
            "_view_name": "ProgressView",
            "style": "IPY_MODEL_79964a7750f349e8a4460f7552266f7a",
            "_dom_classes": [],
            "description": "",
            "_model_name": "FloatProgressModel",
            "bar_style": "success",
            "max": 498271049,
            "_view_module": "@jupyter-widgets/controls",
            "_model_module_version": "1.5.0",
            "value": 498271049,
            "_view_count": null,
            "_view_module_version": "1.5.0",
            "orientation": "horizontal",
            "min": 0,
            "description_tooltip": null,
            "_model_module": "@jupyter-widgets/controls",
            "layout": "IPY_MODEL_f66b9cd6889a44af87a06055e3ceaa90"
          }
        },
        "3b3a4731bb8f4666ada4d3812af0d26b": {
          "model_module": "@jupyter-widgets/controls",
          "model_name": "HTMLModel",
          "model_module_version": "1.5.0",
          "state": {
            "_view_name": "HTMLView",
            "style": "IPY_MODEL_22ad505729174a29b557290a5357905e",
            "_dom_classes": [],
            "description": "",
            "_model_name": "HTMLModel",
            "placeholder": "​",
            "_view_module": "@jupyter-widgets/controls",
            "_model_module_version": "1.5.0",
            "value": " 475M/475M [00:14&lt;00:00, 35.2MB/s]",
            "_view_count": null,
            "_view_module_version": "1.5.0",
            "description_tooltip": null,
            "_model_module": "@jupyter-widgets/controls",
            "layout": "IPY_MODEL_8a001fcfe3a64ed394401937d0247aa7"
          }
        },
        "fd1e4a0a7e2d40e994a594307d9cebd9": {
          "model_module": "@jupyter-widgets/controls",
          "model_name": "DescriptionStyleModel",
          "model_module_version": "1.5.0",
          "state": {
            "_view_name": "StyleView",
            "_model_name": "DescriptionStyleModel",
            "description_width": "",
            "_view_module": "@jupyter-widgets/base",
            "_model_module_version": "1.5.0",
            "_view_count": null,
            "_view_module_version": "1.2.0",
            "_model_module": "@jupyter-widgets/controls"
          }
        },
        "1b218bf4a2b8438b835b0bade5e43786": {
          "model_module": "@jupyter-widgets/base",
          "model_name": "LayoutModel",
          "model_module_version": "1.2.0",
          "state": {
            "_view_name": "LayoutView",
            "grid_template_rows": null,
            "right": null,
            "justify_content": null,
            "_view_module": "@jupyter-widgets/base",
            "overflow": null,
            "_model_module_version": "1.2.0",
            "_view_count": null,
            "flex_flow": null,
            "width": null,
            "min_width": null,
            "border": null,
            "align_items": null,
            "bottom": null,
            "_model_module": "@jupyter-widgets/base",
            "top": null,
            "grid_column": null,
            "overflow_y": null,
            "overflow_x": null,
            "grid_auto_flow": null,
            "grid_area": null,
            "grid_template_columns": null,
            "flex": null,
            "_model_name": "LayoutModel",
            "justify_items": null,
            "grid_row": null,
            "max_height": null,
            "align_content": null,
            "visibility": null,
            "align_self": null,
            "height": null,
            "min_height": null,
            "padding": null,
            "grid_auto_rows": null,
            "grid_gap": null,
            "max_width": null,
            "order": null,
            "_view_module_version": "1.2.0",
            "grid_template_areas": null,
            "object_position": null,
            "object_fit": null,
            "grid_auto_columns": null,
            "margin": null,
            "display": null,
            "left": null
          }
        },
        "79964a7750f349e8a4460f7552266f7a": {
          "model_module": "@jupyter-widgets/controls",
          "model_name": "ProgressStyleModel",
          "model_module_version": "1.5.0",
          "state": {
            "_view_name": "StyleView",
            "_model_name": "ProgressStyleModel",
            "description_width": "",
            "_view_module": "@jupyter-widgets/base",
            "_model_module_version": "1.5.0",
            "_view_count": null,
            "_view_module_version": "1.2.0",
            "bar_color": null,
            "_model_module": "@jupyter-widgets/controls"
          }
        },
        "f66b9cd6889a44af87a06055e3ceaa90": {
          "model_module": "@jupyter-widgets/base",
          "model_name": "LayoutModel",
          "model_module_version": "1.2.0",
          "state": {
            "_view_name": "LayoutView",
            "grid_template_rows": null,
            "right": null,
            "justify_content": null,
            "_view_module": "@jupyter-widgets/base",
            "overflow": null,
            "_model_module_version": "1.2.0",
            "_view_count": null,
            "flex_flow": null,
            "width": null,
            "min_width": null,
            "border": null,
            "align_items": null,
            "bottom": null,
            "_model_module": "@jupyter-widgets/base",
            "top": null,
            "grid_column": null,
            "overflow_y": null,
            "overflow_x": null,
            "grid_auto_flow": null,
            "grid_area": null,
            "grid_template_columns": null,
            "flex": null,
            "_model_name": "LayoutModel",
            "justify_items": null,
            "grid_row": null,
            "max_height": null,
            "align_content": null,
            "visibility": null,
            "align_self": null,
            "height": null,
            "min_height": null,
            "padding": null,
            "grid_auto_rows": null,
            "grid_gap": null,
            "max_width": null,
            "order": null,
            "_view_module_version": "1.2.0",
            "grid_template_areas": null,
            "object_position": null,
            "object_fit": null,
            "grid_auto_columns": null,
            "margin": null,
            "display": null,
            "left": null
          }
        },
        "22ad505729174a29b557290a5357905e": {
          "model_module": "@jupyter-widgets/controls",
          "model_name": "DescriptionStyleModel",
          "model_module_version": "1.5.0",
          "state": {
            "_view_name": "StyleView",
            "_model_name": "DescriptionStyleModel",
            "description_width": "",
            "_view_module": "@jupyter-widgets/base",
            "_model_module_version": "1.5.0",
            "_view_count": null,
            "_view_module_version": "1.2.0",
            "_model_module": "@jupyter-widgets/controls"
          }
        },
        "8a001fcfe3a64ed394401937d0247aa7": {
          "model_module": "@jupyter-widgets/base",
          "model_name": "LayoutModel",
          "model_module_version": "1.2.0",
          "state": {
            "_view_name": "LayoutView",
            "grid_template_rows": null,
            "right": null,
            "justify_content": null,
            "_view_module": "@jupyter-widgets/base",
            "overflow": null,
            "_model_module_version": "1.2.0",
            "_view_count": null,
            "flex_flow": null,
            "width": null,
            "min_width": null,
            "border": null,
            "align_items": null,
            "bottom": null,
            "_model_module": "@jupyter-widgets/base",
            "top": null,
            "grid_column": null,
            "overflow_y": null,
            "overflow_x": null,
            "grid_auto_flow": null,
            "grid_area": null,
            "grid_template_columns": null,
            "flex": null,
            "_model_name": "LayoutModel",
            "justify_items": null,
            "grid_row": null,
            "max_height": null,
            "align_content": null,
            "visibility": null,
            "align_self": null,
            "height": null,
            "min_height": null,
            "padding": null,
            "grid_auto_rows": null,
            "grid_gap": null,
            "max_width": null,
            "order": null,
            "_view_module_version": "1.2.0",
            "grid_template_areas": null,
            "object_position": null,
            "object_fit": null,
            "grid_auto_columns": null,
            "margin": null,
            "display": null,
            "left": null
          }
        }
      }
    },
    "accelerator": "GPU"
  },
  "nbformat": 4,
  "nbformat_minor": 5
}