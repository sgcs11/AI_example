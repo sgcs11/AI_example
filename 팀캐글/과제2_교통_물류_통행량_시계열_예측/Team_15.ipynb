{
 "cells": [
  {
   "cell_type": "code",
   "execution_count": 115,
   "metadata": {
    "collapsed": true,
    "jupyter": {
     "outputs_hidden": true
    },
    "tags": []
   },
   "outputs": [
    {
     "name": "stdout",
     "output_type": "stream",
     "text": [
      "Requirement already satisfied: pystan==2.19.1.1 in /opt/conda/lib/python3.8/site-packages (2.19.1.1)\n",
      "Requirement already satisfied: Cython!=0.25.1,>=0.22 in /opt/conda/lib/python3.8/site-packages (from pystan==2.19.1.1) (0.29.27)\n",
      "Requirement already satisfied: numpy>=1.7 in /opt/conda/lib/python3.8/site-packages (from pystan==2.19.1.1) (1.19.2)\n",
      "Requirement already satisfied: fbprophet==0.7.0 in /opt/conda/lib/python3.8/site-packages (0.7)\n",
      "Requirement already satisfied: holidays>=0.9.5 in /opt/conda/lib/python3.8/site-packages (from fbprophet==0.7.0) (0.13)\n",
      "Requirement already satisfied: LunarCalendar>=0.0.9 in /opt/conda/lib/python3.8/site-packages (from fbprophet==0.7.0) (0.0.9)\n",
      "Requirement already satisfied: matplotlib>=2.0.0 in /opt/conda/lib/python3.8/site-packages (from fbprophet==0.7.0) (3.5.1)\n",
      "Requirement already satisfied: convertdate>=2.1.2 in /opt/conda/lib/python3.8/site-packages (from fbprophet==0.7.0) (2.4.0)\n",
      "Requirement already satisfied: cmdstanpy==0.9.5 in /opt/conda/lib/python3.8/site-packages (from fbprophet==0.7.0) (0.9.5)\n",
      "Requirement already satisfied: python-dateutil>=2.8.0 in /opt/conda/lib/python3.8/site-packages (from fbprophet==0.7.0) (2.8.2)\n",
      "Requirement already satisfied: Cython>=0.22 in /opt/conda/lib/python3.8/site-packages (from fbprophet==0.7.0) (0.29.27)\n",
      "Requirement already satisfied: pandas>=1.0.4 in /opt/conda/lib/python3.8/site-packages (from fbprophet==0.7.0) (1.4.0)\n",
      "Requirement already satisfied: numpy>=1.10.0 in /opt/conda/lib/python3.8/site-packages (from fbprophet==0.7.0) (1.19.2)\n",
      "Requirement already satisfied: setuptools-git>=1.2 in /opt/conda/lib/python3.8/site-packages (from fbprophet==0.7.0) (1.2)\n",
      "Requirement already satisfied: pystan>=2.14 in /opt/conda/lib/python3.8/site-packages (from fbprophet==0.7.0) (2.19.1.1)\n",
      "Requirement already satisfied: tqdm>=4.36.1 in /opt/conda/lib/python3.8/site-packages (from fbprophet==0.7.0) (4.51.0)\n",
      "Requirement already satisfied: korean-lunar-calendar in /opt/conda/lib/python3.8/site-packages (from holidays>=0.9.5->fbprophet==0.7.0) (0.2.1)\n",
      "Requirement already satisfied: hijri-converter in /opt/conda/lib/python3.8/site-packages (from holidays>=0.9.5->fbprophet==0.7.0) (2.2.3)\n",
      "Requirement already satisfied: ephem>=3.7.5.3 in /opt/conda/lib/python3.8/site-packages (from LunarCalendar>=0.0.9->fbprophet==0.7.0) (4.1.3)\n",
      "Requirement already satisfied: pytz in /opt/conda/lib/python3.8/site-packages (from LunarCalendar>=0.0.9->fbprophet==0.7.0) (2020.5)\n",
      "Requirement already satisfied: fonttools>=4.22.0 in /opt/conda/lib/python3.8/site-packages (from matplotlib>=2.0.0->fbprophet==0.7.0) (4.29.1)\n",
      "Requirement already satisfied: cycler>=0.10 in /opt/conda/lib/python3.8/site-packages (from matplotlib>=2.0.0->fbprophet==0.7.0) (0.11.0)\n",
      "Requirement already satisfied: kiwisolver>=1.0.1 in /opt/conda/lib/python3.8/site-packages (from matplotlib>=2.0.0->fbprophet==0.7.0) (1.3.2)\n",
      "Requirement already satisfied: pyparsing>=2.2.1 in /opt/conda/lib/python3.8/site-packages (from matplotlib>=2.0.0->fbprophet==0.7.0) (2.4.7)\n",
      "Requirement already satisfied: packaging>=20.0 in /opt/conda/lib/python3.8/site-packages (from matplotlib>=2.0.0->fbprophet==0.7.0) (21.0)\n",
      "Requirement already satisfied: pillow>=6.2.0 in /opt/conda/lib/python3.8/site-packages (from matplotlib>=2.0.0->fbprophet==0.7.0) (8.1.0)\n",
      "Requirement already satisfied: pymeeus<=1,>=0.3.13 in /opt/conda/lib/python3.8/site-packages (from convertdate>=2.1.2->fbprophet==0.7.0) (0.5.11)\n",
      "Requirement already satisfied: six>=1.5 in /opt/conda/lib/python3.8/site-packages (from python-dateutil>=2.8.0->fbprophet==0.7.0) (1.15.0)\n",
      "Requirement already satisfied: neuralprophet in /opt/conda/lib/python3.8/site-packages (0.3.0)\n",
      "Requirement already satisfied: tqdm>=4.50.2 in /opt/conda/lib/python3.8/site-packages (from neuralprophet) (4.51.0)\n",
      "Requirement already satisfied: LunarCalendar>=0.0.9 in /opt/conda/lib/python3.8/site-packages (from neuralprophet) (0.0.9)\n",
      "Requirement already satisfied: torch-lr-finder>=0.2.1 in /opt/conda/lib/python3.8/site-packages (from neuralprophet) (0.2.1)\n",
      "Requirement already satisfied: dataclasses>=0.6 in /opt/conda/lib/python3.8/site-packages (from neuralprophet) (0.6)\n",
      "Requirement already satisfied: numpy>=1.15.4 in /opt/conda/lib/python3.8/site-packages (from neuralprophet) (1.19.2)\n",
      "Requirement already satisfied: convertdate>=2.1.2 in /opt/conda/lib/python3.8/site-packages (from neuralprophet) (2.4.0)\n",
      "Requirement already satisfied: ipywidgets>=7.5.1 in /opt/conda/lib/python3.8/site-packages (from neuralprophet) (7.6.5)\n",
      "Requirement already satisfied: torch>=1.4.0 in /opt/conda/lib/python3.8/site-packages (from neuralprophet) (1.7.1)\n",
      "Requirement already satisfied: pandas>=1.0.4 in /opt/conda/lib/python3.8/site-packages (from neuralprophet) (1.4.0)\n",
      "Requirement already satisfied: holidays>=0.11.3.1 in /opt/conda/lib/python3.8/site-packages (from neuralprophet) (0.13)\n",
      "Requirement already satisfied: python-dateutil>=2.8.0 in /opt/conda/lib/python3.8/site-packages (from neuralprophet) (2.8.2)\n",
      "Requirement already satisfied: matplotlib>=2.0.0 in /opt/conda/lib/python3.8/site-packages (from neuralprophet) (3.5.1)\n",
      "Requirement already satisfied: pytz in /opt/conda/lib/python3.8/site-packages (from LunarCalendar>=0.0.9->neuralprophet) (2020.5)\n",
      "Requirement already satisfied: ephem>=3.7.5.3 in /opt/conda/lib/python3.8/site-packages (from LunarCalendar>=0.0.9->neuralprophet) (4.1.3)\n",
      "Requirement already satisfied: packaging in /opt/conda/lib/python3.8/site-packages (from torch-lr-finder>=0.2.1->neuralprophet) (21.0)\n",
      "Requirement already satisfied: pymeeus<=1,>=0.3.13 in /opt/conda/lib/python3.8/site-packages (from convertdate>=2.1.2->neuralprophet) (0.5.11)\n",
      "Requirement already satisfied: traitlets>=4.3.1 in /opt/conda/lib/python3.8/site-packages (from ipywidgets>=7.5.1->neuralprophet) (5.0.5)\n",
      "Requirement already satisfied: ipython>=4.0.0; python_version >= \"3.3\" in /opt/conda/lib/python3.8/site-packages (from ipywidgets>=7.5.1->neuralprophet) (7.28.0)\n",
      "Requirement already satisfied: nbformat>=4.2.0 in /opt/conda/lib/python3.8/site-packages (from ipywidgets>=7.5.1->neuralprophet) (5.1.3)\n",
      "Requirement already satisfied: widgetsnbextension~=3.5.0 in /opt/conda/lib/python3.8/site-packages (from ipywidgets>=7.5.1->neuralprophet) (3.5.2)\n",
      "Requirement already satisfied: jupyterlab-widgets>=1.0.0; python_version >= \"3.6\" in /opt/conda/lib/python3.8/site-packages (from ipywidgets>=7.5.1->neuralprophet) (1.0.2)\n",
      "Requirement already satisfied: ipykernel>=4.5.1 in /opt/conda/lib/python3.8/site-packages (from ipywidgets>=7.5.1->neuralprophet) (6.4.1)\n",
      "Requirement already satisfied: ipython-genutils~=0.2.0 in /opt/conda/lib/python3.8/site-packages (from ipywidgets>=7.5.1->neuralprophet) (0.2.0)\n",
      "Requirement already satisfied: typing_extensions in /opt/conda/lib/python3.8/site-packages (from torch>=1.4.0->neuralprophet) (3.7.4.3)\n",
      "Requirement already satisfied: korean-lunar-calendar in /opt/conda/lib/python3.8/site-packages (from holidays>=0.11.3.1->neuralprophet) (0.2.1)\n",
      "Requirement already satisfied: hijri-converter in /opt/conda/lib/python3.8/site-packages (from holidays>=0.11.3.1->neuralprophet) (2.2.3)\n",
      "Requirement already satisfied: six>=1.5 in /opt/conda/lib/python3.8/site-packages (from python-dateutil>=2.8.0->neuralprophet) (1.15.0)\n",
      "Requirement already satisfied: pyparsing>=2.2.1 in /opt/conda/lib/python3.8/site-packages (from matplotlib>=2.0.0->neuralprophet) (2.4.7)\n",
      "Requirement already satisfied: cycler>=0.10 in /opt/conda/lib/python3.8/site-packages (from matplotlib>=2.0.0->neuralprophet) (0.11.0)\n",
      "Requirement already satisfied: fonttools>=4.22.0 in /opt/conda/lib/python3.8/site-packages (from matplotlib>=2.0.0->neuralprophet) (4.29.1)\n",
      "Requirement already satisfied: kiwisolver>=1.0.1 in /opt/conda/lib/python3.8/site-packages (from matplotlib>=2.0.0->neuralprophet) (1.3.2)\n",
      "Requirement already satisfied: pillow>=6.2.0 in /opt/conda/lib/python3.8/site-packages (from matplotlib>=2.0.0->neuralprophet) (8.1.0)\n",
      "Requirement already satisfied: pexpect>4.3; sys_platform != \"win32\" in /opt/conda/lib/python3.8/site-packages (from ipython>=4.0.0; python_version >= \"3.3\"->ipywidgets>=7.5.1->neuralprophet) (4.8.0)\n",
      "Requirement already satisfied: pickleshare in /opt/conda/lib/python3.8/site-packages (from ipython>=4.0.0; python_version >= \"3.3\"->ipywidgets>=7.5.1->neuralprophet) (0.7.5)\n",
      "Requirement already satisfied: setuptools>=18.5 in /opt/conda/lib/python3.8/site-packages (from ipython>=4.0.0; python_version >= \"3.3\"->ipywidgets>=7.5.1->neuralprophet) (50.3.1.post20201107)\n",
      "Requirement already satisfied: matplotlib-inline in /opt/conda/lib/python3.8/site-packages (from ipython>=4.0.0; python_version >= \"3.3\"->ipywidgets>=7.5.1->neuralprophet) (0.1.3)\n",
      "Requirement already satisfied: jedi>=0.16 in /opt/conda/lib/python3.8/site-packages (from ipython>=4.0.0; python_version >= \"3.3\"->ipywidgets>=7.5.1->neuralprophet) (0.17.2)\n",
      "Requirement already satisfied: backcall in /opt/conda/lib/python3.8/site-packages (from ipython>=4.0.0; python_version >= \"3.3\"->ipywidgets>=7.5.1->neuralprophet) (0.2.0)\n",
      "Requirement already satisfied: prompt-toolkit!=3.0.0,!=3.0.1,<3.1.0,>=2.0.0 in /opt/conda/lib/python3.8/site-packages (from ipython>=4.0.0; python_version >= \"3.3\"->ipywidgets>=7.5.1->neuralprophet) (3.0.8)\n",
      "Requirement already satisfied: pygments in /opt/conda/lib/python3.8/site-packages (from ipython>=4.0.0; python_version >= \"3.3\"->ipywidgets>=7.5.1->neuralprophet) (2.7.4)\n",
      "Requirement already satisfied: decorator in /opt/conda/lib/python3.8/site-packages (from ipython>=4.0.0; python_version >= \"3.3\"->ipywidgets>=7.5.1->neuralprophet) (4.4.2)\n",
      "Requirement already satisfied: jsonschema!=2.5.0,>=2.4 in /opt/conda/lib/python3.8/site-packages (from nbformat>=4.2.0->ipywidgets>=7.5.1->neuralprophet) (4.0.0)\n",
      "Requirement already satisfied: jupyter-core in /opt/conda/lib/python3.8/site-packages (from nbformat>=4.2.0->ipywidgets>=7.5.1->neuralprophet) (4.8.1)\n",
      "Requirement already satisfied: notebook>=4.4.1 in /opt/conda/lib/python3.8/site-packages (from widgetsnbextension~=3.5.0->ipywidgets>=7.5.1->neuralprophet) (6.4.4)\n",
      "Requirement already satisfied: tornado<7.0,>=4.2 in /opt/conda/lib/python3.8/site-packages (from ipykernel>=4.5.1->ipywidgets>=7.5.1->neuralprophet) (6.1)\n",
      "Requirement already satisfied: debugpy<2.0,>=1.0.0 in /opt/conda/lib/python3.8/site-packages (from ipykernel>=4.5.1->ipywidgets>=7.5.1->neuralprophet) (1.4.3)\n",
      "Requirement already satisfied: jupyter-client<8.0 in /opt/conda/lib/python3.8/site-packages (from ipykernel>=4.5.1->ipywidgets>=7.5.1->neuralprophet) (7.0.5)\n",
      "Requirement already satisfied: ptyprocess>=0.5 in /opt/conda/lib/python3.8/site-packages (from pexpect>4.3; sys_platform != \"win32\"->ipython>=4.0.0; python_version >= \"3.3\"->ipywidgets>=7.5.1->neuralprophet) (0.7.0)\n",
      "Requirement already satisfied: parso<0.8.0,>=0.7.0 in /opt/conda/lib/python3.8/site-packages (from jedi>=0.16->ipython>=4.0.0; python_version >= \"3.3\"->ipywidgets>=7.5.1->neuralprophet) (0.7.0)\n",
      "Requirement already satisfied: wcwidth in /opt/conda/lib/python3.8/site-packages (from prompt-toolkit!=3.0.0,!=3.0.1,<3.1.0,>=2.0.0->ipython>=4.0.0; python_version >= \"3.3\"->ipywidgets>=7.5.1->neuralprophet) (0.2.5)\n",
      "Requirement already satisfied: attrs>=17.4.0 in /opt/conda/lib/python3.8/site-packages (from jsonschema!=2.5.0,>=2.4->nbformat>=4.2.0->ipywidgets>=7.5.1->neuralprophet) (21.2.0)\n",
      "Requirement already satisfied: pyrsistent!=0.17.0,!=0.17.1,!=0.17.2,>=0.14.0 in /opt/conda/lib/python3.8/site-packages (from jsonschema!=2.5.0,>=2.4->nbformat>=4.2.0->ipywidgets>=7.5.1->neuralprophet) (0.18.0)\n",
      "Requirement already satisfied: Send2Trash>=1.5.0 in /opt/conda/lib/python3.8/site-packages (from notebook>=4.4.1->widgetsnbextension~=3.5.0->ipywidgets>=7.5.1->neuralprophet) (1.8.0)\n",
      "Requirement already satisfied: prometheus-client in /opt/conda/lib/python3.8/site-packages (from notebook>=4.4.1->widgetsnbextension~=3.5.0->ipywidgets>=7.5.1->neuralprophet) (0.11.0)\n",
      "Requirement already satisfied: jinja2 in /opt/conda/lib/python3.8/site-packages (from notebook>=4.4.1->widgetsnbextension~=3.5.0->ipywidgets>=7.5.1->neuralprophet) (2.11.2)\n",
      "Requirement already satisfied: argon2-cffi in /opt/conda/lib/python3.8/site-packages (from notebook>=4.4.1->widgetsnbextension~=3.5.0->ipywidgets>=7.5.1->neuralprophet) (21.1.0)\n",
      "Requirement already satisfied: pyzmq>=17 in /opt/conda/lib/python3.8/site-packages (from notebook>=4.4.1->widgetsnbextension~=3.5.0->ipywidgets>=7.5.1->neuralprophet) (22.3.0)\n",
      "Requirement already satisfied: terminado>=0.8.3 in /opt/conda/lib/python3.8/site-packages (from notebook>=4.4.1->widgetsnbextension~=3.5.0->ipywidgets>=7.5.1->neuralprophet) (0.12.1)\n",
      "Requirement already satisfied: nbconvert in /opt/conda/lib/python3.8/site-packages (from notebook>=4.4.1->widgetsnbextension~=3.5.0->ipywidgets>=7.5.1->neuralprophet) (6.2.0)\n",
      "Requirement already satisfied: nest-asyncio>=1.5 in /opt/conda/lib/python3.8/site-packages (from jupyter-client<8.0->ipykernel>=4.5.1->ipywidgets>=7.5.1->neuralprophet) (1.5.1)\n",
      "Requirement already satisfied: entrypoints in /opt/conda/lib/python3.8/site-packages (from jupyter-client<8.0->ipykernel>=4.5.1->ipywidgets>=7.5.1->neuralprophet) (0.3)\n",
      "Requirement already satisfied: MarkupSafe>=0.23 in /opt/conda/lib/python3.8/site-packages (from jinja2->notebook>=4.4.1->widgetsnbextension~=3.5.0->ipywidgets>=7.5.1->neuralprophet) (1.1.1)\n",
      "Requirement already satisfied: cffi>=1.0.0 in /opt/conda/lib/python3.8/site-packages (from argon2-cffi->notebook>=4.4.1->widgetsnbextension~=3.5.0->ipywidgets>=7.5.1->neuralprophet) (1.14.3)\n",
      "Requirement already satisfied: testpath in /opt/conda/lib/python3.8/site-packages (from nbconvert->notebook>=4.4.1->widgetsnbextension~=3.5.0->ipywidgets>=7.5.1->neuralprophet) (0.5.0)\n",
      "Requirement already satisfied: defusedxml in /opt/conda/lib/python3.8/site-packages (from nbconvert->notebook>=4.4.1->widgetsnbextension~=3.5.0->ipywidgets>=7.5.1->neuralprophet) (0.7.1)\n",
      "Requirement already satisfied: jupyterlab-pygments in /opt/conda/lib/python3.8/site-packages (from nbconvert->notebook>=4.4.1->widgetsnbextension~=3.5.0->ipywidgets>=7.5.1->neuralprophet) (0.1.2)\n",
      "Requirement already satisfied: mistune<2,>=0.8.1 in /opt/conda/lib/python3.8/site-packages (from nbconvert->notebook>=4.4.1->widgetsnbextension~=3.5.0->ipywidgets>=7.5.1->neuralprophet) (0.8.4)\n",
      "Requirement already satisfied: nbclient<0.6.0,>=0.5.0 in /opt/conda/lib/python3.8/site-packages (from nbconvert->notebook>=4.4.1->widgetsnbextension~=3.5.0->ipywidgets>=7.5.1->neuralprophet) (0.5.4)\n",
      "Requirement already satisfied: pandocfilters>=1.4.1 in /opt/conda/lib/python3.8/site-packages (from nbconvert->notebook>=4.4.1->widgetsnbextension~=3.5.0->ipywidgets>=7.5.1->neuralprophet) (1.5.0)\n",
      "Requirement already satisfied: bleach in /opt/conda/lib/python3.8/site-packages (from nbconvert->notebook>=4.4.1->widgetsnbextension~=3.5.0->ipywidgets>=7.5.1->neuralprophet) (4.1.0)\n",
      "Requirement already satisfied: pycparser in /opt/conda/lib/python3.8/site-packages (from cffi>=1.0.0->argon2-cffi->notebook>=4.4.1->widgetsnbextension~=3.5.0->ipywidgets>=7.5.1->neuralprophet) (2.20)\n",
      "Requirement already satisfied: webencodings in /opt/conda/lib/python3.8/site-packages (from bleach->nbconvert->notebook>=4.4.1->widgetsnbextension~=3.5.0->ipywidgets>=7.5.1->neuralprophet) (0.5.1)\n"
     ]
    }
   ],
   "source": [
    "!pip install pystan==2.19.1.1\n",
    "!pip install fbprophet==0.7.0\n",
    "!pip install neuralprophet"
   ]
  },
  {
   "cell_type": "code",
   "execution_count": 31,
   "metadata": {},
   "outputs": [],
   "source": [
    "# 라이브러리 임포트\n",
    "import os\n",
    "import numpy as np\n",
    "import pandas as pd\n",
    "\n",
    "import torch\n",
    "import torch.nn as nn\n",
    "from torch import autograd\n",
    "from torch.utils import data\n",
    "from torch.optim import Adam\n",
    "from torchinfo import summary\n",
    "\n",
    "from sklearn.preprocessing import StandardScaler\n",
    "\n",
    "import matplotlib.pyplot as plt\n",
    "%matplotlib inline\n",
    "\n",
    "import warnings\n",
    "warnings.filterwarnings('ignore')"
   ]
  },
  {
   "cell_type": "code",
   "execution_count": 3,
   "metadata": {
    "id": "AWfdmYXdP3oB"
   },
   "outputs": [],
   "source": [
    "# 난수 생성기가 항상 일정한 값을 출력하게 하기 위해 seed 고정\n",
    "random_seed = 2021\n",
    "torch.manual_seed(random_seed)\n",
    "torch.cuda.manual_seed(random_seed)\n",
    "np.random.seed(random_seed)"
   ]
  },
  {
   "cell_type": "markdown",
   "metadata": {
    "id": "YHytYNqZP3oC"
   },
   "source": [
    "## EDA with preprocessing"
   ]
  },
  {
   "cell_type": "code",
   "execution_count": 4,
   "metadata": {
    "id": "7eAWyzuKP3oE"
   },
   "outputs": [],
   "source": [
    "DATASET_PATH = os.path.join('./data')"
   ]
  },
  {
   "cell_type": "code",
   "execution_count": 5,
   "metadata": {},
   "outputs": [],
   "source": [
    "# Prophet 모델에 맞춰, 날짜 시간을 통합하고 Datetime으로 변경한 DataFrame을 Return\n",
    "def col_timestamp(mode):\n",
    "    # mode: strin - 'train', 'validate', 'test'\n",
    "    # csv 불러오기\n",
    "    df = pd.read_csv(os.path.join(DATASET_PATH, mode+'.csv'))\n",
    "    \n",
    "    # ds, Time으로 컬럼명 변경\n",
    "    new_df = df.rename(columns={'날짜':'ds', '시간':'Time'})\n",
    "    \n",
    "    # cols = 내용 합치려는 컬럼명, 컬럼의 내용을 합치고 사이에 구분자로 ':'를 넣기\n",
    "    cols = ['ds', 'Time']\n",
    "    new_df['ds'] = new_df[cols].apply(lambda row: ':'.join(row.values.astype(str)), axis=1)\n",
    "    \n",
    "    # 필요없어진 Time 컬럼 제거\n",
    "    new_df = new_df.drop(columns = ['Time'])\n",
    "    \n",
    "    # Datetime Type으로 변경 - format %Y 연도 네 자리, %m 달 2자리, %d 일 2자리 :(구분자) %H (시간)\n",
    "    new_df['ds'] = pd.to_datetime(new_df['ds'], format='%Y%m%d:%H')\n",
    "    return new_df"
   ]
  },
  {
   "cell_type": "code",
   "execution_count": 6,
   "metadata": {},
   "outputs": [],
   "source": [
    "# scaling(DataFrame, mode), mode는 string ('train', 'val', 'test') 입력\n",
    "# scaler 설정\n",
    "scaler = StandardScaler()\n",
    "\n",
    "def scaling(df, mode):    \n",
    "    # ds 컬럼을 제외하고 슬라이싱\n",
    "    values_df = df.iloc[:, 1:]\n",
    "    # concat 이후 컬럼명 변경을 위해 미리 컬럼명 저장\n",
    "    cols = values_df.columns\n",
    "    \n",
    "    # train data 기준 Fit\n",
    "    if mode == 'train':\n",
    "        scaler.fit(values_df)\n",
    "    \n",
    "    # Scaling, 컬럼명 변경, ds컬럼과 다시 합치기\n",
    "    scaled_values = pd.DataFrame(scaler.transform(values_df), columns=cols)    \n",
    "    scaled_df = pd.concat([df.iloc[:,0], scaled_values], axis=1)\n",
    "    \n",
    "    # csv export\n",
    "    #scaled_df.to_csv(os.path.join(DATASET_PATH, 'scaled_' + mode.csv), index=False)\n",
    "    \n",
    "    return scaled_df\n",
    "\n",
    "def unscaling(df):\n",
    "    # 시간 컬럼 제외\n",
    "    values_df = df.iloc[:, 1:]\n",
    "    cols = values_df.columns\n",
    "    \n",
    "    unscaled_values = pd.DataFrame(scaler.inverse_transform(values_df), columns=cols)\n",
    "    unscaled_df = pd.concat([df.iloc[:,0], unscaled_values], axis=1)\n",
    "    \n",
    "    return unscaled_df"
   ]
  },
  {
   "cell_type": "code",
   "execution_count": 7,
   "metadata": {
    "collapsed": true,
    "jupyter": {
     "outputs_hidden": true
    },
    "tags": []
   },
   "outputs": [
    {
     "data": {
      "text/html": [
       "<div>\n",
       "<style scoped>\n",
       "    .dataframe tbody tr th:only-of-type {\n",
       "        vertical-align: middle;\n",
       "    }\n",
       "\n",
       "    .dataframe tbody tr th {\n",
       "        vertical-align: top;\n",
       "    }\n",
       "\n",
       "    .dataframe thead th {\n",
       "        text-align: right;\n",
       "    }\n",
       "</style>\n",
       "<table border=\"1\" class=\"dataframe\">\n",
       "  <thead>\n",
       "    <tr style=\"text-align: right;\">\n",
       "      <th></th>\n",
       "      <th>ds</th>\n",
       "      <th>10</th>\n",
       "      <th>100</th>\n",
       "      <th>101</th>\n",
       "      <th>120</th>\n",
       "      <th>121</th>\n",
       "      <th>140</th>\n",
       "      <th>150</th>\n",
       "      <th>160</th>\n",
       "      <th>200</th>\n",
       "      <th>...</th>\n",
       "      <th>1020</th>\n",
       "      <th>1040</th>\n",
       "      <th>1100</th>\n",
       "      <th>1200</th>\n",
       "      <th>1510</th>\n",
       "      <th>2510</th>\n",
       "      <th>3000</th>\n",
       "      <th>4510</th>\n",
       "      <th>5510</th>\n",
       "      <th>6000</th>\n",
       "    </tr>\n",
       "  </thead>\n",
       "  <tbody>\n",
       "    <tr>\n",
       "      <th>0</th>\n",
       "      <td>2020-01-01 00:00:00</td>\n",
       "      <td>83247</td>\n",
       "      <td>19128</td>\n",
       "      <td>2611</td>\n",
       "      <td>5161</td>\n",
       "      <td>1588</td>\n",
       "      <td>892</td>\n",
       "      <td>32263</td>\n",
       "      <td>1636</td>\n",
       "      <td>7938</td>\n",
       "      <td>...</td>\n",
       "      <td>1311</td>\n",
       "      <td>3482</td>\n",
       "      <td>11299</td>\n",
       "      <td>7072</td>\n",
       "      <td>1176</td>\n",
       "      <td>3810</td>\n",
       "      <td>748</td>\n",
       "      <td>3920</td>\n",
       "      <td>2133</td>\n",
       "      <td>3799</td>\n",
       "    </tr>\n",
       "    <tr>\n",
       "      <th>1</th>\n",
       "      <td>2020-01-01 01:00:00</td>\n",
       "      <td>89309</td>\n",
       "      <td>19027</td>\n",
       "      <td>3337</td>\n",
       "      <td>5502</td>\n",
       "      <td>1650</td>\n",
       "      <td>1043</td>\n",
       "      <td>35609</td>\n",
       "      <td>1644</td>\n",
       "      <td>9896</td>\n",
       "      <td>...</td>\n",
       "      <td>1162</td>\n",
       "      <td>3849</td>\n",
       "      <td>13180</td>\n",
       "      <td>8771</td>\n",
       "      <td>1283</td>\n",
       "      <td>3763</td>\n",
       "      <td>782</td>\n",
       "      <td>3483</td>\n",
       "      <td>2057</td>\n",
       "      <td>4010</td>\n",
       "    </tr>\n",
       "    <tr>\n",
       "      <th>2</th>\n",
       "      <td>2020-01-01 02:00:00</td>\n",
       "      <td>66611</td>\n",
       "      <td>14710</td>\n",
       "      <td>2970</td>\n",
       "      <td>4631</td>\n",
       "      <td>1044</td>\n",
       "      <td>921</td>\n",
       "      <td>26821</td>\n",
       "      <td>1104</td>\n",
       "      <td>9343</td>\n",
       "      <td>...</td>\n",
       "      <td>768</td>\n",
       "      <td>2299</td>\n",
       "      <td>7986</td>\n",
       "      <td>5426</td>\n",
       "      <td>1536</td>\n",
       "      <td>3229</td>\n",
       "      <td>491</td>\n",
       "      <td>2634</td>\n",
       "      <td>1526</td>\n",
       "      <td>3388</td>\n",
       "    </tr>\n",
       "    <tr>\n",
       "      <th>3</th>\n",
       "      <td>2020-01-01 03:00:00</td>\n",
       "      <td>53290</td>\n",
       "      <td>13753</td>\n",
       "      <td>2270</td>\n",
       "      <td>4242</td>\n",
       "      <td>1021</td>\n",
       "      <td>790</td>\n",
       "      <td>21322</td>\n",
       "      <td>909</td>\n",
       "      <td>10009</td>\n",
       "      <td>...</td>\n",
       "      <td>632</td>\n",
       "      <td>1716</td>\n",
       "      <td>5703</td>\n",
       "      <td>3156</td>\n",
       "      <td>1104</td>\n",
       "      <td>2882</td>\n",
       "      <td>431</td>\n",
       "      <td>2488</td>\n",
       "      <td>1268</td>\n",
       "      <td>3686</td>\n",
       "    </tr>\n",
       "    <tr>\n",
       "      <th>4</th>\n",
       "      <td>2020-01-01 04:00:00</td>\n",
       "      <td>52095</td>\n",
       "      <td>17615</td>\n",
       "      <td>2406</td>\n",
       "      <td>3689</td>\n",
       "      <td>1840</td>\n",
       "      <td>922</td>\n",
       "      <td>22711</td>\n",
       "      <td>1354</td>\n",
       "      <td>15497</td>\n",
       "      <td>...</td>\n",
       "      <td>875</td>\n",
       "      <td>2421</td>\n",
       "      <td>5816</td>\n",
       "      <td>2933</td>\n",
       "      <td>1206</td>\n",
       "      <td>2433</td>\n",
       "      <td>499</td>\n",
       "      <td>2952</td>\n",
       "      <td>1927</td>\n",
       "      <td>5608</td>\n",
       "    </tr>\n",
       "    <tr>\n",
       "      <th>...</th>\n",
       "      <td>...</td>\n",
       "      <td>...</td>\n",
       "      <td>...</td>\n",
       "      <td>...</td>\n",
       "      <td>...</td>\n",
       "      <td>...</td>\n",
       "      <td>...</td>\n",
       "      <td>...</td>\n",
       "      <td>...</td>\n",
       "      <td>...</td>\n",
       "      <td>...</td>\n",
       "      <td>...</td>\n",
       "      <td>...</td>\n",
       "      <td>...</td>\n",
       "      <td>...</td>\n",
       "      <td>...</td>\n",
       "      <td>...</td>\n",
       "      <td>...</td>\n",
       "      <td>...</td>\n",
       "      <td>...</td>\n",
       "      <td>...</td>\n",
       "    </tr>\n",
       "    <tr>\n",
       "      <th>3274</th>\n",
       "      <td>2020-05-17 19:00:00</td>\n",
       "      <td>311727</td>\n",
       "      <td>101285</td>\n",
       "      <td>10085</td>\n",
       "      <td>30637</td>\n",
       "      <td>10060</td>\n",
       "      <td>8749</td>\n",
       "      <td>148935</td>\n",
       "      <td>6801</td>\n",
       "      <td>26101</td>\n",
       "      <td>...</td>\n",
       "      <td>6726</td>\n",
       "      <td>15431</td>\n",
       "      <td>25597</td>\n",
       "      <td>14292</td>\n",
       "      <td>9300</td>\n",
       "      <td>22238</td>\n",
       "      <td>3786</td>\n",
       "      <td>16936</td>\n",
       "      <td>10729</td>\n",
       "      <td>20194</td>\n",
       "    </tr>\n",
       "    <tr>\n",
       "      <th>3275</th>\n",
       "      <td>2020-05-17 20:00:00</td>\n",
       "      <td>305354</td>\n",
       "      <td>91426</td>\n",
       "      <td>8607</td>\n",
       "      <td>26021</td>\n",
       "      <td>8095</td>\n",
       "      <td>7198</td>\n",
       "      <td>136503</td>\n",
       "      <td>6147</td>\n",
       "      <td>20759</td>\n",
       "      <td>...</td>\n",
       "      <td>5501</td>\n",
       "      <td>15378</td>\n",
       "      <td>24661</td>\n",
       "      <td>14747</td>\n",
       "      <td>8239</td>\n",
       "      <td>20604</td>\n",
       "      <td>3203</td>\n",
       "      <td>15018</td>\n",
       "      <td>9767</td>\n",
       "      <td>17962</td>\n",
       "    </tr>\n",
       "    <tr>\n",
       "      <th>3276</th>\n",
       "      <td>2020-05-17 21:00:00</td>\n",
       "      <td>306008</td>\n",
       "      <td>75113</td>\n",
       "      <td>6325</td>\n",
       "      <td>19933</td>\n",
       "      <td>5711</td>\n",
       "      <td>4494</td>\n",
       "      <td>129412</td>\n",
       "      <td>5134</td>\n",
       "      <td>14496</td>\n",
       "      <td>...</td>\n",
       "      <td>4216</td>\n",
       "      <td>12558</td>\n",
       "      <td>22781</td>\n",
       "      <td>14081</td>\n",
       "      <td>6392</td>\n",
       "      <td>17937</td>\n",
       "      <td>2447</td>\n",
       "      <td>12403</td>\n",
       "      <td>7825</td>\n",
       "      <td>14031</td>\n",
       "    </tr>\n",
       "    <tr>\n",
       "      <th>3277</th>\n",
       "      <td>2020-05-17 22:00:00</td>\n",
       "      <td>237447</td>\n",
       "      <td>49498</td>\n",
       "      <td>4209</td>\n",
       "      <td>12145</td>\n",
       "      <td>3891</td>\n",
       "      <td>2718</td>\n",
       "      <td>96698</td>\n",
       "      <td>3526</td>\n",
       "      <td>9363</td>\n",
       "      <td>...</td>\n",
       "      <td>2578</td>\n",
       "      <td>8870</td>\n",
       "      <td>16640</td>\n",
       "      <td>11066</td>\n",
       "      <td>4427</td>\n",
       "      <td>11955</td>\n",
       "      <td>1495</td>\n",
       "      <td>7507</td>\n",
       "      <td>5387</td>\n",
       "      <td>8889</td>\n",
       "    </tr>\n",
       "    <tr>\n",
       "      <th>3278</th>\n",
       "      <td>2020-05-17 23:00:00</td>\n",
       "      <td>150312</td>\n",
       "      <td>27410</td>\n",
       "      <td>2350</td>\n",
       "      <td>6406</td>\n",
       "      <td>1803</td>\n",
       "      <td>1614</td>\n",
       "      <td>55788</td>\n",
       "      <td>1849</td>\n",
       "      <td>5722</td>\n",
       "      <td>...</td>\n",
       "      <td>1377</td>\n",
       "      <td>5021</td>\n",
       "      <td>10058</td>\n",
       "      <td>7139</td>\n",
       "      <td>2250</td>\n",
       "      <td>6844</td>\n",
       "      <td>735</td>\n",
       "      <td>4116</td>\n",
       "      <td>3046</td>\n",
       "      <td>4606</td>\n",
       "    </tr>\n",
       "  </tbody>\n",
       "</table>\n",
       "<p>3279 rows × 36 columns</p>\n",
       "</div>"
      ],
      "text/plain": [
       "                      ds      10     100    101    120    121   140     150  \\\n",
       "0    2020-01-01 00:00:00   83247   19128   2611   5161   1588   892   32263   \n",
       "1    2020-01-01 01:00:00   89309   19027   3337   5502   1650  1043   35609   \n",
       "2    2020-01-01 02:00:00   66611   14710   2970   4631   1044   921   26821   \n",
       "3    2020-01-01 03:00:00   53290   13753   2270   4242   1021   790   21322   \n",
       "4    2020-01-01 04:00:00   52095   17615   2406   3689   1840   922   22711   \n",
       "...                  ...     ...     ...    ...    ...    ...   ...     ...   \n",
       "3274 2020-05-17 19:00:00  311727  101285  10085  30637  10060  8749  148935   \n",
       "3275 2020-05-17 20:00:00  305354   91426   8607  26021   8095  7198  136503   \n",
       "3276 2020-05-17 21:00:00  306008   75113   6325  19933   5711  4494  129412   \n",
       "3277 2020-05-17 22:00:00  237447   49498   4209  12145   3891  2718   96698   \n",
       "3278 2020-05-17 23:00:00  150312   27410   2350   6406   1803  1614   55788   \n",
       "\n",
       "       160    200  ...  1020   1040   1100   1200  1510   2510  3000   4510  \\\n",
       "0     1636   7938  ...  1311   3482  11299   7072  1176   3810   748   3920   \n",
       "1     1644   9896  ...  1162   3849  13180   8771  1283   3763   782   3483   \n",
       "2     1104   9343  ...   768   2299   7986   5426  1536   3229   491   2634   \n",
       "3      909  10009  ...   632   1716   5703   3156  1104   2882   431   2488   \n",
       "4     1354  15497  ...   875   2421   5816   2933  1206   2433   499   2952   \n",
       "...    ...    ...  ...   ...    ...    ...    ...   ...    ...   ...    ...   \n",
       "3274  6801  26101  ...  6726  15431  25597  14292  9300  22238  3786  16936   \n",
       "3275  6147  20759  ...  5501  15378  24661  14747  8239  20604  3203  15018   \n",
       "3276  5134  14496  ...  4216  12558  22781  14081  6392  17937  2447  12403   \n",
       "3277  3526   9363  ...  2578   8870  16640  11066  4427  11955  1495   7507   \n",
       "3278  1849   5722  ...  1377   5021  10058   7139  2250   6844   735   4116   \n",
       "\n",
       "       5510   6000  \n",
       "0      2133   3799  \n",
       "1      2057   4010  \n",
       "2      1526   3388  \n",
       "3      1268   3686  \n",
       "4      1927   5608  \n",
       "...     ...    ...  \n",
       "3274  10729  20194  \n",
       "3275   9767  17962  \n",
       "3276   7825  14031  \n",
       "3277   5387   8889  \n",
       "3278   3046   4606  \n",
       "\n",
       "[3279 rows x 36 columns]"
      ]
     },
     "execution_count": 7,
     "metadata": {},
     "output_type": "execute_result"
    }
   ],
   "source": [
    "train_df = col_timestamp('train')\n",
    "train_df"
   ]
  },
  {
   "cell_type": "code",
   "execution_count": 8,
   "metadata": {
    "tags": []
   },
   "outputs": [],
   "source": [
    "scaled_train = scaling(train_df, 'train')"
   ]
  },
  {
   "cell_type": "code",
   "execution_count": 9,
   "metadata": {},
   "outputs": [
    {
     "data": {
      "text/html": [
       "<div>\n",
       "<style scoped>\n",
       "    .dataframe tbody tr th:only-of-type {\n",
       "        vertical-align: middle;\n",
       "    }\n",
       "\n",
       "    .dataframe tbody tr th {\n",
       "        vertical-align: top;\n",
       "    }\n",
       "\n",
       "    .dataframe thead th {\n",
       "        text-align: right;\n",
       "    }\n",
       "</style>\n",
       "<table border=\"1\" class=\"dataframe\">\n",
       "  <thead>\n",
       "    <tr style=\"text-align: right;\">\n",
       "      <th></th>\n",
       "      <th>ds</th>\n",
       "      <th>10</th>\n",
       "      <th>100</th>\n",
       "      <th>101</th>\n",
       "      <th>120</th>\n",
       "      <th>121</th>\n",
       "      <th>140</th>\n",
       "      <th>150</th>\n",
       "      <th>160</th>\n",
       "      <th>200</th>\n",
       "      <th>...</th>\n",
       "      <th>1020</th>\n",
       "      <th>1040</th>\n",
       "      <th>1100</th>\n",
       "      <th>1200</th>\n",
       "      <th>1510</th>\n",
       "      <th>2510</th>\n",
       "      <th>3000</th>\n",
       "      <th>4510</th>\n",
       "      <th>5510</th>\n",
       "      <th>6000</th>\n",
       "    </tr>\n",
       "  </thead>\n",
       "  <tbody>\n",
       "    <tr>\n",
       "      <th>0</th>\n",
       "      <td>2020-01-01 00:00:00</td>\n",
       "      <td>-1.217013</td>\n",
       "      <td>-1.142035</td>\n",
       "      <td>-0.813618</td>\n",
       "      <td>-0.913505</td>\n",
       "      <td>-1.053905</td>\n",
       "      <td>-1.072626</td>\n",
       "      <td>-1.147111</td>\n",
       "      <td>-0.965372</td>\n",
       "      <td>-0.395574</td>\n",
       "      <td>...</td>\n",
       "      <td>-0.990008</td>\n",
       "      <td>-1.205047</td>\n",
       "      <td>-1.017020</td>\n",
       "      <td>-0.961316</td>\n",
       "      <td>-0.904783</td>\n",
       "      <td>-1.130552</td>\n",
       "      <td>-0.913565</td>\n",
       "      <td>-1.023009</td>\n",
       "      <td>-1.116140</td>\n",
       "      <td>-1.094880</td>\n",
       "    </tr>\n",
       "    <tr>\n",
       "      <th>1</th>\n",
       "      <td>2020-01-01 01:00:00</td>\n",
       "      <td>-1.167309</td>\n",
       "      <td>-1.144460</td>\n",
       "      <td>-0.683299</td>\n",
       "      <td>-0.887910</td>\n",
       "      <td>-1.040942</td>\n",
       "      <td>-1.029875</td>\n",
       "      <td>-1.089849</td>\n",
       "      <td>-0.962570</td>\n",
       "      <td>-0.171206</td>\n",
       "      <td>...</td>\n",
       "      <td>-1.028472</td>\n",
       "      <td>-1.145526</td>\n",
       "      <td>-0.896491</td>\n",
       "      <td>-0.722831</td>\n",
       "      <td>-0.878570</td>\n",
       "      <td>-1.135464</td>\n",
       "      <td>-0.895440</td>\n",
       "      <td>-1.077666</td>\n",
       "      <td>-1.130734</td>\n",
       "      <td>-1.072134</td>\n",
       "    </tr>\n",
       "    <tr>\n",
       "      <th>2</th>\n",
       "      <td>2020-01-01 02:00:00</td>\n",
       "      <td>-1.353416</td>\n",
       "      <td>-1.248142</td>\n",
       "      <td>-0.749177</td>\n",
       "      <td>-0.953287</td>\n",
       "      <td>-1.167641</td>\n",
       "      <td>-1.064416</td>\n",
       "      <td>-1.240242</td>\n",
       "      <td>-1.151710</td>\n",
       "      <td>-0.234575</td>\n",
       "      <td>...</td>\n",
       "      <td>-1.130181</td>\n",
       "      <td>-1.396910</td>\n",
       "      <td>-1.229307</td>\n",
       "      <td>-1.192362</td>\n",
       "      <td>-0.816589</td>\n",
       "      <td>-1.191269</td>\n",
       "      <td>-1.050574</td>\n",
       "      <td>-1.183853</td>\n",
       "      <td>-1.232699</td>\n",
       "      <td>-1.139188</td>\n",
       "    </tr>\n",
       "    <tr>\n",
       "      <th>3</th>\n",
       "      <td>2020-01-01 03:00:00</td>\n",
       "      <td>-1.462639</td>\n",
       "      <td>-1.271127</td>\n",
       "      <td>-0.874828</td>\n",
       "      <td>-0.982485</td>\n",
       "      <td>-1.172450</td>\n",
       "      <td>-1.101505</td>\n",
       "      <td>-1.334348</td>\n",
       "      <td>-1.220010</td>\n",
       "      <td>-0.158258</td>\n",
       "      <td>...</td>\n",
       "      <td>-1.165289</td>\n",
       "      <td>-1.491463</td>\n",
       "      <td>-1.375596</td>\n",
       "      <td>-1.510997</td>\n",
       "      <td>-0.922421</td>\n",
       "      <td>-1.227532</td>\n",
       "      <td>-1.082561</td>\n",
       "      <td>-1.202113</td>\n",
       "      <td>-1.282241</td>\n",
       "      <td>-1.107062</td>\n",
       "    </tr>\n",
       "    <tr>\n",
       "      <th>4</th>\n",
       "      <td>2020-01-01 04:00:00</td>\n",
       "      <td>-1.472437</td>\n",
       "      <td>-1.178372</td>\n",
       "      <td>-0.850416</td>\n",
       "      <td>-1.023993</td>\n",
       "      <td>-1.001218</td>\n",
       "      <td>-1.064133</td>\n",
       "      <td>-1.310578</td>\n",
       "      <td>-1.064145</td>\n",
       "      <td>0.470613</td>\n",
       "      <td>...</td>\n",
       "      <td>-1.102559</td>\n",
       "      <td>-1.377124</td>\n",
       "      <td>-1.368355</td>\n",
       "      <td>-1.542299</td>\n",
       "      <td>-0.897433</td>\n",
       "      <td>-1.274454</td>\n",
       "      <td>-1.046309</td>\n",
       "      <td>-1.144079</td>\n",
       "      <td>-1.155697</td>\n",
       "      <td>-0.899861</td>\n",
       "    </tr>\n",
       "    <tr>\n",
       "      <th>...</th>\n",
       "      <td>...</td>\n",
       "      <td>...</td>\n",
       "      <td>...</td>\n",
       "      <td>...</td>\n",
       "      <td>...</td>\n",
       "      <td>...</td>\n",
       "      <td>...</td>\n",
       "      <td>...</td>\n",
       "      <td>...</td>\n",
       "      <td>...</td>\n",
       "      <td>...</td>\n",
       "      <td>...</td>\n",
       "      <td>...</td>\n",
       "      <td>...</td>\n",
       "      <td>...</td>\n",
       "      <td>...</td>\n",
       "      <td>...</td>\n",
       "      <td>...</td>\n",
       "      <td>...</td>\n",
       "      <td>...</td>\n",
       "      <td>...</td>\n",
       "    </tr>\n",
       "    <tr>\n",
       "      <th>3274</th>\n",
       "      <td>2020-05-17 19:00:00</td>\n",
       "      <td>0.656355</td>\n",
       "      <td>0.831140</td>\n",
       "      <td>0.527980</td>\n",
       "      <td>0.998725</td>\n",
       "      <td>0.717374</td>\n",
       "      <td>1.151854</td>\n",
       "      <td>0.849540</td>\n",
       "      <td>0.843713</td>\n",
       "      <td>1.685726</td>\n",
       "      <td>...</td>\n",
       "      <td>0.407847</td>\n",
       "      <td>0.732882</td>\n",
       "      <td>-0.100844</td>\n",
       "      <td>0.052140</td>\n",
       "      <td>1.085447</td>\n",
       "      <td>0.795245</td>\n",
       "      <td>0.706016</td>\n",
       "      <td>0.604938</td>\n",
       "      <td>0.534499</td>\n",
       "      <td>0.672580</td>\n",
       "    </tr>\n",
       "    <tr>\n",
       "      <th>3275</th>\n",
       "      <td>2020-05-17 20:00:00</td>\n",
       "      <td>0.604102</td>\n",
       "      <td>0.594355</td>\n",
       "      <td>0.262676</td>\n",
       "      <td>0.652247</td>\n",
       "      <td>0.306542</td>\n",
       "      <td>0.712734</td>\n",
       "      <td>0.636786</td>\n",
       "      <td>0.614644</td>\n",
       "      <td>1.073586</td>\n",
       "      <td>...</td>\n",
       "      <td>0.091619</td>\n",
       "      <td>0.724286</td>\n",
       "      <td>-0.160820</td>\n",
       "      <td>0.116007</td>\n",
       "      <td>0.825521</td>\n",
       "      <td>0.624485</td>\n",
       "      <td>0.395214</td>\n",
       "      <td>0.365049</td>\n",
       "      <td>0.349772</td>\n",
       "      <td>0.431960</td>\n",
       "    </tr>\n",
       "    <tr>\n",
       "      <th>3276</th>\n",
       "      <td>2020-05-17 21:00:00</td>\n",
       "      <td>0.609464</td>\n",
       "      <td>0.202564</td>\n",
       "      <td>-0.146947</td>\n",
       "      <td>0.195282</td>\n",
       "      <td>-0.191891</td>\n",
       "      <td>-0.052825</td>\n",
       "      <td>0.515436</td>\n",
       "      <td>0.259832</td>\n",
       "      <td>0.355908</td>\n",
       "      <td>...</td>\n",
       "      <td>-0.240097</td>\n",
       "      <td>0.266929</td>\n",
       "      <td>-0.281286</td>\n",
       "      <td>0.022522</td>\n",
       "      <td>0.373041</td>\n",
       "      <td>0.345774</td>\n",
       "      <td>-0.007815</td>\n",
       "      <td>0.037983</td>\n",
       "      <td>-0.023139</td>\n",
       "      <td>0.008179</td>\n",
       "    </tr>\n",
       "    <tr>\n",
       "      <th>3277</th>\n",
       "      <td>2020-05-17 22:00:00</td>\n",
       "      <td>0.047314</td>\n",
       "      <td>-0.412635</td>\n",
       "      <td>-0.526774</td>\n",
       "      <td>-0.389286</td>\n",
       "      <td>-0.572406</td>\n",
       "      <td>-0.555648</td>\n",
       "      <td>-0.044411</td>\n",
       "      <td>-0.303384</td>\n",
       "      <td>-0.232283</td>\n",
       "      <td>...</td>\n",
       "      <td>-0.662939</td>\n",
       "      <td>-0.331203</td>\n",
       "      <td>-0.674784</td>\n",
       "      <td>-0.400687</td>\n",
       "      <td>-0.108348</td>\n",
       "      <td>-0.279368</td>\n",
       "      <td>-0.515334</td>\n",
       "      <td>-0.574373</td>\n",
       "      <td>-0.491294</td>\n",
       "      <td>-0.546154</td>\n",
       "    </tr>\n",
       "    <tr>\n",
       "      <th>3278</th>\n",
       "      <td>2020-05-17 23:00:00</td>\n",
       "      <td>-0.667129</td>\n",
       "      <td>-0.943125</td>\n",
       "      <td>-0.860468</td>\n",
       "      <td>-0.820055</td>\n",
       "      <td>-1.008954</td>\n",
       "      <td>-0.868213</td>\n",
       "      <td>-0.744519</td>\n",
       "      <td>-0.890767</td>\n",
       "      <td>-0.649505</td>\n",
       "      <td>...</td>\n",
       "      <td>-0.972971</td>\n",
       "      <td>-0.955447</td>\n",
       "      <td>-1.096540</td>\n",
       "      <td>-0.951911</td>\n",
       "      <td>-0.641673</td>\n",
       "      <td>-0.813488</td>\n",
       "      <td>-0.920496</td>\n",
       "      <td>-0.998495</td>\n",
       "      <td>-0.940822</td>\n",
       "      <td>-1.007882</td>\n",
       "    </tr>\n",
       "  </tbody>\n",
       "</table>\n",
       "<p>3279 rows × 36 columns</p>\n",
       "</div>"
      ],
      "text/plain": [
       "                      ds        10       100       101       120       121  \\\n",
       "0    2020-01-01 00:00:00 -1.217013 -1.142035 -0.813618 -0.913505 -1.053905   \n",
       "1    2020-01-01 01:00:00 -1.167309 -1.144460 -0.683299 -0.887910 -1.040942   \n",
       "2    2020-01-01 02:00:00 -1.353416 -1.248142 -0.749177 -0.953287 -1.167641   \n",
       "3    2020-01-01 03:00:00 -1.462639 -1.271127 -0.874828 -0.982485 -1.172450   \n",
       "4    2020-01-01 04:00:00 -1.472437 -1.178372 -0.850416 -1.023993 -1.001218   \n",
       "...                  ...       ...       ...       ...       ...       ...   \n",
       "3274 2020-05-17 19:00:00  0.656355  0.831140  0.527980  0.998725  0.717374   \n",
       "3275 2020-05-17 20:00:00  0.604102  0.594355  0.262676  0.652247  0.306542   \n",
       "3276 2020-05-17 21:00:00  0.609464  0.202564 -0.146947  0.195282 -0.191891   \n",
       "3277 2020-05-17 22:00:00  0.047314 -0.412635 -0.526774 -0.389286 -0.572406   \n",
       "3278 2020-05-17 23:00:00 -0.667129 -0.943125 -0.860468 -0.820055 -1.008954   \n",
       "\n",
       "           140       150       160       200  ...      1020      1040  \\\n",
       "0    -1.072626 -1.147111 -0.965372 -0.395574  ... -0.990008 -1.205047   \n",
       "1    -1.029875 -1.089849 -0.962570 -0.171206  ... -1.028472 -1.145526   \n",
       "2    -1.064416 -1.240242 -1.151710 -0.234575  ... -1.130181 -1.396910   \n",
       "3    -1.101505 -1.334348 -1.220010 -0.158258  ... -1.165289 -1.491463   \n",
       "4    -1.064133 -1.310578 -1.064145  0.470613  ... -1.102559 -1.377124   \n",
       "...        ...       ...       ...       ...  ...       ...       ...   \n",
       "3274  1.151854  0.849540  0.843713  1.685726  ...  0.407847  0.732882   \n",
       "3275  0.712734  0.636786  0.614644  1.073586  ...  0.091619  0.724286   \n",
       "3276 -0.052825  0.515436  0.259832  0.355908  ... -0.240097  0.266929   \n",
       "3277 -0.555648 -0.044411 -0.303384 -0.232283  ... -0.662939 -0.331203   \n",
       "3278 -0.868213 -0.744519 -0.890767 -0.649505  ... -0.972971 -0.955447   \n",
       "\n",
       "          1100      1200      1510      2510      3000      4510      5510  \\\n",
       "0    -1.017020 -0.961316 -0.904783 -1.130552 -0.913565 -1.023009 -1.116140   \n",
       "1    -0.896491 -0.722831 -0.878570 -1.135464 -0.895440 -1.077666 -1.130734   \n",
       "2    -1.229307 -1.192362 -0.816589 -1.191269 -1.050574 -1.183853 -1.232699   \n",
       "3    -1.375596 -1.510997 -0.922421 -1.227532 -1.082561 -1.202113 -1.282241   \n",
       "4    -1.368355 -1.542299 -0.897433 -1.274454 -1.046309 -1.144079 -1.155697   \n",
       "...        ...       ...       ...       ...       ...       ...       ...   \n",
       "3274 -0.100844  0.052140  1.085447  0.795245  0.706016  0.604938  0.534499   \n",
       "3275 -0.160820  0.116007  0.825521  0.624485  0.395214  0.365049  0.349772   \n",
       "3276 -0.281286  0.022522  0.373041  0.345774 -0.007815  0.037983 -0.023139   \n",
       "3277 -0.674784 -0.400687 -0.108348 -0.279368 -0.515334 -0.574373 -0.491294   \n",
       "3278 -1.096540 -0.951911 -0.641673 -0.813488 -0.920496 -0.998495 -0.940822   \n",
       "\n",
       "          6000  \n",
       "0    -1.094880  \n",
       "1    -1.072134  \n",
       "2    -1.139188  \n",
       "3    -1.107062  \n",
       "4    -0.899861  \n",
       "...        ...  \n",
       "3274  0.672580  \n",
       "3275  0.431960  \n",
       "3276  0.008179  \n",
       "3277 -0.546154  \n",
       "3278 -1.007882  \n",
       "\n",
       "[3279 rows x 36 columns]"
      ]
     },
     "execution_count": 9,
     "metadata": {},
     "output_type": "execute_result"
    }
   ],
   "source": [
    "scaled_train"
   ]
  },
  {
   "cell_type": "code",
   "execution_count": 10,
   "metadata": {
    "collapsed": true,
    "jupyter": {
     "outputs_hidden": true
    },
    "tags": []
   },
   "outputs": [
    {
     "data": {
      "text/html": [
       "<div>\n",
       "<style scoped>\n",
       "    .dataframe tbody tr th:only-of-type {\n",
       "        vertical-align: middle;\n",
       "    }\n",
       "\n",
       "    .dataframe tbody tr th {\n",
       "        vertical-align: top;\n",
       "    }\n",
       "\n",
       "    .dataframe thead th {\n",
       "        text-align: right;\n",
       "    }\n",
       "</style>\n",
       "<table border=\"1\" class=\"dataframe\">\n",
       "  <thead>\n",
       "    <tr style=\"text-align: right;\">\n",
       "      <th></th>\n",
       "      <th>ds</th>\n",
       "      <th>10</th>\n",
       "      <th>100</th>\n",
       "      <th>101</th>\n",
       "      <th>120</th>\n",
       "      <th>121</th>\n",
       "      <th>140</th>\n",
       "      <th>150</th>\n",
       "      <th>160</th>\n",
       "      <th>200</th>\n",
       "      <th>...</th>\n",
       "      <th>1020</th>\n",
       "      <th>1040</th>\n",
       "      <th>1100</th>\n",
       "      <th>1200</th>\n",
       "      <th>1510</th>\n",
       "      <th>2510</th>\n",
       "      <th>3000</th>\n",
       "      <th>4510</th>\n",
       "      <th>5510</th>\n",
       "      <th>6000</th>\n",
       "    </tr>\n",
       "  </thead>\n",
       "  <tbody>\n",
       "    <tr>\n",
       "      <th>0</th>\n",
       "      <td>2020-01-01 00:00:00</td>\n",
       "      <td>83247.0</td>\n",
       "      <td>19128.0</td>\n",
       "      <td>2611.0</td>\n",
       "      <td>5161.0</td>\n",
       "      <td>1588.0</td>\n",
       "      <td>892.0</td>\n",
       "      <td>32263.0</td>\n",
       "      <td>1636.0</td>\n",
       "      <td>7938.0</td>\n",
       "      <td>...</td>\n",
       "      <td>1311.0</td>\n",
       "      <td>3482.0</td>\n",
       "      <td>11299.0</td>\n",
       "      <td>7072.0</td>\n",
       "      <td>1176.0</td>\n",
       "      <td>3810.0</td>\n",
       "      <td>748.0</td>\n",
       "      <td>3920.0</td>\n",
       "      <td>2133.0</td>\n",
       "      <td>3799.0</td>\n",
       "    </tr>\n",
       "    <tr>\n",
       "      <th>1</th>\n",
       "      <td>2020-01-01 01:00:00</td>\n",
       "      <td>89309.0</td>\n",
       "      <td>19027.0</td>\n",
       "      <td>3337.0</td>\n",
       "      <td>5502.0</td>\n",
       "      <td>1650.0</td>\n",
       "      <td>1043.0</td>\n",
       "      <td>35609.0</td>\n",
       "      <td>1644.0</td>\n",
       "      <td>9896.0</td>\n",
       "      <td>...</td>\n",
       "      <td>1162.0</td>\n",
       "      <td>3849.0</td>\n",
       "      <td>13180.0</td>\n",
       "      <td>8771.0</td>\n",
       "      <td>1283.0</td>\n",
       "      <td>3763.0</td>\n",
       "      <td>782.0</td>\n",
       "      <td>3483.0</td>\n",
       "      <td>2057.0</td>\n",
       "      <td>4010.0</td>\n",
       "    </tr>\n",
       "    <tr>\n",
       "      <th>2</th>\n",
       "      <td>2020-01-01 02:00:00</td>\n",
       "      <td>66611.0</td>\n",
       "      <td>14710.0</td>\n",
       "      <td>2970.0</td>\n",
       "      <td>4631.0</td>\n",
       "      <td>1044.0</td>\n",
       "      <td>921.0</td>\n",
       "      <td>26821.0</td>\n",
       "      <td>1104.0</td>\n",
       "      <td>9343.0</td>\n",
       "      <td>...</td>\n",
       "      <td>768.0</td>\n",
       "      <td>2299.0</td>\n",
       "      <td>7986.0</td>\n",
       "      <td>5426.0</td>\n",
       "      <td>1536.0</td>\n",
       "      <td>3229.0</td>\n",
       "      <td>491.0</td>\n",
       "      <td>2634.0</td>\n",
       "      <td>1526.0</td>\n",
       "      <td>3388.0</td>\n",
       "    </tr>\n",
       "    <tr>\n",
       "      <th>3</th>\n",
       "      <td>2020-01-01 03:00:00</td>\n",
       "      <td>53290.0</td>\n",
       "      <td>13753.0</td>\n",
       "      <td>2270.0</td>\n",
       "      <td>4242.0</td>\n",
       "      <td>1021.0</td>\n",
       "      <td>790.0</td>\n",
       "      <td>21322.0</td>\n",
       "      <td>909.0</td>\n",
       "      <td>10009.0</td>\n",
       "      <td>...</td>\n",
       "      <td>632.0</td>\n",
       "      <td>1716.0</td>\n",
       "      <td>5703.0</td>\n",
       "      <td>3156.0</td>\n",
       "      <td>1104.0</td>\n",
       "      <td>2882.0</td>\n",
       "      <td>431.0</td>\n",
       "      <td>2488.0</td>\n",
       "      <td>1268.0</td>\n",
       "      <td>3686.0</td>\n",
       "    </tr>\n",
       "    <tr>\n",
       "      <th>4</th>\n",
       "      <td>2020-01-01 04:00:00</td>\n",
       "      <td>52095.0</td>\n",
       "      <td>17615.0</td>\n",
       "      <td>2406.0</td>\n",
       "      <td>3689.0</td>\n",
       "      <td>1840.0</td>\n",
       "      <td>922.0</td>\n",
       "      <td>22711.0</td>\n",
       "      <td>1354.0</td>\n",
       "      <td>15497.0</td>\n",
       "      <td>...</td>\n",
       "      <td>875.0</td>\n",
       "      <td>2421.0</td>\n",
       "      <td>5816.0</td>\n",
       "      <td>2933.0</td>\n",
       "      <td>1206.0</td>\n",
       "      <td>2433.0</td>\n",
       "      <td>499.0</td>\n",
       "      <td>2952.0</td>\n",
       "      <td>1927.0</td>\n",
       "      <td>5608.0</td>\n",
       "    </tr>\n",
       "    <tr>\n",
       "      <th>...</th>\n",
       "      <td>...</td>\n",
       "      <td>...</td>\n",
       "      <td>...</td>\n",
       "      <td>...</td>\n",
       "      <td>...</td>\n",
       "      <td>...</td>\n",
       "      <td>...</td>\n",
       "      <td>...</td>\n",
       "      <td>...</td>\n",
       "      <td>...</td>\n",
       "      <td>...</td>\n",
       "      <td>...</td>\n",
       "      <td>...</td>\n",
       "      <td>...</td>\n",
       "      <td>...</td>\n",
       "      <td>...</td>\n",
       "      <td>...</td>\n",
       "      <td>...</td>\n",
       "      <td>...</td>\n",
       "      <td>...</td>\n",
       "      <td>...</td>\n",
       "    </tr>\n",
       "    <tr>\n",
       "      <th>3274</th>\n",
       "      <td>2020-05-17 19:00:00</td>\n",
       "      <td>311727.0</td>\n",
       "      <td>101285.0</td>\n",
       "      <td>10085.0</td>\n",
       "      <td>30637.0</td>\n",
       "      <td>10060.0</td>\n",
       "      <td>8749.0</td>\n",
       "      <td>148935.0</td>\n",
       "      <td>6801.0</td>\n",
       "      <td>26101.0</td>\n",
       "      <td>...</td>\n",
       "      <td>6726.0</td>\n",
       "      <td>15431.0</td>\n",
       "      <td>25597.0</td>\n",
       "      <td>14292.0</td>\n",
       "      <td>9300.0</td>\n",
       "      <td>22238.0</td>\n",
       "      <td>3786.0</td>\n",
       "      <td>16936.0</td>\n",
       "      <td>10729.0</td>\n",
       "      <td>20194.0</td>\n",
       "    </tr>\n",
       "    <tr>\n",
       "      <th>3275</th>\n",
       "      <td>2020-05-17 20:00:00</td>\n",
       "      <td>305354.0</td>\n",
       "      <td>91426.0</td>\n",
       "      <td>8607.0</td>\n",
       "      <td>26021.0</td>\n",
       "      <td>8095.0</td>\n",
       "      <td>7198.0</td>\n",
       "      <td>136503.0</td>\n",
       "      <td>6147.0</td>\n",
       "      <td>20759.0</td>\n",
       "      <td>...</td>\n",
       "      <td>5501.0</td>\n",
       "      <td>15378.0</td>\n",
       "      <td>24661.0</td>\n",
       "      <td>14747.0</td>\n",
       "      <td>8239.0</td>\n",
       "      <td>20604.0</td>\n",
       "      <td>3203.0</td>\n",
       "      <td>15018.0</td>\n",
       "      <td>9767.0</td>\n",
       "      <td>17962.0</td>\n",
       "    </tr>\n",
       "    <tr>\n",
       "      <th>3276</th>\n",
       "      <td>2020-05-17 21:00:00</td>\n",
       "      <td>306008.0</td>\n",
       "      <td>75113.0</td>\n",
       "      <td>6325.0</td>\n",
       "      <td>19933.0</td>\n",
       "      <td>5711.0</td>\n",
       "      <td>4494.0</td>\n",
       "      <td>129412.0</td>\n",
       "      <td>5134.0</td>\n",
       "      <td>14496.0</td>\n",
       "      <td>...</td>\n",
       "      <td>4216.0</td>\n",
       "      <td>12558.0</td>\n",
       "      <td>22781.0</td>\n",
       "      <td>14081.0</td>\n",
       "      <td>6392.0</td>\n",
       "      <td>17937.0</td>\n",
       "      <td>2447.0</td>\n",
       "      <td>12403.0</td>\n",
       "      <td>7825.0</td>\n",
       "      <td>14031.0</td>\n",
       "    </tr>\n",
       "    <tr>\n",
       "      <th>3277</th>\n",
       "      <td>2020-05-17 22:00:00</td>\n",
       "      <td>237447.0</td>\n",
       "      <td>49498.0</td>\n",
       "      <td>4209.0</td>\n",
       "      <td>12145.0</td>\n",
       "      <td>3891.0</td>\n",
       "      <td>2718.0</td>\n",
       "      <td>96698.0</td>\n",
       "      <td>3526.0</td>\n",
       "      <td>9363.0</td>\n",
       "      <td>...</td>\n",
       "      <td>2578.0</td>\n",
       "      <td>8870.0</td>\n",
       "      <td>16640.0</td>\n",
       "      <td>11066.0</td>\n",
       "      <td>4427.0</td>\n",
       "      <td>11955.0</td>\n",
       "      <td>1495.0</td>\n",
       "      <td>7507.0</td>\n",
       "      <td>5387.0</td>\n",
       "      <td>8889.0</td>\n",
       "    </tr>\n",
       "    <tr>\n",
       "      <th>3278</th>\n",
       "      <td>2020-05-17 23:00:00</td>\n",
       "      <td>150312.0</td>\n",
       "      <td>27410.0</td>\n",
       "      <td>2350.0</td>\n",
       "      <td>6406.0</td>\n",
       "      <td>1803.0</td>\n",
       "      <td>1614.0</td>\n",
       "      <td>55788.0</td>\n",
       "      <td>1849.0</td>\n",
       "      <td>5722.0</td>\n",
       "      <td>...</td>\n",
       "      <td>1377.0</td>\n",
       "      <td>5021.0</td>\n",
       "      <td>10058.0</td>\n",
       "      <td>7139.0</td>\n",
       "      <td>2250.0</td>\n",
       "      <td>6844.0</td>\n",
       "      <td>735.0</td>\n",
       "      <td>4116.0</td>\n",
       "      <td>3046.0</td>\n",
       "      <td>4606.0</td>\n",
       "    </tr>\n",
       "  </tbody>\n",
       "</table>\n",
       "<p>3279 rows × 36 columns</p>\n",
       "</div>"
      ],
      "text/plain": [
       "                      ds        10       100      101      120      121  \\\n",
       "0    2020-01-01 00:00:00   83247.0   19128.0   2611.0   5161.0   1588.0   \n",
       "1    2020-01-01 01:00:00   89309.0   19027.0   3337.0   5502.0   1650.0   \n",
       "2    2020-01-01 02:00:00   66611.0   14710.0   2970.0   4631.0   1044.0   \n",
       "3    2020-01-01 03:00:00   53290.0   13753.0   2270.0   4242.0   1021.0   \n",
       "4    2020-01-01 04:00:00   52095.0   17615.0   2406.0   3689.0   1840.0   \n",
       "...                  ...       ...       ...      ...      ...      ...   \n",
       "3274 2020-05-17 19:00:00  311727.0  101285.0  10085.0  30637.0  10060.0   \n",
       "3275 2020-05-17 20:00:00  305354.0   91426.0   8607.0  26021.0   8095.0   \n",
       "3276 2020-05-17 21:00:00  306008.0   75113.0   6325.0  19933.0   5711.0   \n",
       "3277 2020-05-17 22:00:00  237447.0   49498.0   4209.0  12145.0   3891.0   \n",
       "3278 2020-05-17 23:00:00  150312.0   27410.0   2350.0   6406.0   1803.0   \n",
       "\n",
       "         140       150     160      200  ...    1020     1040     1100  \\\n",
       "0      892.0   32263.0  1636.0   7938.0  ...  1311.0   3482.0  11299.0   \n",
       "1     1043.0   35609.0  1644.0   9896.0  ...  1162.0   3849.0  13180.0   \n",
       "2      921.0   26821.0  1104.0   9343.0  ...   768.0   2299.0   7986.0   \n",
       "3      790.0   21322.0   909.0  10009.0  ...   632.0   1716.0   5703.0   \n",
       "4      922.0   22711.0  1354.0  15497.0  ...   875.0   2421.0   5816.0   \n",
       "...      ...       ...     ...      ...  ...     ...      ...      ...   \n",
       "3274  8749.0  148935.0  6801.0  26101.0  ...  6726.0  15431.0  25597.0   \n",
       "3275  7198.0  136503.0  6147.0  20759.0  ...  5501.0  15378.0  24661.0   \n",
       "3276  4494.0  129412.0  5134.0  14496.0  ...  4216.0  12558.0  22781.0   \n",
       "3277  2718.0   96698.0  3526.0   9363.0  ...  2578.0   8870.0  16640.0   \n",
       "3278  1614.0   55788.0  1849.0   5722.0  ...  1377.0   5021.0  10058.0   \n",
       "\n",
       "         1200    1510     2510    3000     4510     5510     6000  \n",
       "0      7072.0  1176.0   3810.0   748.0   3920.0   2133.0   3799.0  \n",
       "1      8771.0  1283.0   3763.0   782.0   3483.0   2057.0   4010.0  \n",
       "2      5426.0  1536.0   3229.0   491.0   2634.0   1526.0   3388.0  \n",
       "3      3156.0  1104.0   2882.0   431.0   2488.0   1268.0   3686.0  \n",
       "4      2933.0  1206.0   2433.0   499.0   2952.0   1927.0   5608.0  \n",
       "...       ...     ...      ...     ...      ...      ...      ...  \n",
       "3274  14292.0  9300.0  22238.0  3786.0  16936.0  10729.0  20194.0  \n",
       "3275  14747.0  8239.0  20604.0  3203.0  15018.0   9767.0  17962.0  \n",
       "3276  14081.0  6392.0  17937.0  2447.0  12403.0   7825.0  14031.0  \n",
       "3277  11066.0  4427.0  11955.0  1495.0   7507.0   5387.0   8889.0  \n",
       "3278   7139.0  2250.0   6844.0   735.0   4116.0   3046.0   4606.0  \n",
       "\n",
       "[3279 rows x 36 columns]"
      ]
     },
     "execution_count": 10,
     "metadata": {},
     "output_type": "execute_result"
    }
   ],
   "source": [
    "unscaled_train = unscaling(scaled_train)\n",
    "unscaled_train"
   ]
  },
  {
   "cell_type": "code",
   "execution_count": 11,
   "metadata": {},
   "outputs": [],
   "source": [
    "val_df = col_timestamp('validate')"
   ]
  },
  {
   "cell_type": "code",
   "execution_count": 13,
   "metadata": {},
   "outputs": [
    {
     "data": {
      "text/html": [
       "<div>\n",
       "<style scoped>\n",
       "    .dataframe tbody tr th:only-of-type {\n",
       "        vertical-align: middle;\n",
       "    }\n",
       "\n",
       "    .dataframe tbody tr th {\n",
       "        vertical-align: top;\n",
       "    }\n",
       "\n",
       "    .dataframe thead th {\n",
       "        text-align: right;\n",
       "    }\n",
       "</style>\n",
       "<table border=\"1\" class=\"dataframe\">\n",
       "  <thead>\n",
       "    <tr style=\"text-align: right;\">\n",
       "      <th></th>\n",
       "      <th>ds</th>\n",
       "      <th>10</th>\n",
       "      <th>100</th>\n",
       "      <th>101</th>\n",
       "      <th>120</th>\n",
       "      <th>121</th>\n",
       "      <th>140</th>\n",
       "      <th>150</th>\n",
       "      <th>160</th>\n",
       "      <th>200</th>\n",
       "      <th>...</th>\n",
       "      <th>1020</th>\n",
       "      <th>1040</th>\n",
       "      <th>1100</th>\n",
       "      <th>1200</th>\n",
       "      <th>1510</th>\n",
       "      <th>2510</th>\n",
       "      <th>3000</th>\n",
       "      <th>4510</th>\n",
       "      <th>5510</th>\n",
       "      <th>6000</th>\n",
       "    </tr>\n",
       "  </thead>\n",
       "  <tbody>\n",
       "    <tr>\n",
       "      <th>0</th>\n",
       "      <td>2020-05-11 00:00:00</td>\n",
       "      <td>-1.260297</td>\n",
       "      <td>-1.254891</td>\n",
       "      <td>-1.060972</td>\n",
       "      <td>-0.999073</td>\n",
       "      <td>-1.180813</td>\n",
       "      <td>-1.075741</td>\n",
       "      <td>-1.208565</td>\n",
       "      <td>-1.165720</td>\n",
       "      <td>-0.977577</td>\n",
       "      <td>...</td>\n",
       "      <td>-1.163998</td>\n",
       "      <td>-1.347444</td>\n",
       "      <td>-1.405327</td>\n",
       "      <td>-1.368944</td>\n",
       "      <td>-0.909927</td>\n",
       "      <td>-1.152916</td>\n",
       "      <td>-1.132673</td>\n",
       "      <td>-1.230380</td>\n",
       "      <td>-1.216953</td>\n",
       "      <td>-1.252491</td>\n",
       "    </tr>\n",
       "    <tr>\n",
       "      <th>1</th>\n",
       "      <td>2020-05-11 01:00:00</td>\n",
       "      <td>-1.500446</td>\n",
       "      <td>-1.382014</td>\n",
       "      <td>-1.134567</td>\n",
       "      <td>-1.104383</td>\n",
       "      <td>-1.249180</td>\n",
       "      <td>-1.163225</td>\n",
       "      <td>-1.395956</td>\n",
       "      <td>-1.303021</td>\n",
       "      <td>-1.082885</td>\n",
       "      <td>...</td>\n",
       "      <td>-1.237311</td>\n",
       "      <td>-1.466487</td>\n",
       "      <td>-1.525793</td>\n",
       "      <td>-1.594937</td>\n",
       "      <td>-0.947410</td>\n",
       "      <td>-1.303297</td>\n",
       "      <td>-1.175321</td>\n",
       "      <td>-1.335066</td>\n",
       "      <td>-1.330247</td>\n",
       "      <td>-1.309304</td>\n",
       "    </tr>\n",
       "    <tr>\n",
       "      <th>2</th>\n",
       "      <td>2020-05-11 02:00:00</td>\n",
       "      <td>-1.622664</td>\n",
       "      <td>-1.404518</td>\n",
       "      <td>-1.178545</td>\n",
       "      <td>-1.136659</td>\n",
       "      <td>-1.303958</td>\n",
       "      <td>-1.183043</td>\n",
       "      <td>-1.451712</td>\n",
       "      <td>-1.335595</td>\n",
       "      <td>-1.141899</td>\n",
       "      <td>...</td>\n",
       "      <td>-1.239376</td>\n",
       "      <td>-1.526657</td>\n",
       "      <td>-1.571480</td>\n",
       "      <td>-1.670174</td>\n",
       "      <td>-0.978277</td>\n",
       "      <td>-1.323989</td>\n",
       "      <td>-1.188649</td>\n",
       "      <td>-1.368835</td>\n",
       "      <td>-1.347722</td>\n",
       "      <td>-1.339490</td>\n",
       "    </tr>\n",
       "    <tr>\n",
       "      <th>3</th>\n",
       "      <td>2020-05-11 03:00:00</td>\n",
       "      <td>-1.559218</td>\n",
       "      <td>-1.361599</td>\n",
       "      <td>-1.151979</td>\n",
       "      <td>-1.089446</td>\n",
       "      <td>-1.269878</td>\n",
       "      <td>-1.142274</td>\n",
       "      <td>-1.394741</td>\n",
       "      <td>-1.310727</td>\n",
       "      <td>-1.112908</td>\n",
       "      <td>...</td>\n",
       "      <td>-1.227760</td>\n",
       "      <td>-1.489193</td>\n",
       "      <td>-1.523294</td>\n",
       "      <td>-1.677894</td>\n",
       "      <td>-0.969458</td>\n",
       "      <td>-1.271423</td>\n",
       "      <td>-1.162527</td>\n",
       "      <td>-1.328562</td>\n",
       "      <td>-1.341577</td>\n",
       "      <td>-1.301542</td>\n",
       "    </tr>\n",
       "    <tr>\n",
       "      <th>4</th>\n",
       "      <td>2020-05-11 04:00:00</td>\n",
       "      <td>-1.254459</td>\n",
       "      <td>-1.132884</td>\n",
       "      <td>-1.019686</td>\n",
       "      <td>-0.946606</td>\n",
       "      <td>-1.213428</td>\n",
       "      <td>-1.017135</td>\n",
       "      <td>-1.098132</td>\n",
       "      <td>-1.189187</td>\n",
       "      <td>-1.015162</td>\n",
       "      <td>...</td>\n",
       "      <td>-1.153156</td>\n",
       "      <td>-1.290032</td>\n",
       "      <td>-1.268843</td>\n",
       "      <td>-1.375682</td>\n",
       "      <td>-0.808505</td>\n",
       "      <td>-1.051338</td>\n",
       "      <td>-1.004727</td>\n",
       "      <td>-1.118690</td>\n",
       "      <td>-1.166451</td>\n",
       "      <td>-1.110297</td>\n",
       "    </tr>\n",
       "    <tr>\n",
       "      <th>...</th>\n",
       "      <td>...</td>\n",
       "      <td>...</td>\n",
       "      <td>...</td>\n",
       "      <td>...</td>\n",
       "      <td>...</td>\n",
       "      <td>...</td>\n",
       "      <td>...</td>\n",
       "      <td>...</td>\n",
       "      <td>...</td>\n",
       "      <td>...</td>\n",
       "      <td>...</td>\n",
       "      <td>...</td>\n",
       "      <td>...</td>\n",
       "      <td>...</td>\n",
       "      <td>...</td>\n",
       "      <td>...</td>\n",
       "      <td>...</td>\n",
       "      <td>...</td>\n",
       "      <td>...</td>\n",
       "      <td>...</td>\n",
       "      <td>...</td>\n",
       "    </tr>\n",
       "    <tr>\n",
       "      <th>331</th>\n",
       "      <td>2020-05-24 19:00:00</td>\n",
       "      <td>0.676845</td>\n",
       "      <td>0.760530</td>\n",
       "      <td>0.624911</td>\n",
       "      <td>0.847178</td>\n",
       "      <td>0.352748</td>\n",
       "      <td>0.567209</td>\n",
       "      <td>0.725297</td>\n",
       "      <td>0.779966</td>\n",
       "      <td>1.391688</td>\n",
       "      <td>...</td>\n",
       "      <td>0.802292</td>\n",
       "      <td>0.844302</td>\n",
       "      <td>-0.247773</td>\n",
       "      <td>0.022663</td>\n",
       "      <td>0.876478</td>\n",
       "      <td>0.738395</td>\n",
       "      <td>-0.150155</td>\n",
       "      <td>0.456102</td>\n",
       "      <td>0.567911</td>\n",
       "      <td>0.760980</td>\n",
       "    </tr>\n",
       "    <tr>\n",
       "      <th>332</th>\n",
       "      <td>2020-05-24 20:00:00</td>\n",
       "      <td>0.560211</td>\n",
       "      <td>0.508975</td>\n",
       "      <td>0.194286</td>\n",
       "      <td>0.403423</td>\n",
       "      <td>0.073634</td>\n",
       "      <td>0.300793</td>\n",
       "      <td>0.746825</td>\n",
       "      <td>0.666482</td>\n",
       "      <td>1.095816</td>\n",
       "      <td>...</td>\n",
       "      <td>0.020371</td>\n",
       "      <td>0.711150</td>\n",
       "      <td>-0.336520</td>\n",
       "      <td>0.084986</td>\n",
       "      <td>0.603323</td>\n",
       "      <td>0.533358</td>\n",
       "      <td>-0.251445</td>\n",
       "      <td>0.249731</td>\n",
       "      <td>0.399890</td>\n",
       "      <td>0.413094</td>\n",
       "    </tr>\n",
       "    <tr>\n",
       "      <th>333</th>\n",
       "      <td>2020-05-24 21:00:00</td>\n",
       "      <td>0.594230</td>\n",
       "      <td>0.106808</td>\n",
       "      <td>-0.204927</td>\n",
       "      <td>0.073985</td>\n",
       "      <td>-0.353296</td>\n",
       "      <td>-0.255257</td>\n",
       "      <td>0.578721</td>\n",
       "      <td>0.136191</td>\n",
       "      <td>0.441392</td>\n",
       "      <td>...</td>\n",
       "      <td>-0.277270</td>\n",
       "      <td>0.287527</td>\n",
       "      <td>-0.386757</td>\n",
       "      <td>0.067721</td>\n",
       "      <td>0.140553</td>\n",
       "      <td>0.244405</td>\n",
       "      <td>-0.587836</td>\n",
       "      <td>-0.053695</td>\n",
       "      <td>0.003360</td>\n",
       "      <td>0.009257</td>\n",
       "    </tr>\n",
       "    <tr>\n",
       "      <th>334</th>\n",
       "      <td>2020-05-24 22:00:00</td>\n",
       "      <td>0.041607</td>\n",
       "      <td>-0.521936</td>\n",
       "      <td>-0.640578</td>\n",
       "      <td>-0.441077</td>\n",
       "      <td>-0.730467</td>\n",
       "      <td>-0.607176</td>\n",
       "      <td>-0.012170</td>\n",
       "      <td>-0.394101</td>\n",
       "      <td>-0.291182</td>\n",
       "      <td>...</td>\n",
       "      <td>-0.685914</td>\n",
       "      <td>-0.457220</td>\n",
       "      <td>-0.816586</td>\n",
       "      <td>-0.422023</td>\n",
       "      <td>-0.247008</td>\n",
       "      <td>-0.337682</td>\n",
       "      <td>-0.854390</td>\n",
       "      <td>-0.604015</td>\n",
       "      <td>-0.528355</td>\n",
       "      <td>-0.617197</td>\n",
       "    </tr>\n",
       "    <tr>\n",
       "      <th>335</th>\n",
       "      <td>2020-05-24 23:00:00</td>\n",
       "      <td>-0.722089</td>\n",
       "      <td>-0.973699</td>\n",
       "      <td>-0.879854</td>\n",
       "      <td>-0.838070</td>\n",
       "      <td>-1.049514</td>\n",
       "      <td>-0.931349</td>\n",
       "      <td>-0.764285</td>\n",
       "      <td>-0.873254</td>\n",
       "      <td>-0.711384</td>\n",
       "      <td>...</td>\n",
       "      <td>-0.981748</td>\n",
       "      <td>-1.009779</td>\n",
       "      <td>-1.181506</td>\n",
       "      <td>-0.973388</td>\n",
       "      <td>-0.663476</td>\n",
       "      <td>-0.850795</td>\n",
       "      <td>-1.093756</td>\n",
       "      <td>-1.017631</td>\n",
       "      <td>-1.009951</td>\n",
       "      <td>-0.998826</td>\n",
       "    </tr>\n",
       "  </tbody>\n",
       "</table>\n",
       "<p>336 rows × 36 columns</p>\n",
       "</div>"
      ],
      "text/plain": [
       "                     ds        10       100       101       120       121  \\\n",
       "0   2020-05-11 00:00:00 -1.260297 -1.254891 -1.060972 -0.999073 -1.180813   \n",
       "1   2020-05-11 01:00:00 -1.500446 -1.382014 -1.134567 -1.104383 -1.249180   \n",
       "2   2020-05-11 02:00:00 -1.622664 -1.404518 -1.178545 -1.136659 -1.303958   \n",
       "3   2020-05-11 03:00:00 -1.559218 -1.361599 -1.151979 -1.089446 -1.269878   \n",
       "4   2020-05-11 04:00:00 -1.254459 -1.132884 -1.019686 -0.946606 -1.213428   \n",
       "..                  ...       ...       ...       ...       ...       ...   \n",
       "331 2020-05-24 19:00:00  0.676845  0.760530  0.624911  0.847178  0.352748   \n",
       "332 2020-05-24 20:00:00  0.560211  0.508975  0.194286  0.403423  0.073634   \n",
       "333 2020-05-24 21:00:00  0.594230  0.106808 -0.204927  0.073985 -0.353296   \n",
       "334 2020-05-24 22:00:00  0.041607 -0.521936 -0.640578 -0.441077 -0.730467   \n",
       "335 2020-05-24 23:00:00 -0.722089 -0.973699 -0.879854 -0.838070 -1.049514   \n",
       "\n",
       "          140       150       160       200  ...      1020      1040  \\\n",
       "0   -1.075741 -1.208565 -1.165720 -0.977577  ... -1.163998 -1.347444   \n",
       "1   -1.163225 -1.395956 -1.303021 -1.082885  ... -1.237311 -1.466487   \n",
       "2   -1.183043 -1.451712 -1.335595 -1.141899  ... -1.239376 -1.526657   \n",
       "3   -1.142274 -1.394741 -1.310727 -1.112908  ... -1.227760 -1.489193   \n",
       "4   -1.017135 -1.098132 -1.189187 -1.015162  ... -1.153156 -1.290032   \n",
       "..        ...       ...       ...       ...  ...       ...       ...   \n",
       "331  0.567209  0.725297  0.779966  1.391688  ...  0.802292  0.844302   \n",
       "332  0.300793  0.746825  0.666482  1.095816  ...  0.020371  0.711150   \n",
       "333 -0.255257  0.578721  0.136191  0.441392  ... -0.277270  0.287527   \n",
       "334 -0.607176 -0.012170 -0.394101 -0.291182  ... -0.685914 -0.457220   \n",
       "335 -0.931349 -0.764285 -0.873254 -0.711384  ... -0.981748 -1.009779   \n",
       "\n",
       "         1100      1200      1510      2510      3000      4510      5510  \\\n",
       "0   -1.405327 -1.368944 -0.909927 -1.152916 -1.132673 -1.230380 -1.216953   \n",
       "1   -1.525793 -1.594937 -0.947410 -1.303297 -1.175321 -1.335066 -1.330247   \n",
       "2   -1.571480 -1.670174 -0.978277 -1.323989 -1.188649 -1.368835 -1.347722   \n",
       "3   -1.523294 -1.677894 -0.969458 -1.271423 -1.162527 -1.328562 -1.341577   \n",
       "4   -1.268843 -1.375682 -0.808505 -1.051338 -1.004727 -1.118690 -1.166451   \n",
       "..        ...       ...       ...       ...       ...       ...       ...   \n",
       "331 -0.247773  0.022663  0.876478  0.738395 -0.150155  0.456102  0.567911   \n",
       "332 -0.336520  0.084986  0.603323  0.533358 -0.251445  0.249731  0.399890   \n",
       "333 -0.386757  0.067721  0.140553  0.244405 -0.587836 -0.053695  0.003360   \n",
       "334 -0.816586 -0.422023 -0.247008 -0.337682 -0.854390 -0.604015 -0.528355   \n",
       "335 -1.181506 -0.973388 -0.663476 -0.850795 -1.093756 -1.017631 -1.009951   \n",
       "\n",
       "         6000  \n",
       "0   -1.252491  \n",
       "1   -1.309304  \n",
       "2   -1.339490  \n",
       "3   -1.301542  \n",
       "4   -1.110297  \n",
       "..        ...  \n",
       "331  0.760980  \n",
       "332  0.413094  \n",
       "333  0.009257  \n",
       "334 -0.617197  \n",
       "335 -0.998826  \n",
       "\n",
       "[336 rows x 36 columns]"
      ]
     },
     "execution_count": 13,
     "metadata": {},
     "output_type": "execute_result"
    }
   ],
   "source": [
    "scaled_val = scaling(val_df, 'validate')\n",
    "scaled_val"
   ]
  },
  {
   "cell_type": "code",
   "execution_count": 15,
   "metadata": {},
   "outputs": [
    {
     "data": {
      "text/html": [
       "<div>\n",
       "<style scoped>\n",
       "    .dataframe tbody tr th:only-of-type {\n",
       "        vertical-align: middle;\n",
       "    }\n",
       "\n",
       "    .dataframe tbody tr th {\n",
       "        vertical-align: top;\n",
       "    }\n",
       "\n",
       "    .dataframe thead th {\n",
       "        text-align: right;\n",
       "    }\n",
       "</style>\n",
       "<table border=\"1\" class=\"dataframe\">\n",
       "  <thead>\n",
       "    <tr style=\"text-align: right;\">\n",
       "      <th></th>\n",
       "      <th>ds</th>\n",
       "      <th>10</th>\n",
       "      <th>100</th>\n",
       "      <th>101</th>\n",
       "      <th>120</th>\n",
       "      <th>121</th>\n",
       "      <th>140</th>\n",
       "      <th>150</th>\n",
       "      <th>160</th>\n",
       "      <th>200</th>\n",
       "      <th>...</th>\n",
       "      <th>1020</th>\n",
       "      <th>1040</th>\n",
       "      <th>1100</th>\n",
       "      <th>1200</th>\n",
       "      <th>1510</th>\n",
       "      <th>2510</th>\n",
       "      <th>3000</th>\n",
       "      <th>4510</th>\n",
       "      <th>5510</th>\n",
       "      <th>6000</th>\n",
       "    </tr>\n",
       "  </thead>\n",
       "  <tbody>\n",
       "    <tr>\n",
       "      <th>0</th>\n",
       "      <td>2020-05-18 00:00:00</td>\n",
       "      <td>-1.226705</td>\n",
       "      <td>-1.237046</td>\n",
       "      <td>-1.013045</td>\n",
       "      <td>-1.053642</td>\n",
       "      <td>-1.158860</td>\n",
       "      <td>-1.052808</td>\n",
       "      <td>-1.204133</td>\n",
       "      <td>-1.152060</td>\n",
       "      <td>-0.959815</td>\n",
       "      <td>...</td>\n",
       "      <td>-1.168903</td>\n",
       "      <td>-1.317278</td>\n",
       "      <td>-1.411223</td>\n",
       "      <td>-1.346064</td>\n",
       "      <td>-0.867301</td>\n",
       "      <td>-1.145705</td>\n",
       "      <td>-1.096954</td>\n",
       "      <td>-1.232881</td>\n",
       "      <td>-1.214841</td>\n",
       "      <td>-1.254971</td>\n",
       "    </tr>\n",
       "    <tr>\n",
       "      <th>1</th>\n",
       "      <td>2020-05-18 01:00:00</td>\n",
       "      <td>-1.479382</td>\n",
       "      <td>-1.365106</td>\n",
       "      <td>-1.136362</td>\n",
       "      <td>-1.124048</td>\n",
       "      <td>-1.240399</td>\n",
       "      <td>-1.170586</td>\n",
       "      <td>-1.393115</td>\n",
       "      <td>-1.286209</td>\n",
       "      <td>-1.094459</td>\n",
       "      <td>...</td>\n",
       "      <td>-1.217434</td>\n",
       "      <td>-1.467460</td>\n",
       "      <td>-1.531560</td>\n",
       "      <td>-1.594515</td>\n",
       "      <td>-0.967253</td>\n",
       "      <td>-1.311239</td>\n",
       "      <td>-1.167325</td>\n",
       "      <td>-1.339443</td>\n",
       "      <td>-1.333128</td>\n",
       "      <td>-1.314048</td>\n",
       "    </tr>\n",
       "    <tr>\n",
       "      <th>2</th>\n",
       "      <td>2020-05-18 02:00:00</td>\n",
       "      <td>-1.579593</td>\n",
       "      <td>-1.411843</td>\n",
       "      <td>-1.145876</td>\n",
       "      <td>-1.119770</td>\n",
       "      <td>-1.300612</td>\n",
       "      <td>-1.169737</td>\n",
       "      <td>-1.470656</td>\n",
       "      <td>-1.363966</td>\n",
       "      <td>-1.149347</td>\n",
       "      <td>...</td>\n",
       "      <td>-1.245314</td>\n",
       "      <td>-1.556823</td>\n",
       "      <td>-1.563854</td>\n",
       "      <td>-1.682947</td>\n",
       "      <td>-0.967498</td>\n",
       "      <td>-1.344367</td>\n",
       "      <td>-1.190781</td>\n",
       "      <td>-1.371212</td>\n",
       "      <td>-1.348682</td>\n",
       "      <td>-1.363314</td>\n",
       "    </tr>\n",
       "    <tr>\n",
       "      <th>3</th>\n",
       "      <td>2020-05-18 03:00:00</td>\n",
       "      <td>-1.563465</td>\n",
       "      <td>-1.357972</td>\n",
       "      <td>-1.142286</td>\n",
       "      <td>-1.098153</td>\n",
       "      <td>-1.298103</td>\n",
       "      <td>-1.115378</td>\n",
       "      <td>-1.433229</td>\n",
       "      <td>-1.352058</td>\n",
       "      <td>-1.113710</td>\n",
       "      <td>...</td>\n",
       "      <td>-1.244281</td>\n",
       "      <td>-1.483354</td>\n",
       "      <td>-1.528292</td>\n",
       "      <td>-1.664840</td>\n",
       "      <td>-0.974358</td>\n",
       "      <td>-1.272991</td>\n",
       "      <td>-1.132673</td>\n",
       "      <td>-1.326311</td>\n",
       "      <td>-1.338504</td>\n",
       "      <td>-1.298308</td>\n",
       "    </tr>\n",
       "    <tr>\n",
       "      <th>4</th>\n",
       "      <td>2020-05-18 04:00:00</td>\n",
       "      <td>-1.261158</td>\n",
       "      <td>-1.130626</td>\n",
       "      <td>-1.053253</td>\n",
       "      <td>-0.924164</td>\n",
       "      <td>-1.183531</td>\n",
       "      <td>-0.996750</td>\n",
       "      <td>-1.149883</td>\n",
       "      <td>-1.199345</td>\n",
       "      <td>-1.010235</td>\n",
       "      <td>...</td>\n",
       "      <td>-1.155737</td>\n",
       "      <td>-1.297168</td>\n",
       "      <td>-1.293385</td>\n",
       "      <td>-1.405019</td>\n",
       "      <td>-0.857746</td>\n",
       "      <td>-1.070985</td>\n",
       "      <td>-1.038846</td>\n",
       "      <td>-1.145580</td>\n",
       "      <td>-1.188150</td>\n",
       "      <td>-1.113207</td>\n",
       "    </tr>\n",
       "    <tr>\n",
       "      <th>...</th>\n",
       "      <td>...</td>\n",
       "      <td>...</td>\n",
       "      <td>...</td>\n",
       "      <td>...</td>\n",
       "      <td>...</td>\n",
       "      <td>...</td>\n",
       "      <td>...</td>\n",
       "      <td>...</td>\n",
       "      <td>...</td>\n",
       "      <td>...</td>\n",
       "      <td>...</td>\n",
       "      <td>...</td>\n",
       "      <td>...</td>\n",
       "      <td>...</td>\n",
       "      <td>...</td>\n",
       "      <td>...</td>\n",
       "      <td>...</td>\n",
       "      <td>...</td>\n",
       "      <td>...</td>\n",
       "      <td>...</td>\n",
       "      <td>...</td>\n",
       "    </tr>\n",
       "    <tr>\n",
       "      <th>331</th>\n",
       "      <td>2020-05-31 19:00:00</td>\n",
       "      <td>-1.907769</td>\n",
       "      <td>-1.625427</td>\n",
       "      <td>-1.461620</td>\n",
       "      <td>-1.375875</td>\n",
       "      <td>-1.594780</td>\n",
       "      <td>-1.608008</td>\n",
       "      <td>-1.716336</td>\n",
       "      <td>-1.888303</td>\n",
       "      <td>-1.419665</td>\n",
       "      <td>...</td>\n",
       "      <td>-1.586323</td>\n",
       "      <td>-1.931791</td>\n",
       "      <td>-1.805041</td>\n",
       "      <td>-2.094225</td>\n",
       "      <td>-1.437618</td>\n",
       "      <td>-1.633111</td>\n",
       "      <td>-1.844905</td>\n",
       "      <td>-1.638242</td>\n",
       "      <td>-1.717560</td>\n",
       "      <td>-1.612128</td>\n",
       "    </tr>\n",
       "    <tr>\n",
       "      <th>332</th>\n",
       "      <td>2020-05-31 20:00:00</td>\n",
       "      <td>-1.907769</td>\n",
       "      <td>-1.625427</td>\n",
       "      <td>-1.461620</td>\n",
       "      <td>-1.375875</td>\n",
       "      <td>-1.594780</td>\n",
       "      <td>-1.608008</td>\n",
       "      <td>-1.716336</td>\n",
       "      <td>-1.888303</td>\n",
       "      <td>-1.419665</td>\n",
       "      <td>...</td>\n",
       "      <td>-1.586323</td>\n",
       "      <td>-1.931791</td>\n",
       "      <td>-1.805041</td>\n",
       "      <td>-2.094225</td>\n",
       "      <td>-1.437618</td>\n",
       "      <td>-1.633111</td>\n",
       "      <td>-1.844905</td>\n",
       "      <td>-1.638242</td>\n",
       "      <td>-1.717560</td>\n",
       "      <td>-1.612128</td>\n",
       "    </tr>\n",
       "    <tr>\n",
       "      <th>333</th>\n",
       "      <td>2020-05-31 21:00:00</td>\n",
       "      <td>-1.907769</td>\n",
       "      <td>-1.625427</td>\n",
       "      <td>-1.461620</td>\n",
       "      <td>-1.375875</td>\n",
       "      <td>-1.594780</td>\n",
       "      <td>-1.608008</td>\n",
       "      <td>-1.716336</td>\n",
       "      <td>-1.888303</td>\n",
       "      <td>-1.419665</td>\n",
       "      <td>...</td>\n",
       "      <td>-1.586323</td>\n",
       "      <td>-1.931791</td>\n",
       "      <td>-1.805041</td>\n",
       "      <td>-2.094225</td>\n",
       "      <td>-1.437618</td>\n",
       "      <td>-1.633111</td>\n",
       "      <td>-1.844905</td>\n",
       "      <td>-1.638242</td>\n",
       "      <td>-1.717560</td>\n",
       "      <td>-1.612128</td>\n",
       "    </tr>\n",
       "    <tr>\n",
       "      <th>334</th>\n",
       "      <td>2020-05-31 22:00:00</td>\n",
       "      <td>-1.907769</td>\n",
       "      <td>-1.625427</td>\n",
       "      <td>-1.461620</td>\n",
       "      <td>-1.375875</td>\n",
       "      <td>-1.594780</td>\n",
       "      <td>-1.608008</td>\n",
       "      <td>-1.716336</td>\n",
       "      <td>-1.888303</td>\n",
       "      <td>-1.419665</td>\n",
       "      <td>...</td>\n",
       "      <td>-1.586323</td>\n",
       "      <td>-1.931791</td>\n",
       "      <td>-1.805041</td>\n",
       "      <td>-2.094225</td>\n",
       "      <td>-1.437618</td>\n",
       "      <td>-1.633111</td>\n",
       "      <td>-1.844905</td>\n",
       "      <td>-1.638242</td>\n",
       "      <td>-1.717560</td>\n",
       "      <td>-1.612128</td>\n",
       "    </tr>\n",
       "    <tr>\n",
       "      <th>335</th>\n",
       "      <td>2020-05-31 23:00:00</td>\n",
       "      <td>-1.907769</td>\n",
       "      <td>-1.625427</td>\n",
       "      <td>-1.461620</td>\n",
       "      <td>-1.375875</td>\n",
       "      <td>-1.594780</td>\n",
       "      <td>-1.608008</td>\n",
       "      <td>-1.716336</td>\n",
       "      <td>-1.888303</td>\n",
       "      <td>-1.419665</td>\n",
       "      <td>...</td>\n",
       "      <td>-1.586323</td>\n",
       "      <td>-1.931791</td>\n",
       "      <td>-1.805041</td>\n",
       "      <td>-2.094225</td>\n",
       "      <td>-1.437618</td>\n",
       "      <td>-1.633111</td>\n",
       "      <td>-1.844905</td>\n",
       "      <td>-1.638242</td>\n",
       "      <td>-1.717560</td>\n",
       "      <td>-1.612128</td>\n",
       "    </tr>\n",
       "  </tbody>\n",
       "</table>\n",
       "<p>336 rows × 36 columns</p>\n",
       "</div>"
      ],
      "text/plain": [
       "                     ds        10       100       101       120       121  \\\n",
       "0   2020-05-18 00:00:00 -1.226705 -1.237046 -1.013045 -1.053642 -1.158860   \n",
       "1   2020-05-18 01:00:00 -1.479382 -1.365106 -1.136362 -1.124048 -1.240399   \n",
       "2   2020-05-18 02:00:00 -1.579593 -1.411843 -1.145876 -1.119770 -1.300612   \n",
       "3   2020-05-18 03:00:00 -1.563465 -1.357972 -1.142286 -1.098153 -1.298103   \n",
       "4   2020-05-18 04:00:00 -1.261158 -1.130626 -1.053253 -0.924164 -1.183531   \n",
       "..                  ...       ...       ...       ...       ...       ...   \n",
       "331 2020-05-31 19:00:00 -1.907769 -1.625427 -1.461620 -1.375875 -1.594780   \n",
       "332 2020-05-31 20:00:00 -1.907769 -1.625427 -1.461620 -1.375875 -1.594780   \n",
       "333 2020-05-31 21:00:00 -1.907769 -1.625427 -1.461620 -1.375875 -1.594780   \n",
       "334 2020-05-31 22:00:00 -1.907769 -1.625427 -1.461620 -1.375875 -1.594780   \n",
       "335 2020-05-31 23:00:00 -1.907769 -1.625427 -1.461620 -1.375875 -1.594780   \n",
       "\n",
       "          140       150       160       200  ...      1020      1040  \\\n",
       "0   -1.052808 -1.204133 -1.152060 -0.959815  ... -1.168903 -1.317278   \n",
       "1   -1.170586 -1.393115 -1.286209 -1.094459  ... -1.217434 -1.467460   \n",
       "2   -1.169737 -1.470656 -1.363966 -1.149347  ... -1.245314 -1.556823   \n",
       "3   -1.115378 -1.433229 -1.352058 -1.113710  ... -1.244281 -1.483354   \n",
       "4   -0.996750 -1.149883 -1.199345 -1.010235  ... -1.155737 -1.297168   \n",
       "..        ...       ...       ...       ...  ...       ...       ...   \n",
       "331 -1.608008 -1.716336 -1.888303 -1.419665  ... -1.586323 -1.931791   \n",
       "332 -1.608008 -1.716336 -1.888303 -1.419665  ... -1.586323 -1.931791   \n",
       "333 -1.608008 -1.716336 -1.888303 -1.419665  ... -1.586323 -1.931791   \n",
       "334 -1.608008 -1.716336 -1.888303 -1.419665  ... -1.586323 -1.931791   \n",
       "335 -1.608008 -1.716336 -1.888303 -1.419665  ... -1.586323 -1.931791   \n",
       "\n",
       "         1100      1200      1510      2510      3000      4510      5510  \\\n",
       "0   -1.411223 -1.346064 -0.867301 -1.145705 -1.096954 -1.232881 -1.214841   \n",
       "1   -1.531560 -1.594515 -0.967253 -1.311239 -1.167325 -1.339443 -1.333128   \n",
       "2   -1.563854 -1.682947 -0.967498 -1.344367 -1.190781 -1.371212 -1.348682   \n",
       "3   -1.528292 -1.664840 -0.974358 -1.272991 -1.132673 -1.326311 -1.338504   \n",
       "4   -1.293385 -1.405019 -0.857746 -1.070985 -1.038846 -1.145580 -1.188150   \n",
       "..        ...       ...       ...       ...       ...       ...       ...   \n",
       "331 -1.805041 -2.094225 -1.437618 -1.633111 -1.844905 -1.638242 -1.717560   \n",
       "332 -1.805041 -2.094225 -1.437618 -1.633111 -1.844905 -1.638242 -1.717560   \n",
       "333 -1.805041 -2.094225 -1.437618 -1.633111 -1.844905 -1.638242 -1.717560   \n",
       "334 -1.805041 -2.094225 -1.437618 -1.633111 -1.844905 -1.638242 -1.717560   \n",
       "335 -1.805041 -2.094225 -1.437618 -1.633111 -1.844905 -1.638242 -1.717560   \n",
       "\n",
       "         6000  \n",
       "0   -1.254971  \n",
       "1   -1.314048  \n",
       "2   -1.363314  \n",
       "3   -1.298308  \n",
       "4   -1.113207  \n",
       "..        ...  \n",
       "331 -1.612128  \n",
       "332 -1.612128  \n",
       "333 -1.612128  \n",
       "334 -1.612128  \n",
       "335 -1.612128  \n",
       "\n",
       "[336 rows x 36 columns]"
      ]
     },
     "execution_count": 15,
     "metadata": {},
     "output_type": "execute_result"
    }
   ],
   "source": [
    "test_df = col_timestamp('test')\n",
    "scaled_test = scaling(test_df, 'test')\n",
    "scaled_test"
   ]
  },
  {
   "cell_type": "markdown",
   "metadata": {},
   "source": [
    "## Neural Prophet"
   ]
  },
  {
   "cell_type": "code",
   "execution_count": 16,
   "metadata": {},
   "outputs": [],
   "source": [
    "from neuralprophet import NeuralProphet"
   ]
  },
  {
   "cell_type": "code",
   "execution_count": 46,
   "metadata": {
    "collapsed": true,
    "jupyter": {
     "outputs_hidden": true
    },
    "tags": []
   },
   "outputs": [
    {
     "data": {
      "text/plain": [
       "['10',\n",
       " '100',\n",
       " '101',\n",
       " '120',\n",
       " '121',\n",
       " '140',\n",
       " '150',\n",
       " '160',\n",
       " '200',\n",
       " '201',\n",
       " '251',\n",
       " '270',\n",
       " '300',\n",
       " '301',\n",
       " '351',\n",
       " '352',\n",
       " '370',\n",
       " '400',\n",
       " '450',\n",
       " '500',\n",
       " '550',\n",
       " '600',\n",
       " '650',\n",
       " '652',\n",
       " '1000',\n",
       " '1020',\n",
       " '1040',\n",
       " '1100',\n",
       " '1200',\n",
       " '1510',\n",
       " '2510',\n",
       " '3000',\n",
       " '4510',\n",
       " '5510',\n",
       " '6000']"
      ]
     },
     "execution_count": 46,
     "metadata": {},
     "output_type": "execute_result"
    }
   ],
   "source": [
    "scaled_train.columns.values.tolist()[1:]"
   ]
  },
  {
   "cell_type": "code",
   "execution_count": 75,
   "metadata": {
    "tags": []
   },
   "outputs": [
    {
     "name": "stderr",
     "output_type": "stream",
     "text": [
      "INFO - (NP.utils.set_auto_seasonalities) - Disabling yearly seasonality. Run NeuralProphet with yearly_seasonality=True to override this.\n",
      "INFO - (NP.config.set_auto_batch_epoch) - Auto-set batch_size to 32\n",
      "INFO - (NP.config.set_auto_batch_epoch) - Auto-set epochs to 134\n"
     ]
    },
    {
     "data": {
      "application/vnd.jupyter.widget-view+json": {
       "model_id": "7ef8b478add34d1dbf7d93f1957d82f4",
       "version_major": 2,
       "version_minor": 0
      },
      "text/plain": [
       "HBox(children=(HTML(value=''), FloatProgress(value=0.0, max=275.0), HTML(value='')))"
      ]
     },
     "metadata": {},
     "output_type": "display_data"
    },
    {
     "name": "stderr",
     "output_type": "stream",
     "text": [
      "INFO - (NP.utils_torch.lr_range_test) - lr-range-test results: steep: 6.04E-02, min: 1.56E+00\n"
     ]
    },
    {
     "data": {
      "application/vnd.jupyter.widget-view+json": {
       "model_id": "7179edb7b2fd4dce93b040eaa1f011d8",
       "version_major": 2,
       "version_minor": 0
      },
      "text/plain": [
       "HBox(children=(HTML(value=''), FloatProgress(value=0.0, max=275.0), HTML(value='')))"
      ]
     },
     "metadata": {},
     "output_type": "display_data"
    },
    {
     "name": "stderr",
     "output_type": "stream",
     "text": [
      "INFO - (NP.utils_torch.lr_range_test) - lr-range-test results: steep: 7.03E-02, min: 1.56E+00\n"
     ]
    },
    {
     "data": {
      "application/vnd.jupyter.widget-view+json": {
       "model_id": "125783c60b6d47408aa3c1f85edade93",
       "version_major": 2,
       "version_minor": 0
      },
      "text/plain": [
       "HBox(children=(HTML(value=''), FloatProgress(value=0.0, max=275.0), HTML(value='')))"
      ]
     },
     "metadata": {},
     "output_type": "display_data"
    },
    {
     "name": "stderr",
     "output_type": "stream",
     "text": [
      "INFO - (NP.utils_torch.lr_range_test) - lr-range-test results: steep: 6.51E-02, min: 1.56E+00\n",
      "INFO - (NP.forecaster._init_train_loader) - lr-range-test selected learning rate: 6.51E-02\n",
      "INFO - (NP.utils.set_auto_seasonalities) - Disabling yearly seasonality. Run NeuralProphet with yearly_seasonality=True to override this.\n",
      "INFO - (NP.config.set_auto_batch_epoch) - Auto-set batch_size to 32\n",
      "INFO - (NP.config.set_auto_batch_epoch) - Auto-set epochs to 134\n"
     ]
    },
    {
     "data": {
      "application/vnd.jupyter.widget-view+json": {
       "model_id": "3b9c9243905e4330a1e8fdf4a53ab8eb",
       "version_major": 2,
       "version_minor": 0
      },
      "text/plain": [
       "HBox(children=(HTML(value=''), FloatProgress(value=0.0, max=275.0), HTML(value='')))"
      ]
     },
     "metadata": {},
     "output_type": "display_data"
    },
    {
     "name": "stderr",
     "output_type": "stream",
     "text": [
      "INFO - (NP.utils_torch.lr_range_test) - lr-range-test results: steep: 4.81E-02, min: 1.68E+00\n"
     ]
    },
    {
     "data": {
      "application/vnd.jupyter.widget-view+json": {
       "model_id": "4982975c9b8c4e87beb8386e47ac3269",
       "version_major": 2,
       "version_minor": 0
      },
      "text/plain": [
       "HBox(children=(HTML(value=''), FloatProgress(value=0.0, max=275.0), HTML(value='')))"
      ]
     },
     "metadata": {},
     "output_type": "display_data"
    },
    {
     "name": "stderr",
     "output_type": "stream",
     "text": [
      "INFO - (NP.utils_torch.lr_range_test) - lr-range-test results: steep: 4.46E-02, min: 1.56E+00\n"
     ]
    },
    {
     "data": {
      "application/vnd.jupyter.widget-view+json": {
       "model_id": "4d71940eb3b443b28d2a68c1a101c683",
       "version_major": 2,
       "version_minor": 0
      },
      "text/plain": [
       "HBox(children=(HTML(value=''), FloatProgress(value=0.0, max=275.0), HTML(value='')))"
      ]
     },
     "metadata": {},
     "output_type": "display_data"
    },
    {
     "name": "stderr",
     "output_type": "stream",
     "text": [
      "INFO - (NP.utils_torch.lr_range_test) - lr-range-test results: steep: 4.81E-02, min: 1.07E+00\n",
      "INFO - (NP.forecaster._init_train_loader) - lr-range-test selected learning rate: 4.69E-02\n",
      "INFO - (NP.utils.set_auto_seasonalities) - Disabling yearly seasonality. Run NeuralProphet with yearly_seasonality=True to override this.\n",
      "INFO - (NP.config.set_auto_batch_epoch) - Auto-set batch_size to 32\n",
      "INFO - (NP.config.set_auto_batch_epoch) - Auto-set epochs to 134\n"
     ]
    },
    {
     "data": {
      "application/vnd.jupyter.widget-view+json": {
       "model_id": "1a9548422b564f689f372f017e8ef9f5",
       "version_major": 2,
       "version_minor": 0
      },
      "text/plain": [
       "HBox(children=(HTML(value=''), FloatProgress(value=0.0, max=275.0), HTML(value='')))"
      ]
     },
     "metadata": {},
     "output_type": "display_data"
    },
    {
     "name": "stderr",
     "output_type": "stream",
     "text": [
      "INFO - (NP.utils_torch.lr_range_test) - lr-range-test results: steep: 3.56E-02, min: 1.15E+00\n"
     ]
    },
    {
     "data": {
      "application/vnd.jupyter.widget-view+json": {
       "model_id": "d33cea4ef4934308aa6e8e095d10e1c7",
       "version_major": 2,
       "version_minor": 0
      },
      "text/plain": [
       "HBox(children=(HTML(value=''), FloatProgress(value=0.0, max=275.0), HTML(value='')))"
      ]
     },
     "metadata": {},
     "output_type": "display_data"
    },
    {
     "name": "stderr",
     "output_type": "stream",
     "text": [
      "INFO - (NP.utils_torch.lr_range_test) - lr-range-test results: steep: 3.56E-02, min: 1.34E+00\n"
     ]
    },
    {
     "data": {
      "application/vnd.jupyter.widget-view+json": {
       "model_id": "2555b678b2ae490496ec33ae73e5be5d",
       "version_major": 2,
       "version_minor": 0
      },
      "text/plain": [
       "HBox(children=(HTML(value=''), FloatProgress(value=0.0, max=275.0), HTML(value='')))"
      ]
     },
     "metadata": {},
     "output_type": "display_data"
    },
    {
     "name": "stderr",
     "output_type": "stream",
     "text": [
      "INFO - (NP.utils_torch.lr_range_test) - lr-range-test results: steep: 3.56E-02, min: 1.15E+00\n",
      "INFO - (NP.forecaster._init_train_loader) - lr-range-test selected learning rate: 3.56E-02\n",
      "INFO - (NP.utils.set_auto_seasonalities) - Disabling yearly seasonality. Run NeuralProphet with yearly_seasonality=True to override this.\n",
      "INFO - (NP.config.set_auto_batch_epoch) - Auto-set batch_size to 32\n",
      "INFO - (NP.config.set_auto_batch_epoch) - Auto-set epochs to 134\n"
     ]
    },
    {
     "data": {
      "application/vnd.jupyter.widget-view+json": {
       "model_id": "68b7d1728a0d4096a60c0ce0b1baf471",
       "version_major": 2,
       "version_minor": 0
      },
      "text/plain": [
       "HBox(children=(HTML(value=''), FloatProgress(value=0.0, max=275.0), HTML(value='')))"
      ]
     },
     "metadata": {},
     "output_type": "display_data"
    },
    {
     "name": "stderr",
     "output_type": "stream",
     "text": [
      "INFO - (NP.utils_torch.lr_range_test) - lr-range-test results: steep: 5.60E-02, min: 1.07E+00\n"
     ]
    },
    {
     "data": {
      "application/vnd.jupyter.widget-view+json": {
       "model_id": "52cf30e21ced40a081ff6683683ee02c",
       "version_major": 2,
       "version_minor": 0
      },
      "text/plain": [
       "HBox(children=(HTML(value=''), FloatProgress(value=0.0, max=275.0), HTML(value='')))"
      ]
     },
     "metadata": {},
     "output_type": "display_data"
    },
    {
     "name": "stderr",
     "output_type": "stream",
     "text": [
      "INFO - (NP.utils_torch.lr_range_test) - lr-range-test results: steep: 5.60E-02, min: 1.45E+00\n"
     ]
    },
    {
     "data": {
      "application/vnd.jupyter.widget-view+json": {
       "model_id": "e57340acc75c4d36be0a59338b2981a0",
       "version_major": 2,
       "version_minor": 0
      },
      "text/plain": [
       "HBox(children=(HTML(value=''), FloatProgress(value=0.0, max=275.0), HTML(value='')))"
      ]
     },
     "metadata": {},
     "output_type": "display_data"
    },
    {
     "name": "stderr",
     "output_type": "stream",
     "text": [
      "INFO - (NP.utils_torch.lr_range_test) - lr-range-test results: steep: 5.60E-02, min: 1.15E+00\n",
      "INFO - (NP.forecaster._init_train_loader) - lr-range-test selected learning rate: 5.60E-02\n",
      "INFO - (NP.utils.set_auto_seasonalities) - Disabling yearly seasonality. Run NeuralProphet with yearly_seasonality=True to override this.\n",
      "INFO - (NP.config.set_auto_batch_epoch) - Auto-set batch_size to 32\n",
      "INFO - (NP.config.set_auto_batch_epoch) - Auto-set epochs to 134\n"
     ]
    },
    {
     "data": {
      "application/vnd.jupyter.widget-view+json": {
       "model_id": "70cca885fd7d4b04ad01452eafcd349c",
       "version_major": 2,
       "version_minor": 0
      },
      "text/plain": [
       "HBox(children=(HTML(value=''), FloatProgress(value=0.0, max=275.0), HTML(value='')))"
      ]
     },
     "metadata": {},
     "output_type": "display_data"
    },
    {
     "name": "stderr",
     "output_type": "stream",
     "text": [
      "INFO - (NP.utils_torch.lr_range_test) - lr-range-test results: steep: 1.50E-01, min: 1.24E+00\n"
     ]
    },
    {
     "data": {
      "application/vnd.jupyter.widget-view+json": {
       "model_id": "6d7d76e6a5684d3da6f26b2997e24ba0",
       "version_major": 2,
       "version_minor": 0
      },
      "text/plain": [
       "HBox(children=(HTML(value=''), FloatProgress(value=0.0, max=275.0), HTML(value='')))"
      ]
     },
     "metadata": {},
     "output_type": "display_data"
    },
    {
     "name": "stderr",
     "output_type": "stream",
     "text": [
      "INFO - (NP.utils_torch.lr_range_test) - lr-range-test results: steep: 1.19E-01, min: 1.07E+00\n"
     ]
    },
    {
     "data": {
      "application/vnd.jupyter.widget-view+json": {
       "model_id": "af6ba58a7b8f45dc8cdc73e9ba7ef81d",
       "version_major": 2,
       "version_minor": 0
      },
      "text/plain": [
       "HBox(children=(HTML(value=''), FloatProgress(value=0.0, max=275.0), HTML(value='')))"
      ]
     },
     "metadata": {},
     "output_type": "display_data"
    },
    {
     "name": "stderr",
     "output_type": "stream",
     "text": [
      "INFO - (NP.utils_torch.lr_range_test) - lr-range-test results: steep: 1.11E-01, min: 1.24E+00\n",
      "INFO - (NP.forecaster._init_train_loader) - lr-range-test selected learning rate: 1.25E-01\n",
      "INFO - (NP.utils.set_auto_seasonalities) - Disabling yearly seasonality. Run NeuralProphet with yearly_seasonality=True to override this.\n",
      "INFO - (NP.config.set_auto_batch_epoch) - Auto-set batch_size to 32\n",
      "INFO - (NP.config.set_auto_batch_epoch) - Auto-set epochs to 134\n"
     ]
    },
    {
     "data": {
      "application/vnd.jupyter.widget-view+json": {
       "model_id": "9a049c5b56044061b3f24f3fe12870fd",
       "version_major": 2,
       "version_minor": 0
      },
      "text/plain": [
       "HBox(children=(HTML(value=''), FloatProgress(value=0.0, max=275.0), HTML(value='')))"
      ]
     },
     "metadata": {},
     "output_type": "display_data"
    },
    {
     "name": "stderr",
     "output_type": "stream",
     "text": [
      "INFO - (NP.utils_torch.lr_range_test) - lr-range-test results: steep: 4.14E-02, min: 9.19E-01\n"
     ]
    },
    {
     "data": {
      "application/vnd.jupyter.widget-view+json": {
       "model_id": "a7813f2e25d14c2881d91191fe7e7c84",
       "version_major": 2,
       "version_minor": 0
      },
      "text/plain": [
       "HBox(children=(HTML(value=''), FloatProgress(value=0.0, max=275.0), HTML(value='')))"
      ]
     },
     "metadata": {},
     "output_type": "display_data"
    },
    {
     "name": "stderr",
     "output_type": "stream",
     "text": [
      "INFO - (NP.utils_torch.lr_range_test) - lr-range-test results: steep: 5.19E-02, min: 1.24E+00\n"
     ]
    },
    {
     "data": {
      "application/vnd.jupyter.widget-view+json": {
       "model_id": "60d7b58f0b30449b8d0095bd615d2eb0",
       "version_major": 2,
       "version_minor": 0
      },
      "text/plain": [
       "HBox(children=(HTML(value=''), FloatProgress(value=0.0, max=275.0), HTML(value='')))"
      ]
     },
     "metadata": {},
     "output_type": "display_data"
    },
    {
     "name": "stderr",
     "output_type": "stream",
     "text": [
      "INFO - (NP.utils_torch.lr_range_test) - lr-range-test results: steep: 3.56E-02, min: 1.15E+00\n",
      "INFO - (NP.forecaster._init_train_loader) - lr-range-test selected learning rate: 4.24E-02\n",
      "INFO - (NP.utils.set_auto_seasonalities) - Disabling yearly seasonality. Run NeuralProphet with yearly_seasonality=True to override this.\n",
      "INFO - (NP.config.set_auto_batch_epoch) - Auto-set batch_size to 32\n",
      "INFO - (NP.config.set_auto_batch_epoch) - Auto-set epochs to 134\n"
     ]
    },
    {
     "data": {
      "application/vnd.jupyter.widget-view+json": {
       "model_id": "b0594ee9ef904d3fbb54d925e4c5a270",
       "version_major": 2,
       "version_minor": 0
      },
      "text/plain": [
       "HBox(children=(HTML(value=''), FloatProgress(value=0.0, max=275.0), HTML(value='')))"
      ]
     },
     "metadata": {},
     "output_type": "display_data"
    },
    {
     "name": "stderr",
     "output_type": "stream",
     "text": [
      "INFO - (NP.utils_torch.lr_range_test) - lr-range-test results: steep: 6.51E-02, min: 1.45E+00\n"
     ]
    },
    {
     "data": {
      "application/vnd.jupyter.widget-view+json": {
       "model_id": "69427934315b4def9920fe678d2b7d2e",
       "version_major": 2,
       "version_minor": 0
      },
      "text/plain": [
       "HBox(children=(HTML(value=''), FloatProgress(value=0.0, max=275.0), HTML(value='')))"
      ]
     },
     "metadata": {},
     "output_type": "display_data"
    },
    {
     "name": "stderr",
     "output_type": "stream",
     "text": [
      "INFO - (NP.utils_torch.lr_range_test) - lr-range-test results: steep: 5.19E-02, min: 1.07E+00\n"
     ]
    },
    {
     "data": {
      "application/vnd.jupyter.widget-view+json": {
       "model_id": "f001bca6718949a68086fa5c96895d87",
       "version_major": 2,
       "version_minor": 0
      },
      "text/plain": [
       "HBox(children=(HTML(value=''), FloatProgress(value=0.0, max=275.0), HTML(value='')))"
      ]
     },
     "metadata": {},
     "output_type": "display_data"
    },
    {
     "name": "stderr",
     "output_type": "stream",
     "text": [
      "INFO - (NP.utils_torch.lr_range_test) - lr-range-test results: steep: 7.03E-02, min: 9.92E-01\n",
      "INFO - (NP.forecaster._init_train_loader) - lr-range-test selected learning rate: 6.19E-02\n",
      "INFO - (NP.utils.set_auto_seasonalities) - Disabling yearly seasonality. Run NeuralProphet with yearly_seasonality=True to override this.\n",
      "INFO - (NP.config.set_auto_batch_epoch) - Auto-set batch_size to 32\n",
      "INFO - (NP.config.set_auto_batch_epoch) - Auto-set epochs to 134\n"
     ]
    },
    {
     "data": {
      "application/vnd.jupyter.widget-view+json": {
       "model_id": "90c1a7a012754b42af9834ce7ede45c7",
       "version_major": 2,
       "version_minor": 0
      },
      "text/plain": [
       "HBox(children=(HTML(value=''), FloatProgress(value=0.0, max=275.0), HTML(value='')))"
      ]
     },
     "metadata": {},
     "output_type": "display_data"
    },
    {
     "name": "stderr",
     "output_type": "stream",
     "text": [
      "INFO - (NP.utils_torch.lr_range_test) - lr-range-test results: steep: 8.82E-02, min: 9.19E-01\n"
     ]
    },
    {
     "data": {
      "application/vnd.jupyter.widget-view+json": {
       "model_id": "1e9f549daf0848ff817b7b0c3fbb695e",
       "version_major": 2,
       "version_minor": 0
      },
      "text/plain": [
       "HBox(children=(HTML(value=''), FloatProgress(value=0.0, max=275.0), HTML(value='')))"
      ]
     },
     "metadata": {},
     "output_type": "display_data"
    },
    {
     "name": "stderr",
     "output_type": "stream",
     "text": [
      "INFO - (NP.utils_torch.lr_range_test) - lr-range-test results: steep: 8.17E-02, min: 1.07E+00\n"
     ]
    },
    {
     "data": {
      "application/vnd.jupyter.widget-view+json": {
       "model_id": "ba704c9a819a43bb8299cee6658d0d37",
       "version_major": 2,
       "version_minor": 0
      },
      "text/plain": [
       "HBox(children=(HTML(value=''), FloatProgress(value=0.0, max=275.0), HTML(value='')))"
      ]
     },
     "metadata": {},
     "output_type": "display_data"
    },
    {
     "name": "stderr",
     "output_type": "stream",
     "text": [
      "INFO - (NP.utils_torch.lr_range_test) - lr-range-test results: steep: 8.17E-02, min: 9.92E-01\n",
      "INFO - (NP.forecaster._init_train_loader) - lr-range-test selected learning rate: 8.38E-02\n",
      "INFO - (NP.utils.set_auto_seasonalities) - Disabling yearly seasonality. Run NeuralProphet with yearly_seasonality=True to override this.\n",
      "INFO - (NP.config.set_auto_batch_epoch) - Auto-set batch_size to 32\n",
      "INFO - (NP.config.set_auto_batch_epoch) - Auto-set epochs to 134\n"
     ]
    },
    {
     "data": {
      "application/vnd.jupyter.widget-view+json": {
       "model_id": "d2898f9f125a414993be1e10f90c5f9f",
       "version_major": 2,
       "version_minor": 0
      },
      "text/plain": [
       "HBox(children=(HTML(value=''), FloatProgress(value=0.0, max=275.0), HTML(value='')))"
      ]
     },
     "metadata": {},
     "output_type": "display_data"
    },
    {
     "name": "stderr",
     "output_type": "stream",
     "text": [
      "INFO - (NP.utils_torch.lr_range_test) - lr-range-test results: steep: 6.51E-02, min: 7.90E-01\n"
     ]
    },
    {
     "data": {
      "application/vnd.jupyter.widget-view+json": {
       "model_id": "0c056da1ad2f4e5da1f78ece68f4e6f2",
       "version_major": 2,
       "version_minor": 0
      },
      "text/plain": [
       "HBox(children=(HTML(value=''), FloatProgress(value=0.0, max=275.0), HTML(value='')))"
      ]
     },
     "metadata": {},
     "output_type": "display_data"
    },
    {
     "name": "stderr",
     "output_type": "stream",
     "text": [
      "INFO - (NP.utils_torch.lr_range_test) - lr-range-test results: steep: 6.51E-02, min: 6.30E-01\n"
     ]
    },
    {
     "data": {
      "application/vnd.jupyter.widget-view+json": {
       "model_id": "d4488acf0fb547f7a85c696276d94054",
       "version_major": 2,
       "version_minor": 0
      },
      "text/plain": [
       "HBox(children=(HTML(value=''), FloatProgress(value=0.0, max=275.0), HTML(value='')))"
      ]
     },
     "metadata": {},
     "output_type": "display_data"
    },
    {
     "name": "stderr",
     "output_type": "stream",
     "text": [
      "INFO - (NP.utils_torch.lr_range_test) - lr-range-test results: steep: 5.19E-02, min: 1.07E+00\n",
      "INFO - (NP.forecaster._init_train_loader) - lr-range-test selected learning rate: 6.04E-02\n",
      "INFO - (NP.utils.set_auto_seasonalities) - Disabling yearly seasonality. Run NeuralProphet with yearly_seasonality=True to override this.\n",
      "INFO - (NP.config.set_auto_batch_epoch) - Auto-set batch_size to 32\n",
      "INFO - (NP.config.set_auto_batch_epoch) - Auto-set epochs to 134\n"
     ]
    },
    {
     "data": {
      "application/vnd.jupyter.widget-view+json": {
       "model_id": "3e27619905464cda80f2d96e2798e244",
       "version_major": 2,
       "version_minor": 0
      },
      "text/plain": [
       "HBox(children=(HTML(value=''), FloatProgress(value=0.0, max=275.0), HTML(value='')))"
      ]
     },
     "metadata": {},
     "output_type": "display_data"
    },
    {
     "name": "stderr",
     "output_type": "stream",
     "text": [
      "INFO - (NP.utils_torch.lr_range_test) - lr-range-test results: steep: 7.58E-02, min: 7.90E-01\n"
     ]
    },
    {
     "data": {
      "application/vnd.jupyter.widget-view+json": {
       "model_id": "45d1e9d697584e66a4a5fd091dc88807",
       "version_major": 2,
       "version_minor": 0
      },
      "text/plain": [
       "HBox(children=(HTML(value=''), FloatProgress(value=0.0, max=275.0), HTML(value='')))"
      ]
     },
     "metadata": {},
     "output_type": "display_data"
    },
    {
     "name": "stderr",
     "output_type": "stream",
     "text": [
      "INFO - (NP.utils_torch.lr_range_test) - lr-range-test results: steep: 6.51E-02, min: 1.68E+00\n"
     ]
    },
    {
     "data": {
      "application/vnd.jupyter.widget-view+json": {
       "model_id": "da664ced13154176b6be354c21bd721b",
       "version_major": 2,
       "version_minor": 0
      },
      "text/plain": [
       "HBox(children=(HTML(value=''), FloatProgress(value=0.0, max=275.0), HTML(value='')))"
      ]
     },
     "metadata": {},
     "output_type": "display_data"
    },
    {
     "name": "stderr",
     "output_type": "stream",
     "text": [
      "INFO - (NP.utils_torch.lr_range_test) - lr-range-test results: steep: 6.04E-02, min: 1.15E+00\n",
      "INFO - (NP.forecaster._init_train_loader) - lr-range-test selected learning rate: 6.68E-02\n",
      "INFO - (NP.utils.set_auto_seasonalities) - Disabling yearly seasonality. Run NeuralProphet with yearly_seasonality=True to override this.\n",
      "INFO - (NP.config.set_auto_batch_epoch) - Auto-set batch_size to 32\n",
      "INFO - (NP.config.set_auto_batch_epoch) - Auto-set epochs to 134\n"
     ]
    },
    {
     "data": {
      "application/vnd.jupyter.widget-view+json": {
       "model_id": "511b05de47ee4d6e9a70e5428b16353e",
       "version_major": 2,
       "version_minor": 0
      },
      "text/plain": [
       "HBox(children=(HTML(value=''), FloatProgress(value=0.0, max=275.0), HTML(value='')))"
      ]
     },
     "metadata": {},
     "output_type": "display_data"
    },
    {
     "name": "stderr",
     "output_type": "stream",
     "text": [
      "INFO - (NP.utils_torch.lr_range_test) - lr-range-test results: steep: 1.29E-01, min: 1.15E+00\n"
     ]
    },
    {
     "data": {
      "application/vnd.jupyter.widget-view+json": {
       "model_id": "6fa3fcc3d6444cbf966807dfec06761a",
       "version_major": 2,
       "version_minor": 0
      },
      "text/plain": [
       "HBox(children=(HTML(value=''), FloatProgress(value=0.0, max=275.0), HTML(value='')))"
      ]
     },
     "metadata": {},
     "output_type": "display_data"
    },
    {
     "name": "stderr",
     "output_type": "stream",
     "text": [
      "INFO - (NP.utils_torch.lr_range_test) - lr-range-test results: steep: 1.61E-01, min: 1.24E+00\n"
     ]
    },
    {
     "data": {
      "application/vnd.jupyter.widget-view+json": {
       "model_id": "633840b6c722442f8dad7dc53b1f5494",
       "version_major": 2,
       "version_minor": 0
      },
      "text/plain": [
       "HBox(children=(HTML(value=''), FloatProgress(value=0.0, max=275.0), HTML(value='')))"
      ]
     },
     "metadata": {},
     "output_type": "display_data"
    },
    {
     "name": "stderr",
     "output_type": "stream",
     "text": [
      "INFO - (NP.utils_torch.lr_range_test) - lr-range-test results: steep: 1.39E-01, min: 7.90E-01\n",
      "INFO - (NP.forecaster._init_train_loader) - lr-range-test selected learning rate: 1.42E-01\n",
      "INFO - (NP.utils.set_auto_seasonalities) - Disabling yearly seasonality. Run NeuralProphet with yearly_seasonality=True to override this.\n",
      "INFO - (NP.config.set_auto_batch_epoch) - Auto-set batch_size to 32\n",
      "INFO - (NP.config.set_auto_batch_epoch) - Auto-set epochs to 134\n"
     ]
    },
    {
     "data": {
      "application/vnd.jupyter.widget-view+json": {
       "model_id": "31b8ff2418224a4a9d829c158d933031",
       "version_major": 2,
       "version_minor": 0
      },
      "text/plain": [
       "HBox(children=(HTML(value=''), FloatProgress(value=0.0, max=275.0), HTML(value='')))"
      ]
     },
     "metadata": {},
     "output_type": "display_data"
    },
    {
     "name": "stderr",
     "output_type": "stream",
     "text": [
      "INFO - (NP.utils_torch.lr_range_test) - lr-range-test results: steep: 5.60E-02, min: 1.34E+00\n"
     ]
    },
    {
     "data": {
      "application/vnd.jupyter.widget-view+json": {
       "model_id": "615795251e8d42d699b165e77f004dcd",
       "version_major": 2,
       "version_minor": 0
      },
      "text/plain": [
       "HBox(children=(HTML(value=''), FloatProgress(value=0.0, max=275.0), HTML(value='')))"
      ]
     },
     "metadata": {},
     "output_type": "display_data"
    },
    {
     "name": "stderr",
     "output_type": "stream",
     "text": [
      "INFO - (NP.utils_torch.lr_range_test) - lr-range-test results: steep: 6.04E-02, min: 9.92E-01\n"
     ]
    },
    {
     "data": {
      "application/vnd.jupyter.widget-view+json": {
       "model_id": "2cbc55fbd2b148b694e15c2b7764e6d6",
       "version_major": 2,
       "version_minor": 0
      },
      "text/plain": [
       "HBox(children=(HTML(value=''), FloatProgress(value=0.0, max=275.0), HTML(value='')))"
      ]
     },
     "metadata": {},
     "output_type": "display_data"
    },
    {
     "name": "stderr",
     "output_type": "stream",
     "text": [
      "INFO - (NP.utils_torch.lr_range_test) - lr-range-test results: steep: 4.81E-02, min: 9.92E-01\n",
      "INFO - (NP.forecaster._init_train_loader) - lr-range-test selected learning rate: 5.46E-02\n",
      "INFO - (NP.utils.set_auto_seasonalities) - Disabling yearly seasonality. Run NeuralProphet with yearly_seasonality=True to override this.\n",
      "INFO - (NP.config.set_auto_batch_epoch) - Auto-set batch_size to 32\n",
      "INFO - (NP.config.set_auto_batch_epoch) - Auto-set epochs to 134\n"
     ]
    },
    {
     "data": {
      "application/vnd.jupyter.widget-view+json": {
       "model_id": "2e2a634274b64e50b689e7f1d9bebb93",
       "version_major": 2,
       "version_minor": 0
      },
      "text/plain": [
       "HBox(children=(HTML(value=''), FloatProgress(value=0.0, max=275.0), HTML(value='')))"
      ]
     },
     "metadata": {},
     "output_type": "display_data"
    },
    {
     "name": "stderr",
     "output_type": "stream",
     "text": [
      "INFO - (NP.utils_torch.lr_range_test) - lr-range-test results: steep: 4.81E-02, min: 9.19E-01\n"
     ]
    },
    {
     "data": {
      "application/vnd.jupyter.widget-view+json": {
       "model_id": "272f1625d09d4a3d8a362adb6a23e641",
       "version_major": 2,
       "version_minor": 0
      },
      "text/plain": [
       "HBox(children=(HTML(value=''), FloatProgress(value=0.0, max=275.0), HTML(value='')))"
      ]
     },
     "metadata": {},
     "output_type": "display_data"
    },
    {
     "name": "stderr",
     "output_type": "stream",
     "text": [
      "INFO - (NP.utils_torch.lr_range_test) - lr-range-test results: steep: 4.46E-02, min: 6.79E-01\n"
     ]
    },
    {
     "data": {
      "application/vnd.jupyter.widget-view+json": {
       "model_id": "c1c11be7ec80417f8322edb73c0bcbd3",
       "version_major": 2,
       "version_minor": 0
      },
      "text/plain": [
       "HBox(children=(HTML(value=''), FloatProgress(value=0.0, max=275.0), HTML(value='')))"
      ]
     },
     "metadata": {},
     "output_type": "display_data"
    },
    {
     "name": "stderr",
     "output_type": "stream",
     "text": [
      "INFO - (NP.utils_torch.lr_range_test) - lr-range-test results: steep: 4.81E-02, min: 1.24E+00\n",
      "INFO - (NP.forecaster._init_train_loader) - lr-range-test selected learning rate: 4.69E-02\n",
      "INFO - (NP.utils.set_auto_seasonalities) - Disabling yearly seasonality. Run NeuralProphet with yearly_seasonality=True to override this.\n",
      "INFO - (NP.config.set_auto_batch_epoch) - Auto-set batch_size to 32\n",
      "INFO - (NP.config.set_auto_batch_epoch) - Auto-set epochs to 134\n"
     ]
    },
    {
     "data": {
      "application/vnd.jupyter.widget-view+json": {
       "model_id": "d9c4003d96aa4e91bc8c3d3182814df4",
       "version_major": 2,
       "version_minor": 0
      },
      "text/plain": [
       "HBox(children=(HTML(value=''), FloatProgress(value=0.0, max=275.0), HTML(value='')))"
      ]
     },
     "metadata": {},
     "output_type": "display_data"
    },
    {
     "name": "stderr",
     "output_type": "stream",
     "text": [
      "INFO - (NP.utils_torch.lr_range_test) - lr-range-test results: steep: 3.06E-02, min: 1.68E+00\n"
     ]
    },
    {
     "data": {
      "application/vnd.jupyter.widget-view+json": {
       "model_id": "9a4fd6b00f9245f590786601abbd7ff6",
       "version_major": 2,
       "version_minor": 0
      },
      "text/plain": [
       "HBox(children=(HTML(value=''), FloatProgress(value=0.0, max=275.0), HTML(value='')))"
      ]
     },
     "metadata": {},
     "output_type": "display_data"
    },
    {
     "name": "stderr",
     "output_type": "stream",
     "text": [
      "INFO - (NP.utils_torch.lr_range_test) - lr-range-test results: steep: 3.84E-02, min: 1.24E+00\n"
     ]
    },
    {
     "data": {
      "application/vnd.jupyter.widget-view+json": {
       "model_id": "4b92f7c19ba6418ebf44eae5c3ff587c",
       "version_major": 2,
       "version_minor": 0
      },
      "text/plain": [
       "HBox(children=(HTML(value=''), FloatProgress(value=0.0, max=275.0), HTML(value='')))"
      ]
     },
     "metadata": {},
     "output_type": "display_data"
    },
    {
     "name": "stderr",
     "output_type": "stream",
     "text": [
      "INFO - (NP.utils_torch.lr_range_test) - lr-range-test results: steep: 2.84E-02, min: 1.34E+00\n",
      "INFO - (NP.forecaster._init_train_loader) - lr-range-test selected learning rate: 3.22E-02\n",
      "INFO - (NP.utils.set_auto_seasonalities) - Disabling yearly seasonality. Run NeuralProphet with yearly_seasonality=True to override this.\n",
      "INFO - (NP.config.set_auto_batch_epoch) - Auto-set batch_size to 32\n",
      "INFO - (NP.config.set_auto_batch_epoch) - Auto-set epochs to 134\n"
     ]
    },
    {
     "data": {
      "application/vnd.jupyter.widget-view+json": {
       "model_id": "6e145be324454d02aa01d5e94fd9d59b",
       "version_major": 2,
       "version_minor": 0
      },
      "text/plain": [
       "HBox(children=(HTML(value=''), FloatProgress(value=0.0, max=275.0), HTML(value='')))"
      ]
     },
     "metadata": {},
     "output_type": "display_data"
    },
    {
     "name": "stderr",
     "output_type": "stream",
     "text": [
      "INFO - (NP.utils_torch.lr_range_test) - lr-range-test results: steep: 3.84E-02, min: 7.33E-01\n"
     ]
    },
    {
     "data": {
      "application/vnd.jupyter.widget-view+json": {
       "model_id": "f2c50fe443314b209a114bc9378777d3",
       "version_major": 2,
       "version_minor": 0
      },
      "text/plain": [
       "HBox(children=(HTML(value=''), FloatProgress(value=0.0, max=275.0), HTML(value='')))"
      ]
     },
     "metadata": {},
     "output_type": "display_data"
    },
    {
     "name": "stderr",
     "output_type": "stream",
     "text": [
      "INFO - (NP.utils_torch.lr_range_test) - lr-range-test results: steep: 1.88E-01, min: 1.24E+00\n"
     ]
    },
    {
     "data": {
      "application/vnd.jupyter.widget-view+json": {
       "model_id": "47125311372a43879533bbf4cf7f7bef",
       "version_major": 2,
       "version_minor": 0
      },
      "text/plain": [
       "HBox(children=(HTML(value=''), FloatProgress(value=0.0, max=275.0), HTML(value='')))"
      ]
     },
     "metadata": {},
     "output_type": "display_data"
    },
    {
     "name": "stderr",
     "output_type": "stream",
     "text": [
      "INFO - (NP.utils_torch.lr_range_test) - lr-range-test results: steep: 1.61E-01, min: 1.56E+00\n",
      "INFO - (NP.forecaster._init_train_loader) - lr-range-test selected learning rate: 1.05E-01\n",
      "INFO - (NP.utils.set_auto_seasonalities) - Disabling yearly seasonality. Run NeuralProphet with yearly_seasonality=True to override this.\n",
      "INFO - (NP.config.set_auto_batch_epoch) - Auto-set batch_size to 32\n",
      "INFO - (NP.config.set_auto_batch_epoch) - Auto-set epochs to 134\n"
     ]
    },
    {
     "data": {
      "application/vnd.jupyter.widget-view+json": {
       "model_id": "a5a2c56219a648138a3f87fc5db877fa",
       "version_major": 2,
       "version_minor": 0
      },
      "text/plain": [
       "HBox(children=(HTML(value=''), FloatProgress(value=0.0, max=275.0), HTML(value='')))"
      ]
     },
     "metadata": {},
     "output_type": "display_data"
    },
    {
     "name": "stderr",
     "output_type": "stream",
     "text": [
      "INFO - (NP.utils_torch.lr_range_test) - lr-range-test results: steep: 8.17E-02, min: 1.07E+00\n"
     ]
    },
    {
     "data": {
      "application/vnd.jupyter.widget-view+json": {
       "model_id": "40738b31b991452f99f90a1b5d76b444",
       "version_major": 2,
       "version_minor": 0
      },
      "text/plain": [
       "HBox(children=(HTML(value=''), FloatProgress(value=0.0, max=275.0), HTML(value='')))"
      ]
     },
     "metadata": {},
     "output_type": "display_data"
    },
    {
     "name": "stderr",
     "output_type": "stream",
     "text": [
      "INFO - (NP.utils_torch.lr_range_test) - lr-range-test results: steep: 4.14E-02, min: 1.45E+00\n"
     ]
    },
    {
     "data": {
      "application/vnd.jupyter.widget-view+json": {
       "model_id": "249fd994494f4cfab44028557814cf43",
       "version_major": 2,
       "version_minor": 0
      },
      "text/plain": [
       "HBox(children=(HTML(value=''), FloatProgress(value=0.0, max=275.0), HTML(value='')))"
      ]
     },
     "metadata": {},
     "output_type": "display_data"
    },
    {
     "name": "stderr",
     "output_type": "stream",
     "text": [
      "INFO - (NP.utils_torch.lr_range_test) - lr-range-test results: steep: 4.46E-02, min: 8.52E-01\n",
      "INFO - (NP.forecaster._init_train_loader) - lr-range-test selected learning rate: 5.32E-02\n",
      "INFO - (NP.utils.set_auto_seasonalities) - Disabling yearly seasonality. Run NeuralProphet with yearly_seasonality=True to override this.\n",
      "INFO - (NP.config.set_auto_batch_epoch) - Auto-set batch_size to 32\n",
      "INFO - (NP.config.set_auto_batch_epoch) - Auto-set epochs to 134\n"
     ]
    },
    {
     "data": {
      "application/vnd.jupyter.widget-view+json": {
       "model_id": "cd5fb5a411bb4181857bf474163744bd",
       "version_major": 2,
       "version_minor": 0
      },
      "text/plain": [
       "HBox(children=(HTML(value=''), FloatProgress(value=0.0, max=275.0), HTML(value='')))"
      ]
     },
     "metadata": {},
     "output_type": "display_data"
    },
    {
     "name": "stderr",
     "output_type": "stream",
     "text": [
      "INFO - (NP.utils_torch.lr_range_test) - lr-range-test results: steep: 4.81E-02, min: 1.56E+00\n"
     ]
    },
    {
     "data": {
      "application/vnd.jupyter.widget-view+json": {
       "model_id": "6557ffa9fdf94c669383739b614c5645",
       "version_major": 2,
       "version_minor": 0
      },
      "text/plain": [
       "HBox(children=(HTML(value=''), FloatProgress(value=0.0, max=275.0), HTML(value='')))"
      ]
     },
     "metadata": {},
     "output_type": "display_data"
    },
    {
     "name": "stderr",
     "output_type": "stream",
     "text": [
      "INFO - (NP.utils_torch.lr_range_test) - lr-range-test results: steep: 5.19E-02, min: 1.34E+00\n"
     ]
    },
    {
     "data": {
      "application/vnd.jupyter.widget-view+json": {
       "model_id": "77cbefb1d8614a62bca9fd42d8b78bbe",
       "version_major": 2,
       "version_minor": 0
      },
      "text/plain": [
       "HBox(children=(HTML(value=''), FloatProgress(value=0.0, max=275.0), HTML(value='')))"
      ]
     },
     "metadata": {},
     "output_type": "display_data"
    },
    {
     "name": "stderr",
     "output_type": "stream",
     "text": [
      "INFO - (NP.utils_torch.lr_range_test) - lr-range-test results: steep: 4.81E-02, min: 1.68E+00\n",
      "INFO - (NP.forecaster._init_train_loader) - lr-range-test selected learning rate: 4.94E-02\n",
      "INFO - (NP.utils.set_auto_seasonalities) - Disabling yearly seasonality. Run NeuralProphet with yearly_seasonality=True to override this.\n",
      "INFO - (NP.config.set_auto_batch_epoch) - Auto-set batch_size to 32\n",
      "INFO - (NP.config.set_auto_batch_epoch) - Auto-set epochs to 134\n"
     ]
    },
    {
     "data": {
      "application/vnd.jupyter.widget-view+json": {
       "model_id": "fd86d386b67f4bd393156b11d502ee50",
       "version_major": 2,
       "version_minor": 0
      },
      "text/plain": [
       "HBox(children=(HTML(value=''), FloatProgress(value=0.0, max=275.0), HTML(value='')))"
      ]
     },
     "metadata": {},
     "output_type": "display_data"
    },
    {
     "name": "stderr",
     "output_type": "stream",
     "text": [
      "INFO - (NP.utils_torch.lr_range_test) - lr-range-test results: steep: 3.30E-02, min: 1.24E+00\n"
     ]
    },
    {
     "data": {
      "application/vnd.jupyter.widget-view+json": {
       "model_id": "432e493835654da9a50475a403df8337",
       "version_major": 2,
       "version_minor": 0
      },
      "text/plain": [
       "HBox(children=(HTML(value=''), FloatProgress(value=0.0, max=275.0), HTML(value='')))"
      ]
     },
     "metadata": {},
     "output_type": "display_data"
    },
    {
     "name": "stderr",
     "output_type": "stream",
     "text": [
      "INFO - (NP.utils_torch.lr_range_test) - lr-range-test results: steep: 3.30E-02, min: 1.24E+00\n"
     ]
    },
    {
     "data": {
      "application/vnd.jupyter.widget-view+json": {
       "model_id": "15040a6176b3467b82e7f39a99397ada",
       "version_major": 2,
       "version_minor": 0
      },
      "text/plain": [
       "HBox(children=(HTML(value=''), FloatProgress(value=0.0, max=275.0), HTML(value='')))"
      ]
     },
     "metadata": {},
     "output_type": "display_data"
    },
    {
     "name": "stderr",
     "output_type": "stream",
     "text": [
      "INFO - (NP.utils_torch.lr_range_test) - lr-range-test results: steep: 3.30E-02, min: 1.34E+00\n",
      "INFO - (NP.forecaster._init_train_loader) - lr-range-test selected learning rate: 3.30E-02\n",
      "INFO - (NP.utils.set_auto_seasonalities) - Disabling yearly seasonality. Run NeuralProphet with yearly_seasonality=True to override this.\n",
      "INFO - (NP.config.set_auto_batch_epoch) - Auto-set batch_size to 32\n",
      "INFO - (NP.config.set_auto_batch_epoch) - Auto-set epochs to 134\n"
     ]
    },
    {
     "data": {
      "application/vnd.jupyter.widget-view+json": {
       "model_id": "3ac27b1dec3f43a68114853f900f6dda",
       "version_major": 2,
       "version_minor": 0
      },
      "text/plain": [
       "HBox(children=(HTML(value=''), FloatProgress(value=0.0, max=275.0), HTML(value='')))"
      ]
     },
     "metadata": {},
     "output_type": "display_data"
    },
    {
     "name": "stderr",
     "output_type": "stream",
     "text": [
      "INFO - (NP.utils_torch.lr_range_test) - lr-range-test results: steep: 4.46E-02, min: 1.68E+00\n"
     ]
    },
    {
     "data": {
      "application/vnd.jupyter.widget-view+json": {
       "model_id": "8073d36d14bf4eb9b4c24b1cf17236da",
       "version_major": 2,
       "version_minor": 0
      },
      "text/plain": [
       "HBox(children=(HTML(value=''), FloatProgress(value=0.0, max=275.0), HTML(value='')))"
      ]
     },
     "metadata": {},
     "output_type": "display_data"
    },
    {
     "name": "stderr",
     "output_type": "stream",
     "text": [
      "INFO - (NP.utils_torch.lr_range_test) - lr-range-test results: steep: 4.46E-02, min: 9.19E-01\n"
     ]
    },
    {
     "data": {
      "application/vnd.jupyter.widget-view+json": {
       "model_id": "1c3f62ecce1b4d9eaeb030afffffe255",
       "version_major": 2,
       "version_minor": 0
      },
      "text/plain": [
       "HBox(children=(HTML(value=''), FloatProgress(value=0.0, max=275.0), HTML(value='')))"
      ]
     },
     "metadata": {},
     "output_type": "display_data"
    },
    {
     "name": "stderr",
     "output_type": "stream",
     "text": [
      "INFO - (NP.utils_torch.lr_range_test) - lr-range-test results: steep: 4.46E-02, min: 9.92E-01\n",
      "INFO - (NP.forecaster._init_train_loader) - lr-range-test selected learning rate: 4.46E-02\n",
      "INFO - (NP.utils.set_auto_seasonalities) - Disabling yearly seasonality. Run NeuralProphet with yearly_seasonality=True to override this.\n",
      "INFO - (NP.config.set_auto_batch_epoch) - Auto-set batch_size to 32\n",
      "INFO - (NP.config.set_auto_batch_epoch) - Auto-set epochs to 134\n"
     ]
    },
    {
     "data": {
      "application/vnd.jupyter.widget-view+json": {
       "model_id": "995a6d4de25949109a280f6e423a1a29",
       "version_major": 2,
       "version_minor": 0
      },
      "text/plain": [
       "HBox(children=(HTML(value=''), FloatProgress(value=0.0, max=275.0), HTML(value='')))"
      ]
     },
     "metadata": {},
     "output_type": "display_data"
    },
    {
     "name": "stderr",
     "output_type": "stream",
     "text": [
      "INFO - (NP.utils_torch.lr_range_test) - lr-range-test results: steep: 7.03E-02, min: 1.15E+00\n"
     ]
    },
    {
     "data": {
      "application/vnd.jupyter.widget-view+json": {
       "model_id": "b129f80f80f444c3a93026945ecde12d",
       "version_major": 2,
       "version_minor": 0
      },
      "text/plain": [
       "HBox(children=(HTML(value=''), FloatProgress(value=0.0, max=275.0), HTML(value='')))"
      ]
     },
     "metadata": {},
     "output_type": "display_data"
    },
    {
     "name": "stderr",
     "output_type": "stream",
     "text": [
      "INFO - (NP.utils_torch.lr_range_test) - lr-range-test results: steep: 6.51E-02, min: 1.07E+00\n"
     ]
    },
    {
     "data": {
      "application/vnd.jupyter.widget-view+json": {
       "model_id": "414356c2e5ba47228c54d2eb12e3acb1",
       "version_major": 2,
       "version_minor": 0
      },
      "text/plain": [
       "HBox(children=(HTML(value=''), FloatProgress(value=0.0, max=275.0), HTML(value='')))"
      ]
     },
     "metadata": {},
     "output_type": "display_data"
    },
    {
     "name": "stderr",
     "output_type": "stream",
     "text": [
      "INFO - (NP.utils_torch.lr_range_test) - lr-range-test results: steep: 6.51E-02, min: 1.15E+00\n",
      "INFO - (NP.forecaster._init_train_loader) - lr-range-test selected learning rate: 6.68E-02\n",
      "INFO - (NP.utils.set_auto_seasonalities) - Disabling yearly seasonality. Run NeuralProphet with yearly_seasonality=True to override this.\n",
      "INFO - (NP.config.set_auto_batch_epoch) - Auto-set batch_size to 32\n",
      "INFO - (NP.config.set_auto_batch_epoch) - Auto-set epochs to 134\n"
     ]
    },
    {
     "data": {
      "application/vnd.jupyter.widget-view+json": {
       "model_id": "48cade18c5b548a98cc5248d869bc858",
       "version_major": 2,
       "version_minor": 0
      },
      "text/plain": [
       "HBox(children=(HTML(value=''), FloatProgress(value=0.0, max=275.0), HTML(value='')))"
      ]
     },
     "metadata": {},
     "output_type": "display_data"
    },
    {
     "name": "stderr",
     "output_type": "stream",
     "text": [
      "INFO - (NP.utils_torch.lr_range_test) - lr-range-test results: steep: 7.58E-02, min: 7.90E-01\n"
     ]
    },
    {
     "data": {
      "application/vnd.jupyter.widget-view+json": {
       "model_id": "e8a0f38ee63f4bc3a8bb5155e70a9ebc",
       "version_major": 2,
       "version_minor": 0
      },
      "text/plain": [
       "HBox(children=(HTML(value=''), FloatProgress(value=0.0, max=275.0), HTML(value='')))"
      ]
     },
     "metadata": {},
     "output_type": "display_data"
    },
    {
     "name": "stderr",
     "output_type": "stream",
     "text": [
      "INFO - (NP.utils_torch.lr_range_test) - lr-range-test results: steep: 1.19E-01, min: 1.45E+00\n"
     ]
    },
    {
     "data": {
      "application/vnd.jupyter.widget-view+json": {
       "model_id": "bee95671a6ad4865bc8321fae539f537",
       "version_major": 2,
       "version_minor": 0
      },
      "text/plain": [
       "HBox(children=(HTML(value=''), FloatProgress(value=0.0, max=275.0), HTML(value='')))"
      ]
     },
     "metadata": {},
     "output_type": "display_data"
    },
    {
     "name": "stderr",
     "output_type": "stream",
     "text": [
      "INFO - (NP.utils_torch.lr_range_test) - lr-range-test results: steep: 1.11E-01, min: 8.52E-01\n",
      "INFO - (NP.forecaster._init_train_loader) - lr-range-test selected learning rate: 1.00E-01\n",
      "INFO - (NP.utils.set_auto_seasonalities) - Disabling yearly seasonality. Run NeuralProphet with yearly_seasonality=True to override this.\n",
      "INFO - (NP.config.set_auto_batch_epoch) - Auto-set batch_size to 32\n",
      "INFO - (NP.config.set_auto_batch_epoch) - Auto-set epochs to 134\n"
     ]
    },
    {
     "data": {
      "application/vnd.jupyter.widget-view+json": {
       "model_id": "4dd831e3a04f4fde89fd4e93a7097d3d",
       "version_major": 2,
       "version_minor": 0
      },
      "text/plain": [
       "HBox(children=(HTML(value=''), FloatProgress(value=0.0, max=275.0), HTML(value='')))"
      ]
     },
     "metadata": {},
     "output_type": "display_data"
    },
    {
     "name": "stderr",
     "output_type": "stream",
     "text": [
      "INFO - (NP.utils_torch.lr_range_test) - lr-range-test results: steep: 3.84E-02, min: 1.45E+00\n"
     ]
    },
    {
     "data": {
      "application/vnd.jupyter.widget-view+json": {
       "model_id": "a06c1f7f4148494d8459838d4d2fc085",
       "version_major": 2,
       "version_minor": 0
      },
      "text/plain": [
       "HBox(children=(HTML(value=''), FloatProgress(value=0.0, max=275.0), HTML(value='')))"
      ]
     },
     "metadata": {},
     "output_type": "display_data"
    },
    {
     "name": "stderr",
     "output_type": "stream",
     "text": [
      "INFO - (NP.utils_torch.lr_range_test) - lr-range-test results: steep: 4.14E-02, min: 1.68E+00\n"
     ]
    },
    {
     "data": {
      "application/vnd.jupyter.widget-view+json": {
       "model_id": "a59a3d99ce3f4fdcb1137e25a69b5de5",
       "version_major": 2,
       "version_minor": 0
      },
      "text/plain": [
       "HBox(children=(HTML(value=''), FloatProgress(value=0.0, max=275.0), HTML(value='')))"
      ]
     },
     "metadata": {},
     "output_type": "display_data"
    },
    {
     "name": "stderr",
     "output_type": "stream",
     "text": [
      "INFO - (NP.utils_torch.lr_range_test) - lr-range-test results: steep: 4.14E-02, min: 9.92E-01\n",
      "INFO - (NP.forecaster._init_train_loader) - lr-range-test selected learning rate: 4.03E-02\n",
      "INFO - (NP.utils.set_auto_seasonalities) - Disabling yearly seasonality. Run NeuralProphet with yearly_seasonality=True to override this.\n",
      "INFO - (NP.config.set_auto_batch_epoch) - Auto-set batch_size to 32\n",
      "INFO - (NP.config.set_auto_batch_epoch) - Auto-set epochs to 134\n"
     ]
    },
    {
     "data": {
      "application/vnd.jupyter.widget-view+json": {
       "model_id": "7971edf77ffd47d1bf86cdbf23100bd9",
       "version_major": 2,
       "version_minor": 0
      },
      "text/plain": [
       "HBox(children=(HTML(value=''), FloatProgress(value=0.0, max=275.0), HTML(value='')))"
      ]
     },
     "metadata": {},
     "output_type": "display_data"
    },
    {
     "name": "stderr",
     "output_type": "stream",
     "text": [
      "INFO - (NP.utils_torch.lr_range_test) - lr-range-test results: steep: 4.14E-02, min: 8.52E-01\n"
     ]
    },
    {
     "data": {
      "application/vnd.jupyter.widget-view+json": {
       "model_id": "90f60d3dd81548a496d651a08ba2501c",
       "version_major": 2,
       "version_minor": 0
      },
      "text/plain": [
       "HBox(children=(HTML(value=''), FloatProgress(value=0.0, max=275.0), HTML(value='')))"
      ]
     },
     "metadata": {},
     "output_type": "display_data"
    },
    {
     "name": "stderr",
     "output_type": "stream",
     "text": [
      "INFO - (NP.utils_torch.lr_range_test) - lr-range-test results: steep: 4.14E-02, min: 9.92E-01\n"
     ]
    },
    {
     "data": {
      "application/vnd.jupyter.widget-view+json": {
       "model_id": "0afc72d929fe4684aa1fc0d1742185c0",
       "version_major": 2,
       "version_minor": 0
      },
      "text/plain": [
       "HBox(children=(HTML(value=''), FloatProgress(value=0.0, max=275.0), HTML(value='')))"
      ]
     },
     "metadata": {},
     "output_type": "display_data"
    },
    {
     "name": "stderr",
     "output_type": "stream",
     "text": [
      "INFO - (NP.utils_torch.lr_range_test) - lr-range-test results: steep: 4.46E-02, min: 8.52E-01\n",
      "INFO - (NP.forecaster._init_train_loader) - lr-range-test selected learning rate: 4.24E-02\n",
      "INFO - (NP.utils.set_auto_seasonalities) - Disabling yearly seasonality. Run NeuralProphet with yearly_seasonality=True to override this.\n",
      "INFO - (NP.config.set_auto_batch_epoch) - Auto-set batch_size to 32\n",
      "INFO - (NP.config.set_auto_batch_epoch) - Auto-set epochs to 134\n"
     ]
    },
    {
     "data": {
      "application/vnd.jupyter.widget-view+json": {
       "model_id": "ed3518e429e546f3bb32d1059b1fe2a3",
       "version_major": 2,
       "version_minor": 0
      },
      "text/plain": [
       "HBox(children=(HTML(value=''), FloatProgress(value=0.0, max=275.0), HTML(value='')))"
      ]
     },
     "metadata": {},
     "output_type": "display_data"
    },
    {
     "name": "stderr",
     "output_type": "stream",
     "text": [
      "INFO - (NP.utils_torch.lr_range_test) - lr-range-test results: steep: 5.19E-02, min: 1.56E+00\n"
     ]
    },
    {
     "data": {
      "application/vnd.jupyter.widget-view+json": {
       "model_id": "805c4996b06d4ce9a9dd78bf72743610",
       "version_major": 2,
       "version_minor": 0
      },
      "text/plain": [
       "HBox(children=(HTML(value=''), FloatProgress(value=0.0, max=275.0), HTML(value='')))"
      ]
     },
     "metadata": {},
     "output_type": "display_data"
    },
    {
     "name": "stderr",
     "output_type": "stream",
     "text": [
      "INFO - (NP.utils_torch.lr_range_test) - lr-range-test results: steep: 5.19E-02, min: 7.33E-01\n"
     ]
    },
    {
     "data": {
      "application/vnd.jupyter.widget-view+json": {
       "model_id": "98c2f5366a30457eb59da0cfd198fb90",
       "version_major": 2,
       "version_minor": 0
      },
      "text/plain": [
       "HBox(children=(HTML(value=''), FloatProgress(value=0.0, max=275.0), HTML(value='')))"
      ]
     },
     "metadata": {},
     "output_type": "display_data"
    },
    {
     "name": "stderr",
     "output_type": "stream",
     "text": [
      "INFO - (NP.utils_torch.lr_range_test) - lr-range-test results: steep: 4.81E-02, min: 1.68E+00\n",
      "INFO - (NP.forecaster._init_train_loader) - lr-range-test selected learning rate: 5.06E-02\n",
      "INFO - (NP.utils.set_auto_seasonalities) - Disabling yearly seasonality. Run NeuralProphet with yearly_seasonality=True to override this.\n",
      "INFO - (NP.config.set_auto_batch_epoch) - Auto-set batch_size to 32\n",
      "INFO - (NP.config.set_auto_batch_epoch) - Auto-set epochs to 134\n"
     ]
    },
    {
     "data": {
      "application/vnd.jupyter.widget-view+json": {
       "model_id": "cc9408699f7248728e9b4d2727d417c0",
       "version_major": 2,
       "version_minor": 0
      },
      "text/plain": [
       "HBox(children=(HTML(value=''), FloatProgress(value=0.0, max=275.0), HTML(value='')))"
      ]
     },
     "metadata": {},
     "output_type": "display_data"
    },
    {
     "name": "stderr",
     "output_type": "stream",
     "text": [
      "INFO - (NP.utils_torch.lr_range_test) - lr-range-test results: steep: 7.03E-02, min: 1.45E+00\n"
     ]
    },
    {
     "data": {
      "application/vnd.jupyter.widget-view+json": {
       "model_id": "6c3e3775f878493e906cb9b4fa6531a6",
       "version_major": 2,
       "version_minor": 0
      },
      "text/plain": [
       "HBox(children=(HTML(value=''), FloatProgress(value=0.0, max=275.0), HTML(value='')))"
      ]
     },
     "metadata": {},
     "output_type": "display_data"
    },
    {
     "name": "stderr",
     "output_type": "stream",
     "text": [
      "INFO - (NP.utils_torch.lr_range_test) - lr-range-test results: steep: 7.03E-02, min: 1.56E+00\n"
     ]
    },
    {
     "data": {
      "application/vnd.jupyter.widget-view+json": {
       "model_id": "c7d5714ad681431a87b83f3d4a12cc34",
       "version_major": 2,
       "version_minor": 0
      },
      "text/plain": [
       "HBox(children=(HTML(value=''), FloatProgress(value=0.0, max=275.0), HTML(value='')))"
      ]
     },
     "metadata": {},
     "output_type": "display_data"
    },
    {
     "name": "stderr",
     "output_type": "stream",
     "text": [
      "INFO - (NP.utils_torch.lr_range_test) - lr-range-test results: steep: 7.03E-02, min: 1.45E+00\n",
      "INFO - (NP.forecaster._init_train_loader) - lr-range-test selected learning rate: 7.03E-02\n",
      "INFO - (NP.utils.set_auto_seasonalities) - Disabling yearly seasonality. Run NeuralProphet with yearly_seasonality=True to override this.\n",
      "INFO - (NP.config.set_auto_batch_epoch) - Auto-set batch_size to 32\n",
      "INFO - (NP.config.set_auto_batch_epoch) - Auto-set epochs to 134\n"
     ]
    },
    {
     "data": {
      "application/vnd.jupyter.widget-view+json": {
       "model_id": "4adfed994bc9403391612916cb14a1b5",
       "version_major": 2,
       "version_minor": 0
      },
      "text/plain": [
       "HBox(children=(HTML(value=''), FloatProgress(value=0.0, max=275.0), HTML(value='')))"
      ]
     },
     "metadata": {},
     "output_type": "display_data"
    },
    {
     "name": "stderr",
     "output_type": "stream",
     "text": [
      "INFO - (NP.utils_torch.lr_range_test) - lr-range-test results: steep: 5.60E-02, min: 1.34E+00\n"
     ]
    },
    {
     "data": {
      "application/vnd.jupyter.widget-view+json": {
       "model_id": "d34a43b49df34078b63df84628ff5f9c",
       "version_major": 2,
       "version_minor": 0
      },
      "text/plain": [
       "HBox(children=(HTML(value=''), FloatProgress(value=0.0, max=275.0), HTML(value='')))"
      ]
     },
     "metadata": {},
     "output_type": "display_data"
    },
    {
     "name": "stderr",
     "output_type": "stream",
     "text": [
      "INFO - (NP.utils_torch.lr_range_test) - lr-range-test results: steep: 5.19E-02, min: 1.68E+00\n"
     ]
    },
    {
     "data": {
      "application/vnd.jupyter.widget-view+json": {
       "model_id": "50ca2152ef334747a9cdff5c03dc51aa",
       "version_major": 2,
       "version_minor": 0
      },
      "text/plain": [
       "HBox(children=(HTML(value=''), FloatProgress(value=0.0, max=275.0), HTML(value='')))"
      ]
     },
     "metadata": {},
     "output_type": "display_data"
    },
    {
     "name": "stderr",
     "output_type": "stream",
     "text": [
      "INFO - (NP.utils_torch.lr_range_test) - lr-range-test results: steep: 4.81E-02, min: 1.07E+00\n",
      "INFO - (NP.forecaster._init_train_loader) - lr-range-test selected learning rate: 5.19E-02\n",
      "INFO - (NP.utils.set_auto_seasonalities) - Disabling yearly seasonality. Run NeuralProphet with yearly_seasonality=True to override this.\n",
      "INFO - (NP.config.set_auto_batch_epoch) - Auto-set batch_size to 32\n",
      "INFO - (NP.config.set_auto_batch_epoch) - Auto-set epochs to 134\n"
     ]
    },
    {
     "data": {
      "application/vnd.jupyter.widget-view+json": {
       "model_id": "d4b695a78ae14b0bb1463870cd5a9444",
       "version_major": 2,
       "version_minor": 0
      },
      "text/plain": [
       "HBox(children=(HTML(value=''), FloatProgress(value=0.0, max=275.0), HTML(value='')))"
      ]
     },
     "metadata": {},
     "output_type": "display_data"
    },
    {
     "name": "stderr",
     "output_type": "stream",
     "text": [
      "INFO - (NP.utils_torch.lr_range_test) - lr-range-test results: steep: 5.19E-02, min: 1.45E+00\n"
     ]
    },
    {
     "data": {
      "application/vnd.jupyter.widget-view+json": {
       "model_id": "d82de4d4c5904de680966ef95fa24f1b",
       "version_major": 2,
       "version_minor": 0
      },
      "text/plain": [
       "HBox(children=(HTML(value=''), FloatProgress(value=0.0, max=275.0), HTML(value='')))"
      ]
     },
     "metadata": {},
     "output_type": "display_data"
    },
    {
     "name": "stderr",
     "output_type": "stream",
     "text": [
      "INFO - (NP.utils_torch.lr_range_test) - lr-range-test results: steep: 5.19E-02, min: 2.11E+00\n"
     ]
    },
    {
     "data": {
      "application/vnd.jupyter.widget-view+json": {
       "model_id": "17216123012d43e5911a56013787b147",
       "version_major": 2,
       "version_minor": 0
      },
      "text/plain": [
       "HBox(children=(HTML(value=''), FloatProgress(value=0.0, max=275.0), HTML(value='')))"
      ]
     },
     "metadata": {},
     "output_type": "display_data"
    },
    {
     "name": "stderr",
     "output_type": "stream",
     "text": [
      "INFO - (NP.utils_torch.lr_range_test) - lr-range-test results: steep: 5.19E-02, min: 1.68E+00\n",
      "INFO - (NP.forecaster._init_train_loader) - lr-range-test selected learning rate: 5.19E-02\n",
      "INFO - (NP.utils.set_auto_seasonalities) - Disabling yearly seasonality. Run NeuralProphet with yearly_seasonality=True to override this.\n",
      "INFO - (NP.config.set_auto_batch_epoch) - Auto-set batch_size to 32\n",
      "INFO - (NP.config.set_auto_batch_epoch) - Auto-set epochs to 134\n"
     ]
    },
    {
     "data": {
      "application/vnd.jupyter.widget-view+json": {
       "model_id": "a88d0322f1ba4a7aabd43bf5dab24e24",
       "version_major": 2,
       "version_minor": 0
      },
      "text/plain": [
       "HBox(children=(HTML(value=''), FloatProgress(value=0.0, max=275.0), HTML(value='')))"
      ]
     },
     "metadata": {},
     "output_type": "display_data"
    },
    {
     "name": "stderr",
     "output_type": "stream",
     "text": [
      "INFO - (NP.utils_torch.lr_range_test) - lr-range-test results: steep: 8.82E-02, min: 1.24E+00\n"
     ]
    },
    {
     "data": {
      "application/vnd.jupyter.widget-view+json": {
       "model_id": "6bd791d8e64b45b1ba0bc099d73395f8",
       "version_major": 2,
       "version_minor": 0
      },
      "text/plain": [
       "HBox(children=(HTML(value=''), FloatProgress(value=0.0, max=275.0), HTML(value='')))"
      ]
     },
     "metadata": {},
     "output_type": "display_data"
    },
    {
     "name": "stderr",
     "output_type": "stream",
     "text": [
      "INFO - (NP.utils_torch.lr_range_test) - lr-range-test results: steep: 2.84E-02, min: 7.90E-01\n"
     ]
    },
    {
     "data": {
      "application/vnd.jupyter.widget-view+json": {
       "model_id": "35a9af10bb6144c8accc9b49ecf0b19b",
       "version_major": 2,
       "version_minor": 0
      },
      "text/plain": [
       "HBox(children=(HTML(value=''), FloatProgress(value=0.0, max=275.0), HTML(value='')))"
      ]
     },
     "metadata": {},
     "output_type": "display_data"
    },
    {
     "name": "stderr",
     "output_type": "stream",
     "text": [
      "INFO - (NP.utils_torch.lr_range_test) - lr-range-test results: steep: 4.46E-02, min: 9.92E-01\n",
      "INFO - (NP.forecaster._init_train_loader) - lr-range-test selected learning rate: 4.81E-02\n",
      "INFO - (NP.utils.set_auto_seasonalities) - Disabling yearly seasonality. Run NeuralProphet with yearly_seasonality=True to override this.\n",
      "INFO - (NP.config.set_auto_batch_epoch) - Auto-set batch_size to 32\n",
      "INFO - (NP.config.set_auto_batch_epoch) - Auto-set epochs to 134\n"
     ]
    },
    {
     "data": {
      "application/vnd.jupyter.widget-view+json": {
       "model_id": "8968b232dfd24dd09cc741b363536fb7",
       "version_major": 2,
       "version_minor": 0
      },
      "text/plain": [
       "HBox(children=(HTML(value=''), FloatProgress(value=0.0, max=275.0), HTML(value='')))"
      ]
     },
     "metadata": {},
     "output_type": "display_data"
    },
    {
     "name": "stderr",
     "output_type": "stream",
     "text": [
      "INFO - (NP.utils_torch.lr_range_test) - lr-range-test results: steep: 4.46E-02, min: 1.15E+00\n"
     ]
    },
    {
     "data": {
      "application/vnd.jupyter.widget-view+json": {
       "model_id": "484991c98749408bb6312123a2de1ee0",
       "version_major": 2,
       "version_minor": 0
      },
      "text/plain": [
       "HBox(children=(HTML(value=''), FloatProgress(value=0.0, max=275.0), HTML(value='')))"
      ]
     },
     "metadata": {},
     "output_type": "display_data"
    },
    {
     "name": "stderr",
     "output_type": "stream",
     "text": [
      "INFO - (NP.utils_torch.lr_range_test) - lr-range-test results: steep: 4.46E-02, min: 1.34E+00\n"
     ]
    },
    {
     "data": {
      "application/vnd.jupyter.widget-view+json": {
       "model_id": "da003a2652054c699f6b6986577cb817",
       "version_major": 2,
       "version_minor": 0
      },
      "text/plain": [
       "HBox(children=(HTML(value=''), FloatProgress(value=0.0, max=275.0), HTML(value='')))"
      ]
     },
     "metadata": {},
     "output_type": "display_data"
    },
    {
     "name": "stderr",
     "output_type": "stream",
     "text": [
      "INFO - (NP.utils_torch.lr_range_test) - lr-range-test results: steep: 4.46E-02, min: 1.07E+00\n",
      "INFO - (NP.forecaster._init_train_loader) - lr-range-test selected learning rate: 4.46E-02\n",
      "INFO - (NP.utils.set_auto_seasonalities) - Disabling yearly seasonality. Run NeuralProphet with yearly_seasonality=True to override this.\n",
      "INFO - (NP.config.set_auto_batch_epoch) - Auto-set batch_size to 32\n",
      "INFO - (NP.config.set_auto_batch_epoch) - Auto-set epochs to 134\n"
     ]
    },
    {
     "data": {
      "application/vnd.jupyter.widget-view+json": {
       "model_id": "e20a4b8c563d4a6eab2734e2cac3cebd",
       "version_major": 2,
       "version_minor": 0
      },
      "text/plain": [
       "HBox(children=(HTML(value=''), FloatProgress(value=0.0, max=275.0), HTML(value='')))"
      ]
     },
     "metadata": {},
     "output_type": "display_data"
    },
    {
     "name": "stderr",
     "output_type": "stream",
     "text": [
      "INFO - (NP.utils_torch.lr_range_test) - lr-range-test results: steep: 1.29E-01, min: 1.34E+00\n"
     ]
    },
    {
     "data": {
      "application/vnd.jupyter.widget-view+json": {
       "model_id": "3b7167278999462482df518b575bc827",
       "version_major": 2,
       "version_minor": 0
      },
      "text/plain": [
       "HBox(children=(HTML(value=''), FloatProgress(value=0.0, max=275.0), HTML(value='')))"
      ]
     },
     "metadata": {},
     "output_type": "display_data"
    },
    {
     "name": "stderr",
     "output_type": "stream",
     "text": [
      "INFO - (NP.utils_torch.lr_range_test) - lr-range-test results: steep: 1.61E-01, min: 1.34E+00\n"
     ]
    },
    {
     "data": {
      "application/vnd.jupyter.widget-view+json": {
       "model_id": "13c4d496e4bf4465a370b5c0fc58717b",
       "version_major": 2,
       "version_minor": 0
      },
      "text/plain": [
       "HBox(children=(HTML(value=''), FloatProgress(value=0.0, max=275.0), HTML(value='')))"
      ]
     },
     "metadata": {},
     "output_type": "display_data"
    },
    {
     "name": "stderr",
     "output_type": "stream",
     "text": [
      "INFO - (NP.utils_torch.lr_range_test) - lr-range-test results: steep: 1.50E-01, min: 1.34E+00\n",
      "INFO - (NP.forecaster._init_train_loader) - lr-range-test selected learning rate: 1.46E-01\n",
      "INFO - (NP.utils.set_auto_seasonalities) - Disabling yearly seasonality. Run NeuralProphet with yearly_seasonality=True to override this.\n",
      "INFO - (NP.config.set_auto_batch_epoch) - Auto-set batch_size to 32\n",
      "INFO - (NP.config.set_auto_batch_epoch) - Auto-set epochs to 134\n"
     ]
    },
    {
     "data": {
      "application/vnd.jupyter.widget-view+json": {
       "model_id": "d06a39264d0c4493b7259bd6300e1437",
       "version_major": 2,
       "version_minor": 0
      },
      "text/plain": [
       "HBox(children=(HTML(value=''), FloatProgress(value=0.0, max=275.0), HTML(value='')))"
      ]
     },
     "metadata": {},
     "output_type": "display_data"
    },
    {
     "name": "stderr",
     "output_type": "stream",
     "text": [
      "INFO - (NP.utils_torch.lr_range_test) - lr-range-test results: steep: 4.81E-02, min: 1.68E+00\n"
     ]
    },
    {
     "data": {
      "application/vnd.jupyter.widget-view+json": {
       "model_id": "04e340d7acc64a34bdf57fa63ff7e371",
       "version_major": 2,
       "version_minor": 0
      },
      "text/plain": [
       "HBox(children=(HTML(value=''), FloatProgress(value=0.0, max=275.0), HTML(value='')))"
      ]
     },
     "metadata": {},
     "output_type": "display_data"
    },
    {
     "name": "stderr",
     "output_type": "stream",
     "text": [
      "INFO - (NP.utils_torch.lr_range_test) - lr-range-test results: steep: 5.19E-02, min: 1.24E+00\n"
     ]
    },
    {
     "data": {
      "application/vnd.jupyter.widget-view+json": {
       "model_id": "ec21e890ceee437bad4182ea8ea11a15",
       "version_major": 2,
       "version_minor": 0
      },
      "text/plain": [
       "HBox(children=(HTML(value=''), FloatProgress(value=0.0, max=275.0), HTML(value='')))"
      ]
     },
     "metadata": {},
     "output_type": "display_data"
    },
    {
     "name": "stderr",
     "output_type": "stream",
     "text": [
      "INFO - (NP.utils_torch.lr_range_test) - lr-range-test results: steep: 4.81E-02, min: 1.68E+00\n",
      "INFO - (NP.forecaster._init_train_loader) - lr-range-test selected learning rate: 4.94E-02\n",
      "INFO - (NP.utils.set_auto_seasonalities) - Disabling yearly seasonality. Run NeuralProphet with yearly_seasonality=True to override this.\n",
      "INFO - (NP.config.set_auto_batch_epoch) - Auto-set batch_size to 32\n",
      "INFO - (NP.config.set_auto_batch_epoch) - Auto-set epochs to 134\n"
     ]
    },
    {
     "data": {
      "application/vnd.jupyter.widget-view+json": {
       "model_id": "2e320a0ba99b4168873e37b02b9a2267",
       "version_major": 2,
       "version_minor": 0
      },
      "text/plain": [
       "HBox(children=(HTML(value=''), FloatProgress(value=0.0, max=275.0), HTML(value='')))"
      ]
     },
     "metadata": {},
     "output_type": "display_data"
    },
    {
     "name": "stderr",
     "output_type": "stream",
     "text": [
      "INFO - (NP.utils_torch.lr_range_test) - lr-range-test results: steep: 7.58E-02, min: 1.07E+00\n"
     ]
    },
    {
     "data": {
      "application/vnd.jupyter.widget-view+json": {
       "model_id": "eb60457d68af4a4d9780461f24543e15",
       "version_major": 2,
       "version_minor": 0
      },
      "text/plain": [
       "HBox(children=(HTML(value=''), FloatProgress(value=0.0, max=275.0), HTML(value='')))"
      ]
     },
     "metadata": {},
     "output_type": "display_data"
    },
    {
     "name": "stderr",
     "output_type": "stream",
     "text": [
      "INFO - (NP.utils_torch.lr_range_test) - lr-range-test results: steep: 8.82E-02, min: 1.24E+00\n"
     ]
    },
    {
     "data": {
      "application/vnd.jupyter.widget-view+json": {
       "model_id": "657a5b477e984954bf990a9eb9ba9193",
       "version_major": 2,
       "version_minor": 0
      },
      "text/plain": [
       "HBox(children=(HTML(value=''), FloatProgress(value=0.0, max=275.0), HTML(value='')))"
      ]
     },
     "metadata": {},
     "output_type": "display_data"
    },
    {
     "name": "stderr",
     "output_type": "stream",
     "text": [
      "INFO - (NP.utils_torch.lr_range_test) - lr-range-test results: steep: 8.17E-02, min: 1.45E+00\n",
      "INFO - (NP.forecaster._init_train_loader) - lr-range-test selected learning rate: 8.17E-02\n",
      "INFO - (NP.utils.set_auto_seasonalities) - Disabling yearly seasonality. Run NeuralProphet with yearly_seasonality=True to override this.\n",
      "INFO - (NP.config.set_auto_batch_epoch) - Auto-set batch_size to 32\n",
      "INFO - (NP.config.set_auto_batch_epoch) - Auto-set epochs to 134\n"
     ]
    },
    {
     "data": {
      "application/vnd.jupyter.widget-view+json": {
       "model_id": "0a482d7939de42a98acb2ec3223a971d",
       "version_major": 2,
       "version_minor": 0
      },
      "text/plain": [
       "HBox(children=(HTML(value=''), FloatProgress(value=0.0, max=275.0), HTML(value='')))"
      ]
     },
     "metadata": {},
     "output_type": "display_data"
    },
    {
     "name": "stderr",
     "output_type": "stream",
     "text": [
      "INFO - (NP.utils_torch.lr_range_test) - lr-range-test results: steep: 6.51E-02, min: 1.15E+00\n"
     ]
    },
    {
     "data": {
      "application/vnd.jupyter.widget-view+json": {
       "model_id": "f9407b1685f04f058a3e452a9dcd7a5a",
       "version_major": 2,
       "version_minor": 0
      },
      "text/plain": [
       "HBox(children=(HTML(value=''), FloatProgress(value=0.0, max=275.0), HTML(value='')))"
      ]
     },
     "metadata": {},
     "output_type": "display_data"
    },
    {
     "name": "stderr",
     "output_type": "stream",
     "text": [
      "INFO - (NP.utils_torch.lr_range_test) - lr-range-test results: steep: 6.51E-02, min: 7.90E-01\n"
     ]
    },
    {
     "data": {
      "application/vnd.jupyter.widget-view+json": {
       "model_id": "1a423b31201d471caa97107bdcfb0fb4",
       "version_major": 2,
       "version_minor": 0
      },
      "text/plain": [
       "HBox(children=(HTML(value=''), FloatProgress(value=0.0, max=275.0), HTML(value='')))"
      ]
     },
     "metadata": {},
     "output_type": "display_data"
    },
    {
     "name": "stderr",
     "output_type": "stream",
     "text": [
      "INFO - (NP.utils_torch.lr_range_test) - lr-range-test results: steep: 6.51E-02, min: 1.45E+00\n",
      "INFO - (NP.forecaster._init_train_loader) - lr-range-test selected learning rate: 6.51E-02\n",
      "INFO - (NP.utils.set_auto_seasonalities) - Disabling yearly seasonality. Run NeuralProphet with yearly_seasonality=True to override this.\n",
      "INFO - (NP.config.set_auto_batch_epoch) - Auto-set batch_size to 32\n",
      "INFO - (NP.config.set_auto_batch_epoch) - Auto-set epochs to 134\n"
     ]
    },
    {
     "data": {
      "application/vnd.jupyter.widget-view+json": {
       "model_id": "7ed338bbdb334e46b7dcbbb7620a0812",
       "version_major": 2,
       "version_minor": 0
      },
      "text/plain": [
       "HBox(children=(HTML(value=''), FloatProgress(value=0.0, max=275.0), HTML(value='')))"
      ]
     },
     "metadata": {},
     "output_type": "display_data"
    },
    {
     "name": "stderr",
     "output_type": "stream",
     "text": [
      "INFO - (NP.utils_torch.lr_range_test) - lr-range-test results: steep: 5.19E-02, min: 1.68E+00\n"
     ]
    },
    {
     "data": {
      "application/vnd.jupyter.widget-view+json": {
       "model_id": "6ebcf142d1f847bd88b39275f8e7809c",
       "version_major": 2,
       "version_minor": 0
      },
      "text/plain": [
       "HBox(children=(HTML(value=''), FloatProgress(value=0.0, max=275.0), HTML(value='')))"
      ]
     },
     "metadata": {},
     "output_type": "display_data"
    },
    {
     "name": "stderr",
     "output_type": "stream",
     "text": [
      "INFO - (NP.utils_torch.lr_range_test) - lr-range-test results: steep: 5.19E-02, min: 1.56E+00\n"
     ]
    },
    {
     "data": {
      "application/vnd.jupyter.widget-view+json": {
       "model_id": "c14bfa61075842b3bbd8a67e4c1da2b6",
       "version_major": 2,
       "version_minor": 0
      },
      "text/plain": [
       "HBox(children=(HTML(value=''), FloatProgress(value=0.0, max=275.0), HTML(value='')))"
      ]
     },
     "metadata": {},
     "output_type": "display_data"
    },
    {
     "name": "stderr",
     "output_type": "stream",
     "text": [
      "INFO - (NP.utils_torch.lr_range_test) - lr-range-test results: steep: 5.60E-02, min: 1.45E+00\n",
      "INFO - (NP.forecaster._init_train_loader) - lr-range-test selected learning rate: 5.32E-02\n",
      "INFO - (NP.utils.set_auto_seasonalities) - Disabling yearly seasonality. Run NeuralProphet with yearly_seasonality=True to override this.\n",
      "INFO - (NP.config.set_auto_batch_epoch) - Auto-set batch_size to 32\n",
      "INFO - (NP.config.set_auto_batch_epoch) - Auto-set epochs to 134\n"
     ]
    },
    {
     "data": {
      "application/vnd.jupyter.widget-view+json": {
       "model_id": "1b8eebe43c0e49fcb6d1da3ce51c3a88",
       "version_major": 2,
       "version_minor": 0
      },
      "text/plain": [
       "HBox(children=(HTML(value=''), FloatProgress(value=0.0, max=275.0), HTML(value='')))"
      ]
     },
     "metadata": {},
     "output_type": "display_data"
    },
    {
     "name": "stderr",
     "output_type": "stream",
     "text": [
      "INFO - (NP.utils_torch.lr_range_test) - lr-range-test results: steep: 5.19E-02, min: 1.56E+00\n"
     ]
    },
    {
     "data": {
      "application/vnd.jupyter.widget-view+json": {
       "model_id": "ced6b95607d54605a314edf3bf0c33e9",
       "version_major": 2,
       "version_minor": 0
      },
      "text/plain": [
       "HBox(children=(HTML(value=''), FloatProgress(value=0.0, max=275.0), HTML(value='')))"
      ]
     },
     "metadata": {},
     "output_type": "display_data"
    },
    {
     "name": "stderr",
     "output_type": "stream",
     "text": [
      "INFO - (NP.utils_torch.lr_range_test) - lr-range-test results: steep: 4.81E-02, min: 1.56E+00\n"
     ]
    },
    {
     "data": {
      "application/vnd.jupyter.widget-view+json": {
       "model_id": "66ba4cfdf46544ac8c1c8d3d8ba899cc",
       "version_major": 2,
       "version_minor": 0
      },
      "text/plain": [
       "HBox(children=(HTML(value=''), FloatProgress(value=0.0, max=275.0), HTML(value='')))"
      ]
     },
     "metadata": {},
     "output_type": "display_data"
    },
    {
     "name": "stderr",
     "output_type": "stream",
     "text": [
      "INFO - (NP.utils_torch.lr_range_test) - lr-range-test results: steep: 5.19E-02, min: 1.24E+00\n",
      "INFO - (NP.forecaster._init_train_loader) - lr-range-test selected learning rate: 5.06E-02\n"
     ]
    },
    {
     "data": {
      "text/html": [
       "<div>\n",
       "<style scoped>\n",
       "    .dataframe tbody tr th:only-of-type {\n",
       "        vertical-align: middle;\n",
       "    }\n",
       "\n",
       "    .dataframe tbody tr th {\n",
       "        vertical-align: top;\n",
       "    }\n",
       "\n",
       "    .dataframe thead th {\n",
       "        text-align: right;\n",
       "    }\n",
       "</style>\n",
       "<table border=\"1\" class=\"dataframe\">\n",
       "  <thead>\n",
       "    <tr style=\"text-align: right;\">\n",
       "      <th></th>\n",
       "      <th>yhat1</th>\n",
       "      <th>yhat1</th>\n",
       "      <th>yhat1</th>\n",
       "      <th>yhat1</th>\n",
       "      <th>yhat1</th>\n",
       "      <th>yhat1</th>\n",
       "      <th>yhat1</th>\n",
       "      <th>yhat1</th>\n",
       "      <th>yhat1</th>\n",
       "      <th>yhat1</th>\n",
       "      <th>...</th>\n",
       "      <th>yhat1</th>\n",
       "      <th>yhat1</th>\n",
       "      <th>yhat1</th>\n",
       "      <th>yhat1</th>\n",
       "      <th>yhat1</th>\n",
       "      <th>yhat1</th>\n",
       "      <th>yhat1</th>\n",
       "      <th>yhat1</th>\n",
       "      <th>yhat1</th>\n",
       "      <th>yhat1</th>\n",
       "    </tr>\n",
       "  </thead>\n",
       "  <tbody>\n",
       "    <tr>\n",
       "      <th>0</th>\n",
       "      <td>-1.152734</td>\n",
       "      <td>-1.099282</td>\n",
       "      <td>-0.871200</td>\n",
       "      <td>-0.669315</td>\n",
       "      <td>-1.018348</td>\n",
       "      <td>-0.769371</td>\n",
       "      <td>-0.960260</td>\n",
       "      <td>-1.001995</td>\n",
       "      <td>-0.625331</td>\n",
       "      <td>-0.895999</td>\n",
       "      <td>...</td>\n",
       "      <td>-1.033077</td>\n",
       "      <td>-1.203283</td>\n",
       "      <td>-1.412132</td>\n",
       "      <td>-1.466644</td>\n",
       "      <td>-0.441261</td>\n",
       "      <td>-0.844948</td>\n",
       "      <td>-1.124420</td>\n",
       "      <td>-1.245838</td>\n",
       "      <td>-1.122316</td>\n",
       "      <td>-1.156548</td>\n",
       "    </tr>\n",
       "    <tr>\n",
       "      <th>1</th>\n",
       "      <td>-1.294242</td>\n",
       "      <td>-1.173823</td>\n",
       "      <td>-0.902897</td>\n",
       "      <td>-0.731855</td>\n",
       "      <td>-1.059375</td>\n",
       "      <td>-0.819114</td>\n",
       "      <td>-1.080457</td>\n",
       "      <td>-1.085757</td>\n",
       "      <td>-0.685092</td>\n",
       "      <td>-0.952610</td>\n",
       "      <td>...</td>\n",
       "      <td>-1.069692</td>\n",
       "      <td>-1.270215</td>\n",
       "      <td>-1.474030</td>\n",
       "      <td>-1.614922</td>\n",
       "      <td>-0.511745</td>\n",
       "      <td>-0.927875</td>\n",
       "      <td>-1.191112</td>\n",
       "      <td>-1.277201</td>\n",
       "      <td>-1.154476</td>\n",
       "      <td>-1.185998</td>\n",
       "    </tr>\n",
       "    <tr>\n",
       "      <th>2</th>\n",
       "      <td>-1.339318</td>\n",
       "      <td>-1.153405</td>\n",
       "      <td>-0.878744</td>\n",
       "      <td>-0.736857</td>\n",
       "      <td>-1.022833</td>\n",
       "      <td>-0.791154</td>\n",
       "      <td>-1.148356</td>\n",
       "      <td>-1.089278</td>\n",
       "      <td>-0.694831</td>\n",
       "      <td>-0.897687</td>\n",
       "      <td>...</td>\n",
       "      <td>-0.982289</td>\n",
       "      <td>-1.271537</td>\n",
       "      <td>-1.516825</td>\n",
       "      <td>-1.705379</td>\n",
       "      <td>-0.546004</td>\n",
       "      <td>-0.906892</td>\n",
       "      <td>-1.114505</td>\n",
       "      <td>-1.180592</td>\n",
       "      <td>-1.094404</td>\n",
       "      <td>-1.124171</td>\n",
       "    </tr>\n",
       "    <tr>\n",
       "      <th>3</th>\n",
       "      <td>-1.391468</td>\n",
       "      <td>-1.163966</td>\n",
       "      <td>-0.921476</td>\n",
       "      <td>-0.750667</td>\n",
       "      <td>-1.094153</td>\n",
       "      <td>-0.826066</td>\n",
       "      <td>-1.193925</td>\n",
       "      <td>-1.120949</td>\n",
       "      <td>-0.744899</td>\n",
       "      <td>-0.863486</td>\n",
       "      <td>...</td>\n",
       "      <td>-1.039481</td>\n",
       "      <td>-1.343755</td>\n",
       "      <td>-1.578927</td>\n",
       "      <td>-1.800586</td>\n",
       "      <td>-0.583162</td>\n",
       "      <td>-0.915134</td>\n",
       "      <td>-1.117203</td>\n",
       "      <td>-1.210010</td>\n",
       "      <td>-1.138390</td>\n",
       "      <td>-1.149909</td>\n",
       "    </tr>\n",
       "    <tr>\n",
       "      <th>4</th>\n",
       "      <td>-1.259168</td>\n",
       "      <td>-1.074088</td>\n",
       "      <td>-0.907714</td>\n",
       "      <td>-0.708389</td>\n",
       "      <td>-1.116763</td>\n",
       "      <td>-0.835186</td>\n",
       "      <td>-1.038069</td>\n",
       "      <td>-1.062084</td>\n",
       "      <td>-0.743208</td>\n",
       "      <td>-0.823887</td>\n",
       "      <td>...</td>\n",
       "      <td>-1.115796</td>\n",
       "      <td>-1.213362</td>\n",
       "      <td>-1.336071</td>\n",
       "      <td>-1.562247</td>\n",
       "      <td>-0.562483</td>\n",
       "      <td>-0.893133</td>\n",
       "      <td>-1.166614</td>\n",
       "      <td>-1.211329</td>\n",
       "      <td>-1.099366</td>\n",
       "      <td>-1.100389</td>\n",
       "    </tr>\n",
       "    <tr>\n",
       "      <th>...</th>\n",
       "      <td>...</td>\n",
       "      <td>...</td>\n",
       "      <td>...</td>\n",
       "      <td>...</td>\n",
       "      <td>...</td>\n",
       "      <td>...</td>\n",
       "      <td>...</td>\n",
       "      <td>...</td>\n",
       "      <td>...</td>\n",
       "      <td>...</td>\n",
       "      <td>...</td>\n",
       "      <td>...</td>\n",
       "      <td>...</td>\n",
       "      <td>...</td>\n",
       "      <td>...</td>\n",
       "      <td>...</td>\n",
       "      <td>...</td>\n",
       "      <td>...</td>\n",
       "      <td>...</td>\n",
       "      <td>...</td>\n",
       "      <td>...</td>\n",
       "    </tr>\n",
       "    <tr>\n",
       "      <th>331</th>\n",
       "      <td>0.459481</td>\n",
       "      <td>0.492850</td>\n",
       "      <td>0.383045</td>\n",
       "      <td>0.667015</td>\n",
       "      <td>0.551309</td>\n",
       "      <td>0.727690</td>\n",
       "      <td>0.550791</td>\n",
       "      <td>0.549278</td>\n",
       "      <td>0.882757</td>\n",
       "      <td>0.471823</td>\n",
       "      <td>...</td>\n",
       "      <td>0.445393</td>\n",
       "      <td>0.561099</td>\n",
       "      <td>0.111111</td>\n",
       "      <td>0.259798</td>\n",
       "      <td>0.697338</td>\n",
       "      <td>0.729832</td>\n",
       "      <td>0.196293</td>\n",
       "      <td>0.493311</td>\n",
       "      <td>0.435565</td>\n",
       "      <td>0.449392</td>\n",
       "    </tr>\n",
       "    <tr>\n",
       "      <th>332</th>\n",
       "      <td>0.150117</td>\n",
       "      <td>0.025762</td>\n",
       "      <td>-0.093723</td>\n",
       "      <td>0.236853</td>\n",
       "      <td>-0.049915</td>\n",
       "      <td>0.142226</td>\n",
       "      <td>0.249496</td>\n",
       "      <td>0.090940</td>\n",
       "      <td>0.413113</td>\n",
       "      <td>0.086324</td>\n",
       "      <td>...</td>\n",
       "      <td>-0.127978</td>\n",
       "      <td>0.171368</td>\n",
       "      <td>-0.296006</td>\n",
       "      <td>-0.067269</td>\n",
       "      <td>0.411639</td>\n",
       "      <td>0.259605</td>\n",
       "      <td>-0.466923</td>\n",
       "      <td>-0.117706</td>\n",
       "      <td>-0.150518</td>\n",
       "      <td>-0.134341</td>\n",
       "    </tr>\n",
       "    <tr>\n",
       "      <th>333</th>\n",
       "      <td>-0.060371</td>\n",
       "      <td>-0.297972</td>\n",
       "      <td>-0.354074</td>\n",
       "      <td>-0.046727</td>\n",
       "      <td>-0.344141</td>\n",
       "      <td>-0.185513</td>\n",
       "      <td>-0.010964</td>\n",
       "      <td>-0.198711</td>\n",
       "      <td>0.099705</td>\n",
       "      <td>-0.183033</td>\n",
       "      <td>...</td>\n",
       "      <td>-0.456524</td>\n",
       "      <td>-0.145962</td>\n",
       "      <td>-0.577037</td>\n",
       "      <td>-0.311560</td>\n",
       "      <td>0.166073</td>\n",
       "      <td>-0.040641</td>\n",
       "      <td>-0.815020</td>\n",
       "      <td>-0.501080</td>\n",
       "      <td>-0.445273</td>\n",
       "      <td>-0.478490</td>\n",
       "    </tr>\n",
       "    <tr>\n",
       "      <th>334</th>\n",
       "      <td>-0.356624</td>\n",
       "      <td>-0.545485</td>\n",
       "      <td>-0.508103</td>\n",
       "      <td>-0.242077</td>\n",
       "      <td>-0.498316</td>\n",
       "      <td>-0.346739</td>\n",
       "      <td>-0.325618</td>\n",
       "      <td>-0.430984</td>\n",
       "      <td>-0.133477</td>\n",
       "      <td>-0.406037</td>\n",
       "      <td>...</td>\n",
       "      <td>-0.593634</td>\n",
       "      <td>-0.464851</td>\n",
       "      <td>-0.900168</td>\n",
       "      <td>-0.647495</td>\n",
       "      <td>-0.077481</td>\n",
       "      <td>-0.271317</td>\n",
       "      <td>-0.935596</td>\n",
       "      <td>-0.688877</td>\n",
       "      <td>-0.596185</td>\n",
       "      <td>-0.671136</td>\n",
       "    </tr>\n",
       "    <tr>\n",
       "      <th>335</th>\n",
       "      <td>-0.794751</td>\n",
       "      <td>-0.830744</td>\n",
       "      <td>-0.709862</td>\n",
       "      <td>-0.437988</td>\n",
       "      <td>-0.741929</td>\n",
       "      <td>-0.545092</td>\n",
       "      <td>-0.695140</td>\n",
       "      <td>-0.716223</td>\n",
       "      <td>-0.375652</td>\n",
       "      <td>-0.667740</td>\n",
       "      <td>...</td>\n",
       "      <td>-0.791486</td>\n",
       "      <td>-0.855030</td>\n",
       "      <td>-1.310743</td>\n",
       "      <td>-1.132741</td>\n",
       "      <td>-0.313666</td>\n",
       "      <td>-0.547678</td>\n",
       "      <td>-1.110037</td>\n",
       "      <td>-0.922744</td>\n",
       "      <td>-0.844013</td>\n",
       "      <td>-0.910684</td>\n",
       "    </tr>\n",
       "  </tbody>\n",
       "</table>\n",
       "<p>336 rows × 35 columns</p>\n",
       "</div>"
      ],
      "text/plain": [
       "        yhat1     yhat1     yhat1     yhat1     yhat1     yhat1     yhat1  \\\n",
       "0   -1.152734 -1.099282 -0.871200 -0.669315 -1.018348 -0.769371 -0.960260   \n",
       "1   -1.294242 -1.173823 -0.902897 -0.731855 -1.059375 -0.819114 -1.080457   \n",
       "2   -1.339318 -1.153405 -0.878744 -0.736857 -1.022833 -0.791154 -1.148356   \n",
       "3   -1.391468 -1.163966 -0.921476 -0.750667 -1.094153 -0.826066 -1.193925   \n",
       "4   -1.259168 -1.074088 -0.907714 -0.708389 -1.116763 -0.835186 -1.038069   \n",
       "..        ...       ...       ...       ...       ...       ...       ...   \n",
       "331  0.459481  0.492850  0.383045  0.667015  0.551309  0.727690  0.550791   \n",
       "332  0.150117  0.025762 -0.093723  0.236853 -0.049915  0.142226  0.249496   \n",
       "333 -0.060371 -0.297972 -0.354074 -0.046727 -0.344141 -0.185513 -0.010964   \n",
       "334 -0.356624 -0.545485 -0.508103 -0.242077 -0.498316 -0.346739 -0.325618   \n",
       "335 -0.794751 -0.830744 -0.709862 -0.437988 -0.741929 -0.545092 -0.695140   \n",
       "\n",
       "        yhat1     yhat1     yhat1  ...     yhat1     yhat1     yhat1  \\\n",
       "0   -1.001995 -0.625331 -0.895999  ... -1.033077 -1.203283 -1.412132   \n",
       "1   -1.085757 -0.685092 -0.952610  ... -1.069692 -1.270215 -1.474030   \n",
       "2   -1.089278 -0.694831 -0.897687  ... -0.982289 -1.271537 -1.516825   \n",
       "3   -1.120949 -0.744899 -0.863486  ... -1.039481 -1.343755 -1.578927   \n",
       "4   -1.062084 -0.743208 -0.823887  ... -1.115796 -1.213362 -1.336071   \n",
       "..        ...       ...       ...  ...       ...       ...       ...   \n",
       "331  0.549278  0.882757  0.471823  ...  0.445393  0.561099  0.111111   \n",
       "332  0.090940  0.413113  0.086324  ... -0.127978  0.171368 -0.296006   \n",
       "333 -0.198711  0.099705 -0.183033  ... -0.456524 -0.145962 -0.577037   \n",
       "334 -0.430984 -0.133477 -0.406037  ... -0.593634 -0.464851 -0.900168   \n",
       "335 -0.716223 -0.375652 -0.667740  ... -0.791486 -0.855030 -1.310743   \n",
       "\n",
       "        yhat1     yhat1     yhat1     yhat1     yhat1     yhat1     yhat1  \n",
       "0   -1.466644 -0.441261 -0.844948 -1.124420 -1.245838 -1.122316 -1.156548  \n",
       "1   -1.614922 -0.511745 -0.927875 -1.191112 -1.277201 -1.154476 -1.185998  \n",
       "2   -1.705379 -0.546004 -0.906892 -1.114505 -1.180592 -1.094404 -1.124171  \n",
       "3   -1.800586 -0.583162 -0.915134 -1.117203 -1.210010 -1.138390 -1.149909  \n",
       "4   -1.562247 -0.562483 -0.893133 -1.166614 -1.211329 -1.099366 -1.100389  \n",
       "..        ...       ...       ...       ...       ...       ...       ...  \n",
       "331  0.259798  0.697338  0.729832  0.196293  0.493311  0.435565  0.449392  \n",
       "332 -0.067269  0.411639  0.259605 -0.466923 -0.117706 -0.150518 -0.134341  \n",
       "333 -0.311560  0.166073 -0.040641 -0.815020 -0.501080 -0.445273 -0.478490  \n",
       "334 -0.647495 -0.077481 -0.271317 -0.935596 -0.688877 -0.596185 -0.671136  \n",
       "335 -1.132741 -0.313666 -0.547678 -1.110037 -0.922744 -0.844013 -0.910684  \n",
       "\n",
       "[336 rows x 35 columns]"
      ]
     },
     "execution_count": 75,
     "metadata": {},
     "output_type": "execute_result"
    }
   ],
   "source": [
    "df = scaled_train\n",
    "df_val = scaled_val\n",
    "cols = scaled_train.columns.values.tolist()[1:]\n",
    "results = []\n",
    "for col in cols:\n",
    "    subdf = df[['ds', col]]\n",
    "    subdf = subdf.rename(columns={'ds':'ds', col:'y'})\n",
    "    \n",
    "    val = df_val[['ds', col]]\n",
    "    val = val.rename(columns={'ds':'ds', col:'y'})\n",
    "    \n",
    "    m = NeuralProphet(weekly_seasonality=True)\n",
    "    m.fit(subdf, freq='H', validation_df=val, progress_bar=False, progress_print=False)\n",
    "    result = m.predict(m.make_future_dataframe(subdf, periods = 336))\n",
    "    results.append(result[['yhat1']])\n",
    "df_predict = pd.concat(results, axis=1)\n",
    "df_predict"
   ]
  },
  {
   "cell_type": "code",
   "execution_count": 43,
   "metadata": {},
   "outputs": [
    {
     "data": {
      "text/html": [
       "<div>\n",
       "<style scoped>\n",
       "    .dataframe tbody tr th:only-of-type {\n",
       "        vertical-align: middle;\n",
       "    }\n",
       "\n",
       "    .dataframe tbody tr th {\n",
       "        vertical-align: top;\n",
       "    }\n",
       "\n",
       "    .dataframe thead th {\n",
       "        text-align: right;\n",
       "    }\n",
       "</style>\n",
       "<table border=\"1\" class=\"dataframe\">\n",
       "  <thead>\n",
       "    <tr style=\"text-align: right;\">\n",
       "      <th></th>\n",
       "      <th>ds</th>\n",
       "      <th>y</th>\n",
       "      <th>yhat1</th>\n",
       "      <th>residual1</th>\n",
       "      <th>trend</th>\n",
       "      <th>season_yearly</th>\n",
       "      <th>season_weekly</th>\n",
       "      <th>season_daily</th>\n",
       "    </tr>\n",
       "  </thead>\n",
       "  <tbody>\n",
       "    <tr>\n",
       "      <th>0</th>\n",
       "      <td>2020-05-18 00:00:00</td>\n",
       "      <td>None</td>\n",
       "      <td>-1.294533</td>\n",
       "      <td>NaN</td>\n",
       "      <td>-0.213391</td>\n",
       "      <td>0.142945</td>\n",
       "      <td>0.052198</td>\n",
       "      <td>-1.276285</td>\n",
       "    </tr>\n",
       "    <tr>\n",
       "      <th>1</th>\n",
       "      <td>2020-05-18 01:00:00</td>\n",
       "      <td>None</td>\n",
       "      <td>-1.436989</td>\n",
       "      <td>NaN</td>\n",
       "      <td>-0.211437</td>\n",
       "      <td>0.140049</td>\n",
       "      <td>0.065840</td>\n",
       "      <td>-1.431441</td>\n",
       "    </tr>\n",
       "    <tr>\n",
       "      <th>2</th>\n",
       "      <td>2020-05-18 02:00:00</td>\n",
       "      <td>None</td>\n",
       "      <td>-1.484654</td>\n",
       "      <td>NaN</td>\n",
       "      <td>-0.209481</td>\n",
       "      <td>0.137155</td>\n",
       "      <td>0.078189</td>\n",
       "      <td>-1.490517</td>\n",
       "    </tr>\n",
       "    <tr>\n",
       "      <th>3</th>\n",
       "      <td>2020-05-18 03:00:00</td>\n",
       "      <td>None</td>\n",
       "      <td>-1.540019</td>\n",
       "      <td>NaN</td>\n",
       "      <td>-0.207527</td>\n",
       "      <td>0.134265</td>\n",
       "      <td>0.089126</td>\n",
       "      <td>-1.555882</td>\n",
       "    </tr>\n",
       "    <tr>\n",
       "      <th>4</th>\n",
       "      <td>2020-05-18 04:00:00</td>\n",
       "      <td>None</td>\n",
       "      <td>-1.408734</td>\n",
       "      <td>NaN</td>\n",
       "      <td>-0.205572</td>\n",
       "      <td>0.131378</td>\n",
       "      <td>0.098546</td>\n",
       "      <td>-1.433087</td>\n",
       "    </tr>\n",
       "    <tr>\n",
       "      <th>...</th>\n",
       "      <td>...</td>\n",
       "      <td>...</td>\n",
       "      <td>...</td>\n",
       "      <td>...</td>\n",
       "      <td>...</td>\n",
       "      <td>...</td>\n",
       "      <td>...</td>\n",
       "      <td>...</td>\n",
       "    </tr>\n",
       "    <tr>\n",
       "      <th>85</th>\n",
       "      <td>2020-05-21 13:00:00</td>\n",
       "      <td>None</td>\n",
       "      <td>0.628438</td>\n",
       "      <td>NaN</td>\n",
       "      <td>-0.047229</td>\n",
       "      <td>-0.087604</td>\n",
       "      <td>-0.041394</td>\n",
       "      <td>0.804665</td>\n",
       "    </tr>\n",
       "    <tr>\n",
       "      <th>86</th>\n",
       "      <td>2020-05-21 14:00:00</td>\n",
       "      <td>None</td>\n",
       "      <td>0.713219</td>\n",
       "      <td>NaN</td>\n",
       "      <td>-0.045275</td>\n",
       "      <td>-0.090072</td>\n",
       "      <td>-0.038372</td>\n",
       "      <td>0.886937</td>\n",
       "    </tr>\n",
       "    <tr>\n",
       "      <th>87</th>\n",
       "      <td>2020-05-21 15:00:00</td>\n",
       "      <td>None</td>\n",
       "      <td>0.849545</td>\n",
       "      <td>NaN</td>\n",
       "      <td>-0.043319</td>\n",
       "      <td>-0.092533</td>\n",
       "      <td>-0.034160</td>\n",
       "      <td>1.019557</td>\n",
       "    </tr>\n",
       "    <tr>\n",
       "      <th>88</th>\n",
       "      <td>2020-05-21 16:00:00</td>\n",
       "      <td>None</td>\n",
       "      <td>0.961868</td>\n",
       "      <td>NaN</td>\n",
       "      <td>-0.041364</td>\n",
       "      <td>-0.094987</td>\n",
       "      <td>-0.028739</td>\n",
       "      <td>1.126958</td>\n",
       "    </tr>\n",
       "    <tr>\n",
       "      <th>89</th>\n",
       "      <td>2020-05-21 17:00:00</td>\n",
       "      <td>None</td>\n",
       "      <td>0.930698</td>\n",
       "      <td>NaN</td>\n",
       "      <td>-0.039410</td>\n",
       "      <td>-0.097434</td>\n",
       "      <td>-0.022109</td>\n",
       "      <td>1.089650</td>\n",
       "    </tr>\n",
       "  </tbody>\n",
       "</table>\n",
       "<p>90 rows × 8 columns</p>\n",
       "</div>"
      ],
      "text/plain": [
       "                    ds     y     yhat1 residual1     trend  season_yearly  \\\n",
       "0  2020-05-18 00:00:00  None -1.294533       NaN -0.213391       0.142945   \n",
       "1  2020-05-18 01:00:00  None -1.436989       NaN -0.211437       0.140049   \n",
       "2  2020-05-18 02:00:00  None -1.484654       NaN -0.209481       0.137155   \n",
       "3  2020-05-18 03:00:00  None -1.540019       NaN -0.207527       0.134265   \n",
       "4  2020-05-18 04:00:00  None -1.408734       NaN -0.205572       0.131378   \n",
       "..                 ...   ...       ...       ...       ...            ...   \n",
       "85 2020-05-21 13:00:00  None  0.628438       NaN -0.047229      -0.087604   \n",
       "86 2020-05-21 14:00:00  None  0.713219       NaN -0.045275      -0.090072   \n",
       "87 2020-05-21 15:00:00  None  0.849545       NaN -0.043319      -0.092533   \n",
       "88 2020-05-21 16:00:00  None  0.961868       NaN -0.041364      -0.094987   \n",
       "89 2020-05-21 17:00:00  None  0.930698       NaN -0.039410      -0.097434   \n",
       "\n",
       "    season_weekly  season_daily  \n",
       "0        0.052198     -1.276285  \n",
       "1        0.065840     -1.431441  \n",
       "2        0.078189     -1.490517  \n",
       "3        0.089126     -1.555882  \n",
       "4        0.098546     -1.433087  \n",
       "..            ...           ...  \n",
       "85      -0.041394      0.804665  \n",
       "86      -0.038372      0.886937  \n",
       "87      -0.034160      1.019557  \n",
       "88      -0.028739      1.126958  \n",
       "89      -0.022109      1.089650  \n",
       "\n",
       "[90 rows x 8 columns]"
      ]
     },
     "execution_count": 43,
     "metadata": {},
     "output_type": "execute_result"
    }
   ],
   "source": [
    "# predict 결과인 DataFrame 구조\n",
    "results[0]"
   ]
  },
  {
   "cell_type": "markdown",
   "metadata": {
    "tags": []
   },
   "source": [
    "### 개별 모델 사용법 테스트"
   ]
  },
  {
   "cell_type": "code",
   "execution_count": 124,
   "metadata": {},
   "outputs": [],
   "source": [
    "from neuralprophet import NeuralProphet"
   ]
  },
  {
   "cell_type": "code",
   "execution_count": 125,
   "metadata": {},
   "outputs": [],
   "source": [
    "clean_df.columns = ['ds', 'y']"
   ]
  },
  {
   "cell_type": "code",
   "execution_count": 139,
   "metadata": {
    "collapsed": true,
    "jupyter": {
     "outputs_hidden": true,
     "source_hidden": true
    }
   },
   "outputs": [
    {
     "name": "stderr",
     "output_type": "stream",
     "text": [
      "INFO - (NP.utils.set_auto_seasonalities) - Disabling yearly seasonality. Run NeuralProphet with yearly_seasonality=True to override this.\n",
      "INFO - (NP.config.set_auto_batch_epoch) - Auto-set batch_size to 32\n",
      "INFO - (NP.config.set_auto_batch_epoch) - Auto-set epochs to 134\n"
     ]
    },
    {
     "data": {
      "application/vnd.jupyter.widget-view+json": {
       "model_id": "0bbeb0bfc14d4a0faf070336b22b95ab",
       "version_major": 2,
       "version_minor": 0
      },
      "text/plain": [
       "HBox(children=(HTML(value=''), FloatProgress(value=0.0, max=275.0), HTML(value='')))"
      ]
     },
     "metadata": {},
     "output_type": "display_data"
    },
    {
     "name": "stderr",
     "output_type": "stream",
     "text": [
      "WARNING - (py.warnings._showwarnmsg) - /opt/conda/lib/python3.8/site-packages/torch/nn/modules/container.py:552: UserWarning:\n",
      "\n",
      "Setting attributes on ParameterDict is not supported.\n",
      "\n",
      "\n",
      "INFO - (NP.utils_torch.lr_range_test) - lr-range-test results: steep: 4.46E-02, min: 1.56E+00\n"
     ]
    },
    {
     "data": {
      "application/vnd.jupyter.widget-view+json": {
       "model_id": "85d2f902daf04e05b817e743c0bf2c25",
       "version_major": 2,
       "version_minor": 0
      },
      "text/plain": [
       "HBox(children=(HTML(value=''), FloatProgress(value=0.0, max=275.0), HTML(value='')))"
      ]
     },
     "metadata": {},
     "output_type": "display_data"
    },
    {
     "name": "stderr",
     "output_type": "stream",
     "text": [
      "INFO - (NP.utils_torch.lr_range_test) - lr-range-test results: steep: 4.46E-02, min: 1.82E+00\n"
     ]
    },
    {
     "data": {
      "application/vnd.jupyter.widget-view+json": {
       "model_id": "e83258fbc2aa4742a48e990a9066060c",
       "version_major": 2,
       "version_minor": 0
      },
      "text/plain": [
       "HBox(children=(HTML(value=''), FloatProgress(value=0.0, max=275.0), HTML(value='')))"
      ]
     },
     "metadata": {},
     "output_type": "display_data"
    },
    {
     "name": "stderr",
     "output_type": "stream",
     "text": [
      "INFO - (NP.utils_torch.lr_range_test) - lr-range-test results: steep: 4.46E-02, min: 1.68E+00\n",
      "INFO - (NP.forecaster._init_train_loader) - lr-range-test selected learning rate: 4.46E-02\n",
      "  0% 0/134 [00:00<?, ?it/s]WARNING - (py.warnings._showwarnmsg) - /opt/conda/lib/python3.8/site-packages/torch/nn/modules/container.py:552: UserWarning:\n",
      "\n",
      "Setting attributes on ParameterDict is not supported.\n",
      "\n",
      "\n",
      "Epoch[134/134]: 100% 134/134 [03:14<00:00,  1.45s/it, SmoothL1Loss=0.00455, MAE=0.224, RMSE=0.305, RegLoss=0, MAE_val=0.203, RMSE_val=0.268, SmoothL1Loss_val=0.00338]\n"
     ]
    }
   ],
   "source": [
    "m = NeuralProphet()\n",
    "metrics = m.fit(clean_df, freq='H', validation_df=clean_val_df)"
   ]
  },
  {
   "cell_type": "code",
   "execution_count": 211,
   "metadata": {
    "collapsed": true,
    "jupyter": {
     "outputs_hidden": true
    },
    "tags": []
   },
   "outputs": [
    {
     "name": "stderr",
     "output_type": "stream",
     "text": [
      "WARNING - (NP.forecaster.predict) - raw forecasts are incompatible with plotting utilities\n",
      "WARNING - (py.warnings._showwarnmsg) - /opt/conda/lib/python3.8/site-packages/torch/nn/modules/container.py:552: UserWarning:\n",
      "\n",
      "Setting attributes on ParameterDict is not supported.\n",
      "\n",
      "\n"
     ]
    }
   ],
   "source": [
    "forecast = m.predict(clean_test_df, raw=True)"
   ]
  },
  {
   "cell_type": "code",
   "execution_count": 212,
   "metadata": {
    "collapsed": true,
    "jupyter": {
     "outputs_hidden": true
    },
    "tags": []
   },
   "outputs": [
    {
     "data": {
      "text/html": [
       "<div>\n",
       "<style scoped>\n",
       "    .dataframe tbody tr th:only-of-type {\n",
       "        vertical-align: middle;\n",
       "    }\n",
       "\n",
       "    .dataframe tbody tr th {\n",
       "        vertical-align: top;\n",
       "    }\n",
       "\n",
       "    .dataframe thead th {\n",
       "        text-align: right;\n",
       "    }\n",
       "</style>\n",
       "<table border=\"1\" class=\"dataframe\">\n",
       "  <thead>\n",
       "    <tr style=\"text-align: right;\">\n",
       "      <th></th>\n",
       "      <th>ds</th>\n",
       "      <th>step0</th>\n",
       "      <th>trend0</th>\n",
       "      <th>season_weekly0</th>\n",
       "      <th>season_daily0</th>\n",
       "    </tr>\n",
       "  </thead>\n",
       "  <tbody>\n",
       "    <tr>\n",
       "      <th>0</th>\n",
       "      <td>2020-05-18 00:00:00</td>\n",
       "      <td>-1.151731</td>\n",
       "      <td>0.074220</td>\n",
       "      <td>0.051770</td>\n",
       "      <td>-1.277721</td>\n",
       "    </tr>\n",
       "    <tr>\n",
       "      <th>1</th>\n",
       "      <td>2020-05-18 01:00:00</td>\n",
       "      <td>-1.293136</td>\n",
       "      <td>0.074193</td>\n",
       "      <td>0.065524</td>\n",
       "      <td>-1.432853</td>\n",
       "    </tr>\n",
       "    <tr>\n",
       "      <th>2</th>\n",
       "      <td>2020-05-18 02:00:00</td>\n",
       "      <td>-1.338650</td>\n",
       "      <td>0.074167</td>\n",
       "      <td>0.077996</td>\n",
       "      <td>-1.490812</td>\n",
       "    </tr>\n",
       "    <tr>\n",
       "      <th>3</th>\n",
       "      <td>2020-05-18 03:00:00</td>\n",
       "      <td>-1.393281</td>\n",
       "      <td>0.074140</td>\n",
       "      <td>0.089062</td>\n",
       "      <td>-1.556483</td>\n",
       "    </tr>\n",
       "    <tr>\n",
       "      <th>4</th>\n",
       "      <td>2020-05-18 04:00:00</td>\n",
       "      <td>-1.263438</td>\n",
       "      <td>0.074113</td>\n",
       "      <td>0.098621</td>\n",
       "      <td>-1.436172</td>\n",
       "    </tr>\n",
       "    <tr>\n",
       "      <th>...</th>\n",
       "      <td>...</td>\n",
       "      <td>...</td>\n",
       "      <td>...</td>\n",
       "      <td>...</td>\n",
       "      <td>...</td>\n",
       "    </tr>\n",
       "    <tr>\n",
       "      <th>331</th>\n",
       "      <td>2020-05-31 19:00:00</td>\n",
       "      <td>0.459910</td>\n",
       "      <td>0.065357</td>\n",
       "      <td>-0.030945</td>\n",
       "      <td>0.425498</td>\n",
       "    </tr>\n",
       "    <tr>\n",
       "      <th>332</th>\n",
       "      <td>2020-05-31 20:00:00</td>\n",
       "      <td>0.149109</td>\n",
       "      <td>0.065331</td>\n",
       "      <td>-0.013114</td>\n",
       "      <td>0.096893</td>\n",
       "    </tr>\n",
       "    <tr>\n",
       "      <th>333</th>\n",
       "      <td>2020-05-31 21:00:00</td>\n",
       "      <td>-0.061797</td>\n",
       "      <td>0.065304</td>\n",
       "      <td>0.004256</td>\n",
       "      <td>-0.131356</td>\n",
       "    </tr>\n",
       "    <tr>\n",
       "      <th>334</th>\n",
       "      <td>2020-05-31 22:00:00</td>\n",
       "      <td>-0.357072</td>\n",
       "      <td>0.065277</td>\n",
       "      <td>0.020976</td>\n",
       "      <td>-0.443325</td>\n",
       "    </tr>\n",
       "    <tr>\n",
       "      <th>335</th>\n",
       "      <td>2020-05-31 23:00:00</td>\n",
       "      <td>-0.794599</td>\n",
       "      <td>0.065250</td>\n",
       "      <td>0.036869</td>\n",
       "      <td>-0.896719</td>\n",
       "    </tr>\n",
       "  </tbody>\n",
       "</table>\n",
       "<p>336 rows × 5 columns</p>\n",
       "</div>"
      ],
      "text/plain": [
       "                     ds     step0    trend0  season_weekly0  season_daily0\n",
       "0   2020-05-18 00:00:00 -1.151731  0.074220        0.051770      -1.277721\n",
       "1   2020-05-18 01:00:00 -1.293136  0.074193        0.065524      -1.432853\n",
       "2   2020-05-18 02:00:00 -1.338650  0.074167        0.077996      -1.490812\n",
       "3   2020-05-18 03:00:00 -1.393281  0.074140        0.089062      -1.556483\n",
       "4   2020-05-18 04:00:00 -1.263438  0.074113        0.098621      -1.436172\n",
       "..                  ...       ...       ...             ...            ...\n",
       "331 2020-05-31 19:00:00  0.459910  0.065357       -0.030945       0.425498\n",
       "332 2020-05-31 20:00:00  0.149109  0.065331       -0.013114       0.096893\n",
       "333 2020-05-31 21:00:00 -0.061797  0.065304        0.004256      -0.131356\n",
       "334 2020-05-31 22:00:00 -0.357072  0.065277        0.020976      -0.443325\n",
       "335 2020-05-31 23:00:00 -0.794599  0.065250        0.036869      -0.896719\n",
       "\n",
       "[336 rows x 5 columns]"
      ]
     },
     "execution_count": 212,
     "metadata": {},
     "output_type": "execute_result"
    }
   ],
   "source": [
    "forecast"
   ]
  },
  {
   "cell_type": "code",
   "execution_count": 158,
   "metadata": {
    "collapsed": true,
    "jupyter": {
     "outputs_hidden": true
    },
    "tags": []
   },
   "outputs": [
    {
     "data": {
      "image/png": "[encoded data removed]",
      "text/plain": [
       "<Figure size 720x432 with 1 Axes>"
      ]
     },
     "metadata": {},
     "output_type": "display_data"
    }
   ],
   "source": [
    "fig_forecast = m.plot(forecast)"
   ]
  },
  {
   "cell_type": "code",
   "execution_count": 151,
   "metadata": {
    "collapsed": true,
    "jupyter": {
     "outputs_hidden": true
    },
    "tags": []
   },
   "outputs": [
    {
     "data": {
      "image/png": "[encoded data removed]",
      "text/plain": [
       "<Figure size 720x648 with 3 Axes>"
      ]
     },
     "metadata": {},
     "output_type": "display_data"
    }
   ],
   "source": [
    "fig_components = m.plot_components(forecast)"
   ]
  },
  {
   "cell_type": "code",
   "execution_count": 152,
   "metadata": {
    "collapsed": true,
    "jupyter": {
     "outputs_hidden": true
    },
    "tags": []
   },
   "outputs": [
    {
     "data": {
      "image/png": "[encoded data removed]",
      "text/plain": [
       "<Figure size 720x864 with 4 Axes>"
      ]
     },
     "metadata": {},
     "output_type": "display_data"
    }
   ],
   "source": [
    "fig_model = m.plot_parameters()"
   ]
  },
  {
   "cell_type": "code",
   "execution_count": 216,
   "metadata": {
    "collapsed": true,
    "jupyter": {
     "outputs_hidden": true
    },
    "tags": []
   },
   "outputs": [
    {
     "data": {
      "text/plain": [
       "0      0.074220\n",
       "1      0.074193\n",
       "2      0.074167\n",
       "3      0.074140\n",
       "4      0.074113\n",
       "         ...   \n",
       "331    0.065357\n",
       "332    0.065331\n",
       "333    0.065304\n",
       "334    0.065277\n",
       "335    0.065250\n",
       "Name: trend, Length: 336, dtype: float64"
      ]
     },
     "execution_count": 216,
     "metadata": {},
     "output_type": "execute_result"
    }
   ],
   "source": [
    "result_df = m.predict_trend(clean_test_df)\n",
    "result_df['trend']"
   ]
  },
  {
   "cell_type": "markdown",
   "metadata": {
    "id": "Ktdi-l2sP3oP"
   },
   "source": [
    "## Inference"
   ]
  },
  {
   "cell_type": "code",
   "execution_count": 76,
   "metadata": {
    "id": "AUWurcS1P3oQ"
   },
   "outputs": [],
   "source": [
    "submission_file_path = os.path.join(DATASET_PATH, 'sample_submission.csv')\n",
    "submission_table = pd.read_csv(submission_file_path)"
   ]
  },
  {
   "cell_type": "code",
   "execution_count": 77,
   "metadata": {},
   "outputs": [
    {
     "data": {
      "text/html": [
       "<div>\n",
       "<style scoped>\n",
       "    .dataframe tbody tr th:only-of-type {\n",
       "        vertical-align: middle;\n",
       "    }\n",
       "\n",
       "    .dataframe tbody tr th {\n",
       "        vertical-align: top;\n",
       "    }\n",
       "\n",
       "    .dataframe thead th {\n",
       "        text-align: right;\n",
       "    }\n",
       "</style>\n",
       "<table border=\"1\" class=\"dataframe\">\n",
       "  <thead>\n",
       "    <tr style=\"text-align: right;\">\n",
       "      <th></th>\n",
       "      <th>timestamp</th>\n",
       "      <th>10</th>\n",
       "      <th>100</th>\n",
       "      <th>101</th>\n",
       "      <th>120</th>\n",
       "      <th>121</th>\n",
       "      <th>140</th>\n",
       "      <th>150</th>\n",
       "      <th>160</th>\n",
       "      <th>200</th>\n",
       "      <th>...</th>\n",
       "      <th>1020</th>\n",
       "      <th>1040</th>\n",
       "      <th>1100</th>\n",
       "      <th>1200</th>\n",
       "      <th>1510</th>\n",
       "      <th>2510</th>\n",
       "      <th>3000</th>\n",
       "      <th>4510</th>\n",
       "      <th>5510</th>\n",
       "      <th>6000</th>\n",
       "    </tr>\n",
       "  </thead>\n",
       "  <tbody>\n",
       "    <tr>\n",
       "      <th>0</th>\n",
       "      <td>20200525_0</td>\n",
       "      <td>0.0</td>\n",
       "      <td>0.0</td>\n",
       "      <td>0.0</td>\n",
       "      <td>0.0</td>\n",
       "      <td>0.0</td>\n",
       "      <td>0.0</td>\n",
       "      <td>0.0</td>\n",
       "      <td>0.0</td>\n",
       "      <td>0.0</td>\n",
       "      <td>...</td>\n",
       "      <td>0.0</td>\n",
       "      <td>0.0</td>\n",
       "      <td>0.0</td>\n",
       "      <td>0.0</td>\n",
       "      <td>0.0</td>\n",
       "      <td>0.0</td>\n",
       "      <td>0.0</td>\n",
       "      <td>0.0</td>\n",
       "      <td>0.0</td>\n",
       "      <td>0.0</td>\n",
       "    </tr>\n",
       "    <tr>\n",
       "      <th>1</th>\n",
       "      <td>20200525_1</td>\n",
       "      <td>0.0</td>\n",
       "      <td>0.0</td>\n",
       "      <td>0.0</td>\n",
       "      <td>0.0</td>\n",
       "      <td>0.0</td>\n",
       "      <td>0.0</td>\n",
       "      <td>0.0</td>\n",
       "      <td>0.0</td>\n",
       "      <td>0.0</td>\n",
       "      <td>...</td>\n",
       "      <td>0.0</td>\n",
       "      <td>0.0</td>\n",
       "      <td>0.0</td>\n",
       "      <td>0.0</td>\n",
       "      <td>0.0</td>\n",
       "      <td>0.0</td>\n",
       "      <td>0.0</td>\n",
       "      <td>0.0</td>\n",
       "      <td>0.0</td>\n",
       "      <td>0.0</td>\n",
       "    </tr>\n",
       "    <tr>\n",
       "      <th>2</th>\n",
       "      <td>20200525_2</td>\n",
       "      <td>0.0</td>\n",
       "      <td>0.0</td>\n",
       "      <td>0.0</td>\n",
       "      <td>0.0</td>\n",
       "      <td>0.0</td>\n",
       "      <td>0.0</td>\n",
       "      <td>0.0</td>\n",
       "      <td>0.0</td>\n",
       "      <td>0.0</td>\n",
       "      <td>...</td>\n",
       "      <td>0.0</td>\n",
       "      <td>0.0</td>\n",
       "      <td>0.0</td>\n",
       "      <td>0.0</td>\n",
       "      <td>0.0</td>\n",
       "      <td>0.0</td>\n",
       "      <td>0.0</td>\n",
       "      <td>0.0</td>\n",
       "      <td>0.0</td>\n",
       "      <td>0.0</td>\n",
       "    </tr>\n",
       "    <tr>\n",
       "      <th>3</th>\n",
       "      <td>20200525_3</td>\n",
       "      <td>0.0</td>\n",
       "      <td>0.0</td>\n",
       "      <td>0.0</td>\n",
       "      <td>0.0</td>\n",
       "      <td>0.0</td>\n",
       "      <td>0.0</td>\n",
       "      <td>0.0</td>\n",
       "      <td>0.0</td>\n",
       "      <td>0.0</td>\n",
       "      <td>...</td>\n",
       "      <td>0.0</td>\n",
       "      <td>0.0</td>\n",
       "      <td>0.0</td>\n",
       "      <td>0.0</td>\n",
       "      <td>0.0</td>\n",
       "      <td>0.0</td>\n",
       "      <td>0.0</td>\n",
       "      <td>0.0</td>\n",
       "      <td>0.0</td>\n",
       "      <td>0.0</td>\n",
       "    </tr>\n",
       "    <tr>\n",
       "      <th>4</th>\n",
       "      <td>20200525_4</td>\n",
       "      <td>0.0</td>\n",
       "      <td>0.0</td>\n",
       "      <td>0.0</td>\n",
       "      <td>0.0</td>\n",
       "      <td>0.0</td>\n",
       "      <td>0.0</td>\n",
       "      <td>0.0</td>\n",
       "      <td>0.0</td>\n",
       "      <td>0.0</td>\n",
       "      <td>...</td>\n",
       "      <td>0.0</td>\n",
       "      <td>0.0</td>\n",
       "      <td>0.0</td>\n",
       "      <td>0.0</td>\n",
       "      <td>0.0</td>\n",
       "      <td>0.0</td>\n",
       "      <td>0.0</td>\n",
       "      <td>0.0</td>\n",
       "      <td>0.0</td>\n",
       "      <td>0.0</td>\n",
       "    </tr>\n",
       "    <tr>\n",
       "      <th>...</th>\n",
       "      <td>...</td>\n",
       "      <td>...</td>\n",
       "      <td>...</td>\n",
       "      <td>...</td>\n",
       "      <td>...</td>\n",
       "      <td>...</td>\n",
       "      <td>...</td>\n",
       "      <td>...</td>\n",
       "      <td>...</td>\n",
       "      <td>...</td>\n",
       "      <td>...</td>\n",
       "      <td>...</td>\n",
       "      <td>...</td>\n",
       "      <td>...</td>\n",
       "      <td>...</td>\n",
       "      <td>...</td>\n",
       "      <td>...</td>\n",
       "      <td>...</td>\n",
       "      <td>...</td>\n",
       "      <td>...</td>\n",
       "      <td>...</td>\n",
       "    </tr>\n",
       "    <tr>\n",
       "      <th>163</th>\n",
       "      <td>20200531_19</td>\n",
       "      <td>0.0</td>\n",
       "      <td>0.0</td>\n",
       "      <td>0.0</td>\n",
       "      <td>0.0</td>\n",
       "      <td>0.0</td>\n",
       "      <td>0.0</td>\n",
       "      <td>0.0</td>\n",
       "      <td>0.0</td>\n",
       "      <td>0.0</td>\n",
       "      <td>...</td>\n",
       "      <td>0.0</td>\n",
       "      <td>0.0</td>\n",
       "      <td>0.0</td>\n",
       "      <td>0.0</td>\n",
       "      <td>0.0</td>\n",
       "      <td>0.0</td>\n",
       "      <td>0.0</td>\n",
       "      <td>0.0</td>\n",
       "      <td>0.0</td>\n",
       "      <td>0.0</td>\n",
       "    </tr>\n",
       "    <tr>\n",
       "      <th>164</th>\n",
       "      <td>20200531_20</td>\n",
       "      <td>0.0</td>\n",
       "      <td>0.0</td>\n",
       "      <td>0.0</td>\n",
       "      <td>0.0</td>\n",
       "      <td>0.0</td>\n",
       "      <td>0.0</td>\n",
       "      <td>0.0</td>\n",
       "      <td>0.0</td>\n",
       "      <td>0.0</td>\n",
       "      <td>...</td>\n",
       "      <td>0.0</td>\n",
       "      <td>0.0</td>\n",
       "      <td>0.0</td>\n",
       "      <td>0.0</td>\n",
       "      <td>0.0</td>\n",
       "      <td>0.0</td>\n",
       "      <td>0.0</td>\n",
       "      <td>0.0</td>\n",
       "      <td>0.0</td>\n",
       "      <td>0.0</td>\n",
       "    </tr>\n",
       "    <tr>\n",
       "      <th>165</th>\n",
       "      <td>20200531_21</td>\n",
       "      <td>0.0</td>\n",
       "      <td>0.0</td>\n",
       "      <td>0.0</td>\n",
       "      <td>0.0</td>\n",
       "      <td>0.0</td>\n",
       "      <td>0.0</td>\n",
       "      <td>0.0</td>\n",
       "      <td>0.0</td>\n",
       "      <td>0.0</td>\n",
       "      <td>...</td>\n",
       "      <td>0.0</td>\n",
       "      <td>0.0</td>\n",
       "      <td>0.0</td>\n",
       "      <td>0.0</td>\n",
       "      <td>0.0</td>\n",
       "      <td>0.0</td>\n",
       "      <td>0.0</td>\n",
       "      <td>0.0</td>\n",
       "      <td>0.0</td>\n",
       "      <td>0.0</td>\n",
       "    </tr>\n",
       "    <tr>\n",
       "      <th>166</th>\n",
       "      <td>20200531_22</td>\n",
       "      <td>0.0</td>\n",
       "      <td>0.0</td>\n",
       "      <td>0.0</td>\n",
       "      <td>0.0</td>\n",
       "      <td>0.0</td>\n",
       "      <td>0.0</td>\n",
       "      <td>0.0</td>\n",
       "      <td>0.0</td>\n",
       "      <td>0.0</td>\n",
       "      <td>...</td>\n",
       "      <td>0.0</td>\n",
       "      <td>0.0</td>\n",
       "      <td>0.0</td>\n",
       "      <td>0.0</td>\n",
       "      <td>0.0</td>\n",
       "      <td>0.0</td>\n",
       "      <td>0.0</td>\n",
       "      <td>0.0</td>\n",
       "      <td>0.0</td>\n",
       "      <td>0.0</td>\n",
       "    </tr>\n",
       "    <tr>\n",
       "      <th>167</th>\n",
       "      <td>20200531_23</td>\n",
       "      <td>0.0</td>\n",
       "      <td>0.0</td>\n",
       "      <td>0.0</td>\n",
       "      <td>0.0</td>\n",
       "      <td>0.0</td>\n",
       "      <td>0.0</td>\n",
       "      <td>0.0</td>\n",
       "      <td>0.0</td>\n",
       "      <td>0.0</td>\n",
       "      <td>...</td>\n",
       "      <td>0.0</td>\n",
       "      <td>0.0</td>\n",
       "      <td>0.0</td>\n",
       "      <td>0.0</td>\n",
       "      <td>0.0</td>\n",
       "      <td>0.0</td>\n",
       "      <td>0.0</td>\n",
       "      <td>0.0</td>\n",
       "      <td>0.0</td>\n",
       "      <td>0.0</td>\n",
       "    </tr>\n",
       "  </tbody>\n",
       "</table>\n",
       "<p>168 rows × 36 columns</p>\n",
       "</div>"
      ],
      "text/plain": [
       "       timestamp   10  100  101  120  121  140  150  160  200  ...  1020  \\\n",
       "0     20200525_0  0.0  0.0  0.0  0.0  0.0  0.0  0.0  0.0  0.0  ...   0.0   \n",
       "1     20200525_1  0.0  0.0  0.0  0.0  0.0  0.0  0.0  0.0  0.0  ...   0.0   \n",
       "2     20200525_2  0.0  0.0  0.0  0.0  0.0  0.0  0.0  0.0  0.0  ...   0.0   \n",
       "3     20200525_3  0.0  0.0  0.0  0.0  0.0  0.0  0.0  0.0  0.0  ...   0.0   \n",
       "4     20200525_4  0.0  0.0  0.0  0.0  0.0  0.0  0.0  0.0  0.0  ...   0.0   \n",
       "..           ...  ...  ...  ...  ...  ...  ...  ...  ...  ...  ...   ...   \n",
       "163  20200531_19  0.0  0.0  0.0  0.0  0.0  0.0  0.0  0.0  0.0  ...   0.0   \n",
       "164  20200531_20  0.0  0.0  0.0  0.0  0.0  0.0  0.0  0.0  0.0  ...   0.0   \n",
       "165  20200531_21  0.0  0.0  0.0  0.0  0.0  0.0  0.0  0.0  0.0  ...   0.0   \n",
       "166  20200531_22  0.0  0.0  0.0  0.0  0.0  0.0  0.0  0.0  0.0  ...   0.0   \n",
       "167  20200531_23  0.0  0.0  0.0  0.0  0.0  0.0  0.0  0.0  0.0  ...   0.0   \n",
       "\n",
       "     1040  1100  1200  1510  2510  3000  4510  5510  6000  \n",
       "0     0.0   0.0   0.0   0.0   0.0   0.0   0.0   0.0   0.0  \n",
       "1     0.0   0.0   0.0   0.0   0.0   0.0   0.0   0.0   0.0  \n",
       "2     0.0   0.0   0.0   0.0   0.0   0.0   0.0   0.0   0.0  \n",
       "3     0.0   0.0   0.0   0.0   0.0   0.0   0.0   0.0   0.0  \n",
       "4     0.0   0.0   0.0   0.0   0.0   0.0   0.0   0.0   0.0  \n",
       "..    ...   ...   ...   ...   ...   ...   ...   ...   ...  \n",
       "163   0.0   0.0   0.0   0.0   0.0   0.0   0.0   0.0   0.0  \n",
       "164   0.0   0.0   0.0   0.0   0.0   0.0   0.0   0.0   0.0  \n",
       "165   0.0   0.0   0.0   0.0   0.0   0.0   0.0   0.0   0.0  \n",
       "166   0.0   0.0   0.0   0.0   0.0   0.0   0.0   0.0   0.0  \n",
       "167   0.0   0.0   0.0   0.0   0.0   0.0   0.0   0.0   0.0  \n",
       "\n",
       "[168 rows x 36 columns]"
      ]
     },
     "execution_count": 77,
     "metadata": {},
     "output_type": "execute_result"
    }
   ],
   "source": [
    "submission_table"
   ]
  },
  {
   "cell_type": "code",
   "execution_count": 78,
   "metadata": {},
   "outputs": [],
   "source": [
    "pred = df_predict.iloc[168:,].reset_index(drop=True)"
   ]
  },
  {
   "cell_type": "code",
   "execution_count": 79,
   "metadata": {},
   "outputs": [],
   "source": [
    "sub = pd.concat([submission_table['timestamp'], pred], axis=1)"
   ]
  },
  {
   "cell_type": "code",
   "execution_count": 80,
   "metadata": {},
   "outputs": [
    {
     "data": {
      "text/html": [
       "<div>\n",
       "<style scoped>\n",
       "    .dataframe tbody tr th:only-of-type {\n",
       "        vertical-align: middle;\n",
       "    }\n",
       "\n",
       "    .dataframe tbody tr th {\n",
       "        vertical-align: top;\n",
       "    }\n",
       "\n",
       "    .dataframe thead th {\n",
       "        text-align: right;\n",
       "    }\n",
       "</style>\n",
       "<table border=\"1\" class=\"dataframe\">\n",
       "  <thead>\n",
       "    <tr style=\"text-align: right;\">\n",
       "      <th></th>\n",
       "      <th>timestamp</th>\n",
       "      <th>yhat1</th>\n",
       "      <th>yhat1</th>\n",
       "      <th>yhat1</th>\n",
       "      <th>yhat1</th>\n",
       "      <th>yhat1</th>\n",
       "      <th>yhat1</th>\n",
       "      <th>yhat1</th>\n",
       "      <th>yhat1</th>\n",
       "      <th>yhat1</th>\n",
       "      <th>...</th>\n",
       "      <th>yhat1</th>\n",
       "      <th>yhat1</th>\n",
       "      <th>yhat1</th>\n",
       "      <th>yhat1</th>\n",
       "      <th>yhat1</th>\n",
       "      <th>yhat1</th>\n",
       "      <th>yhat1</th>\n",
       "      <th>yhat1</th>\n",
       "      <th>yhat1</th>\n",
       "      <th>yhat1</th>\n",
       "    </tr>\n",
       "  </thead>\n",
       "  <tbody>\n",
       "    <tr>\n",
       "      <th>0</th>\n",
       "      <td>20200525_0</td>\n",
       "      <td>-1.156729</td>\n",
       "      <td>-1.087521</td>\n",
       "      <td>-0.879215</td>\n",
       "      <td>-0.635197</td>\n",
       "      <td>-0.996602</td>\n",
       "      <td>-0.754465</td>\n",
       "      <td>-0.966998</td>\n",
       "      <td>-0.980796</td>\n",
       "      <td>-0.594721</td>\n",
       "      <td>...</td>\n",
       "      <td>-1.027946</td>\n",
       "      <td>-1.177869</td>\n",
       "      <td>-1.500761</td>\n",
       "      <td>-1.493816</td>\n",
       "      <td>-0.460513</td>\n",
       "      <td>-0.818015</td>\n",
       "      <td>-1.230204</td>\n",
       "      <td>-1.205414</td>\n",
       "      <td>-1.103996</td>\n",
       "      <td>-1.142989</td>\n",
       "    </tr>\n",
       "    <tr>\n",
       "      <th>1</th>\n",
       "      <td>20200525_1</td>\n",
       "      <td>-1.298237</td>\n",
       "      <td>-1.162062</td>\n",
       "      <td>-0.910912</td>\n",
       "      <td>-0.697738</td>\n",
       "      <td>-1.037628</td>\n",
       "      <td>-0.804208</td>\n",
       "      <td>-1.087196</td>\n",
       "      <td>-1.064558</td>\n",
       "      <td>-0.654482</td>\n",
       "      <td>...</td>\n",
       "      <td>-1.064561</td>\n",
       "      <td>-1.244801</td>\n",
       "      <td>-1.562660</td>\n",
       "      <td>-1.642094</td>\n",
       "      <td>-0.530996</td>\n",
       "      <td>-0.900941</td>\n",
       "      <td>-1.296897</td>\n",
       "      <td>-1.236777</td>\n",
       "      <td>-1.136156</td>\n",
       "      <td>-1.172439</td>\n",
       "    </tr>\n",
       "    <tr>\n",
       "      <th>2</th>\n",
       "      <td>20200525_2</td>\n",
       "      <td>-1.343313</td>\n",
       "      <td>-1.141645</td>\n",
       "      <td>-0.886759</td>\n",
       "      <td>-0.702739</td>\n",
       "      <td>-1.001087</td>\n",
       "      <td>-0.776247</td>\n",
       "      <td>-1.155095</td>\n",
       "      <td>-1.068078</td>\n",
       "      <td>-0.664221</td>\n",
       "      <td>...</td>\n",
       "      <td>-0.977158</td>\n",
       "      <td>-1.246123</td>\n",
       "      <td>-1.605455</td>\n",
       "      <td>-1.732551</td>\n",
       "      <td>-0.565255</td>\n",
       "      <td>-0.879958</td>\n",
       "      <td>-1.220289</td>\n",
       "      <td>-1.140168</td>\n",
       "      <td>-1.076084</td>\n",
       "      <td>-1.110612</td>\n",
       "    </tr>\n",
       "    <tr>\n",
       "      <th>3</th>\n",
       "      <td>20200525_3</td>\n",
       "      <td>-1.395463</td>\n",
       "      <td>-1.152205</td>\n",
       "      <td>-0.929491</td>\n",
       "      <td>-0.716549</td>\n",
       "      <td>-1.072407</td>\n",
       "      <td>-0.811159</td>\n",
       "      <td>-1.200663</td>\n",
       "      <td>-1.099750</td>\n",
       "      <td>-0.714289</td>\n",
       "      <td>...</td>\n",
       "      <td>-1.034350</td>\n",
       "      <td>-1.318341</td>\n",
       "      <td>-1.667557</td>\n",
       "      <td>-1.827758</td>\n",
       "      <td>-0.602414</td>\n",
       "      <td>-0.888200</td>\n",
       "      <td>-1.222988</td>\n",
       "      <td>-1.169586</td>\n",
       "      <td>-1.120070</td>\n",
       "      <td>-1.136350</td>\n",
       "    </tr>\n",
       "    <tr>\n",
       "      <th>4</th>\n",
       "      <td>20200525_4</td>\n",
       "      <td>-1.263163</td>\n",
       "      <td>-1.062327</td>\n",
       "      <td>-0.915730</td>\n",
       "      <td>-0.674271</td>\n",
       "      <td>-1.095017</td>\n",
       "      <td>-0.820280</td>\n",
       "      <td>-1.044807</td>\n",
       "      <td>-1.040885</td>\n",
       "      <td>-0.712598</td>\n",
       "      <td>...</td>\n",
       "      <td>-1.110665</td>\n",
       "      <td>-1.187948</td>\n",
       "      <td>-1.424700</td>\n",
       "      <td>-1.589419</td>\n",
       "      <td>-0.581735</td>\n",
       "      <td>-0.866199</td>\n",
       "      <td>-1.272398</td>\n",
       "      <td>-1.170905</td>\n",
       "      <td>-1.081046</td>\n",
       "      <td>-1.086830</td>\n",
       "    </tr>\n",
       "    <tr>\n",
       "      <th>...</th>\n",
       "      <td>...</td>\n",
       "      <td>...</td>\n",
       "      <td>...</td>\n",
       "      <td>...</td>\n",
       "      <td>...</td>\n",
       "      <td>...</td>\n",
       "      <td>...</td>\n",
       "      <td>...</td>\n",
       "      <td>...</td>\n",
       "      <td>...</td>\n",
       "      <td>...</td>\n",
       "      <td>...</td>\n",
       "      <td>...</td>\n",
       "      <td>...</td>\n",
       "      <td>...</td>\n",
       "      <td>...</td>\n",
       "      <td>...</td>\n",
       "      <td>...</td>\n",
       "      <td>...</td>\n",
       "      <td>...</td>\n",
       "      <td>...</td>\n",
       "    </tr>\n",
       "    <tr>\n",
       "      <th>163</th>\n",
       "      <td>20200531_19</td>\n",
       "      <td>0.459481</td>\n",
       "      <td>0.492850</td>\n",
       "      <td>0.383045</td>\n",
       "      <td>0.667015</td>\n",
       "      <td>0.551309</td>\n",
       "      <td>0.727690</td>\n",
       "      <td>0.550791</td>\n",
       "      <td>0.549278</td>\n",
       "      <td>0.882757</td>\n",
       "      <td>...</td>\n",
       "      <td>0.445393</td>\n",
       "      <td>0.561099</td>\n",
       "      <td>0.111111</td>\n",
       "      <td>0.259798</td>\n",
       "      <td>0.697338</td>\n",
       "      <td>0.729832</td>\n",
       "      <td>0.196293</td>\n",
       "      <td>0.493311</td>\n",
       "      <td>0.435565</td>\n",
       "      <td>0.449392</td>\n",
       "    </tr>\n",
       "    <tr>\n",
       "      <th>164</th>\n",
       "      <td>20200531_20</td>\n",
       "      <td>0.150117</td>\n",
       "      <td>0.025762</td>\n",
       "      <td>-0.093723</td>\n",
       "      <td>0.236853</td>\n",
       "      <td>-0.049915</td>\n",
       "      <td>0.142226</td>\n",
       "      <td>0.249496</td>\n",
       "      <td>0.090940</td>\n",
       "      <td>0.413113</td>\n",
       "      <td>...</td>\n",
       "      <td>-0.127978</td>\n",
       "      <td>0.171368</td>\n",
       "      <td>-0.296006</td>\n",
       "      <td>-0.067269</td>\n",
       "      <td>0.411639</td>\n",
       "      <td>0.259605</td>\n",
       "      <td>-0.466923</td>\n",
       "      <td>-0.117706</td>\n",
       "      <td>-0.150518</td>\n",
       "      <td>-0.134341</td>\n",
       "    </tr>\n",
       "    <tr>\n",
       "      <th>165</th>\n",
       "      <td>20200531_21</td>\n",
       "      <td>-0.060371</td>\n",
       "      <td>-0.297972</td>\n",
       "      <td>-0.354074</td>\n",
       "      <td>-0.046727</td>\n",
       "      <td>-0.344141</td>\n",
       "      <td>-0.185513</td>\n",
       "      <td>-0.010964</td>\n",
       "      <td>-0.198711</td>\n",
       "      <td>0.099705</td>\n",
       "      <td>...</td>\n",
       "      <td>-0.456524</td>\n",
       "      <td>-0.145962</td>\n",
       "      <td>-0.577037</td>\n",
       "      <td>-0.311560</td>\n",
       "      <td>0.166073</td>\n",
       "      <td>-0.040641</td>\n",
       "      <td>-0.815020</td>\n",
       "      <td>-0.501080</td>\n",
       "      <td>-0.445273</td>\n",
       "      <td>-0.478490</td>\n",
       "    </tr>\n",
       "    <tr>\n",
       "      <th>166</th>\n",
       "      <td>20200531_22</td>\n",
       "      <td>-0.356624</td>\n",
       "      <td>-0.545485</td>\n",
       "      <td>-0.508103</td>\n",
       "      <td>-0.242077</td>\n",
       "      <td>-0.498316</td>\n",
       "      <td>-0.346739</td>\n",
       "      <td>-0.325618</td>\n",
       "      <td>-0.430984</td>\n",
       "      <td>-0.133477</td>\n",
       "      <td>...</td>\n",
       "      <td>-0.593634</td>\n",
       "      <td>-0.464851</td>\n",
       "      <td>-0.900168</td>\n",
       "      <td>-0.647495</td>\n",
       "      <td>-0.077481</td>\n",
       "      <td>-0.271317</td>\n",
       "      <td>-0.935596</td>\n",
       "      <td>-0.688877</td>\n",
       "      <td>-0.596185</td>\n",
       "      <td>-0.671136</td>\n",
       "    </tr>\n",
       "    <tr>\n",
       "      <th>167</th>\n",
       "      <td>20200531_23</td>\n",
       "      <td>-0.794751</td>\n",
       "      <td>-0.830744</td>\n",
       "      <td>-0.709862</td>\n",
       "      <td>-0.437988</td>\n",
       "      <td>-0.741929</td>\n",
       "      <td>-0.545092</td>\n",
       "      <td>-0.695140</td>\n",
       "      <td>-0.716223</td>\n",
       "      <td>-0.375652</td>\n",
       "      <td>...</td>\n",
       "      <td>-0.791486</td>\n",
       "      <td>-0.855030</td>\n",
       "      <td>-1.310743</td>\n",
       "      <td>-1.132741</td>\n",
       "      <td>-0.313666</td>\n",
       "      <td>-0.547678</td>\n",
       "      <td>-1.110037</td>\n",
       "      <td>-0.922744</td>\n",
       "      <td>-0.844013</td>\n",
       "      <td>-0.910684</td>\n",
       "    </tr>\n",
       "  </tbody>\n",
       "</table>\n",
       "<p>168 rows × 36 columns</p>\n",
       "</div>"
      ],
      "text/plain": [
       "       timestamp     yhat1     yhat1     yhat1     yhat1     yhat1     yhat1  \\\n",
       "0     20200525_0 -1.156729 -1.087521 -0.879215 -0.635197 -0.996602 -0.754465   \n",
       "1     20200525_1 -1.298237 -1.162062 -0.910912 -0.697738 -1.037628 -0.804208   \n",
       "2     20200525_2 -1.343313 -1.141645 -0.886759 -0.702739 -1.001087 -0.776247   \n",
       "3     20200525_3 -1.395463 -1.152205 -0.929491 -0.716549 -1.072407 -0.811159   \n",
       "4     20200525_4 -1.263163 -1.062327 -0.915730 -0.674271 -1.095017 -0.820280   \n",
       "..           ...       ...       ...       ...       ...       ...       ...   \n",
       "163  20200531_19  0.459481  0.492850  0.383045  0.667015  0.551309  0.727690   \n",
       "164  20200531_20  0.150117  0.025762 -0.093723  0.236853 -0.049915  0.142226   \n",
       "165  20200531_21 -0.060371 -0.297972 -0.354074 -0.046727 -0.344141 -0.185513   \n",
       "166  20200531_22 -0.356624 -0.545485 -0.508103 -0.242077 -0.498316 -0.346739   \n",
       "167  20200531_23 -0.794751 -0.830744 -0.709862 -0.437988 -0.741929 -0.545092   \n",
       "\n",
       "        yhat1     yhat1     yhat1  ...     yhat1     yhat1     yhat1  \\\n",
       "0   -0.966998 -0.980796 -0.594721  ... -1.027946 -1.177869 -1.500761   \n",
       "1   -1.087196 -1.064558 -0.654482  ... -1.064561 -1.244801 -1.562660   \n",
       "2   -1.155095 -1.068078 -0.664221  ... -0.977158 -1.246123 -1.605455   \n",
       "3   -1.200663 -1.099750 -0.714289  ... -1.034350 -1.318341 -1.667557   \n",
       "4   -1.044807 -1.040885 -0.712598  ... -1.110665 -1.187948 -1.424700   \n",
       "..        ...       ...       ...  ...       ...       ...       ...   \n",
       "163  0.550791  0.549278  0.882757  ...  0.445393  0.561099  0.111111   \n",
       "164  0.249496  0.090940  0.413113  ... -0.127978  0.171368 -0.296006   \n",
       "165 -0.010964 -0.198711  0.099705  ... -0.456524 -0.145962 -0.577037   \n",
       "166 -0.325618 -0.430984 -0.133477  ... -0.593634 -0.464851 -0.900168   \n",
       "167 -0.695140 -0.716223 -0.375652  ... -0.791486 -0.855030 -1.310743   \n",
       "\n",
       "        yhat1     yhat1     yhat1     yhat1     yhat1     yhat1     yhat1  \n",
       "0   -1.493816 -0.460513 -0.818015 -1.230204 -1.205414 -1.103996 -1.142989  \n",
       "1   -1.642094 -0.530996 -0.900941 -1.296897 -1.236777 -1.136156 -1.172439  \n",
       "2   -1.732551 -0.565255 -0.879958 -1.220289 -1.140168 -1.076084 -1.110612  \n",
       "3   -1.827758 -0.602414 -0.888200 -1.222988 -1.169586 -1.120070 -1.136350  \n",
       "4   -1.589419 -0.581735 -0.866199 -1.272398 -1.170905 -1.081046 -1.086830  \n",
       "..        ...       ...       ...       ...       ...       ...       ...  \n",
       "163  0.259798  0.697338  0.729832  0.196293  0.493311  0.435565  0.449392  \n",
       "164 -0.067269  0.411639  0.259605 -0.466923 -0.117706 -0.150518 -0.134341  \n",
       "165 -0.311560  0.166073 -0.040641 -0.815020 -0.501080 -0.445273 -0.478490  \n",
       "166 -0.647495 -0.077481 -0.271317 -0.935596 -0.688877 -0.596185 -0.671136  \n",
       "167 -1.132741 -0.313666 -0.547678 -1.110037 -0.922744 -0.844013 -0.910684  \n",
       "\n",
       "[168 rows x 36 columns]"
      ]
     },
     "execution_count": 80,
     "metadata": {},
     "output_type": "execute_result"
    }
   ],
   "source": [
    "sub"
   ]
  },
  {
   "cell_type": "code",
   "execution_count": 81,
   "metadata": {},
   "outputs": [],
   "source": [
    "sub.columns = submission_table.columns"
   ]
  },
  {
   "cell_type": "code",
   "execution_count": 82,
   "metadata": {
    "tags": []
   },
   "outputs": [
    {
     "data": {
      "text/html": [
       "<div>\n",
       "<style scoped>\n",
       "    .dataframe tbody tr th:only-of-type {\n",
       "        vertical-align: middle;\n",
       "    }\n",
       "\n",
       "    .dataframe tbody tr th {\n",
       "        vertical-align: top;\n",
       "    }\n",
       "\n",
       "    .dataframe thead th {\n",
       "        text-align: right;\n",
       "    }\n",
       "</style>\n",
       "<table border=\"1\" class=\"dataframe\">\n",
       "  <thead>\n",
       "    <tr style=\"text-align: right;\">\n",
       "      <th></th>\n",
       "      <th>timestamp</th>\n",
       "      <th>10</th>\n",
       "      <th>100</th>\n",
       "      <th>101</th>\n",
       "      <th>120</th>\n",
       "      <th>121</th>\n",
       "      <th>140</th>\n",
       "      <th>150</th>\n",
       "      <th>160</th>\n",
       "      <th>200</th>\n",
       "      <th>...</th>\n",
       "      <th>1020</th>\n",
       "      <th>1040</th>\n",
       "      <th>1100</th>\n",
       "      <th>1200</th>\n",
       "      <th>1510</th>\n",
       "      <th>2510</th>\n",
       "      <th>3000</th>\n",
       "      <th>4510</th>\n",
       "      <th>5510</th>\n",
       "      <th>6000</th>\n",
       "    </tr>\n",
       "  </thead>\n",
       "  <tbody>\n",
       "    <tr>\n",
       "      <th>0</th>\n",
       "      <td>20200525_0</td>\n",
       "      <td>-1.156729</td>\n",
       "      <td>-1.087521</td>\n",
       "      <td>-0.879215</td>\n",
       "      <td>-0.635197</td>\n",
       "      <td>-0.996602</td>\n",
       "      <td>-0.754465</td>\n",
       "      <td>-0.966998</td>\n",
       "      <td>-0.980796</td>\n",
       "      <td>-0.594721</td>\n",
       "      <td>...</td>\n",
       "      <td>-1.027946</td>\n",
       "      <td>-1.177869</td>\n",
       "      <td>-1.500761</td>\n",
       "      <td>-1.493816</td>\n",
       "      <td>-0.460513</td>\n",
       "      <td>-0.818015</td>\n",
       "      <td>-1.230204</td>\n",
       "      <td>-1.205414</td>\n",
       "      <td>-1.103996</td>\n",
       "      <td>-1.142989</td>\n",
       "    </tr>\n",
       "    <tr>\n",
       "      <th>1</th>\n",
       "      <td>20200525_1</td>\n",
       "      <td>-1.298237</td>\n",
       "      <td>-1.162062</td>\n",
       "      <td>-0.910912</td>\n",
       "      <td>-0.697738</td>\n",
       "      <td>-1.037628</td>\n",
       "      <td>-0.804208</td>\n",
       "      <td>-1.087196</td>\n",
       "      <td>-1.064558</td>\n",
       "      <td>-0.654482</td>\n",
       "      <td>...</td>\n",
       "      <td>-1.064561</td>\n",
       "      <td>-1.244801</td>\n",
       "      <td>-1.562660</td>\n",
       "      <td>-1.642094</td>\n",
       "      <td>-0.530996</td>\n",
       "      <td>-0.900941</td>\n",
       "      <td>-1.296897</td>\n",
       "      <td>-1.236777</td>\n",
       "      <td>-1.136156</td>\n",
       "      <td>-1.172439</td>\n",
       "    </tr>\n",
       "    <tr>\n",
       "      <th>2</th>\n",
       "      <td>20200525_2</td>\n",
       "      <td>-1.343313</td>\n",
       "      <td>-1.141645</td>\n",
       "      <td>-0.886759</td>\n",
       "      <td>-0.702739</td>\n",
       "      <td>-1.001087</td>\n",
       "      <td>-0.776247</td>\n",
       "      <td>-1.155095</td>\n",
       "      <td>-1.068078</td>\n",
       "      <td>-0.664221</td>\n",
       "      <td>...</td>\n",
       "      <td>-0.977158</td>\n",
       "      <td>-1.246123</td>\n",
       "      <td>-1.605455</td>\n",
       "      <td>-1.732551</td>\n",
       "      <td>-0.565255</td>\n",
       "      <td>-0.879958</td>\n",
       "      <td>-1.220289</td>\n",
       "      <td>-1.140168</td>\n",
       "      <td>-1.076084</td>\n",
       "      <td>-1.110612</td>\n",
       "    </tr>\n",
       "    <tr>\n",
       "      <th>3</th>\n",
       "      <td>20200525_3</td>\n",
       "      <td>-1.395463</td>\n",
       "      <td>-1.152205</td>\n",
       "      <td>-0.929491</td>\n",
       "      <td>-0.716549</td>\n",
       "      <td>-1.072407</td>\n",
       "      <td>-0.811159</td>\n",
       "      <td>-1.200663</td>\n",
       "      <td>-1.099750</td>\n",
       "      <td>-0.714289</td>\n",
       "      <td>...</td>\n",
       "      <td>-1.034350</td>\n",
       "      <td>-1.318341</td>\n",
       "      <td>-1.667557</td>\n",
       "      <td>-1.827758</td>\n",
       "      <td>-0.602414</td>\n",
       "      <td>-0.888200</td>\n",
       "      <td>-1.222988</td>\n",
       "      <td>-1.169586</td>\n",
       "      <td>-1.120070</td>\n",
       "      <td>-1.136350</td>\n",
       "    </tr>\n",
       "    <tr>\n",
       "      <th>4</th>\n",
       "      <td>20200525_4</td>\n",
       "      <td>-1.263163</td>\n",
       "      <td>-1.062327</td>\n",
       "      <td>-0.915730</td>\n",
       "      <td>-0.674271</td>\n",
       "      <td>-1.095017</td>\n",
       "      <td>-0.820280</td>\n",
       "      <td>-1.044807</td>\n",
       "      <td>-1.040885</td>\n",
       "      <td>-0.712598</td>\n",
       "      <td>...</td>\n",
       "      <td>-1.110665</td>\n",
       "      <td>-1.187948</td>\n",
       "      <td>-1.424700</td>\n",
       "      <td>-1.589419</td>\n",
       "      <td>-0.581735</td>\n",
       "      <td>-0.866199</td>\n",
       "      <td>-1.272398</td>\n",
       "      <td>-1.170905</td>\n",
       "      <td>-1.081046</td>\n",
       "      <td>-1.086830</td>\n",
       "    </tr>\n",
       "    <tr>\n",
       "      <th>...</th>\n",
       "      <td>...</td>\n",
       "      <td>...</td>\n",
       "      <td>...</td>\n",
       "      <td>...</td>\n",
       "      <td>...</td>\n",
       "      <td>...</td>\n",
       "      <td>...</td>\n",
       "      <td>...</td>\n",
       "      <td>...</td>\n",
       "      <td>...</td>\n",
       "      <td>...</td>\n",
       "      <td>...</td>\n",
       "      <td>...</td>\n",
       "      <td>...</td>\n",
       "      <td>...</td>\n",
       "      <td>...</td>\n",
       "      <td>...</td>\n",
       "      <td>...</td>\n",
       "      <td>...</td>\n",
       "      <td>...</td>\n",
       "      <td>...</td>\n",
       "    </tr>\n",
       "    <tr>\n",
       "      <th>163</th>\n",
       "      <td>20200531_19</td>\n",
       "      <td>0.459481</td>\n",
       "      <td>0.492850</td>\n",
       "      <td>0.383045</td>\n",
       "      <td>0.667015</td>\n",
       "      <td>0.551309</td>\n",
       "      <td>0.727690</td>\n",
       "      <td>0.550791</td>\n",
       "      <td>0.549278</td>\n",
       "      <td>0.882757</td>\n",
       "      <td>...</td>\n",
       "      <td>0.445393</td>\n",
       "      <td>0.561099</td>\n",
       "      <td>0.111111</td>\n",
       "      <td>0.259798</td>\n",
       "      <td>0.697338</td>\n",
       "      <td>0.729832</td>\n",
       "      <td>0.196293</td>\n",
       "      <td>0.493311</td>\n",
       "      <td>0.435565</td>\n",
       "      <td>0.449392</td>\n",
       "    </tr>\n",
       "    <tr>\n",
       "      <th>164</th>\n",
       "      <td>20200531_20</td>\n",
       "      <td>0.150117</td>\n",
       "      <td>0.025762</td>\n",
       "      <td>-0.093723</td>\n",
       "      <td>0.236853</td>\n",
       "      <td>-0.049915</td>\n",
       "      <td>0.142226</td>\n",
       "      <td>0.249496</td>\n",
       "      <td>0.090940</td>\n",
       "      <td>0.413113</td>\n",
       "      <td>...</td>\n",
       "      <td>-0.127978</td>\n",
       "      <td>0.171368</td>\n",
       "      <td>-0.296006</td>\n",
       "      <td>-0.067269</td>\n",
       "      <td>0.411639</td>\n",
       "      <td>0.259605</td>\n",
       "      <td>-0.466923</td>\n",
       "      <td>-0.117706</td>\n",
       "      <td>-0.150518</td>\n",
       "      <td>-0.134341</td>\n",
       "    </tr>\n",
       "    <tr>\n",
       "      <th>165</th>\n",
       "      <td>20200531_21</td>\n",
       "      <td>-0.060371</td>\n",
       "      <td>-0.297972</td>\n",
       "      <td>-0.354074</td>\n",
       "      <td>-0.046727</td>\n",
       "      <td>-0.344141</td>\n",
       "      <td>-0.185513</td>\n",
       "      <td>-0.010964</td>\n",
       "      <td>-0.198711</td>\n",
       "      <td>0.099705</td>\n",
       "      <td>...</td>\n",
       "      <td>-0.456524</td>\n",
       "      <td>-0.145962</td>\n",
       "      <td>-0.577037</td>\n",
       "      <td>-0.311560</td>\n",
       "      <td>0.166073</td>\n",
       "      <td>-0.040641</td>\n",
       "      <td>-0.815020</td>\n",
       "      <td>-0.501080</td>\n",
       "      <td>-0.445273</td>\n",
       "      <td>-0.478490</td>\n",
       "    </tr>\n",
       "    <tr>\n",
       "      <th>166</th>\n",
       "      <td>20200531_22</td>\n",
       "      <td>-0.356624</td>\n",
       "      <td>-0.545485</td>\n",
       "      <td>-0.508103</td>\n",
       "      <td>-0.242077</td>\n",
       "      <td>-0.498316</td>\n",
       "      <td>-0.346739</td>\n",
       "      <td>-0.325618</td>\n",
       "      <td>-0.430984</td>\n",
       "      <td>-0.133477</td>\n",
       "      <td>...</td>\n",
       "      <td>-0.593634</td>\n",
       "      <td>-0.464851</td>\n",
       "      <td>-0.900168</td>\n",
       "      <td>-0.647495</td>\n",
       "      <td>-0.077481</td>\n",
       "      <td>-0.271317</td>\n",
       "      <td>-0.935596</td>\n",
       "      <td>-0.688877</td>\n",
       "      <td>-0.596185</td>\n",
       "      <td>-0.671136</td>\n",
       "    </tr>\n",
       "    <tr>\n",
       "      <th>167</th>\n",
       "      <td>20200531_23</td>\n",
       "      <td>-0.794751</td>\n",
       "      <td>-0.830744</td>\n",
       "      <td>-0.709862</td>\n",
       "      <td>-0.437988</td>\n",
       "      <td>-0.741929</td>\n",
       "      <td>-0.545092</td>\n",
       "      <td>-0.695140</td>\n",
       "      <td>-0.716223</td>\n",
       "      <td>-0.375652</td>\n",
       "      <td>...</td>\n",
       "      <td>-0.791486</td>\n",
       "      <td>-0.855030</td>\n",
       "      <td>-1.310743</td>\n",
       "      <td>-1.132741</td>\n",
       "      <td>-0.313666</td>\n",
       "      <td>-0.547678</td>\n",
       "      <td>-1.110037</td>\n",
       "      <td>-0.922744</td>\n",
       "      <td>-0.844013</td>\n",
       "      <td>-0.910684</td>\n",
       "    </tr>\n",
       "  </tbody>\n",
       "</table>\n",
       "<p>168 rows × 36 columns</p>\n",
       "</div>"
      ],
      "text/plain": [
       "       timestamp        10       100       101       120       121       140  \\\n",
       "0     20200525_0 -1.156729 -1.087521 -0.879215 -0.635197 -0.996602 -0.754465   \n",
       "1     20200525_1 -1.298237 -1.162062 -0.910912 -0.697738 -1.037628 -0.804208   \n",
       "2     20200525_2 -1.343313 -1.141645 -0.886759 -0.702739 -1.001087 -0.776247   \n",
       "3     20200525_3 -1.395463 -1.152205 -0.929491 -0.716549 -1.072407 -0.811159   \n",
       "4     20200525_4 -1.263163 -1.062327 -0.915730 -0.674271 -1.095017 -0.820280   \n",
       "..           ...       ...       ...       ...       ...       ...       ...   \n",
       "163  20200531_19  0.459481  0.492850  0.383045  0.667015  0.551309  0.727690   \n",
       "164  20200531_20  0.150117  0.025762 -0.093723  0.236853 -0.049915  0.142226   \n",
       "165  20200531_21 -0.060371 -0.297972 -0.354074 -0.046727 -0.344141 -0.185513   \n",
       "166  20200531_22 -0.356624 -0.545485 -0.508103 -0.242077 -0.498316 -0.346739   \n",
       "167  20200531_23 -0.794751 -0.830744 -0.709862 -0.437988 -0.741929 -0.545092   \n",
       "\n",
       "          150       160       200  ...      1020      1040      1100  \\\n",
       "0   -0.966998 -0.980796 -0.594721  ... -1.027946 -1.177869 -1.500761   \n",
       "1   -1.087196 -1.064558 -0.654482  ... -1.064561 -1.244801 -1.562660   \n",
       "2   -1.155095 -1.068078 -0.664221  ... -0.977158 -1.246123 -1.605455   \n",
       "3   -1.200663 -1.099750 -0.714289  ... -1.034350 -1.318341 -1.667557   \n",
       "4   -1.044807 -1.040885 -0.712598  ... -1.110665 -1.187948 -1.424700   \n",
       "..        ...       ...       ...  ...       ...       ...       ...   \n",
       "163  0.550791  0.549278  0.882757  ...  0.445393  0.561099  0.111111   \n",
       "164  0.249496  0.090940  0.413113  ... -0.127978  0.171368 -0.296006   \n",
       "165 -0.010964 -0.198711  0.099705  ... -0.456524 -0.145962 -0.577037   \n",
       "166 -0.325618 -0.430984 -0.133477  ... -0.593634 -0.464851 -0.900168   \n",
       "167 -0.695140 -0.716223 -0.375652  ... -0.791486 -0.855030 -1.310743   \n",
       "\n",
       "         1200      1510      2510      3000      4510      5510      6000  \n",
       "0   -1.493816 -0.460513 -0.818015 -1.230204 -1.205414 -1.103996 -1.142989  \n",
       "1   -1.642094 -0.530996 -0.900941 -1.296897 -1.236777 -1.136156 -1.172439  \n",
       "2   -1.732551 -0.565255 -0.879958 -1.220289 -1.140168 -1.076084 -1.110612  \n",
       "3   -1.827758 -0.602414 -0.888200 -1.222988 -1.169586 -1.120070 -1.136350  \n",
       "4   -1.589419 -0.581735 -0.866199 -1.272398 -1.170905 -1.081046 -1.086830  \n",
       "..        ...       ...       ...       ...       ...       ...       ...  \n",
       "163  0.259798  0.697338  0.729832  0.196293  0.493311  0.435565  0.449392  \n",
       "164 -0.067269  0.411639  0.259605 -0.466923 -0.117706 -0.150518 -0.134341  \n",
       "165 -0.311560  0.166073 -0.040641 -0.815020 -0.501080 -0.445273 -0.478490  \n",
       "166 -0.647495 -0.077481 -0.271317 -0.935596 -0.688877 -0.596185 -0.671136  \n",
       "167 -1.132741 -0.313666 -0.547678 -1.110037 -0.922744 -0.844013 -0.910684  \n",
       "\n",
       "[168 rows x 36 columns]"
      ]
     },
     "execution_count": 82,
     "metadata": {},
     "output_type": "execute_result"
    }
   ],
   "source": [
    "sub"
   ]
  },
  {
   "cell_type": "code",
   "execution_count": 83,
   "metadata": {},
   "outputs": [
    {
     "data": {
      "text/html": [
       "<div>\n",
       "<style scoped>\n",
       "    .dataframe tbody tr th:only-of-type {\n",
       "        vertical-align: middle;\n",
       "    }\n",
       "\n",
       "    .dataframe tbody tr th {\n",
       "        vertical-align: top;\n",
       "    }\n",
       "\n",
       "    .dataframe thead th {\n",
       "        text-align: right;\n",
       "    }\n",
       "</style>\n",
       "<table border=\"1\" class=\"dataframe\">\n",
       "  <thead>\n",
       "    <tr style=\"text-align: right;\">\n",
       "      <th></th>\n",
       "      <th>timestamp</th>\n",
       "      <th>10</th>\n",
       "      <th>100</th>\n",
       "      <th>101</th>\n",
       "      <th>120</th>\n",
       "      <th>121</th>\n",
       "      <th>140</th>\n",
       "      <th>150</th>\n",
       "      <th>160</th>\n",
       "      <th>200</th>\n",
       "      <th>...</th>\n",
       "      <th>1020</th>\n",
       "      <th>1040</th>\n",
       "      <th>1100</th>\n",
       "      <th>1200</th>\n",
       "      <th>1510</th>\n",
       "      <th>2510</th>\n",
       "      <th>3000</th>\n",
       "      <th>4510</th>\n",
       "      <th>5510</th>\n",
       "      <th>6000</th>\n",
       "    </tr>\n",
       "  </thead>\n",
       "  <tbody>\n",
       "    <tr>\n",
       "      <th>0</th>\n",
       "      <td>20200525_0</td>\n",
       "      <td>90599.346617</td>\n",
       "      <td>21397.774632</td>\n",
       "      <td>2245.558289</td>\n",
       "      <td>8868.803069</td>\n",
       "      <td>1862.076255</td>\n",
       "      <td>2015.767027</td>\n",
       "      <td>42787.667519</td>\n",
       "      <td>1591.964669</td>\n",
       "      <td>6200.085398</td>\n",
       "      <td>...</td>\n",
       "      <td>1164.036606</td>\n",
       "      <td>3649.580833</td>\n",
       "      <td>3749.641333</td>\n",
       "      <td>3278.399212</td>\n",
       "      <td>2989.484735</td>\n",
       "      <td>6800.681742</td>\n",
       "      <td>154.050979</td>\n",
       "      <td>2461.610857</td>\n",
       "      <td>2196.246762</td>\n",
       "      <td>3352.745750</td>\n",
       "    </tr>\n",
       "    <tr>\n",
       "      <th>1</th>\n",
       "      <td>20200525_1</td>\n",
       "      <td>73340.807941</td>\n",
       "      <td>18294.129932</td>\n",
       "      <td>2068.976417</td>\n",
       "      <td>8035.597935</td>\n",
       "      <td>1665.848592</td>\n",
       "      <td>1840.070472</td>\n",
       "      <td>35764.082499</td>\n",
       "      <td>1352.821829</td>\n",
       "      <td>5678.567721</td>\n",
       "      <td>...</td>\n",
       "      <td>1022.198560</td>\n",
       "      <td>3236.886339</td>\n",
       "      <td>2783.637121</td>\n",
       "      <td>2222.044633</td>\n",
       "      <td>2701.775702</td>\n",
       "      <td>6007.155240</td>\n",
       "      <td>28.949697</td>\n",
       "      <td>2210.850848</td>\n",
       "      <td>2028.767592</td>\n",
       "      <td>3079.563068</td>\n",
       "    </tr>\n",
       "    <tr>\n",
       "      <th>2</th>\n",
       "      <td>20200525_2</td>\n",
       "      <td>67843.257141</td>\n",
       "      <td>19144.230729</td>\n",
       "      <td>2203.531004</td>\n",
       "      <td>7968.967983</td>\n",
       "      <td>1840.627071</td>\n",
       "      <td>1938.829850</td>\n",
       "      <td>31796.447663</td>\n",
       "      <td>1342.770372</td>\n",
       "      <td>5593.580572</td>\n",
       "      <td>...</td>\n",
       "      <td>1360.780803</td>\n",
       "      <td>3228.733413</td>\n",
       "      <td>2115.775283</td>\n",
       "      <td>1577.615074</td>\n",
       "      <td>2561.932881</td>\n",
       "      <td>6207.944776</td>\n",
       "      <td>172.649681</td>\n",
       "      <td>2983.275056</td>\n",
       "      <td>2341.600489</td>\n",
       "      <td>3653.072208</td>\n",
       "    </tr>\n",
       "    <tr>\n",
       "      <th>3</th>\n",
       "      <td>20200525_3</td>\n",
       "      <td>61482.932066</td>\n",
       "      <td>18704.547895</td>\n",
       "      <td>1965.475342</td>\n",
       "      <td>7784.973485</td>\n",
       "      <td>1499.501313</td>\n",
       "      <td>1815.518997</td>\n",
       "      <td>29133.720217</td>\n",
       "      <td>1252.346746</td>\n",
       "      <td>5156.647443</td>\n",
       "      <td>...</td>\n",
       "      <td>1139.230522</td>\n",
       "      <td>2783.447794</td>\n",
       "      <td>1146.597226</td>\n",
       "      <td>899.346614</td>\n",
       "      <td>2410.253386</td>\n",
       "      <td>6129.075049</td>\n",
       "      <td>167.588000</td>\n",
       "      <td>2748.067096</td>\n",
       "      <td>2112.538217</td>\n",
       "      <td>3414.327077</td>\n",
       "    </tr>\n",
       "    <tr>\n",
       "      <th>4</th>\n",
       "      <td>20200525_4</td>\n",
       "      <td>77618.448085</td>\n",
       "      <td>22446.773305</td>\n",
       "      <td>2042.138353</td>\n",
       "      <td>8348.231509</td>\n",
       "      <td>1391.358220</td>\n",
       "      <td>1783.304120</td>\n",
       "      <td>38240.995657</td>\n",
       "      <td>1420.409219</td>\n",
       "      <td>5171.402691</td>\n",
       "      <td>...</td>\n",
       "      <td>843.601867</td>\n",
       "      <td>3587.431307</td>\n",
       "      <td>4936.663111</td>\n",
       "      <td>2597.306952</td>\n",
       "      <td>2494.664077</td>\n",
       "      <td>6339.604594</td>\n",
       "      <td>74.904416</td>\n",
       "      <td>2737.517970</td>\n",
       "      <td>2315.762641</td>\n",
       "      <td>3873.675783</td>\n",
       "    </tr>\n",
       "    <tr>\n",
       "      <th>...</th>\n",
       "      <td>...</td>\n",
       "      <td>...</td>\n",
       "      <td>...</td>\n",
       "      <td>...</td>\n",
       "      <td>...</td>\n",
       "      <td>...</td>\n",
       "      <td>...</td>\n",
       "      <td>...</td>\n",
       "      <td>...</td>\n",
       "      <td>...</td>\n",
       "      <td>...</td>\n",
       "      <td>...</td>\n",
       "      <td>...</td>\n",
       "      <td>...</td>\n",
       "      <td>...</td>\n",
       "      <td>...</td>\n",
       "      <td>...</td>\n",
       "      <td>...</td>\n",
       "      <td>...</td>\n",
       "      <td>...</td>\n",
       "      <td>...</td>\n",
       "    </tr>\n",
       "    <tr>\n",
       "      <th>163</th>\n",
       "      <td>20200531_19</td>\n",
       "      <td>287715.833130</td>\n",
       "      <td>87199.606717</td>\n",
       "      <td>9277.569436</td>\n",
       "      <td>26217.737823</td>\n",
       "      <td>9265.717291</td>\n",
       "      <td>7250.827300</td>\n",
       "      <td>131477.951879</td>\n",
       "      <td>5960.379708</td>\n",
       "      <td>19093.682639</td>\n",
       "      <td>...</td>\n",
       "      <td>6871.445645</td>\n",
       "      <td>14371.810372</td>\n",
       "      <td>28904.806251</td>\n",
       "      <td>15771.384819</td>\n",
       "      <td>7715.764254</td>\n",
       "      <td>21612.060809</td>\n",
       "      <td>2829.864937</td>\n",
       "      <td>16043.504919</td>\n",
       "      <td>10213.781999</td>\n",
       "      <td>18123.706472</td>\n",
       "    </tr>\n",
       "    <tr>\n",
       "      <th>164</th>\n",
       "      <td>20200531_20</td>\n",
       "      <td>249985.138966</td>\n",
       "      <td>67751.482434</td>\n",
       "      <td>6621.510908</td>\n",
       "      <td>20486.840948</td>\n",
       "      <td>6390.069815</td>\n",
       "      <td>5182.930715</td>\n",
       "      <td>113872.140446</td>\n",
       "      <td>4651.806574</td>\n",
       "      <td>14995.211872</td>\n",
       "      <td>...</td>\n",
       "      <td>4650.326053</td>\n",
       "      <td>11968.783802</td>\n",
       "      <td>22551.270721</td>\n",
       "      <td>13441.316036</td>\n",
       "      <td>6549.557720</td>\n",
       "      <td>17112.446483</td>\n",
       "      <td>1585.808908</td>\n",
       "      <td>11158.213961</td>\n",
       "      <td>7161.652334</td>\n",
       "      <td>12708.981718</td>\n",
       "    </tr>\n",
       "    <tr>\n",
       "      <th>165</th>\n",
       "      <td>20200531_21</td>\n",
       "      <td>224313.540656</td>\n",
       "      <td>54272.210335</td>\n",
       "      <td>5171.105529</td>\n",
       "      <td>16708.796351</td>\n",
       "      <td>4982.788151</td>\n",
       "      <td>4025.338305</td>\n",
       "      <td>98652.456131</td>\n",
       "      <td>3824.844646</td>\n",
       "      <td>12260.178655</td>\n",
       "      <td>...</td>\n",
       "      <td>3377.606590</td>\n",
       "      <td>10012.170383</td>\n",
       "      <td>18165.442861</td>\n",
       "      <td>11700.953675</td>\n",
       "      <td>5547.170753</td>\n",
       "      <td>14239.385900</td>\n",
       "      <td>932.850439</td>\n",
       "      <td>8093.005629</td>\n",
       "      <td>5626.660034</td>\n",
       "      <td>9516.652847</td>\n",
       "    </tr>\n",
       "    <tr>\n",
       "      <th>166</th>\n",
       "      <td>20200531_22</td>\n",
       "      <td>188181.832908</td>\n",
       "      <td>43966.513864</td>\n",
       "      <td>4313.016003</td>\n",
       "      <td>14106.210922</td>\n",
       "      <td>4245.372344</td>\n",
       "      <td>3455.877299</td>\n",
       "      <td>80265.987852</td>\n",
       "      <td>3161.698006</td>\n",
       "      <td>10225.254827</td>\n",
       "      <td>...</td>\n",
       "      <td>2846.471375</td>\n",
       "      <td>8045.947213</td>\n",
       "      <td>13122.609536</td>\n",
       "      <td>9307.706490</td>\n",
       "      <td>4552.999143</td>\n",
       "      <td>12032.043059</td>\n",
       "      <td>706.674198</td>\n",
       "      <td>6591.497462</td>\n",
       "      <td>4840.760470</td>\n",
       "      <td>7729.663151</td>\n",
       "    </tr>\n",
       "    <tr>\n",
       "      <th>167</th>\n",
       "      <td>20200531_23</td>\n",
       "      <td>134746.980784</td>\n",
       "      <td>32089.180701</td>\n",
       "      <td>3189.019981</td>\n",
       "      <td>11496.150697</td>\n",
       "      <td>3080.174787</td>\n",
       "      <td>2755.285195</td>\n",
       "      <td>58673.385470</td>\n",
       "      <td>2347.330264</td>\n",
       "      <td>8111.850994</td>\n",
       "      <td>...</td>\n",
       "      <td>2080.035095</td>\n",
       "      <td>5640.160614</td>\n",
       "      <td>6715.106548</td>\n",
       "      <td>5850.745008</td>\n",
       "      <td>3588.903877</td>\n",
       "      <td>9387.537628</td>\n",
       "      <td>379.460118</td>\n",
       "      <td>4721.652469</td>\n",
       "      <td>3550.154049</td>\n",
       "      <td>5507.606192</td>\n",
       "    </tr>\n",
       "  </tbody>\n",
       "</table>\n",
       "<p>168 rows × 36 columns</p>\n",
       "</div>"
      ],
      "text/plain": [
       "       timestamp             10           100          101           120  \\\n",
       "0     20200525_0   90599.346617  21397.774632  2245.558289   8868.803069   \n",
       "1     20200525_1   73340.807941  18294.129932  2068.976417   8035.597935   \n",
       "2     20200525_2   67843.257141  19144.230729  2203.531004   7968.967983   \n",
       "3     20200525_3   61482.932066  18704.547895  1965.475342   7784.973485   \n",
       "4     20200525_4   77618.448085  22446.773305  2042.138353   8348.231509   \n",
       "..           ...            ...           ...          ...           ...   \n",
       "163  20200531_19  287715.833130  87199.606717  9277.569436  26217.737823   \n",
       "164  20200531_20  249985.138966  67751.482434  6621.510908  20486.840948   \n",
       "165  20200531_21  224313.540656  54272.210335  5171.105529  16708.796351   \n",
       "166  20200531_22  188181.832908  43966.513864  4313.016003  14106.210922   \n",
       "167  20200531_23  134746.980784  32089.180701  3189.019981  11496.150697   \n",
       "\n",
       "             121          140            150          160           200  ...  \\\n",
       "0    1862.076255  2015.767027   42787.667519  1591.964669   6200.085398  ...   \n",
       "1    1665.848592  1840.070472   35764.082499  1352.821829   5678.567721  ...   \n",
       "2    1840.627071  1938.829850   31796.447663  1342.770372   5593.580572  ...   \n",
       "3    1499.501313  1815.518997   29133.720217  1252.346746   5156.647443  ...   \n",
       "4    1391.358220  1783.304120   38240.995657  1420.409219   5171.402691  ...   \n",
       "..           ...          ...            ...          ...           ...  ...   \n",
       "163  9265.717291  7250.827300  131477.951879  5960.379708  19093.682639  ...   \n",
       "164  6390.069815  5182.930715  113872.140446  4651.806574  14995.211872  ...   \n",
       "165  4982.788151  4025.338305   98652.456131  3824.844646  12260.178655  ...   \n",
       "166  4245.372344  3455.877299   80265.987852  3161.698006  10225.254827  ...   \n",
       "167  3080.174787  2755.285195   58673.385470  2347.330264   8111.850994  ...   \n",
       "\n",
       "            1020          1040          1100          1200         1510  \\\n",
       "0    1164.036606   3649.580833   3749.641333   3278.399212  2989.484735   \n",
       "1    1022.198560   3236.886339   2783.637121   2222.044633  2701.775702   \n",
       "2    1360.780803   3228.733413   2115.775283   1577.615074  2561.932881   \n",
       "3    1139.230522   2783.447794   1146.597226    899.346614  2410.253386   \n",
       "4     843.601867   3587.431307   4936.663111   2597.306952  2494.664077   \n",
       "..           ...           ...           ...           ...          ...   \n",
       "163  6871.445645  14371.810372  28904.806251  15771.384819  7715.764254   \n",
       "164  4650.326053  11968.783802  22551.270721  13441.316036  6549.557720   \n",
       "165  3377.606590  10012.170383  18165.442861  11700.953675  5547.170753   \n",
       "166  2846.471375   8045.947213  13122.609536   9307.706490  4552.999143   \n",
       "167  2080.035095   5640.160614   6715.106548   5850.745008  3588.903877   \n",
       "\n",
       "             2510         3000          4510          5510          6000  \n",
       "0     6800.681742   154.050979   2461.610857   2196.246762   3352.745750  \n",
       "1     6007.155240    28.949697   2210.850848   2028.767592   3079.563068  \n",
       "2     6207.944776   172.649681   2983.275056   2341.600489   3653.072208  \n",
       "3     6129.075049   167.588000   2748.067096   2112.538217   3414.327077  \n",
       "4     6339.604594    74.904416   2737.517970   2315.762641   3873.675783  \n",
       "..            ...          ...           ...           ...           ...  \n",
       "163  21612.060809  2829.864937  16043.504919  10213.781999  18123.706472  \n",
       "164  17112.446483  1585.808908  11158.213961   7161.652334  12708.981718  \n",
       "165  14239.385900   932.850439   8093.005629   5626.660034   9516.652847  \n",
       "166  12032.043059   706.674198   6591.497462   4840.760470   7729.663151  \n",
       "167   9387.537628   379.460118   4721.652469   3550.154049   5507.606192  \n",
       "\n",
       "[168 rows x 36 columns]"
      ]
     },
     "execution_count": 83,
     "metadata": {},
     "output_type": "execute_result"
    }
   ],
   "source": [
    "final_sub = unscaling(sub)\n",
    "final_sub"
   ]
  },
  {
   "cell_type": "code",
   "execution_count": 84,
   "metadata": {},
   "outputs": [],
   "source": [
    "final_sub.to_csv('prediction.csv', index=False)"
   ]
  },
  {
   "cell_type": "code",
   "execution_count": null,
   "metadata": {},
   "outputs": [],
   "source": []
  }
 ],
 "metadata": {
  "colab": {
   "name": "traffic_baseline.ipynb",
   "provenance": []
  },
  "kernelspec": {
   "display_name": "Python 3 (ipykernel)",
   "language": "python",
   "name": "python3"
  },
  "language_info": {
   "codemirror_mode": {
    "name": "ipython",
    "version": 3
   },
   "file_extension": ".py",
   "mimetype": "text/x-python",
   "name": "python",
   "nbconvert_exporter": "python",
   "pygments_lexer": "ipython3",
   "version": "3.8.5"
  }
 },
 "nbformat": 4,
 "nbformat_minor": 4
}
