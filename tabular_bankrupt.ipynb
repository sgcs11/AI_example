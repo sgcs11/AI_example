{
  "cells": [
    {
      "cell_type": "code",
      "execution_count": 291,
      "metadata": {
        "colab": {
          "base_uri": "https://localhost:8080/"
        },
        "id": "89YysxjHlM-w",
        "outputId": "e0cfa661-d034-4167-92be-ed48038b5298"
      },
      "outputs": [
        {
          "output_type": "stream",
          "name": "stdout",
          "text": [
            "Drive already mounted at /content/drive; to attempt to forcibly remount, call drive.mount(\"/content/drive\", force_remount=True).\n"
          ]
        }
      ],
      "source": [
        "# !pip install pandas\n",
        "# !pip install numpy\n",
        "# !pip install seaborn\n",
        "# !pip install matplotlib\n",
        "# !pip install xgboost\n",
        "# !pip install lightgbm\n",
        "# !pip install sklearn\n",
        "\n",
        "# 라이브러리 임포트\n",
        "import pandas as pd\n",
        "import numpy as np\n",
        "\n",
        "import seaborn as sns\n",
        "import matplotlib\n",
        "import matplotlib.pyplot as plt\n",
        "%matplotlib inline\n",
        "\n",
        "import xgboost\n",
        "from xgboost import XGBClassifier\n",
        "from lightgbm import LGBMClassifier\n",
        "\n",
        "from sklearn.svm import SVC\n",
        "from sklearn.tree import DecisionTreeClassifier\n",
        "from sklearn.neighbors import KNeighborsClassifier\n",
        "from sklearn.ensemble import RandomForestClassifier, AdaBoostClassifier, ExtraTreesClassifier, BaggingClassifier, GradientBoostingClassifier, VotingClassifier, StackingClassifier\n",
        "from sklearn.linear_model import LogisticRegression, LinearRegression, Ridge, RidgeCV, RidgeClassifier\n",
        "from sklearn.model_selection import train_test_split, RepeatedStratifiedKFold, GridSearchCV, RandomizedSearchCV\n",
        "\n",
        "import sklearn.metrics as metrics\n",
        "from sklearn.metrics import accuracy_score, precision_score, recall_score, f1_score, roc_auc_score, roc_curve, auc, confusion_matrix\n",
        "\n",
        "import warnings\n",
        "warnings.filterwarnings('ignore')\n",
        "\n",
        "from google.colab import drive\n",
        "drive.mount('/content/drive')"
      ]
    },
    {
      "cell_type": "markdown",
      "metadata": {
        "id": "8IUXKgjWG-rB"
      },
      "source": [
        "# EDA"
      ]
    },
    {
      "cell_type": "markdown",
      "metadata": {
        "id": "gETbIfKttNXq"
      },
      "source": [
        "## 변수 설명\n",
        "  - **int_rate** : 대출자에 부여된 이자율 (Interest rate of the loan the applicant received)\n",
        "  - **annual_inc** : 연 소득 (annual income)\n",
        "  - **dti** : 소득 대비 부채 비율 (Debt-to-income ratio)\n",
        "  - **delinq_2yrs** : 지난 2년 간 체납 발생 횟수 (Delinquencies on lines of credit in the last 2 years)\n",
        "  - **inq_last_6mths** : 지난 6개월 간 신용 조회 수 (Inquiries into the applicant's credit during the last 6 months)\n",
        "  - **pub_rec** : 파산 횟수 (Number of bankruptcies listed in the public record)\n",
        "  - **revol_bal** : 리볼빙 잔액 (Total credit revolving balance)\n",
        "  - **total_acc** : 지금까지 소유했던 신용카드 개수 (num_total_cc_accounts : Total number of credit card accounts in the applicant's history)\n",
        "  - **collections_12_mths_ex_med** : 의료부문을 제외한 지난 12개월 간 추심 발생 횟수 (num_collections_last_12m : Number of collections in the last 12 months. This excludes medical collections)\n",
        "  - **acc_now_delinq** : 대출자가 체납 상태에 있지 않은 계좌의 수 (The number of accounts on which the borrower is now delinquent)\n",
        "  - **tot_coll_amt** : 대출자에 대한 현재까지의 총 추심액 (total_collection_amount_ever : The total amount that the applicant has had against them in collections)\n",
        "  - **tot_cur_bal** : 전 계좌의 현재 통합 잔고 (Total current balance of all accounts)\n",
        "  - **chargeoff_within_12_mths** : 대출 부 신청인의 대출 신청 직전 12개월 간 세금 공제 횟수 (Number of charge-offs within last 12 months at time of application for the secondary applicant)\n",
        "  - **delinq_amnt** : 체납 금액 (delinquency amount)\n",
        "  - **tax_liens** : 세금 저당권의 수 (Number of tax liens)\n",
        "  - **emp_length1 ~ 12** : 고용 연수 (Number of years in the job)\n",
        "  - **home_ownership1 ~ 6** : 대출 신청자의 주거 소유 형태 (The ownership status of the applicant's residence)\n",
        "  - **verification_status1 ~ 3** : 공동 소득 발생 여부 및 형태 (verification_income_joint : Type of verification of the joint income)\n",
        "  - **purpose1 ~ 14** : 대출 목적 (The purpose of the loan)\n",
        "  - **initial_list_status1 ~ 2** : 최초 대출 상태 (Initial listing status of the loan)\n",
        "  - **mths_since_last_delinq1 ~ 11** : 마지막 체납이 지금으로부터 몇개월 전에 있었는지를 나타내는 변수 (Months since the last delinquency)\n",
        "  \n",
        "  - **funded_amnt** : 대출액 (Funded amount)\n",
        "  - **funded_amnt_inv** : 사채 대출액 (Funded amount by investors)\n",
        "  - **total_rec_late_fee** : 총 연체료 중 납부액 (Late fees received to date)\n",
        "  - **term1** : 상환 기간 (The number of payments on the loan. Values are in months and can be either 36 or 60)\n",
        "  - **open_acc** : 개설 개좌 수 (The number of open credit lines in the borrower's credit file)\n",
        "  - **installment** : 대출 발생 시 월 상환액 (The monthly payment owed by the borrower if the loan originates)\n",
        "  - **revol_util** : 리볼빙 한도 대비 리볼빙 사용 비율 (Revolving line utilization rate, or the amount of credit the borrower is using relative to all available revolving credit)\n",
        "  - **out_prncp** : 대출액 중 원리금 잔액 (Remaining outstanding principal for total amount funded)\n",
        "  - **out_prncp_inv** : 사채 대출액 중 원리금 잔액 (Remaining outstanding principal for total amount funded by investors)\n",
        "  - **total_rec_int** : 이자 상환액 (Interest received to date)\n",
        "  - **fico_range_low** : FICO(일종의 신용점수) 최저값 (The lower boundary range the borrower’s FICO at loan origination belongs to)\n",
        "  - **fico_range_high** : FICO(일종의 신용점수) 최고값 (The upper boundary range the borrower’s FICO at loan origination belongs to)\n",
        "  \n",
        "  - **depvar** : 고객의 부도 여부 (dependent variable)"
      ]
    },
    {
      "cell_type": "code",
      "execution_count": 292,
      "metadata": {
        "colab": {
          "base_uri": "https://localhost:8080/",
          "height": 270
        },
        "id": "d99i4isHtNXr",
        "outputId": "4292b3fa-301b-4af9-bb24-83d4b13ae36d"
      },
      "outputs": [
        {
          "output_type": "execute_result",
          "data": {
            "text/html": [
              "\n",
              "  <div id=\"df-567a933f-7069-426a-9cc9-ad19d1079ce5\">\n",
              "    <div class=\"colab-df-container\">\n",
              "      <div>\n",
              "<style scoped>\n",
              "    .dataframe tbody tr th:only-of-type {\n",
              "        vertical-align: middle;\n",
              "    }\n",
              "\n",
              "    .dataframe tbody tr th {\n",
              "        vertical-align: top;\n",
              "    }\n",
              "\n",
              "    .dataframe thead th {\n",
              "        text-align: right;\n",
              "    }\n",
              "</style>\n",
              "<table border=\"1\" class=\"dataframe\">\n",
              "  <thead>\n",
              "    <tr style=\"text-align: right;\">\n",
              "      <th></th>\n",
              "      <th>int_rate</th>\n",
              "      <th>annual_inc</th>\n",
              "      <th>dti</th>\n",
              "      <th>delinq_2yrs</th>\n",
              "      <th>inq_last_6mths</th>\n",
              "      <th>pub_rec</th>\n",
              "      <th>revol_bal</th>\n",
              "      <th>total_acc</th>\n",
              "      <th>collections_12_mths_ex_med</th>\n",
              "      <th>acc_now_delinq</th>\n",
              "      <th>tot_coll_amt</th>\n",
              "      <th>tot_cur_bal</th>\n",
              "      <th>chargeoff_within_12_mths</th>\n",
              "      <th>delinq_amnt</th>\n",
              "      <th>tax_liens</th>\n",
              "      <th>emp_length1</th>\n",
              "      <th>emp_length2</th>\n",
              "      <th>emp_length3</th>\n",
              "      <th>emp_length4</th>\n",
              "      <th>emp_length5</th>\n",
              "      <th>emp_length6</th>\n",
              "      <th>emp_length7</th>\n",
              "      <th>emp_length8</th>\n",
              "      <th>emp_length9</th>\n",
              "      <th>emp_length10</th>\n",
              "      <th>emp_length11</th>\n",
              "      <th>emp_length12</th>\n",
              "      <th>home_ownership1</th>\n",
              "      <th>home_ownership2</th>\n",
              "      <th>home_ownership3</th>\n",
              "      <th>home_ownership4</th>\n",
              "      <th>home_ownership5</th>\n",
              "      <th>home_ownership6</th>\n",
              "      <th>verification_status1</th>\n",
              "      <th>verification_status2</th>\n",
              "      <th>verification_status3</th>\n",
              "      <th>purpose1</th>\n",
              "      <th>purpose2</th>\n",
              "      <th>purpose3</th>\n",
              "      <th>purpose4</th>\n",
              "      <th>purpose5</th>\n",
              "      <th>purpose6</th>\n",
              "      <th>purpose7</th>\n",
              "      <th>purpose8</th>\n",
              "      <th>purpose9</th>\n",
              "      <th>purpose10</th>\n",
              "      <th>purpose11</th>\n",
              "      <th>purpose12</th>\n",
              "      <th>purpose13</th>\n",
              "      <th>purpose14</th>\n",
              "      <th>initial_list_status1</th>\n",
              "      <th>initial_list_status2</th>\n",
              "      <th>mths_since_last_delinq1</th>\n",
              "      <th>mths_since_last_delinq2</th>\n",
              "      <th>mths_since_last_delinq3</th>\n",
              "      <th>mths_since_last_delinq4</th>\n",
              "      <th>mths_since_last_delinq5</th>\n",
              "      <th>mths_since_last_delinq6</th>\n",
              "      <th>mths_since_last_delinq7</th>\n",
              "      <th>mths_since_last_delinq8</th>\n",
              "      <th>mths_since_last_delinq9</th>\n",
              "      <th>mths_since_last_delinq10</th>\n",
              "      <th>mths_since_last_delinq11</th>\n",
              "      <th>funded_amnt</th>\n",
              "      <th>funded_amnt_inv</th>\n",
              "      <th>total_rec_late_fee</th>\n",
              "      <th>term1</th>\n",
              "      <th>open_acc</th>\n",
              "      <th>installment</th>\n",
              "      <th>revol_util</th>\n",
              "      <th>out_prncp</th>\n",
              "      <th>out_prncp_inv</th>\n",
              "      <th>total_rec_int</th>\n",
              "      <th>fico_range_low</th>\n",
              "      <th>fico_range_high</th>\n",
              "      <th>depvar</th>\n",
              "    </tr>\n",
              "  </thead>\n",
              "  <tbody>\n",
              "    <tr>\n",
              "      <th>0</th>\n",
              "      <td>0.0824</td>\n",
              "      <td>21000.0</td>\n",
              "      <td>29.19</td>\n",
              "      <td>0</td>\n",
              "      <td>1</td>\n",
              "      <td>0</td>\n",
              "      <td>3016</td>\n",
              "      <td>26</td>\n",
              "      <td>0</td>\n",
              "      <td>0</td>\n",
              "      <td>0</td>\n",
              "      <td>11773</td>\n",
              "      <td>0</td>\n",
              "      <td>0</td>\n",
              "      <td>0</td>\n",
              "      <td>1</td>\n",
              "      <td>0</td>\n",
              "      <td>0</td>\n",
              "      <td>0</td>\n",
              "      <td>0</td>\n",
              "      <td>0</td>\n",
              "      <td>0</td>\n",
              "      <td>0</td>\n",
              "      <td>0</td>\n",
              "      <td>0</td>\n",
              "      <td>0</td>\n",
              "      <td>0</td>\n",
              "      <td>0</td>\n",
              "      <td>0</td>\n",
              "      <td>0</td>\n",
              "      <td>0</td>\n",
              "      <td>0</td>\n",
              "      <td>1</td>\n",
              "      <td>0</td>\n",
              "      <td>1</td>\n",
              "      <td>0</td>\n",
              "      <td>0</td>\n",
              "      <td>1</td>\n",
              "      <td>0</td>\n",
              "      <td>0</td>\n",
              "      <td>0</td>\n",
              "      <td>0</td>\n",
              "      <td>0</td>\n",
              "      <td>0</td>\n",
              "      <td>0</td>\n",
              "      <td>0</td>\n",
              "      <td>0</td>\n",
              "      <td>0</td>\n",
              "      <td>0</td>\n",
              "      <td>0</td>\n",
              "      <td>0</td>\n",
              "      <td>1</td>\n",
              "      <td>1</td>\n",
              "      <td>0</td>\n",
              "      <td>0</td>\n",
              "      <td>0</td>\n",
              "      <td>0</td>\n",
              "      <td>0</td>\n",
              "      <td>0</td>\n",
              "      <td>0</td>\n",
              "      <td>0</td>\n",
              "      <td>0</td>\n",
              "      <td>0</td>\n",
              "      <td>1200</td>\n",
              "      <td>1200.0</td>\n",
              "      <td>0.0</td>\n",
              "      <td>1</td>\n",
              "      <td>18</td>\n",
              "      <td>37.74</td>\n",
              "      <td>0.076</td>\n",
              "      <td>0.0</td>\n",
              "      <td>0.0</td>\n",
              "      <td>157.94</td>\n",
              "      <td>765</td>\n",
              "      <td>769</td>\n",
              "      <td>0</td>\n",
              "    </tr>\n",
              "    <tr>\n",
              "      <th>1</th>\n",
              "      <td>0.1299</td>\n",
              "      <td>80000.0</td>\n",
              "      <td>4.82</td>\n",
              "      <td>0</td>\n",
              "      <td>1</td>\n",
              "      <td>1</td>\n",
              "      <td>5722</td>\n",
              "      <td>24</td>\n",
              "      <td>0</td>\n",
              "      <td>0</td>\n",
              "      <td>0</td>\n",
              "      <td>21875</td>\n",
              "      <td>0</td>\n",
              "      <td>0</td>\n",
              "      <td>0</td>\n",
              "      <td>0</td>\n",
              "      <td>1</td>\n",
              "      <td>0</td>\n",
              "      <td>0</td>\n",
              "      <td>0</td>\n",
              "      <td>0</td>\n",
              "      <td>0</td>\n",
              "      <td>0</td>\n",
              "      <td>0</td>\n",
              "      <td>0</td>\n",
              "      <td>0</td>\n",
              "      <td>0</td>\n",
              "      <td>0</td>\n",
              "      <td>0</td>\n",
              "      <td>0</td>\n",
              "      <td>0</td>\n",
              "      <td>0</td>\n",
              "      <td>1</td>\n",
              "      <td>0</td>\n",
              "      <td>0</td>\n",
              "      <td>1</td>\n",
              "      <td>0</td>\n",
              "      <td>0</td>\n",
              "      <td>1</td>\n",
              "      <td>0</td>\n",
              "      <td>0</td>\n",
              "      <td>0</td>\n",
              "      <td>0</td>\n",
              "      <td>0</td>\n",
              "      <td>0</td>\n",
              "      <td>0</td>\n",
              "      <td>0</td>\n",
              "      <td>0</td>\n",
              "      <td>0</td>\n",
              "      <td>0</td>\n",
              "      <td>0</td>\n",
              "      <td>1</td>\n",
              "      <td>1</td>\n",
              "      <td>0</td>\n",
              "      <td>0</td>\n",
              "      <td>0</td>\n",
              "      <td>0</td>\n",
              "      <td>0</td>\n",
              "      <td>0</td>\n",
              "      <td>0</td>\n",
              "      <td>0</td>\n",
              "      <td>0</td>\n",
              "      <td>0</td>\n",
              "      <td>8000</td>\n",
              "      <td>8000.0</td>\n",
              "      <td>0.0</td>\n",
              "      <td>1</td>\n",
              "      <td>8</td>\n",
              "      <td>269.52</td>\n",
              "      <td>0.447</td>\n",
              "      <td>0.0</td>\n",
              "      <td>0.0</td>\n",
              "      <td>1702.42</td>\n",
              "      <td>665</td>\n",
              "      <td>669</td>\n",
              "      <td>0</td>\n",
              "    </tr>\n",
              "    <tr>\n",
              "      <th>2</th>\n",
              "      <td>0.1299</td>\n",
              "      <td>38000.0</td>\n",
              "      <td>23.66</td>\n",
              "      <td>0</td>\n",
              "      <td>3</td>\n",
              "      <td>0</td>\n",
              "      <td>6511</td>\n",
              "      <td>18</td>\n",
              "      <td>0</td>\n",
              "      <td>0</td>\n",
              "      <td>0</td>\n",
              "      <td>31868</td>\n",
              "      <td>0</td>\n",
              "      <td>0</td>\n",
              "      <td>0</td>\n",
              "      <td>0</td>\n",
              "      <td>0</td>\n",
              "      <td>0</td>\n",
              "      <td>1</td>\n",
              "      <td>0</td>\n",
              "      <td>0</td>\n",
              "      <td>0</td>\n",
              "      <td>0</td>\n",
              "      <td>0</td>\n",
              "      <td>0</td>\n",
              "      <td>0</td>\n",
              "      <td>0</td>\n",
              "      <td>0</td>\n",
              "      <td>0</td>\n",
              "      <td>0</td>\n",
              "      <td>0</td>\n",
              "      <td>0</td>\n",
              "      <td>1</td>\n",
              "      <td>0</td>\n",
              "      <td>1</td>\n",
              "      <td>0</td>\n",
              "      <td>0</td>\n",
              "      <td>0</td>\n",
              "      <td>1</td>\n",
              "      <td>0</td>\n",
              "      <td>0</td>\n",
              "      <td>0</td>\n",
              "      <td>0</td>\n",
              "      <td>0</td>\n",
              "      <td>0</td>\n",
              "      <td>0</td>\n",
              "      <td>0</td>\n",
              "      <td>0</td>\n",
              "      <td>0</td>\n",
              "      <td>0</td>\n",
              "      <td>0</td>\n",
              "      <td>1</td>\n",
              "      <td>0</td>\n",
              "      <td>0</td>\n",
              "      <td>0</td>\n",
              "      <td>0</td>\n",
              "      <td>0</td>\n",
              "      <td>0</td>\n",
              "      <td>0</td>\n",
              "      <td>0</td>\n",
              "      <td>0</td>\n",
              "      <td>0</td>\n",
              "      <td>1</td>\n",
              "      <td>5000</td>\n",
              "      <td>5000.0</td>\n",
              "      <td>0.0</td>\n",
              "      <td>1</td>\n",
              "      <td>7</td>\n",
              "      <td>168.45</td>\n",
              "      <td>0.880</td>\n",
              "      <td>0.0</td>\n",
              "      <td>0.0</td>\n",
              "      <td>1066.64</td>\n",
              "      <td>670</td>\n",
              "      <td>674</td>\n",
              "      <td>0</td>\n",
              "    </tr>\n",
              "    <tr>\n",
              "      <th>3</th>\n",
              "      <td>0.1367</td>\n",
              "      <td>100000.0</td>\n",
              "      <td>16.27</td>\n",
              "      <td>4</td>\n",
              "      <td>2</td>\n",
              "      <td>0</td>\n",
              "      <td>6849</td>\n",
              "      <td>30</td>\n",
              "      <td>0</td>\n",
              "      <td>0</td>\n",
              "      <td>0</td>\n",
              "      <td>326049</td>\n",
              "      <td>0</td>\n",
              "      <td>0</td>\n",
              "      <td>0</td>\n",
              "      <td>0</td>\n",
              "      <td>0</td>\n",
              "      <td>1</td>\n",
              "      <td>0</td>\n",
              "      <td>0</td>\n",
              "      <td>0</td>\n",
              "      <td>0</td>\n",
              "      <td>0</td>\n",
              "      <td>0</td>\n",
              "      <td>0</td>\n",
              "      <td>0</td>\n",
              "      <td>0</td>\n",
              "      <td>0</td>\n",
              "      <td>1</td>\n",
              "      <td>0</td>\n",
              "      <td>0</td>\n",
              "      <td>0</td>\n",
              "      <td>0</td>\n",
              "      <td>0</td>\n",
              "      <td>0</td>\n",
              "      <td>1</td>\n",
              "      <td>0</td>\n",
              "      <td>0</td>\n",
              "      <td>1</td>\n",
              "      <td>0</td>\n",
              "      <td>0</td>\n",
              "      <td>0</td>\n",
              "      <td>0</td>\n",
              "      <td>0</td>\n",
              "      <td>0</td>\n",
              "      <td>0</td>\n",
              "      <td>0</td>\n",
              "      <td>0</td>\n",
              "      <td>0</td>\n",
              "      <td>0</td>\n",
              "      <td>0</td>\n",
              "      <td>1</td>\n",
              "      <td>0</td>\n",
              "      <td>0</td>\n",
              "      <td>0</td>\n",
              "      <td>0</td>\n",
              "      <td>1</td>\n",
              "      <td>0</td>\n",
              "      <td>0</td>\n",
              "      <td>0</td>\n",
              "      <td>0</td>\n",
              "      <td>0</td>\n",
              "      <td>0</td>\n",
              "      <td>15000</td>\n",
              "      <td>15000.0</td>\n",
              "      <td>0.0</td>\n",
              "      <td>1</td>\n",
              "      <td>12</td>\n",
              "      <td>510.27</td>\n",
              "      <td>0.457</td>\n",
              "      <td>0.0</td>\n",
              "      <td>0.0</td>\n",
              "      <td>1256.24</td>\n",
              "      <td>680</td>\n",
              "      <td>684</td>\n",
              "      <td>1</td>\n",
              "    </tr>\n",
              "    <tr>\n",
              "      <th>4</th>\n",
              "      <td>0.1269</td>\n",
              "      <td>30000.0</td>\n",
              "      <td>25.28</td>\n",
              "      <td>0</td>\n",
              "      <td>1</td>\n",
              "      <td>2</td>\n",
              "      <td>8197</td>\n",
              "      <td>12</td>\n",
              "      <td>0</td>\n",
              "      <td>0</td>\n",
              "      <td>2506</td>\n",
              "      <td>8840</td>\n",
              "      <td>0</td>\n",
              "      <td>0</td>\n",
              "      <td>0</td>\n",
              "      <td>0</td>\n",
              "      <td>0</td>\n",
              "      <td>0</td>\n",
              "      <td>1</td>\n",
              "      <td>0</td>\n",
              "      <td>0</td>\n",
              "      <td>0</td>\n",
              "      <td>0</td>\n",
              "      <td>0</td>\n",
              "      <td>0</td>\n",
              "      <td>0</td>\n",
              "      <td>0</td>\n",
              "      <td>0</td>\n",
              "      <td>0</td>\n",
              "      <td>0</td>\n",
              "      <td>0</td>\n",
              "      <td>0</td>\n",
              "      <td>1</td>\n",
              "      <td>0</td>\n",
              "      <td>1</td>\n",
              "      <td>0</td>\n",
              "      <td>0</td>\n",
              "      <td>0</td>\n",
              "      <td>1</td>\n",
              "      <td>0</td>\n",
              "      <td>0</td>\n",
              "      <td>0</td>\n",
              "      <td>0</td>\n",
              "      <td>0</td>\n",
              "      <td>0</td>\n",
              "      <td>0</td>\n",
              "      <td>0</td>\n",
              "      <td>0</td>\n",
              "      <td>0</td>\n",
              "      <td>0</td>\n",
              "      <td>0</td>\n",
              "      <td>1</td>\n",
              "      <td>1</td>\n",
              "      <td>0</td>\n",
              "      <td>0</td>\n",
              "      <td>0</td>\n",
              "      <td>0</td>\n",
              "      <td>0</td>\n",
              "      <td>0</td>\n",
              "      <td>0</td>\n",
              "      <td>0</td>\n",
              "      <td>0</td>\n",
              "      <td>0</td>\n",
              "      <td>10000</td>\n",
              "      <td>10000.0</td>\n",
              "      <td>0.0</td>\n",
              "      <td>1</td>\n",
              "      <td>8</td>\n",
              "      <td>335.45</td>\n",
              "      <td>0.416</td>\n",
              "      <td>0.0</td>\n",
              "      <td>0.0</td>\n",
              "      <td>871.04</td>\n",
              "      <td>660</td>\n",
              "      <td>664</td>\n",
              "      <td>1</td>\n",
              "    </tr>\n",
              "  </tbody>\n",
              "</table>\n",
              "</div>\n",
              "      <button class=\"colab-df-convert\" onclick=\"convertToInteractive('df-567a933f-7069-426a-9cc9-ad19d1079ce5')\"\n",
              "              title=\"Convert this dataframe to an interactive table.\"\n",
              "              style=\"display:none;\">\n",
              "        \n",
              "  <svg xmlns=\"http://www.w3.org/2000/svg\" height=\"24px\"viewBox=\"0 0 24 24\"\n",
              "       width=\"24px\">\n",
              "    <path d=\"M0 0h24v24H0V0z\" fill=\"none\"/>\n",
              "    <path d=\"M18.56 5.44l.94 2.06.94-2.06 2.06-.94-2.06-.94-.94-2.06-.94 2.06-2.06.94zm-11 1L8.5 8.5l.94-2.06 2.06-.94-2.06-.94L8.5 2.5l-.94 2.06-2.06.94zm10 10l.94 2.06.94-2.06 2.06-.94-2.06-.94-.94-2.06-.94 2.06-2.06.94z\"/><path d=\"M17.41 7.96l-1.37-1.37c-.4-.4-.92-.59-1.43-.59-.52 0-1.04.2-1.43.59L10.3 9.45l-7.72 7.72c-.78.78-.78 2.05 0 2.83L4 21.41c.39.39.9.59 1.41.59.51 0 1.02-.2 1.41-.59l7.78-7.78 2.81-2.81c.8-.78.8-2.07 0-2.86zM5.41 20L4 18.59l7.72-7.72 1.47 1.35L5.41 20z\"/>\n",
              "  </svg>\n",
              "      </button>\n",
              "      \n",
              "  <style>\n",
              "    .colab-df-container {\n",
              "      display:flex;\n",
              "      flex-wrap:wrap;\n",
              "      gap: 12px;\n",
              "    }\n",
              "\n",
              "    .colab-df-convert {\n",
              "      background-color: #E8F0FE;\n",
              "      border: none;\n",
              "      border-radius: 50%;\n",
              "      cursor: pointer;\n",
              "      display: none;\n",
              "      fill: #1967D2;\n",
              "      height: 32px;\n",
              "      padding: 0 0 0 0;\n",
              "      width: 32px;\n",
              "    }\n",
              "\n",
              "    .colab-df-convert:hover {\n",
              "      background-color: #E2EBFA;\n",
              "      box-shadow: 0px 1px 2px rgba(60, 64, 67, 0.3), 0px 1px 3px 1px rgba(60, 64, 67, 0.15);\n",
              "      fill: #174EA6;\n",
              "    }\n",
              "\n",
              "    [theme=dark] .colab-df-convert {\n",
              "      background-color: #3B4455;\n",
              "      fill: #D2E3FC;\n",
              "    }\n",
              "\n",
              "    [theme=dark] .colab-df-convert:hover {\n",
              "      background-color: #434B5C;\n",
              "      box-shadow: 0px 1px 3px 1px rgba(0, 0, 0, 0.15);\n",
              "      filter: drop-shadow(0px 1px 2px rgba(0, 0, 0, 0.3));\n",
              "      fill: #FFFFFF;\n",
              "    }\n",
              "  </style>\n",
              "\n",
              "      <script>\n",
              "        const buttonEl =\n",
              "          document.querySelector('#df-567a933f-7069-426a-9cc9-ad19d1079ce5 button.colab-df-convert');\n",
              "        buttonEl.style.display =\n",
              "          google.colab.kernel.accessAllowed ? 'block' : 'none';\n",
              "\n",
              "        async function convertToInteractive(key) {\n",
              "          const element = document.querySelector('#df-567a933f-7069-426a-9cc9-ad19d1079ce5');\n",
              "          const dataTable =\n",
              "            await google.colab.kernel.invokeFunction('convertToInteractive',\n",
              "                                                     [key], {});\n",
              "          if (!dataTable) return;\n",
              "\n",
              "          const docLinkHtml = 'Like what you see? Visit the ' +\n",
              "            '<a target=\"_blank\" href=https://colab.research.google.com/notebooks/data_table.ipynb>data table notebook</a>'\n",
              "            + ' to learn more about interactive tables.';\n",
              "          element.innerHTML = '';\n",
              "          dataTable['output_type'] = 'display_data';\n",
              "          await google.colab.output.renderOutput(dataTable, element);\n",
              "          const docLink = document.createElement('div');\n",
              "          docLink.innerHTML = docLinkHtml;\n",
              "          element.appendChild(docLink);\n",
              "        }\n",
              "      </script>\n",
              "    </div>\n",
              "  </div>\n",
              "  "
            ],
            "text/plain": [
              "   int_rate  annual_inc    dti  ...  fico_range_low  fico_range_high  depvar\n",
              "0    0.0824     21000.0  29.19  ...             765              769       0\n",
              "1    0.1299     80000.0   4.82  ...             665              669       0\n",
              "2    0.1299     38000.0  23.66  ...             670              674       0\n",
              "3    0.1367    100000.0  16.27  ...             680              684       1\n",
              "4    0.1269     30000.0  25.28  ...             660              664       1\n",
              "\n",
              "[5 rows x 76 columns]"
            ]
          },
          "metadata": {},
          "execution_count": 292
        }
      ],
      "source": [
        "df = pd.read_csv('/content/drive/MyDrive/Colab Notebooks/220126/data/train.csv')\n",
        "df.head()"
      ]
    },
    {
      "cell_type": "markdown",
      "metadata": {
        "id": "nxjpkcYVyJ7p"
      },
      "source": [
        "### 컬럼 합쳐주기"
      ]
    },
    {
      "cell_type": "code",
      "execution_count": 293,
      "metadata": {
        "colab": {
          "base_uri": "https://localhost:8080/"
        },
        "id": "MbYv-wXr5Ina",
        "outputId": "fdd3dd75-080f-4c0e-d31d-605ab847cf4f"
      },
      "outputs": [
        {
          "output_type": "execute_result",
          "data": {
            "text/plain": [
              "100000"
            ]
          },
          "metadata": {},
          "execution_count": 293
        }
      ],
      "source": [
        "df['emp_length'] = 0\n",
        "\n",
        "for i, column in enumerate(df.loc[:,'emp_length1':'emp_length12'].columns,1):\n",
        "    for j, data in enumerate(df[column]):\n",
        "        if data == 1:\n",
        "            df['emp_length'][j] = i\n",
        "\n",
        "sum(df['emp_length'] > 0)"
      ]
    },
    {
      "cell_type": "code",
      "execution_count": 294,
      "metadata": {
        "id": "iaUrJ1Mp19rf"
      },
      "outputs": [],
      "source": [
        "df = df.drop(df.loc[:,'emp_length1':'emp_length12'].columns, axis=1)"
      ]
    },
    {
      "cell_type": "code",
      "execution_count": 295,
      "metadata": {
        "colab": {
          "base_uri": "https://localhost:8080/"
        },
        "id": "ZHgDJ0AF609d",
        "outputId": "c40d8d98-133d-4224-bf54-a0d358290f5b"
      },
      "outputs": [
        {
          "output_type": "execute_result",
          "data": {
            "text/plain": [
              "100000"
            ]
          },
          "metadata": {},
          "execution_count": 295
        }
      ],
      "source": [
        "df['home_ownership'] = 0\n",
        "\n",
        "for i, column in enumerate(df.loc[:,'home_ownership1':'home_ownership6'].columns,1):\n",
        "    for j, data in enumerate(df[column]):\n",
        "        if data == 1:\n",
        "            df['home_ownership'][j] = i\n",
        "\n",
        "sum(df['home_ownership'] > 0)"
      ]
    },
    {
      "cell_type": "code",
      "execution_count": 296,
      "metadata": {
        "id": "VLfHFONw69Ev"
      },
      "outputs": [],
      "source": [
        "df = df.drop(df.loc[:,'home_ownership1':'home_ownership6'].columns, axis=1)"
      ]
    },
    {
      "cell_type": "code",
      "execution_count": 297,
      "metadata": {
        "colab": {
          "base_uri": "https://localhost:8080/"
        },
        "id": "JFwOdW7A7M11",
        "outputId": "c991da32-9f7f-4d3b-c67f-6d81306134cf"
      },
      "outputs": [
        {
          "output_type": "execute_result",
          "data": {
            "text/plain": [
              "100000"
            ]
          },
          "metadata": {},
          "execution_count": 297
        }
      ],
      "source": [
        "df['verification_status'] = 0\n",
        "\n",
        "for i, column in enumerate(df.loc[:,'verification_status1':'verification_status3'].columns,1):\n",
        "    for j, data in enumerate(df[column]):\n",
        "        if data == 1:\n",
        "            df['verification_status'][j] = i\n",
        "\n",
        "sum(df['verification_status'] > 0)"
      ]
    },
    {
      "cell_type": "code",
      "execution_count": 298,
      "metadata": {
        "id": "jz5E5csO7iv9"
      },
      "outputs": [],
      "source": [
        "df = df.drop(df.loc[:,'verification_status1':'verification_status3'].columns, axis=1)"
      ]
    },
    {
      "cell_type": "code",
      "execution_count": 299,
      "metadata": {
        "colab": {
          "base_uri": "https://localhost:8080/"
        },
        "id": "mFJq8JoG7nPe",
        "outputId": "0bb70383-f975-4f8a-a0f8-41d5a6f57636"
      },
      "outputs": [
        {
          "output_type": "execute_result",
          "data": {
            "text/plain": [
              "100000"
            ]
          },
          "metadata": {},
          "execution_count": 299
        }
      ],
      "source": [
        "df['purpose'] = 0\n",
        "\n",
        "for i, column in enumerate(df.loc[:,'purpose1':'purpose14'].columns,1):\n",
        "    for j, data in enumerate(df[column]):\n",
        "        if data == 1:\n",
        "            df['purpose'][j] = i\n",
        "\n",
        "sum(df['purpose'] > 0)"
      ]
    },
    {
      "cell_type": "code",
      "execution_count": 300,
      "metadata": {
        "id": "JzIaFL1S7xFp"
      },
      "outputs": [],
      "source": [
        "df = df.drop(df.loc[:,'purpose1':'purpose14'].columns, axis=1)"
      ]
    },
    {
      "cell_type": "code",
      "execution_count": 301,
      "metadata": {
        "colab": {
          "base_uri": "https://localhost:8080/"
        },
        "id": "azRBjtt070MR",
        "outputId": "4cac0335-1b40-4c0a-edf9-5c3170952587"
      },
      "outputs": [
        {
          "output_type": "execute_result",
          "data": {
            "text/plain": [
              "100000"
            ]
          },
          "metadata": {},
          "execution_count": 301
        }
      ],
      "source": [
        "df['initial_list_status'] = 0\n",
        "\n",
        "for i, column in enumerate(df.loc[:,'initial_list_status1':'initial_list_status2'].columns,1):\n",
        "    for j, data in enumerate(df[column]):\n",
        "        if data == 1:\n",
        "            df['initial_list_status'][j] = i\n",
        "\n",
        "sum(df['initial_list_status'] > 0)"
      ]
    },
    {
      "cell_type": "code",
      "execution_count": 302,
      "metadata": {
        "id": "Jcy9_I8l7--k"
      },
      "outputs": [],
      "source": [
        "df = df.drop(df.loc[:,'initial_list_status1':'initial_list_status2'].columns, axis=1)"
      ]
    },
    {
      "cell_type": "code",
      "execution_count": 303,
      "metadata": {
        "colab": {
          "base_uri": "https://localhost:8080/"
        },
        "id": "xgqw4JzC8BLu",
        "outputId": "ad45f9c2-803a-4f52-afcb-5cfb7a6bccfe"
      },
      "outputs": [
        {
          "output_type": "execute_result",
          "data": {
            "text/plain": [
              "100000"
            ]
          },
          "metadata": {},
          "execution_count": 303
        }
      ],
      "source": [
        "df['mths_since_last_delinq'] = 0\n",
        "\n",
        "for i, column in enumerate(df.loc[:,'mths_since_last_delinq1':'mths_since_last_delinq11'].columns,1):\n",
        "    for j, data in enumerate(df[column]):\n",
        "        if data == 1:\n",
        "            df['mths_since_last_delinq'][j] = i\n",
        "\n",
        "sum(df['mths_since_last_delinq'] > 0)"
      ]
    },
    {
      "cell_type": "code",
      "execution_count": 304,
      "metadata": {
        "id": "jTbdMeeV8I0v"
      },
      "outputs": [],
      "source": [
        "df = df.drop(df.loc[:,'mths_since_last_delinq1':'mths_since_last_delinq11'].columns, axis=1)"
      ]
    },
    {
      "cell_type": "code",
      "execution_count": 305,
      "metadata": {
        "colab": {
          "base_uri": "https://localhost:8080/",
          "height": 270
        },
        "id": "Dqr8fhCA0zPH",
        "outputId": "9126a5bf-d47c-4f9e-eb64-ea9a3daeb26c"
      },
      "outputs": [
        {
          "output_type": "execute_result",
          "data": {
            "text/html": [
              "\n",
              "  <div id=\"df-7b6493ce-ef16-4959-97d8-6eccc58c80ee\">\n",
              "    <div class=\"colab-df-container\">\n",
              "      <div>\n",
              "<style scoped>\n",
              "    .dataframe tbody tr th:only-of-type {\n",
              "        vertical-align: middle;\n",
              "    }\n",
              "\n",
              "    .dataframe tbody tr th {\n",
              "        vertical-align: top;\n",
              "    }\n",
              "\n",
              "    .dataframe thead th {\n",
              "        text-align: right;\n",
              "    }\n",
              "</style>\n",
              "<table border=\"1\" class=\"dataframe\">\n",
              "  <thead>\n",
              "    <tr style=\"text-align: right;\">\n",
              "      <th></th>\n",
              "      <th>int_rate</th>\n",
              "      <th>annual_inc</th>\n",
              "      <th>dti</th>\n",
              "      <th>delinq_2yrs</th>\n",
              "      <th>inq_last_6mths</th>\n",
              "      <th>pub_rec</th>\n",
              "      <th>revol_bal</th>\n",
              "      <th>total_acc</th>\n",
              "      <th>collections_12_mths_ex_med</th>\n",
              "      <th>acc_now_delinq</th>\n",
              "      <th>tot_coll_amt</th>\n",
              "      <th>tot_cur_bal</th>\n",
              "      <th>chargeoff_within_12_mths</th>\n",
              "      <th>delinq_amnt</th>\n",
              "      <th>tax_liens</th>\n",
              "      <th>funded_amnt</th>\n",
              "      <th>funded_amnt_inv</th>\n",
              "      <th>total_rec_late_fee</th>\n",
              "      <th>term1</th>\n",
              "      <th>open_acc</th>\n",
              "      <th>installment</th>\n",
              "      <th>revol_util</th>\n",
              "      <th>out_prncp</th>\n",
              "      <th>out_prncp_inv</th>\n",
              "      <th>total_rec_int</th>\n",
              "      <th>fico_range_low</th>\n",
              "      <th>fico_range_high</th>\n",
              "      <th>depvar</th>\n",
              "      <th>emp_length</th>\n",
              "      <th>home_ownership</th>\n",
              "      <th>verification_status</th>\n",
              "      <th>purpose</th>\n",
              "      <th>initial_list_status</th>\n",
              "      <th>mths_since_last_delinq</th>\n",
              "    </tr>\n",
              "  </thead>\n",
              "  <tbody>\n",
              "    <tr>\n",
              "      <th>0</th>\n",
              "      <td>0.0824</td>\n",
              "      <td>21000.0</td>\n",
              "      <td>29.19</td>\n",
              "      <td>0</td>\n",
              "      <td>1</td>\n",
              "      <td>0</td>\n",
              "      <td>3016</td>\n",
              "      <td>26</td>\n",
              "      <td>0</td>\n",
              "      <td>0</td>\n",
              "      <td>0</td>\n",
              "      <td>11773</td>\n",
              "      <td>0</td>\n",
              "      <td>0</td>\n",
              "      <td>0</td>\n",
              "      <td>1200</td>\n",
              "      <td>1200.0</td>\n",
              "      <td>0.0</td>\n",
              "      <td>1</td>\n",
              "      <td>18</td>\n",
              "      <td>37.74</td>\n",
              "      <td>0.076</td>\n",
              "      <td>0.0</td>\n",
              "      <td>0.0</td>\n",
              "      <td>157.94</td>\n",
              "      <td>765</td>\n",
              "      <td>769</td>\n",
              "      <td>0</td>\n",
              "      <td>1</td>\n",
              "      <td>6</td>\n",
              "      <td>2</td>\n",
              "      <td>2</td>\n",
              "      <td>2</td>\n",
              "      <td>1</td>\n",
              "    </tr>\n",
              "    <tr>\n",
              "      <th>1</th>\n",
              "      <td>0.1299</td>\n",
              "      <td>80000.0</td>\n",
              "      <td>4.82</td>\n",
              "      <td>0</td>\n",
              "      <td>1</td>\n",
              "      <td>1</td>\n",
              "      <td>5722</td>\n",
              "      <td>24</td>\n",
              "      <td>0</td>\n",
              "      <td>0</td>\n",
              "      <td>0</td>\n",
              "      <td>21875</td>\n",
              "      <td>0</td>\n",
              "      <td>0</td>\n",
              "      <td>0</td>\n",
              "      <td>8000</td>\n",
              "      <td>8000.0</td>\n",
              "      <td>0.0</td>\n",
              "      <td>1</td>\n",
              "      <td>8</td>\n",
              "      <td>269.52</td>\n",
              "      <td>0.447</td>\n",
              "      <td>0.0</td>\n",
              "      <td>0.0</td>\n",
              "      <td>1702.42</td>\n",
              "      <td>665</td>\n",
              "      <td>669</td>\n",
              "      <td>0</td>\n",
              "      <td>2</td>\n",
              "      <td>6</td>\n",
              "      <td>3</td>\n",
              "      <td>3</td>\n",
              "      <td>2</td>\n",
              "      <td>1</td>\n",
              "    </tr>\n",
              "    <tr>\n",
              "      <th>2</th>\n",
              "      <td>0.1299</td>\n",
              "      <td>38000.0</td>\n",
              "      <td>23.66</td>\n",
              "      <td>0</td>\n",
              "      <td>3</td>\n",
              "      <td>0</td>\n",
              "      <td>6511</td>\n",
              "      <td>18</td>\n",
              "      <td>0</td>\n",
              "      <td>0</td>\n",
              "      <td>0</td>\n",
              "      <td>31868</td>\n",
              "      <td>0</td>\n",
              "      <td>0</td>\n",
              "      <td>0</td>\n",
              "      <td>5000</td>\n",
              "      <td>5000.0</td>\n",
              "      <td>0.0</td>\n",
              "      <td>1</td>\n",
              "      <td>7</td>\n",
              "      <td>168.45</td>\n",
              "      <td>0.880</td>\n",
              "      <td>0.0</td>\n",
              "      <td>0.0</td>\n",
              "      <td>1066.64</td>\n",
              "      <td>670</td>\n",
              "      <td>674</td>\n",
              "      <td>0</td>\n",
              "      <td>4</td>\n",
              "      <td>6</td>\n",
              "      <td>2</td>\n",
              "      <td>3</td>\n",
              "      <td>2</td>\n",
              "      <td>11</td>\n",
              "    </tr>\n",
              "    <tr>\n",
              "      <th>3</th>\n",
              "      <td>0.1367</td>\n",
              "      <td>100000.0</td>\n",
              "      <td>16.27</td>\n",
              "      <td>4</td>\n",
              "      <td>2</td>\n",
              "      <td>0</td>\n",
              "      <td>6849</td>\n",
              "      <td>30</td>\n",
              "      <td>0</td>\n",
              "      <td>0</td>\n",
              "      <td>0</td>\n",
              "      <td>326049</td>\n",
              "      <td>0</td>\n",
              "      <td>0</td>\n",
              "      <td>0</td>\n",
              "      <td>15000</td>\n",
              "      <td>15000.0</td>\n",
              "      <td>0.0</td>\n",
              "      <td>1</td>\n",
              "      <td>12</td>\n",
              "      <td>510.27</td>\n",
              "      <td>0.457</td>\n",
              "      <td>0.0</td>\n",
              "      <td>0.0</td>\n",
              "      <td>1256.24</td>\n",
              "      <td>680</td>\n",
              "      <td>684</td>\n",
              "      <td>1</td>\n",
              "      <td>3</td>\n",
              "      <td>2</td>\n",
              "      <td>3</td>\n",
              "      <td>3</td>\n",
              "      <td>2</td>\n",
              "      <td>5</td>\n",
              "    </tr>\n",
              "    <tr>\n",
              "      <th>4</th>\n",
              "      <td>0.1269</td>\n",
              "      <td>30000.0</td>\n",
              "      <td>25.28</td>\n",
              "      <td>0</td>\n",
              "      <td>1</td>\n",
              "      <td>2</td>\n",
              "      <td>8197</td>\n",
              "      <td>12</td>\n",
              "      <td>0</td>\n",
              "      <td>0</td>\n",
              "      <td>2506</td>\n",
              "      <td>8840</td>\n",
              "      <td>0</td>\n",
              "      <td>0</td>\n",
              "      <td>0</td>\n",
              "      <td>10000</td>\n",
              "      <td>10000.0</td>\n",
              "      <td>0.0</td>\n",
              "      <td>1</td>\n",
              "      <td>8</td>\n",
              "      <td>335.45</td>\n",
              "      <td>0.416</td>\n",
              "      <td>0.0</td>\n",
              "      <td>0.0</td>\n",
              "      <td>871.04</td>\n",
              "      <td>660</td>\n",
              "      <td>664</td>\n",
              "      <td>1</td>\n",
              "      <td>4</td>\n",
              "      <td>6</td>\n",
              "      <td>2</td>\n",
              "      <td>3</td>\n",
              "      <td>2</td>\n",
              "      <td>1</td>\n",
              "    </tr>\n",
              "  </tbody>\n",
              "</table>\n",
              "</div>\n",
              "      <button class=\"colab-df-convert\" onclick=\"convertToInteractive('df-7b6493ce-ef16-4959-97d8-6eccc58c80ee')\"\n",
              "              title=\"Convert this dataframe to an interactive table.\"\n",
              "              style=\"display:none;\">\n",
              "        \n",
              "  <svg xmlns=\"http://www.w3.org/2000/svg\" height=\"24px\"viewBox=\"0 0 24 24\"\n",
              "       width=\"24px\">\n",
              "    <path d=\"M0 0h24v24H0V0z\" fill=\"none\"/>\n",
              "    <path d=\"M18.56 5.44l.94 2.06.94-2.06 2.06-.94-2.06-.94-.94-2.06-.94 2.06-2.06.94zm-11 1L8.5 8.5l.94-2.06 2.06-.94-2.06-.94L8.5 2.5l-.94 2.06-2.06.94zm10 10l.94 2.06.94-2.06 2.06-.94-2.06-.94-.94-2.06-.94 2.06-2.06.94z\"/><path d=\"M17.41 7.96l-1.37-1.37c-.4-.4-.92-.59-1.43-.59-.52 0-1.04.2-1.43.59L10.3 9.45l-7.72 7.72c-.78.78-.78 2.05 0 2.83L4 21.41c.39.39.9.59 1.41.59.51 0 1.02-.2 1.41-.59l7.78-7.78 2.81-2.81c.8-.78.8-2.07 0-2.86zM5.41 20L4 18.59l7.72-7.72 1.47 1.35L5.41 20z\"/>\n",
              "  </svg>\n",
              "      </button>\n",
              "      \n",
              "  <style>\n",
              "    .colab-df-container {\n",
              "      display:flex;\n",
              "      flex-wrap:wrap;\n",
              "      gap: 12px;\n",
              "    }\n",
              "\n",
              "    .colab-df-convert {\n",
              "      background-color: #E8F0FE;\n",
              "      border: none;\n",
              "      border-radius: 50%;\n",
              "      cursor: pointer;\n",
              "      display: none;\n",
              "      fill: #1967D2;\n",
              "      height: 32px;\n",
              "      padding: 0 0 0 0;\n",
              "      width: 32px;\n",
              "    }\n",
              "\n",
              "    .colab-df-convert:hover {\n",
              "      background-color: #E2EBFA;\n",
              "      box-shadow: 0px 1px 2px rgba(60, 64, 67, 0.3), 0px 1px 3px 1px rgba(60, 64, 67, 0.15);\n",
              "      fill: #174EA6;\n",
              "    }\n",
              "\n",
              "    [theme=dark] .colab-df-convert {\n",
              "      background-color: #3B4455;\n",
              "      fill: #D2E3FC;\n",
              "    }\n",
              "\n",
              "    [theme=dark] .colab-df-convert:hover {\n",
              "      background-color: #434B5C;\n",
              "      box-shadow: 0px 1px 3px 1px rgba(0, 0, 0, 0.15);\n",
              "      filter: drop-shadow(0px 1px 2px rgba(0, 0, 0, 0.3));\n",
              "      fill: #FFFFFF;\n",
              "    }\n",
              "  </style>\n",
              "\n",
              "      <script>\n",
              "        const buttonEl =\n",
              "          document.querySelector('#df-7b6493ce-ef16-4959-97d8-6eccc58c80ee button.colab-df-convert');\n",
              "        buttonEl.style.display =\n",
              "          google.colab.kernel.accessAllowed ? 'block' : 'none';\n",
              "\n",
              "        async function convertToInteractive(key) {\n",
              "          const element = document.querySelector('#df-7b6493ce-ef16-4959-97d8-6eccc58c80ee');\n",
              "          const dataTable =\n",
              "            await google.colab.kernel.invokeFunction('convertToInteractive',\n",
              "                                                     [key], {});\n",
              "          if (!dataTable) return;\n",
              "\n",
              "          const docLinkHtml = 'Like what you see? Visit the ' +\n",
              "            '<a target=\"_blank\" href=https://colab.research.google.com/notebooks/data_table.ipynb>data table notebook</a>'\n",
              "            + ' to learn more about interactive tables.';\n",
              "          element.innerHTML = '';\n",
              "          dataTable['output_type'] = 'display_data';\n",
              "          await google.colab.output.renderOutput(dataTable, element);\n",
              "          const docLink = document.createElement('div');\n",
              "          docLink.innerHTML = docLinkHtml;\n",
              "          element.appendChild(docLink);\n",
              "        }\n",
              "      </script>\n",
              "    </div>\n",
              "  </div>\n",
              "  "
            ],
            "text/plain": [
              "   int_rate  annual_inc  ...  initial_list_status  mths_since_last_delinq\n",
              "0    0.0824     21000.0  ...                    2                       1\n",
              "1    0.1299     80000.0  ...                    2                       1\n",
              "2    0.1299     38000.0  ...                    2                      11\n",
              "3    0.1367    100000.0  ...                    2                       5\n",
              "4    0.1269     30000.0  ...                    2                       1\n",
              "\n",
              "[5 rows x 34 columns]"
            ]
          },
          "metadata": {},
          "execution_count": 305
        }
      ],
      "source": [
        "df.head()"
      ]
    },
    {
      "cell_type": "code",
      "execution_count": 306,
      "metadata": {
        "colab": {
          "base_uri": "https://localhost:8080/"
        },
        "id": "eiimcNADlPRg",
        "outputId": "db4b6161-e6a5-4b0f-f37a-a2c522dc3b35"
      },
      "outputs": [
        {
          "output_type": "stream",
          "name": "stdout",
          "text": [
            "<class 'pandas.core.frame.DataFrame'>\n",
            "RangeIndex: 100000 entries, 0 to 99999\n",
            "Data columns (total 34 columns):\n",
            " #   Column                      Non-Null Count   Dtype  \n",
            "---  ------                      --------------   -----  \n",
            " 0   int_rate                    100000 non-null  float64\n",
            " 1   annual_inc                  100000 non-null  float64\n",
            " 2   dti                         100000 non-null  float64\n",
            " 3   delinq_2yrs                 100000 non-null  int64  \n",
            " 4   inq_last_6mths              100000 non-null  int64  \n",
            " 5   pub_rec                     100000 non-null  int64  \n",
            " 6   revol_bal                   100000 non-null  int64  \n",
            " 7   total_acc                   100000 non-null  int64  \n",
            " 8   collections_12_mths_ex_med  100000 non-null  int64  \n",
            " 9   acc_now_delinq              100000 non-null  int64  \n",
            " 10  tot_coll_amt                100000 non-null  int64  \n",
            " 11  tot_cur_bal                 100000 non-null  int64  \n",
            " 12  chargeoff_within_12_mths    100000 non-null  int64  \n",
            " 13  delinq_amnt                 100000 non-null  int64  \n",
            " 14  tax_liens                   100000 non-null  int64  \n",
            " 15  funded_amnt                 100000 non-null  int64  \n",
            " 16  funded_amnt_inv             100000 non-null  float64\n",
            " 17  total_rec_late_fee          100000 non-null  float64\n",
            " 18  term1                       100000 non-null  int64  \n",
            " 19  open_acc                    100000 non-null  int64  \n",
            " 20  installment                 100000 non-null  float64\n",
            " 21  revol_util                  100000 non-null  float64\n",
            " 22  out_prncp                   100000 non-null  float64\n",
            " 23  out_prncp_inv               100000 non-null  float64\n",
            " 24  total_rec_int               100000 non-null  float64\n",
            " 25  fico_range_low              100000 non-null  int64  \n",
            " 26  fico_range_high             100000 non-null  int64  \n",
            " 27  depvar                      100000 non-null  int64  \n",
            " 28  emp_length                  100000 non-null  int64  \n",
            " 29  home_ownership              100000 non-null  int64  \n",
            " 30  verification_status         100000 non-null  int64  \n",
            " 31  purpose                     100000 non-null  int64  \n",
            " 32  initial_list_status         100000 non-null  int64  \n",
            " 33  mths_since_last_delinq      100000 non-null  int64  \n",
            "dtypes: float64(10), int64(24)\n",
            "memory usage: 25.9 MB\n"
          ]
        }
      ],
      "source": [
        "df.info()"
      ]
    },
    {
      "cell_type": "code",
      "execution_count": 307,
      "metadata": {
        "colab": {
          "base_uri": "https://localhost:8080/",
          "height": 364
        },
        "id": "nnVGUuUElPUA",
        "outputId": "13890f61-4417-4822-9995-266fb5ad741e"
      },
      "outputs": [
        {
          "output_type": "execute_result",
          "data": {
            "text/html": [
              "\n",
              "  <div id=\"df-bbc9bfb9-23cf-4d1e-a5b6-7494f69737ba\">\n",
              "    <div class=\"colab-df-container\">\n",
              "      <div>\n",
              "<style scoped>\n",
              "    .dataframe tbody tr th:only-of-type {\n",
              "        vertical-align: middle;\n",
              "    }\n",
              "\n",
              "    .dataframe tbody tr th {\n",
              "        vertical-align: top;\n",
              "    }\n",
              "\n",
              "    .dataframe thead th {\n",
              "        text-align: right;\n",
              "    }\n",
              "</style>\n",
              "<table border=\"1\" class=\"dataframe\">\n",
              "  <thead>\n",
              "    <tr style=\"text-align: right;\">\n",
              "      <th></th>\n",
              "      <th>int_rate</th>\n",
              "      <th>annual_inc</th>\n",
              "      <th>dti</th>\n",
              "      <th>delinq_2yrs</th>\n",
              "      <th>inq_last_6mths</th>\n",
              "      <th>pub_rec</th>\n",
              "      <th>revol_bal</th>\n",
              "      <th>total_acc</th>\n",
              "      <th>collections_12_mths_ex_med</th>\n",
              "      <th>acc_now_delinq</th>\n",
              "      <th>tot_coll_amt</th>\n",
              "      <th>tot_cur_bal</th>\n",
              "      <th>chargeoff_within_12_mths</th>\n",
              "      <th>delinq_amnt</th>\n",
              "      <th>tax_liens</th>\n",
              "      <th>funded_amnt</th>\n",
              "      <th>funded_amnt_inv</th>\n",
              "      <th>total_rec_late_fee</th>\n",
              "      <th>term1</th>\n",
              "      <th>open_acc</th>\n",
              "      <th>installment</th>\n",
              "      <th>revol_util</th>\n",
              "      <th>out_prncp</th>\n",
              "      <th>out_prncp_inv</th>\n",
              "      <th>total_rec_int</th>\n",
              "      <th>fico_range_low</th>\n",
              "      <th>fico_range_high</th>\n",
              "      <th>depvar</th>\n",
              "      <th>emp_length</th>\n",
              "      <th>home_ownership</th>\n",
              "      <th>verification_status</th>\n",
              "      <th>purpose</th>\n",
              "      <th>initial_list_status</th>\n",
              "      <th>mths_since_last_delinq</th>\n",
              "    </tr>\n",
              "  </thead>\n",
              "  <tbody>\n",
              "    <tr>\n",
              "      <th>count</th>\n",
              "      <td>100000.000000</td>\n",
              "      <td>1.000000e+05</td>\n",
              "      <td>100000.000000</td>\n",
              "      <td>100000.000000</td>\n",
              "      <td>100000.000000</td>\n",
              "      <td>100000.000000</td>\n",
              "      <td>100000.000000</td>\n",
              "      <td>100000.000000</td>\n",
              "      <td>100000.000000</td>\n",
              "      <td>100000.000000</td>\n",
              "      <td>100000.000000</td>\n",
              "      <td>1.000000e+05</td>\n",
              "      <td>100000.000000</td>\n",
              "      <td>100000.000000</td>\n",
              "      <td>100000.000000</td>\n",
              "      <td>100000.000000</td>\n",
              "      <td>100000.000000</td>\n",
              "      <td>1.000000e+05</td>\n",
              "      <td>100000.000000</td>\n",
              "      <td>100000.000000</td>\n",
              "      <td>100000.000000</td>\n",
              "      <td>100000.000000</td>\n",
              "      <td>100000.000000</td>\n",
              "      <td>100000.000000</td>\n",
              "      <td>100000.000000</td>\n",
              "      <td>100000.000000</td>\n",
              "      <td>100000.000000</td>\n",
              "      <td>100000.000000</td>\n",
              "      <td>100000.000000</td>\n",
              "      <td>100000.000000</td>\n",
              "      <td>100000.000000</td>\n",
              "      <td>100000.000000</td>\n",
              "      <td>100000.000000</td>\n",
              "      <td>100000.000000</td>\n",
              "    </tr>\n",
              "    <tr>\n",
              "      <th>mean</th>\n",
              "      <td>0.130833</td>\n",
              "      <td>7.436061e+04</td>\n",
              "      <td>18.514508</td>\n",
              "      <td>0.343700</td>\n",
              "      <td>0.668880</td>\n",
              "      <td>0.235720</td>\n",
              "      <td>16090.202820</td>\n",
              "      <td>24.675910</td>\n",
              "      <td>0.018810</td>\n",
              "      <td>0.005800</td>\n",
              "      <td>250.588120</td>\n",
              "      <td>1.305281e+05</td>\n",
              "      <td>0.009630</td>\n",
              "      <td>19.288330</td>\n",
              "      <td>0.063820</td>\n",
              "      <td>13735.317750</td>\n",
              "      <td>13729.341073</td>\n",
              "      <td>2.448885e+00</td>\n",
              "      <td>0.855920</td>\n",
              "      <td>11.620700</td>\n",
              "      <td>434.077648</td>\n",
              "      <td>0.537233</td>\n",
              "      <td>0.253327</td>\n",
              "      <td>0.253259</td>\n",
              "      <td>2491.282802</td>\n",
              "      <td>692.630550</td>\n",
              "      <td>696.630660</td>\n",
              "      <td>0.325690</td>\n",
              "      <td>5.084010</td>\n",
              "      <td>4.022680</td>\n",
              "      <td>1.966200</td>\n",
              "      <td>3.660050</td>\n",
              "      <td>1.565570</td>\n",
              "      <td>3.774040</td>\n",
              "    </tr>\n",
              "    <tr>\n",
              "      <th>std</th>\n",
              "      <td>0.044773</td>\n",
              "      <td>7.467409e+04</td>\n",
              "      <td>8.413049</td>\n",
              "      <td>0.905007</td>\n",
              "      <td>0.952044</td>\n",
              "      <td>0.661468</td>\n",
              "      <td>21569.939271</td>\n",
              "      <td>11.883834</td>\n",
              "      <td>0.150321</td>\n",
              "      <td>0.083585</td>\n",
              "      <td>2042.770881</td>\n",
              "      <td>1.503326e+05</td>\n",
              "      <td>0.110079</td>\n",
              "      <td>893.304366</td>\n",
              "      <td>0.468027</td>\n",
              "      <td>8464.825314</td>\n",
              "      <td>8461.694483</td>\n",
              "      <td>1.489496e+01</td>\n",
              "      <td>0.351173</td>\n",
              "      <td>5.458774</td>\n",
              "      <td>265.921746</td>\n",
              "      <td>0.239373</td>\n",
              "      <td>18.053290</td>\n",
              "      <td>18.051746</td>\n",
              "      <td>2706.262200</td>\n",
              "      <td>29.668017</td>\n",
              "      <td>29.668584</td>\n",
              "      <td>0.468634</td>\n",
              "      <td>3.569059</td>\n",
              "      <td>1.915234</td>\n",
              "      <td>0.780169</td>\n",
              "      <td>2.362892</td>\n",
              "      <td>0.495684</td>\n",
              "      <td>3.410721</td>\n",
              "    </tr>\n",
              "    <tr>\n",
              "      <th>min</th>\n",
              "      <td>0.053200</td>\n",
              "      <td>5.360000e+03</td>\n",
              "      <td>0.000000</td>\n",
              "      <td>0.000000</td>\n",
              "      <td>0.000000</td>\n",
              "      <td>0.000000</td>\n",
              "      <td>0.000000</td>\n",
              "      <td>2.000000</td>\n",
              "      <td>0.000000</td>\n",
              "      <td>0.000000</td>\n",
              "      <td>0.000000</td>\n",
              "      <td>0.000000e+00</td>\n",
              "      <td>0.000000</td>\n",
              "      <td>0.000000</td>\n",
              "      <td>0.000000</td>\n",
              "      <td>1000.000000</td>\n",
              "      <td>800.000000</td>\n",
              "      <td>-2.000000e-09</td>\n",
              "      <td>0.000000</td>\n",
              "      <td>1.000000</td>\n",
              "      <td>23.360000</td>\n",
              "      <td>0.000000</td>\n",
              "      <td>0.000000</td>\n",
              "      <td>0.000000</td>\n",
              "      <td>0.000000</td>\n",
              "      <td>660.000000</td>\n",
              "      <td>664.000000</td>\n",
              "      <td>0.000000</td>\n",
              "      <td>1.000000</td>\n",
              "      <td>1.000000</td>\n",
              "      <td>1.000000</td>\n",
              "      <td>1.000000</td>\n",
              "      <td>1.000000</td>\n",
              "      <td>1.000000</td>\n",
              "    </tr>\n",
              "    <tr>\n",
              "      <th>25%</th>\n",
              "      <td>0.097500</td>\n",
              "      <td>4.500000e+04</td>\n",
              "      <td>12.200000</td>\n",
              "      <td>0.000000</td>\n",
              "      <td>0.000000</td>\n",
              "      <td>0.000000</td>\n",
              "      <td>6009.000000</td>\n",
              "      <td>16.000000</td>\n",
              "      <td>0.000000</td>\n",
              "      <td>0.000000</td>\n",
              "      <td>0.000000</td>\n",
              "      <td>2.698900e+04</td>\n",
              "      <td>0.000000</td>\n",
              "      <td>0.000000</td>\n",
              "      <td>0.000000</td>\n",
              "      <td>7200.000000</td>\n",
              "      <td>7200.000000</td>\n",
              "      <td>0.000000e+00</td>\n",
              "      <td>1.000000</td>\n",
              "      <td>8.000000</td>\n",
              "      <td>240.292500</td>\n",
              "      <td>0.361000</td>\n",
              "      <td>0.000000</td>\n",
              "      <td>0.000000</td>\n",
              "      <td>857.292500</td>\n",
              "      <td>670.000000</td>\n",
              "      <td>674.000000</td>\n",
              "      <td>0.000000</td>\n",
              "      <td>2.000000</td>\n",
              "      <td>2.000000</td>\n",
              "      <td>1.000000</td>\n",
              "      <td>3.000000</td>\n",
              "      <td>1.000000</td>\n",
              "      <td>1.000000</td>\n",
              "    </tr>\n",
              "    <tr>\n",
              "      <th>50%</th>\n",
              "      <td>0.127400</td>\n",
              "      <td>6.200000e+04</td>\n",
              "      <td>18.060000</td>\n",
              "      <td>0.000000</td>\n",
              "      <td>0.000000</td>\n",
              "      <td>0.000000</td>\n",
              "      <td>11030.500000</td>\n",
              "      <td>23.000000</td>\n",
              "      <td>0.000000</td>\n",
              "      <td>0.000000</td>\n",
              "      <td>0.000000</td>\n",
              "      <td>6.802350e+04</td>\n",
              "      <td>0.000000</td>\n",
              "      <td>0.000000</td>\n",
              "      <td>0.000000</td>\n",
              "      <td>12000.000000</td>\n",
              "      <td>12000.000000</td>\n",
              "      <td>0.000000e+00</td>\n",
              "      <td>1.000000</td>\n",
              "      <td>11.000000</td>\n",
              "      <td>366.370000</td>\n",
              "      <td>0.541000</td>\n",
              "      <td>0.000000</td>\n",
              "      <td>0.000000</td>\n",
              "      <td>1615.160000</td>\n",
              "      <td>685.000000</td>\n",
              "      <td>689.000000</td>\n",
              "      <td>0.000000</td>\n",
              "      <td>4.000000</td>\n",
              "      <td>5.000000</td>\n",
              "      <td>2.000000</td>\n",
              "      <td>3.000000</td>\n",
              "      <td>2.000000</td>\n",
              "      <td>2.000000</td>\n",
              "    </tr>\n",
              "    <tr>\n",
              "      <th>75%</th>\n",
              "      <td>0.158000</td>\n",
              "      <td>9.000000e+04</td>\n",
              "      <td>24.530000</td>\n",
              "      <td>0.000000</td>\n",
              "      <td>1.000000</td>\n",
              "      <td>0.000000</td>\n",
              "      <td>19540.000000</td>\n",
              "      <td>31.000000</td>\n",
              "      <td>0.000000</td>\n",
              "      <td>0.000000</td>\n",
              "      <td>0.000000</td>\n",
              "      <td>1.943098e+05</td>\n",
              "      <td>0.000000</td>\n",
              "      <td>0.000000</td>\n",
              "      <td>0.000000</td>\n",
              "      <td>19200.000000</td>\n",
              "      <td>19200.000000</td>\n",
              "      <td>0.000000e+00</td>\n",
              "      <td>1.000000</td>\n",
              "      <td>14.000000</td>\n",
              "      <td>575.860000</td>\n",
              "      <td>0.720000</td>\n",
              "      <td>0.000000</td>\n",
              "      <td>0.000000</td>\n",
              "      <td>3039.115000</td>\n",
              "      <td>705.000000</td>\n",
              "      <td>709.000000</td>\n",
              "      <td>1.000000</td>\n",
              "      <td>8.000000</td>\n",
              "      <td>6.000000</td>\n",
              "      <td>3.000000</td>\n",
              "      <td>3.000000</td>\n",
              "      <td>2.000000</td>\n",
              "      <td>7.000000</td>\n",
              "    </tr>\n",
              "    <tr>\n",
              "      <th>max</th>\n",
              "      <td>0.309900</td>\n",
              "      <td>8.300000e+06</td>\n",
              "      <td>49.930000</td>\n",
              "      <td>20.000000</td>\n",
              "      <td>6.000000</td>\n",
              "      <td>63.000000</td>\n",
              "      <td>971736.000000</td>\n",
              "      <td>176.000000</td>\n",
              "      <td>5.000000</td>\n",
              "      <td>6.000000</td>\n",
              "      <td>197765.000000</td>\n",
              "      <td>3.164353e+06</td>\n",
              "      <td>7.000000</td>\n",
              "      <td>94521.000000</td>\n",
              "      <td>63.000000</td>\n",
              "      <td>40000.000000</td>\n",
              "      <td>40000.000000</td>\n",
              "      <td>8.741700e+02</td>\n",
              "      <td>1.000000</td>\n",
              "      <td>82.000000</td>\n",
              "      <td>1584.900000</td>\n",
              "      <td>8.923000</td>\n",
              "      <td>2330.970000</td>\n",
              "      <td>2330.970000</td>\n",
              "      <td>28005.960000</td>\n",
              "      <td>845.000000</td>\n",
              "      <td>850.000000</td>\n",
              "      <td>1.000000</td>\n",
              "      <td>12.000000</td>\n",
              "      <td>6.000000</td>\n",
              "      <td>3.000000</td>\n",
              "      <td>14.000000</td>\n",
              "      <td>2.000000</td>\n",
              "      <td>11.000000</td>\n",
              "    </tr>\n",
              "  </tbody>\n",
              "</table>\n",
              "</div>\n",
              "      <button class=\"colab-df-convert\" onclick=\"convertToInteractive('df-bbc9bfb9-23cf-4d1e-a5b6-7494f69737ba')\"\n",
              "              title=\"Convert this dataframe to an interactive table.\"\n",
              "              style=\"display:none;\">\n",
              "        \n",
              "  <svg xmlns=\"http://www.w3.org/2000/svg\" height=\"24px\"viewBox=\"0 0 24 24\"\n",
              "       width=\"24px\">\n",
              "    <path d=\"M0 0h24v24H0V0z\" fill=\"none\"/>\n",
              "    <path d=\"M18.56 5.44l.94 2.06.94-2.06 2.06-.94-2.06-.94-.94-2.06-.94 2.06-2.06.94zm-11 1L8.5 8.5l.94-2.06 2.06-.94-2.06-.94L8.5 2.5l-.94 2.06-2.06.94zm10 10l.94 2.06.94-2.06 2.06-.94-2.06-.94-.94-2.06-.94 2.06-2.06.94z\"/><path d=\"M17.41 7.96l-1.37-1.37c-.4-.4-.92-.59-1.43-.59-.52 0-1.04.2-1.43.59L10.3 9.45l-7.72 7.72c-.78.78-.78 2.05 0 2.83L4 21.41c.39.39.9.59 1.41.59.51 0 1.02-.2 1.41-.59l7.78-7.78 2.81-2.81c.8-.78.8-2.07 0-2.86zM5.41 20L4 18.59l7.72-7.72 1.47 1.35L5.41 20z\"/>\n",
              "  </svg>\n",
              "      </button>\n",
              "      \n",
              "  <style>\n",
              "    .colab-df-container {\n",
              "      display:flex;\n",
              "      flex-wrap:wrap;\n",
              "      gap: 12px;\n",
              "    }\n",
              "\n",
              "    .colab-df-convert {\n",
              "      background-color: #E8F0FE;\n",
              "      border: none;\n",
              "      border-radius: 50%;\n",
              "      cursor: pointer;\n",
              "      display: none;\n",
              "      fill: #1967D2;\n",
              "      height: 32px;\n",
              "      padding: 0 0 0 0;\n",
              "      width: 32px;\n",
              "    }\n",
              "\n",
              "    .colab-df-convert:hover {\n",
              "      background-color: #E2EBFA;\n",
              "      box-shadow: 0px 1px 2px rgba(60, 64, 67, 0.3), 0px 1px 3px 1px rgba(60, 64, 67, 0.15);\n",
              "      fill: #174EA6;\n",
              "    }\n",
              "\n",
              "    [theme=dark] .colab-df-convert {\n",
              "      background-color: #3B4455;\n",
              "      fill: #D2E3FC;\n",
              "    }\n",
              "\n",
              "    [theme=dark] .colab-df-convert:hover {\n",
              "      background-color: #434B5C;\n",
              "      box-shadow: 0px 1px 3px 1px rgba(0, 0, 0, 0.15);\n",
              "      filter: drop-shadow(0px 1px 2px rgba(0, 0, 0, 0.3));\n",
              "      fill: #FFFFFF;\n",
              "    }\n",
              "  </style>\n",
              "\n",
              "      <script>\n",
              "        const buttonEl =\n",
              "          document.querySelector('#df-bbc9bfb9-23cf-4d1e-a5b6-7494f69737ba button.colab-df-convert');\n",
              "        buttonEl.style.display =\n",
              "          google.colab.kernel.accessAllowed ? 'block' : 'none';\n",
              "\n",
              "        async function convertToInteractive(key) {\n",
              "          const element = document.querySelector('#df-bbc9bfb9-23cf-4d1e-a5b6-7494f69737ba');\n",
              "          const dataTable =\n",
              "            await google.colab.kernel.invokeFunction('convertToInteractive',\n",
              "                                                     [key], {});\n",
              "          if (!dataTable) return;\n",
              "\n",
              "          const docLinkHtml = 'Like what you see? Visit the ' +\n",
              "            '<a target=\"_blank\" href=https://colab.research.google.com/notebooks/data_table.ipynb>data table notebook</a>'\n",
              "            + ' to learn more about interactive tables.';\n",
              "          element.innerHTML = '';\n",
              "          dataTable['output_type'] = 'display_data';\n",
              "          await google.colab.output.renderOutput(dataTable, element);\n",
              "          const docLink = document.createElement('div');\n",
              "          docLink.innerHTML = docLinkHtml;\n",
              "          element.appendChild(docLink);\n",
              "        }\n",
              "      </script>\n",
              "    </div>\n",
              "  </div>\n",
              "  "
            ],
            "text/plain": [
              "            int_rate    annual_inc  ...  initial_list_status  mths_since_last_delinq\n",
              "count  100000.000000  1.000000e+05  ...        100000.000000           100000.000000\n",
              "mean        0.130833  7.436061e+04  ...             1.565570                3.774040\n",
              "std         0.044773  7.467409e+04  ...             0.495684                3.410721\n",
              "min         0.053200  5.360000e+03  ...             1.000000                1.000000\n",
              "25%         0.097500  4.500000e+04  ...             1.000000                1.000000\n",
              "50%         0.127400  6.200000e+04  ...             2.000000                2.000000\n",
              "75%         0.158000  9.000000e+04  ...             2.000000                7.000000\n",
              "max         0.309900  8.300000e+06  ...             2.000000               11.000000\n",
              "\n",
              "[8 rows x 34 columns]"
            ]
          },
          "metadata": {},
          "execution_count": 307
        }
      ],
      "source": [
        "df.describe()"
      ]
    },
    {
      "cell_type": "code",
      "execution_count": 308,
      "metadata": {
        "colab": {
          "base_uri": "https://localhost:8080/",
          "height": 179
        },
        "id": "Pxj9WeWvKFnf",
        "outputId": "ac6300ec-d998-4ffd-ef16-086e991348c2"
      },
      "outputs": [
        {
          "output_type": "execute_result",
          "data": {
            "text/html": [
              "\n",
              "  <div id=\"df-7d102f5d-3301-45e2-975f-d63732ceba85\">\n",
              "    <div class=\"colab-df-container\">\n",
              "      <div>\n",
              "<style scoped>\n",
              "    .dataframe tbody tr th:only-of-type {\n",
              "        vertical-align: middle;\n",
              "    }\n",
              "\n",
              "    .dataframe tbody tr th {\n",
              "        vertical-align: top;\n",
              "    }\n",
              "\n",
              "    .dataframe thead th {\n",
              "        text-align: right;\n",
              "    }\n",
              "</style>\n",
              "<table border=\"1\" class=\"dataframe\">\n",
              "  <thead>\n",
              "    <tr style=\"text-align: right;\">\n",
              "      <th></th>\n",
              "      <th>int_rate</th>\n",
              "      <th>annual_inc</th>\n",
              "      <th>dti</th>\n",
              "      <th>delinq_2yrs</th>\n",
              "      <th>inq_last_6mths</th>\n",
              "      <th>pub_rec</th>\n",
              "      <th>revol_bal</th>\n",
              "      <th>total_acc</th>\n",
              "      <th>collections_12_mths_ex_med</th>\n",
              "      <th>acc_now_delinq</th>\n",
              "      <th>tot_coll_amt</th>\n",
              "      <th>tot_cur_bal</th>\n",
              "      <th>chargeoff_within_12_mths</th>\n",
              "      <th>delinq_amnt</th>\n",
              "      <th>tax_liens</th>\n",
              "      <th>funded_amnt</th>\n",
              "      <th>funded_amnt_inv</th>\n",
              "      <th>total_rec_late_fee</th>\n",
              "      <th>term1</th>\n",
              "      <th>open_acc</th>\n",
              "      <th>installment</th>\n",
              "      <th>revol_util</th>\n",
              "      <th>out_prncp</th>\n",
              "      <th>out_prncp_inv</th>\n",
              "      <th>total_rec_int</th>\n",
              "      <th>fico_range_low</th>\n",
              "      <th>fico_range_high</th>\n",
              "      <th>depvar</th>\n",
              "      <th>emp_length</th>\n",
              "      <th>home_ownership</th>\n",
              "      <th>verification_status</th>\n",
              "      <th>purpose</th>\n",
              "      <th>initial_list_status</th>\n",
              "      <th>mths_since_last_delinq</th>\n",
              "    </tr>\n",
              "  </thead>\n",
              "  <tbody>\n",
              "    <tr>\n",
              "      <th>Non-Null Count</th>\n",
              "      <td>0</td>\n",
              "      <td>0</td>\n",
              "      <td>0</td>\n",
              "      <td>0</td>\n",
              "      <td>0</td>\n",
              "      <td>0</td>\n",
              "      <td>0</td>\n",
              "      <td>0</td>\n",
              "      <td>0</td>\n",
              "      <td>0</td>\n",
              "      <td>0</td>\n",
              "      <td>0</td>\n",
              "      <td>0</td>\n",
              "      <td>0</td>\n",
              "      <td>0</td>\n",
              "      <td>0</td>\n",
              "      <td>0</td>\n",
              "      <td>0</td>\n",
              "      <td>0</td>\n",
              "      <td>0</td>\n",
              "      <td>0</td>\n",
              "      <td>0</td>\n",
              "      <td>0</td>\n",
              "      <td>0</td>\n",
              "      <td>0</td>\n",
              "      <td>0</td>\n",
              "      <td>0</td>\n",
              "      <td>0</td>\n",
              "      <td>0</td>\n",
              "      <td>0</td>\n",
              "      <td>0</td>\n",
              "      <td>0</td>\n",
              "      <td>0</td>\n",
              "      <td>0</td>\n",
              "    </tr>\n",
              "  </tbody>\n",
              "</table>\n",
              "</div>\n",
              "      <button class=\"colab-df-convert\" onclick=\"convertToInteractive('df-7d102f5d-3301-45e2-975f-d63732ceba85')\"\n",
              "              title=\"Convert this dataframe to an interactive table.\"\n",
              "              style=\"display:none;\">\n",
              "        \n",
              "  <svg xmlns=\"http://www.w3.org/2000/svg\" height=\"24px\"viewBox=\"0 0 24 24\"\n",
              "       width=\"24px\">\n",
              "    <path d=\"M0 0h24v24H0V0z\" fill=\"none\"/>\n",
              "    <path d=\"M18.56 5.44l.94 2.06.94-2.06 2.06-.94-2.06-.94-.94-2.06-.94 2.06-2.06.94zm-11 1L8.5 8.5l.94-2.06 2.06-.94-2.06-.94L8.5 2.5l-.94 2.06-2.06.94zm10 10l.94 2.06.94-2.06 2.06-.94-2.06-.94-.94-2.06-.94 2.06-2.06.94z\"/><path d=\"M17.41 7.96l-1.37-1.37c-.4-.4-.92-.59-1.43-.59-.52 0-1.04.2-1.43.59L10.3 9.45l-7.72 7.72c-.78.78-.78 2.05 0 2.83L4 21.41c.39.39.9.59 1.41.59.51 0 1.02-.2 1.41-.59l7.78-7.78 2.81-2.81c.8-.78.8-2.07 0-2.86zM5.41 20L4 18.59l7.72-7.72 1.47 1.35L5.41 20z\"/>\n",
              "  </svg>\n",
              "      </button>\n",
              "      \n",
              "  <style>\n",
              "    .colab-df-container {\n",
              "      display:flex;\n",
              "      flex-wrap:wrap;\n",
              "      gap: 12px;\n",
              "    }\n",
              "\n",
              "    .colab-df-convert {\n",
              "      background-color: #E8F0FE;\n",
              "      border: none;\n",
              "      border-radius: 50%;\n",
              "      cursor: pointer;\n",
              "      display: none;\n",
              "      fill: #1967D2;\n",
              "      height: 32px;\n",
              "      padding: 0 0 0 0;\n",
              "      width: 32px;\n",
              "    }\n",
              "\n",
              "    .colab-df-convert:hover {\n",
              "      background-color: #E2EBFA;\n",
              "      box-shadow: 0px 1px 2px rgba(60, 64, 67, 0.3), 0px 1px 3px 1px rgba(60, 64, 67, 0.15);\n",
              "      fill: #174EA6;\n",
              "    }\n",
              "\n",
              "    [theme=dark] .colab-df-convert {\n",
              "      background-color: #3B4455;\n",
              "      fill: #D2E3FC;\n",
              "    }\n",
              "\n",
              "    [theme=dark] .colab-df-convert:hover {\n",
              "      background-color: #434B5C;\n",
              "      box-shadow: 0px 1px 3px 1px rgba(0, 0, 0, 0.15);\n",
              "      filter: drop-shadow(0px 1px 2px rgba(0, 0, 0, 0.3));\n",
              "      fill: #FFFFFF;\n",
              "    }\n",
              "  </style>\n",
              "\n",
              "      <script>\n",
              "        const buttonEl =\n",
              "          document.querySelector('#df-7d102f5d-3301-45e2-975f-d63732ceba85 button.colab-df-convert');\n",
              "        buttonEl.style.display =\n",
              "          google.colab.kernel.accessAllowed ? 'block' : 'none';\n",
              "\n",
              "        async function convertToInteractive(key) {\n",
              "          const element = document.querySelector('#df-7d102f5d-3301-45e2-975f-d63732ceba85');\n",
              "          const dataTable =\n",
              "            await google.colab.kernel.invokeFunction('convertToInteractive',\n",
              "                                                     [key], {});\n",
              "          if (!dataTable) return;\n",
              "\n",
              "          const docLinkHtml = 'Like what you see? Visit the ' +\n",
              "            '<a target=\"_blank\" href=https://colab.research.google.com/notebooks/data_table.ipynb>data table notebook</a>'\n",
              "            + ' to learn more about interactive tables.';\n",
              "          element.innerHTML = '';\n",
              "          dataTable['output_type'] = 'display_data';\n",
              "          await google.colab.output.renderOutput(dataTable, element);\n",
              "          const docLink = document.createElement('div');\n",
              "          docLink.innerHTML = docLinkHtml;\n",
              "          element.appendChild(docLink);\n",
              "        }\n",
              "      </script>\n",
              "    </div>\n",
              "  </div>\n",
              "  "
            ],
            "text/plain": [
              "                int_rate  ...  mths_since_last_delinq\n",
              "Non-Null Count         0  ...                       0\n",
              "\n",
              "[1 rows x 34 columns]"
            ]
          },
          "metadata": {},
          "execution_count": 308
        }
      ],
      "source": [
        "# 결측치 확인\n",
        "pd.DataFrame(df.isnull().sum()).rename(columns={0:'Non-Null Count'}).T"
      ]
    },
    {
      "cell_type": "markdown",
      "metadata": {
        "id": "l167Qx7FqAKK"
      },
      "source": [
        "### 다중공선성 제거 시도"
      ]
    },
    {
      "cell_type": "code",
      "execution_count": 309,
      "metadata": {
        "id": "i6-umQ_q1pZn"
      },
      "outputs": [],
      "source": [
        "# open_acc 추가\n",
        "df = df.drop(['out_prncp_inv','funded_amnt_inv','fico_range_high','funded_amnt'],axis=1)"
      ]
    },
    {
      "cell_type": "code",
      "execution_count": 310,
      "metadata": {
        "colab": {
          "base_uri": "https://localhost:8080/",
          "height": 1000
        },
        "id": "TYXV8e78cDWr",
        "outputId": "c86914d5-0a1c-4177-d0c1-59d933639704"
      },
      "outputs": [
        {
          "output_type": "display_data",
          "data": {
            "image/png": "[encoded data removed]",
            "text/plain": [
              "<Figure size 2880x2880 with 2 Axes>"
            ]
          },
          "metadata": {
            "needs_background": "light"
          }
        }
      ],
      "source": [
        "plt.figure(figsize = (40,40))\n",
        "sns.heatmap(df.corr(), annot=True, cmap='Blues')\n",
        "plt.show()"
      ]
    },
    {
      "cell_type": "code",
      "execution_count": 311,
      "metadata": {
        "colab": {
          "base_uri": "https://localhost:8080/",
          "height": 54
        },
        "id": "QR0YQK5NlCE-",
        "outputId": "ee239722-3133-45b3-cb4c-1fe5798ffb4d"
      },
      "outputs": [
        {
          "output_type": "execute_result",
          "data": {
            "text/plain": [
              "<Figure size 720x720 with 0 Axes>"
            ]
          },
          "metadata": {},
          "execution_count": 311
        },
        {
          "output_type": "display_data",
          "data": {
            "text/plain": [
              "<Figure size 720x720 with 0 Axes>"
            ]
          },
          "metadata": {}
        }
      ],
      "source": [
        "plt.figure(figsize = (10,10))"
      ]
    },
    {
      "cell_type": "code",
      "execution_count": 312,
      "metadata": {
        "colab": {
          "base_uri": "https://localhost:8080/",
          "height": 990
        },
        "id": "IeW-h3iIg-E-",
        "outputId": "3886cac4-4107-45a8-ba7f-180bb3d44efe"
      },
      "outputs": [
        {
          "output_type": "execute_result",
          "data": {
            "text/html": [
              "\n",
              "  <div id=\"df-7f925dd8-8028-41ac-badc-0605dea9759c\">\n",
              "    <div class=\"colab-df-container\">\n",
              "      <div>\n",
              "<style scoped>\n",
              "    .dataframe tbody tr th:only-of-type {\n",
              "        vertical-align: middle;\n",
              "    }\n",
              "\n",
              "    .dataframe tbody tr th {\n",
              "        vertical-align: top;\n",
              "    }\n",
              "\n",
              "    .dataframe thead th {\n",
              "        text-align: right;\n",
              "    }\n",
              "</style>\n",
              "<table border=\"1\" class=\"dataframe\">\n",
              "  <thead>\n",
              "    <tr style=\"text-align: right;\">\n",
              "      <th></th>\n",
              "      <th>VIF Factor</th>\n",
              "      <th>features</th>\n",
              "    </tr>\n",
              "  </thead>\n",
              "  <tbody>\n",
              "    <tr>\n",
              "      <th>0</th>\n",
              "      <td>16.805709</td>\n",
              "      <td>int_rate</td>\n",
              "    </tr>\n",
              "    <tr>\n",
              "      <th>1</th>\n",
              "      <td>2.597910</td>\n",
              "      <td>annual_inc</td>\n",
              "    </tr>\n",
              "    <tr>\n",
              "      <th>2</th>\n",
              "      <td>7.539042</td>\n",
              "      <td>dti</td>\n",
              "    </tr>\n",
              "    <tr>\n",
              "      <th>3</th>\n",
              "      <td>1.245751</td>\n",
              "      <td>delinq_2yrs</td>\n",
              "    </tr>\n",
              "    <tr>\n",
              "      <th>4</th>\n",
              "      <td>1.719002</td>\n",
              "      <td>inq_last_6mths</td>\n",
              "    </tr>\n",
              "    <tr>\n",
              "      <th>5</th>\n",
              "      <td>2.599549</td>\n",
              "      <td>pub_rec</td>\n",
              "    </tr>\n",
              "    <tr>\n",
              "      <th>6</th>\n",
              "      <td>2.272210</td>\n",
              "      <td>revol_bal</td>\n",
              "    </tr>\n",
              "    <tr>\n",
              "      <th>7</th>\n",
              "      <td>12.042296</td>\n",
              "      <td>total_acc</td>\n",
              "    </tr>\n",
              "    <tr>\n",
              "      <th>8</th>\n",
              "      <td>1.029173</td>\n",
              "      <td>collections_12_mths_ex_med</td>\n",
              "    </tr>\n",
              "    <tr>\n",
              "      <th>9</th>\n",
              "      <td>1.050148</td>\n",
              "      <td>acc_now_delinq</td>\n",
              "    </tr>\n",
              "    <tr>\n",
              "      <th>10</th>\n",
              "      <td>1.028090</td>\n",
              "      <td>tot_coll_amt</td>\n",
              "    </tr>\n",
              "    <tr>\n",
              "      <th>11</th>\n",
              "      <td>3.303044</td>\n",
              "      <td>tot_cur_bal</td>\n",
              "    </tr>\n",
              "    <tr>\n",
              "      <th>12</th>\n",
              "      <td>1.034181</td>\n",
              "      <td>chargeoff_within_12_mths</td>\n",
              "    </tr>\n",
              "    <tr>\n",
              "      <th>13</th>\n",
              "      <td>1.022681</td>\n",
              "      <td>delinq_amnt</td>\n",
              "    </tr>\n",
              "    <tr>\n",
              "      <th>14</th>\n",
              "      <td>2.290743</td>\n",
              "      <td>tax_liens</td>\n",
              "    </tr>\n",
              "    <tr>\n",
              "      <th>15</th>\n",
              "      <td>1.077741</td>\n",
              "      <td>total_rec_late_fee</td>\n",
              "    </tr>\n",
              "    <tr>\n",
              "      <th>16</th>\n",
              "      <td>12.443142</td>\n",
              "      <td>term1</td>\n",
              "    </tr>\n",
              "    <tr>\n",
              "      <th>17</th>\n",
              "      <td>12.136611</td>\n",
              "      <td>open_acc</td>\n",
              "    </tr>\n",
              "    <tr>\n",
              "      <th>18</th>\n",
              "      <td>7.606115</td>\n",
              "      <td>installment</td>\n",
              "    </tr>\n",
              "    <tr>\n",
              "      <th>19</th>\n",
              "      <td>7.511637</td>\n",
              "      <td>revol_util</td>\n",
              "    </tr>\n",
              "    <tr>\n",
              "      <th>20</th>\n",
              "      <td>1.001169</td>\n",
              "      <td>out_prncp</td>\n",
              "    </tr>\n",
              "    <tr>\n",
              "      <th>21</th>\n",
              "      <td>5.312800</td>\n",
              "      <td>total_rec_int</td>\n",
              "    </tr>\n",
              "    <tr>\n",
              "      <th>22</th>\n",
              "      <td>54.020948</td>\n",
              "      <td>fico_range_low</td>\n",
              "    </tr>\n",
              "    <tr>\n",
              "      <th>23</th>\n",
              "      <td>1.730622</td>\n",
              "      <td>depvar</td>\n",
              "    </tr>\n",
              "    <tr>\n",
              "      <th>24</th>\n",
              "      <td>3.117937</td>\n",
              "      <td>emp_length</td>\n",
              "    </tr>\n",
              "    <tr>\n",
              "      <th>25</th>\n",
              "      <td>7.458940</td>\n",
              "      <td>home_ownership</td>\n",
              "    </tr>\n",
              "    <tr>\n",
              "      <th>26</th>\n",
              "      <td>8.303451</td>\n",
              "      <td>verification_status</td>\n",
              "    </tr>\n",
              "    <tr>\n",
              "      <th>27</th>\n",
              "      <td>3.807155</td>\n",
              "      <td>purpose</td>\n",
              "    </tr>\n",
              "    <tr>\n",
              "      <th>28</th>\n",
              "      <td>11.384872</td>\n",
              "      <td>initial_list_status</td>\n",
              "    </tr>\n",
              "    <tr>\n",
              "      <th>29</th>\n",
              "      <td>2.329973</td>\n",
              "      <td>mths_since_last_delinq</td>\n",
              "    </tr>\n",
              "  </tbody>\n",
              "</table>\n",
              "</div>\n",
              "      <button class=\"colab-df-convert\" onclick=\"convertToInteractive('df-7f925dd8-8028-41ac-badc-0605dea9759c')\"\n",
              "              title=\"Convert this dataframe to an interactive table.\"\n",
              "              style=\"display:none;\">\n",
              "        \n",
              "  <svg xmlns=\"http://www.w3.org/2000/svg\" height=\"24px\"viewBox=\"0 0 24 24\"\n",
              "       width=\"24px\">\n",
              "    <path d=\"M0 0h24v24H0V0z\" fill=\"none\"/>\n",
              "    <path d=\"M18.56 5.44l.94 2.06.94-2.06 2.06-.94-2.06-.94-.94-2.06-.94 2.06-2.06.94zm-11 1L8.5 8.5l.94-2.06 2.06-.94-2.06-.94L8.5 2.5l-.94 2.06-2.06.94zm10 10l.94 2.06.94-2.06 2.06-.94-2.06-.94-.94-2.06-.94 2.06-2.06.94z\"/><path d=\"M17.41 7.96l-1.37-1.37c-.4-.4-.92-.59-1.43-.59-.52 0-1.04.2-1.43.59L10.3 9.45l-7.72 7.72c-.78.78-.78 2.05 0 2.83L4 21.41c.39.39.9.59 1.41.59.51 0 1.02-.2 1.41-.59l7.78-7.78 2.81-2.81c.8-.78.8-2.07 0-2.86zM5.41 20L4 18.59l7.72-7.72 1.47 1.35L5.41 20z\"/>\n",
              "  </svg>\n",
              "      </button>\n",
              "      \n",
              "  <style>\n",
              "    .colab-df-container {\n",
              "      display:flex;\n",
              "      flex-wrap:wrap;\n",
              "      gap: 12px;\n",
              "    }\n",
              "\n",
              "    .colab-df-convert {\n",
              "      background-color: #E8F0FE;\n",
              "      border: none;\n",
              "      border-radius: 50%;\n",
              "      cursor: pointer;\n",
              "      display: none;\n",
              "      fill: #1967D2;\n",
              "      height: 32px;\n",
              "      padding: 0 0 0 0;\n",
              "      width: 32px;\n",
              "    }\n",
              "\n",
              "    .colab-df-convert:hover {\n",
              "      background-color: #E2EBFA;\n",
              "      box-shadow: 0px 1px 2px rgba(60, 64, 67, 0.3), 0px 1px 3px 1px rgba(60, 64, 67, 0.15);\n",
              "      fill: #174EA6;\n",
              "    }\n",
              "\n",
              "    [theme=dark] .colab-df-convert {\n",
              "      background-color: #3B4455;\n",
              "      fill: #D2E3FC;\n",
              "    }\n",
              "\n",
              "    [theme=dark] .colab-df-convert:hover {\n",
              "      background-color: #434B5C;\n",
              "      box-shadow: 0px 1px 3px 1px rgba(0, 0, 0, 0.15);\n",
              "      filter: drop-shadow(0px 1px 2px rgba(0, 0, 0, 0.3));\n",
              "      fill: #FFFFFF;\n",
              "    }\n",
              "  </style>\n",
              "\n",
              "      <script>\n",
              "        const buttonEl =\n",
              "          document.querySelector('#df-7f925dd8-8028-41ac-badc-0605dea9759c button.colab-df-convert');\n",
              "        buttonEl.style.display =\n",
              "          google.colab.kernel.accessAllowed ? 'block' : 'none';\n",
              "\n",
              "        async function convertToInteractive(key) {\n",
              "          const element = document.querySelector('#df-7f925dd8-8028-41ac-badc-0605dea9759c');\n",
              "          const dataTable =\n",
              "            await google.colab.kernel.invokeFunction('convertToInteractive',\n",
              "                                                     [key], {});\n",
              "          if (!dataTable) return;\n",
              "\n",
              "          const docLinkHtml = 'Like what you see? Visit the ' +\n",
              "            '<a target=\"_blank\" href=https://colab.research.google.com/notebooks/data_table.ipynb>data table notebook</a>'\n",
              "            + ' to learn more about interactive tables.';\n",
              "          element.innerHTML = '';\n",
              "          dataTable['output_type'] = 'display_data';\n",
              "          await google.colab.output.renderOutput(dataTable, element);\n",
              "          const docLink = document.createElement('div');\n",
              "          docLink.innerHTML = docLinkHtml;\n",
              "          element.appendChild(docLink);\n",
              "        }\n",
              "      </script>\n",
              "    </div>\n",
              "  </div>\n",
              "  "
            ],
            "text/plain": [
              "    VIF Factor                    features\n",
              "0    16.805709                    int_rate\n",
              "1     2.597910                  annual_inc\n",
              "2     7.539042                         dti\n",
              "3     1.245751                 delinq_2yrs\n",
              "4     1.719002              inq_last_6mths\n",
              "5     2.599549                     pub_rec\n",
              "6     2.272210                   revol_bal\n",
              "7    12.042296                   total_acc\n",
              "8     1.029173  collections_12_mths_ex_med\n",
              "9     1.050148              acc_now_delinq\n",
              "10    1.028090                tot_coll_amt\n",
              "11    3.303044                 tot_cur_bal\n",
              "12    1.034181    chargeoff_within_12_mths\n",
              "13    1.022681                 delinq_amnt\n",
              "14    2.290743                   tax_liens\n",
              "15    1.077741          total_rec_late_fee\n",
              "16   12.443142                       term1\n",
              "17   12.136611                    open_acc\n",
              "18    7.606115                 installment\n",
              "19    7.511637                  revol_util\n",
              "20    1.001169                   out_prncp\n",
              "21    5.312800               total_rec_int\n",
              "22   54.020948              fico_range_low\n",
              "23    1.730622                      depvar\n",
              "24    3.117937                  emp_length\n",
              "25    7.458940              home_ownership\n",
              "26    8.303451         verification_status\n",
              "27    3.807155                     purpose\n",
              "28   11.384872         initial_list_status\n",
              "29    2.329973      mths_since_last_delinq"
            ]
          },
          "metadata": {},
          "execution_count": 312
        }
      ],
      "source": [
        "from statsmodels.stats.outliers_influence import variance_inflation_factor\n",
        "\n",
        "vif = pd.DataFrame()\n",
        "vif[\"VIF Factor\"] = [variance_inflation_factor(\n",
        "    df.values, i) for i in range(df.shape[1])]\n",
        "vif[\"features\"] = df.columns\n",
        "vif"
      ]
    },
    {
      "cell_type": "code",
      "execution_count": 313,
      "metadata": {
        "colab": {
          "base_uri": "https://localhost:8080/",
          "height": 238
        },
        "id": "M9SfmJULhXEI",
        "outputId": "902c3ff6-0b97-4761-d9aa-16bba86539a1"
      },
      "outputs": [
        {
          "output_type": "execute_result",
          "data": {
            "text/html": [
              "\n",
              "  <div id=\"df-b59d3818-0a2b-4d4a-8630-2d000a5707db\">\n",
              "    <div class=\"colab-df-container\">\n",
              "      <div>\n",
              "<style scoped>\n",
              "    .dataframe tbody tr th:only-of-type {\n",
              "        vertical-align: middle;\n",
              "    }\n",
              "\n",
              "    .dataframe tbody tr th {\n",
              "        vertical-align: top;\n",
              "    }\n",
              "\n",
              "    .dataframe thead th {\n",
              "        text-align: right;\n",
              "    }\n",
              "</style>\n",
              "<table border=\"1\" class=\"dataframe\">\n",
              "  <thead>\n",
              "    <tr style=\"text-align: right;\">\n",
              "      <th></th>\n",
              "      <th>VIF Factor</th>\n",
              "      <th>features</th>\n",
              "    </tr>\n",
              "  </thead>\n",
              "  <tbody>\n",
              "    <tr>\n",
              "      <th>22</th>\n",
              "      <td>54.020948</td>\n",
              "      <td>fico_range_low</td>\n",
              "    </tr>\n",
              "    <tr>\n",
              "      <th>0</th>\n",
              "      <td>16.805709</td>\n",
              "      <td>int_rate</td>\n",
              "    </tr>\n",
              "    <tr>\n",
              "      <th>16</th>\n",
              "      <td>12.443142</td>\n",
              "      <td>term1</td>\n",
              "    </tr>\n",
              "    <tr>\n",
              "      <th>17</th>\n",
              "      <td>12.136611</td>\n",
              "      <td>open_acc</td>\n",
              "    </tr>\n",
              "    <tr>\n",
              "      <th>7</th>\n",
              "      <td>12.042296</td>\n",
              "      <td>total_acc</td>\n",
              "    </tr>\n",
              "    <tr>\n",
              "      <th>28</th>\n",
              "      <td>11.384872</td>\n",
              "      <td>initial_list_status</td>\n",
              "    </tr>\n",
              "  </tbody>\n",
              "</table>\n",
              "</div>\n",
              "      <button class=\"colab-df-convert\" onclick=\"convertToInteractive('df-b59d3818-0a2b-4d4a-8630-2d000a5707db')\"\n",
              "              title=\"Convert this dataframe to an interactive table.\"\n",
              "              style=\"display:none;\">\n",
              "        \n",
              "  <svg xmlns=\"http://www.w3.org/2000/svg\" height=\"24px\"viewBox=\"0 0 24 24\"\n",
              "       width=\"24px\">\n",
              "    <path d=\"M0 0h24v24H0V0z\" fill=\"none\"/>\n",
              "    <path d=\"M18.56 5.44l.94 2.06.94-2.06 2.06-.94-2.06-.94-.94-2.06-.94 2.06-2.06.94zm-11 1L8.5 8.5l.94-2.06 2.06-.94-2.06-.94L8.5 2.5l-.94 2.06-2.06.94zm10 10l.94 2.06.94-2.06 2.06-.94-2.06-.94-.94-2.06-.94 2.06-2.06.94z\"/><path d=\"M17.41 7.96l-1.37-1.37c-.4-.4-.92-.59-1.43-.59-.52 0-1.04.2-1.43.59L10.3 9.45l-7.72 7.72c-.78.78-.78 2.05 0 2.83L4 21.41c.39.39.9.59 1.41.59.51 0 1.02-.2 1.41-.59l7.78-7.78 2.81-2.81c.8-.78.8-2.07 0-2.86zM5.41 20L4 18.59l7.72-7.72 1.47 1.35L5.41 20z\"/>\n",
              "  </svg>\n",
              "      </button>\n",
              "      \n",
              "  <style>\n",
              "    .colab-df-container {\n",
              "      display:flex;\n",
              "      flex-wrap:wrap;\n",
              "      gap: 12px;\n",
              "    }\n",
              "\n",
              "    .colab-df-convert {\n",
              "      background-color: #E8F0FE;\n",
              "      border: none;\n",
              "      border-radius: 50%;\n",
              "      cursor: pointer;\n",
              "      display: none;\n",
              "      fill: #1967D2;\n",
              "      height: 32px;\n",
              "      padding: 0 0 0 0;\n",
              "      width: 32px;\n",
              "    }\n",
              "\n",
              "    .colab-df-convert:hover {\n",
              "      background-color: #E2EBFA;\n",
              "      box-shadow: 0px 1px 2px rgba(60, 64, 67, 0.3), 0px 1px 3px 1px rgba(60, 64, 67, 0.15);\n",
              "      fill: #174EA6;\n",
              "    }\n",
              "\n",
              "    [theme=dark] .colab-df-convert {\n",
              "      background-color: #3B4455;\n",
              "      fill: #D2E3FC;\n",
              "    }\n",
              "\n",
              "    [theme=dark] .colab-df-convert:hover {\n",
              "      background-color: #434B5C;\n",
              "      box-shadow: 0px 1px 3px 1px rgba(0, 0, 0, 0.15);\n",
              "      filter: drop-shadow(0px 1px 2px rgba(0, 0, 0, 0.3));\n",
              "      fill: #FFFFFF;\n",
              "    }\n",
              "  </style>\n",
              "\n",
              "      <script>\n",
              "        const buttonEl =\n",
              "          document.querySelector('#df-b59d3818-0a2b-4d4a-8630-2d000a5707db button.colab-df-convert');\n",
              "        buttonEl.style.display =\n",
              "          google.colab.kernel.accessAllowed ? 'block' : 'none';\n",
              "\n",
              "        async function convertToInteractive(key) {\n",
              "          const element = document.querySelector('#df-b59d3818-0a2b-4d4a-8630-2d000a5707db');\n",
              "          const dataTable =\n",
              "            await google.colab.kernel.invokeFunction('convertToInteractive',\n",
              "                                                     [key], {});\n",
              "          if (!dataTable) return;\n",
              "\n",
              "          const docLinkHtml = 'Like what you see? Visit the ' +\n",
              "            '<a target=\"_blank\" href=https://colab.research.google.com/notebooks/data_table.ipynb>data table notebook</a>'\n",
              "            + ' to learn more about interactive tables.';\n",
              "          element.innerHTML = '';\n",
              "          dataTable['output_type'] = 'display_data';\n",
              "          await google.colab.output.renderOutput(dataTable, element);\n",
              "          const docLink = document.createElement('div');\n",
              "          docLink.innerHTML = docLinkHtml;\n",
              "          element.appendChild(docLink);\n",
              "        }\n",
              "      </script>\n",
              "    </div>\n",
              "  </div>\n",
              "  "
            ],
            "text/plain": [
              "    VIF Factor             features\n",
              "22   54.020948       fico_range_low\n",
              "0    16.805709             int_rate\n",
              "16   12.443142                term1\n",
              "17   12.136611             open_acc\n",
              "7    12.042296            total_acc\n",
              "28   11.384872  initial_list_status"
            ]
          },
          "metadata": {},
          "execution_count": 313
        }
      ],
      "source": [
        "vif[vif[\"VIF Factor\"] > 10].sort_values('VIF Factor',ascending=False)"
      ]
    },
    {
      "cell_type": "code",
      "execution_count": 314,
      "metadata": {
        "colab": {
          "base_uri": "https://localhost:8080/"
        },
        "id": "ye4MxNgThkAw",
        "outputId": "0ebadc2e-4919-4b5d-cd8d-d516154e9149"
      },
      "outputs": [
        {
          "output_type": "stream",
          "name": "stdout",
          "text": [
            "int_rate 0.27794396446258884\n",
            "total_acc -0.009060165120316578\n",
            "term1 -0.13018530497821956\n",
            "open_acc 0.026434878843903883\n",
            "fico_range_low -0.15584008634806276\n",
            "initial_list_status -0.04451497756271098\n"
          ]
        }
      ],
      "source": [
        "for column in vif[vif[\"VIF Factor\"] > 10]['features']:\n",
        "    print(column, df[column].corr(df['depvar']))"
      ]
    },
    {
      "cell_type": "code",
      "execution_count": 315,
      "metadata": {
        "colab": {
          "base_uri": "https://localhost:8080/"
        },
        "id": "OgE0JYkytNXw",
        "outputId": "f8292fd2-1fa4-4dda-f350-80e3c8e522ca"
      },
      "outputs": [
        {
          "output_type": "stream",
          "name": "stdout",
          "text": [
            "y=1 ratio : 0.32569\n"
          ]
        }
      ],
      "source": [
        "# 라벨(depvar) 비율 확인\n",
        "print('y=1 ratio :', df.depvar.sum()/len(df))"
      ]
    },
    {
      "cell_type": "code",
      "execution_count": 316,
      "metadata": {
        "id": "o3n8rlBFtNXy"
      },
      "outputs": [],
      "source": [
        "X = df.drop('depvar', axis=1)\n",
        "y = df['depvar']"
      ]
    },
    {
      "cell_type": "markdown",
      "metadata": {
        "id": "U9jw-pcptNXy"
      },
      "source": [
        "# Train Valid Split"
      ]
    },
    {
      "cell_type": "code",
      "execution_count": 317,
      "metadata": {
        "id": "j0yMaESktNXz"
      },
      "outputs": [],
      "source": [
        "# data를 training set과 validation set으로 나누기\n",
        "X_train, X_valid, y_train, y_valid = train_test_split(X, y, test_size=0.2)"
      ]
    },
    {
      "cell_type": "code",
      "execution_count": 318,
      "metadata": {
        "colab": {
          "base_uri": "https://localhost:8080/"
        },
        "id": "cfEJdRgHtNXz",
        "outputId": "a435257b-6291-40a2-8895-3d5954b38dbf"
      },
      "outputs": [
        {
          "output_type": "stream",
          "name": "stdout",
          "text": [
            "training set length : 80000\n",
            "validation set length : 20000\n"
          ]
        }
      ],
      "source": [
        "# training set과 validation set의 데이터 수 확인\n",
        "print('training set length :', len(X_train))\n",
        "print('validation set length :', len(X_valid))"
      ]
    },
    {
      "cell_type": "code",
      "execution_count": 319,
      "metadata": {
        "colab": {
          "base_uri": "https://localhost:8080/"
        },
        "id": "OFeX02z6tNXz",
        "outputId": "93eafb0c-2353-4278-d404-40d78110af3a"
      },
      "outputs": [
        {
          "output_type": "execute_result",
          "data": {
            "text/plain": [
              "0.3269"
            ]
          },
          "metadata": {},
          "execution_count": 319
        }
      ],
      "source": [
        "# validation set의 라벨 비율 확인\n",
        "y_valid.sum()/len(y_valid)"
      ]
    },
    {
      "cell_type": "markdown",
      "metadata": {
        "id": "619L5g_G1uax"
      },
      "source": [
        "### Robust scaler(median & IQR) -> StandardScaler로 변경"
      ]
    },
    {
      "cell_type": "code",
      "execution_count": 320,
      "metadata": {
        "colab": {
          "base_uri": "https://localhost:8080/"
        },
        "id": "7MtAM3y9yyE8",
        "outputId": "f82220ac-e512-4663-bcca-00145814e93a"
      },
      "outputs": [
        {
          "output_type": "stream",
          "name": "stdout",
          "text": [
            "RobustScaler()\n"
          ]
        }
      ],
      "source": [
        "from sklearn.preprocessing import RobustScaler\n",
        "sc = RobustScaler()\n",
        "print(sc.fit(X_train))\n",
        "X_train_scaled = sc.transform(X_train)\n",
        "X_valid_scaled = sc.transform(X_valid)\n",
        "\n",
        "X_train = pd.DataFrame(X_train_scaled, index=X_train.index, columns=X_train.columns)\n",
        "X_valid = pd.DataFrame(X_valid_scaled, index=X_valid.index, columns=X_valid.columns)"
      ]
    },
    {
      "cell_type": "markdown",
      "metadata": {
        "id": "EKUGjaLDzHLS"
      },
      "source": [
        "### Oversampling Undersampling"
      ]
    },
    {
      "cell_type": "code",
      "execution_count": 321,
      "metadata": {
        "id": "5DXvTkMBNy32"
      },
      "outputs": [],
      "source": [
        "from imblearn.under_sampling import TomekLinks\n",
        "from imblearn.over_sampling import SMOTE"
      ]
    },
    {
      "cell_type": "code",
      "execution_count": 322,
      "metadata": {
        "id": "2RdQjLdhN031"
      },
      "outputs": [],
      "source": [
        "X_train_tomek, y_train_tomek = TomekLinks().fit_resample(X_train, y_train)"
      ]
    },
    {
      "cell_type": "code",
      "execution_count": 323,
      "metadata": {
        "id": "IaF7jYEV3dJz"
      },
      "outputs": [],
      "source": [
        "X_train_smote, y_train_smote = SMOTE().fit_resample(X_train, y_train)"
      ]
    },
    {
      "cell_type": "markdown",
      "metadata": {
        "id": "i4qJsie7tNX0"
      },
      "source": [
        "# Single Model(XGBoost)\n",
        "## XGBClassifier의 하이퍼 파라미터 설명\n",
        "- **LINK** : https://xgboost.readthedocs.io/en/stable/python/python_api.html#xgboost.XGBClassifier\n",
        "- **max_depth=3** : 디시전 트리의 최대 깊이\n",
        "- **learning_rate=0.1** : 0과 1 사이의 값을 가지는 부스팅에 대한 학습률(eta). 매 부스팅 단계 이후 새로이 추가된 가중치는 이 파라미터로 조정된다. 이 값이 낮을수록 보수적이며, 수렴에 필요한 더 많은 디시전 트리가 필요하다.\n",
        "- **n_estimators=100** : 라운드의 횟수 또는 부스팅된 디시전 트리의 개수\n",
        "- **silent=True** : 부스팅의 수행 동안 메시지를 출력할지에 대한 여부\n",
        "- **objective=\"reg:linear\"** : 모델이 학습할 작업의 분류, 미리 정의된 작업은 문자열로 지정이 가능하지만, 그렇지 않은 경우 콜러블callable을 만들어서 지정할 수도 있다.\n",
        "- **booster=\"gbtree\"** : 'gbtree', 'gblinear', 'dart'일 수 있다. 'dart'는 드롭아웃(dropout)이라는 특성을 추가한다(과적합 방지를 위해 무작위로 디시전 트리를 선택해 제거(드롭)한다). 'gblinear'는 정규화된 선형 모델을 만든다(디시전 트리가 아니라 라소 회귀와 유사하다).\n",
        "- **nthread=None** : 더 이상 사용되지 않는다.\n",
        "- **n_jobs** : 사용할 스레드의 개수\n",
        "- **gamma=0** : 노드 분할에 필요한 최소 손실 감소\n",
        "- **min_child_weight=1** : 자식 노드 생성에 필요한 헤시안(hessian) 합의 최솟값\n",
        "- **max_delta_step=0** : 보다 보수적으로 갱신을 수행하도록 만드는 값. 불균형 범주의 데이터셋에 대해서는 1부터 10까지의 값으로 설정한다.\n",
        "- **subsample=1** : 부스팅에 사용할 샘플의 비율\n",
        "- **colsample_bytree=1** : 부스팅에 사용할 특징 열의 비율\n",
        "- **colsample_bylevel=1** : 각 디시전 트리의 수준별 사용할 특징 열의 비율\n",
        "- **colsample_bynode=1** : 각 디시전 트리의 노드별 사용할 특징 열의 비율\n",
        "- **reg_alpha=0** : L1 정규화(가중치의 평균). 이 값이 클수록 보수적이게 된다.\n",
        "- **reg_lambda=1** : L2 정규화(가중치의 제곱근). 이 값이 클수록 보수적이게 된다.\n",
        "- **base_score=.5** : 초기 편향치(bias)\n",
        "- **seed=None** : 더 이상 사용되지 않는다.\n",
        "- **random_state=0** : 난수 생성 시드\n",
        "- **missing=None** : 누락된 데이터가 해석될 값. None은 np.nan을 의미한다.\n",
        "- **importance_type='gain'** : 특징 중요도의 유형. 'gain', 'weight', 'cover', 'total_gain', 'total_cover'로 설정될 수 있다."
      ]
    },
    {
      "cell_type": "code",
      "execution_count": 324,
      "metadata": {
        "id": "W4jFuDdZG9mX"
      },
      "outputs": [],
      "source": [
        "# # 하이퍼 파라미터 튜닝\n",
        "# xgb_clf = xgboost.XGBClassifier()\n",
        "\n",
        "# param_grid = {'max_depth':[10], # 20 < 15 < 10\n",
        "#               'n_estimators':[300, 400], # 100 < 150 < 160 < 170 < 180 < 200 < 300\n",
        "#               #learning rate는 0.1이 0.001보다 높음\n",
        "#               }\n",
        "\n",
        "# cv=RepeatedStratifiedKFold(n_splits=10, n_repeats=3) #n_repeats=2\n",
        "\n",
        "# # grid_search = GridSearchCV(estimator=xgb_clf,\n",
        "# #                            param_grid=param_grid, \n",
        "# #                            n_jobs=-1,\n",
        "# #                            cv=cv,\n",
        "# #                            scoring='f1_macro', \n",
        "# #                            error_score=0) \n",
        "\n",
        "# n_estimators = [int(x) for x in range(300, 400, 5)]\n",
        "# max_features = ['log2','sqrt']\n",
        "# max_depth = [int(x) for x in range(5, 15)]\n",
        "# min_samples_split = [2, 5, 10]\n",
        "# min_samples_leaf = [1, 2, 4]\n",
        "# bootstrap = [True, False]\n",
        "\n",
        "# random_grid = {'n_estimators': n_estimators,\n",
        "#                'max_features': max_features,\n",
        "#                'max_depth': max_depth,\n",
        "#                'min_samples_split': min_samples_split,\n",
        "#                'min_samples_leaf':min_samples_leaf,\n",
        "#                'bootstrap':bootstrap}\n",
        "\n",
        "# rnd_search = RandomizedSearchCV(estimator=xgb_clf,\n",
        "#                            param_distributions=random_grid,\n",
        "#                            n_iter=50,\n",
        "#                            n_jobs=-1,\n",
        "#                            cv=cv,\n",
        "#                            scoring='f1_macro', \n",
        "#                            verbose=3,\n",
        "#                            error_score=0,\n",
        "#                            random_state=42)\n",
        "\n",
        "# results=rnd_search.fit(X_train, y_train)\n",
        "\n",
        "# results.best_params_"
      ]
    },
    {
      "cell_type": "code",
      "execution_count": 325,
      "metadata": {
        "id": "7JcFCUqpG9o2"
      },
      "outputs": [],
      "source": [
        "# best parameter를 사용하여 prediction 수행\n",
        "xgb_clf_tomek = xgboost.XGBClassifier(max_depth = 10,\n",
        "                                n_estimators = 400 #300\n",
        "                                  )\n",
        "\n",
        "xgb_clf_smote = xgboost.XGBClassifier(max_depth = 10,\n",
        "                                n_estimators = 400 #300\n",
        "                                  )\n",
        "\n",
        "# xgb_clf_tomek = xgboost.XGBClassifier(max_depth = results.best_params_['max_depth'],\n",
        "#                                 n_estimators = results.best_params_['n_estimators'],\n",
        "#                                 max_features = results.best_params_['max_features'],\n",
        "#                                 min_samples_split = results.best_params_['min_samples_split'],\n",
        "#                                 min_samples_leaf = results.best_params_['min_samples_leaf'],\n",
        "#                                 bootstrap = results.best_params_['bootstrap'],\n",
        "#                                 eval_metric='mlogloss',\n",
        "#                                 # tree_method='gpu_hist',\n",
        "#                                 # predictor='gpu_predictor'\n",
        "#                                 )\n",
        "\n",
        "# xgb_clf_smote = xgboost.XGBClassifier(max_depth = results.best_params_['max_depth'],\n",
        "#                                 n_estimators = results.best_params_['n_estimators'],\n",
        "#                                 max_features = results.best_params_['max_features'],\n",
        "#                                 min_samples_split = results.best_params_['min_samples_split'],\n",
        "#                                 min_samples_leaf = results.best_params_['min_samples_leaf'],\n",
        "#                                 bootstrap = results.best_params_['bootstrap'],\n",
        "#                                 eval_metric='mlogloss',\n",
        "#                                 # tree_method='gpu_hist',\n",
        "#                                 # predictor='gpu_predictor'\n",
        "#                                 )\n",
        "\n",
        "xgb_clf_tomek.fit(X_train_tomek, y_train_tomek)\n",
        "xgb_clf_smote.fit(X_train_smote, y_train_smote)\n",
        "\n",
        "y_pred_xgb_tomek = xgb_clf_tomek.predict(X_valid)\n",
        "y_pred_xgb_smote = xgb_clf_smote.predict(X_valid)"
      ]
    },
    {
      "cell_type": "code",
      "execution_count": 326,
      "metadata": {
        "id": "BChLR6koG9q_",
        "colab": {
          "base_uri": "https://localhost:8080/"
        },
        "outputId": "124feae7-6b8c-4bcb-e1ea-6055af1b2403"
      },
      "outputs": [
        {
          "output_type": "stream",
          "name": "stdout",
          "text": [
            "20000\n"
          ]
        },
        {
          "output_type": "execute_result",
          "data": {
            "text/plain": [
              "array([[0.08771533, 0.9122847 ],\n",
              "       [0.9144142 , 0.08558577],\n",
              "       [0.88150686, 0.11849312],\n",
              "       ...,\n",
              "       [0.8532417 , 0.14675829],\n",
              "       [0.6797697 , 0.3202303 ],\n",
              "       [0.93724656, 0.06275342]], dtype=float32)"
            ]
          },
          "metadata": {},
          "execution_count": 326
        }
      ],
      "source": [
        "# y_valid가 0 또는 1일 확률 출력\n",
        "y_pred_prob_tomek = xgb_clf_tomek.predict_proba(X_valid)\n",
        "\n",
        "print(len(y_pred_prob_tomek))\n",
        "y_pred_prob_tomek"
      ]
    },
    {
      "cell_type": "code",
      "execution_count": 327,
      "metadata": {
        "id": "r2CRychAVqgc",
        "colab": {
          "base_uri": "https://localhost:8080/"
        },
        "outputId": "18a16291-b7b4-4f7a-ce78-e34da79e961c"
      },
      "outputs": [
        {
          "output_type": "stream",
          "name": "stdout",
          "text": [
            "20000\n"
          ]
        },
        {
          "output_type": "execute_result",
          "data": {
            "text/plain": [
              "array([[0.17239588, 0.8276041 ],\n",
              "       [0.8806343 , 0.11936566],\n",
              "       [0.8981278 , 0.10187218],\n",
              "       ...,\n",
              "       [0.83949405, 0.16050594],\n",
              "       [0.62469184, 0.3753082 ],\n",
              "       [0.94074523, 0.05925477]], dtype=float32)"
            ]
          },
          "metadata": {},
          "execution_count": 327
        }
      ],
      "source": [
        "y_pred_prob_smote = xgb_clf_smote.predict_proba(X_valid)\n",
        "\n",
        "print(len(y_pred_prob_smote))\n",
        "y_pred_prob_smote"
      ]
    },
    {
      "cell_type": "code",
      "execution_count": 328,
      "metadata": {
        "id": "P0j21hQ5tNX2",
        "colab": {
          "base_uri": "https://localhost:8080/"
        },
        "outputId": "9ed77ee2-eed9-410b-81f9-258940e9acf4"
      },
      "outputs": [
        {
          "output_type": "execute_result",
          "data": {
            "text/plain": [
              "array([0.8276041 , 0.11936566, 0.10187218, ..., 0.16050594, 0.3753082 ,\n",
              "       0.05925477], dtype=float32)"
            ]
          },
          "metadata": {},
          "execution_count": 328
        }
      ],
      "source": [
        "# y_valid가 1일 확률 출력\n",
        "y_pred_prob_smote[:,1]"
      ]
    },
    {
      "cell_type": "code",
      "execution_count": 329,
      "metadata": {
        "id": "pJWFqpnQWU3W",
        "colab": {
          "base_uri": "https://localhost:8080/"
        },
        "outputId": "e80aeede-6cd4-4489-9671-13bf26c18b03"
      },
      "outputs": [
        {
          "output_type": "execute_result",
          "data": {
            "text/plain": [
              "array([0.9122847 , 0.08558577, 0.11849312, ..., 0.14675829, 0.3202303 ,\n",
              "       0.06275342], dtype=float32)"
            ]
          },
          "metadata": {},
          "execution_count": 329
        }
      ],
      "source": [
        "# y_valid가 1일 확률 출력\n",
        "y_pred_prob_tomek[:,1]"
      ]
    },
    {
      "cell_type": "code",
      "execution_count": 330,
      "metadata": {
        "id": "0sN4rLY5tNX2",
        "colab": {
          "base_uri": "https://localhost:8080/"
        },
        "outputId": "9594d402-504c-4a95-87f8-9727cc00fa13"
      },
      "outputs": [
        {
          "output_type": "stream",
          "name": "stdout",
          "text": [
            "20000\n",
            "20000\n"
          ]
        },
        {
          "output_type": "execute_result",
          "data": {
            "text/plain": [
              "array([1, 0, 0, ..., 0, 0, 0])"
            ]
          },
          "metadata": {},
          "execution_count": 330
        }
      ],
      "source": [
        "# y_valid 예측값 출력\n",
        "# y_pred_prob[:,1]이 0.5(threshold)보다 큰 경우 1의 예측값을 return한다\n",
        "\n",
        "print(len(y_pred_xgb_smote))\n",
        "print(len(y_pred_xgb_tomek))\n",
        "y_pred_xgb_smote"
      ]
    },
    {
      "cell_type": "code",
      "execution_count": 331,
      "metadata": {
        "id": "rOnMetARXpcH",
        "colab": {
          "base_uri": "https://localhost:8080/"
        },
        "outputId": "55191b82-41c3-45e7-a326-f55d41fc65e4"
      },
      "outputs": [
        {
          "output_type": "execute_result",
          "data": {
            "text/plain": [
              "array([1, 0, 0, ..., 0, 0, 0])"
            ]
          },
          "metadata": {},
          "execution_count": 331
        }
      ],
      "source": [
        "y_pred_xgb_tomek"
      ]
    },
    {
      "cell_type": "code",
      "execution_count": 332,
      "metadata": {
        "id": "3RNfnU-RtNX2",
        "colab": {
          "base_uri": "https://localhost:8080/"
        },
        "outputId": "bb50e61e-a52e-4115-fc1d-f39a293dcd9a"
      },
      "outputs": [
        {
          "output_type": "stream",
          "name": "stdout",
          "text": [
            "5201\n",
            "0.26005\n"
          ]
        }
      ],
      "source": [
        "# 1로 예측된 y_valid 갯수 및 비율 출력\n",
        "print(y_pred_xgb_smote.sum())\n",
        "print(y_pred_xgb_smote.sum()/len(y_pred_xgb_smote))"
      ]
    },
    {
      "cell_type": "code",
      "execution_count": 333,
      "metadata": {
        "id": "5GjFqNu6Xxr7",
        "colab": {
          "base_uri": "https://localhost:8080/"
        },
        "outputId": "0a765fa8-e7f0-48aa-8eba-aa8713b4a05e"
      },
      "outputs": [
        {
          "output_type": "stream",
          "name": "stdout",
          "text": [
            "5687\n",
            "0.28435\n"
          ]
        }
      ],
      "source": [
        "# 1로 예측된 y_valid 갯수 및 비율 출력\n",
        "print(y_pred_xgb_tomek.sum())\n",
        "print(y_pred_xgb_tomek.sum()/len(y_pred_xgb_tomek))"
      ]
    },
    {
      "cell_type": "code",
      "execution_count": 334,
      "metadata": {
        "id": "3mIAhdCstNX3"
      },
      "outputs": [],
      "source": [
        "# 평가 함수 정의\n",
        "def get_clf_eval(y_actual, y_pred):\n",
        "    accuracy = accuracy_score(y_actual, y_pred)\n",
        "    precision = precision_score(y_actual, y_pred)\n",
        "    recall = recall_score(y_actual, y_pred)\n",
        "    AUC = roc_auc_score(y_actual, y_pred)\n",
        "    F1 = f1_score(y_actual, y_pred)\n",
        "    print('\\n정확도: {:.4f}'.format(accuracy))\n",
        "    print('정밀도: {:.4f}'.format(precision))\n",
        "    print('재현율: {:.4f}'.format(recall))\n",
        "    print('AUC: {:.4f}'.format(AUC))\n",
        "    print('F1: {:.4f}'.format(F1))\n",
        "    \n",
        "    sns.heatmap(confusion_matrix(y_actual, y_pred), annot=True, fmt='d', cmap='YlGnBu')"
      ]
    },
    {
      "cell_type": "code",
      "execution_count": 335,
      "metadata": {
        "id": "0JYjY0cBtNX3",
        "colab": {
          "base_uri": "https://localhost:8080/",
          "height": 375
        },
        "outputId": "35806f8a-273b-4c57-e68f-5219c2ff85bc"
      },
      "outputs": [
        {
          "output_type": "stream",
          "name": "stdout",
          "text": [
            "\n",
            "정확도: 0.7541\n",
            "정밀도: 0.6558\n",
            "재현율: 0.5217\n",
            "AUC: 0.6944\n",
            "F1: 0.5811\n"
          ]
        },
        {
          "output_type": "display_data",
          "data": {
            "image/png": "[encoded data removed]",
            "text/plain": [
              "<Figure size 432x288 with 2 Axes>"
            ]
          },
          "metadata": {
            "needs_background": "light"
          }
        }
      ],
      "source": [
        "# xgboost 성능 확인\n",
        "get_clf_eval(y_valid, y_pred_xgb_smote)\n",
        "# 정확도: 0.7558\n",
        "# 정밀도: 0.6563\n",
        "# 재현율: 0.5250\n",
        "# AUC: 0.6961\n",
        "# F1: 0.5834"
      ]
    },
    {
      "cell_type": "code",
      "execution_count": 336,
      "metadata": {
        "id": "u1POPBn5X94y",
        "colab": {
          "base_uri": "https://localhost:8080/",
          "height": 375
        },
        "outputId": "4e7c2ae7-8633-42bc-a9f6-be09565e93fb"
      },
      "outputs": [
        {
          "output_type": "stream",
          "name": "stdout",
          "text": [
            "\n",
            "정확도: 0.7554\n",
            "정밀도: 0.6448\n",
            "재현율: 0.5609\n",
            "AUC: 0.7054\n",
            "F1: 0.5999\n"
          ]
        },
        {
          "output_type": "display_data",
          "data": {
            "image/png": "[encoded data removed]",
            "text/plain": [
              "<Figure size 432x288 with 2 Axes>"
            ]
          },
          "metadata": {
            "needs_background": "light"
          }
        }
      ],
      "source": [
        "# xgboost 성능 확인\n",
        "get_clf_eval(y_valid, y_pred_xgb_tomek)\n",
        "\n",
        "# 정확도: 0.7548\n",
        "# 정밀도: 0.6414\n",
        "# 재현율: 0.5602\n",
        "# AUC: 0.7045\n",
        "# F1: 0.5980"
      ]
    },
    {
      "cell_type": "code",
      "execution_count": 337,
      "metadata": {
        "id": "kaLgKgwctNX3",
        "colab": {
          "base_uri": "https://localhost:8080/",
          "height": 375
        },
        "outputId": "f2f46728-8018-41fe-a3a9-28d255b7013f"
      },
      "outputs": [
        {
          "output_type": "stream",
          "name": "stdout",
          "text": [
            "\n",
            "정확도: 0.7493\n",
            "정밀도: 0.6138\n",
            "재현율: 0.6292\n",
            "AUC: 0.7185\n",
            "F1: 0.6214\n"
          ]
        },
        {
          "output_type": "display_data",
          "data": {
            "image/png": "[encoded data removed]",
            "text/plain": [
              "<Figure size 432x288 with 2 Axes>"
            ]
          },
          "metadata": {
            "needs_background": "light"
          }
        }
      ],
      "source": [
        "# threshold 변경 및 성능 확인\n",
        "get_clf_eval(y_valid, y_pred_prob_smote[:,1]>0.41)\n",
        "# 정확도: 0.7497\n",
        "# 정밀도: 0.6113\n",
        "# 재현율: 0.6352\n",
        "# AUC: 0.7201\n",
        "# F1: 0.6231"
      ]
    },
    {
      "cell_type": "code",
      "execution_count": 338,
      "metadata": {
        "id": "iCJWyYhrYNjr",
        "colab": {
          "base_uri": "https://localhost:8080/",
          "height": 375
        },
        "outputId": "ab5c98ff-86a0-43b0-86ad-47f8b7ea200e"
      },
      "outputs": [
        {
          "output_type": "stream",
          "name": "stdout",
          "text": [
            "\n",
            "정확도: 0.7470\n",
            "정밀도: 0.6044\n",
            "재현율: 0.6546\n",
            "AUC: 0.7233\n",
            "F1: 0.6285\n"
          ]
        },
        {
          "output_type": "display_data",
          "data": {
            "image/png": "[encoded data removed]",
            "text/plain": [
              "<Figure size 432x288 with 2 Axes>"
            ]
          },
          "metadata": {
            "needs_background": "light"
          }
        }
      ],
      "source": [
        "# threshold 변경 및 성능 확인\n",
        "get_clf_eval(y_valid, y_pred_prob_tomek[:,1]>0.41)\n",
        "# 정확도: 0.7467\n",
        "# 정밀도: 0.6021\n",
        "# 재현율: 0.6549\n",
        "# AUC: 0.7229\n",
        "# F1: 0.6274"
      ]
    },
    {
      "cell_type": "markdown",
      "metadata": {
        "id": "boCb4z6Uh2TQ"
      },
      "source": [
        "### RandomForest"
      ]
    },
    {
      "cell_type": "code",
      "execution_count": 339,
      "metadata": {
        "id": "IeiHpFIgiAUk"
      },
      "outputs": [],
      "source": [
        "# rnd_clf = RandomForestClassifier()\n",
        "\n",
        "# rnd_clf.fit(X_train, y_train)\n",
        "\n",
        "# y_pred = rnd_clf.predict(X_valid)\n",
        "\n",
        "# get_clf_eval(y_valid, y_pred)\n",
        "\n",
        "# param_grid = {'max_depth':[30, 32], # 10 < 20 < 25, 40, 35 < 30 < 32\n",
        "#               'n_estimators':[300, 350] # 100 < 150 < 200 < 250, 400, 350 < 300\n",
        "#               }\n",
        "\n",
        "\n",
        "# cv=RepeatedStratifiedKFold(n_splits=5, n_repeats=2) #n_repeats=2\n",
        "\n",
        "# grid_search = GridSearchCV(estimator=rnd_clf,\n",
        "#                            param_grid=param_grid, \n",
        "#                            n_jobs=-1,\n",
        "#                            cv=cv,\n",
        "#                            scoring='f1_macro', \n",
        "#                            error_score=0) \n",
        "\n",
        "# results=grid_search.fit(X_train, y_train)\n",
        "\n",
        "# results.best_params_"
      ]
    },
    {
      "cell_type": "code",
      "execution_count": 340,
      "metadata": {
        "id": "S-sXyPBn-pB0"
      },
      "outputs": [],
      "source": [
        "# best parameter를 사용하여 prediction 수행\n",
        "# rnd_clf = RandomForestClassifier(max_depth = results.best_params_['max_depth'],\n",
        "#                                 n_estimators = results.best_params_['n_estimators'],\n",
        "#                                 )\n",
        "\n",
        "# rnd_clf = RandomForestClassifier(max_depth = 32,\n",
        "#                                 n_estimators = 300,\n",
        "#                                 )\n",
        "\n",
        "# rnd_clf.fit(X_train, y_train)"
      ]
    },
    {
      "cell_type": "markdown",
      "metadata": {
        "id": "kW1Mq5ZciBok"
      },
      "source": [
        "###LGBM"
      ]
    },
    {
      "cell_type": "code",
      "execution_count": 341,
      "metadata": {
        "id": "TilEpODliJF-"
      },
      "outputs": [],
      "source": [
        "# lgbm_clf = LGBMClassifier()\n",
        "\n",
        "# # param_grid = {'max_depth':[15], #10, 20 < 15\n",
        "# #               'n_estimators':[400, 450] # 100 < 150 < 200 < 250 < 300, 500, 450 < 400\n",
        "# #               }\n",
        "\n",
        "\n",
        "# cv=RepeatedStratifiedKFold(n_splits=10, n_repeats=3) #n_repeats=2\n",
        "\n",
        "# # lgbm_clf = GridSearchCV(estimator=lgbm_clf,\n",
        "# #                            param_grid=param_grid, \n",
        "# #                            n_jobs=-1,\n",
        "# #                            cv=cv,\n",
        "# #                            scoring='f1_macro', \n",
        "# #                            error_score=0) \n",
        "\n",
        "# n_estimators = [int(x) for x in range(100, 450, 5)]\n",
        "# max_features = ['log2','sqrt']\n",
        "# max_depth = [int(x) for x in range(10, 20)]\n",
        "# min_samples_split = [2, 5, 10]\n",
        "# min_samples_leaf = [1, 2, 4]\n",
        "# bootstrap = [True, False]\n",
        "\n",
        "# random_grid = {'n_estimators': n_estimators,\n",
        "#                'max_features': max_features,\n",
        "#                'max_depth': max_depth,\n",
        "#                'min_samples_split': min_samples_split,\n",
        "#                'min_samples_leaf':min_samples_leaf,\n",
        "#                'bootstrap':bootstrap}\n",
        "\n",
        "# rnd_search = RandomizedSearchCV(estimator=xgb_clf,\n",
        "#                            param_distributions=random_grid,\n",
        "#                            n_iter=50,\n",
        "#                            n_jobs=-1,\n",
        "#                            cv=cv,\n",
        "#                            scoring='f1_macro', \n",
        "#                            verbose=2,\n",
        "#                            error_score=0,\n",
        "#                            random_state=42)\n",
        "\n",
        "# results=rnd_search.fit(X_train, y_train)\n",
        "\n",
        "# results.best_params_"
      ]
    },
    {
      "cell_type": "code",
      "execution_count": 342,
      "metadata": {
        "id": "HLYgU4S5-rSl",
        "colab": {
          "base_uri": "https://localhost:8080/"
        },
        "outputId": "9a184ea1-bede-487a-e9fc-78a7cf6a59b4"
      },
      "outputs": [
        {
          "output_type": "execute_result",
          "data": {
            "text/plain": [
              "LGBMClassifier(max_depth=15, n_estimators=400)"
            ]
          },
          "metadata": {},
          "execution_count": 342
        }
      ],
      "source": [
        "lgbm_clf_tomek = LGBMClassifier(max_depth = 15,\n",
        "                          n_estimators = 400\n",
        "                          )\n",
        "\n",
        "lgbm_clf_smote = LGBMClassifier(max_depth = 15,\n",
        "                          n_estimators = 400\n",
        "                          )\n",
        "\n",
        "# lgbm_clf_tomek = LGBMClassifier(max_depth = results.best_params_['max_depth'],\n",
        "#                                 n_estimators = results.best_params_['n_estimators'],\n",
        "#                                 max_features = results.best_params_['max_features'],\n",
        "#                                 min_samples_split = results.best_params_['min_samples_split'],\n",
        "#                                 min_samples_leaf = results.best_params_['min_samples_leaf'],\n",
        "#                                 bootstrap = results.best_params_['bootstrap']\n",
        "#                           )\n",
        "\n",
        "# lgbm_clf_smote = LGBMClassifier(max_depth = results.best_params_['max_depth'],\n",
        "#                                 n_estimators = results.best_params_['n_estimators'],\n",
        "#                                 max_features = results.best_params_['max_features'],\n",
        "#                                 min_samples_split = results.best_params_['min_samples_split'],\n",
        "#                                 min_samples_leaf = results.best_params_['min_samples_leaf'],\n",
        "#                                 bootstrap = results.best_params_['bootstrap']\n",
        "#                           )\n",
        "\n",
        "lgbm_clf_tomek.fit(X_train_tomek, y_train_tomek)\n",
        "lgbm_clf_smote.fit(X_train_smote, y_train_smote)"
      ]
    },
    {
      "cell_type": "code",
      "execution_count": 343,
      "metadata": {
        "id": "nNoOy3dlY6k5",
        "colab": {
          "base_uri": "https://localhost:8080/",
          "height": 485
        },
        "outputId": "ed24249a-449d-47eb-d94b-8a4976b3694a"
      },
      "outputs": [
        {
          "output_type": "stream",
          "name": "stdout",
          "text": [
            "\n",
            "정확도: 0.7580\n",
            "정밀도: 0.6549\n",
            "재현율: 0.5489\n",
            "AUC: 0.7042\n",
            "F1: 0.5973\n",
            "\n",
            "정확도: 0.7559\n",
            "정밀도: 0.6658\n",
            "재현율: 0.5086\n",
            "AUC: 0.6923\n",
            "F1: 0.5767\n"
          ]
        },
        {
          "output_type": "display_data",
          "data": {
            "image/png": "[encoded data removed]",
            "text/plain": [
              "<Figure size 432x288 with 3 Axes>"
            ]
          },
          "metadata": {
            "needs_background": "light"
          }
        }
      ],
      "source": [
        "y_pred_tomek = lgbm_clf_tomek.predict(X_valid)\n",
        "y_pred_smote = lgbm_clf_smote.predict(X_valid)\n",
        "\n",
        "get_clf_eval(y_valid, y_pred_tomek)\n",
        "get_clf_eval(y_valid, y_pred_smote)\n",
        "\n",
        "# 정확도: 0.7548\n",
        "# 정밀도: 0.6472\n",
        "# 재현율: 0.5433\n",
        "# AUC: 0.7001\n",
        "# F1: 0.5907\n",
        "\n",
        "# 정확도: 0.7574\n",
        "# 정밀도: 0.6654\n",
        "# 재현율: 0.5135\n",
        "# AUC: 0.6944\n",
        "# F1: 0.5797"
      ]
    },
    {
      "cell_type": "code",
      "execution_count": 344,
      "metadata": {
        "id": "0hJOUXyjZMh1",
        "colab": {
          "base_uri": "https://localhost:8080/",
          "height": 485
        },
        "outputId": "fce6caa8-8f3c-4b76-e88d-0aaa542564f1"
      },
      "outputs": [
        {
          "output_type": "stream",
          "name": "stdout",
          "text": [
            "\n",
            "정확도: 0.7500\n",
            "정밀도: 0.6097\n",
            "재현율: 0.6540\n",
            "AUC: 0.7254\n",
            "F1: 0.6311\n",
            "\n",
            "정확도: 0.7540\n",
            "정밀도: 0.6221\n",
            "재현율: 0.6306\n",
            "AUC: 0.7223\n",
            "F1: 0.6263\n"
          ]
        },
        {
          "output_type": "display_data",
          "data": {
            "image/png": "[encoded data removed]",
            "text/plain": [
              "<Figure size 432x288 with 3 Axes>"
            ]
          },
          "metadata": {
            "needs_background": "light"
          }
        }
      ],
      "source": [
        "y_pred_prob_tomek = lgbm_clf_tomek.predict_proba(X_valid)\n",
        "y_pred_prob_smote = lgbm_clf_smote.predict_proba(X_valid)\n",
        "\n",
        "get_clf_eval(y_valid, y_pred_prob_tomek[:,1] > 0.41)\n",
        "get_clf_eval(y_valid, y_pred_prob_smote[:,1] > 0.41)\n",
        "\n",
        "\n",
        "# 정확도: 0.7476\n",
        "# 정밀도: 0.6058\n",
        "# 재현율: 0.6443\n",
        "# AUC: 0.7209\n",
        "# F1: 0.6245\n",
        "\n",
        "# 정확도: 0.7504\n",
        "# 정밀도: 0.6131\n",
        "# 재현율: 0.6334\n",
        "# AUC: 0.7202\n",
        "# F1: 0.6231"
      ]
    },
    {
      "cell_type": "markdown",
      "metadata": {
        "id": "-0GmMJ3stNX4"
      },
      "source": [
        "# Ensemble(Voting)"
      ]
    },
    {
      "cell_type": "code",
      "execution_count": 345,
      "metadata": {
        "id": "h7gnZcNntNX4"
      },
      "outputs": [],
      "source": [
        "# rnd_clf = RandomForestClassifier()\n",
        "# lgbm_clf = LGBMClassifier()\n",
        "# rid_clf = RidgeClassifier()\n",
        "# dtc_clf = DecisionTreeClassifier()\n",
        "# svm_clf = SVC()\n",
        "# ada_clf = AdaBoostClassifier()\n",
        "# gbc_clf = GradientBoostingClassifier()\n",
        "# bag_clf = BaggingClassifier()\n",
        "# ext_clf = ExtraTreesClassifier()\n",
        "# knn_clf = KNeighborsClassifier()\n",
        "# svc_clf = SVC()\n",
        "\n",
        "# voting_clf = VotingClassifier(estimators=[('rnd', rnd_clf), ('lgbm', lgbm_clf), ('xgb', xgb_clf)], voting='soft')"
      ]
    },
    {
      "cell_type": "code",
      "execution_count": 346,
      "metadata": {
        "id": "nCnVIn1ktNX4"
      },
      "outputs": [],
      "source": [
        "# for clf in (rnd_clf, lgbm_clf, xgb_clf, voting_clf):\n",
        "#     clf.fit(X_train, y_train)\n",
        "#     y_pred_vote = clf.predict(X_valid)\n",
        "\n",
        "# # ensemble(voting) 성능 확인\n",
        "# get_clf_eval(y_valid, y_pred_vote)"
      ]
    },
    {
      "cell_type": "markdown",
      "metadata": {
        "id": "k8spNdkMtNX4"
      },
      "source": [
        "# Ensemble(Stacking)"
      ]
    },
    {
      "cell_type": "code",
      "execution_count": 347,
      "metadata": {
        "id": "VQsGhnt2tNX5",
        "colab": {
          "base_uri": "https://localhost:8080/"
        },
        "outputId": "0372ed71-5193-4827-cea1-ad34b8077855"
      },
      "outputs": [
        {
          "output_type": "execute_result",
          "data": {
            "text/plain": [
              "StackingClassifier(estimators=[('lgbm1',\n",
              "                                LGBMClassifier(max_depth=15, n_estimators=400)),\n",
              "                               ('lgbm2',\n",
              "                                LGBMClassifier(max_depth=15, n_estimators=400)),\n",
              "                               ('xgb1',\n",
              "                                XGBClassifier(max_depth=10, n_estimators=400)),\n",
              "                               ('xgb2',\n",
              "                                XGBClassifier(max_depth=10, n_estimators=400))],\n",
              "                   final_estimator=LGBMClassifier())"
            ]
          },
          "metadata": {},
          "execution_count": 347
        }
      ],
      "source": [
        "stacking_clf = StackingClassifier(estimators=[('lgbm1', lgbm_clf_tomek), ('lgbm2', lgbm_clf_smote), ('xgb1', xgb_clf_tomek), ('xgb2', xgb_clf_smote)], final_estimator = LGBMClassifier())\n",
        "stacking_clf.fit(X_train, y_train)"
      ]
    },
    {
      "cell_type": "code",
      "execution_count": 348,
      "metadata": {
        "id": "SiKxptFRga95",
        "colab": {
          "base_uri": "https://localhost:8080/"
        },
        "outputId": "bdc021c2-45ef-4b26-dde8-99ff91e0aa64"
      },
      "outputs": [
        {
          "output_type": "execute_result",
          "data": {
            "text/plain": [
              "array([[0.17951706, 0.82048294],\n",
              "       [0.90723456, 0.09276544],\n",
              "       [0.89359641, 0.10640359],\n",
              "       ...,\n",
              "       [0.74059189, 0.25940811],\n",
              "       [0.6376372 , 0.3623628 ],\n",
              "       [0.94727469, 0.05272531]])"
            ]
          },
          "metadata": {},
          "execution_count": 348
        }
      ],
      "source": [
        "y_pred_stack = stacking_clf.predict_proba(X_valid)\n",
        "y_pred_stack"
      ]
    },
    {
      "cell_type": "code",
      "execution_count": 349,
      "metadata": {
        "id": "SmnCEDaagnqz",
        "colab": {
          "base_uri": "https://localhost:8080/",
          "height": 375
        },
        "outputId": "12ccc5aa-712c-4113-c90b-afdabf8bc746"
      },
      "outputs": [
        {
          "output_type": "stream",
          "name": "stdout",
          "text": [
            "\n",
            "정확도: 0.7530\n",
            "정밀도: 0.6157\n",
            "재현율: 0.6502\n",
            "AUC: 0.7266\n",
            "F1: 0.6325\n"
          ]
        },
        {
          "output_type": "display_data",
          "data": {
            "image/png": "[encoded data removed]",
            "text/plain": [
              "<Figure size 432x288 with 2 Axes>"
            ]
          },
          "metadata": {
            "needs_background": "light"
          }
        }
      ],
      "source": [
        "y_pred_stack = y_pred_stack[:,1] > 0.41\n",
        "# ensemble(stacking) 성능 확인\n",
        "get_clf_eval(y_valid, y_pred_stack)\n",
        "#정확도: 0.7564, F1: 0.6095 -> random forest, lgbm, xgb\n",
        "#정확도: 0.7550, F1: 0.6074 -> lgbm, xgb\n",
        "#정확도: 0.7511, F1: 0.6058 -> rnd, lgbm, xgb 파라미터 튜닝\n",
        "#정확도: 0.7337, F1: 0.6357 -> rnd, lgbm, xgb threshold 0.4 적용 -> 실제 테스트에서 점수 낮아짐\n",
        "#정확도: 0.7548, F1: 0.6216 -> rnd, lgbm, xgb\n",
        "#정확도: 0.7322 정밀도: 0.5695 재현율: 0.7042 AUC: 0.7249 F1: 0.6297 -> smote, tomek로 각각 lgbm, xgb 총 4개 모델 stack으로 학습 후 threshold 0.38일 경우\n",
        "# smote만 학습한 lgbm, xgb 모델로 데이터도 smote 적용된 데이터셋으로 다시 학습했더니 성능 저하\n",
        "\n",
        "# 정확도: 0.7477 정밀도: 0.6005 재현율: 0.6591 AUC: 0.7246 F1: 0.6284 -> 동일 조건에 데이터 합쳤을 경우 테스트에서도 0.713으로 떨어짐\n",
        "# 정확도: 0.7407 정밀도: 0.5849 재현율: 0.6927 AUC: 0.7282 F1: 0.6343 -> StandardScaler로 변경 성능 저하\n",
        "# 정확도: 0.7431 정밀도: 0.5934 재현율: 0.6863 AUC: 0.7285 F1: 0.6345 -> 0.7198775585 threshold 0.41일때가 가장 높음\n",
        "\n",
        "# 정확도: 0.7471\n",
        "# 정밀도: 0.6010\n",
        "# 재현율: 0.6655\n",
        "# AUC: 0.7260\n",
        "# F1: 0.6316"
      ]
    },
    {
      "cell_type": "markdown",
      "metadata": {
        "id": "8RWI78FKtNX5"
      },
      "source": [
        "# Submission"
      ]
    },
    {
      "cell_type": "code",
      "execution_count": 350,
      "metadata": {
        "id": "8pTC3C6xtNX5"
      },
      "outputs": [],
      "source": [
        "# 제출 양식 다운로드\n",
        "submit = pd.read_csv('/content/drive/MyDrive/Colab Notebooks/220126//data/sample_submission.csv')\n",
        "\n",
        "# prediction 수행\n",
        "df_test = pd.read_csv('/content/drive/MyDrive/Colab Notebooks/220126//data/test.csv')\n",
        "\n",
        "df_test = df_test.drop(columns=['ID'])\n"
      ]
    },
    {
      "cell_type": "markdown",
      "metadata": {
        "id": "5dBTvbZ0AlcO"
      },
      "source": [
        "### 컬럼 합쳐주기"
      ]
    },
    {
      "cell_type": "code",
      "execution_count": 351,
      "metadata": {
        "id": "xRPjaBXkAlcP"
      },
      "outputs": [],
      "source": [
        "df_test['emp_length'] = 0\n",
        "\n",
        "for i, column in enumerate(df_test.loc[:,'emp_length1':'emp_length12'].columns,1):\n",
        "    for j, data in enumerate(df_test[column]):\n",
        "        if data == 1:\n",
        "            df_test['emp_length'][j] = i\n",
        "\n",
        "df_test = df_test.drop(df_test.loc[:,'emp_length1':'emp_length12'].columns, axis=1)"
      ]
    },
    {
      "cell_type": "code",
      "execution_count": 352,
      "metadata": {
        "id": "BuuuJ9ZVAlcP"
      },
      "outputs": [],
      "source": [
        "df_test['home_ownership'] = 0\n",
        "\n",
        "for i, column in enumerate(df_test.loc[:,'home_ownership1':'home_ownership6'].columns,1):\n",
        "    for j, data in enumerate(df_test[column]):\n",
        "        if data == 1:\n",
        "            df_test['home_ownership'][j] = i\n",
        "\n",
        "df_test = df_test.drop(df_test.loc[:,'home_ownership1':'home_ownership6'].columns, axis=1)"
      ]
    },
    {
      "cell_type": "code",
      "execution_count": 353,
      "metadata": {
        "id": "dpbHNeEqAlcP"
      },
      "outputs": [],
      "source": [
        "df_test['verification_status'] = 0\n",
        "\n",
        "for i, column in enumerate(df_test.loc[:,'verification_status1':'verification_status3'].columns,1):\n",
        "    for j, data in enumerate(df_test[column]):\n",
        "        if data == 1:\n",
        "            df_test['verification_status'][j] = i\n",
        "\n",
        "df_test = df_test.drop(df_test.loc[:,'verification_status1':'verification_status3'].columns, axis=1)"
      ]
    },
    {
      "cell_type": "code",
      "execution_count": 354,
      "metadata": {
        "id": "BZUWVrryAlcQ"
      },
      "outputs": [],
      "source": [
        "df_test['purpose'] = 0\n",
        "\n",
        "for i, column in enumerate(df_test.loc[:,'purpose1':'purpose14'].columns,1):\n",
        "    for j, data in enumerate(df_test[column]):\n",
        "        if data == 1:\n",
        "            df_test['purpose'][j] = i\n",
        "\n",
        "df_test = df_test.drop(df_test.loc[:,'purpose1':'purpose14'].columns, axis=1)"
      ]
    },
    {
      "cell_type": "code",
      "execution_count": 355,
      "metadata": {
        "id": "WbY_PzdTAlcQ"
      },
      "outputs": [],
      "source": [
        "df_test['initial_list_status'] = 0\n",
        "\n",
        "for i, column in enumerate(df_test.loc[:,'initial_list_status1':'initial_list_status2'].columns,1):\n",
        "    for j, data in enumerate(df_test[column]):\n",
        "        if data == 1:\n",
        "            df_test['initial_list_status'][j] = i\n",
        "\n",
        "df_test = df_test.drop(df_test.loc[:,'initial_list_status1':'initial_list_status2'].columns, axis=1)"
      ]
    },
    {
      "cell_type": "code",
      "execution_count": 356,
      "metadata": {
        "id": "vrSK0-_MAlcQ"
      },
      "outputs": [],
      "source": [
        "df_test['mths_since_last_delinq'] = 0\n",
        "\n",
        "for i, column in enumerate(df_test.loc[:,'mths_since_last_delinq1':'mths_since_last_delinq11'].columns,1):\n",
        "    for j, data in enumerate(df_test[column]):\n",
        "        if data == 1:\n",
        "            df_test['mths_since_last_delinq'][j] = i\n",
        "\n",
        "df_test = df_test.drop(df_test.loc[:,'mths_since_last_delinq1':'mths_since_last_delinq11'].columns, axis=1)"
      ]
    },
    {
      "cell_type": "code",
      "execution_count": 357,
      "metadata": {
        "id": "zJAXMlpAJNBh"
      },
      "outputs": [],
      "source": [
        "df_test = df_test.drop(['out_prncp_inv','funded_amnt_inv','fico_range_high','funded_amnt'],axis=1)"
      ]
    },
    {
      "cell_type": "markdown",
      "metadata": {
        "id": "gR1qrKRSBCCS"
      },
      "source": [
        "### 스케일링 및 학습"
      ]
    },
    {
      "cell_type": "code",
      "execution_count": 358,
      "metadata": {
        "id": "LFkFOIGrBFNh",
        "colab": {
          "base_uri": "https://localhost:8080/"
        },
        "outputId": "e3139e61-6d5e-4aee-b0cb-c4e7c8ea2022"
      },
      "outputs": [
        {
          "output_type": "execute_result",
          "data": {
            "text/plain": [
              "array([[0.30305257, 0.69694743],\n",
              "       [0.27162902, 0.72837098],\n",
              "       [0.17112938, 0.82887062],\n",
              "       ...,\n",
              "       [0.94876529, 0.05123471],\n",
              "       [0.83667148, 0.16332852],\n",
              "       [0.97483805, 0.02516195]])"
            ]
          },
          "metadata": {},
          "execution_count": 358
        }
      ],
      "source": [
        "df_test_scaled = sc.transform(df_test)\n",
        "df_test = pd.DataFrame(df_test_scaled, index=df_test.index, columns=df_test.columns)\n",
        "\n",
        "y_predict_test = stacking_clf.predict_proba(df_test)\n",
        "y_predict_test"
      ]
    },
    {
      "cell_type": "markdown",
      "metadata": {
        "id": "j0YWf0xQA5OZ"
      },
      "source": [
        "### 결과\n",
        "\n"
      ]
    },
    {
      "cell_type": "code",
      "execution_count": 359,
      "metadata": {
        "id": "cAPdICLvmPiv",
        "colab": {
          "base_uri": "https://localhost:8080/"
        },
        "outputId": "16b9015a-3c49-4418-ec42-97356c8153bb"
      },
      "outputs": [
        {
          "output_type": "execute_result",
          "data": {
            "text/plain": [
              "(35816, 2)"
            ]
          },
          "metadata": {},
          "execution_count": 359
        }
      ],
      "source": [
        "y_predict_test.shape"
      ]
    },
    {
      "cell_type": "code",
      "execution_count": 360,
      "metadata": {
        "id": "2YJmFRzBmWaQ",
        "colab": {
          "base_uri": "https://localhost:8080/"
        },
        "outputId": "375a814a-ec7a-408b-f840-ba9ae352bcd6"
      },
      "outputs": [
        {
          "output_type": "execute_result",
          "data": {
            "text/plain": [
              "array([ True,  True,  True, ..., False, False, False])"
            ]
          },
          "metadata": {},
          "execution_count": 360
        }
      ],
      "source": [
        "y_predict_test[:,1] > 0.41"
      ]
    },
    {
      "cell_type": "code",
      "execution_count": 361,
      "metadata": {
        "id": "sNyH4kyklEgv",
        "colab": {
          "base_uri": "https://localhost:8080/"
        },
        "outputId": "1d34a028-c3a2-42e3-9029-5ed2a71c4214"
      },
      "outputs": [
        {
          "output_type": "execute_result",
          "data": {
            "text/plain": [
              "0.35054165735983916"
            ]
          },
          "metadata": {},
          "execution_count": 361
        }
      ],
      "source": [
        "submit['answer'] = (y_predict_test[:,1] > 0.41).astype(int)\n",
        "\n",
        "sum(submit['answer'])/len(submit['answer'])"
      ]
    },
    {
      "cell_type": "code",
      "execution_count": 362,
      "metadata": {
        "id": "vrsqWR4MmYnD"
      },
      "outputs": [],
      "source": [
        "# 제출 파일 저장\n",
        "submit.to_csv('/content/drive/MyDrive/Colab Notebooks/220126//data/prediction.csv', index=False)"
      ]
    },
    {
      "cell_type": "code",
      "execution_count": 362,
      "metadata": {
        "id": "gCsdaIgE3UEg"
      },
      "outputs": [],
      "source": [
        ""
      ]
    }
  ],
  "metadata": {
    "accelerator": "GPU",
    "colab": {
      "collapsed_sections": [],
      "name": "tabular_bankrupt.ipynb",
      "provenance": []
    },
    "kernelspec": {
      "display_name": "Python 3 (ipykernel)",
      "language": "python",
      "name": "python3"
    },
    "language_info": {
      "codemirror_mode": {
        "name": "ipython",
        "version": 3
      },
      "file_extension": ".py",
      "mimetype": "text/x-python",
      "name": "python",
      "nbconvert_exporter": "python",
      "pygments_lexer": "ipython3",
      "version": "3.8.5"
    }
  },
  "nbformat": 4,
  "nbformat_minor": 0
}